{
 "cells": [
  {
   "cell_type": "code",
   "execution_count": 1,
   "id": "8a28dd43",
   "metadata": {},
   "outputs": [],
   "source": [
    "import pandas as pd\n",
    "import numpy as np\n",
    "import os\n",
    "import statsmodels.api as sm\n",
    "import matplotlib.pyplot as plt\n",
    "from sklearn.preprocessing import PolynomialFeatures\n",
    "from sklearn.linear_model import LinearRegression\n",
    "from sklearn.pipeline import Pipeline\n",
    "from natsort import natsorted\n",
    "from scipy.stats import pearsonr\n",
    "import seaborn as sns\n",
    "import matplotlib.cm as cm\n",
    "from pygam import LinearGAM, s, f\n",
    "import statsmodels.api as sm\n",
    "from scipy import stats\n",
    "import random\n",
    "sns.set(font_scale=1.5, style=\"white\")\n",
    "random.seed(10)"
   ]
  },
  {
   "cell_type": "code",
   "execution_count": 2,
   "id": "647148a7",
   "metadata": {},
   "outputs": [],
   "source": [
    "df = pd.read_csv('../../Dataset/childhood/rna/brodmann_schaefer_0.5.csv')\n",
    "df_copy = df.iloc[:200, 2:]\n",
    "df.iloc[:200, 2:] = df.iloc[:200, 2:].values + df.iloc[200:, 2:].values\n",
    "df.iloc[200:, 2:] = df_copy.values + df.iloc[200:, 2:].values"
   ]
  },
  {
   "cell_type": "code",
   "execution_count": 3,
   "id": "168d1368",
   "metadata": {},
   "outputs": [],
   "source": [
    "regionname = pd.read_csv('../../Dataset/childhood/atlas/schaefer400_regions.csv')\n",
    "sarank = pd.read_csv('../../Dataset/childhood/saaxis/Sensorimotor_Association_Axis_AverageRanks.csv')\n",
    "sarank = pd.concat([regionname.reset_index(drop=True), sarank.reset_index(drop=True)],axis=1)\n",
    "sarank = sarank.loc[:, ['name', 'finalrank.wholebrain']]"
   ]
  },
  {
   "cell_type": "code",
   "execution_count": 4,
   "id": "08db698d",
   "metadata": {},
   "outputs": [],
   "source": [
    "adults = [ '18 yrs', '19 yrs', '21 yrs','23 yrs']\n",
    "cbpd_wide = ['4 yrs', '8 yrs', '11 yrs','13 yrs']"
   ]
  },
  {
   "cell_type": "code",
   "execution_count": 5,
   "id": "3d2f0a95",
   "metadata": {},
   "outputs": [],
   "source": [
    "brodregion = pd.read_csv('../../Dataset/childhood/rna/brodmann.csv')\n",
    "saorder = pd.DataFrame([np.arange(11), ['Visual', 'Auditory', 'Sensory', 'Motor', 'IPC', 'STC', 'vPFC', 'dPFC', 'OFC', 'TEv', 'ACC']]).T\n",
    "saorder.columns = ['sa', 'group']\n",
    "#pd.merge(brodregion.iloc[:, :2], saorder, on='group', how='left').to_csv('../../Dataset/rna/brodmann.csv', index=False)"
   ]
  },
  {
   "cell_type": "code",
   "execution_count": 6,
   "id": "3291172e",
   "metadata": {},
   "outputs": [],
   "source": [
    "child_original = pd.read_csv('../../Derivatives/childhood/original_motion_1mm.csv')\n",
    "adult_original = pd.read_csv('../../Derivatives/adult/original.csv')"
   ]
  },
  {
   "cell_type": "code",
   "execution_count": 7,
   "id": "a3e217a6",
   "metadata": {},
   "outputs": [
    {
     "name": "stdout",
     "output_type": "stream",
     "text": [
      "['BA1_3', 'BA2', 'BA20', 'BA21', 'BA22', 'BA23', 'BA24', 'BA25', 'BA26_29_30', 'BA27', 'BA28']\n",
      "['BA41_42_52']\n",
      "['BA4', 'BA40', 'BA41_42_52', 'BA43', 'BA44', 'BA45', 'BA46', 'BA47']\n",
      "['BA17']\n",
      "['BA44', 'BA45']\n",
      "['BA8', 'BA9', 'BA46']\n",
      "['BA11', 'BA13']\n",
      "['BA20']\n",
      "['BA24', 'BA25', 'BA32']\n",
      "['BA22']\n",
      "['BA39', 'BA40']\n"
     ]
    }
   ],
   "source": [
    "Visual = [x for x in df.columns if 'BA17' in x]\n",
    "Auditory = [x for x in df.columns if 'BA41' in x]\n",
    "Sensory =  [x for x in df.columns if 'BA1_3' in x] + [x for x in df.columns if 'BA2' in x] # [x for x in sarank.name.values if 'S2' in x] +\n",
    "Motor = [x for x in df.columns if 'BA4' in x]\n",
    "vPFC = [x for x in df.columns if 'BA44' in x] +  [x for x in df.columns if 'BA45' in x]\n",
    "dPFC = [x for x in df.columns if 'BA8' in x] + [x for x in df.columns if 'BA9' in x] + [x for x in df.columns if 'BA46' in x]\n",
    "OFC = [x for x in df.columns if 'BA11' in x] + [x for x in df.columns if 'BA12' in x]+ [x for x in df.columns if 'BA13' in x]  + [x for x in df.columns if 'BA14_' in x]\n",
    "TEv = [x for x in df.columns if 'BA20' in x]\n",
    "ACC = [x for x in df.columns if 'BA24' in x] + [x for x in df.columns if 'BA25' in x] + [x for x in df.columns if 'BA32' in x]\n",
    "STC = [x for x in df.columns if 'BA22' in x]\n",
    "IPC = [x for x in df.columns if 'BA39' in x] +  [x for x in df.columns if 'BA40' in x]\n",
    "child_regions = []\n",
    "adult_regions = []\n",
    "sas = []\n",
    "for x in [Sensory, Auditory, Motor, Visual, vPFC, dPFC, OFC, TEv, ACC, STC, IPC]:\n",
    "    print(x)\n",
    "    roi  = df.loc[:, x].sum(axis=1)>0\n",
    "    #if x == ['BA41_42_52']:\n",
    "    #    roi[44] = True\n",
    "    child_original['roi']=roi\n",
    "    adult_original['roi']=roi\n",
    "    child_regions.append(child_original[child_original.roi==True].mean()['H'])\n",
    "    adult_regions.append(adult_original[adult_original.roi==True].mean()['H'])\n",
    "    sas.append(child_original[child_original.roi==True].mean()['SArank'])"
   ]
  },
  {
   "cell_type": "code",
   "execution_count": 8,
   "id": "6c1df2ba",
   "metadata": {},
   "outputs": [],
   "source": [
    "child = pd.DataFrame([['Sensory', 'Auditory', 'Motor', 'Visual', 'vPFC', 'dPFC', 'OFC', 'TEv', 'ACC', 'STC', 'IPC'], child_regions, sas]).T.sort_values(2).reset_index(drop=True)\n",
    "child.columns = ['region', 'H', 'sa']\n",
    "adult = pd.DataFrame([['Sensory', 'Auditory', 'Motor', 'Visual', 'vPFC', 'dPFC', 'OFC', 'TEv', 'ACC', 'STC', 'IPC'], adult_regions, sas]).T.sort_values(2).reset_index(drop=True)\n",
    "adult.columns = ['region', 'H', 'sa']"
   ]
  },
  {
   "cell_type": "code",
   "execution_count": 9,
   "id": "fe467055",
   "metadata": {},
   "outputs": [],
   "source": [
    "gene_columns = pd.read_csv('all_genes.csv')"
   ]
  },
  {
   "cell_type": "code",
   "execution_count": 10,
   "id": "b9e4261f",
   "metadata": {},
   "outputs": [],
   "source": [
    "stronger = pd.read_csv('combine.csv')"
   ]
  },
  {
   "cell_type": "code",
   "execution_count": 11,
   "id": "3b8c90f7",
   "metadata": {},
   "outputs": [
    {
     "name": "stderr",
     "output_type": "stream",
     "text": [
      "<ipython-input-11-606ac5a4f57f>:1: UserWarning: Boolean Series key will be reindexed to match DataFrame index.\n",
      "  stronger[stronger.rsquare_x>0.425789][stronger.rsquare_y>0.359704]\n"
     ]
    },
    {
     "data": {
      "text/html": [
       "<div>\n",
       "<style scoped>\n",
       "    .dataframe tbody tr th:only-of-type {\n",
       "        vertical-align: middle;\n",
       "    }\n",
       "\n",
       "    .dataframe tbody tr th {\n",
       "        vertical-align: top;\n",
       "    }\n",
       "\n",
       "    .dataframe thead th {\n",
       "        text-align: right;\n",
       "    }\n",
       "</style>\n",
       "<table border=\"1\" class=\"dataframe\">\n",
       "  <thead>\n",
       "    <tr style=\"text-align: right;\">\n",
       "      <th></th>\n",
       "      <th>gene</th>\n",
       "      <th>coef_x</th>\n",
       "      <th>pvalue_x</th>\n",
       "      <th>rsquare_x</th>\n",
       "      <th>coef_y</th>\n",
       "      <th>pvalue_y</th>\n",
       "      <th>rsquare_y</th>\n",
       "    </tr>\n",
       "  </thead>\n",
       "  <tbody>\n",
       "    <tr>\n",
       "      <th>4</th>\n",
       "      <td>FNDC4</td>\n",
       "      <td>0.113561</td>\n",
       "      <td>0.007160</td>\n",
       "      <td>0.523183</td>\n",
       "      <td>0.070392</td>\n",
       "      <td>0.006957</td>\n",
       "      <td>0.526032</td>\n",
       "    </tr>\n",
       "    <tr>\n",
       "      <th>8</th>\n",
       "      <td>PIM3</td>\n",
       "      <td>0.174791</td>\n",
       "      <td>0.008777</td>\n",
       "      <td>0.502473</td>\n",
       "      <td>0.074760</td>\n",
       "      <td>0.001684</td>\n",
       "      <td>0.649009</td>\n",
       "    </tr>\n",
       "    <tr>\n",
       "      <th>9</th>\n",
       "      <td>F10</td>\n",
       "      <td>0.218763</td>\n",
       "      <td>0.008881</td>\n",
       "      <td>0.501253</td>\n",
       "      <td>0.105948</td>\n",
       "      <td>0.008142</td>\n",
       "      <td>0.510202</td>\n",
       "    </tr>\n",
       "    <tr>\n",
       "      <th>12</th>\n",
       "      <td>SNX21</td>\n",
       "      <td>0.249518</td>\n",
       "      <td>0.010308</td>\n",
       "      <td>0.485563</td>\n",
       "      <td>0.107217</td>\n",
       "      <td>0.017448</td>\n",
       "      <td>0.426604</td>\n",
       "    </tr>\n",
       "    <tr>\n",
       "      <th>13</th>\n",
       "      <td>UBE2QL1</td>\n",
       "      <td>0.139778</td>\n",
       "      <td>0.012674</td>\n",
       "      <td>0.463075</td>\n",
       "      <td>0.068132</td>\n",
       "      <td>0.028627</td>\n",
       "      <td>0.365977</td>\n",
       "    </tr>\n",
       "    <tr>\n",
       "      <th>14</th>\n",
       "      <td>SEZ6L2</td>\n",
       "      <td>0.136026</td>\n",
       "      <td>0.012772</td>\n",
       "      <td>0.462225</td>\n",
       "      <td>0.035201</td>\n",
       "      <td>0.018522</td>\n",
       "      <td>0.419558</td>\n",
       "    </tr>\n",
       "    <tr>\n",
       "      <th>15</th>\n",
       "      <td>RXRB</td>\n",
       "      <td>0.227460</td>\n",
       "      <td>0.014257</td>\n",
       "      <td>0.449888</td>\n",
       "      <td>0.111058</td>\n",
       "      <td>0.002531</td>\n",
       "      <td>0.617136</td>\n",
       "    </tr>\n",
       "    <tr>\n",
       "      <th>16</th>\n",
       "      <td>IL32</td>\n",
       "      <td>0.263702</td>\n",
       "      <td>0.016033</td>\n",
       "      <td>0.436456</td>\n",
       "      <td>0.082932</td>\n",
       "      <td>0.029165</td>\n",
       "      <td>0.363598</td>\n",
       "    </tr>\n",
       "    <tr>\n",
       "      <th>17</th>\n",
       "      <td>PVALB</td>\n",
       "      <td>0.024710</td>\n",
       "      <td>0.017570</td>\n",
       "      <td>0.425789</td>\n",
       "      <td>0.018409</td>\n",
       "      <td>0.030064</td>\n",
       "      <td>0.359704</td>\n",
       "    </tr>\n",
       "  </tbody>\n",
       "</table>\n",
       "</div>"
      ],
      "text/plain": [
       "       gene    coef_x  pvalue_x  rsquare_x    coef_y  pvalue_y  rsquare_y\n",
       "4     FNDC4  0.113561  0.007160   0.523183  0.070392  0.006957   0.526032\n",
       "8      PIM3  0.174791  0.008777   0.502473  0.074760  0.001684   0.649009\n",
       "9       F10  0.218763  0.008881   0.501253  0.105948  0.008142   0.510202\n",
       "12    SNX21  0.249518  0.010308   0.485563  0.107217  0.017448   0.426604\n",
       "13  UBE2QL1  0.139778  0.012674   0.463075  0.068132  0.028627   0.365977\n",
       "14   SEZ6L2  0.136026  0.012772   0.462225  0.035201  0.018522   0.419558\n",
       "15     RXRB  0.227460  0.014257   0.449888  0.111058  0.002531   0.617136\n",
       "16     IL32  0.263702  0.016033   0.436456  0.082932  0.029165   0.363598\n",
       "17    PVALB  0.024710  0.017570   0.425789  0.018409  0.030064   0.359704"
      ]
     },
     "execution_count": 11,
     "metadata": {},
     "output_type": "execute_result"
    }
   ],
   "source": [
    "stronger[stronger.rsquare_x>0.425789][stronger.rsquare_y>0.359704]"
   ]
  },
  {
   "cell_type": "code",
   "execution_count": 12,
   "id": "bae0df34",
   "metadata": {},
   "outputs": [],
   "source": [
    "selected = gene_columns.loc[:, list(stronger.gene.values)+['sa', 'donor_id', 'age']]"
   ]
  },
  {
   "cell_type": "code",
   "execution_count": 13,
   "id": "acbac007",
   "metadata": {},
   "outputs": [
    {
     "name": "stdout",
     "output_type": "stream",
     "text": [
      "0\n",
      "7\n"
     ]
    },
    {
     "name": "stderr",
     "output_type": "stream",
     "text": [
      "<ipython-input-13-fc7ab27f773a>:52: UserWarning: Boolean Series key will be reindexed to match DataFrame index.\n",
      "  alls.append(df_combine[df_combine.rsquare_x>PV_adult][df_combine.rsquare_y>PV_child].shape[0])\n",
      "<ipython-input-13-fc7ab27f773a>:53: UserWarning: Boolean Series key will be reindexed to match DataFrame index.\n",
      "  print(df_combine[df_combine.rsquare_x>PV_adult][df_combine.rsquare_y>PV_child].shape[0])\n",
      "<ipython-input-13-fc7ab27f773a>:52: UserWarning: Boolean Series key will be reindexed to match DataFrame index.\n",
      "  alls.append(df_combine[df_combine.rsquare_x>PV_adult][df_combine.rsquare_y>PV_child].shape[0])\n",
      "<ipython-input-13-fc7ab27f773a>:53: UserWarning: Boolean Series key will be reindexed to match DataFrame index.\n",
      "  print(df_combine[df_combine.rsquare_x>PV_adult][df_combine.rsquare_y>PV_child].shape[0])\n",
      "<ipython-input-13-fc7ab27f773a>:52: UserWarning: Boolean Series key will be reindexed to match DataFrame index.\n",
      "  alls.append(df_combine[df_combine.rsquare_x>PV_adult][df_combine.rsquare_y>PV_child].shape[0])\n",
      "<ipython-input-13-fc7ab27f773a>:53: UserWarning: Boolean Series key will be reindexed to match DataFrame index.\n",
      "  print(df_combine[df_combine.rsquare_x>PV_adult][df_combine.rsquare_y>PV_child].shape[0])\n"
     ]
    },
    {
     "name": "stdout",
     "output_type": "stream",
     "text": [
      "34\n",
      "10\n",
      "3\n"
     ]
    },
    {
     "name": "stderr",
     "output_type": "stream",
     "text": [
      "<ipython-input-13-fc7ab27f773a>:52: UserWarning: Boolean Series key will be reindexed to match DataFrame index.\n",
      "  alls.append(df_combine[df_combine.rsquare_x>PV_adult][df_combine.rsquare_y>PV_child].shape[0])\n",
      "<ipython-input-13-fc7ab27f773a>:53: UserWarning: Boolean Series key will be reindexed to match DataFrame index.\n",
      "  print(df_combine[df_combine.rsquare_x>PV_adult][df_combine.rsquare_y>PV_child].shape[0])\n",
      "<ipython-input-13-fc7ab27f773a>:52: UserWarning: Boolean Series key will be reindexed to match DataFrame index.\n",
      "  alls.append(df_combine[df_combine.rsquare_x>PV_adult][df_combine.rsquare_y>PV_child].shape[0])\n",
      "<ipython-input-13-fc7ab27f773a>:53: UserWarning: Boolean Series key will be reindexed to match DataFrame index.\n",
      "  print(df_combine[df_combine.rsquare_x>PV_adult][df_combine.rsquare_y>PV_child].shape[0])\n"
     ]
    },
    {
     "name": "stdout",
     "output_type": "stream",
     "text": [
      "0\n",
      "9\n"
     ]
    },
    {
     "name": "stderr",
     "output_type": "stream",
     "text": [
      "<ipython-input-13-fc7ab27f773a>:52: UserWarning: Boolean Series key will be reindexed to match DataFrame index.\n",
      "  alls.append(df_combine[df_combine.rsquare_x>PV_adult][df_combine.rsquare_y>PV_child].shape[0])\n",
      "<ipython-input-13-fc7ab27f773a>:53: UserWarning: Boolean Series key will be reindexed to match DataFrame index.\n",
      "  print(df_combine[df_combine.rsquare_x>PV_adult][df_combine.rsquare_y>PV_child].shape[0])\n",
      "<ipython-input-13-fc7ab27f773a>:52: UserWarning: Boolean Series key will be reindexed to match DataFrame index.\n",
      "  alls.append(df_combine[df_combine.rsquare_x>PV_adult][df_combine.rsquare_y>PV_child].shape[0])\n",
      "<ipython-input-13-fc7ab27f773a>:53: UserWarning: Boolean Series key will be reindexed to match DataFrame index.\n",
      "  print(df_combine[df_combine.rsquare_x>PV_adult][df_combine.rsquare_y>PV_child].shape[0])\n",
      "<ipython-input-13-fc7ab27f773a>:52: UserWarning: Boolean Series key will be reindexed to match DataFrame index.\n",
      "  alls.append(df_combine[df_combine.rsquare_x>PV_adult][df_combine.rsquare_y>PV_child].shape[0])\n",
      "<ipython-input-13-fc7ab27f773a>:53: UserWarning: Boolean Series key will be reindexed to match DataFrame index.\n",
      "  print(df_combine[df_combine.rsquare_x>PV_adult][df_combine.rsquare_y>PV_child].shape[0])\n",
      "<ipython-input-13-fc7ab27f773a>:52: UserWarning: Boolean Series key will be reindexed to match DataFrame index.\n",
      "  alls.append(df_combine[df_combine.rsquare_x>PV_adult][df_combine.rsquare_y>PV_child].shape[0])\n",
      "<ipython-input-13-fc7ab27f773a>:53: UserWarning: Boolean Series key will be reindexed to match DataFrame index.\n",
      "  print(df_combine[df_combine.rsquare_x>PV_adult][df_combine.rsquare_y>PV_child].shape[0])\n"
     ]
    },
    {
     "name": "stdout",
     "output_type": "stream",
     "text": [
      "1\n",
      "35\n",
      "11\n",
      "29\n",
      "11\n"
     ]
    },
    {
     "name": "stderr",
     "output_type": "stream",
     "text": [
      "<ipython-input-13-fc7ab27f773a>:52: UserWarning: Boolean Series key will be reindexed to match DataFrame index.\n",
      "  alls.append(df_combine[df_combine.rsquare_x>PV_adult][df_combine.rsquare_y>PV_child].shape[0])\n",
      "<ipython-input-13-fc7ab27f773a>:53: UserWarning: Boolean Series key will be reindexed to match DataFrame index.\n",
      "  print(df_combine[df_combine.rsquare_x>PV_adult][df_combine.rsquare_y>PV_child].shape[0])\n",
      "<ipython-input-13-fc7ab27f773a>:52: UserWarning: Boolean Series key will be reindexed to match DataFrame index.\n",
      "  alls.append(df_combine[df_combine.rsquare_x>PV_adult][df_combine.rsquare_y>PV_child].shape[0])\n",
      "<ipython-input-13-fc7ab27f773a>:53: UserWarning: Boolean Series key will be reindexed to match DataFrame index.\n",
      "  print(df_combine[df_combine.rsquare_x>PV_adult][df_combine.rsquare_y>PV_child].shape[0])\n",
      "<ipython-input-13-fc7ab27f773a>:52: UserWarning: Boolean Series key will be reindexed to match DataFrame index.\n",
      "  alls.append(df_combine[df_combine.rsquare_x>PV_adult][df_combine.rsquare_y>PV_child].shape[0])\n",
      "<ipython-input-13-fc7ab27f773a>:53: UserWarning: Boolean Series key will be reindexed to match DataFrame index.\n",
      "  print(df_combine[df_combine.rsquare_x>PV_adult][df_combine.rsquare_y>PV_child].shape[0])\n",
      "<ipython-input-13-fc7ab27f773a>:52: UserWarning: Boolean Series key will be reindexed to match DataFrame index.\n",
      "  alls.append(df_combine[df_combine.rsquare_x>PV_adult][df_combine.rsquare_y>PV_child].shape[0])\n"
     ]
    },
    {
     "name": "stdout",
     "output_type": "stream",
     "text": [
      "13\n",
      "2\n",
      "12\n",
      "11\n",
      "7\n"
     ]
    },
    {
     "name": "stderr",
     "output_type": "stream",
     "text": [
      "<ipython-input-13-fc7ab27f773a>:53: UserWarning: Boolean Series key will be reindexed to match DataFrame index.\n",
      "  print(df_combine[df_combine.rsquare_x>PV_adult][df_combine.rsquare_y>PV_child].shape[0])\n",
      "<ipython-input-13-fc7ab27f773a>:52: UserWarning: Boolean Series key will be reindexed to match DataFrame index.\n",
      "  alls.append(df_combine[df_combine.rsquare_x>PV_adult][df_combine.rsquare_y>PV_child].shape[0])\n",
      "<ipython-input-13-fc7ab27f773a>:53: UserWarning: Boolean Series key will be reindexed to match DataFrame index.\n",
      "  print(df_combine[df_combine.rsquare_x>PV_adult][df_combine.rsquare_y>PV_child].shape[0])\n",
      "<ipython-input-13-fc7ab27f773a>:52: UserWarning: Boolean Series key will be reindexed to match DataFrame index.\n",
      "  alls.append(df_combine[df_combine.rsquare_x>PV_adult][df_combine.rsquare_y>PV_child].shape[0])\n",
      "<ipython-input-13-fc7ab27f773a>:53: UserWarning: Boolean Series key will be reindexed to match DataFrame index.\n",
      "  print(df_combine[df_combine.rsquare_x>PV_adult][df_combine.rsquare_y>PV_child].shape[0])\n",
      "<ipython-input-13-fc7ab27f773a>:52: UserWarning: Boolean Series key will be reindexed to match DataFrame index.\n",
      "  alls.append(df_combine[df_combine.rsquare_x>PV_adult][df_combine.rsquare_y>PV_child].shape[0])\n",
      "<ipython-input-13-fc7ab27f773a>:53: UserWarning: Boolean Series key will be reindexed to match DataFrame index.\n",
      "  print(df_combine[df_combine.rsquare_x>PV_adult][df_combine.rsquare_y>PV_child].shape[0])\n",
      "<ipython-input-13-fc7ab27f773a>:52: UserWarning: Boolean Series key will be reindexed to match DataFrame index.\n",
      "  alls.append(df_combine[df_combine.rsquare_x>PV_adult][df_combine.rsquare_y>PV_child].shape[0])\n",
      "<ipython-input-13-fc7ab27f773a>:53: UserWarning: Boolean Series key will be reindexed to match DataFrame index.\n",
      "  print(df_combine[df_combine.rsquare_x>PV_adult][df_combine.rsquare_y>PV_child].shape[0])\n"
     ]
    },
    {
     "name": "stdout",
     "output_type": "stream",
     "text": [
      "1\n",
      "3\n",
      "2\n"
     ]
    },
    {
     "name": "stderr",
     "output_type": "stream",
     "text": [
      "<ipython-input-13-fc7ab27f773a>:52: UserWarning: Boolean Series key will be reindexed to match DataFrame index.\n",
      "  alls.append(df_combine[df_combine.rsquare_x>PV_adult][df_combine.rsquare_y>PV_child].shape[0])\n",
      "<ipython-input-13-fc7ab27f773a>:53: UserWarning: Boolean Series key will be reindexed to match DataFrame index.\n",
      "  print(df_combine[df_combine.rsquare_x>PV_adult][df_combine.rsquare_y>PV_child].shape[0])\n",
      "<ipython-input-13-fc7ab27f773a>:52: UserWarning: Boolean Series key will be reindexed to match DataFrame index.\n",
      "  alls.append(df_combine[df_combine.rsquare_x>PV_adult][df_combine.rsquare_y>PV_child].shape[0])\n",
      "<ipython-input-13-fc7ab27f773a>:53: UserWarning: Boolean Series key will be reindexed to match DataFrame index.\n",
      "  print(df_combine[df_combine.rsquare_x>PV_adult][df_combine.rsquare_y>PV_child].shape[0])\n",
      "<ipython-input-13-fc7ab27f773a>:52: UserWarning: Boolean Series key will be reindexed to match DataFrame index.\n",
      "  alls.append(df_combine[df_combine.rsquare_x>PV_adult][df_combine.rsquare_y>PV_child].shape[0])\n",
      "<ipython-input-13-fc7ab27f773a>:53: UserWarning: Boolean Series key will be reindexed to match DataFrame index.\n",
      "  print(df_combine[df_combine.rsquare_x>PV_adult][df_combine.rsquare_y>PV_child].shape[0])\n",
      "<ipython-input-13-fc7ab27f773a>:52: UserWarning: Boolean Series key will be reindexed to match DataFrame index.\n",
      "  alls.append(df_combine[df_combine.rsquare_x>PV_adult][df_combine.rsquare_y>PV_child].shape[0])\n",
      "<ipython-input-13-fc7ab27f773a>:53: UserWarning: Boolean Series key will be reindexed to match DataFrame index.\n",
      "  print(df_combine[df_combine.rsquare_x>PV_adult][df_combine.rsquare_y>PV_child].shape[0])\n",
      "<ipython-input-13-fc7ab27f773a>:52: UserWarning: Boolean Series key will be reindexed to match DataFrame index.\n",
      "  alls.append(df_combine[df_combine.rsquare_x>PV_adult][df_combine.rsquare_y>PV_child].shape[0])\n",
      "<ipython-input-13-fc7ab27f773a>:53: UserWarning: Boolean Series key will be reindexed to match DataFrame index.\n",
      "  print(df_combine[df_combine.rsquare_x>PV_adult][df_combine.rsquare_y>PV_child].shape[0])\n",
      "<ipython-input-13-fc7ab27f773a>:52: UserWarning: Boolean Series key will be reindexed to match DataFrame index.\n",
      "  alls.append(df_combine[df_combine.rsquare_x>PV_adult][df_combine.rsquare_y>PV_child].shape[0])\n"
     ]
    },
    {
     "name": "stdout",
     "output_type": "stream",
     "text": [
      "11\n",
      "7\n",
      "15\n",
      "16\n",
      "20\n"
     ]
    },
    {
     "name": "stderr",
     "output_type": "stream",
     "text": [
      "<ipython-input-13-fc7ab27f773a>:53: UserWarning: Boolean Series key will be reindexed to match DataFrame index.\n",
      "  print(df_combine[df_combine.rsquare_x>PV_adult][df_combine.rsquare_y>PV_child].shape[0])\n",
      "<ipython-input-13-fc7ab27f773a>:52: UserWarning: Boolean Series key will be reindexed to match DataFrame index.\n",
      "  alls.append(df_combine[df_combine.rsquare_x>PV_adult][df_combine.rsquare_y>PV_child].shape[0])\n",
      "<ipython-input-13-fc7ab27f773a>:53: UserWarning: Boolean Series key will be reindexed to match DataFrame index.\n",
      "  print(df_combine[df_combine.rsquare_x>PV_adult][df_combine.rsquare_y>PV_child].shape[0])\n",
      "<ipython-input-13-fc7ab27f773a>:52: UserWarning: Boolean Series key will be reindexed to match DataFrame index.\n",
      "  alls.append(df_combine[df_combine.rsquare_x>PV_adult][df_combine.rsquare_y>PV_child].shape[0])\n",
      "<ipython-input-13-fc7ab27f773a>:53: UserWarning: Boolean Series key will be reindexed to match DataFrame index.\n",
      "  print(df_combine[df_combine.rsquare_x>PV_adult][df_combine.rsquare_y>PV_child].shape[0])\n",
      "<ipython-input-13-fc7ab27f773a>:52: UserWarning: Boolean Series key will be reindexed to match DataFrame index.\n",
      "  alls.append(df_combine[df_combine.rsquare_x>PV_adult][df_combine.rsquare_y>PV_child].shape[0])\n",
      "<ipython-input-13-fc7ab27f773a>:53: UserWarning: Boolean Series key will be reindexed to match DataFrame index.\n",
      "  print(df_combine[df_combine.rsquare_x>PV_adult][df_combine.rsquare_y>PV_child].shape[0])\n"
     ]
    },
    {
     "name": "stdout",
     "output_type": "stream",
     "text": [
      "0\n",
      "18\n",
      "6\n",
      "27\n"
     ]
    },
    {
     "name": "stderr",
     "output_type": "stream",
     "text": [
      "<ipython-input-13-fc7ab27f773a>:52: UserWarning: Boolean Series key will be reindexed to match DataFrame index.\n",
      "  alls.append(df_combine[df_combine.rsquare_x>PV_adult][df_combine.rsquare_y>PV_child].shape[0])\n",
      "<ipython-input-13-fc7ab27f773a>:53: UserWarning: Boolean Series key will be reindexed to match DataFrame index.\n",
      "  print(df_combine[df_combine.rsquare_x>PV_adult][df_combine.rsquare_y>PV_child].shape[0])\n",
      "<ipython-input-13-fc7ab27f773a>:52: UserWarning: Boolean Series key will be reindexed to match DataFrame index.\n",
      "  alls.append(df_combine[df_combine.rsquare_x>PV_adult][df_combine.rsquare_y>PV_child].shape[0])\n",
      "<ipython-input-13-fc7ab27f773a>:53: UserWarning: Boolean Series key will be reindexed to match DataFrame index.\n",
      "  print(df_combine[df_combine.rsquare_x>PV_adult][df_combine.rsquare_y>PV_child].shape[0])\n",
      "<ipython-input-13-fc7ab27f773a>:52: UserWarning: Boolean Series key will be reindexed to match DataFrame index.\n",
      "  alls.append(df_combine[df_combine.rsquare_x>PV_adult][df_combine.rsquare_y>PV_child].shape[0])\n",
      "<ipython-input-13-fc7ab27f773a>:53: UserWarning: Boolean Series key will be reindexed to match DataFrame index.\n",
      "  print(df_combine[df_combine.rsquare_x>PV_adult][df_combine.rsquare_y>PV_child].shape[0])\n",
      "<ipython-input-13-fc7ab27f773a>:52: UserWarning: Boolean Series key will be reindexed to match DataFrame index.\n",
      "  alls.append(df_combine[df_combine.rsquare_x>PV_adult][df_combine.rsquare_y>PV_child].shape[0])\n"
     ]
    },
    {
     "name": "stdout",
     "output_type": "stream",
     "text": [
      "1\n",
      "0\n",
      "22\n",
      "7\n",
      "2"
     ]
    },
    {
     "name": "stderr",
     "output_type": "stream",
     "text": [
      "<ipython-input-13-fc7ab27f773a>:53: UserWarning: Boolean Series key will be reindexed to match DataFrame index.\n",
      "  print(df_combine[df_combine.rsquare_x>PV_adult][df_combine.rsquare_y>PV_child].shape[0])\n",
      "<ipython-input-13-fc7ab27f773a>:52: UserWarning: Boolean Series key will be reindexed to match DataFrame index.\n",
      "  alls.append(df_combine[df_combine.rsquare_x>PV_adult][df_combine.rsquare_y>PV_child].shape[0])\n",
      "<ipython-input-13-fc7ab27f773a>:53: UserWarning: Boolean Series key will be reindexed to match DataFrame index.\n",
      "  print(df_combine[df_combine.rsquare_x>PV_adult][df_combine.rsquare_y>PV_child].shape[0])\n",
      "<ipython-input-13-fc7ab27f773a>:52: UserWarning: Boolean Series key will be reindexed to match DataFrame index.\n",
      "  alls.append(df_combine[df_combine.rsquare_x>PV_adult][df_combine.rsquare_y>PV_child].shape[0])\n",
      "<ipython-input-13-fc7ab27f773a>:53: UserWarning: Boolean Series key will be reindexed to match DataFrame index.\n",
      "  print(df_combine[df_combine.rsquare_x>PV_adult][df_combine.rsquare_y>PV_child].shape[0])\n",
      "<ipython-input-13-fc7ab27f773a>:52: UserWarning: Boolean Series key will be reindexed to match DataFrame index.\n",
      "  alls.append(df_combine[df_combine.rsquare_x>PV_adult][df_combine.rsquare_y>PV_child].shape[0])\n",
      "<ipython-input-13-fc7ab27f773a>:53: UserWarning: Boolean Series key will be reindexed to match DataFrame index.\n",
      "  print(df_combine[df_combine.rsquare_x>PV_adult][df_combine.rsquare_y>PV_child].shape[0])\n"
     ]
    },
    {
     "name": "stdout",
     "output_type": "stream",
     "text": [
      "\n"
     ]
    },
    {
     "name": "stderr",
     "output_type": "stream",
     "text": [
      "<ipython-input-13-fc7ab27f773a>:52: UserWarning: Boolean Series key will be reindexed to match DataFrame index.\n",
      "  alls.append(df_combine[df_combine.rsquare_x>PV_adult][df_combine.rsquare_y>PV_child].shape[0])\n",
      "<ipython-input-13-fc7ab27f773a>:53: UserWarning: Boolean Series key will be reindexed to match DataFrame index.\n",
      "  print(df_combine[df_combine.rsquare_x>PV_adult][df_combine.rsquare_y>PV_child].shape[0])\n",
      "<ipython-input-13-fc7ab27f773a>:52: UserWarning: Boolean Series key will be reindexed to match DataFrame index.\n",
      "  alls.append(df_combine[df_combine.rsquare_x>PV_adult][df_combine.rsquare_y>PV_child].shape[0])\n",
      "<ipython-input-13-fc7ab27f773a>:53: UserWarning: Boolean Series key will be reindexed to match DataFrame index.\n",
      "  print(df_combine[df_combine.rsquare_x>PV_adult][df_combine.rsquare_y>PV_child].shape[0])\n",
      "<ipython-input-13-fc7ab27f773a>:52: UserWarning: Boolean Series key will be reindexed to match DataFrame index.\n",
      "  alls.append(df_combine[df_combine.rsquare_x>PV_adult][df_combine.rsquare_y>PV_child].shape[0])\n",
      "<ipython-input-13-fc7ab27f773a>:53: UserWarning: Boolean Series key will be reindexed to match DataFrame index.\n",
      "  print(df_combine[df_combine.rsquare_x>PV_adult][df_combine.rsquare_y>PV_child].shape[0])\n",
      "<ipython-input-13-fc7ab27f773a>:52: UserWarning: Boolean Series key will be reindexed to match DataFrame index.\n",
      "  alls.append(df_combine[df_combine.rsquare_x>PV_adult][df_combine.rsquare_y>PV_child].shape[0])\n"
     ]
    },
    {
     "name": "stdout",
     "output_type": "stream",
     "text": [
      "36\n",
      "13\n",
      "0\n"
     ]
    },
    {
     "name": "stderr",
     "output_type": "stream",
     "text": [
      "<ipython-input-13-fc7ab27f773a>:53: UserWarning: Boolean Series key will be reindexed to match DataFrame index.\n",
      "  print(df_combine[df_combine.rsquare_x>PV_adult][df_combine.rsquare_y>PV_child].shape[0])\n",
      "<ipython-input-13-fc7ab27f773a>:52: UserWarning: Boolean Series key will be reindexed to match DataFrame index.\n",
      "  alls.append(df_combine[df_combine.rsquare_x>PV_adult][df_combine.rsquare_y>PV_child].shape[0])\n",
      "<ipython-input-13-fc7ab27f773a>:53: UserWarning: Boolean Series key will be reindexed to match DataFrame index.\n",
      "  print(df_combine[df_combine.rsquare_x>PV_adult][df_combine.rsquare_y>PV_child].shape[0])\n",
      "<ipython-input-13-fc7ab27f773a>:52: UserWarning: Boolean Series key will be reindexed to match DataFrame index.\n",
      "  alls.append(df_combine[df_combine.rsquare_x>PV_adult][df_combine.rsquare_y>PV_child].shape[0])\n",
      "<ipython-input-13-fc7ab27f773a>:53: UserWarning: Boolean Series key will be reindexed to match DataFrame index.\n",
      "  print(df_combine[df_combine.rsquare_x>PV_adult][df_combine.rsquare_y>PV_child].shape[0])\n",
      "<ipython-input-13-fc7ab27f773a>:52: UserWarning: Boolean Series key will be reindexed to match DataFrame index.\n",
      "  alls.append(df_combine[df_combine.rsquare_x>PV_adult][df_combine.rsquare_y>PV_child].shape[0])\n"
     ]
    },
    {
     "name": "stdout",
     "output_type": "stream",
     "text": [
      "11\n",
      "1\n",
      "18\n"
     ]
    },
    {
     "name": "stderr",
     "output_type": "stream",
     "text": [
      "<ipython-input-13-fc7ab27f773a>:53: UserWarning: Boolean Series key will be reindexed to match DataFrame index.\n",
      "  print(df_combine[df_combine.rsquare_x>PV_adult][df_combine.rsquare_y>PV_child].shape[0])\n",
      "<ipython-input-13-fc7ab27f773a>:52: UserWarning: Boolean Series key will be reindexed to match DataFrame index.\n",
      "  alls.append(df_combine[df_combine.rsquare_x>PV_adult][df_combine.rsquare_y>PV_child].shape[0])\n",
      "<ipython-input-13-fc7ab27f773a>:53: UserWarning: Boolean Series key will be reindexed to match DataFrame index.\n",
      "  print(df_combine[df_combine.rsquare_x>PV_adult][df_combine.rsquare_y>PV_child].shape[0])\n",
      "<ipython-input-13-fc7ab27f773a>:52: UserWarning: Boolean Series key will be reindexed to match DataFrame index.\n",
      "  alls.append(df_combine[df_combine.rsquare_x>PV_adult][df_combine.rsquare_y>PV_child].shape[0])\n",
      "<ipython-input-13-fc7ab27f773a>:53: UserWarning: Boolean Series key will be reindexed to match DataFrame index.\n",
      "  print(df_combine[df_combine.rsquare_x>PV_adult][df_combine.rsquare_y>PV_child].shape[0])\n",
      "<ipython-input-13-fc7ab27f773a>:52: UserWarning: Boolean Series key will be reindexed to match DataFrame index.\n",
      "  alls.append(df_combine[df_combine.rsquare_x>PV_adult][df_combine.rsquare_y>PV_child].shape[0])\n",
      "<ipython-input-13-fc7ab27f773a>:53: UserWarning: Boolean Series key will be reindexed to match DataFrame index.\n",
      "  print(df_combine[df_combine.rsquare_x>PV_adult][df_combine.rsquare_y>PV_child].shape[0])\n"
     ]
    },
    {
     "name": "stdout",
     "output_type": "stream",
     "text": [
      "22\n",
      "3\n",
      "22\n",
      "5\n"
     ]
    },
    {
     "name": "stderr",
     "output_type": "stream",
     "text": [
      "<ipython-input-13-fc7ab27f773a>:52: UserWarning: Boolean Series key will be reindexed to match DataFrame index.\n",
      "  alls.append(df_combine[df_combine.rsquare_x>PV_adult][df_combine.rsquare_y>PV_child].shape[0])\n",
      "<ipython-input-13-fc7ab27f773a>:53: UserWarning: Boolean Series key will be reindexed to match DataFrame index.\n",
      "  print(df_combine[df_combine.rsquare_x>PV_adult][df_combine.rsquare_y>PV_child].shape[0])\n",
      "<ipython-input-13-fc7ab27f773a>:52: UserWarning: Boolean Series key will be reindexed to match DataFrame index.\n",
      "  alls.append(df_combine[df_combine.rsquare_x>PV_adult][df_combine.rsquare_y>PV_child].shape[0])\n",
      "<ipython-input-13-fc7ab27f773a>:53: UserWarning: Boolean Series key will be reindexed to match DataFrame index.\n",
      "  print(df_combine[df_combine.rsquare_x>PV_adult][df_combine.rsquare_y>PV_child].shape[0])\n",
      "<ipython-input-13-fc7ab27f773a>:52: UserWarning: Boolean Series key will be reindexed to match DataFrame index.\n",
      "  alls.append(df_combine[df_combine.rsquare_x>PV_adult][df_combine.rsquare_y>PV_child].shape[0])\n",
      "<ipython-input-13-fc7ab27f773a>:53: UserWarning: Boolean Series key will be reindexed to match DataFrame index.\n",
      "  print(df_combine[df_combine.rsquare_x>PV_adult][df_combine.rsquare_y>PV_child].shape[0])\n"
     ]
    },
    {
     "name": "stdout",
     "output_type": "stream",
     "text": [
      "3\n",
      "27\n",
      "20\n"
     ]
    },
    {
     "name": "stderr",
     "output_type": "stream",
     "text": [
      "<ipython-input-13-fc7ab27f773a>:52: UserWarning: Boolean Series key will be reindexed to match DataFrame index.\n",
      "  alls.append(df_combine[df_combine.rsquare_x>PV_adult][df_combine.rsquare_y>PV_child].shape[0])\n",
      "<ipython-input-13-fc7ab27f773a>:53: UserWarning: Boolean Series key will be reindexed to match DataFrame index.\n",
      "  print(df_combine[df_combine.rsquare_x>PV_adult][df_combine.rsquare_y>PV_child].shape[0])\n",
      "<ipython-input-13-fc7ab27f773a>:52: UserWarning: Boolean Series key will be reindexed to match DataFrame index.\n",
      "  alls.append(df_combine[df_combine.rsquare_x>PV_adult][df_combine.rsquare_y>PV_child].shape[0])\n",
      "<ipython-input-13-fc7ab27f773a>:53: UserWarning: Boolean Series key will be reindexed to match DataFrame index.\n",
      "  print(df_combine[df_combine.rsquare_x>PV_adult][df_combine.rsquare_y>PV_child].shape[0])\n",
      "<ipython-input-13-fc7ab27f773a>:52: UserWarning: Boolean Series key will be reindexed to match DataFrame index.\n",
      "  alls.append(df_combine[df_combine.rsquare_x>PV_adult][df_combine.rsquare_y>PV_child].shape[0])\n",
      "<ipython-input-13-fc7ab27f773a>:53: UserWarning: Boolean Series key will be reindexed to match DataFrame index.\n",
      "  print(df_combine[df_combine.rsquare_x>PV_adult][df_combine.rsquare_y>PV_child].shape[0])\n",
      "<ipython-input-13-fc7ab27f773a>:52: UserWarning: Boolean Series key will be reindexed to match DataFrame index.\n",
      "  alls.append(df_combine[df_combine.rsquare_x>PV_adult][df_combine.rsquare_y>PV_child].shape[0])\n",
      "<ipython-input-13-fc7ab27f773a>:53: UserWarning: Boolean Series key will be reindexed to match DataFrame index.\n",
      "  print(df_combine[df_combine.rsquare_x>PV_adult][df_combine.rsquare_y>PV_child].shape[0])\n"
     ]
    },
    {
     "name": "stdout",
     "output_type": "stream",
     "text": [
      "0\n",
      "5\n",
      "7\n",
      "1\n",
      "50\n"
     ]
    },
    {
     "name": "stderr",
     "output_type": "stream",
     "text": [
      "<ipython-input-13-fc7ab27f773a>:52: UserWarning: Boolean Series key will be reindexed to match DataFrame index.\n",
      "  alls.append(df_combine[df_combine.rsquare_x>PV_adult][df_combine.rsquare_y>PV_child].shape[0])\n",
      "<ipython-input-13-fc7ab27f773a>:53: UserWarning: Boolean Series key will be reindexed to match DataFrame index.\n",
      "  print(df_combine[df_combine.rsquare_x>PV_adult][df_combine.rsquare_y>PV_child].shape[0])\n",
      "<ipython-input-13-fc7ab27f773a>:52: UserWarning: Boolean Series key will be reindexed to match DataFrame index.\n",
      "  alls.append(df_combine[df_combine.rsquare_x>PV_adult][df_combine.rsquare_y>PV_child].shape[0])\n",
      "<ipython-input-13-fc7ab27f773a>:53: UserWarning: Boolean Series key will be reindexed to match DataFrame index.\n",
      "  print(df_combine[df_combine.rsquare_x>PV_adult][df_combine.rsquare_y>PV_child].shape[0])\n"
     ]
    },
    {
     "name": "stdout",
     "output_type": "stream",
     "text": [
      "12\n",
      "4\n"
     ]
    },
    {
     "name": "stderr",
     "output_type": "stream",
     "text": [
      "<ipython-input-13-fc7ab27f773a>:52: UserWarning: Boolean Series key will be reindexed to match DataFrame index.\n",
      "  alls.append(df_combine[df_combine.rsquare_x>PV_adult][df_combine.rsquare_y>PV_child].shape[0])\n",
      "<ipython-input-13-fc7ab27f773a>:53: UserWarning: Boolean Series key will be reindexed to match DataFrame index.\n",
      "  print(df_combine[df_combine.rsquare_x>PV_adult][df_combine.rsquare_y>PV_child].shape[0])\n",
      "<ipython-input-13-fc7ab27f773a>:52: UserWarning: Boolean Series key will be reindexed to match DataFrame index.\n",
      "  alls.append(df_combine[df_combine.rsquare_x>PV_adult][df_combine.rsquare_y>PV_child].shape[0])\n",
      "<ipython-input-13-fc7ab27f773a>:53: UserWarning: Boolean Series key will be reindexed to match DataFrame index.\n",
      "  print(df_combine[df_combine.rsquare_x>PV_adult][df_combine.rsquare_y>PV_child].shape[0])\n",
      "<ipython-input-13-fc7ab27f773a>:52: UserWarning: Boolean Series key will be reindexed to match DataFrame index.\n",
      "  alls.append(df_combine[df_combine.rsquare_x>PV_adult][df_combine.rsquare_y>PV_child].shape[0])\n",
      "<ipython-input-13-fc7ab27f773a>:53: UserWarning: Boolean Series key will be reindexed to match DataFrame index.\n",
      "  print(df_combine[df_combine.rsquare_x>PV_adult][df_combine.rsquare_y>PV_child].shape[0])\n"
     ]
    },
    {
     "name": "stdout",
     "output_type": "stream",
     "text": [
      "21\n",
      "19\n",
      "1\n"
     ]
    },
    {
     "name": "stderr",
     "output_type": "stream",
     "text": [
      "<ipython-input-13-fc7ab27f773a>:52: UserWarning: Boolean Series key will be reindexed to match DataFrame index.\n",
      "  alls.append(df_combine[df_combine.rsquare_x>PV_adult][df_combine.rsquare_y>PV_child].shape[0])\n",
      "<ipython-input-13-fc7ab27f773a>:53: UserWarning: Boolean Series key will be reindexed to match DataFrame index.\n",
      "  print(df_combine[df_combine.rsquare_x>PV_adult][df_combine.rsquare_y>PV_child].shape[0])\n",
      "<ipython-input-13-fc7ab27f773a>:52: UserWarning: Boolean Series key will be reindexed to match DataFrame index.\n",
      "  alls.append(df_combine[df_combine.rsquare_x>PV_adult][df_combine.rsquare_y>PV_child].shape[0])\n",
      "<ipython-input-13-fc7ab27f773a>:53: UserWarning: Boolean Series key will be reindexed to match DataFrame index.\n",
      "  print(df_combine[df_combine.rsquare_x>PV_adult][df_combine.rsquare_y>PV_child].shape[0])\n",
      "<ipython-input-13-fc7ab27f773a>:52: UserWarning: Boolean Series key will be reindexed to match DataFrame index.\n",
      "  alls.append(df_combine[df_combine.rsquare_x>PV_adult][df_combine.rsquare_y>PV_child].shape[0])\n",
      "<ipython-input-13-fc7ab27f773a>:53: UserWarning: Boolean Series key will be reindexed to match DataFrame index.\n",
      "  print(df_combine[df_combine.rsquare_x>PV_adult][df_combine.rsquare_y>PV_child].shape[0])\n"
     ]
    },
    {
     "name": "stdout",
     "output_type": "stream",
     "text": [
      "12\n",
      "14\n",
      "10\n"
     ]
    },
    {
     "name": "stderr",
     "output_type": "stream",
     "text": [
      "<ipython-input-13-fc7ab27f773a>:52: UserWarning: Boolean Series key will be reindexed to match DataFrame index.\n",
      "  alls.append(df_combine[df_combine.rsquare_x>PV_adult][df_combine.rsquare_y>PV_child].shape[0])\n",
      "<ipython-input-13-fc7ab27f773a>:53: UserWarning: Boolean Series key will be reindexed to match DataFrame index.\n",
      "  print(df_combine[df_combine.rsquare_x>PV_adult][df_combine.rsquare_y>PV_child].shape[0])\n",
      "<ipython-input-13-fc7ab27f773a>:52: UserWarning: Boolean Series key will be reindexed to match DataFrame index.\n",
      "  alls.append(df_combine[df_combine.rsquare_x>PV_adult][df_combine.rsquare_y>PV_child].shape[0])\n",
      "<ipython-input-13-fc7ab27f773a>:53: UserWarning: Boolean Series key will be reindexed to match DataFrame index.\n",
      "  print(df_combine[df_combine.rsquare_x>PV_adult][df_combine.rsquare_y>PV_child].shape[0])\n",
      "<ipython-input-13-fc7ab27f773a>:52: UserWarning: Boolean Series key will be reindexed to match DataFrame index.\n",
      "  alls.append(df_combine[df_combine.rsquare_x>PV_adult][df_combine.rsquare_y>PV_child].shape[0])\n",
      "<ipython-input-13-fc7ab27f773a>:53: UserWarning: Boolean Series key will be reindexed to match DataFrame index.\n",
      "  print(df_combine[df_combine.rsquare_x>PV_adult][df_combine.rsquare_y>PV_child].shape[0])\n",
      "<ipython-input-13-fc7ab27f773a>:52: UserWarning: Boolean Series key will be reindexed to match DataFrame index.\n",
      "  alls.append(df_combine[df_combine.rsquare_x>PV_adult][df_combine.rsquare_y>PV_child].shape[0])\n",
      "<ipython-input-13-fc7ab27f773a>:53: UserWarning: Boolean Series key will be reindexed to match DataFrame index.\n",
      "  print(df_combine[df_combine.rsquare_x>PV_adult][df_combine.rsquare_y>PV_child].shape[0])\n"
     ]
    },
    {
     "name": "stdout",
     "output_type": "stream",
     "text": [
      "4\n",
      "9\n",
      "4\n",
      "14\n"
     ]
    },
    {
     "name": "stderr",
     "output_type": "stream",
     "text": [
      "<ipython-input-13-fc7ab27f773a>:52: UserWarning: Boolean Series key will be reindexed to match DataFrame index.\n",
      "  alls.append(df_combine[df_combine.rsquare_x>PV_adult][df_combine.rsquare_y>PV_child].shape[0])\n",
      "<ipython-input-13-fc7ab27f773a>:53: UserWarning: Boolean Series key will be reindexed to match DataFrame index.\n",
      "  print(df_combine[df_combine.rsquare_x>PV_adult][df_combine.rsquare_y>PV_child].shape[0])\n",
      "<ipython-input-13-fc7ab27f773a>:52: UserWarning: Boolean Series key will be reindexed to match DataFrame index.\n",
      "  alls.append(df_combine[df_combine.rsquare_x>PV_adult][df_combine.rsquare_y>PV_child].shape[0])\n",
      "<ipython-input-13-fc7ab27f773a>:53: UserWarning: Boolean Series key will be reindexed to match DataFrame index.\n",
      "  print(df_combine[df_combine.rsquare_x>PV_adult][df_combine.rsquare_y>PV_child].shape[0])\n"
     ]
    },
    {
     "name": "stdout",
     "output_type": "stream",
     "text": [
      "2\n",
      "0\n",
      "5\n",
      "12\n",
      "3\n"
     ]
    },
    {
     "name": "stderr",
     "output_type": "stream",
     "text": [
      "<ipython-input-13-fc7ab27f773a>:52: UserWarning: Boolean Series key will be reindexed to match DataFrame index.\n",
      "  alls.append(df_combine[df_combine.rsquare_x>PV_adult][df_combine.rsquare_y>PV_child].shape[0])\n",
      "<ipython-input-13-fc7ab27f773a>:53: UserWarning: Boolean Series key will be reindexed to match DataFrame index.\n",
      "  print(df_combine[df_combine.rsquare_x>PV_adult][df_combine.rsquare_y>PV_child].shape[0])\n",
      "<ipython-input-13-fc7ab27f773a>:52: UserWarning: Boolean Series key will be reindexed to match DataFrame index.\n",
      "  alls.append(df_combine[df_combine.rsquare_x>PV_adult][df_combine.rsquare_y>PV_child].shape[0])\n",
      "<ipython-input-13-fc7ab27f773a>:53: UserWarning: Boolean Series key will be reindexed to match DataFrame index.\n",
      "  print(df_combine[df_combine.rsquare_x>PV_adult][df_combine.rsquare_y>PV_child].shape[0])\n",
      "<ipython-input-13-fc7ab27f773a>:52: UserWarning: Boolean Series key will be reindexed to match DataFrame index.\n",
      "  alls.append(df_combine[df_combine.rsquare_x>PV_adult][df_combine.rsquare_y>PV_child].shape[0])\n",
      "<ipython-input-13-fc7ab27f773a>:53: UserWarning: Boolean Series key will be reindexed to match DataFrame index.\n",
      "  print(df_combine[df_combine.rsquare_x>PV_adult][df_combine.rsquare_y>PV_child].shape[0])\n",
      "<ipython-input-13-fc7ab27f773a>:52: UserWarning: Boolean Series key will be reindexed to match DataFrame index.\n",
      "  alls.append(df_combine[df_combine.rsquare_x>PV_adult][df_combine.rsquare_y>PV_child].shape[0])\n",
      "<ipython-input-13-fc7ab27f773a>:53: UserWarning: Boolean Series key will be reindexed to match DataFrame index.\n",
      "  print(df_combine[df_combine.rsquare_x>PV_adult][df_combine.rsquare_y>PV_child].shape[0])\n",
      "<ipython-input-13-fc7ab27f773a>:52: UserWarning: Boolean Series key will be reindexed to match DataFrame index.\n",
      "  alls.append(df_combine[df_combine.rsquare_x>PV_adult][df_combine.rsquare_y>PV_child].shape[0])\n"
     ]
    },
    {
     "name": "stdout",
     "output_type": "stream",
     "text": [
      "12\n",
      "19\n",
      "8\n"
     ]
    },
    {
     "name": "stderr",
     "output_type": "stream",
     "text": [
      "<ipython-input-13-fc7ab27f773a>:53: UserWarning: Boolean Series key will be reindexed to match DataFrame index.\n",
      "  print(df_combine[df_combine.rsquare_x>PV_adult][df_combine.rsquare_y>PV_child].shape[0])\n",
      "<ipython-input-13-fc7ab27f773a>:52: UserWarning: Boolean Series key will be reindexed to match DataFrame index.\n",
      "  alls.append(df_combine[df_combine.rsquare_x>PV_adult][df_combine.rsquare_y>PV_child].shape[0])\n",
      "<ipython-input-13-fc7ab27f773a>:53: UserWarning: Boolean Series key will be reindexed to match DataFrame index.\n",
      "  print(df_combine[df_combine.rsquare_x>PV_adult][df_combine.rsquare_y>PV_child].shape[0])\n",
      "<ipython-input-13-fc7ab27f773a>:52: UserWarning: Boolean Series key will be reindexed to match DataFrame index.\n",
      "  alls.append(df_combine[df_combine.rsquare_x>PV_adult][df_combine.rsquare_y>PV_child].shape[0])\n",
      "<ipython-input-13-fc7ab27f773a>:53: UserWarning: Boolean Series key will be reindexed to match DataFrame index.\n",
      "  print(df_combine[df_combine.rsquare_x>PV_adult][df_combine.rsquare_y>PV_child].shape[0])\n"
     ]
    },
    {
     "name": "stdout",
     "output_type": "stream",
     "text": [
      "17\n",
      "3\n"
     ]
    },
    {
     "name": "stderr",
     "output_type": "stream",
     "text": [
      "<ipython-input-13-fc7ab27f773a>:52: UserWarning: Boolean Series key will be reindexed to match DataFrame index.\n",
      "  alls.append(df_combine[df_combine.rsquare_x>PV_adult][df_combine.rsquare_y>PV_child].shape[0])\n",
      "<ipython-input-13-fc7ab27f773a>:53: UserWarning: Boolean Series key will be reindexed to match DataFrame index.\n",
      "  print(df_combine[df_combine.rsquare_x>PV_adult][df_combine.rsquare_y>PV_child].shape[0])\n",
      "<ipython-input-13-fc7ab27f773a>:52: UserWarning: Boolean Series key will be reindexed to match DataFrame index.\n",
      "  alls.append(df_combine[df_combine.rsquare_x>PV_adult][df_combine.rsquare_y>PV_child].shape[0])\n",
      "<ipython-input-13-fc7ab27f773a>:53: UserWarning: Boolean Series key will be reindexed to match DataFrame index.\n",
      "  print(df_combine[df_combine.rsquare_x>PV_adult][df_combine.rsquare_y>PV_child].shape[0])\n",
      "<ipython-input-13-fc7ab27f773a>:52: UserWarning: Boolean Series key will be reindexed to match DataFrame index.\n",
      "  alls.append(df_combine[df_combine.rsquare_x>PV_adult][df_combine.rsquare_y>PV_child].shape[0])\n",
      "<ipython-input-13-fc7ab27f773a>:53: UserWarning: Boolean Series key will be reindexed to match DataFrame index.\n",
      "  print(df_combine[df_combine.rsquare_x>PV_adult][df_combine.rsquare_y>PV_child].shape[0])\n"
     ]
    },
    {
     "name": "stdout",
     "output_type": "stream",
     "text": [
      "1\n",
      "18\n",
      "17\n"
     ]
    },
    {
     "name": "stderr",
     "output_type": "stream",
     "text": [
      "<ipython-input-13-fc7ab27f773a>:52: UserWarning: Boolean Series key will be reindexed to match DataFrame index.\n",
      "  alls.append(df_combine[df_combine.rsquare_x>PV_adult][df_combine.rsquare_y>PV_child].shape[0])\n",
      "<ipython-input-13-fc7ab27f773a>:53: UserWarning: Boolean Series key will be reindexed to match DataFrame index.\n",
      "  print(df_combine[df_combine.rsquare_x>PV_adult][df_combine.rsquare_y>PV_child].shape[0])\n",
      "<ipython-input-13-fc7ab27f773a>:52: UserWarning: Boolean Series key will be reindexed to match DataFrame index.\n",
      "  alls.append(df_combine[df_combine.rsquare_x>PV_adult][df_combine.rsquare_y>PV_child].shape[0])\n",
      "<ipython-input-13-fc7ab27f773a>:53: UserWarning: Boolean Series key will be reindexed to match DataFrame index.\n",
      "  print(df_combine[df_combine.rsquare_x>PV_adult][df_combine.rsquare_y>PV_child].shape[0])\n",
      "<ipython-input-13-fc7ab27f773a>:52: UserWarning: Boolean Series key will be reindexed to match DataFrame index.\n",
      "  alls.append(df_combine[df_combine.rsquare_x>PV_adult][df_combine.rsquare_y>PV_child].shape[0])\n",
      "<ipython-input-13-fc7ab27f773a>:53: UserWarning: Boolean Series key will be reindexed to match DataFrame index.\n",
      "  print(df_combine[df_combine.rsquare_x>PV_adult][df_combine.rsquare_y>PV_child].shape[0])\n"
     ]
    },
    {
     "name": "stdout",
     "output_type": "stream",
     "text": [
      "8\n",
      "6\n",
      "17\n",
      "27\n"
     ]
    },
    {
     "name": "stderr",
     "output_type": "stream",
     "text": [
      "<ipython-input-13-fc7ab27f773a>:52: UserWarning: Boolean Series key will be reindexed to match DataFrame index.\n",
      "  alls.append(df_combine[df_combine.rsquare_x>PV_adult][df_combine.rsquare_y>PV_child].shape[0])\n",
      "<ipython-input-13-fc7ab27f773a>:53: UserWarning: Boolean Series key will be reindexed to match DataFrame index.\n",
      "  print(df_combine[df_combine.rsquare_x>PV_adult][df_combine.rsquare_y>PV_child].shape[0])\n",
      "<ipython-input-13-fc7ab27f773a>:52: UserWarning: Boolean Series key will be reindexed to match DataFrame index.\n",
      "  alls.append(df_combine[df_combine.rsquare_x>PV_adult][df_combine.rsquare_y>PV_child].shape[0])\n",
      "<ipython-input-13-fc7ab27f773a>:53: UserWarning: Boolean Series key will be reindexed to match DataFrame index.\n",
      "  print(df_combine[df_combine.rsquare_x>PV_adult][df_combine.rsquare_y>PV_child].shape[0])\n",
      "<ipython-input-13-fc7ab27f773a>:52: UserWarning: Boolean Series key will be reindexed to match DataFrame index.\n",
      "  alls.append(df_combine[df_combine.rsquare_x>PV_adult][df_combine.rsquare_y>PV_child].shape[0])\n",
      "<ipython-input-13-fc7ab27f773a>:53: UserWarning: Boolean Series key will be reindexed to match DataFrame index.\n",
      "  print(df_combine[df_combine.rsquare_x>PV_adult][df_combine.rsquare_y>PV_child].shape[0])\n",
      "<ipython-input-13-fc7ab27f773a>:52: UserWarning: Boolean Series key will be reindexed to match DataFrame index.\n",
      "  alls.append(df_combine[df_combine.rsquare_x>PV_adult][df_combine.rsquare_y>PV_child].shape[0])\n",
      "<ipython-input-13-fc7ab27f773a>:53: UserWarning: Boolean Series key will be reindexed to match DataFrame index.\n",
      "  print(df_combine[df_combine.rsquare_x>PV_adult][df_combine.rsquare_y>PV_child].shape[0])\n",
      "<ipython-input-13-fc7ab27f773a>:52: UserWarning: Boolean Series key will be reindexed to match DataFrame index.\n",
      "  alls.append(df_combine[df_combine.rsquare_x>PV_adult][df_combine.rsquare_y>PV_child].shape[0])\n",
      "<ipython-input-13-fc7ab27f773a>:53: UserWarning: Boolean Series key will be reindexed to match DataFrame index.\n",
      "  print(df_combine[df_combine.rsquare_x>PV_adult][df_combine.rsquare_y>PV_child].shape[0])\n",
      "<ipython-input-13-fc7ab27f773a>:52: UserWarning: Boolean Series key will be reindexed to match DataFrame index.\n",
      "  alls.append(df_combine[df_combine.rsquare_x>PV_adult][df_combine.rsquare_y>PV_child].shape[0])\n"
     ]
    },
    {
     "name": "stdout",
     "output_type": "stream",
     "text": [
      "13\n",
      "5\n",
      "34\n",
      "8\n",
      "8\n"
     ]
    },
    {
     "name": "stderr",
     "output_type": "stream",
     "text": [
      "<ipython-input-13-fc7ab27f773a>:53: UserWarning: Boolean Series key will be reindexed to match DataFrame index.\n",
      "  print(df_combine[df_combine.rsquare_x>PV_adult][df_combine.rsquare_y>PV_child].shape[0])\n",
      "<ipython-input-13-fc7ab27f773a>:52: UserWarning: Boolean Series key will be reindexed to match DataFrame index.\n",
      "  alls.append(df_combine[df_combine.rsquare_x>PV_adult][df_combine.rsquare_y>PV_child].shape[0])\n",
      "<ipython-input-13-fc7ab27f773a>:53: UserWarning: Boolean Series key will be reindexed to match DataFrame index.\n",
      "  print(df_combine[df_combine.rsquare_x>PV_adult][df_combine.rsquare_y>PV_child].shape[0])\n",
      "<ipython-input-13-fc7ab27f773a>:52: UserWarning: Boolean Series key will be reindexed to match DataFrame index.\n",
      "  alls.append(df_combine[df_combine.rsquare_x>PV_adult][df_combine.rsquare_y>PV_child].shape[0])\n",
      "<ipython-input-13-fc7ab27f773a>:53: UserWarning: Boolean Series key will be reindexed to match DataFrame index.\n",
      "  print(df_combine[df_combine.rsquare_x>PV_adult][df_combine.rsquare_y>PV_child].shape[0])\n"
     ]
    },
    {
     "name": "stdout",
     "output_type": "stream",
     "text": [
      "0\n",
      "31\n"
     ]
    },
    {
     "name": "stderr",
     "output_type": "stream",
     "text": [
      "<ipython-input-13-fc7ab27f773a>:52: UserWarning: Boolean Series key will be reindexed to match DataFrame index.\n",
      "  alls.append(df_combine[df_combine.rsquare_x>PV_adult][df_combine.rsquare_y>PV_child].shape[0])\n",
      "<ipython-input-13-fc7ab27f773a>:53: UserWarning: Boolean Series key will be reindexed to match DataFrame index.\n",
      "  print(df_combine[df_combine.rsquare_x>PV_adult][df_combine.rsquare_y>PV_child].shape[0])\n",
      "<ipython-input-13-fc7ab27f773a>:52: UserWarning: Boolean Series key will be reindexed to match DataFrame index.\n",
      "  alls.append(df_combine[df_combine.rsquare_x>PV_adult][df_combine.rsquare_y>PV_child].shape[0])\n",
      "<ipython-input-13-fc7ab27f773a>:53: UserWarning: Boolean Series key will be reindexed to match DataFrame index.\n",
      "  print(df_combine[df_combine.rsquare_x>PV_adult][df_combine.rsquare_y>PV_child].shape[0])\n",
      "<ipython-input-13-fc7ab27f773a>:52: UserWarning: Boolean Series key will be reindexed to match DataFrame index.\n",
      "  alls.append(df_combine[df_combine.rsquare_x>PV_adult][df_combine.rsquare_y>PV_child].shape[0])\n",
      "<ipython-input-13-fc7ab27f773a>:53: UserWarning: Boolean Series key will be reindexed to match DataFrame index.\n",
      "  print(df_combine[df_combine.rsquare_x>PV_adult][df_combine.rsquare_y>PV_child].shape[0])\n"
     ]
    },
    {
     "name": "stdout",
     "output_type": "stream",
     "text": [
      "21\n",
      "34\n",
      "4\n",
      "0\n",
      "3\n"
     ]
    },
    {
     "name": "stderr",
     "output_type": "stream",
     "text": [
      "<ipython-input-13-fc7ab27f773a>:52: UserWarning: Boolean Series key will be reindexed to match DataFrame index.\n",
      "  alls.append(df_combine[df_combine.rsquare_x>PV_adult][df_combine.rsquare_y>PV_child].shape[0])\n",
      "<ipython-input-13-fc7ab27f773a>:53: UserWarning: Boolean Series key will be reindexed to match DataFrame index.\n",
      "  print(df_combine[df_combine.rsquare_x>PV_adult][df_combine.rsquare_y>PV_child].shape[0])\n",
      "<ipython-input-13-fc7ab27f773a>:52: UserWarning: Boolean Series key will be reindexed to match DataFrame index.\n",
      "  alls.append(df_combine[df_combine.rsquare_x>PV_adult][df_combine.rsquare_y>PV_child].shape[0])\n",
      "<ipython-input-13-fc7ab27f773a>:53: UserWarning: Boolean Series key will be reindexed to match DataFrame index.\n",
      "  print(df_combine[df_combine.rsquare_x>PV_adult][df_combine.rsquare_y>PV_child].shape[0])\n",
      "<ipython-input-13-fc7ab27f773a>:52: UserWarning: Boolean Series key will be reindexed to match DataFrame index.\n",
      "  alls.append(df_combine[df_combine.rsquare_x>PV_adult][df_combine.rsquare_y>PV_child].shape[0])\n",
      "<ipython-input-13-fc7ab27f773a>:53: UserWarning: Boolean Series key will be reindexed to match DataFrame index.\n",
      "  print(df_combine[df_combine.rsquare_x>PV_adult][df_combine.rsquare_y>PV_child].shape[0])\n",
      "<ipython-input-13-fc7ab27f773a>:52: UserWarning: Boolean Series key will be reindexed to match DataFrame index.\n",
      "  alls.append(df_combine[df_combine.rsquare_x>PV_adult][df_combine.rsquare_y>PV_child].shape[0])\n",
      "<ipython-input-13-fc7ab27f773a>:53: UserWarning: Boolean Series key will be reindexed to match DataFrame index.\n",
      "  print(df_combine[df_combine.rsquare_x>PV_adult][df_combine.rsquare_y>PV_child].shape[0])\n",
      "<ipython-input-13-fc7ab27f773a>:52: UserWarning: Boolean Series key will be reindexed to match DataFrame index.\n",
      "  alls.append(df_combine[df_combine.rsquare_x>PV_adult][df_combine.rsquare_y>PV_child].shape[0])\n"
     ]
    },
    {
     "name": "stdout",
     "output_type": "stream",
     "text": [
      "25\n",
      "33\n",
      "7\n",
      "13\n"
     ]
    },
    {
     "name": "stderr",
     "output_type": "stream",
     "text": [
      "<ipython-input-13-fc7ab27f773a>:53: UserWarning: Boolean Series key will be reindexed to match DataFrame index.\n",
      "  print(df_combine[df_combine.rsquare_x>PV_adult][df_combine.rsquare_y>PV_child].shape[0])\n",
      "<ipython-input-13-fc7ab27f773a>:52: UserWarning: Boolean Series key will be reindexed to match DataFrame index.\n",
      "  alls.append(df_combine[df_combine.rsquare_x>PV_adult][df_combine.rsquare_y>PV_child].shape[0])\n",
      "<ipython-input-13-fc7ab27f773a>:53: UserWarning: Boolean Series key will be reindexed to match DataFrame index.\n",
      "  print(df_combine[df_combine.rsquare_x>PV_adult][df_combine.rsquare_y>PV_child].shape[0])\n",
      "<ipython-input-13-fc7ab27f773a>:52: UserWarning: Boolean Series key will be reindexed to match DataFrame index.\n",
      "  alls.append(df_combine[df_combine.rsquare_x>PV_adult][df_combine.rsquare_y>PV_child].shape[0])\n",
      "<ipython-input-13-fc7ab27f773a>:53: UserWarning: Boolean Series key will be reindexed to match DataFrame index.\n",
      "  print(df_combine[df_combine.rsquare_x>PV_adult][df_combine.rsquare_y>PV_child].shape[0])\n",
      "<ipython-input-13-fc7ab27f773a>:52: UserWarning: Boolean Series key will be reindexed to match DataFrame index.\n",
      "  alls.append(df_combine[df_combine.rsquare_x>PV_adult][df_combine.rsquare_y>PV_child].shape[0])\n",
      "<ipython-input-13-fc7ab27f773a>:53: UserWarning: Boolean Series key will be reindexed to match DataFrame index.\n",
      "  print(df_combine[df_combine.rsquare_x>PV_adult][df_combine.rsquare_y>PV_child].shape[0])\n",
      "<ipython-input-13-fc7ab27f773a>:52: UserWarning: Boolean Series key will be reindexed to match DataFrame index.\n",
      "  alls.append(df_combine[df_combine.rsquare_x>PV_adult][df_combine.rsquare_y>PV_child].shape[0])\n",
      "<ipython-input-13-fc7ab27f773a>:53: UserWarning: Boolean Series key will be reindexed to match DataFrame index.\n",
      "  print(df_combine[df_combine.rsquare_x>PV_adult][df_combine.rsquare_y>PV_child].shape[0])\n",
      "<ipython-input-13-fc7ab27f773a>:52: UserWarning: Boolean Series key will be reindexed to match DataFrame index.\n",
      "  alls.append(df_combine[df_combine.rsquare_x>PV_adult][df_combine.rsquare_y>PV_child].shape[0])\n",
      "<ipython-input-13-fc7ab27f773a>:53: UserWarning: Boolean Series key will be reindexed to match DataFrame index.\n",
      "  print(df_combine[df_combine.rsquare_x>PV_adult][df_combine.rsquare_y>PV_child].shape[0])\n",
      "<ipython-input-13-fc7ab27f773a>:52: UserWarning: Boolean Series key will be reindexed to match DataFrame index.\n",
      "  alls.append(df_combine[df_combine.rsquare_x>PV_adult][df_combine.rsquare_y>PV_child].shape[0])\n",
      "<ipython-input-13-fc7ab27f773a>:53: UserWarning: Boolean Series key will be reindexed to match DataFrame index.\n",
      "  print(df_combine[df_combine.rsquare_x>PV_adult][df_combine.rsquare_y>PV_child].shape[0])\n",
      "<ipython-input-13-fc7ab27f773a>:52: UserWarning: Boolean Series key will be reindexed to match DataFrame index.\n",
      "  alls.append(df_combine[df_combine.rsquare_x>PV_adult][df_combine.rsquare_y>PV_child].shape[0])\n",
      "<ipython-input-13-fc7ab27f773a>:53: UserWarning: Boolean Series key will be reindexed to match DataFrame index.\n",
      "  print(df_combine[df_combine.rsquare_x>PV_adult][df_combine.rsquare_y>PV_child].shape[0])\n"
     ]
    },
    {
     "name": "stdout",
     "output_type": "stream",
     "text": [
      "1\n",
      "13\n",
      "25\n",
      "5\n",
      "2\n",
      "100\n",
      "15\n"
     ]
    },
    {
     "name": "stderr",
     "output_type": "stream",
     "text": [
      "<ipython-input-13-fc7ab27f773a>:52: UserWarning: Boolean Series key will be reindexed to match DataFrame index.\n",
      "  alls.append(df_combine[df_combine.rsquare_x>PV_adult][df_combine.rsquare_y>PV_child].shape[0])\n",
      "<ipython-input-13-fc7ab27f773a>:53: UserWarning: Boolean Series key will be reindexed to match DataFrame index.\n",
      "  print(df_combine[df_combine.rsquare_x>PV_adult][df_combine.rsquare_y>PV_child].shape[0])\n",
      "<ipython-input-13-fc7ab27f773a>:52: UserWarning: Boolean Series key will be reindexed to match DataFrame index.\n",
      "  alls.append(df_combine[df_combine.rsquare_x>PV_adult][df_combine.rsquare_y>PV_child].shape[0])\n",
      "<ipython-input-13-fc7ab27f773a>:53: UserWarning: Boolean Series key will be reindexed to match DataFrame index.\n",
      "  print(df_combine[df_combine.rsquare_x>PV_adult][df_combine.rsquare_y>PV_child].shape[0])\n",
      "<ipython-input-13-fc7ab27f773a>:52: UserWarning: Boolean Series key will be reindexed to match DataFrame index.\n",
      "  alls.append(df_combine[df_combine.rsquare_x>PV_adult][df_combine.rsquare_y>PV_child].shape[0])\n",
      "<ipython-input-13-fc7ab27f773a>:53: UserWarning: Boolean Series key will be reindexed to match DataFrame index.\n",
      "  print(df_combine[df_combine.rsquare_x>PV_adult][df_combine.rsquare_y>PV_child].shape[0])\n",
      "<ipython-input-13-fc7ab27f773a>:52: UserWarning: Boolean Series key will be reindexed to match DataFrame index.\n",
      "  alls.append(df_combine[df_combine.rsquare_x>PV_adult][df_combine.rsquare_y>PV_child].shape[0])\n"
     ]
    },
    {
     "name": "stdout",
     "output_type": "stream",
     "text": [
      "9\n",
      "3\n",
      "1\n",
      "1\n"
     ]
    },
    {
     "name": "stderr",
     "output_type": "stream",
     "text": [
      "<ipython-input-13-fc7ab27f773a>:53: UserWarning: Boolean Series key will be reindexed to match DataFrame index.\n",
      "  print(df_combine[df_combine.rsquare_x>PV_adult][df_combine.rsquare_y>PV_child].shape[0])\n",
      "<ipython-input-13-fc7ab27f773a>:52: UserWarning: Boolean Series key will be reindexed to match DataFrame index.\n",
      "  alls.append(df_combine[df_combine.rsquare_x>PV_adult][df_combine.rsquare_y>PV_child].shape[0])\n",
      "<ipython-input-13-fc7ab27f773a>:53: UserWarning: Boolean Series key will be reindexed to match DataFrame index.\n",
      "  print(df_combine[df_combine.rsquare_x>PV_adult][df_combine.rsquare_y>PV_child].shape[0])\n",
      "<ipython-input-13-fc7ab27f773a>:52: UserWarning: Boolean Series key will be reindexed to match DataFrame index.\n",
      "  alls.append(df_combine[df_combine.rsquare_x>PV_adult][df_combine.rsquare_y>PV_child].shape[0])\n",
      "<ipython-input-13-fc7ab27f773a>:53: UserWarning: Boolean Series key will be reindexed to match DataFrame index.\n",
      "  print(df_combine[df_combine.rsquare_x>PV_adult][df_combine.rsquare_y>PV_child].shape[0])\n",
      "<ipython-input-13-fc7ab27f773a>:52: UserWarning: Boolean Series key will be reindexed to match DataFrame index.\n",
      "  alls.append(df_combine[df_combine.rsquare_x>PV_adult][df_combine.rsquare_y>PV_child].shape[0])\n"
     ]
    },
    {
     "name": "stdout",
     "output_type": "stream",
     "text": [
      "40\n",
      "12\n",
      "24\n",
      "19\n"
     ]
    },
    {
     "name": "stderr",
     "output_type": "stream",
     "text": [
      "<ipython-input-13-fc7ab27f773a>:53: UserWarning: Boolean Series key will be reindexed to match DataFrame index.\n",
      "  print(df_combine[df_combine.rsquare_x>PV_adult][df_combine.rsquare_y>PV_child].shape[0])\n",
      "<ipython-input-13-fc7ab27f773a>:52: UserWarning: Boolean Series key will be reindexed to match DataFrame index.\n",
      "  alls.append(df_combine[df_combine.rsquare_x>PV_adult][df_combine.rsquare_y>PV_child].shape[0])\n",
      "<ipython-input-13-fc7ab27f773a>:53: UserWarning: Boolean Series key will be reindexed to match DataFrame index.\n",
      "  print(df_combine[df_combine.rsquare_x>PV_adult][df_combine.rsquare_y>PV_child].shape[0])\n",
      "<ipython-input-13-fc7ab27f773a>:52: UserWarning: Boolean Series key will be reindexed to match DataFrame index.\n",
      "  alls.append(df_combine[df_combine.rsquare_x>PV_adult][df_combine.rsquare_y>PV_child].shape[0])\n",
      "<ipython-input-13-fc7ab27f773a>:53: UserWarning: Boolean Series key will be reindexed to match DataFrame index.\n",
      "  print(df_combine[df_combine.rsquare_x>PV_adult][df_combine.rsquare_y>PV_child].shape[0])\n",
      "<ipython-input-13-fc7ab27f773a>:52: UserWarning: Boolean Series key will be reindexed to match DataFrame index.\n",
      "  alls.append(df_combine[df_combine.rsquare_x>PV_adult][df_combine.rsquare_y>PV_child].shape[0])\n",
      "<ipython-input-13-fc7ab27f773a>:53: UserWarning: Boolean Series key will be reindexed to match DataFrame index.\n",
      "  print(df_combine[df_combine.rsquare_x>PV_adult][df_combine.rsquare_y>PV_child].shape[0])\n",
      "<ipython-input-13-fc7ab27f773a>:52: UserWarning: Boolean Series key will be reindexed to match DataFrame index.\n",
      "  alls.append(df_combine[df_combine.rsquare_x>PV_adult][df_combine.rsquare_y>PV_child].shape[0])\n",
      "<ipython-input-13-fc7ab27f773a>:53: UserWarning: Boolean Series key will be reindexed to match DataFrame index.\n",
      "  print(df_combine[df_combine.rsquare_x>PV_adult][df_combine.rsquare_y>PV_child].shape[0])\n",
      "<ipython-input-13-fc7ab27f773a>:52: UserWarning: Boolean Series key will be reindexed to match DataFrame index.\n",
      "  alls.append(df_combine[df_combine.rsquare_x>PV_adult][df_combine.rsquare_y>PV_child].shape[0])\n",
      "<ipython-input-13-fc7ab27f773a>:53: UserWarning: Boolean Series key will be reindexed to match DataFrame index.\n",
      "  print(df_combine[df_combine.rsquare_x>PV_adult][df_combine.rsquare_y>PV_child].shape[0])\n",
      "<ipython-input-13-fc7ab27f773a>:52: UserWarning: Boolean Series key will be reindexed to match DataFrame index.\n",
      "  alls.append(df_combine[df_combine.rsquare_x>PV_adult][df_combine.rsquare_y>PV_child].shape[0])\n",
      "<ipython-input-13-fc7ab27f773a>:53: UserWarning: Boolean Series key will be reindexed to match DataFrame index.\n",
      "  print(df_combine[df_combine.rsquare_x>PV_adult][df_combine.rsquare_y>PV_child].shape[0])\n",
      "<ipython-input-13-fc7ab27f773a>:52: UserWarning: Boolean Series key will be reindexed to match DataFrame index.\n",
      "  alls.append(df_combine[df_combine.rsquare_x>PV_adult][df_combine.rsquare_y>PV_child].shape[0])\n",
      "<ipython-input-13-fc7ab27f773a>:53: UserWarning: Boolean Series key will be reindexed to match DataFrame index.\n",
      "  print(df_combine[df_combine.rsquare_x>PV_adult][df_combine.rsquare_y>PV_child].shape[0])\n",
      "<ipython-input-13-fc7ab27f773a>:52: UserWarning: Boolean Series key will be reindexed to match DataFrame index.\n",
      "  alls.append(df_combine[df_combine.rsquare_x>PV_adult][df_combine.rsquare_y>PV_child].shape[0])\n",
      "<ipython-input-13-fc7ab27f773a>:53: UserWarning: Boolean Series key will be reindexed to match DataFrame index.\n",
      "  print(df_combine[df_combine.rsquare_x>PV_adult][df_combine.rsquare_y>PV_child].shape[0])\n",
      "<ipython-input-13-fc7ab27f773a>:52: UserWarning: Boolean Series key will be reindexed to match DataFrame index.\n",
      "  alls.append(df_combine[df_combine.rsquare_x>PV_adult][df_combine.rsquare_y>PV_child].shape[0])\n"
     ]
    },
    {
     "name": "stdout",
     "output_type": "stream",
     "text": [
      "26\n",
      "25\n",
      "6\n",
      "16\n",
      "7\n",
      "16\n",
      "29\n",
      "16\n",
      "0\n"
     ]
    },
    {
     "name": "stderr",
     "output_type": "stream",
     "text": [
      "<ipython-input-13-fc7ab27f773a>:53: UserWarning: Boolean Series key will be reindexed to match DataFrame index.\n",
      "  print(df_combine[df_combine.rsquare_x>PV_adult][df_combine.rsquare_y>PV_child].shape[0])\n",
      "<ipython-input-13-fc7ab27f773a>:52: UserWarning: Boolean Series key will be reindexed to match DataFrame index.\n",
      "  alls.append(df_combine[df_combine.rsquare_x>PV_adult][df_combine.rsquare_y>PV_child].shape[0])\n",
      "<ipython-input-13-fc7ab27f773a>:53: UserWarning: Boolean Series key will be reindexed to match DataFrame index.\n",
      "  print(df_combine[df_combine.rsquare_x>PV_adult][df_combine.rsquare_y>PV_child].shape[0])\n",
      "<ipython-input-13-fc7ab27f773a>:52: UserWarning: Boolean Series key will be reindexed to match DataFrame index.\n",
      "  alls.append(df_combine[df_combine.rsquare_x>PV_adult][df_combine.rsquare_y>PV_child].shape[0])\n",
      "<ipython-input-13-fc7ab27f773a>:53: UserWarning: Boolean Series key will be reindexed to match DataFrame index.\n",
      "  print(df_combine[df_combine.rsquare_x>PV_adult][df_combine.rsquare_y>PV_child].shape[0])\n",
      "<ipython-input-13-fc7ab27f773a>:52: UserWarning: Boolean Series key will be reindexed to match DataFrame index.\n",
      "  alls.append(df_combine[df_combine.rsquare_x>PV_adult][df_combine.rsquare_y>PV_child].shape[0])\n",
      "<ipython-input-13-fc7ab27f773a>:53: UserWarning: Boolean Series key will be reindexed to match DataFrame index.\n",
      "  print(df_combine[df_combine.rsquare_x>PV_adult][df_combine.rsquare_y>PV_child].shape[0])\n",
      "<ipython-input-13-fc7ab27f773a>:52: UserWarning: Boolean Series key will be reindexed to match DataFrame index.\n",
      "  alls.append(df_combine[df_combine.rsquare_x>PV_adult][df_combine.rsquare_y>PV_child].shape[0])\n",
      "<ipython-input-13-fc7ab27f773a>:53: UserWarning: Boolean Series key will be reindexed to match DataFrame index.\n",
      "  print(df_combine[df_combine.rsquare_x>PV_adult][df_combine.rsquare_y>PV_child].shape[0])\n"
     ]
    },
    {
     "name": "stdout",
     "output_type": "stream",
     "text": [
      "5\n",
      "28\n",
      "8\n",
      "3\n"
     ]
    },
    {
     "name": "stderr",
     "output_type": "stream",
     "text": [
      "<ipython-input-13-fc7ab27f773a>:52: UserWarning: Boolean Series key will be reindexed to match DataFrame index.\n",
      "  alls.append(df_combine[df_combine.rsquare_x>PV_adult][df_combine.rsquare_y>PV_child].shape[0])\n",
      "<ipython-input-13-fc7ab27f773a>:53: UserWarning: Boolean Series key will be reindexed to match DataFrame index.\n",
      "  print(df_combine[df_combine.rsquare_x>PV_adult][df_combine.rsquare_y>PV_child].shape[0])\n",
      "<ipython-input-13-fc7ab27f773a>:52: UserWarning: Boolean Series key will be reindexed to match DataFrame index.\n",
      "  alls.append(df_combine[df_combine.rsquare_x>PV_adult][df_combine.rsquare_y>PV_child].shape[0])\n",
      "<ipython-input-13-fc7ab27f773a>:53: UserWarning: Boolean Series key will be reindexed to match DataFrame index.\n",
      "  print(df_combine[df_combine.rsquare_x>PV_adult][df_combine.rsquare_y>PV_child].shape[0])\n",
      "<ipython-input-13-fc7ab27f773a>:52: UserWarning: Boolean Series key will be reindexed to match DataFrame index.\n",
      "  alls.append(df_combine[df_combine.rsquare_x>PV_adult][df_combine.rsquare_y>PV_child].shape[0])\n",
      "<ipython-input-13-fc7ab27f773a>:53: UserWarning: Boolean Series key will be reindexed to match DataFrame index.\n",
      "  print(df_combine[df_combine.rsquare_x>PV_adult][df_combine.rsquare_y>PV_child].shape[0])\n",
      "<ipython-input-13-fc7ab27f773a>:52: UserWarning: Boolean Series key will be reindexed to match DataFrame index.\n",
      "  alls.append(df_combine[df_combine.rsquare_x>PV_adult][df_combine.rsquare_y>PV_child].shape[0])\n",
      "<ipython-input-13-fc7ab27f773a>:53: UserWarning: Boolean Series key will be reindexed to match DataFrame index.\n",
      "  print(df_combine[df_combine.rsquare_x>PV_adult][df_combine.rsquare_y>PV_child].shape[0])\n",
      "<ipython-input-13-fc7ab27f773a>:52: UserWarning: Boolean Series key will be reindexed to match DataFrame index.\n",
      "  alls.append(df_combine[df_combine.rsquare_x>PV_adult][df_combine.rsquare_y>PV_child].shape[0])\n"
     ]
    },
    {
     "name": "stdout",
     "output_type": "stream",
     "text": [
      "16\n",
      "1\n",
      "11\n"
     ]
    },
    {
     "name": "stderr",
     "output_type": "stream",
     "text": [
      "<ipython-input-13-fc7ab27f773a>:53: UserWarning: Boolean Series key will be reindexed to match DataFrame index.\n",
      "  print(df_combine[df_combine.rsquare_x>PV_adult][df_combine.rsquare_y>PV_child].shape[0])\n",
      "<ipython-input-13-fc7ab27f773a>:52: UserWarning: Boolean Series key will be reindexed to match DataFrame index.\n",
      "  alls.append(df_combine[df_combine.rsquare_x>PV_adult][df_combine.rsquare_y>PV_child].shape[0])\n",
      "<ipython-input-13-fc7ab27f773a>:53: UserWarning: Boolean Series key will be reindexed to match DataFrame index.\n",
      "  print(df_combine[df_combine.rsquare_x>PV_adult][df_combine.rsquare_y>PV_child].shape[0])\n",
      "<ipython-input-13-fc7ab27f773a>:52: UserWarning: Boolean Series key will be reindexed to match DataFrame index.\n",
      "  alls.append(df_combine[df_combine.rsquare_x>PV_adult][df_combine.rsquare_y>PV_child].shape[0])\n"
     ]
    },
    {
     "name": "stdout",
     "output_type": "stream",
     "text": [
      "21\n",
      "9\n",
      "23\n"
     ]
    },
    {
     "name": "stderr",
     "output_type": "stream",
     "text": [
      "<ipython-input-13-fc7ab27f773a>:53: UserWarning: Boolean Series key will be reindexed to match DataFrame index.\n",
      "  print(df_combine[df_combine.rsquare_x>PV_adult][df_combine.rsquare_y>PV_child].shape[0])\n",
      "<ipython-input-13-fc7ab27f773a>:52: UserWarning: Boolean Series key will be reindexed to match DataFrame index.\n",
      "  alls.append(df_combine[df_combine.rsquare_x>PV_adult][df_combine.rsquare_y>PV_child].shape[0])\n",
      "<ipython-input-13-fc7ab27f773a>:53: UserWarning: Boolean Series key will be reindexed to match DataFrame index.\n",
      "  print(df_combine[df_combine.rsquare_x>PV_adult][df_combine.rsquare_y>PV_child].shape[0])\n",
      "<ipython-input-13-fc7ab27f773a>:52: UserWarning: Boolean Series key will be reindexed to match DataFrame index.\n",
      "  alls.append(df_combine[df_combine.rsquare_x>PV_adult][df_combine.rsquare_y>PV_child].shape[0])\n",
      "<ipython-input-13-fc7ab27f773a>:53: UserWarning: Boolean Series key will be reindexed to match DataFrame index.\n",
      "  print(df_combine[df_combine.rsquare_x>PV_adult][df_combine.rsquare_y>PV_child].shape[0])\n",
      "<ipython-input-13-fc7ab27f773a>:52: UserWarning: Boolean Series key will be reindexed to match DataFrame index.\n",
      "  alls.append(df_combine[df_combine.rsquare_x>PV_adult][df_combine.rsquare_y>PV_child].shape[0])\n",
      "<ipython-input-13-fc7ab27f773a>:53: UserWarning: Boolean Series key will be reindexed to match DataFrame index.\n",
      "  print(df_combine[df_combine.rsquare_x>PV_adult][df_combine.rsquare_y>PV_child].shape[0])\n",
      "<ipython-input-13-fc7ab27f773a>:52: UserWarning: Boolean Series key will be reindexed to match DataFrame index.\n",
      "  alls.append(df_combine[df_combine.rsquare_x>PV_adult][df_combine.rsquare_y>PV_child].shape[0])\n",
      "<ipython-input-13-fc7ab27f773a>:53: UserWarning: Boolean Series key will be reindexed to match DataFrame index.\n",
      "  print(df_combine[df_combine.rsquare_x>PV_adult][df_combine.rsquare_y>PV_child].shape[0])\n",
      "<ipython-input-13-fc7ab27f773a>:52: UserWarning: Boolean Series key will be reindexed to match DataFrame index.\n",
      "  alls.append(df_combine[df_combine.rsquare_x>PV_adult][df_combine.rsquare_y>PV_child].shape[0])\n"
     ]
    },
    {
     "name": "stdout",
     "output_type": "stream",
     "text": [
      "9\n",
      "13\n",
      "4\n",
      "11\n",
      "2\n",
      "5\n"
     ]
    },
    {
     "name": "stderr",
     "output_type": "stream",
     "text": [
      "<ipython-input-13-fc7ab27f773a>:53: UserWarning: Boolean Series key will be reindexed to match DataFrame index.\n",
      "  print(df_combine[df_combine.rsquare_x>PV_adult][df_combine.rsquare_y>PV_child].shape[0])\n",
      "<ipython-input-13-fc7ab27f773a>:52: UserWarning: Boolean Series key will be reindexed to match DataFrame index.\n",
      "  alls.append(df_combine[df_combine.rsquare_x>PV_adult][df_combine.rsquare_y>PV_child].shape[0])\n",
      "<ipython-input-13-fc7ab27f773a>:53: UserWarning: Boolean Series key will be reindexed to match DataFrame index.\n",
      "  print(df_combine[df_combine.rsquare_x>PV_adult][df_combine.rsquare_y>PV_child].shape[0])\n",
      "<ipython-input-13-fc7ab27f773a>:52: UserWarning: Boolean Series key will be reindexed to match DataFrame index.\n",
      "  alls.append(df_combine[df_combine.rsquare_x>PV_adult][df_combine.rsquare_y>PV_child].shape[0])\n",
      "<ipython-input-13-fc7ab27f773a>:53: UserWarning: Boolean Series key will be reindexed to match DataFrame index.\n",
      "  print(df_combine[df_combine.rsquare_x>PV_adult][df_combine.rsquare_y>PV_child].shape[0])\n",
      "<ipython-input-13-fc7ab27f773a>:52: UserWarning: Boolean Series key will be reindexed to match DataFrame index.\n",
      "  alls.append(df_combine[df_combine.rsquare_x>PV_adult][df_combine.rsquare_y>PV_child].shape[0])\n",
      "<ipython-input-13-fc7ab27f773a>:53: UserWarning: Boolean Series key will be reindexed to match DataFrame index.\n",
      "  print(df_combine[df_combine.rsquare_x>PV_adult][df_combine.rsquare_y>PV_child].shape[0])\n",
      "<ipython-input-13-fc7ab27f773a>:52: UserWarning: Boolean Series key will be reindexed to match DataFrame index.\n",
      "  alls.append(df_combine[df_combine.rsquare_x>PV_adult][df_combine.rsquare_y>PV_child].shape[0])\n",
      "<ipython-input-13-fc7ab27f773a>:53: UserWarning: Boolean Series key will be reindexed to match DataFrame index.\n",
      "  print(df_combine[df_combine.rsquare_x>PV_adult][df_combine.rsquare_y>PV_child].shape[0])\n",
      "<ipython-input-13-fc7ab27f773a>:52: UserWarning: Boolean Series key will be reindexed to match DataFrame index.\n",
      "  alls.append(df_combine[df_combine.rsquare_x>PV_adult][df_combine.rsquare_y>PV_child].shape[0])\n",
      "<ipython-input-13-fc7ab27f773a>:53: UserWarning: Boolean Series key will be reindexed to match DataFrame index.\n",
      "  print(df_combine[df_combine.rsquare_x>PV_adult][df_combine.rsquare_y>PV_child].shape[0])\n",
      "<ipython-input-13-fc7ab27f773a>:52: UserWarning: Boolean Series key will be reindexed to match DataFrame index.\n",
      "  alls.append(df_combine[df_combine.rsquare_x>PV_adult][df_combine.rsquare_y>PV_child].shape[0])\n"
     ]
    },
    {
     "name": "stdout",
     "output_type": "stream",
     "text": [
      "15\n",
      "13\n",
      "27\n",
      "2\n",
      "2\n"
     ]
    },
    {
     "name": "stderr",
     "output_type": "stream",
     "text": [
      "<ipython-input-13-fc7ab27f773a>:53: UserWarning: Boolean Series key will be reindexed to match DataFrame index.\n",
      "  print(df_combine[df_combine.rsquare_x>PV_adult][df_combine.rsquare_y>PV_child].shape[0])\n",
      "<ipython-input-13-fc7ab27f773a>:52: UserWarning: Boolean Series key will be reindexed to match DataFrame index.\n",
      "  alls.append(df_combine[df_combine.rsquare_x>PV_adult][df_combine.rsquare_y>PV_child].shape[0])\n",
      "<ipython-input-13-fc7ab27f773a>:53: UserWarning: Boolean Series key will be reindexed to match DataFrame index.\n",
      "  print(df_combine[df_combine.rsquare_x>PV_adult][df_combine.rsquare_y>PV_child].shape[0])\n",
      "<ipython-input-13-fc7ab27f773a>:52: UserWarning: Boolean Series key will be reindexed to match DataFrame index.\n",
      "  alls.append(df_combine[df_combine.rsquare_x>PV_adult][df_combine.rsquare_y>PV_child].shape[0])\n",
      "<ipython-input-13-fc7ab27f773a>:53: UserWarning: Boolean Series key will be reindexed to match DataFrame index.\n",
      "  print(df_combine[df_combine.rsquare_x>PV_adult][df_combine.rsquare_y>PV_child].shape[0])\n",
      "<ipython-input-13-fc7ab27f773a>:52: UserWarning: Boolean Series key will be reindexed to match DataFrame index.\n",
      "  alls.append(df_combine[df_combine.rsquare_x>PV_adult][df_combine.rsquare_y>PV_child].shape[0])\n",
      "<ipython-input-13-fc7ab27f773a>:53: UserWarning: Boolean Series key will be reindexed to match DataFrame index.\n",
      "  print(df_combine[df_combine.rsquare_x>PV_adult][df_combine.rsquare_y>PV_child].shape[0])\n"
     ]
    },
    {
     "name": "stdout",
     "output_type": "stream",
     "text": [
      "3\n",
      "17\n",
      "30\n",
      "3\n"
     ]
    },
    {
     "name": "stderr",
     "output_type": "stream",
     "text": [
      "<ipython-input-13-fc7ab27f773a>:52: UserWarning: Boolean Series key will be reindexed to match DataFrame index.\n",
      "  alls.append(df_combine[df_combine.rsquare_x>PV_adult][df_combine.rsquare_y>PV_child].shape[0])\n",
      "<ipython-input-13-fc7ab27f773a>:53: UserWarning: Boolean Series key will be reindexed to match DataFrame index.\n",
      "  print(df_combine[df_combine.rsquare_x>PV_adult][df_combine.rsquare_y>PV_child].shape[0])\n",
      "<ipython-input-13-fc7ab27f773a>:52: UserWarning: Boolean Series key will be reindexed to match DataFrame index.\n",
      "  alls.append(df_combine[df_combine.rsquare_x>PV_adult][df_combine.rsquare_y>PV_child].shape[0])\n",
      "<ipython-input-13-fc7ab27f773a>:53: UserWarning: Boolean Series key will be reindexed to match DataFrame index.\n",
      "  print(df_combine[df_combine.rsquare_x>PV_adult][df_combine.rsquare_y>PV_child].shape[0])\n",
      "<ipython-input-13-fc7ab27f773a>:52: UserWarning: Boolean Series key will be reindexed to match DataFrame index.\n",
      "  alls.append(df_combine[df_combine.rsquare_x>PV_adult][df_combine.rsquare_y>PV_child].shape[0])\n",
      "<ipython-input-13-fc7ab27f773a>:53: UserWarning: Boolean Series key will be reindexed to match DataFrame index.\n",
      "  print(df_combine[df_combine.rsquare_x>PV_adult][df_combine.rsquare_y>PV_child].shape[0])\n",
      "<ipython-input-13-fc7ab27f773a>:52: UserWarning: Boolean Series key will be reindexed to match DataFrame index.\n",
      "  alls.append(df_combine[df_combine.rsquare_x>PV_adult][df_combine.rsquare_y>PV_child].shape[0])\n"
     ]
    },
    {
     "name": "stdout",
     "output_type": "stream",
     "text": [
      "1\n",
      "19\n",
      "8\n",
      "10\n",
      "0\n"
     ]
    },
    {
     "name": "stderr",
     "output_type": "stream",
     "text": [
      "<ipython-input-13-fc7ab27f773a>:53: UserWarning: Boolean Series key will be reindexed to match DataFrame index.\n",
      "  print(df_combine[df_combine.rsquare_x>PV_adult][df_combine.rsquare_y>PV_child].shape[0])\n",
      "<ipython-input-13-fc7ab27f773a>:52: UserWarning: Boolean Series key will be reindexed to match DataFrame index.\n",
      "  alls.append(df_combine[df_combine.rsquare_x>PV_adult][df_combine.rsquare_y>PV_child].shape[0])\n",
      "<ipython-input-13-fc7ab27f773a>:53: UserWarning: Boolean Series key will be reindexed to match DataFrame index.\n",
      "  print(df_combine[df_combine.rsquare_x>PV_adult][df_combine.rsquare_y>PV_child].shape[0])\n",
      "<ipython-input-13-fc7ab27f773a>:52: UserWarning: Boolean Series key will be reindexed to match DataFrame index.\n",
      "  alls.append(df_combine[df_combine.rsquare_x>PV_adult][df_combine.rsquare_y>PV_child].shape[0])\n",
      "<ipython-input-13-fc7ab27f773a>:53: UserWarning: Boolean Series key will be reindexed to match DataFrame index.\n",
      "  print(df_combine[df_combine.rsquare_x>PV_adult][df_combine.rsquare_y>PV_child].shape[0])\n",
      "<ipython-input-13-fc7ab27f773a>:52: UserWarning: Boolean Series key will be reindexed to match DataFrame index.\n",
      "  alls.append(df_combine[df_combine.rsquare_x>PV_adult][df_combine.rsquare_y>PV_child].shape[0])\n",
      "<ipython-input-13-fc7ab27f773a>:53: UserWarning: Boolean Series key will be reindexed to match DataFrame index.\n",
      "  print(df_combine[df_combine.rsquare_x>PV_adult][df_combine.rsquare_y>PV_child].shape[0])\n",
      "<ipython-input-13-fc7ab27f773a>:52: UserWarning: Boolean Series key will be reindexed to match DataFrame index.\n",
      "  alls.append(df_combine[df_combine.rsquare_x>PV_adult][df_combine.rsquare_y>PV_child].shape[0])\n",
      "<ipython-input-13-fc7ab27f773a>:53: UserWarning: Boolean Series key will be reindexed to match DataFrame index.\n",
      "  print(df_combine[df_combine.rsquare_x>PV_adult][df_combine.rsquare_y>PV_child].shape[0])\n",
      "<ipython-input-13-fc7ab27f773a>:52: UserWarning: Boolean Series key will be reindexed to match DataFrame index.\n",
      "  alls.append(df_combine[df_combine.rsquare_x>PV_adult][df_combine.rsquare_y>PV_child].shape[0])\n"
     ]
    },
    {
     "name": "stdout",
     "output_type": "stream",
     "text": [
      "30\n",
      "3\n",
      "150\n",
      "25\n"
     ]
    },
    {
     "name": "stderr",
     "output_type": "stream",
     "text": [
      "<ipython-input-13-fc7ab27f773a>:53: UserWarning: Boolean Series key will be reindexed to match DataFrame index.\n",
      "  print(df_combine[df_combine.rsquare_x>PV_adult][df_combine.rsquare_y>PV_child].shape[0])\n",
      "<ipython-input-13-fc7ab27f773a>:52: UserWarning: Boolean Series key will be reindexed to match DataFrame index.\n",
      "  alls.append(df_combine[df_combine.rsquare_x>PV_adult][df_combine.rsquare_y>PV_child].shape[0])\n",
      "<ipython-input-13-fc7ab27f773a>:53: UserWarning: Boolean Series key will be reindexed to match DataFrame index.\n",
      "  print(df_combine[df_combine.rsquare_x>PV_adult][df_combine.rsquare_y>PV_child].shape[0])\n",
      "<ipython-input-13-fc7ab27f773a>:52: UserWarning: Boolean Series key will be reindexed to match DataFrame index.\n",
      "  alls.append(df_combine[df_combine.rsquare_x>PV_adult][df_combine.rsquare_y>PV_child].shape[0])\n",
      "<ipython-input-13-fc7ab27f773a>:53: UserWarning: Boolean Series key will be reindexed to match DataFrame index.\n",
      "  print(df_combine[df_combine.rsquare_x>PV_adult][df_combine.rsquare_y>PV_child].shape[0])\n"
     ]
    },
    {
     "name": "stdout",
     "output_type": "stream",
     "text": [
      "5\n",
      "20\n",
      "11\n"
     ]
    },
    {
     "name": "stderr",
     "output_type": "stream",
     "text": [
      "<ipython-input-13-fc7ab27f773a>:52: UserWarning: Boolean Series key will be reindexed to match DataFrame index.\n",
      "  alls.append(df_combine[df_combine.rsquare_x>PV_adult][df_combine.rsquare_y>PV_child].shape[0])\n",
      "<ipython-input-13-fc7ab27f773a>:53: UserWarning: Boolean Series key will be reindexed to match DataFrame index.\n",
      "  print(df_combine[df_combine.rsquare_x>PV_adult][df_combine.rsquare_y>PV_child].shape[0])\n",
      "<ipython-input-13-fc7ab27f773a>:52: UserWarning: Boolean Series key will be reindexed to match DataFrame index.\n",
      "  alls.append(df_combine[df_combine.rsquare_x>PV_adult][df_combine.rsquare_y>PV_child].shape[0])\n",
      "<ipython-input-13-fc7ab27f773a>:53: UserWarning: Boolean Series key will be reindexed to match DataFrame index.\n",
      "  print(df_combine[df_combine.rsquare_x>PV_adult][df_combine.rsquare_y>PV_child].shape[0])\n",
      "<ipython-input-13-fc7ab27f773a>:52: UserWarning: Boolean Series key will be reindexed to match DataFrame index.\n",
      "  alls.append(df_combine[df_combine.rsquare_x>PV_adult][df_combine.rsquare_y>PV_child].shape[0])\n",
      "<ipython-input-13-fc7ab27f773a>:53: UserWarning: Boolean Series key will be reindexed to match DataFrame index.\n",
      "  print(df_combine[df_combine.rsquare_x>PV_adult][df_combine.rsquare_y>PV_child].shape[0])\n"
     ]
    },
    {
     "name": "stdout",
     "output_type": "stream",
     "text": [
      "3\n"
     ]
    },
    {
     "name": "stderr",
     "output_type": "stream",
     "text": [
      "<ipython-input-13-fc7ab27f773a>:52: UserWarning: Boolean Series key will be reindexed to match DataFrame index.\n",
      "  alls.append(df_combine[df_combine.rsquare_x>PV_adult][df_combine.rsquare_y>PV_child].shape[0])\n",
      "<ipython-input-13-fc7ab27f773a>:53: UserWarning: Boolean Series key will be reindexed to match DataFrame index.\n",
      "  print(df_combine[df_combine.rsquare_x>PV_adult][df_combine.rsquare_y>PV_child].shape[0])\n",
      "<ipython-input-13-fc7ab27f773a>:52: UserWarning: Boolean Series key will be reindexed to match DataFrame index.\n",
      "  alls.append(df_combine[df_combine.rsquare_x>PV_adult][df_combine.rsquare_y>PV_child].shape[0])\n"
     ]
    },
    {
     "name": "stdout",
     "output_type": "stream",
     "text": [
      "31\n",
      "19\n"
     ]
    },
    {
     "name": "stderr",
     "output_type": "stream",
     "text": [
      "<ipython-input-13-fc7ab27f773a>:53: UserWarning: Boolean Series key will be reindexed to match DataFrame index.\n",
      "  print(df_combine[df_combine.rsquare_x>PV_adult][df_combine.rsquare_y>PV_child].shape[0])\n",
      "<ipython-input-13-fc7ab27f773a>:52: UserWarning: Boolean Series key will be reindexed to match DataFrame index.\n",
      "  alls.append(df_combine[df_combine.rsquare_x>PV_adult][df_combine.rsquare_y>PV_child].shape[0])\n",
      "<ipython-input-13-fc7ab27f773a>:53: UserWarning: Boolean Series key will be reindexed to match DataFrame index.\n",
      "  print(df_combine[df_combine.rsquare_x>PV_adult][df_combine.rsquare_y>PV_child].shape[0])\n",
      "<ipython-input-13-fc7ab27f773a>:52: UserWarning: Boolean Series key will be reindexed to match DataFrame index.\n",
      "  alls.append(df_combine[df_combine.rsquare_x>PV_adult][df_combine.rsquare_y>PV_child].shape[0])\n"
     ]
    },
    {
     "name": "stdout",
     "output_type": "stream",
     "text": [
      "10\n",
      "14\n",
      "22\n",
      "12\n"
     ]
    },
    {
     "name": "stderr",
     "output_type": "stream",
     "text": [
      "<ipython-input-13-fc7ab27f773a>:53: UserWarning: Boolean Series key will be reindexed to match DataFrame index.\n",
      "  print(df_combine[df_combine.rsquare_x>PV_adult][df_combine.rsquare_y>PV_child].shape[0])\n",
      "<ipython-input-13-fc7ab27f773a>:52: UserWarning: Boolean Series key will be reindexed to match DataFrame index.\n",
      "  alls.append(df_combine[df_combine.rsquare_x>PV_adult][df_combine.rsquare_y>PV_child].shape[0])\n",
      "<ipython-input-13-fc7ab27f773a>:53: UserWarning: Boolean Series key will be reindexed to match DataFrame index.\n",
      "  print(df_combine[df_combine.rsquare_x>PV_adult][df_combine.rsquare_y>PV_child].shape[0])\n",
      "<ipython-input-13-fc7ab27f773a>:52: UserWarning: Boolean Series key will be reindexed to match DataFrame index.\n",
      "  alls.append(df_combine[df_combine.rsquare_x>PV_adult][df_combine.rsquare_y>PV_child].shape[0])\n",
      "<ipython-input-13-fc7ab27f773a>:53: UserWarning: Boolean Series key will be reindexed to match DataFrame index.\n",
      "  print(df_combine[df_combine.rsquare_x>PV_adult][df_combine.rsquare_y>PV_child].shape[0])\n",
      "<ipython-input-13-fc7ab27f773a>:52: UserWarning: Boolean Series key will be reindexed to match DataFrame index.\n",
      "  alls.append(df_combine[df_combine.rsquare_x>PV_adult][df_combine.rsquare_y>PV_child].shape[0])\n",
      "<ipython-input-13-fc7ab27f773a>:53: UserWarning: Boolean Series key will be reindexed to match DataFrame index.\n",
      "  print(df_combine[df_combine.rsquare_x>PV_adult][df_combine.rsquare_y>PV_child].shape[0])\n",
      "<ipython-input-13-fc7ab27f773a>:52: UserWarning: Boolean Series key will be reindexed to match DataFrame index.\n",
      "  alls.append(df_combine[df_combine.rsquare_x>PV_adult][df_combine.rsquare_y>PV_child].shape[0])\n",
      "<ipython-input-13-fc7ab27f773a>:53: UserWarning: Boolean Series key will be reindexed to match DataFrame index.\n",
      "  print(df_combine[df_combine.rsquare_x>PV_adult][df_combine.rsquare_y>PV_child].shape[0])\n",
      "<ipython-input-13-fc7ab27f773a>:52: UserWarning: Boolean Series key will be reindexed to match DataFrame index.\n",
      "  alls.append(df_combine[df_combine.rsquare_x>PV_adult][df_combine.rsquare_y>PV_child].shape[0])\n",
      "<ipython-input-13-fc7ab27f773a>:53: UserWarning: Boolean Series key will be reindexed to match DataFrame index.\n",
      "  print(df_combine[df_combine.rsquare_x>PV_adult][df_combine.rsquare_y>PV_child].shape[0])\n",
      "<ipython-input-13-fc7ab27f773a>:52: UserWarning: Boolean Series key will be reindexed to match DataFrame index.\n",
      "  alls.append(df_combine[df_combine.rsquare_x>PV_adult][df_combine.rsquare_y>PV_child].shape[0])\n"
     ]
    },
    {
     "name": "stdout",
     "output_type": "stream",
     "text": [
      "5\n",
      "33\n",
      "2\n",
      "3\n",
      "31\n",
      "29\n",
      "6\n",
      "3\n"
     ]
    },
    {
     "name": "stderr",
     "output_type": "stream",
     "text": [
      "<ipython-input-13-fc7ab27f773a>:53: UserWarning: Boolean Series key will be reindexed to match DataFrame index.\n",
      "  print(df_combine[df_combine.rsquare_x>PV_adult][df_combine.rsquare_y>PV_child].shape[0])\n",
      "<ipython-input-13-fc7ab27f773a>:52: UserWarning: Boolean Series key will be reindexed to match DataFrame index.\n",
      "  alls.append(df_combine[df_combine.rsquare_x>PV_adult][df_combine.rsquare_y>PV_child].shape[0])\n",
      "<ipython-input-13-fc7ab27f773a>:53: UserWarning: Boolean Series key will be reindexed to match DataFrame index.\n",
      "  print(df_combine[df_combine.rsquare_x>PV_adult][df_combine.rsquare_y>PV_child].shape[0])\n",
      "<ipython-input-13-fc7ab27f773a>:52: UserWarning: Boolean Series key will be reindexed to match DataFrame index.\n",
      "  alls.append(df_combine[df_combine.rsquare_x>PV_adult][df_combine.rsquare_y>PV_child].shape[0])\n",
      "<ipython-input-13-fc7ab27f773a>:53: UserWarning: Boolean Series key will be reindexed to match DataFrame index.\n",
      "  print(df_combine[df_combine.rsquare_x>PV_adult][df_combine.rsquare_y>PV_child].shape[0])\n",
      "<ipython-input-13-fc7ab27f773a>:52: UserWarning: Boolean Series key will be reindexed to match DataFrame index.\n",
      "  alls.append(df_combine[df_combine.rsquare_x>PV_adult][df_combine.rsquare_y>PV_child].shape[0])\n",
      "<ipython-input-13-fc7ab27f773a>:53: UserWarning: Boolean Series key will be reindexed to match DataFrame index.\n",
      "  print(df_combine[df_combine.rsquare_x>PV_adult][df_combine.rsquare_y>PV_child].shape[0])\n",
      "<ipython-input-13-fc7ab27f773a>:52: UserWarning: Boolean Series key will be reindexed to match DataFrame index.\n",
      "  alls.append(df_combine[df_combine.rsquare_x>PV_adult][df_combine.rsquare_y>PV_child].shape[0])\n",
      "<ipython-input-13-fc7ab27f773a>:53: UserWarning: Boolean Series key will be reindexed to match DataFrame index.\n",
      "  print(df_combine[df_combine.rsquare_x>PV_adult][df_combine.rsquare_y>PV_child].shape[0])\n",
      "<ipython-input-13-fc7ab27f773a>:52: UserWarning: Boolean Series key will be reindexed to match DataFrame index.\n",
      "  alls.append(df_combine[df_combine.rsquare_x>PV_adult][df_combine.rsquare_y>PV_child].shape[0])\n",
      "<ipython-input-13-fc7ab27f773a>:53: UserWarning: Boolean Series key will be reindexed to match DataFrame index.\n",
      "  print(df_combine[df_combine.rsquare_x>PV_adult][df_combine.rsquare_y>PV_child].shape[0])\n",
      "<ipython-input-13-fc7ab27f773a>:52: UserWarning: Boolean Series key will be reindexed to match DataFrame index.\n",
      "  alls.append(df_combine[df_combine.rsquare_x>PV_adult][df_combine.rsquare_y>PV_child].shape[0])\n",
      "<ipython-input-13-fc7ab27f773a>:53: UserWarning: Boolean Series key will be reindexed to match DataFrame index.\n",
      "  print(df_combine[df_combine.rsquare_x>PV_adult][df_combine.rsquare_y>PV_child].shape[0])\n"
     ]
    },
    {
     "name": "stdout",
     "output_type": "stream",
     "text": [
      "7\n",
      "13\n",
      "14\n"
     ]
    },
    {
     "name": "stderr",
     "output_type": "stream",
     "text": [
      "<ipython-input-13-fc7ab27f773a>:52: UserWarning: Boolean Series key will be reindexed to match DataFrame index.\n",
      "  alls.append(df_combine[df_combine.rsquare_x>PV_adult][df_combine.rsquare_y>PV_child].shape[0])\n",
      "<ipython-input-13-fc7ab27f773a>:53: UserWarning: Boolean Series key will be reindexed to match DataFrame index.\n",
      "  print(df_combine[df_combine.rsquare_x>PV_adult][df_combine.rsquare_y>PV_child].shape[0])\n",
      "<ipython-input-13-fc7ab27f773a>:52: UserWarning: Boolean Series key will be reindexed to match DataFrame index.\n",
      "  alls.append(df_combine[df_combine.rsquare_x>PV_adult][df_combine.rsquare_y>PV_child].shape[0])\n",
      "<ipython-input-13-fc7ab27f773a>:53: UserWarning: Boolean Series key will be reindexed to match DataFrame index.\n",
      "  print(df_combine[df_combine.rsquare_x>PV_adult][df_combine.rsquare_y>PV_child].shape[0])\n",
      "<ipython-input-13-fc7ab27f773a>:52: UserWarning: Boolean Series key will be reindexed to match DataFrame index.\n",
      "  alls.append(df_combine[df_combine.rsquare_x>PV_adult][df_combine.rsquare_y>PV_child].shape[0])\n",
      "<ipython-input-13-fc7ab27f773a>:53: UserWarning: Boolean Series key will be reindexed to match DataFrame index.\n",
      "  print(df_combine[df_combine.rsquare_x>PV_adult][df_combine.rsquare_y>PV_child].shape[0])\n"
     ]
    },
    {
     "name": "stdout",
     "output_type": "stream",
     "text": [
      "27\n",
      "2\n",
      "5\n",
      "10\n",
      "0\n"
     ]
    },
    {
     "name": "stderr",
     "output_type": "stream",
     "text": [
      "<ipython-input-13-fc7ab27f773a>:52: UserWarning: Boolean Series key will be reindexed to match DataFrame index.\n",
      "  alls.append(df_combine[df_combine.rsquare_x>PV_adult][df_combine.rsquare_y>PV_child].shape[0])\n",
      "<ipython-input-13-fc7ab27f773a>:53: UserWarning: Boolean Series key will be reindexed to match DataFrame index.\n",
      "  print(df_combine[df_combine.rsquare_x>PV_adult][df_combine.rsquare_y>PV_child].shape[0])\n",
      "<ipython-input-13-fc7ab27f773a>:52: UserWarning: Boolean Series key will be reindexed to match DataFrame index.\n",
      "  alls.append(df_combine[df_combine.rsquare_x>PV_adult][df_combine.rsquare_y>PV_child].shape[0])\n",
      "<ipython-input-13-fc7ab27f773a>:53: UserWarning: Boolean Series key will be reindexed to match DataFrame index.\n",
      "  print(df_combine[df_combine.rsquare_x>PV_adult][df_combine.rsquare_y>PV_child].shape[0])\n",
      "<ipython-input-13-fc7ab27f773a>:52: UserWarning: Boolean Series key will be reindexed to match DataFrame index.\n",
      "  alls.append(df_combine[df_combine.rsquare_x>PV_adult][df_combine.rsquare_y>PV_child].shape[0])\n",
      "<ipython-input-13-fc7ab27f773a>:53: UserWarning: Boolean Series key will be reindexed to match DataFrame index.\n",
      "  print(df_combine[df_combine.rsquare_x>PV_adult][df_combine.rsquare_y>PV_child].shape[0])\n",
      "<ipython-input-13-fc7ab27f773a>:52: UserWarning: Boolean Series key will be reindexed to match DataFrame index.\n",
      "  alls.append(df_combine[df_combine.rsquare_x>PV_adult][df_combine.rsquare_y>PV_child].shape[0])\n",
      "<ipython-input-13-fc7ab27f773a>:53: UserWarning: Boolean Series key will be reindexed to match DataFrame index.\n",
      "  print(df_combine[df_combine.rsquare_x>PV_adult][df_combine.rsquare_y>PV_child].shape[0])\n",
      "<ipython-input-13-fc7ab27f773a>:52: UserWarning: Boolean Series key will be reindexed to match DataFrame index.\n",
      "  alls.append(df_combine[df_combine.rsquare_x>PV_adult][df_combine.rsquare_y>PV_child].shape[0])\n",
      "<ipython-input-13-fc7ab27f773a>:53: UserWarning: Boolean Series key will be reindexed to match DataFrame index.\n",
      "  print(df_combine[df_combine.rsquare_x>PV_adult][df_combine.rsquare_y>PV_child].shape[0])\n",
      "<ipython-input-13-fc7ab27f773a>:52: UserWarning: Boolean Series key will be reindexed to match DataFrame index.\n",
      "  alls.append(df_combine[df_combine.rsquare_x>PV_adult][df_combine.rsquare_y>PV_child].shape[0])\n",
      "<ipython-input-13-fc7ab27f773a>:53: UserWarning: Boolean Series key will be reindexed to match DataFrame index.\n",
      "  print(df_combine[df_combine.rsquare_x>PV_adult][df_combine.rsquare_y>PV_child].shape[0])\n"
     ]
    },
    {
     "name": "stdout",
     "output_type": "stream",
     "text": [
      "15\n",
      "19\n",
      "2\n",
      "15\n"
     ]
    },
    {
     "name": "stderr",
     "output_type": "stream",
     "text": [
      "<ipython-input-13-fc7ab27f773a>:52: UserWarning: Boolean Series key will be reindexed to match DataFrame index.\n",
      "  alls.append(df_combine[df_combine.rsquare_x>PV_adult][df_combine.rsquare_y>PV_child].shape[0])\n",
      "<ipython-input-13-fc7ab27f773a>:53: UserWarning: Boolean Series key will be reindexed to match DataFrame index.\n",
      "  print(df_combine[df_combine.rsquare_x>PV_adult][df_combine.rsquare_y>PV_child].shape[0])\n",
      "<ipython-input-13-fc7ab27f773a>:52: UserWarning: Boolean Series key will be reindexed to match DataFrame index.\n",
      "  alls.append(df_combine[df_combine.rsquare_x>PV_adult][df_combine.rsquare_y>PV_child].shape[0])\n",
      "<ipython-input-13-fc7ab27f773a>:53: UserWarning: Boolean Series key will be reindexed to match DataFrame index.\n",
      "  print(df_combine[df_combine.rsquare_x>PV_adult][df_combine.rsquare_y>PV_child].shape[0])\n",
      "<ipython-input-13-fc7ab27f773a>:52: UserWarning: Boolean Series key will be reindexed to match DataFrame index.\n",
      "  alls.append(df_combine[df_combine.rsquare_x>PV_adult][df_combine.rsquare_y>PV_child].shape[0])\n",
      "<ipython-input-13-fc7ab27f773a>:53: UserWarning: Boolean Series key will be reindexed to match DataFrame index.\n",
      "  print(df_combine[df_combine.rsquare_x>PV_adult][df_combine.rsquare_y>PV_child].shape[0])\n"
     ]
    },
    {
     "name": "stdout",
     "output_type": "stream",
     "text": [
      "7\n",
      "3\n",
      "36\n",
      "13\n"
     ]
    },
    {
     "name": "stderr",
     "output_type": "stream",
     "text": [
      "<ipython-input-13-fc7ab27f773a>:52: UserWarning: Boolean Series key will be reindexed to match DataFrame index.\n",
      "  alls.append(df_combine[df_combine.rsquare_x>PV_adult][df_combine.rsquare_y>PV_child].shape[0])\n",
      "<ipython-input-13-fc7ab27f773a>:53: UserWarning: Boolean Series key will be reindexed to match DataFrame index.\n",
      "  print(df_combine[df_combine.rsquare_x>PV_adult][df_combine.rsquare_y>PV_child].shape[0])\n",
      "<ipython-input-13-fc7ab27f773a>:52: UserWarning: Boolean Series key will be reindexed to match DataFrame index.\n",
      "  alls.append(df_combine[df_combine.rsquare_x>PV_adult][df_combine.rsquare_y>PV_child].shape[0])\n",
      "<ipython-input-13-fc7ab27f773a>:53: UserWarning: Boolean Series key will be reindexed to match DataFrame index.\n",
      "  print(df_combine[df_combine.rsquare_x>PV_adult][df_combine.rsquare_y>PV_child].shape[0])\n",
      "<ipython-input-13-fc7ab27f773a>:52: UserWarning: Boolean Series key will be reindexed to match DataFrame index.\n",
      "  alls.append(df_combine[df_combine.rsquare_x>PV_adult][df_combine.rsquare_y>PV_child].shape[0])\n",
      "<ipython-input-13-fc7ab27f773a>:53: UserWarning: Boolean Series key will be reindexed to match DataFrame index.\n",
      "  print(df_combine[df_combine.rsquare_x>PV_adult][df_combine.rsquare_y>PV_child].shape[0])\n",
      "<ipython-input-13-fc7ab27f773a>:52: UserWarning: Boolean Series key will be reindexed to match DataFrame index.\n",
      "  alls.append(df_combine[df_combine.rsquare_x>PV_adult][df_combine.rsquare_y>PV_child].shape[0])\n",
      "<ipython-input-13-fc7ab27f773a>:53: UserWarning: Boolean Series key will be reindexed to match DataFrame index.\n",
      "  print(df_combine[df_combine.rsquare_x>PV_adult][df_combine.rsquare_y>PV_child].shape[0])\n",
      "<ipython-input-13-fc7ab27f773a>:52: UserWarning: Boolean Series key will be reindexed to match DataFrame index.\n",
      "  alls.append(df_combine[df_combine.rsquare_x>PV_adult][df_combine.rsquare_y>PV_child].shape[0])\n",
      "<ipython-input-13-fc7ab27f773a>:53: UserWarning: Boolean Series key will be reindexed to match DataFrame index.\n",
      "  print(df_combine[df_combine.rsquare_x>PV_adult][df_combine.rsquare_y>PV_child].shape[0])\n",
      "<ipython-input-13-fc7ab27f773a>:52: UserWarning: Boolean Series key will be reindexed to match DataFrame index.\n",
      "  alls.append(df_combine[df_combine.rsquare_x>PV_adult][df_combine.rsquare_y>PV_child].shape[0])\n",
      "<ipython-input-13-fc7ab27f773a>:53: UserWarning: Boolean Series key will be reindexed to match DataFrame index.\n",
      "  print(df_combine[df_combine.rsquare_x>PV_adult][df_combine.rsquare_y>PV_child].shape[0])\n",
      "<ipython-input-13-fc7ab27f773a>:52: UserWarning: Boolean Series key will be reindexed to match DataFrame index.\n",
      "  alls.append(df_combine[df_combine.rsquare_x>PV_adult][df_combine.rsquare_y>PV_child].shape[0])\n"
     ]
    },
    {
     "name": "stdout",
     "output_type": "stream",
     "text": [
      "4\n",
      "19\n",
      "14\n",
      "13\n",
      "4\n",
      "10\n"
     ]
    },
    {
     "name": "stderr",
     "output_type": "stream",
     "text": [
      "<ipython-input-13-fc7ab27f773a>:53: UserWarning: Boolean Series key will be reindexed to match DataFrame index.\n",
      "  print(df_combine[df_combine.rsquare_x>PV_adult][df_combine.rsquare_y>PV_child].shape[0])\n",
      "<ipython-input-13-fc7ab27f773a>:52: UserWarning: Boolean Series key will be reindexed to match DataFrame index.\n",
      "  alls.append(df_combine[df_combine.rsquare_x>PV_adult][df_combine.rsquare_y>PV_child].shape[0])\n",
      "<ipython-input-13-fc7ab27f773a>:53: UserWarning: Boolean Series key will be reindexed to match DataFrame index.\n",
      "  print(df_combine[df_combine.rsquare_x>PV_adult][df_combine.rsquare_y>PV_child].shape[0])\n",
      "<ipython-input-13-fc7ab27f773a>:52: UserWarning: Boolean Series key will be reindexed to match DataFrame index.\n",
      "  alls.append(df_combine[df_combine.rsquare_x>PV_adult][df_combine.rsquare_y>PV_child].shape[0])\n",
      "<ipython-input-13-fc7ab27f773a>:53: UserWarning: Boolean Series key will be reindexed to match DataFrame index.\n",
      "  print(df_combine[df_combine.rsquare_x>PV_adult][df_combine.rsquare_y>PV_child].shape[0])\n",
      "<ipython-input-13-fc7ab27f773a>:52: UserWarning: Boolean Series key will be reindexed to match DataFrame index.\n",
      "  alls.append(df_combine[df_combine.rsquare_x>PV_adult][df_combine.rsquare_y>PV_child].shape[0])\n",
      "<ipython-input-13-fc7ab27f773a>:53: UserWarning: Boolean Series key will be reindexed to match DataFrame index.\n",
      "  print(df_combine[df_combine.rsquare_x>PV_adult][df_combine.rsquare_y>PV_child].shape[0])\n",
      "<ipython-input-13-fc7ab27f773a>:52: UserWarning: Boolean Series key will be reindexed to match DataFrame index.\n",
      "  alls.append(df_combine[df_combine.rsquare_x>PV_adult][df_combine.rsquare_y>PV_child].shape[0])\n",
      "<ipython-input-13-fc7ab27f773a>:53: UserWarning: Boolean Series key will be reindexed to match DataFrame index.\n",
      "  print(df_combine[df_combine.rsquare_x>PV_adult][df_combine.rsquare_y>PV_child].shape[0])\n",
      "<ipython-input-13-fc7ab27f773a>:52: UserWarning: Boolean Series key will be reindexed to match DataFrame index.\n",
      "  alls.append(df_combine[df_combine.rsquare_x>PV_adult][df_combine.rsquare_y>PV_child].shape[0])\n",
      "<ipython-input-13-fc7ab27f773a>:53: UserWarning: Boolean Series key will be reindexed to match DataFrame index.\n",
      "  print(df_combine[df_combine.rsquare_x>PV_adult][df_combine.rsquare_y>PV_child].shape[0])\n"
     ]
    },
    {
     "name": "stdout",
     "output_type": "stream",
     "text": [
      "14\n",
      "17\n",
      "27\n",
      "5\n",
      "22\n",
      "4\n",
      "12\n",
      "6\n"
     ]
    },
    {
     "name": "stderr",
     "output_type": "stream",
     "text": [
      "<ipython-input-13-fc7ab27f773a>:52: UserWarning: Boolean Series key will be reindexed to match DataFrame index.\n",
      "  alls.append(df_combine[df_combine.rsquare_x>PV_adult][df_combine.rsquare_y>PV_child].shape[0])\n",
      "<ipython-input-13-fc7ab27f773a>:53: UserWarning: Boolean Series key will be reindexed to match DataFrame index.\n",
      "  print(df_combine[df_combine.rsquare_x>PV_adult][df_combine.rsquare_y>PV_child].shape[0])\n",
      "<ipython-input-13-fc7ab27f773a>:52: UserWarning: Boolean Series key will be reindexed to match DataFrame index.\n",
      "  alls.append(df_combine[df_combine.rsquare_x>PV_adult][df_combine.rsquare_y>PV_child].shape[0])\n",
      "<ipython-input-13-fc7ab27f773a>:53: UserWarning: Boolean Series key will be reindexed to match DataFrame index.\n",
      "  print(df_combine[df_combine.rsquare_x>PV_adult][df_combine.rsquare_y>PV_child].shape[0])\n",
      "<ipython-input-13-fc7ab27f773a>:52: UserWarning: Boolean Series key will be reindexed to match DataFrame index.\n",
      "  alls.append(df_combine[df_combine.rsquare_x>PV_adult][df_combine.rsquare_y>PV_child].shape[0])\n",
      "<ipython-input-13-fc7ab27f773a>:53: UserWarning: Boolean Series key will be reindexed to match DataFrame index.\n",
      "  print(df_combine[df_combine.rsquare_x>PV_adult][df_combine.rsquare_y>PV_child].shape[0])\n",
      "<ipython-input-13-fc7ab27f773a>:52: UserWarning: Boolean Series key will be reindexed to match DataFrame index.\n",
      "  alls.append(df_combine[df_combine.rsquare_x>PV_adult][df_combine.rsquare_y>PV_child].shape[0])\n",
      "<ipython-input-13-fc7ab27f773a>:53: UserWarning: Boolean Series key will be reindexed to match DataFrame index.\n",
      "  print(df_combine[df_combine.rsquare_x>PV_adult][df_combine.rsquare_y>PV_child].shape[0])\n",
      "<ipython-input-13-fc7ab27f773a>:52: UserWarning: Boolean Series key will be reindexed to match DataFrame index.\n",
      "  alls.append(df_combine[df_combine.rsquare_x>PV_adult][df_combine.rsquare_y>PV_child].shape[0])\n",
      "<ipython-input-13-fc7ab27f773a>:53: UserWarning: Boolean Series key will be reindexed to match DataFrame index.\n",
      "  print(df_combine[df_combine.rsquare_x>PV_adult][df_combine.rsquare_y>PV_child].shape[0])\n",
      "<ipython-input-13-fc7ab27f773a>:52: UserWarning: Boolean Series key will be reindexed to match DataFrame index.\n",
      "  alls.append(df_combine[df_combine.rsquare_x>PV_adult][df_combine.rsquare_y>PV_child].shape[0])\n",
      "<ipython-input-13-fc7ab27f773a>:53: UserWarning: Boolean Series key will be reindexed to match DataFrame index.\n",
      "  print(df_combine[df_combine.rsquare_x>PV_adult][df_combine.rsquare_y>PV_child].shape[0])\n",
      "<ipython-input-13-fc7ab27f773a>:52: UserWarning: Boolean Series key will be reindexed to match DataFrame index.\n",
      "  alls.append(df_combine[df_combine.rsquare_x>PV_adult][df_combine.rsquare_y>PV_child].shape[0])\n",
      "<ipython-input-13-fc7ab27f773a>:53: UserWarning: Boolean Series key will be reindexed to match DataFrame index.\n",
      "  print(df_combine[df_combine.rsquare_x>PV_adult][df_combine.rsquare_y>PV_child].shape[0])\n"
     ]
    },
    {
     "name": "stdout",
     "output_type": "stream",
     "text": [
      "6\n",
      "200\n",
      "21\n",
      "14\n",
      "9\n",
      "1\n",
      "0\n"
     ]
    },
    {
     "name": "stderr",
     "output_type": "stream",
     "text": [
      "<ipython-input-13-fc7ab27f773a>:52: UserWarning: Boolean Series key will be reindexed to match DataFrame index.\n",
      "  alls.append(df_combine[df_combine.rsquare_x>PV_adult][df_combine.rsquare_y>PV_child].shape[0])\n",
      "<ipython-input-13-fc7ab27f773a>:53: UserWarning: Boolean Series key will be reindexed to match DataFrame index.\n",
      "  print(df_combine[df_combine.rsquare_x>PV_adult][df_combine.rsquare_y>PV_child].shape[0])\n",
      "<ipython-input-13-fc7ab27f773a>:52: UserWarning: Boolean Series key will be reindexed to match DataFrame index.\n",
      "  alls.append(df_combine[df_combine.rsquare_x>PV_adult][df_combine.rsquare_y>PV_child].shape[0])\n",
      "<ipython-input-13-fc7ab27f773a>:53: UserWarning: Boolean Series key will be reindexed to match DataFrame index.\n",
      "  print(df_combine[df_combine.rsquare_x>PV_adult][df_combine.rsquare_y>PV_child].shape[0])\n",
      "<ipython-input-13-fc7ab27f773a>:52: UserWarning: Boolean Series key will be reindexed to match DataFrame index.\n",
      "  alls.append(df_combine[df_combine.rsquare_x>PV_adult][df_combine.rsquare_y>PV_child].shape[0])\n",
      "<ipython-input-13-fc7ab27f773a>:53: UserWarning: Boolean Series key will be reindexed to match DataFrame index.\n",
      "  print(df_combine[df_combine.rsquare_x>PV_adult][df_combine.rsquare_y>PV_child].shape[0])\n",
      "<ipython-input-13-fc7ab27f773a>:52: UserWarning: Boolean Series key will be reindexed to match DataFrame index.\n",
      "  alls.append(df_combine[df_combine.rsquare_x>PV_adult][df_combine.rsquare_y>PV_child].shape[0])\n",
      "<ipython-input-13-fc7ab27f773a>:53: UserWarning: Boolean Series key will be reindexed to match DataFrame index.\n",
      "  print(df_combine[df_combine.rsquare_x>PV_adult][df_combine.rsquare_y>PV_child].shape[0])\n"
     ]
    },
    {
     "name": "stdout",
     "output_type": "stream",
     "text": [
      "3\n",
      "4\n",
      "13\n"
     ]
    },
    {
     "name": "stderr",
     "output_type": "stream",
     "text": [
      "<ipython-input-13-fc7ab27f773a>:52: UserWarning: Boolean Series key will be reindexed to match DataFrame index.\n",
      "  alls.append(df_combine[df_combine.rsquare_x>PV_adult][df_combine.rsquare_y>PV_child].shape[0])\n",
      "<ipython-input-13-fc7ab27f773a>:53: UserWarning: Boolean Series key will be reindexed to match DataFrame index.\n",
      "  print(df_combine[df_combine.rsquare_x>PV_adult][df_combine.rsquare_y>PV_child].shape[0])\n",
      "<ipython-input-13-fc7ab27f773a>:52: UserWarning: Boolean Series key will be reindexed to match DataFrame index.\n",
      "  alls.append(df_combine[df_combine.rsquare_x>PV_adult][df_combine.rsquare_y>PV_child].shape[0])\n",
      "<ipython-input-13-fc7ab27f773a>:53: UserWarning: Boolean Series key will be reindexed to match DataFrame index.\n",
      "  print(df_combine[df_combine.rsquare_x>PV_adult][df_combine.rsquare_y>PV_child].shape[0])\n",
      "<ipython-input-13-fc7ab27f773a>:52: UserWarning: Boolean Series key will be reindexed to match DataFrame index.\n",
      "  alls.append(df_combine[df_combine.rsquare_x>PV_adult][df_combine.rsquare_y>PV_child].shape[0])\n",
      "<ipython-input-13-fc7ab27f773a>:53: UserWarning: Boolean Series key will be reindexed to match DataFrame index.\n",
      "  print(df_combine[df_combine.rsquare_x>PV_adult][df_combine.rsquare_y>PV_child].shape[0])\n",
      "<ipython-input-13-fc7ab27f773a>:52: UserWarning: Boolean Series key will be reindexed to match DataFrame index.\n",
      "  alls.append(df_combine[df_combine.rsquare_x>PV_adult][df_combine.rsquare_y>PV_child].shape[0])\n"
     ]
    },
    {
     "name": "stdout",
     "output_type": "stream",
     "text": [
      "1\n",
      "3\n",
      "3\n",
      "15\n"
     ]
    },
    {
     "name": "stderr",
     "output_type": "stream",
     "text": [
      "<ipython-input-13-fc7ab27f773a>:53: UserWarning: Boolean Series key will be reindexed to match DataFrame index.\n",
      "  print(df_combine[df_combine.rsquare_x>PV_adult][df_combine.rsquare_y>PV_child].shape[0])\n",
      "<ipython-input-13-fc7ab27f773a>:52: UserWarning: Boolean Series key will be reindexed to match DataFrame index.\n",
      "  alls.append(df_combine[df_combine.rsquare_x>PV_adult][df_combine.rsquare_y>PV_child].shape[0])\n",
      "<ipython-input-13-fc7ab27f773a>:53: UserWarning: Boolean Series key will be reindexed to match DataFrame index.\n",
      "  print(df_combine[df_combine.rsquare_x>PV_adult][df_combine.rsquare_y>PV_child].shape[0])\n",
      "<ipython-input-13-fc7ab27f773a>:52: UserWarning: Boolean Series key will be reindexed to match DataFrame index.\n",
      "  alls.append(df_combine[df_combine.rsquare_x>PV_adult][df_combine.rsquare_y>PV_child].shape[0])\n",
      "<ipython-input-13-fc7ab27f773a>:53: UserWarning: Boolean Series key will be reindexed to match DataFrame index.\n",
      "  print(df_combine[df_combine.rsquare_x>PV_adult][df_combine.rsquare_y>PV_child].shape[0])\n",
      "<ipython-input-13-fc7ab27f773a>:52: UserWarning: Boolean Series key will be reindexed to match DataFrame index.\n",
      "  alls.append(df_combine[df_combine.rsquare_x>PV_adult][df_combine.rsquare_y>PV_child].shape[0])\n",
      "<ipython-input-13-fc7ab27f773a>:53: UserWarning: Boolean Series key will be reindexed to match DataFrame index.\n",
      "  print(df_combine[df_combine.rsquare_x>PV_adult][df_combine.rsquare_y>PV_child].shape[0])\n"
     ]
    },
    {
     "name": "stdout",
     "output_type": "stream",
     "text": [
      "9\n",
      "22\n",
      "26\n"
     ]
    },
    {
     "name": "stderr",
     "output_type": "stream",
     "text": [
      "<ipython-input-13-fc7ab27f773a>:52: UserWarning: Boolean Series key will be reindexed to match DataFrame index.\n",
      "  alls.append(df_combine[df_combine.rsquare_x>PV_adult][df_combine.rsquare_y>PV_child].shape[0])\n",
      "<ipython-input-13-fc7ab27f773a>:53: UserWarning: Boolean Series key will be reindexed to match DataFrame index.\n",
      "  print(df_combine[df_combine.rsquare_x>PV_adult][df_combine.rsquare_y>PV_child].shape[0])\n",
      "<ipython-input-13-fc7ab27f773a>:52: UserWarning: Boolean Series key will be reindexed to match DataFrame index.\n",
      "  alls.append(df_combine[df_combine.rsquare_x>PV_adult][df_combine.rsquare_y>PV_child].shape[0])\n",
      "<ipython-input-13-fc7ab27f773a>:53: UserWarning: Boolean Series key will be reindexed to match DataFrame index.\n",
      "  print(df_combine[df_combine.rsquare_x>PV_adult][df_combine.rsquare_y>PV_child].shape[0])\n",
      "<ipython-input-13-fc7ab27f773a>:52: UserWarning: Boolean Series key will be reindexed to match DataFrame index.\n",
      "  alls.append(df_combine[df_combine.rsquare_x>PV_adult][df_combine.rsquare_y>PV_child].shape[0])\n",
      "<ipython-input-13-fc7ab27f773a>:53: UserWarning: Boolean Series key will be reindexed to match DataFrame index.\n",
      "  print(df_combine[df_combine.rsquare_x>PV_adult][df_combine.rsquare_y>PV_child].shape[0])\n",
      "<ipython-input-13-fc7ab27f773a>:52: UserWarning: Boolean Series key will be reindexed to match DataFrame index.\n",
      "  alls.append(df_combine[df_combine.rsquare_x>PV_adult][df_combine.rsquare_y>PV_child].shape[0])\n",
      "<ipython-input-13-fc7ab27f773a>:53: UserWarning: Boolean Series key will be reindexed to match DataFrame index.\n",
      "  print(df_combine[df_combine.rsquare_x>PV_adult][df_combine.rsquare_y>PV_child].shape[0])\n",
      "<ipython-input-13-fc7ab27f773a>:52: UserWarning: Boolean Series key will be reindexed to match DataFrame index.\n",
      "  alls.append(df_combine[df_combine.rsquare_x>PV_adult][df_combine.rsquare_y>PV_child].shape[0])\n",
      "<ipython-input-13-fc7ab27f773a>:53: UserWarning: Boolean Series key will be reindexed to match DataFrame index.\n",
      "  print(df_combine[df_combine.rsquare_x>PV_adult][df_combine.rsquare_y>PV_child].shape[0])\n"
     ]
    },
    {
     "name": "stdout",
     "output_type": "stream",
     "text": [
      "15\n",
      "5\n",
      "5\n",
      "18\n",
      "1\n"
     ]
    },
    {
     "name": "stderr",
     "output_type": "stream",
     "text": [
      "<ipython-input-13-fc7ab27f773a>:52: UserWarning: Boolean Series key will be reindexed to match DataFrame index.\n",
      "  alls.append(df_combine[df_combine.rsquare_x>PV_adult][df_combine.rsquare_y>PV_child].shape[0])\n",
      "<ipython-input-13-fc7ab27f773a>:53: UserWarning: Boolean Series key will be reindexed to match DataFrame index.\n",
      "  print(df_combine[df_combine.rsquare_x>PV_adult][df_combine.rsquare_y>PV_child].shape[0])\n",
      "<ipython-input-13-fc7ab27f773a>:52: UserWarning: Boolean Series key will be reindexed to match DataFrame index.\n",
      "  alls.append(df_combine[df_combine.rsquare_x>PV_adult][df_combine.rsquare_y>PV_child].shape[0])\n",
      "<ipython-input-13-fc7ab27f773a>:53: UserWarning: Boolean Series key will be reindexed to match DataFrame index.\n",
      "  print(df_combine[df_combine.rsquare_x>PV_adult][df_combine.rsquare_y>PV_child].shape[0])\n",
      "<ipython-input-13-fc7ab27f773a>:52: UserWarning: Boolean Series key will be reindexed to match DataFrame index.\n",
      "  alls.append(df_combine[df_combine.rsquare_x>PV_adult][df_combine.rsquare_y>PV_child].shape[0])\n",
      "<ipython-input-13-fc7ab27f773a>:53: UserWarning: Boolean Series key will be reindexed to match DataFrame index.\n",
      "  print(df_combine[df_combine.rsquare_x>PV_adult][df_combine.rsquare_y>PV_child].shape[0])\n",
      "<ipython-input-13-fc7ab27f773a>:52: UserWarning: Boolean Series key will be reindexed to match DataFrame index.\n",
      "  alls.append(df_combine[df_combine.rsquare_x>PV_adult][df_combine.rsquare_y>PV_child].shape[0])\n",
      "<ipython-input-13-fc7ab27f773a>:53: UserWarning: Boolean Series key will be reindexed to match DataFrame index.\n",
      "  print(df_combine[df_combine.rsquare_x>PV_adult][df_combine.rsquare_y>PV_child].shape[0])\n",
      "<ipython-input-13-fc7ab27f773a>:52: UserWarning: Boolean Series key will be reindexed to match DataFrame index.\n",
      "  alls.append(df_combine[df_combine.rsquare_x>PV_adult][df_combine.rsquare_y>PV_child].shape[0])\n",
      "<ipython-input-13-fc7ab27f773a>:53: UserWarning: Boolean Series key will be reindexed to match DataFrame index.\n",
      "  print(df_combine[df_combine.rsquare_x>PV_adult][df_combine.rsquare_y>PV_child].shape[0])\n"
     ]
    },
    {
     "name": "stdout",
     "output_type": "stream",
     "text": [
      "1\n",
      "9\n",
      "16\n",
      "3\n",
      "4\n"
     ]
    },
    {
     "name": "stderr",
     "output_type": "stream",
     "text": [
      "<ipython-input-13-fc7ab27f773a>:52: UserWarning: Boolean Series key will be reindexed to match DataFrame index.\n",
      "  alls.append(df_combine[df_combine.rsquare_x>PV_adult][df_combine.rsquare_y>PV_child].shape[0])\n",
      "<ipython-input-13-fc7ab27f773a>:53: UserWarning: Boolean Series key will be reindexed to match DataFrame index.\n",
      "  print(df_combine[df_combine.rsquare_x>PV_adult][df_combine.rsquare_y>PV_child].shape[0])\n",
      "<ipython-input-13-fc7ab27f773a>:52: UserWarning: Boolean Series key will be reindexed to match DataFrame index.\n",
      "  alls.append(df_combine[df_combine.rsquare_x>PV_adult][df_combine.rsquare_y>PV_child].shape[0])\n",
      "<ipython-input-13-fc7ab27f773a>:53: UserWarning: Boolean Series key will be reindexed to match DataFrame index.\n",
      "  print(df_combine[df_combine.rsquare_x>PV_adult][df_combine.rsquare_y>PV_child].shape[0])\n",
      "<ipython-input-13-fc7ab27f773a>:52: UserWarning: Boolean Series key will be reindexed to match DataFrame index.\n",
      "  alls.append(df_combine[df_combine.rsquare_x>PV_adult][df_combine.rsquare_y>PV_child].shape[0])\n",
      "<ipython-input-13-fc7ab27f773a>:53: UserWarning: Boolean Series key will be reindexed to match DataFrame index.\n",
      "  print(df_combine[df_combine.rsquare_x>PV_adult][df_combine.rsquare_y>PV_child].shape[0])\n",
      "<ipython-input-13-fc7ab27f773a>:52: UserWarning: Boolean Series key will be reindexed to match DataFrame index.\n",
      "  alls.append(df_combine[df_combine.rsquare_x>PV_adult][df_combine.rsquare_y>PV_child].shape[0])\n"
     ]
    },
    {
     "name": "stdout",
     "output_type": "stream",
     "text": [
      "9\n",
      "8\n",
      "9\n"
     ]
    },
    {
     "name": "stderr",
     "output_type": "stream",
     "text": [
      "<ipython-input-13-fc7ab27f773a>:53: UserWarning: Boolean Series key will be reindexed to match DataFrame index.\n",
      "  print(df_combine[df_combine.rsquare_x>PV_adult][df_combine.rsquare_y>PV_child].shape[0])\n",
      "<ipython-input-13-fc7ab27f773a>:52: UserWarning: Boolean Series key will be reindexed to match DataFrame index.\n",
      "  alls.append(df_combine[df_combine.rsquare_x>PV_adult][df_combine.rsquare_y>PV_child].shape[0])\n",
      "<ipython-input-13-fc7ab27f773a>:53: UserWarning: Boolean Series key will be reindexed to match DataFrame index.\n",
      "  print(df_combine[df_combine.rsquare_x>PV_adult][df_combine.rsquare_y>PV_child].shape[0])\n",
      "<ipython-input-13-fc7ab27f773a>:52: UserWarning: Boolean Series key will be reindexed to match DataFrame index.\n",
      "  alls.append(df_combine[df_combine.rsquare_x>PV_adult][df_combine.rsquare_y>PV_child].shape[0])\n",
      "<ipython-input-13-fc7ab27f773a>:53: UserWarning: Boolean Series key will be reindexed to match DataFrame index.\n",
      "  print(df_combine[df_combine.rsquare_x>PV_adult][df_combine.rsquare_y>PV_child].shape[0])\n"
     ]
    },
    {
     "name": "stdout",
     "output_type": "stream",
     "text": [
      "10\n",
      "25\n",
      "33\n"
     ]
    },
    {
     "name": "stderr",
     "output_type": "stream",
     "text": [
      "<ipython-input-13-fc7ab27f773a>:52: UserWarning: Boolean Series key will be reindexed to match DataFrame index.\n",
      "  alls.append(df_combine[df_combine.rsquare_x>PV_adult][df_combine.rsquare_y>PV_child].shape[0])\n",
      "<ipython-input-13-fc7ab27f773a>:53: UserWarning: Boolean Series key will be reindexed to match DataFrame index.\n",
      "  print(df_combine[df_combine.rsquare_x>PV_adult][df_combine.rsquare_y>PV_child].shape[0])\n",
      "<ipython-input-13-fc7ab27f773a>:52: UserWarning: Boolean Series key will be reindexed to match DataFrame index.\n",
      "  alls.append(df_combine[df_combine.rsquare_x>PV_adult][df_combine.rsquare_y>PV_child].shape[0])\n",
      "<ipython-input-13-fc7ab27f773a>:53: UserWarning: Boolean Series key will be reindexed to match DataFrame index.\n",
      "  print(df_combine[df_combine.rsquare_x>PV_adult][df_combine.rsquare_y>PV_child].shape[0])\n",
      "<ipython-input-13-fc7ab27f773a>:52: UserWarning: Boolean Series key will be reindexed to match DataFrame index.\n",
      "  alls.append(df_combine[df_combine.rsquare_x>PV_adult][df_combine.rsquare_y>PV_child].shape[0])\n",
      "<ipython-input-13-fc7ab27f773a>:53: UserWarning: Boolean Series key will be reindexed to match DataFrame index.\n",
      "  print(df_combine[df_combine.rsquare_x>PV_adult][df_combine.rsquare_y>PV_child].shape[0])\n",
      "<ipython-input-13-fc7ab27f773a>:52: UserWarning: Boolean Series key will be reindexed to match DataFrame index.\n",
      "  alls.append(df_combine[df_combine.rsquare_x>PV_adult][df_combine.rsquare_y>PV_child].shape[0])\n",
      "<ipython-input-13-fc7ab27f773a>:53: UserWarning: Boolean Series key will be reindexed to match DataFrame index.\n",
      "  print(df_combine[df_combine.rsquare_x>PV_adult][df_combine.rsquare_y>PV_child].shape[0])\n",
      "<ipython-input-13-fc7ab27f773a>:52: UserWarning: Boolean Series key will be reindexed to match DataFrame index.\n",
      "  alls.append(df_combine[df_combine.rsquare_x>PV_adult][df_combine.rsquare_y>PV_child].shape[0])\n",
      "<ipython-input-13-fc7ab27f773a>:53: UserWarning: Boolean Series key will be reindexed to match DataFrame index.\n",
      "  print(df_combine[df_combine.rsquare_x>PV_adult][df_combine.rsquare_y>PV_child].shape[0])\n"
     ]
    },
    {
     "name": "stdout",
     "output_type": "stream",
     "text": [
      "28\n",
      "4\n",
      "12\n",
      "1\n",
      "23\n",
      "2\n",
      "1\n"
     ]
    },
    {
     "name": "stderr",
     "output_type": "stream",
     "text": [
      "<ipython-input-13-fc7ab27f773a>:52: UserWarning: Boolean Series key will be reindexed to match DataFrame index.\n",
      "  alls.append(df_combine[df_combine.rsquare_x>PV_adult][df_combine.rsquare_y>PV_child].shape[0])\n",
      "<ipython-input-13-fc7ab27f773a>:53: UserWarning: Boolean Series key will be reindexed to match DataFrame index.\n",
      "  print(df_combine[df_combine.rsquare_x>PV_adult][df_combine.rsquare_y>PV_child].shape[0])\n",
      "<ipython-input-13-fc7ab27f773a>:52: UserWarning: Boolean Series key will be reindexed to match DataFrame index.\n",
      "  alls.append(df_combine[df_combine.rsquare_x>PV_adult][df_combine.rsquare_y>PV_child].shape[0])\n",
      "<ipython-input-13-fc7ab27f773a>:53: UserWarning: Boolean Series key will be reindexed to match DataFrame index.\n",
      "  print(df_combine[df_combine.rsquare_x>PV_adult][df_combine.rsquare_y>PV_child].shape[0])\n",
      "<ipython-input-13-fc7ab27f773a>:52: UserWarning: Boolean Series key will be reindexed to match DataFrame index.\n",
      "  alls.append(df_combine[df_combine.rsquare_x>PV_adult][df_combine.rsquare_y>PV_child].shape[0])\n",
      "<ipython-input-13-fc7ab27f773a>:53: UserWarning: Boolean Series key will be reindexed to match DataFrame index.\n",
      "  print(df_combine[df_combine.rsquare_x>PV_adult][df_combine.rsquare_y>PV_child].shape[0])\n",
      "<ipython-input-13-fc7ab27f773a>:52: UserWarning: Boolean Series key will be reindexed to match DataFrame index.\n",
      "  alls.append(df_combine[df_combine.rsquare_x>PV_adult][df_combine.rsquare_y>PV_child].shape[0])\n",
      "<ipython-input-13-fc7ab27f773a>:53: UserWarning: Boolean Series key will be reindexed to match DataFrame index.\n",
      "  print(df_combine[df_combine.rsquare_x>PV_adult][df_combine.rsquare_y>PV_child].shape[0])\n",
      "<ipython-input-13-fc7ab27f773a>:52: UserWarning: Boolean Series key will be reindexed to match DataFrame index.\n",
      "  alls.append(df_combine[df_combine.rsquare_x>PV_adult][df_combine.rsquare_y>PV_child].shape[0])\n",
      "<ipython-input-13-fc7ab27f773a>:53: UserWarning: Boolean Series key will be reindexed to match DataFrame index.\n",
      "  print(df_combine[df_combine.rsquare_x>PV_adult][df_combine.rsquare_y>PV_child].shape[0])\n"
     ]
    },
    {
     "name": "stdout",
     "output_type": "stream",
     "text": [
      "12\n",
      "35\n",
      "10\n"
     ]
    },
    {
     "name": "stderr",
     "output_type": "stream",
     "text": [
      "<ipython-input-13-fc7ab27f773a>:52: UserWarning: Boolean Series key will be reindexed to match DataFrame index.\n",
      "  alls.append(df_combine[df_combine.rsquare_x>PV_adult][df_combine.rsquare_y>PV_child].shape[0])\n",
      "<ipython-input-13-fc7ab27f773a>:53: UserWarning: Boolean Series key will be reindexed to match DataFrame index.\n",
      "  print(df_combine[df_combine.rsquare_x>PV_adult][df_combine.rsquare_y>PV_child].shape[0])\n",
      "<ipython-input-13-fc7ab27f773a>:52: UserWarning: Boolean Series key will be reindexed to match DataFrame index.\n",
      "  alls.append(df_combine[df_combine.rsquare_x>PV_adult][df_combine.rsquare_y>PV_child].shape[0])\n",
      "<ipython-input-13-fc7ab27f773a>:53: UserWarning: Boolean Series key will be reindexed to match DataFrame index.\n",
      "  print(df_combine[df_combine.rsquare_x>PV_adult][df_combine.rsquare_y>PV_child].shape[0])\n",
      "<ipython-input-13-fc7ab27f773a>:52: UserWarning: Boolean Series key will be reindexed to match DataFrame index.\n",
      "  alls.append(df_combine[df_combine.rsquare_x>PV_adult][df_combine.rsquare_y>PV_child].shape[0])\n",
      "<ipython-input-13-fc7ab27f773a>:53: UserWarning: Boolean Series key will be reindexed to match DataFrame index.\n",
      "  print(df_combine[df_combine.rsquare_x>PV_adult][df_combine.rsquare_y>PV_child].shape[0])\n"
     ]
    },
    {
     "name": "stdout",
     "output_type": "stream",
     "text": [
      "2\n",
      "13\n",
      "0\n"
     ]
    },
    {
     "name": "stderr",
     "output_type": "stream",
     "text": [
      "<ipython-input-13-fc7ab27f773a>:52: UserWarning: Boolean Series key will be reindexed to match DataFrame index.\n",
      "  alls.append(df_combine[df_combine.rsquare_x>PV_adult][df_combine.rsquare_y>PV_child].shape[0])\n",
      "<ipython-input-13-fc7ab27f773a>:53: UserWarning: Boolean Series key will be reindexed to match DataFrame index.\n",
      "  print(df_combine[df_combine.rsquare_x>PV_adult][df_combine.rsquare_y>PV_child].shape[0])\n",
      "<ipython-input-13-fc7ab27f773a>:52: UserWarning: Boolean Series key will be reindexed to match DataFrame index.\n",
      "  alls.append(df_combine[df_combine.rsquare_x>PV_adult][df_combine.rsquare_y>PV_child].shape[0])\n",
      "<ipython-input-13-fc7ab27f773a>:53: UserWarning: Boolean Series key will be reindexed to match DataFrame index.\n",
      "  print(df_combine[df_combine.rsquare_x>PV_adult][df_combine.rsquare_y>PV_child].shape[0])\n",
      "<ipython-input-13-fc7ab27f773a>:52: UserWarning: Boolean Series key will be reindexed to match DataFrame index.\n",
      "  alls.append(df_combine[df_combine.rsquare_x>PV_adult][df_combine.rsquare_y>PV_child].shape[0])\n",
      "<ipython-input-13-fc7ab27f773a>:53: UserWarning: Boolean Series key will be reindexed to match DataFrame index.\n",
      "  print(df_combine[df_combine.rsquare_x>PV_adult][df_combine.rsquare_y>PV_child].shape[0])\n",
      "<ipython-input-13-fc7ab27f773a>:52: UserWarning: Boolean Series key will be reindexed to match DataFrame index.\n",
      "  alls.append(df_combine[df_combine.rsquare_x>PV_adult][df_combine.rsquare_y>PV_child].shape[0])\n",
      "<ipython-input-13-fc7ab27f773a>:53: UserWarning: Boolean Series key will be reindexed to match DataFrame index.\n",
      "  print(df_combine[df_combine.rsquare_x>PV_adult][df_combine.rsquare_y>PV_child].shape[0])\n",
      "<ipython-input-13-fc7ab27f773a>:52: UserWarning: Boolean Series key will be reindexed to match DataFrame index.\n",
      "  alls.append(df_combine[df_combine.rsquare_x>PV_adult][df_combine.rsquare_y>PV_child].shape[0])\n"
     ]
    },
    {
     "name": "stdout",
     "output_type": "stream",
     "text": [
      "5\n",
      "19\n",
      "26\n"
     ]
    },
    {
     "name": "stderr",
     "output_type": "stream",
     "text": [
      "<ipython-input-13-fc7ab27f773a>:53: UserWarning: Boolean Series key will be reindexed to match DataFrame index.\n",
      "  print(df_combine[df_combine.rsquare_x>PV_adult][df_combine.rsquare_y>PV_child].shape[0])\n",
      "<ipython-input-13-fc7ab27f773a>:52: UserWarning: Boolean Series key will be reindexed to match DataFrame index.\n",
      "  alls.append(df_combine[df_combine.rsquare_x>PV_adult][df_combine.rsquare_y>PV_child].shape[0])\n",
      "<ipython-input-13-fc7ab27f773a>:53: UserWarning: Boolean Series key will be reindexed to match DataFrame index.\n",
      "  print(df_combine[df_combine.rsquare_x>PV_adult][df_combine.rsquare_y>PV_child].shape[0])\n",
      "<ipython-input-13-fc7ab27f773a>:52: UserWarning: Boolean Series key will be reindexed to match DataFrame index.\n",
      "  alls.append(df_combine[df_combine.rsquare_x>PV_adult][df_combine.rsquare_y>PV_child].shape[0])\n",
      "<ipython-input-13-fc7ab27f773a>:53: UserWarning: Boolean Series key will be reindexed to match DataFrame index.\n",
      "  print(df_combine[df_combine.rsquare_x>PV_adult][df_combine.rsquare_y>PV_child].shape[0])\n",
      "<ipython-input-13-fc7ab27f773a>:52: UserWarning: Boolean Series key will be reindexed to match DataFrame index.\n",
      "  alls.append(df_combine[df_combine.rsquare_x>PV_adult][df_combine.rsquare_y>PV_child].shape[0])\n",
      "<ipython-input-13-fc7ab27f773a>:53: UserWarning: Boolean Series key will be reindexed to match DataFrame index.\n",
      "  print(df_combine[df_combine.rsquare_x>PV_adult][df_combine.rsquare_y>PV_child].shape[0])\n"
     ]
    },
    {
     "name": "stdout",
     "output_type": "stream",
     "text": [
      "16\n",
      "7\n",
      "20\n",
      "250\n",
      "30\n"
     ]
    },
    {
     "name": "stderr",
     "output_type": "stream",
     "text": [
      "<ipython-input-13-fc7ab27f773a>:52: UserWarning: Boolean Series key will be reindexed to match DataFrame index.\n",
      "  alls.append(df_combine[df_combine.rsquare_x>PV_adult][df_combine.rsquare_y>PV_child].shape[0])\n",
      "<ipython-input-13-fc7ab27f773a>:53: UserWarning: Boolean Series key will be reindexed to match DataFrame index.\n",
      "  print(df_combine[df_combine.rsquare_x>PV_adult][df_combine.rsquare_y>PV_child].shape[0])\n",
      "<ipython-input-13-fc7ab27f773a>:52: UserWarning: Boolean Series key will be reindexed to match DataFrame index.\n",
      "  alls.append(df_combine[df_combine.rsquare_x>PV_adult][df_combine.rsquare_y>PV_child].shape[0])\n",
      "<ipython-input-13-fc7ab27f773a>:53: UserWarning: Boolean Series key will be reindexed to match DataFrame index.\n",
      "  print(df_combine[df_combine.rsquare_x>PV_adult][df_combine.rsquare_y>PV_child].shape[0])\n",
      "<ipython-input-13-fc7ab27f773a>:52: UserWarning: Boolean Series key will be reindexed to match DataFrame index.\n",
      "  alls.append(df_combine[df_combine.rsquare_x>PV_adult][df_combine.rsquare_y>PV_child].shape[0])\n",
      "<ipython-input-13-fc7ab27f773a>:53: UserWarning: Boolean Series key will be reindexed to match DataFrame index.\n",
      "  print(df_combine[df_combine.rsquare_x>PV_adult][df_combine.rsquare_y>PV_child].shape[0])\n"
     ]
    },
    {
     "name": "stdout",
     "output_type": "stream",
     "text": [
      "0\n",
      "1\n",
      "18\n",
      "5\n"
     ]
    },
    {
     "name": "stderr",
     "output_type": "stream",
     "text": [
      "<ipython-input-13-fc7ab27f773a>:52: UserWarning: Boolean Series key will be reindexed to match DataFrame index.\n",
      "  alls.append(df_combine[df_combine.rsquare_x>PV_adult][df_combine.rsquare_y>PV_child].shape[0])\n",
      "<ipython-input-13-fc7ab27f773a>:53: UserWarning: Boolean Series key will be reindexed to match DataFrame index.\n",
      "  print(df_combine[df_combine.rsquare_x>PV_adult][df_combine.rsquare_y>PV_child].shape[0])\n",
      "<ipython-input-13-fc7ab27f773a>:52: UserWarning: Boolean Series key will be reindexed to match DataFrame index.\n",
      "  alls.append(df_combine[df_combine.rsquare_x>PV_adult][df_combine.rsquare_y>PV_child].shape[0])\n",
      "<ipython-input-13-fc7ab27f773a>:53: UserWarning: Boolean Series key will be reindexed to match DataFrame index.\n",
      "  print(df_combine[df_combine.rsquare_x>PV_adult][df_combine.rsquare_y>PV_child].shape[0])\n",
      "<ipython-input-13-fc7ab27f773a>:52: UserWarning: Boolean Series key will be reindexed to match DataFrame index.\n",
      "  alls.append(df_combine[df_combine.rsquare_x>PV_adult][df_combine.rsquare_y>PV_child].shape[0])\n",
      "<ipython-input-13-fc7ab27f773a>:53: UserWarning: Boolean Series key will be reindexed to match DataFrame index.\n",
      "  print(df_combine[df_combine.rsquare_x>PV_adult][df_combine.rsquare_y>PV_child].shape[0])\n",
      "<ipython-input-13-fc7ab27f773a>:52: UserWarning: Boolean Series key will be reindexed to match DataFrame index.\n",
      "  alls.append(df_combine[df_combine.rsquare_x>PV_adult][df_combine.rsquare_y>PV_child].shape[0])\n",
      "<ipython-input-13-fc7ab27f773a>:53: UserWarning: Boolean Series key will be reindexed to match DataFrame index.\n",
      "  print(df_combine[df_combine.rsquare_x>PV_adult][df_combine.rsquare_y>PV_child].shape[0])\n",
      "<ipython-input-13-fc7ab27f773a>:52: UserWarning: Boolean Series key will be reindexed to match DataFrame index.\n",
      "  alls.append(df_combine[df_combine.rsquare_x>PV_adult][df_combine.rsquare_y>PV_child].shape[0])\n",
      "<ipython-input-13-fc7ab27f773a>:53: UserWarning: Boolean Series key will be reindexed to match DataFrame index.\n",
      "  print(df_combine[df_combine.rsquare_x>PV_adult][df_combine.rsquare_y>PV_child].shape[0])\n",
      "<ipython-input-13-fc7ab27f773a>:52: UserWarning: Boolean Series key will be reindexed to match DataFrame index.\n",
      "  alls.append(df_combine[df_combine.rsquare_x>PV_adult][df_combine.rsquare_y>PV_child].shape[0])\n"
     ]
    },
    {
     "name": "stdout",
     "output_type": "stream",
     "text": [
      "15\n",
      "7\n",
      "4\n",
      "3\n",
      "7\n",
      "35\n",
      "12\n"
     ]
    },
    {
     "name": "stderr",
     "output_type": "stream",
     "text": [
      "<ipython-input-13-fc7ab27f773a>:53: UserWarning: Boolean Series key will be reindexed to match DataFrame index.\n",
      "  print(df_combine[df_combine.rsquare_x>PV_adult][df_combine.rsquare_y>PV_child].shape[0])\n",
      "<ipython-input-13-fc7ab27f773a>:52: UserWarning: Boolean Series key will be reindexed to match DataFrame index.\n",
      "  alls.append(df_combine[df_combine.rsquare_x>PV_adult][df_combine.rsquare_y>PV_child].shape[0])\n",
      "<ipython-input-13-fc7ab27f773a>:53: UserWarning: Boolean Series key will be reindexed to match DataFrame index.\n",
      "  print(df_combine[df_combine.rsquare_x>PV_adult][df_combine.rsquare_y>PV_child].shape[0])\n",
      "<ipython-input-13-fc7ab27f773a>:52: UserWarning: Boolean Series key will be reindexed to match DataFrame index.\n",
      "  alls.append(df_combine[df_combine.rsquare_x>PV_adult][df_combine.rsquare_y>PV_child].shape[0])\n",
      "<ipython-input-13-fc7ab27f773a>:53: UserWarning: Boolean Series key will be reindexed to match DataFrame index.\n",
      "  print(df_combine[df_combine.rsquare_x>PV_adult][df_combine.rsquare_y>PV_child].shape[0])\n",
      "<ipython-input-13-fc7ab27f773a>:52: UserWarning: Boolean Series key will be reindexed to match DataFrame index.\n",
      "  alls.append(df_combine[df_combine.rsquare_x>PV_adult][df_combine.rsquare_y>PV_child].shape[0])\n",
      "<ipython-input-13-fc7ab27f773a>:53: UserWarning: Boolean Series key will be reindexed to match DataFrame index.\n",
      "  print(df_combine[df_combine.rsquare_x>PV_adult][df_combine.rsquare_y>PV_child].shape[0])\n",
      "<ipython-input-13-fc7ab27f773a>:52: UserWarning: Boolean Series key will be reindexed to match DataFrame index.\n",
      "  alls.append(df_combine[df_combine.rsquare_x>PV_adult][df_combine.rsquare_y>PV_child].shape[0])\n",
      "<ipython-input-13-fc7ab27f773a>:53: UserWarning: Boolean Series key will be reindexed to match DataFrame index.\n",
      "  print(df_combine[df_combine.rsquare_x>PV_adult][df_combine.rsquare_y>PV_child].shape[0])\n",
      "<ipython-input-13-fc7ab27f773a>:52: UserWarning: Boolean Series key will be reindexed to match DataFrame index.\n",
      "  alls.append(df_combine[df_combine.rsquare_x>PV_adult][df_combine.rsquare_y>PV_child].shape[0])\n",
      "<ipython-input-13-fc7ab27f773a>:53: UserWarning: Boolean Series key will be reindexed to match DataFrame index.\n",
      "  print(df_combine[df_combine.rsquare_x>PV_adult][df_combine.rsquare_y>PV_child].shape[0])\n",
      "<ipython-input-13-fc7ab27f773a>:52: UserWarning: Boolean Series key will be reindexed to match DataFrame index.\n",
      "  alls.append(df_combine[df_combine.rsquare_x>PV_adult][df_combine.rsquare_y>PV_child].shape[0])\n",
      "<ipython-input-13-fc7ab27f773a>:53: UserWarning: Boolean Series key will be reindexed to match DataFrame index.\n",
      "  print(df_combine[df_combine.rsquare_x>PV_adult][df_combine.rsquare_y>PV_child].shape[0])\n",
      "<ipython-input-13-fc7ab27f773a>:52: UserWarning: Boolean Series key will be reindexed to match DataFrame index.\n",
      "  alls.append(df_combine[df_combine.rsquare_x>PV_adult][df_combine.rsquare_y>PV_child].shape[0])\n"
     ]
    },
    {
     "name": "stdout",
     "output_type": "stream",
     "text": [
      "6\n",
      "7\n",
      "13\n",
      "11\n",
      "20\n"
     ]
    },
    {
     "name": "stderr",
     "output_type": "stream",
     "text": [
      "<ipython-input-13-fc7ab27f773a>:53: UserWarning: Boolean Series key will be reindexed to match DataFrame index.\n",
      "  print(df_combine[df_combine.rsquare_x>PV_adult][df_combine.rsquare_y>PV_child].shape[0])\n",
      "<ipython-input-13-fc7ab27f773a>:52: UserWarning: Boolean Series key will be reindexed to match DataFrame index.\n",
      "  alls.append(df_combine[df_combine.rsquare_x>PV_adult][df_combine.rsquare_y>PV_child].shape[0])\n",
      "<ipython-input-13-fc7ab27f773a>:53: UserWarning: Boolean Series key will be reindexed to match DataFrame index.\n",
      "  print(df_combine[df_combine.rsquare_x>PV_adult][df_combine.rsquare_y>PV_child].shape[0])\n",
      "<ipython-input-13-fc7ab27f773a>:52: UserWarning: Boolean Series key will be reindexed to match DataFrame index.\n",
      "  alls.append(df_combine[df_combine.rsquare_x>PV_adult][df_combine.rsquare_y>PV_child].shape[0])\n",
      "<ipython-input-13-fc7ab27f773a>:53: UserWarning: Boolean Series key will be reindexed to match DataFrame index.\n",
      "  print(df_combine[df_combine.rsquare_x>PV_adult][df_combine.rsquare_y>PV_child].shape[0])\n",
      "<ipython-input-13-fc7ab27f773a>:52: UserWarning: Boolean Series key will be reindexed to match DataFrame index.\n",
      "  alls.append(df_combine[df_combine.rsquare_x>PV_adult][df_combine.rsquare_y>PV_child].shape[0])\n",
      "<ipython-input-13-fc7ab27f773a>:53: UserWarning: Boolean Series key will be reindexed to match DataFrame index.\n",
      "  print(df_combine[df_combine.rsquare_x>PV_adult][df_combine.rsquare_y>PV_child].shape[0])\n",
      "<ipython-input-13-fc7ab27f773a>:52: UserWarning: Boolean Series key will be reindexed to match DataFrame index.\n",
      "  alls.append(df_combine[df_combine.rsquare_x>PV_adult][df_combine.rsquare_y>PV_child].shape[0])\n"
     ]
    },
    {
     "name": "stdout",
     "output_type": "stream",
     "text": [
      "24\n",
      "17\n",
      "19\n",
      "13\n"
     ]
    },
    {
     "name": "stderr",
     "output_type": "stream",
     "text": [
      "<ipython-input-13-fc7ab27f773a>:53: UserWarning: Boolean Series key will be reindexed to match DataFrame index.\n",
      "  print(df_combine[df_combine.rsquare_x>PV_adult][df_combine.rsquare_y>PV_child].shape[0])\n",
      "<ipython-input-13-fc7ab27f773a>:52: UserWarning: Boolean Series key will be reindexed to match DataFrame index.\n",
      "  alls.append(df_combine[df_combine.rsquare_x>PV_adult][df_combine.rsquare_y>PV_child].shape[0])\n",
      "<ipython-input-13-fc7ab27f773a>:53: UserWarning: Boolean Series key will be reindexed to match DataFrame index.\n",
      "  print(df_combine[df_combine.rsquare_x>PV_adult][df_combine.rsquare_y>PV_child].shape[0])\n",
      "<ipython-input-13-fc7ab27f773a>:52: UserWarning: Boolean Series key will be reindexed to match DataFrame index.\n",
      "  alls.append(df_combine[df_combine.rsquare_x>PV_adult][df_combine.rsquare_y>PV_child].shape[0])\n",
      "<ipython-input-13-fc7ab27f773a>:53: UserWarning: Boolean Series key will be reindexed to match DataFrame index.\n",
      "  print(df_combine[df_combine.rsquare_x>PV_adult][df_combine.rsquare_y>PV_child].shape[0])\n"
     ]
    },
    {
     "name": "stdout",
     "output_type": "stream",
     "text": [
      "0\n",
      "1\n"
     ]
    },
    {
     "name": "stderr",
     "output_type": "stream",
     "text": [
      "<ipython-input-13-fc7ab27f773a>:52: UserWarning: Boolean Series key will be reindexed to match DataFrame index.\n",
      "  alls.append(df_combine[df_combine.rsquare_x>PV_adult][df_combine.rsquare_y>PV_child].shape[0])\n",
      "<ipython-input-13-fc7ab27f773a>:53: UserWarning: Boolean Series key will be reindexed to match DataFrame index.\n",
      "  print(df_combine[df_combine.rsquare_x>PV_adult][df_combine.rsquare_y>PV_child].shape[0])\n",
      "<ipython-input-13-fc7ab27f773a>:52: UserWarning: Boolean Series key will be reindexed to match DataFrame index.\n",
      "  alls.append(df_combine[df_combine.rsquare_x>PV_adult][df_combine.rsquare_y>PV_child].shape[0])\n",
      "<ipython-input-13-fc7ab27f773a>:53: UserWarning: Boolean Series key will be reindexed to match DataFrame index.\n",
      "  print(df_combine[df_combine.rsquare_x>PV_adult][df_combine.rsquare_y>PV_child].shape[0])\n",
      "<ipython-input-13-fc7ab27f773a>:52: UserWarning: Boolean Series key will be reindexed to match DataFrame index.\n",
      "  alls.append(df_combine[df_combine.rsquare_x>PV_adult][df_combine.rsquare_y>PV_child].shape[0])\n",
      "<ipython-input-13-fc7ab27f773a>:53: UserWarning: Boolean Series key will be reindexed to match DataFrame index.\n",
      "  print(df_combine[df_combine.rsquare_x>PV_adult][df_combine.rsquare_y>PV_child].shape[0])\n",
      "<ipython-input-13-fc7ab27f773a>:52: UserWarning: Boolean Series key will be reindexed to match DataFrame index.\n",
      "  alls.append(df_combine[df_combine.rsquare_x>PV_adult][df_combine.rsquare_y>PV_child].shape[0])\n",
      "<ipython-input-13-fc7ab27f773a>:53: UserWarning: Boolean Series key will be reindexed to match DataFrame index.\n",
      "  print(df_combine[df_combine.rsquare_x>PV_adult][df_combine.rsquare_y>PV_child].shape[0])\n",
      "<ipython-input-13-fc7ab27f773a>:52: UserWarning: Boolean Series key will be reindexed to match DataFrame index.\n",
      "  alls.append(df_combine[df_combine.rsquare_x>PV_adult][df_combine.rsquare_y>PV_child].shape[0])\n",
      "<ipython-input-13-fc7ab27f773a>:53: UserWarning: Boolean Series key will be reindexed to match DataFrame index.\n",
      "  print(df_combine[df_combine.rsquare_x>PV_adult][df_combine.rsquare_y>PV_child].shape[0])\n",
      "<ipython-input-13-fc7ab27f773a>:52: UserWarning: Boolean Series key will be reindexed to match DataFrame index.\n",
      "  alls.append(df_combine[df_combine.rsquare_x>PV_adult][df_combine.rsquare_y>PV_child].shape[0])\n"
     ]
    },
    {
     "name": "stdout",
     "output_type": "stream",
     "text": [
      "16\n",
      "1\n",
      "14\n",
      "2\n",
      "6\n",
      "3\n",
      "9\n"
     ]
    },
    {
     "name": "stderr",
     "output_type": "stream",
     "text": [
      "<ipython-input-13-fc7ab27f773a>:53: UserWarning: Boolean Series key will be reindexed to match DataFrame index.\n",
      "  print(df_combine[df_combine.rsquare_x>PV_adult][df_combine.rsquare_y>PV_child].shape[0])\n",
      "<ipython-input-13-fc7ab27f773a>:52: UserWarning: Boolean Series key will be reindexed to match DataFrame index.\n",
      "  alls.append(df_combine[df_combine.rsquare_x>PV_adult][df_combine.rsquare_y>PV_child].shape[0])\n",
      "<ipython-input-13-fc7ab27f773a>:53: UserWarning: Boolean Series key will be reindexed to match DataFrame index.\n",
      "  print(df_combine[df_combine.rsquare_x>PV_adult][df_combine.rsquare_y>PV_child].shape[0])\n",
      "<ipython-input-13-fc7ab27f773a>:52: UserWarning: Boolean Series key will be reindexed to match DataFrame index.\n",
      "  alls.append(df_combine[df_combine.rsquare_x>PV_adult][df_combine.rsquare_y>PV_child].shape[0])\n",
      "<ipython-input-13-fc7ab27f773a>:53: UserWarning: Boolean Series key will be reindexed to match DataFrame index.\n",
      "  print(df_combine[df_combine.rsquare_x>PV_adult][df_combine.rsquare_y>PV_child].shape[0])\n",
      "<ipython-input-13-fc7ab27f773a>:52: UserWarning: Boolean Series key will be reindexed to match DataFrame index.\n",
      "  alls.append(df_combine[df_combine.rsquare_x>PV_adult][df_combine.rsquare_y>PV_child].shape[0])\n",
      "<ipython-input-13-fc7ab27f773a>:53: UserWarning: Boolean Series key will be reindexed to match DataFrame index.\n",
      "  print(df_combine[df_combine.rsquare_x>PV_adult][df_combine.rsquare_y>PV_child].shape[0])\n",
      "<ipython-input-13-fc7ab27f773a>:52: UserWarning: Boolean Series key will be reindexed to match DataFrame index.\n",
      "  alls.append(df_combine[df_combine.rsquare_x>PV_adult][df_combine.rsquare_y>PV_child].shape[0])\n",
      "<ipython-input-13-fc7ab27f773a>:53: UserWarning: Boolean Series key will be reindexed to match DataFrame index.\n",
      "  print(df_combine[df_combine.rsquare_x>PV_adult][df_combine.rsquare_y>PV_child].shape[0])\n",
      "<ipython-input-13-fc7ab27f773a>:52: UserWarning: Boolean Series key will be reindexed to match DataFrame index.\n",
      "  alls.append(df_combine[df_combine.rsquare_x>PV_adult][df_combine.rsquare_y>PV_child].shape[0])\n",
      "<ipython-input-13-fc7ab27f773a>:53: UserWarning: Boolean Series key will be reindexed to match DataFrame index.\n",
      "  print(df_combine[df_combine.rsquare_x>PV_adult][df_combine.rsquare_y>PV_child].shape[0])\n"
     ]
    },
    {
     "name": "stdout",
     "output_type": "stream",
     "text": [
      "25\n",
      "19\n",
      "1\n",
      "20\n",
      "0\n"
     ]
    },
    {
     "name": "stderr",
     "output_type": "stream",
     "text": [
      "<ipython-input-13-fc7ab27f773a>:52: UserWarning: Boolean Series key will be reindexed to match DataFrame index.\n",
      "  alls.append(df_combine[df_combine.rsquare_x>PV_adult][df_combine.rsquare_y>PV_child].shape[0])\n",
      "<ipython-input-13-fc7ab27f773a>:53: UserWarning: Boolean Series key will be reindexed to match DataFrame index.\n",
      "  print(df_combine[df_combine.rsquare_x>PV_adult][df_combine.rsquare_y>PV_child].shape[0])\n",
      "<ipython-input-13-fc7ab27f773a>:52: UserWarning: Boolean Series key will be reindexed to match DataFrame index.\n",
      "  alls.append(df_combine[df_combine.rsquare_x>PV_adult][df_combine.rsquare_y>PV_child].shape[0])\n",
      "<ipython-input-13-fc7ab27f773a>:53: UserWarning: Boolean Series key will be reindexed to match DataFrame index.\n",
      "  print(df_combine[df_combine.rsquare_x>PV_adult][df_combine.rsquare_y>PV_child].shape[0])\n",
      "<ipython-input-13-fc7ab27f773a>:52: UserWarning: Boolean Series key will be reindexed to match DataFrame index.\n",
      "  alls.append(df_combine[df_combine.rsquare_x>PV_adult][df_combine.rsquare_y>PV_child].shape[0])\n",
      "<ipython-input-13-fc7ab27f773a>:53: UserWarning: Boolean Series key will be reindexed to match DataFrame index.\n",
      "  print(df_combine[df_combine.rsquare_x>PV_adult][df_combine.rsquare_y>PV_child].shape[0])\n",
      "<ipython-input-13-fc7ab27f773a>:52: UserWarning: Boolean Series key will be reindexed to match DataFrame index.\n",
      "  alls.append(df_combine[df_combine.rsquare_x>PV_adult][df_combine.rsquare_y>PV_child].shape[0])\n"
     ]
    },
    {
     "name": "stdout",
     "output_type": "stream",
     "text": [
      "13\n",
      "0\n",
      "24\n"
     ]
    },
    {
     "name": "stderr",
     "output_type": "stream",
     "text": [
      "<ipython-input-13-fc7ab27f773a>:53: UserWarning: Boolean Series key will be reindexed to match DataFrame index.\n",
      "  print(df_combine[df_combine.rsquare_x>PV_adult][df_combine.rsquare_y>PV_child].shape[0])\n",
      "<ipython-input-13-fc7ab27f773a>:52: UserWarning: Boolean Series key will be reindexed to match DataFrame index.\n",
      "  alls.append(df_combine[df_combine.rsquare_x>PV_adult][df_combine.rsquare_y>PV_child].shape[0])\n",
      "<ipython-input-13-fc7ab27f773a>:53: UserWarning: Boolean Series key will be reindexed to match DataFrame index.\n",
      "  print(df_combine[df_combine.rsquare_x>PV_adult][df_combine.rsquare_y>PV_child].shape[0])\n",
      "<ipython-input-13-fc7ab27f773a>:52: UserWarning: Boolean Series key will be reindexed to match DataFrame index.\n",
      "  alls.append(df_combine[df_combine.rsquare_x>PV_adult][df_combine.rsquare_y>PV_child].shape[0])\n",
      "<ipython-input-13-fc7ab27f773a>:53: UserWarning: Boolean Series key will be reindexed to match DataFrame index.\n",
      "  print(df_combine[df_combine.rsquare_x>PV_adult][df_combine.rsquare_y>PV_child].shape[0])\n",
      "<ipython-input-13-fc7ab27f773a>:52: UserWarning: Boolean Series key will be reindexed to match DataFrame index.\n",
      "  alls.append(df_combine[df_combine.rsquare_x>PV_adult][df_combine.rsquare_y>PV_child].shape[0])\n",
      "<ipython-input-13-fc7ab27f773a>:53: UserWarning: Boolean Series key will be reindexed to match DataFrame index.\n",
      "  print(df_combine[df_combine.rsquare_x>PV_adult][df_combine.rsquare_y>PV_child].shape[0])\n"
     ]
    },
    {
     "name": "stdout",
     "output_type": "stream",
     "text": [
      "27\n",
      "2\n",
      "2\n"
     ]
    },
    {
     "name": "stderr",
     "output_type": "stream",
     "text": [
      "<ipython-input-13-fc7ab27f773a>:52: UserWarning: Boolean Series key will be reindexed to match DataFrame index.\n",
      "  alls.append(df_combine[df_combine.rsquare_x>PV_adult][df_combine.rsquare_y>PV_child].shape[0])\n",
      "<ipython-input-13-fc7ab27f773a>:53: UserWarning: Boolean Series key will be reindexed to match DataFrame index.\n",
      "  print(df_combine[df_combine.rsquare_x>PV_adult][df_combine.rsquare_y>PV_child].shape[0])\n",
      "<ipython-input-13-fc7ab27f773a>:52: UserWarning: Boolean Series key will be reindexed to match DataFrame index.\n",
      "  alls.append(df_combine[df_combine.rsquare_x>PV_adult][df_combine.rsquare_y>PV_child].shape[0])\n",
      "<ipython-input-13-fc7ab27f773a>:53: UserWarning: Boolean Series key will be reindexed to match DataFrame index.\n",
      "  print(df_combine[df_combine.rsquare_x>PV_adult][df_combine.rsquare_y>PV_child].shape[0])\n",
      "<ipython-input-13-fc7ab27f773a>:52: UserWarning: Boolean Series key will be reindexed to match DataFrame index.\n",
      "  alls.append(df_combine[df_combine.rsquare_x>PV_adult][df_combine.rsquare_y>PV_child].shape[0])\n",
      "<ipython-input-13-fc7ab27f773a>:53: UserWarning: Boolean Series key will be reindexed to match DataFrame index.\n",
      "  print(df_combine[df_combine.rsquare_x>PV_adult][df_combine.rsquare_y>PV_child].shape[0])\n"
     ]
    },
    {
     "name": "stdout",
     "output_type": "stream",
     "text": [
      "15\n",
      "2\n",
      "9\n"
     ]
    },
    {
     "name": "stderr",
     "output_type": "stream",
     "text": [
      "<ipython-input-13-fc7ab27f773a>:52: UserWarning: Boolean Series key will be reindexed to match DataFrame index.\n",
      "  alls.append(df_combine[df_combine.rsquare_x>PV_adult][df_combine.rsquare_y>PV_child].shape[0])\n",
      "<ipython-input-13-fc7ab27f773a>:53: UserWarning: Boolean Series key will be reindexed to match DataFrame index.\n",
      "  print(df_combine[df_combine.rsquare_x>PV_adult][df_combine.rsquare_y>PV_child].shape[0])\n",
      "<ipython-input-13-fc7ab27f773a>:52: UserWarning: Boolean Series key will be reindexed to match DataFrame index.\n",
      "  alls.append(df_combine[df_combine.rsquare_x>PV_adult][df_combine.rsquare_y>PV_child].shape[0])\n",
      "<ipython-input-13-fc7ab27f773a>:53: UserWarning: Boolean Series key will be reindexed to match DataFrame index.\n",
      "  print(df_combine[df_combine.rsquare_x>PV_adult][df_combine.rsquare_y>PV_child].shape[0])\n",
      "<ipython-input-13-fc7ab27f773a>:52: UserWarning: Boolean Series key will be reindexed to match DataFrame index.\n",
      "  alls.append(df_combine[df_combine.rsquare_x>PV_adult][df_combine.rsquare_y>PV_child].shape[0])\n"
     ]
    },
    {
     "name": "stdout",
     "output_type": "stream",
     "text": [
      "10\n",
      "6\n",
      "2\n",
      "0\n",
      "26\n"
     ]
    },
    {
     "name": "stderr",
     "output_type": "stream",
     "text": [
      "<ipython-input-13-fc7ab27f773a>:53: UserWarning: Boolean Series key will be reindexed to match DataFrame index.\n",
      "  print(df_combine[df_combine.rsquare_x>PV_adult][df_combine.rsquare_y>PV_child].shape[0])\n",
      "<ipython-input-13-fc7ab27f773a>:52: UserWarning: Boolean Series key will be reindexed to match DataFrame index.\n",
      "  alls.append(df_combine[df_combine.rsquare_x>PV_adult][df_combine.rsquare_y>PV_child].shape[0])\n",
      "<ipython-input-13-fc7ab27f773a>:53: UserWarning: Boolean Series key will be reindexed to match DataFrame index.\n",
      "  print(df_combine[df_combine.rsquare_x>PV_adult][df_combine.rsquare_y>PV_child].shape[0])\n",
      "<ipython-input-13-fc7ab27f773a>:52: UserWarning: Boolean Series key will be reindexed to match DataFrame index.\n",
      "  alls.append(df_combine[df_combine.rsquare_x>PV_adult][df_combine.rsquare_y>PV_child].shape[0])\n",
      "<ipython-input-13-fc7ab27f773a>:53: UserWarning: Boolean Series key will be reindexed to match DataFrame index.\n",
      "  print(df_combine[df_combine.rsquare_x>PV_adult][df_combine.rsquare_y>PV_child].shape[0])\n",
      "<ipython-input-13-fc7ab27f773a>:52: UserWarning: Boolean Series key will be reindexed to match DataFrame index.\n",
      "  alls.append(df_combine[df_combine.rsquare_x>PV_adult][df_combine.rsquare_y>PV_child].shape[0])\n",
      "<ipython-input-13-fc7ab27f773a>:53: UserWarning: Boolean Series key will be reindexed to match DataFrame index.\n",
      "  print(df_combine[df_combine.rsquare_x>PV_adult][df_combine.rsquare_y>PV_child].shape[0])\n",
      "<ipython-input-13-fc7ab27f773a>:52: UserWarning: Boolean Series key will be reindexed to match DataFrame index.\n",
      "  alls.append(df_combine[df_combine.rsquare_x>PV_adult][df_combine.rsquare_y>PV_child].shape[0])\n",
      "<ipython-input-13-fc7ab27f773a>:53: UserWarning: Boolean Series key will be reindexed to match DataFrame index.\n",
      "  print(df_combine[df_combine.rsquare_x>PV_adult][df_combine.rsquare_y>PV_child].shape[0])\n",
      "<ipython-input-13-fc7ab27f773a>:52: UserWarning: Boolean Series key will be reindexed to match DataFrame index.\n",
      "  alls.append(df_combine[df_combine.rsquare_x>PV_adult][df_combine.rsquare_y>PV_child].shape[0])\n",
      "<ipython-input-13-fc7ab27f773a>:53: UserWarning: Boolean Series key will be reindexed to match DataFrame index.\n",
      "  print(df_combine[df_combine.rsquare_x>PV_adult][df_combine.rsquare_y>PV_child].shape[0])\n",
      "<ipython-input-13-fc7ab27f773a>:52: UserWarning: Boolean Series key will be reindexed to match DataFrame index.\n",
      "  alls.append(df_combine[df_combine.rsquare_x>PV_adult][df_combine.rsquare_y>PV_child].shape[0])\n",
      "<ipython-input-13-fc7ab27f773a>:53: UserWarning: Boolean Series key will be reindexed to match DataFrame index.\n",
      "  print(df_combine[df_combine.rsquare_x>PV_adult][df_combine.rsquare_y>PV_child].shape[0])\n"
     ]
    },
    {
     "name": "stdout",
     "output_type": "stream",
     "text": [
      "27\n",
      "300\n",
      "7\n",
      "0\n",
      "7\n",
      "3\n",
      "1\n",
      "8\n"
     ]
    },
    {
     "name": "stderr",
     "output_type": "stream",
     "text": [
      "<ipython-input-13-fc7ab27f773a>:52: UserWarning: Boolean Series key will be reindexed to match DataFrame index.\n",
      "  alls.append(df_combine[df_combine.rsquare_x>PV_adult][df_combine.rsquare_y>PV_child].shape[0])\n",
      "<ipython-input-13-fc7ab27f773a>:53: UserWarning: Boolean Series key will be reindexed to match DataFrame index.\n",
      "  print(df_combine[df_combine.rsquare_x>PV_adult][df_combine.rsquare_y>PV_child].shape[0])\n",
      "<ipython-input-13-fc7ab27f773a>:52: UserWarning: Boolean Series key will be reindexed to match DataFrame index.\n",
      "  alls.append(df_combine[df_combine.rsquare_x>PV_adult][df_combine.rsquare_y>PV_child].shape[0])\n",
      "<ipython-input-13-fc7ab27f773a>:53: UserWarning: Boolean Series key will be reindexed to match DataFrame index.\n",
      "  print(df_combine[df_combine.rsquare_x>PV_adult][df_combine.rsquare_y>PV_child].shape[0])\n",
      "<ipython-input-13-fc7ab27f773a>:52: UserWarning: Boolean Series key will be reindexed to match DataFrame index.\n",
      "  alls.append(df_combine[df_combine.rsquare_x>PV_adult][df_combine.rsquare_y>PV_child].shape[0])\n",
      "<ipython-input-13-fc7ab27f773a>:53: UserWarning: Boolean Series key will be reindexed to match DataFrame index.\n",
      "  print(df_combine[df_combine.rsquare_x>PV_adult][df_combine.rsquare_y>PV_child].shape[0])\n",
      "<ipython-input-13-fc7ab27f773a>:52: UserWarning: Boolean Series key will be reindexed to match DataFrame index.\n",
      "  alls.append(df_combine[df_combine.rsquare_x>PV_adult][df_combine.rsquare_y>PV_child].shape[0])\n",
      "<ipython-input-13-fc7ab27f773a>:53: UserWarning: Boolean Series key will be reindexed to match DataFrame index.\n",
      "  print(df_combine[df_combine.rsquare_x>PV_adult][df_combine.rsquare_y>PV_child].shape[0])\n",
      "<ipython-input-13-fc7ab27f773a>:52: UserWarning: Boolean Series key will be reindexed to match DataFrame index.\n",
      "  alls.append(df_combine[df_combine.rsquare_x>PV_adult][df_combine.rsquare_y>PV_child].shape[0])\n",
      "<ipython-input-13-fc7ab27f773a>:53: UserWarning: Boolean Series key will be reindexed to match DataFrame index.\n",
      "  print(df_combine[df_combine.rsquare_x>PV_adult][df_combine.rsquare_y>PV_child].shape[0])\n",
      "<ipython-input-13-fc7ab27f773a>:52: UserWarning: Boolean Series key will be reindexed to match DataFrame index.\n",
      "  alls.append(df_combine[df_combine.rsquare_x>PV_adult][df_combine.rsquare_y>PV_child].shape[0])\n",
      "<ipython-input-13-fc7ab27f773a>:53: UserWarning: Boolean Series key will be reindexed to match DataFrame index.\n",
      "  print(df_combine[df_combine.rsquare_x>PV_adult][df_combine.rsquare_y>PV_child].shape[0])\n"
     ]
    },
    {
     "name": "stdout",
     "output_type": "stream",
     "text": [
      "6\n",
      "25\n",
      "32\n"
     ]
    },
    {
     "name": "stderr",
     "output_type": "stream",
     "text": [
      "<ipython-input-13-fc7ab27f773a>:52: UserWarning: Boolean Series key will be reindexed to match DataFrame index.\n",
      "  alls.append(df_combine[df_combine.rsquare_x>PV_adult][df_combine.rsquare_y>PV_child].shape[0])\n",
      "<ipython-input-13-fc7ab27f773a>:53: UserWarning: Boolean Series key will be reindexed to match DataFrame index.\n",
      "  print(df_combine[df_combine.rsquare_x>PV_adult][df_combine.rsquare_y>PV_child].shape[0])\n",
      "<ipython-input-13-fc7ab27f773a>:52: UserWarning: Boolean Series key will be reindexed to match DataFrame index.\n",
      "  alls.append(df_combine[df_combine.rsquare_x>PV_adult][df_combine.rsquare_y>PV_child].shape[0])\n",
      "<ipython-input-13-fc7ab27f773a>:53: UserWarning: Boolean Series key will be reindexed to match DataFrame index.\n",
      "  print(df_combine[df_combine.rsquare_x>PV_adult][df_combine.rsquare_y>PV_child].shape[0])\n",
      "<ipython-input-13-fc7ab27f773a>:52: UserWarning: Boolean Series key will be reindexed to match DataFrame index.\n",
      "  alls.append(df_combine[df_combine.rsquare_x>PV_adult][df_combine.rsquare_y>PV_child].shape[0])\n",
      "<ipython-input-13-fc7ab27f773a>:53: UserWarning: Boolean Series key will be reindexed to match DataFrame index.\n",
      "  print(df_combine[df_combine.rsquare_x>PV_adult][df_combine.rsquare_y>PV_child].shape[0])\n"
     ]
    },
    {
     "name": "stdout",
     "output_type": "stream",
     "text": [
      "5\n",
      "8\n",
      "8\n",
      "8\n",
      "3\n",
      "22\n",
      "5\n"
     ]
    },
    {
     "name": "stderr",
     "output_type": "stream",
     "text": [
      "<ipython-input-13-fc7ab27f773a>:52: UserWarning: Boolean Series key will be reindexed to match DataFrame index.\n",
      "  alls.append(df_combine[df_combine.rsquare_x>PV_adult][df_combine.rsquare_y>PV_child].shape[0])\n",
      "<ipython-input-13-fc7ab27f773a>:53: UserWarning: Boolean Series key will be reindexed to match DataFrame index.\n",
      "  print(df_combine[df_combine.rsquare_x>PV_adult][df_combine.rsquare_y>PV_child].shape[0])\n",
      "<ipython-input-13-fc7ab27f773a>:52: UserWarning: Boolean Series key will be reindexed to match DataFrame index.\n",
      "  alls.append(df_combine[df_combine.rsquare_x>PV_adult][df_combine.rsquare_y>PV_child].shape[0])\n",
      "<ipython-input-13-fc7ab27f773a>:53: UserWarning: Boolean Series key will be reindexed to match DataFrame index.\n",
      "  print(df_combine[df_combine.rsquare_x>PV_adult][df_combine.rsquare_y>PV_child].shape[0])\n",
      "<ipython-input-13-fc7ab27f773a>:52: UserWarning: Boolean Series key will be reindexed to match DataFrame index.\n",
      "  alls.append(df_combine[df_combine.rsquare_x>PV_adult][df_combine.rsquare_y>PV_child].shape[0])\n",
      "<ipython-input-13-fc7ab27f773a>:53: UserWarning: Boolean Series key will be reindexed to match DataFrame index.\n",
      "  print(df_combine[df_combine.rsquare_x>PV_adult][df_combine.rsquare_y>PV_child].shape[0])\n",
      "<ipython-input-13-fc7ab27f773a>:52: UserWarning: Boolean Series key will be reindexed to match DataFrame index.\n",
      "  alls.append(df_combine[df_combine.rsquare_x>PV_adult][df_combine.rsquare_y>PV_child].shape[0])\n",
      "<ipython-input-13-fc7ab27f773a>:53: UserWarning: Boolean Series key will be reindexed to match DataFrame index.\n",
      "  print(df_combine[df_combine.rsquare_x>PV_adult][df_combine.rsquare_y>PV_child].shape[0])\n",
      "<ipython-input-13-fc7ab27f773a>:52: UserWarning: Boolean Series key will be reindexed to match DataFrame index.\n",
      "  alls.append(df_combine[df_combine.rsquare_x>PV_adult][df_combine.rsquare_y>PV_child].shape[0])\n",
      "<ipython-input-13-fc7ab27f773a>:53: UserWarning: Boolean Series key will be reindexed to match DataFrame index.\n",
      "  print(df_combine[df_combine.rsquare_x>PV_adult][df_combine.rsquare_y>PV_child].shape[0])\n",
      "<ipython-input-13-fc7ab27f773a>:52: UserWarning: Boolean Series key will be reindexed to match DataFrame index.\n",
      "  alls.append(df_combine[df_combine.rsquare_x>PV_adult][df_combine.rsquare_y>PV_child].shape[0])\n",
      "<ipython-input-13-fc7ab27f773a>:53: UserWarning: Boolean Series key will be reindexed to match DataFrame index.\n",
      "  print(df_combine[df_combine.rsquare_x>PV_adult][df_combine.rsquare_y>PV_child].shape[0])\n",
      "<ipython-input-13-fc7ab27f773a>:52: UserWarning: Boolean Series key will be reindexed to match DataFrame index.\n",
      "  alls.append(df_combine[df_combine.rsquare_x>PV_adult][df_combine.rsquare_y>PV_child].shape[0])\n",
      "<ipython-input-13-fc7ab27f773a>:53: UserWarning: Boolean Series key will be reindexed to match DataFrame index.\n",
      "  print(df_combine[df_combine.rsquare_x>PV_adult][df_combine.rsquare_y>PV_child].shape[0])\n",
      "<ipython-input-13-fc7ab27f773a>:52: UserWarning: Boolean Series key will be reindexed to match DataFrame index.\n",
      "  alls.append(df_combine[df_combine.rsquare_x>PV_adult][df_combine.rsquare_y>PV_child].shape[0])\n",
      "<ipython-input-13-fc7ab27f773a>:53: UserWarning: Boolean Series key will be reindexed to match DataFrame index.\n",
      "  print(df_combine[df_combine.rsquare_x>PV_adult][df_combine.rsquare_y>PV_child].shape[0])\n"
     ]
    },
    {
     "name": "stdout",
     "output_type": "stream",
     "text": [
      "13\n",
      "1\n",
      "8\n",
      "32\n",
      "4\n",
      "0\n"
     ]
    },
    {
     "name": "stderr",
     "output_type": "stream",
     "text": [
      "<ipython-input-13-fc7ab27f773a>:52: UserWarning: Boolean Series key will be reindexed to match DataFrame index.\n",
      "  alls.append(df_combine[df_combine.rsquare_x>PV_adult][df_combine.rsquare_y>PV_child].shape[0])\n",
      "<ipython-input-13-fc7ab27f773a>:53: UserWarning: Boolean Series key will be reindexed to match DataFrame index.\n",
      "  print(df_combine[df_combine.rsquare_x>PV_adult][df_combine.rsquare_y>PV_child].shape[0])\n",
      "<ipython-input-13-fc7ab27f773a>:52: UserWarning: Boolean Series key will be reindexed to match DataFrame index.\n",
      "  alls.append(df_combine[df_combine.rsquare_x>PV_adult][df_combine.rsquare_y>PV_child].shape[0])\n",
      "<ipython-input-13-fc7ab27f773a>:53: UserWarning: Boolean Series key will be reindexed to match DataFrame index.\n",
      "  print(df_combine[df_combine.rsquare_x>PV_adult][df_combine.rsquare_y>PV_child].shape[0])\n",
      "<ipython-input-13-fc7ab27f773a>:52: UserWarning: Boolean Series key will be reindexed to match DataFrame index.\n",
      "  alls.append(df_combine[df_combine.rsquare_x>PV_adult][df_combine.rsquare_y>PV_child].shape[0])\n",
      "<ipython-input-13-fc7ab27f773a>:53: UserWarning: Boolean Series key will be reindexed to match DataFrame index.\n",
      "  print(df_combine[df_combine.rsquare_x>PV_adult][df_combine.rsquare_y>PV_child].shape[0])\n",
      "<ipython-input-13-fc7ab27f773a>:52: UserWarning: Boolean Series key will be reindexed to match DataFrame index.\n",
      "  alls.append(df_combine[df_combine.rsquare_x>PV_adult][df_combine.rsquare_y>PV_child].shape[0])\n",
      "<ipython-input-13-fc7ab27f773a>:53: UserWarning: Boolean Series key will be reindexed to match DataFrame index.\n",
      "  print(df_combine[df_combine.rsquare_x>PV_adult][df_combine.rsquare_y>PV_child].shape[0])\n",
      "<ipython-input-13-fc7ab27f773a>:52: UserWarning: Boolean Series key will be reindexed to match DataFrame index.\n",
      "  alls.append(df_combine[df_combine.rsquare_x>PV_adult][df_combine.rsquare_y>PV_child].shape[0])\n",
      "<ipython-input-13-fc7ab27f773a>:53: UserWarning: Boolean Series key will be reindexed to match DataFrame index.\n",
      "  print(df_combine[df_combine.rsquare_x>PV_adult][df_combine.rsquare_y>PV_child].shape[0])\n",
      "<ipython-input-13-fc7ab27f773a>:52: UserWarning: Boolean Series key will be reindexed to match DataFrame index.\n",
      "  alls.append(df_combine[df_combine.rsquare_x>PV_adult][df_combine.rsquare_y>PV_child].shape[0])\n",
      "<ipython-input-13-fc7ab27f773a>:53: UserWarning: Boolean Series key will be reindexed to match DataFrame index.\n",
      "  print(df_combine[df_combine.rsquare_x>PV_adult][df_combine.rsquare_y>PV_child].shape[0])\n"
     ]
    },
    {
     "name": "stdout",
     "output_type": "stream",
     "text": [
      "30\n",
      "13\n",
      "5\n",
      "0\n",
      "19\n"
     ]
    },
    {
     "name": "stderr",
     "output_type": "stream",
     "text": [
      "<ipython-input-13-fc7ab27f773a>:52: UserWarning: Boolean Series key will be reindexed to match DataFrame index.\n",
      "  alls.append(df_combine[df_combine.rsquare_x>PV_adult][df_combine.rsquare_y>PV_child].shape[0])\n",
      "<ipython-input-13-fc7ab27f773a>:53: UserWarning: Boolean Series key will be reindexed to match DataFrame index.\n",
      "  print(df_combine[df_combine.rsquare_x>PV_adult][df_combine.rsquare_y>PV_child].shape[0])\n",
      "<ipython-input-13-fc7ab27f773a>:52: UserWarning: Boolean Series key will be reindexed to match DataFrame index.\n",
      "  alls.append(df_combine[df_combine.rsquare_x>PV_adult][df_combine.rsquare_y>PV_child].shape[0])\n",
      "<ipython-input-13-fc7ab27f773a>:53: UserWarning: Boolean Series key will be reindexed to match DataFrame index.\n",
      "  print(df_combine[df_combine.rsquare_x>PV_adult][df_combine.rsquare_y>PV_child].shape[0])\n",
      "<ipython-input-13-fc7ab27f773a>:52: UserWarning: Boolean Series key will be reindexed to match DataFrame index.\n",
      "  alls.append(df_combine[df_combine.rsquare_x>PV_adult][df_combine.rsquare_y>PV_child].shape[0])\n",
      "<ipython-input-13-fc7ab27f773a>:53: UserWarning: Boolean Series key will be reindexed to match DataFrame index.\n",
      "  print(df_combine[df_combine.rsquare_x>PV_adult][df_combine.rsquare_y>PV_child].shape[0])\n",
      "<ipython-input-13-fc7ab27f773a>:52: UserWarning: Boolean Series key will be reindexed to match DataFrame index.\n",
      "  alls.append(df_combine[df_combine.rsquare_x>PV_adult][df_combine.rsquare_y>PV_child].shape[0])\n"
     ]
    },
    {
     "name": "stdout",
     "output_type": "stream",
     "text": [
      "34\n",
      "17\n",
      "3\n"
     ]
    },
    {
     "name": "stderr",
     "output_type": "stream",
     "text": [
      "<ipython-input-13-fc7ab27f773a>:53: UserWarning: Boolean Series key will be reindexed to match DataFrame index.\n",
      "  print(df_combine[df_combine.rsquare_x>PV_adult][df_combine.rsquare_y>PV_child].shape[0])\n",
      "<ipython-input-13-fc7ab27f773a>:52: UserWarning: Boolean Series key will be reindexed to match DataFrame index.\n",
      "  alls.append(df_combine[df_combine.rsquare_x>PV_adult][df_combine.rsquare_y>PV_child].shape[0])\n",
      "<ipython-input-13-fc7ab27f773a>:53: UserWarning: Boolean Series key will be reindexed to match DataFrame index.\n",
      "  print(df_combine[df_combine.rsquare_x>PV_adult][df_combine.rsquare_y>PV_child].shape[0])\n",
      "<ipython-input-13-fc7ab27f773a>:52: UserWarning: Boolean Series key will be reindexed to match DataFrame index.\n",
      "  alls.append(df_combine[df_combine.rsquare_x>PV_adult][df_combine.rsquare_y>PV_child].shape[0])\n",
      "<ipython-input-13-fc7ab27f773a>:53: UserWarning: Boolean Series key will be reindexed to match DataFrame index.\n",
      "  print(df_combine[df_combine.rsquare_x>PV_adult][df_combine.rsquare_y>PV_child].shape[0])\n",
      "<ipython-input-13-fc7ab27f773a>:52: UserWarning: Boolean Series key will be reindexed to match DataFrame index.\n",
      "  alls.append(df_combine[df_combine.rsquare_x>PV_adult][df_combine.rsquare_y>PV_child].shape[0])\n",
      "<ipython-input-13-fc7ab27f773a>:53: UserWarning: Boolean Series key will be reindexed to match DataFrame index.\n",
      "  print(df_combine[df_combine.rsquare_x>PV_adult][df_combine.rsquare_y>PV_child].shape[0])\n"
     ]
    },
    {
     "name": "stdout",
     "output_type": "stream",
     "text": [
      "24\n",
      "12\n",
      "0\n",
      "18"
     ]
    },
    {
     "name": "stderr",
     "output_type": "stream",
     "text": [
      "<ipython-input-13-fc7ab27f773a>:52: UserWarning: Boolean Series key will be reindexed to match DataFrame index.\n",
      "  alls.append(df_combine[df_combine.rsquare_x>PV_adult][df_combine.rsquare_y>PV_child].shape[0])\n",
      "<ipython-input-13-fc7ab27f773a>:53: UserWarning: Boolean Series key will be reindexed to match DataFrame index.\n",
      "  print(df_combine[df_combine.rsquare_x>PV_adult][df_combine.rsquare_y>PV_child].shape[0])\n",
      "<ipython-input-13-fc7ab27f773a>:52: UserWarning: Boolean Series key will be reindexed to match DataFrame index.\n",
      "  alls.append(df_combine[df_combine.rsquare_x>PV_adult][df_combine.rsquare_y>PV_child].shape[0])\n",
      "<ipython-input-13-fc7ab27f773a>:53: UserWarning: Boolean Series key will be reindexed to match DataFrame index.\n",
      "  print(df_combine[df_combine.rsquare_x>PV_adult][df_combine.rsquare_y>PV_child].shape[0])\n",
      "<ipython-input-13-fc7ab27f773a>:52: UserWarning: Boolean Series key will be reindexed to match DataFrame index.\n",
      "  alls.append(df_combine[df_combine.rsquare_x>PV_adult][df_combine.rsquare_y>PV_child].shape[0])\n",
      "<ipython-input-13-fc7ab27f773a>:53: UserWarning: Boolean Series key will be reindexed to match DataFrame index.\n",
      "  print(df_combine[df_combine.rsquare_x>PV_adult][df_combine.rsquare_y>PV_child].shape[0])\n",
      "<ipython-input-13-fc7ab27f773a>:52: UserWarning: Boolean Series key will be reindexed to match DataFrame index.\n",
      "  alls.append(df_combine[df_combine.rsquare_x>PV_adult][df_combine.rsquare_y>PV_child].shape[0])\n",
      "<ipython-input-13-fc7ab27f773a>:53: UserWarning: Boolean Series key will be reindexed to match DataFrame index.\n",
      "  print(df_combine[df_combine.rsquare_x>PV_adult][df_combine.rsquare_y>PV_child].shape[0])\n",
      "<ipython-input-13-fc7ab27f773a>:52: UserWarning: Boolean Series key will be reindexed to match DataFrame index.\n",
      "  alls.append(df_combine[df_combine.rsquare_x>PV_adult][df_combine.rsquare_y>PV_child].shape[0])\n",
      "<ipython-input-13-fc7ab27f773a>:53: UserWarning: Boolean Series key will be reindexed to match DataFrame index.\n",
      "  print(df_combine[df_combine.rsquare_x>PV_adult][df_combine.rsquare_y>PV_child].shape[0])\n",
      "<ipython-input-13-fc7ab27f773a>:52: UserWarning: Boolean Series key will be reindexed to match DataFrame index.\n",
      "  alls.append(df_combine[df_combine.rsquare_x>PV_adult][df_combine.rsquare_y>PV_child].shape[0])\n",
      "<ipython-input-13-fc7ab27f773a>:53: UserWarning: Boolean Series key will be reindexed to match DataFrame index.\n",
      "  print(df_combine[df_combine.rsquare_x>PV_adult][df_combine.rsquare_y>PV_child].shape[0])\n"
     ]
    },
    {
     "name": "stdout",
     "output_type": "stream",
     "text": [
      "\n",
      "16\n",
      "7\n",
      "1\n",
      "21\n",
      "8\n",
      "3\n"
     ]
    },
    {
     "name": "stderr",
     "output_type": "stream",
     "text": [
      "<ipython-input-13-fc7ab27f773a>:52: UserWarning: Boolean Series key will be reindexed to match DataFrame index.\n",
      "  alls.append(df_combine[df_combine.rsquare_x>PV_adult][df_combine.rsquare_y>PV_child].shape[0])\n",
      "<ipython-input-13-fc7ab27f773a>:53: UserWarning: Boolean Series key will be reindexed to match DataFrame index.\n",
      "  print(df_combine[df_combine.rsquare_x>PV_adult][df_combine.rsquare_y>PV_child].shape[0])\n",
      "<ipython-input-13-fc7ab27f773a>:52: UserWarning: Boolean Series key will be reindexed to match DataFrame index.\n",
      "  alls.append(df_combine[df_combine.rsquare_x>PV_adult][df_combine.rsquare_y>PV_child].shape[0])\n",
      "<ipython-input-13-fc7ab27f773a>:53: UserWarning: Boolean Series key will be reindexed to match DataFrame index.\n",
      "  print(df_combine[df_combine.rsquare_x>PV_adult][df_combine.rsquare_y>PV_child].shape[0])\n",
      "<ipython-input-13-fc7ab27f773a>:52: UserWarning: Boolean Series key will be reindexed to match DataFrame index.\n",
      "  alls.append(df_combine[df_combine.rsquare_x>PV_adult][df_combine.rsquare_y>PV_child].shape[0])\n",
      "<ipython-input-13-fc7ab27f773a>:53: UserWarning: Boolean Series key will be reindexed to match DataFrame index.\n",
      "  print(df_combine[df_combine.rsquare_x>PV_adult][df_combine.rsquare_y>PV_child].shape[0])\n",
      "<ipython-input-13-fc7ab27f773a>:52: UserWarning: Boolean Series key will be reindexed to match DataFrame index.\n",
      "  alls.append(df_combine[df_combine.rsquare_x>PV_adult][df_combine.rsquare_y>PV_child].shape[0])\n",
      "<ipython-input-13-fc7ab27f773a>:53: UserWarning: Boolean Series key will be reindexed to match DataFrame index.\n",
      "  print(df_combine[df_combine.rsquare_x>PV_adult][df_combine.rsquare_y>PV_child].shape[0])\n",
      "<ipython-input-13-fc7ab27f773a>:52: UserWarning: Boolean Series key will be reindexed to match DataFrame index.\n",
      "  alls.append(df_combine[df_combine.rsquare_x>PV_adult][df_combine.rsquare_y>PV_child].shape[0])\n",
      "<ipython-input-13-fc7ab27f773a>:53: UserWarning: Boolean Series key will be reindexed to match DataFrame index.\n",
      "  print(df_combine[df_combine.rsquare_x>PV_adult][df_combine.rsquare_y>PV_child].shape[0])\n",
      "<ipython-input-13-fc7ab27f773a>:52: UserWarning: Boolean Series key will be reindexed to match DataFrame index.\n",
      "  alls.append(df_combine[df_combine.rsquare_x>PV_adult][df_combine.rsquare_y>PV_child].shape[0])\n",
      "<ipython-input-13-fc7ab27f773a>:53: UserWarning: Boolean Series key will be reindexed to match DataFrame index.\n",
      "  print(df_combine[df_combine.rsquare_x>PV_adult][df_combine.rsquare_y>PV_child].shape[0])\n"
     ]
    },
    {
     "name": "stdout",
     "output_type": "stream",
     "text": [
      "3\n",
      "2\n",
      "1\n",
      "1\n",
      "14\n",
      "11\n"
     ]
    },
    {
     "name": "stderr",
     "output_type": "stream",
     "text": [
      "<ipython-input-13-fc7ab27f773a>:52: UserWarning: Boolean Series key will be reindexed to match DataFrame index.\n",
      "  alls.append(df_combine[df_combine.rsquare_x>PV_adult][df_combine.rsquare_y>PV_child].shape[0])\n",
      "<ipython-input-13-fc7ab27f773a>:53: UserWarning: Boolean Series key will be reindexed to match DataFrame index.\n",
      "  print(df_combine[df_combine.rsquare_x>PV_adult][df_combine.rsquare_y>PV_child].shape[0])\n",
      "<ipython-input-13-fc7ab27f773a>:52: UserWarning: Boolean Series key will be reindexed to match DataFrame index.\n",
      "  alls.append(df_combine[df_combine.rsquare_x>PV_adult][df_combine.rsquare_y>PV_child].shape[0])\n",
      "<ipython-input-13-fc7ab27f773a>:53: UserWarning: Boolean Series key will be reindexed to match DataFrame index.\n",
      "  print(df_combine[df_combine.rsquare_x>PV_adult][df_combine.rsquare_y>PV_child].shape[0])\n",
      "<ipython-input-13-fc7ab27f773a>:52: UserWarning: Boolean Series key will be reindexed to match DataFrame index.\n",
      "  alls.append(df_combine[df_combine.rsquare_x>PV_adult][df_combine.rsquare_y>PV_child].shape[0])\n",
      "<ipython-input-13-fc7ab27f773a>:53: UserWarning: Boolean Series key will be reindexed to match DataFrame index.\n",
      "  print(df_combine[df_combine.rsquare_x>PV_adult][df_combine.rsquare_y>PV_child].shape[0])\n",
      "<ipython-input-13-fc7ab27f773a>:52: UserWarning: Boolean Series key will be reindexed to match DataFrame index.\n",
      "  alls.append(df_combine[df_combine.rsquare_x>PV_adult][df_combine.rsquare_y>PV_child].shape[0])\n",
      "<ipython-input-13-fc7ab27f773a>:53: UserWarning: Boolean Series key will be reindexed to match DataFrame index.\n",
      "  print(df_combine[df_combine.rsquare_x>PV_adult][df_combine.rsquare_y>PV_child].shape[0])\n",
      "<ipython-input-13-fc7ab27f773a>:52: UserWarning: Boolean Series key will be reindexed to match DataFrame index.\n",
      "  alls.append(df_combine[df_combine.rsquare_x>PV_adult][df_combine.rsquare_y>PV_child].shape[0])\n",
      "<ipython-input-13-fc7ab27f773a>:53: UserWarning: Boolean Series key will be reindexed to match DataFrame index.\n",
      "  print(df_combine[df_combine.rsquare_x>PV_adult][df_combine.rsquare_y>PV_child].shape[0])\n"
     ]
    },
    {
     "name": "stdout",
     "output_type": "stream",
     "text": [
      "4\n",
      "2\n",
      "31\n",
      "17\n",
      "350\n"
     ]
    },
    {
     "name": "stderr",
     "output_type": "stream",
     "text": [
      "<ipython-input-13-fc7ab27f773a>:52: UserWarning: Boolean Series key will be reindexed to match DataFrame index.\n",
      "  alls.append(df_combine[df_combine.rsquare_x>PV_adult][df_combine.rsquare_y>PV_child].shape[0])\n",
      "<ipython-input-13-fc7ab27f773a>:53: UserWarning: Boolean Series key will be reindexed to match DataFrame index.\n",
      "  print(df_combine[df_combine.rsquare_x>PV_adult][df_combine.rsquare_y>PV_child].shape[0])\n",
      "<ipython-input-13-fc7ab27f773a>:52: UserWarning: Boolean Series key will be reindexed to match DataFrame index.\n",
      "  alls.append(df_combine[df_combine.rsquare_x>PV_adult][df_combine.rsquare_y>PV_child].shape[0])\n",
      "<ipython-input-13-fc7ab27f773a>:53: UserWarning: Boolean Series key will be reindexed to match DataFrame index.\n",
      "  print(df_combine[df_combine.rsquare_x>PV_adult][df_combine.rsquare_y>PV_child].shape[0])\n",
      "<ipython-input-13-fc7ab27f773a>:52: UserWarning: Boolean Series key will be reindexed to match DataFrame index.\n",
      "  alls.append(df_combine[df_combine.rsquare_x>PV_adult][df_combine.rsquare_y>PV_child].shape[0])\n",
      "<ipython-input-13-fc7ab27f773a>:53: UserWarning: Boolean Series key will be reindexed to match DataFrame index.\n",
      "  print(df_combine[df_combine.rsquare_x>PV_adult][df_combine.rsquare_y>PV_child].shape[0])\n",
      "<ipython-input-13-fc7ab27f773a>:52: UserWarning: Boolean Series key will be reindexed to match DataFrame index.\n",
      "  alls.append(df_combine[df_combine.rsquare_x>PV_adult][df_combine.rsquare_y>PV_child].shape[0])\n",
      "<ipython-input-13-fc7ab27f773a>:53: UserWarning: Boolean Series key will be reindexed to match DataFrame index.\n",
      "  print(df_combine[df_combine.rsquare_x>PV_adult][df_combine.rsquare_y>PV_child].shape[0])\n",
      "<ipython-input-13-fc7ab27f773a>:52: UserWarning: Boolean Series key will be reindexed to match DataFrame index.\n",
      "  alls.append(df_combine[df_combine.rsquare_x>PV_adult][df_combine.rsquare_y>PV_child].shape[0])\n"
     ]
    },
    {
     "name": "stdout",
     "output_type": "stream",
     "text": [
      "1\n",
      "4\n",
      "29\n",
      "29\n",
      "11\n"
     ]
    },
    {
     "name": "stderr",
     "output_type": "stream",
     "text": [
      "<ipython-input-13-fc7ab27f773a>:53: UserWarning: Boolean Series key will be reindexed to match DataFrame index.\n",
      "  print(df_combine[df_combine.rsquare_x>PV_adult][df_combine.rsquare_y>PV_child].shape[0])\n",
      "<ipython-input-13-fc7ab27f773a>:52: UserWarning: Boolean Series key will be reindexed to match DataFrame index.\n",
      "  alls.append(df_combine[df_combine.rsquare_x>PV_adult][df_combine.rsquare_y>PV_child].shape[0])\n",
      "<ipython-input-13-fc7ab27f773a>:53: UserWarning: Boolean Series key will be reindexed to match DataFrame index.\n",
      "  print(df_combine[df_combine.rsquare_x>PV_adult][df_combine.rsquare_y>PV_child].shape[0])\n",
      "<ipython-input-13-fc7ab27f773a>:52: UserWarning: Boolean Series key will be reindexed to match DataFrame index.\n",
      "  alls.append(df_combine[df_combine.rsquare_x>PV_adult][df_combine.rsquare_y>PV_child].shape[0])\n",
      "<ipython-input-13-fc7ab27f773a>:53: UserWarning: Boolean Series key will be reindexed to match DataFrame index.\n",
      "  print(df_combine[df_combine.rsquare_x>PV_adult][df_combine.rsquare_y>PV_child].shape[0])\n",
      "<ipython-input-13-fc7ab27f773a>:52: UserWarning: Boolean Series key will be reindexed to match DataFrame index.\n",
      "  alls.append(df_combine[df_combine.rsquare_x>PV_adult][df_combine.rsquare_y>PV_child].shape[0])\n",
      "<ipython-input-13-fc7ab27f773a>:53: UserWarning: Boolean Series key will be reindexed to match DataFrame index.\n",
      "  print(df_combine[df_combine.rsquare_x>PV_adult][df_combine.rsquare_y>PV_child].shape[0])\n"
     ]
    },
    {
     "name": "stdout",
     "output_type": "stream",
     "text": [
      "19\n",
      "30\n",
      "28\n",
      "13\n"
     ]
    },
    {
     "name": "stderr",
     "output_type": "stream",
     "text": [
      "<ipython-input-13-fc7ab27f773a>:52: UserWarning: Boolean Series key will be reindexed to match DataFrame index.\n",
      "  alls.append(df_combine[df_combine.rsquare_x>PV_adult][df_combine.rsquare_y>PV_child].shape[0])\n",
      "<ipython-input-13-fc7ab27f773a>:53: UserWarning: Boolean Series key will be reindexed to match DataFrame index.\n",
      "  print(df_combine[df_combine.rsquare_x>PV_adult][df_combine.rsquare_y>PV_child].shape[0])\n",
      "<ipython-input-13-fc7ab27f773a>:52: UserWarning: Boolean Series key will be reindexed to match DataFrame index.\n",
      "  alls.append(df_combine[df_combine.rsquare_x>PV_adult][df_combine.rsquare_y>PV_child].shape[0])\n",
      "<ipython-input-13-fc7ab27f773a>:53: UserWarning: Boolean Series key will be reindexed to match DataFrame index.\n",
      "  print(df_combine[df_combine.rsquare_x>PV_adult][df_combine.rsquare_y>PV_child].shape[0])\n",
      "<ipython-input-13-fc7ab27f773a>:52: UserWarning: Boolean Series key will be reindexed to match DataFrame index.\n",
      "  alls.append(df_combine[df_combine.rsquare_x>PV_adult][df_combine.rsquare_y>PV_child].shape[0])\n",
      "<ipython-input-13-fc7ab27f773a>:53: UserWarning: Boolean Series key will be reindexed to match DataFrame index.\n",
      "  print(df_combine[df_combine.rsquare_x>PV_adult][df_combine.rsquare_y>PV_child].shape[0])\n",
      "<ipython-input-13-fc7ab27f773a>:52: UserWarning: Boolean Series key will be reindexed to match DataFrame index.\n",
      "  alls.append(df_combine[df_combine.rsquare_x>PV_adult][df_combine.rsquare_y>PV_child].shape[0])\n",
      "<ipython-input-13-fc7ab27f773a>:53: UserWarning: Boolean Series key will be reindexed to match DataFrame index.\n",
      "  print(df_combine[df_combine.rsquare_x>PV_adult][df_combine.rsquare_y>PV_child].shape[0])\n",
      "<ipython-input-13-fc7ab27f773a>:52: UserWarning: Boolean Series key will be reindexed to match DataFrame index.\n",
      "  alls.append(df_combine[df_combine.rsquare_x>PV_adult][df_combine.rsquare_y>PV_child].shape[0])\n",
      "<ipython-input-13-fc7ab27f773a>:53: UserWarning: Boolean Series key will be reindexed to match DataFrame index.\n",
      "  print(df_combine[df_combine.rsquare_x>PV_adult][df_combine.rsquare_y>PV_child].shape[0])\n"
     ]
    },
    {
     "name": "stdout",
     "output_type": "stream",
     "text": [
      "15\n",
      "9\n",
      "14\n",
      "14\n",
      "20\n"
     ]
    },
    {
     "name": "stderr",
     "output_type": "stream",
     "text": [
      "<ipython-input-13-fc7ab27f773a>:52: UserWarning: Boolean Series key will be reindexed to match DataFrame index.\n",
      "  alls.append(df_combine[df_combine.rsquare_x>PV_adult][df_combine.rsquare_y>PV_child].shape[0])\n",
      "<ipython-input-13-fc7ab27f773a>:53: UserWarning: Boolean Series key will be reindexed to match DataFrame index.\n",
      "  print(df_combine[df_combine.rsquare_x>PV_adult][df_combine.rsquare_y>PV_child].shape[0])\n",
      "<ipython-input-13-fc7ab27f773a>:52: UserWarning: Boolean Series key will be reindexed to match DataFrame index.\n",
      "  alls.append(df_combine[df_combine.rsquare_x>PV_adult][df_combine.rsquare_y>PV_child].shape[0])\n",
      "<ipython-input-13-fc7ab27f773a>:53: UserWarning: Boolean Series key will be reindexed to match DataFrame index.\n",
      "  print(df_combine[df_combine.rsquare_x>PV_adult][df_combine.rsquare_y>PV_child].shape[0])\n",
      "<ipython-input-13-fc7ab27f773a>:52: UserWarning: Boolean Series key will be reindexed to match DataFrame index.\n",
      "  alls.append(df_combine[df_combine.rsquare_x>PV_adult][df_combine.rsquare_y>PV_child].shape[0])\n",
      "<ipython-input-13-fc7ab27f773a>:53: UserWarning: Boolean Series key will be reindexed to match DataFrame index.\n",
      "  print(df_combine[df_combine.rsquare_x>PV_adult][df_combine.rsquare_y>PV_child].shape[0])\n"
     ]
    },
    {
     "name": "stdout",
     "output_type": "stream",
     "text": [
      "2\n",
      "1\n",
      "8\n"
     ]
    },
    {
     "name": "stderr",
     "output_type": "stream",
     "text": [
      "<ipython-input-13-fc7ab27f773a>:52: UserWarning: Boolean Series key will be reindexed to match DataFrame index.\n",
      "  alls.append(df_combine[df_combine.rsquare_x>PV_adult][df_combine.rsquare_y>PV_child].shape[0])\n",
      "<ipython-input-13-fc7ab27f773a>:53: UserWarning: Boolean Series key will be reindexed to match DataFrame index.\n",
      "  print(df_combine[df_combine.rsquare_x>PV_adult][df_combine.rsquare_y>PV_child].shape[0])\n",
      "<ipython-input-13-fc7ab27f773a>:52: UserWarning: Boolean Series key will be reindexed to match DataFrame index.\n",
      "  alls.append(df_combine[df_combine.rsquare_x>PV_adult][df_combine.rsquare_y>PV_child].shape[0])\n",
      "<ipython-input-13-fc7ab27f773a>:53: UserWarning: Boolean Series key will be reindexed to match DataFrame index.\n",
      "  print(df_combine[df_combine.rsquare_x>PV_adult][df_combine.rsquare_y>PV_child].shape[0])\n",
      "<ipython-input-13-fc7ab27f773a>:52: UserWarning: Boolean Series key will be reindexed to match DataFrame index.\n",
      "  alls.append(df_combine[df_combine.rsquare_x>PV_adult][df_combine.rsquare_y>PV_child].shape[0])\n",
      "<ipython-input-13-fc7ab27f773a>:53: UserWarning: Boolean Series key will be reindexed to match DataFrame index.\n",
      "  print(df_combine[df_combine.rsquare_x>PV_adult][df_combine.rsquare_y>PV_child].shape[0])\n",
      "<ipython-input-13-fc7ab27f773a>:52: UserWarning: Boolean Series key will be reindexed to match DataFrame index.\n",
      "  alls.append(df_combine[df_combine.rsquare_x>PV_adult][df_combine.rsquare_y>PV_child].shape[0])\n",
      "<ipython-input-13-fc7ab27f773a>:53: UserWarning: Boolean Series key will be reindexed to match DataFrame index.\n",
      "  print(df_combine[df_combine.rsquare_x>PV_adult][df_combine.rsquare_y>PV_child].shape[0])\n",
      "<ipython-input-13-fc7ab27f773a>:52: UserWarning: Boolean Series key will be reindexed to match DataFrame index.\n",
      "  alls.append(df_combine[df_combine.rsquare_x>PV_adult][df_combine.rsquare_y>PV_child].shape[0])\n",
      "<ipython-input-13-fc7ab27f773a>:53: UserWarning: Boolean Series key will be reindexed to match DataFrame index.\n",
      "  print(df_combine[df_combine.rsquare_x>PV_adult][df_combine.rsquare_y>PV_child].shape[0])\n"
     ]
    },
    {
     "name": "stdout",
     "output_type": "stream",
     "text": [
      "0\n",
      "18\n",
      "0\n",
      "0\n",
      "21\n",
      "15\n",
      "24\n"
     ]
    },
    {
     "name": "stderr",
     "output_type": "stream",
     "text": [
      "<ipython-input-13-fc7ab27f773a>:52: UserWarning: Boolean Series key will be reindexed to match DataFrame index.\n",
      "  alls.append(df_combine[df_combine.rsquare_x>PV_adult][df_combine.rsquare_y>PV_child].shape[0])\n",
      "<ipython-input-13-fc7ab27f773a>:53: UserWarning: Boolean Series key will be reindexed to match DataFrame index.\n",
      "  print(df_combine[df_combine.rsquare_x>PV_adult][df_combine.rsquare_y>PV_child].shape[0])\n",
      "<ipython-input-13-fc7ab27f773a>:52: UserWarning: Boolean Series key will be reindexed to match DataFrame index.\n",
      "  alls.append(df_combine[df_combine.rsquare_x>PV_adult][df_combine.rsquare_y>PV_child].shape[0])\n",
      "<ipython-input-13-fc7ab27f773a>:53: UserWarning: Boolean Series key will be reindexed to match DataFrame index.\n",
      "  print(df_combine[df_combine.rsquare_x>PV_adult][df_combine.rsquare_y>PV_child].shape[0])\n",
      "<ipython-input-13-fc7ab27f773a>:52: UserWarning: Boolean Series key will be reindexed to match DataFrame index.\n",
      "  alls.append(df_combine[df_combine.rsquare_x>PV_adult][df_combine.rsquare_y>PV_child].shape[0])\n",
      "<ipython-input-13-fc7ab27f773a>:53: UserWarning: Boolean Series key will be reindexed to match DataFrame index.\n",
      "  print(df_combine[df_combine.rsquare_x>PV_adult][df_combine.rsquare_y>PV_child].shape[0])\n",
      "<ipython-input-13-fc7ab27f773a>:52: UserWarning: Boolean Series key will be reindexed to match DataFrame index.\n",
      "  alls.append(df_combine[df_combine.rsquare_x>PV_adult][df_combine.rsquare_y>PV_child].shape[0])\n",
      "<ipython-input-13-fc7ab27f773a>:53: UserWarning: Boolean Series key will be reindexed to match DataFrame index.\n",
      "  print(df_combine[df_combine.rsquare_x>PV_adult][df_combine.rsquare_y>PV_child].shape[0])\n",
      "<ipython-input-13-fc7ab27f773a>:52: UserWarning: Boolean Series key will be reindexed to match DataFrame index.\n",
      "  alls.append(df_combine[df_combine.rsquare_x>PV_adult][df_combine.rsquare_y>PV_child].shape[0])\n",
      "<ipython-input-13-fc7ab27f773a>:53: UserWarning: Boolean Series key will be reindexed to match DataFrame index.\n",
      "  print(df_combine[df_combine.rsquare_x>PV_adult][df_combine.rsquare_y>PV_child].shape[0])\n",
      "<ipython-input-13-fc7ab27f773a>:52: UserWarning: Boolean Series key will be reindexed to match DataFrame index.\n",
      "  alls.append(df_combine[df_combine.rsquare_x>PV_adult][df_combine.rsquare_y>PV_child].shape[0])\n",
      "<ipython-input-13-fc7ab27f773a>:53: UserWarning: Boolean Series key will be reindexed to match DataFrame index.\n",
      "  print(df_combine[df_combine.rsquare_x>PV_adult][df_combine.rsquare_y>PV_child].shape[0])\n",
      "<ipython-input-13-fc7ab27f773a>:52: UserWarning: Boolean Series key will be reindexed to match DataFrame index.\n",
      "  alls.append(df_combine[df_combine.rsquare_x>PV_adult][df_combine.rsquare_y>PV_child].shape[0])\n",
      "<ipython-input-13-fc7ab27f773a>:53: UserWarning: Boolean Series key will be reindexed to match DataFrame index.\n",
      "  print(df_combine[df_combine.rsquare_x>PV_adult][df_combine.rsquare_y>PV_child].shape[0])\n",
      "<ipython-input-13-fc7ab27f773a>:52: UserWarning: Boolean Series key will be reindexed to match DataFrame index.\n",
      "  alls.append(df_combine[df_combine.rsquare_x>PV_adult][df_combine.rsquare_y>PV_child].shape[0])\n",
      "<ipython-input-13-fc7ab27f773a>:53: UserWarning: Boolean Series key will be reindexed to match DataFrame index.\n",
      "  print(df_combine[df_combine.rsquare_x>PV_adult][df_combine.rsquare_y>PV_child].shape[0])\n"
     ]
    },
    {
     "name": "stdout",
     "output_type": "stream",
     "text": [
      "12\n",
      "1\n",
      "5\n",
      "9\n",
      "4\n",
      "2\n",
      "7\n",
      "0\n"
     ]
    },
    {
     "name": "stderr",
     "output_type": "stream",
     "text": [
      "<ipython-input-13-fc7ab27f773a>:52: UserWarning: Boolean Series key will be reindexed to match DataFrame index.\n",
      "  alls.append(df_combine[df_combine.rsquare_x>PV_adult][df_combine.rsquare_y>PV_child].shape[0])\n",
      "<ipython-input-13-fc7ab27f773a>:53: UserWarning: Boolean Series key will be reindexed to match DataFrame index.\n",
      "  print(df_combine[df_combine.rsquare_x>PV_adult][df_combine.rsquare_y>PV_child].shape[0])\n",
      "<ipython-input-13-fc7ab27f773a>:52: UserWarning: Boolean Series key will be reindexed to match DataFrame index.\n",
      "  alls.append(df_combine[df_combine.rsquare_x>PV_adult][df_combine.rsquare_y>PV_child].shape[0])\n",
      "<ipython-input-13-fc7ab27f773a>:53: UserWarning: Boolean Series key will be reindexed to match DataFrame index.\n",
      "  print(df_combine[df_combine.rsquare_x>PV_adult][df_combine.rsquare_y>PV_child].shape[0])\n",
      "<ipython-input-13-fc7ab27f773a>:52: UserWarning: Boolean Series key will be reindexed to match DataFrame index.\n",
      "  alls.append(df_combine[df_combine.rsquare_x>PV_adult][df_combine.rsquare_y>PV_child].shape[0])\n",
      "<ipython-input-13-fc7ab27f773a>:53: UserWarning: Boolean Series key will be reindexed to match DataFrame index.\n",
      "  print(df_combine[df_combine.rsquare_x>PV_adult][df_combine.rsquare_y>PV_child].shape[0])\n",
      "<ipython-input-13-fc7ab27f773a>:52: UserWarning: Boolean Series key will be reindexed to match DataFrame index.\n",
      "  alls.append(df_combine[df_combine.rsquare_x>PV_adult][df_combine.rsquare_y>PV_child].shape[0])\n",
      "<ipython-input-13-fc7ab27f773a>:53: UserWarning: Boolean Series key will be reindexed to match DataFrame index.\n",
      "  print(df_combine[df_combine.rsquare_x>PV_adult][df_combine.rsquare_y>PV_child].shape[0])\n",
      "<ipython-input-13-fc7ab27f773a>:52: UserWarning: Boolean Series key will be reindexed to match DataFrame index.\n",
      "  alls.append(df_combine[df_combine.rsquare_x>PV_adult][df_combine.rsquare_y>PV_child].shape[0])\n",
      "<ipython-input-13-fc7ab27f773a>:53: UserWarning: Boolean Series key will be reindexed to match DataFrame index.\n",
      "  print(df_combine[df_combine.rsquare_x>PV_adult][df_combine.rsquare_y>PV_child].shape[0])\n",
      "<ipython-input-13-fc7ab27f773a>:52: UserWarning: Boolean Series key will be reindexed to match DataFrame index.\n",
      "  alls.append(df_combine[df_combine.rsquare_x>PV_adult][df_combine.rsquare_y>PV_child].shape[0])\n",
      "<ipython-input-13-fc7ab27f773a>:53: UserWarning: Boolean Series key will be reindexed to match DataFrame index.\n",
      "  print(df_combine[df_combine.rsquare_x>PV_adult][df_combine.rsquare_y>PV_child].shape[0])\n",
      "<ipython-input-13-fc7ab27f773a>:52: UserWarning: Boolean Series key will be reindexed to match DataFrame index.\n",
      "  alls.append(df_combine[df_combine.rsquare_x>PV_adult][df_combine.rsquare_y>PV_child].shape[0])\n"
     ]
    },
    {
     "name": "stdout",
     "output_type": "stream",
     "text": [
      "4\n",
      "6\n",
      "16\n",
      "1\n",
      "3\n"
     ]
    },
    {
     "name": "stderr",
     "output_type": "stream",
     "text": [
      "<ipython-input-13-fc7ab27f773a>:53: UserWarning: Boolean Series key will be reindexed to match DataFrame index.\n",
      "  print(df_combine[df_combine.rsquare_x>PV_adult][df_combine.rsquare_y>PV_child].shape[0])\n",
      "<ipython-input-13-fc7ab27f773a>:52: UserWarning: Boolean Series key will be reindexed to match DataFrame index.\n",
      "  alls.append(df_combine[df_combine.rsquare_x>PV_adult][df_combine.rsquare_y>PV_child].shape[0])\n",
      "<ipython-input-13-fc7ab27f773a>:53: UserWarning: Boolean Series key will be reindexed to match DataFrame index.\n",
      "  print(df_combine[df_combine.rsquare_x>PV_adult][df_combine.rsquare_y>PV_child].shape[0])\n",
      "<ipython-input-13-fc7ab27f773a>:52: UserWarning: Boolean Series key will be reindexed to match DataFrame index.\n",
      "  alls.append(df_combine[df_combine.rsquare_x>PV_adult][df_combine.rsquare_y>PV_child].shape[0])\n",
      "<ipython-input-13-fc7ab27f773a>:53: UserWarning: Boolean Series key will be reindexed to match DataFrame index.\n",
      "  print(df_combine[df_combine.rsquare_x>PV_adult][df_combine.rsquare_y>PV_child].shape[0])\n",
      "<ipython-input-13-fc7ab27f773a>:52: UserWarning: Boolean Series key will be reindexed to match DataFrame index.\n",
      "  alls.append(df_combine[df_combine.rsquare_x>PV_adult][df_combine.rsquare_y>PV_child].shape[0])\n",
      "<ipython-input-13-fc7ab27f773a>:53: UserWarning: Boolean Series key will be reindexed to match DataFrame index.\n",
      "  print(df_combine[df_combine.rsquare_x>PV_adult][df_combine.rsquare_y>PV_child].shape[0])\n",
      "<ipython-input-13-fc7ab27f773a>:52: UserWarning: Boolean Series key will be reindexed to match DataFrame index.\n",
      "  alls.append(df_combine[df_combine.rsquare_x>PV_adult][df_combine.rsquare_y>PV_child].shape[0])\n",
      "<ipython-input-13-fc7ab27f773a>:53: UserWarning: Boolean Series key will be reindexed to match DataFrame index.\n",
      "  print(df_combine[df_combine.rsquare_x>PV_adult][df_combine.rsquare_y>PV_child].shape[0])\n"
     ]
    },
    {
     "name": "stdout",
     "output_type": "stream",
     "text": [
      "3\n",
      "2\n",
      "1\n"
     ]
    },
    {
     "name": "stderr",
     "output_type": "stream",
     "text": [
      "<ipython-input-13-fc7ab27f773a>:52: UserWarning: Boolean Series key will be reindexed to match DataFrame index.\n",
      "  alls.append(df_combine[df_combine.rsquare_x>PV_adult][df_combine.rsquare_y>PV_child].shape[0])\n",
      "<ipython-input-13-fc7ab27f773a>:53: UserWarning: Boolean Series key will be reindexed to match DataFrame index.\n",
      "  print(df_combine[df_combine.rsquare_x>PV_adult][df_combine.rsquare_y>PV_child].shape[0])\n",
      "<ipython-input-13-fc7ab27f773a>:52: UserWarning: Boolean Series key will be reindexed to match DataFrame index.\n",
      "  alls.append(df_combine[df_combine.rsquare_x>PV_adult][df_combine.rsquare_y>PV_child].shape[0])\n",
      "<ipython-input-13-fc7ab27f773a>:53: UserWarning: Boolean Series key will be reindexed to match DataFrame index.\n",
      "  print(df_combine[df_combine.rsquare_x>PV_adult][df_combine.rsquare_y>PV_child].shape[0])\n",
      "<ipython-input-13-fc7ab27f773a>:52: UserWarning: Boolean Series key will be reindexed to match DataFrame index.\n",
      "  alls.append(df_combine[df_combine.rsquare_x>PV_adult][df_combine.rsquare_y>PV_child].shape[0])\n",
      "<ipython-input-13-fc7ab27f773a>:53: UserWarning: Boolean Series key will be reindexed to match DataFrame index.\n",
      "  print(df_combine[df_combine.rsquare_x>PV_adult][df_combine.rsquare_y>PV_child].shape[0])\n"
     ]
    },
    {
     "name": "stdout",
     "output_type": "stream",
     "text": [
      "25\n",
      "36\n",
      "17\n",
      "5\n",
      "23\n"
     ]
    },
    {
     "name": "stderr",
     "output_type": "stream",
     "text": [
      "<ipython-input-13-fc7ab27f773a>:52: UserWarning: Boolean Series key will be reindexed to match DataFrame index.\n",
      "  alls.append(df_combine[df_combine.rsquare_x>PV_adult][df_combine.rsquare_y>PV_child].shape[0])\n",
      "<ipython-input-13-fc7ab27f773a>:53: UserWarning: Boolean Series key will be reindexed to match DataFrame index.\n",
      "  print(df_combine[df_combine.rsquare_x>PV_adult][df_combine.rsquare_y>PV_child].shape[0])\n",
      "<ipython-input-13-fc7ab27f773a>:52: UserWarning: Boolean Series key will be reindexed to match DataFrame index.\n",
      "  alls.append(df_combine[df_combine.rsquare_x>PV_adult][df_combine.rsquare_y>PV_child].shape[0])\n",
      "<ipython-input-13-fc7ab27f773a>:53: UserWarning: Boolean Series key will be reindexed to match DataFrame index.\n",
      "  print(df_combine[df_combine.rsquare_x>PV_adult][df_combine.rsquare_y>PV_child].shape[0])\n",
      "<ipython-input-13-fc7ab27f773a>:52: UserWarning: Boolean Series key will be reindexed to match DataFrame index.\n",
      "  alls.append(df_combine[df_combine.rsquare_x>PV_adult][df_combine.rsquare_y>PV_child].shape[0])\n",
      "<ipython-input-13-fc7ab27f773a>:53: UserWarning: Boolean Series key will be reindexed to match DataFrame index.\n",
      "  print(df_combine[df_combine.rsquare_x>PV_adult][df_combine.rsquare_y>PV_child].shape[0])\n",
      "<ipython-input-13-fc7ab27f773a>:52: UserWarning: Boolean Series key will be reindexed to match DataFrame index.\n",
      "  alls.append(df_combine[df_combine.rsquare_x>PV_adult][df_combine.rsquare_y>PV_child].shape[0])\n",
      "<ipython-input-13-fc7ab27f773a>:53: UserWarning: Boolean Series key will be reindexed to match DataFrame index.\n",
      "  print(df_combine[df_combine.rsquare_x>PV_adult][df_combine.rsquare_y>PV_child].shape[0])\n",
      "<ipython-input-13-fc7ab27f773a>:52: UserWarning: Boolean Series key will be reindexed to match DataFrame index.\n",
      "  alls.append(df_combine[df_combine.rsquare_x>PV_adult][df_combine.rsquare_y>PV_child].shape[0])\n",
      "<ipython-input-13-fc7ab27f773a>:53: UserWarning: Boolean Series key will be reindexed to match DataFrame index.\n",
      "  print(df_combine[df_combine.rsquare_x>PV_adult][df_combine.rsquare_y>PV_child].shape[0])\n",
      "<ipython-input-13-fc7ab27f773a>:52: UserWarning: Boolean Series key will be reindexed to match DataFrame index.\n",
      "  alls.append(df_combine[df_combine.rsquare_x>PV_adult][df_combine.rsquare_y>PV_child].shape[0])\n"
     ]
    },
    {
     "name": "stdout",
     "output_type": "stream",
     "text": [
      "13\n",
      "22\n",
      "13\n",
      "0\n"
     ]
    },
    {
     "name": "stderr",
     "output_type": "stream",
     "text": [
      "<ipython-input-13-fc7ab27f773a>:53: UserWarning: Boolean Series key will be reindexed to match DataFrame index.\n",
      "  print(df_combine[df_combine.rsquare_x>PV_adult][df_combine.rsquare_y>PV_child].shape[0])\n",
      "<ipython-input-13-fc7ab27f773a>:52: UserWarning: Boolean Series key will be reindexed to match DataFrame index.\n",
      "  alls.append(df_combine[df_combine.rsquare_x>PV_adult][df_combine.rsquare_y>PV_child].shape[0])\n",
      "<ipython-input-13-fc7ab27f773a>:53: UserWarning: Boolean Series key will be reindexed to match DataFrame index.\n",
      "  print(df_combine[df_combine.rsquare_x>PV_adult][df_combine.rsquare_y>PV_child].shape[0])\n",
      "<ipython-input-13-fc7ab27f773a>:52: UserWarning: Boolean Series key will be reindexed to match DataFrame index.\n",
      "  alls.append(df_combine[df_combine.rsquare_x>PV_adult][df_combine.rsquare_y>PV_child].shape[0])\n",
      "<ipython-input-13-fc7ab27f773a>:53: UserWarning: Boolean Series key will be reindexed to match DataFrame index.\n",
      "  print(df_combine[df_combine.rsquare_x>PV_adult][df_combine.rsquare_y>PV_child].shape[0])\n",
      "<ipython-input-13-fc7ab27f773a>:52: UserWarning: Boolean Series key will be reindexed to match DataFrame index.\n",
      "  alls.append(df_combine[df_combine.rsquare_x>PV_adult][df_combine.rsquare_y>PV_child].shape[0])\n",
      "<ipython-input-13-fc7ab27f773a>:53: UserWarning: Boolean Series key will be reindexed to match DataFrame index.\n",
      "  print(df_combine[df_combine.rsquare_x>PV_adult][df_combine.rsquare_y>PV_child].shape[0])\n"
     ]
    },
    {
     "name": "stdout",
     "output_type": "stream",
     "text": [
      "2\n",
      "400\n",
      "10\n",
      "17\n",
      "14\n"
     ]
    },
    {
     "name": "stderr",
     "output_type": "stream",
     "text": [
      "<ipython-input-13-fc7ab27f773a>:52: UserWarning: Boolean Series key will be reindexed to match DataFrame index.\n",
      "  alls.append(df_combine[df_combine.rsquare_x>PV_adult][df_combine.rsquare_y>PV_child].shape[0])\n",
      "<ipython-input-13-fc7ab27f773a>:53: UserWarning: Boolean Series key will be reindexed to match DataFrame index.\n",
      "  print(df_combine[df_combine.rsquare_x>PV_adult][df_combine.rsquare_y>PV_child].shape[0])\n",
      "<ipython-input-13-fc7ab27f773a>:52: UserWarning: Boolean Series key will be reindexed to match DataFrame index.\n",
      "  alls.append(df_combine[df_combine.rsquare_x>PV_adult][df_combine.rsquare_y>PV_child].shape[0])\n",
      "<ipython-input-13-fc7ab27f773a>:53: UserWarning: Boolean Series key will be reindexed to match DataFrame index.\n",
      "  print(df_combine[df_combine.rsquare_x>PV_adult][df_combine.rsquare_y>PV_child].shape[0])\n",
      "<ipython-input-13-fc7ab27f773a>:52: UserWarning: Boolean Series key will be reindexed to match DataFrame index.\n",
      "  alls.append(df_combine[df_combine.rsquare_x>PV_adult][df_combine.rsquare_y>PV_child].shape[0])\n",
      "<ipython-input-13-fc7ab27f773a>:53: UserWarning: Boolean Series key will be reindexed to match DataFrame index.\n",
      "  print(df_combine[df_combine.rsquare_x>PV_adult][df_combine.rsquare_y>PV_child].shape[0])\n",
      "<ipython-input-13-fc7ab27f773a>:52: UserWarning: Boolean Series key will be reindexed to match DataFrame index.\n",
      "  alls.append(df_combine[df_combine.rsquare_x>PV_adult][df_combine.rsquare_y>PV_child].shape[0])\n",
      "<ipython-input-13-fc7ab27f773a>:53: UserWarning: Boolean Series key will be reindexed to match DataFrame index.\n",
      "  print(df_combine[df_combine.rsquare_x>PV_adult][df_combine.rsquare_y>PV_child].shape[0])\n"
     ]
    },
    {
     "name": "stdout",
     "output_type": "stream",
     "text": [
      "37\n",
      "7\n",
      "30\n"
     ]
    },
    {
     "name": "stderr",
     "output_type": "stream",
     "text": [
      "<ipython-input-13-fc7ab27f773a>:52: UserWarning: Boolean Series key will be reindexed to match DataFrame index.\n",
      "  alls.append(df_combine[df_combine.rsquare_x>PV_adult][df_combine.rsquare_y>PV_child].shape[0])\n",
      "<ipython-input-13-fc7ab27f773a>:53: UserWarning: Boolean Series key will be reindexed to match DataFrame index.\n",
      "  print(df_combine[df_combine.rsquare_x>PV_adult][df_combine.rsquare_y>PV_child].shape[0])\n",
      "<ipython-input-13-fc7ab27f773a>:52: UserWarning: Boolean Series key will be reindexed to match DataFrame index.\n",
      "  alls.append(df_combine[df_combine.rsquare_x>PV_adult][df_combine.rsquare_y>PV_child].shape[0])\n",
      "<ipython-input-13-fc7ab27f773a>:53: UserWarning: Boolean Series key will be reindexed to match DataFrame index.\n",
      "  print(df_combine[df_combine.rsquare_x>PV_adult][df_combine.rsquare_y>PV_child].shape[0])\n",
      "<ipython-input-13-fc7ab27f773a>:52: UserWarning: Boolean Series key will be reindexed to match DataFrame index.\n",
      "  alls.append(df_combine[df_combine.rsquare_x>PV_adult][df_combine.rsquare_y>PV_child].shape[0])\n",
      "<ipython-input-13-fc7ab27f773a>:53: UserWarning: Boolean Series key will be reindexed to match DataFrame index.\n",
      "  print(df_combine[df_combine.rsquare_x>PV_adult][df_combine.rsquare_y>PV_child].shape[0])\n",
      "<ipython-input-13-fc7ab27f773a>:52: UserWarning: Boolean Series key will be reindexed to match DataFrame index.\n",
      "  alls.append(df_combine[df_combine.rsquare_x>PV_adult][df_combine.rsquare_y>PV_child].shape[0])\n"
     ]
    },
    {
     "name": "stdout",
     "output_type": "stream",
     "text": [
      "12\n",
      "18\n",
      "3\n",
      "12\n"
     ]
    },
    {
     "name": "stderr",
     "output_type": "stream",
     "text": [
      "<ipython-input-13-fc7ab27f773a>:53: UserWarning: Boolean Series key will be reindexed to match DataFrame index.\n",
      "  print(df_combine[df_combine.rsquare_x>PV_adult][df_combine.rsquare_y>PV_child].shape[0])\n",
      "<ipython-input-13-fc7ab27f773a>:52: UserWarning: Boolean Series key will be reindexed to match DataFrame index.\n",
      "  alls.append(df_combine[df_combine.rsquare_x>PV_adult][df_combine.rsquare_y>PV_child].shape[0])\n",
      "<ipython-input-13-fc7ab27f773a>:53: UserWarning: Boolean Series key will be reindexed to match DataFrame index.\n",
      "  print(df_combine[df_combine.rsquare_x>PV_adult][df_combine.rsquare_y>PV_child].shape[0])\n",
      "<ipython-input-13-fc7ab27f773a>:52: UserWarning: Boolean Series key will be reindexed to match DataFrame index.\n",
      "  alls.append(df_combine[df_combine.rsquare_x>PV_adult][df_combine.rsquare_y>PV_child].shape[0])\n",
      "<ipython-input-13-fc7ab27f773a>:53: UserWarning: Boolean Series key will be reindexed to match DataFrame index.\n",
      "  print(df_combine[df_combine.rsquare_x>PV_adult][df_combine.rsquare_y>PV_child].shape[0])\n",
      "<ipython-input-13-fc7ab27f773a>:52: UserWarning: Boolean Series key will be reindexed to match DataFrame index.\n",
      "  alls.append(df_combine[df_combine.rsquare_x>PV_adult][df_combine.rsquare_y>PV_child].shape[0])\n",
      "<ipython-input-13-fc7ab27f773a>:53: UserWarning: Boolean Series key will be reindexed to match DataFrame index.\n",
      "  print(df_combine[df_combine.rsquare_x>PV_adult][df_combine.rsquare_y>PV_child].shape[0])\n",
      "<ipython-input-13-fc7ab27f773a>:52: UserWarning: Boolean Series key will be reindexed to match DataFrame index.\n",
      "  alls.append(df_combine[df_combine.rsquare_x>PV_adult][df_combine.rsquare_y>PV_child].shape[0])\n"
     ]
    },
    {
     "name": "stdout",
     "output_type": "stream",
     "text": [
      "1\n",
      "0\n",
      "0\n",
      "2\n"
     ]
    },
    {
     "name": "stderr",
     "output_type": "stream",
     "text": [
      "<ipython-input-13-fc7ab27f773a>:53: UserWarning: Boolean Series key will be reindexed to match DataFrame index.\n",
      "  print(df_combine[df_combine.rsquare_x>PV_adult][df_combine.rsquare_y>PV_child].shape[0])\n",
      "<ipython-input-13-fc7ab27f773a>:52: UserWarning: Boolean Series key will be reindexed to match DataFrame index.\n",
      "  alls.append(df_combine[df_combine.rsquare_x>PV_adult][df_combine.rsquare_y>PV_child].shape[0])\n",
      "<ipython-input-13-fc7ab27f773a>:53: UserWarning: Boolean Series key will be reindexed to match DataFrame index.\n",
      "  print(df_combine[df_combine.rsquare_x>PV_adult][df_combine.rsquare_y>PV_child].shape[0])\n",
      "<ipython-input-13-fc7ab27f773a>:52: UserWarning: Boolean Series key will be reindexed to match DataFrame index.\n",
      "  alls.append(df_combine[df_combine.rsquare_x>PV_adult][df_combine.rsquare_y>PV_child].shape[0])\n",
      "<ipython-input-13-fc7ab27f773a>:53: UserWarning: Boolean Series key will be reindexed to match DataFrame index.\n",
      "  print(df_combine[df_combine.rsquare_x>PV_adult][df_combine.rsquare_y>PV_child].shape[0])\n",
      "<ipython-input-13-fc7ab27f773a>:52: UserWarning: Boolean Series key will be reindexed to match DataFrame index.\n",
      "  alls.append(df_combine[df_combine.rsquare_x>PV_adult][df_combine.rsquare_y>PV_child].shape[0])\n"
     ]
    },
    {
     "name": "stdout",
     "output_type": "stream",
     "text": [
      "8\n",
      "16\n",
      "9\n",
      "7\n"
     ]
    },
    {
     "name": "stderr",
     "output_type": "stream",
     "text": [
      "<ipython-input-13-fc7ab27f773a>:53: UserWarning: Boolean Series key will be reindexed to match DataFrame index.\n",
      "  print(df_combine[df_combine.rsquare_x>PV_adult][df_combine.rsquare_y>PV_child].shape[0])\n",
      "<ipython-input-13-fc7ab27f773a>:52: UserWarning: Boolean Series key will be reindexed to match DataFrame index.\n",
      "  alls.append(df_combine[df_combine.rsquare_x>PV_adult][df_combine.rsquare_y>PV_child].shape[0])\n",
      "<ipython-input-13-fc7ab27f773a>:53: UserWarning: Boolean Series key will be reindexed to match DataFrame index.\n",
      "  print(df_combine[df_combine.rsquare_x>PV_adult][df_combine.rsquare_y>PV_child].shape[0])\n",
      "<ipython-input-13-fc7ab27f773a>:52: UserWarning: Boolean Series key will be reindexed to match DataFrame index.\n",
      "  alls.append(df_combine[df_combine.rsquare_x>PV_adult][df_combine.rsquare_y>PV_child].shape[0])\n",
      "<ipython-input-13-fc7ab27f773a>:53: UserWarning: Boolean Series key will be reindexed to match DataFrame index.\n",
      "  print(df_combine[df_combine.rsquare_x>PV_adult][df_combine.rsquare_y>PV_child].shape[0])\n",
      "<ipython-input-13-fc7ab27f773a>:52: UserWarning: Boolean Series key will be reindexed to match DataFrame index.\n",
      "  alls.append(df_combine[df_combine.rsquare_x>PV_adult][df_combine.rsquare_y>PV_child].shape[0])\n",
      "<ipython-input-13-fc7ab27f773a>:53: UserWarning: Boolean Series key will be reindexed to match DataFrame index.\n",
      "  print(df_combine[df_combine.rsquare_x>PV_adult][df_combine.rsquare_y>PV_child].shape[0])\n",
      "<ipython-input-13-fc7ab27f773a>:52: UserWarning: Boolean Series key will be reindexed to match DataFrame index.\n",
      "  alls.append(df_combine[df_combine.rsquare_x>PV_adult][df_combine.rsquare_y>PV_child].shape[0])\n"
     ]
    },
    {
     "name": "stdout",
     "output_type": "stream",
     "text": [
      "7\n",
      "20\n",
      "7\n"
     ]
    },
    {
     "name": "stderr",
     "output_type": "stream",
     "text": [
      "<ipython-input-13-fc7ab27f773a>:53: UserWarning: Boolean Series key will be reindexed to match DataFrame index.\n",
      "  print(df_combine[df_combine.rsquare_x>PV_adult][df_combine.rsquare_y>PV_child].shape[0])\n",
      "<ipython-input-13-fc7ab27f773a>:52: UserWarning: Boolean Series key will be reindexed to match DataFrame index.\n",
      "  alls.append(df_combine[df_combine.rsquare_x>PV_adult][df_combine.rsquare_y>PV_child].shape[0])\n",
      "<ipython-input-13-fc7ab27f773a>:53: UserWarning: Boolean Series key will be reindexed to match DataFrame index.\n",
      "  print(df_combine[df_combine.rsquare_x>PV_adult][df_combine.rsquare_y>PV_child].shape[0])\n",
      "<ipython-input-13-fc7ab27f773a>:52: UserWarning: Boolean Series key will be reindexed to match DataFrame index.\n",
      "  alls.append(df_combine[df_combine.rsquare_x>PV_adult][df_combine.rsquare_y>PV_child].shape[0])\n",
      "<ipython-input-13-fc7ab27f773a>:53: UserWarning: Boolean Series key will be reindexed to match DataFrame index.\n",
      "  print(df_combine[df_combine.rsquare_x>PV_adult][df_combine.rsquare_y>PV_child].shape[0])\n",
      "<ipython-input-13-fc7ab27f773a>:52: UserWarning: Boolean Series key will be reindexed to match DataFrame index.\n",
      "  alls.append(df_combine[df_combine.rsquare_x>PV_adult][df_combine.rsquare_y>PV_child].shape[0])\n",
      "<ipython-input-13-fc7ab27f773a>:53: UserWarning: Boolean Series key will be reindexed to match DataFrame index.\n",
      "  print(df_combine[df_combine.rsquare_x>PV_adult][df_combine.rsquare_y>PV_child].shape[0])\n",
      "<ipython-input-13-fc7ab27f773a>:52: UserWarning: Boolean Series key will be reindexed to match DataFrame index.\n",
      "  alls.append(df_combine[df_combine.rsquare_x>PV_adult][df_combine.rsquare_y>PV_child].shape[0])\n",
      "<ipython-input-13-fc7ab27f773a>:53: UserWarning: Boolean Series key will be reindexed to match DataFrame index.\n",
      "  print(df_combine[df_combine.rsquare_x>PV_adult][df_combine.rsquare_y>PV_child].shape[0])\n"
     ]
    },
    {
     "name": "stdout",
     "output_type": "stream",
     "text": [
      "28\n",
      "24\n",
      "2\n",
      "3\n"
     ]
    },
    {
     "name": "stderr",
     "output_type": "stream",
     "text": [
      "<ipython-input-13-fc7ab27f773a>:52: UserWarning: Boolean Series key will be reindexed to match DataFrame index.\n",
      "  alls.append(df_combine[df_combine.rsquare_x>PV_adult][df_combine.rsquare_y>PV_child].shape[0])\n",
      "<ipython-input-13-fc7ab27f773a>:53: UserWarning: Boolean Series key will be reindexed to match DataFrame index.\n",
      "  print(df_combine[df_combine.rsquare_x>PV_adult][df_combine.rsquare_y>PV_child].shape[0])\n",
      "<ipython-input-13-fc7ab27f773a>:52: UserWarning: Boolean Series key will be reindexed to match DataFrame index.\n",
      "  alls.append(df_combine[df_combine.rsquare_x>PV_adult][df_combine.rsquare_y>PV_child].shape[0])\n",
      "<ipython-input-13-fc7ab27f773a>:53: UserWarning: Boolean Series key will be reindexed to match DataFrame index.\n",
      "  print(df_combine[df_combine.rsquare_x>PV_adult][df_combine.rsquare_y>PV_child].shape[0])\n",
      "<ipython-input-13-fc7ab27f773a>:52: UserWarning: Boolean Series key will be reindexed to match DataFrame index.\n",
      "  alls.append(df_combine[df_combine.rsquare_x>PV_adult][df_combine.rsquare_y>PV_child].shape[0])\n",
      "<ipython-input-13-fc7ab27f773a>:53: UserWarning: Boolean Series key will be reindexed to match DataFrame index.\n",
      "  print(df_combine[df_combine.rsquare_x>PV_adult][df_combine.rsquare_y>PV_child].shape[0])\n",
      "<ipython-input-13-fc7ab27f773a>:52: UserWarning: Boolean Series key will be reindexed to match DataFrame index.\n",
      "  alls.append(df_combine[df_combine.rsquare_x>PV_adult][df_combine.rsquare_y>PV_child].shape[0])\n"
     ]
    },
    {
     "name": "stdout",
     "output_type": "stream",
     "text": [
      "7\n",
      "16\n",
      "16\n",
      "0\n",
      "16\n"
     ]
    },
    {
     "name": "stderr",
     "output_type": "stream",
     "text": [
      "<ipython-input-13-fc7ab27f773a>:53: UserWarning: Boolean Series key will be reindexed to match DataFrame index.\n",
      "  print(df_combine[df_combine.rsquare_x>PV_adult][df_combine.rsquare_y>PV_child].shape[0])\n",
      "<ipython-input-13-fc7ab27f773a>:52: UserWarning: Boolean Series key will be reindexed to match DataFrame index.\n",
      "  alls.append(df_combine[df_combine.rsquare_x>PV_adult][df_combine.rsquare_y>PV_child].shape[0])\n",
      "<ipython-input-13-fc7ab27f773a>:53: UserWarning: Boolean Series key will be reindexed to match DataFrame index.\n",
      "  print(df_combine[df_combine.rsquare_x>PV_adult][df_combine.rsquare_y>PV_child].shape[0])\n",
      "<ipython-input-13-fc7ab27f773a>:52: UserWarning: Boolean Series key will be reindexed to match DataFrame index.\n",
      "  alls.append(df_combine[df_combine.rsquare_x>PV_adult][df_combine.rsquare_y>PV_child].shape[0])\n",
      "<ipython-input-13-fc7ab27f773a>:53: UserWarning: Boolean Series key will be reindexed to match DataFrame index.\n",
      "  print(df_combine[df_combine.rsquare_x>PV_adult][df_combine.rsquare_y>PV_child].shape[0])\n",
      "<ipython-input-13-fc7ab27f773a>:52: UserWarning: Boolean Series key will be reindexed to match DataFrame index.\n",
      "  alls.append(df_combine[df_combine.rsquare_x>PV_adult][df_combine.rsquare_y>PV_child].shape[0])\n",
      "<ipython-input-13-fc7ab27f773a>:53: UserWarning: Boolean Series key will be reindexed to match DataFrame index.\n",
      "  print(df_combine[df_combine.rsquare_x>PV_adult][df_combine.rsquare_y>PV_child].shape[0])\n",
      "<ipython-input-13-fc7ab27f773a>:52: UserWarning: Boolean Series key will be reindexed to match DataFrame index.\n",
      "  alls.append(df_combine[df_combine.rsquare_x>PV_adult][df_combine.rsquare_y>PV_child].shape[0])\n"
     ]
    },
    {
     "name": "stdout",
     "output_type": "stream",
     "text": [
      "19\n",
      "7\n",
      "8\n",
      "1\n"
     ]
    },
    {
     "name": "stderr",
     "output_type": "stream",
     "text": [
      "<ipython-input-13-fc7ab27f773a>:53: UserWarning: Boolean Series key will be reindexed to match DataFrame index.\n",
      "  print(df_combine[df_combine.rsquare_x>PV_adult][df_combine.rsquare_y>PV_child].shape[0])\n",
      "<ipython-input-13-fc7ab27f773a>:52: UserWarning: Boolean Series key will be reindexed to match DataFrame index.\n",
      "  alls.append(df_combine[df_combine.rsquare_x>PV_adult][df_combine.rsquare_y>PV_child].shape[0])\n",
      "<ipython-input-13-fc7ab27f773a>:53: UserWarning: Boolean Series key will be reindexed to match DataFrame index.\n",
      "  print(df_combine[df_combine.rsquare_x>PV_adult][df_combine.rsquare_y>PV_child].shape[0])\n",
      "<ipython-input-13-fc7ab27f773a>:52: UserWarning: Boolean Series key will be reindexed to match DataFrame index.\n",
      "  alls.append(df_combine[df_combine.rsquare_x>PV_adult][df_combine.rsquare_y>PV_child].shape[0])\n",
      "<ipython-input-13-fc7ab27f773a>:53: UserWarning: Boolean Series key will be reindexed to match DataFrame index.\n",
      "  print(df_combine[df_combine.rsquare_x>PV_adult][df_combine.rsquare_y>PV_child].shape[0])\n",
      "<ipython-input-13-fc7ab27f773a>:52: UserWarning: Boolean Series key will be reindexed to match DataFrame index.\n",
      "  alls.append(df_combine[df_combine.rsquare_x>PV_adult][df_combine.rsquare_y>PV_child].shape[0])\n",
      "<ipython-input-13-fc7ab27f773a>:53: UserWarning: Boolean Series key will be reindexed to match DataFrame index.\n",
      "  print(df_combine[df_combine.rsquare_x>PV_adult][df_combine.rsquare_y>PV_child].shape[0])\n"
     ]
    },
    {
     "name": "stdout",
     "output_type": "stream",
     "text": [
      "24\n",
      "0\n"
     ]
    },
    {
     "name": "stderr",
     "output_type": "stream",
     "text": [
      "<ipython-input-13-fc7ab27f773a>:52: UserWarning: Boolean Series key will be reindexed to match DataFrame index.\n",
      "  alls.append(df_combine[df_combine.rsquare_x>PV_adult][df_combine.rsquare_y>PV_child].shape[0])\n",
      "<ipython-input-13-fc7ab27f773a>:53: UserWarning: Boolean Series key will be reindexed to match DataFrame index.\n",
      "  print(df_combine[df_combine.rsquare_x>PV_adult][df_combine.rsquare_y>PV_child].shape[0])\n",
      "<ipython-input-13-fc7ab27f773a>:52: UserWarning: Boolean Series key will be reindexed to match DataFrame index.\n",
      "  alls.append(df_combine[df_combine.rsquare_x>PV_adult][df_combine.rsquare_y>PV_child].shape[0])\n",
      "<ipython-input-13-fc7ab27f773a>:53: UserWarning: Boolean Series key will be reindexed to match DataFrame index.\n",
      "  print(df_combine[df_combine.rsquare_x>PV_adult][df_combine.rsquare_y>PV_child].shape[0])\n",
      "<ipython-input-13-fc7ab27f773a>:52: UserWarning: Boolean Series key will be reindexed to match DataFrame index.\n",
      "  alls.append(df_combine[df_combine.rsquare_x>PV_adult][df_combine.rsquare_y>PV_child].shape[0])\n",
      "<ipython-input-13-fc7ab27f773a>:53: UserWarning: Boolean Series key will be reindexed to match DataFrame index.\n",
      "  print(df_combine[df_combine.rsquare_x>PV_adult][df_combine.rsquare_y>PV_child].shape[0])\n"
     ]
    },
    {
     "name": "stdout",
     "output_type": "stream",
     "text": [
      "0\n",
      "16\n",
      "6\n"
     ]
    },
    {
     "name": "stderr",
     "output_type": "stream",
     "text": [
      "<ipython-input-13-fc7ab27f773a>:52: UserWarning: Boolean Series key will be reindexed to match DataFrame index.\n",
      "  alls.append(df_combine[df_combine.rsquare_x>PV_adult][df_combine.rsquare_y>PV_child].shape[0])\n",
      "<ipython-input-13-fc7ab27f773a>:53: UserWarning: Boolean Series key will be reindexed to match DataFrame index.\n",
      "  print(df_combine[df_combine.rsquare_x>PV_adult][df_combine.rsquare_y>PV_child].shape[0])\n",
      "<ipython-input-13-fc7ab27f773a>:52: UserWarning: Boolean Series key will be reindexed to match DataFrame index.\n",
      "  alls.append(df_combine[df_combine.rsquare_x>PV_adult][df_combine.rsquare_y>PV_child].shape[0])\n",
      "<ipython-input-13-fc7ab27f773a>:53: UserWarning: Boolean Series key will be reindexed to match DataFrame index.\n",
      "  print(df_combine[df_combine.rsquare_x>PV_adult][df_combine.rsquare_y>PV_child].shape[0])\n",
      "<ipython-input-13-fc7ab27f773a>:52: UserWarning: Boolean Series key will be reindexed to match DataFrame index.\n",
      "  alls.append(df_combine[df_combine.rsquare_x>PV_adult][df_combine.rsquare_y>PV_child].shape[0])\n",
      "<ipython-input-13-fc7ab27f773a>:53: UserWarning: Boolean Series key will be reindexed to match DataFrame index.\n",
      "  print(df_combine[df_combine.rsquare_x>PV_adult][df_combine.rsquare_y>PV_child].shape[0])\n"
     ]
    },
    {
     "name": "stdout",
     "output_type": "stream",
     "text": [
      "2\n",
      "14\n"
     ]
    },
    {
     "name": "stderr",
     "output_type": "stream",
     "text": [
      "<ipython-input-13-fc7ab27f773a>:52: UserWarning: Boolean Series key will be reindexed to match DataFrame index.\n",
      "  alls.append(df_combine[df_combine.rsquare_x>PV_adult][df_combine.rsquare_y>PV_child].shape[0])\n",
      "<ipython-input-13-fc7ab27f773a>:53: UserWarning: Boolean Series key will be reindexed to match DataFrame index.\n",
      "  print(df_combine[df_combine.rsquare_x>PV_adult][df_combine.rsquare_y>PV_child].shape[0])\n",
      "<ipython-input-13-fc7ab27f773a>:52: UserWarning: Boolean Series key will be reindexed to match DataFrame index.\n",
      "  alls.append(df_combine[df_combine.rsquare_x>PV_adult][df_combine.rsquare_y>PV_child].shape[0])\n",
      "<ipython-input-13-fc7ab27f773a>:53: UserWarning: Boolean Series key will be reindexed to match DataFrame index.\n",
      "  print(df_combine[df_combine.rsquare_x>PV_adult][df_combine.rsquare_y>PV_child].shape[0])\n",
      "<ipython-input-13-fc7ab27f773a>:52: UserWarning: Boolean Series key will be reindexed to match DataFrame index.\n",
      "  alls.append(df_combine[df_combine.rsquare_x>PV_adult][df_combine.rsquare_y>PV_child].shape[0])\n",
      "<ipython-input-13-fc7ab27f773a>:53: UserWarning: Boolean Series key will be reindexed to match DataFrame index.\n",
      "  print(df_combine[df_combine.rsquare_x>PV_adult][df_combine.rsquare_y>PV_child].shape[0])\n",
      "<ipython-input-13-fc7ab27f773a>:52: UserWarning: Boolean Series key will be reindexed to match DataFrame index.\n",
      "  alls.append(df_combine[df_combine.rsquare_x>PV_adult][df_combine.rsquare_y>PV_child].shape[0])\n",
      "<ipython-input-13-fc7ab27f773a>:53: UserWarning: Boolean Series key will be reindexed to match DataFrame index.\n",
      "  print(df_combine[df_combine.rsquare_x>PV_adult][df_combine.rsquare_y>PV_child].shape[0])\n",
      "<ipython-input-13-fc7ab27f773a>:52: UserWarning: Boolean Series key will be reindexed to match DataFrame index.\n",
      "  alls.append(df_combine[df_combine.rsquare_x>PV_adult][df_combine.rsquare_y>PV_child].shape[0])\n",
      "<ipython-input-13-fc7ab27f773a>:53: UserWarning: Boolean Series key will be reindexed to match DataFrame index.\n",
      "  print(df_combine[df_combine.rsquare_x>PV_adult][df_combine.rsquare_y>PV_child].shape[0])\n",
      "<ipython-input-13-fc7ab27f773a>:52: UserWarning: Boolean Series key will be reindexed to match DataFrame index.\n",
      "  alls.append(df_combine[df_combine.rsquare_x>PV_adult][df_combine.rsquare_y>PV_child].shape[0])\n"
     ]
    },
    {
     "name": "stdout",
     "output_type": "stream",
     "text": [
      "14\n",
      "7\n",
      "7\n",
      "16\n",
      "4\n"
     ]
    },
    {
     "name": "stderr",
     "output_type": "stream",
     "text": [
      "<ipython-input-13-fc7ab27f773a>:53: UserWarning: Boolean Series key will be reindexed to match DataFrame index.\n",
      "  print(df_combine[df_combine.rsquare_x>PV_adult][df_combine.rsquare_y>PV_child].shape[0])\n",
      "<ipython-input-13-fc7ab27f773a>:52: UserWarning: Boolean Series key will be reindexed to match DataFrame index.\n",
      "  alls.append(df_combine[df_combine.rsquare_x>PV_adult][df_combine.rsquare_y>PV_child].shape[0])\n",
      "<ipython-input-13-fc7ab27f773a>:53: UserWarning: Boolean Series key will be reindexed to match DataFrame index.\n",
      "  print(df_combine[df_combine.rsquare_x>PV_adult][df_combine.rsquare_y>PV_child].shape[0])\n",
      "<ipython-input-13-fc7ab27f773a>:52: UserWarning: Boolean Series key will be reindexed to match DataFrame index.\n",
      "  alls.append(df_combine[df_combine.rsquare_x>PV_adult][df_combine.rsquare_y>PV_child].shape[0])\n",
      "<ipython-input-13-fc7ab27f773a>:53: UserWarning: Boolean Series key will be reindexed to match DataFrame index.\n",
      "  print(df_combine[df_combine.rsquare_x>PV_adult][df_combine.rsquare_y>PV_child].shape[0])\n",
      "<ipython-input-13-fc7ab27f773a>:52: UserWarning: Boolean Series key will be reindexed to match DataFrame index.\n",
      "  alls.append(df_combine[df_combine.rsquare_x>PV_adult][df_combine.rsquare_y>PV_child].shape[0])\n"
     ]
    },
    {
     "name": "stdout",
     "output_type": "stream",
     "text": [
      "29\n",
      "20\n",
      "0\n"
     ]
    },
    {
     "name": "stderr",
     "output_type": "stream",
     "text": [
      "<ipython-input-13-fc7ab27f773a>:53: UserWarning: Boolean Series key will be reindexed to match DataFrame index.\n",
      "  print(df_combine[df_combine.rsquare_x>PV_adult][df_combine.rsquare_y>PV_child].shape[0])\n",
      "<ipython-input-13-fc7ab27f773a>:52: UserWarning: Boolean Series key will be reindexed to match DataFrame index.\n",
      "  alls.append(df_combine[df_combine.rsquare_x>PV_adult][df_combine.rsquare_y>PV_child].shape[0])\n",
      "<ipython-input-13-fc7ab27f773a>:53: UserWarning: Boolean Series key will be reindexed to match DataFrame index.\n",
      "  print(df_combine[df_combine.rsquare_x>PV_adult][df_combine.rsquare_y>PV_child].shape[0])\n",
      "<ipython-input-13-fc7ab27f773a>:52: UserWarning: Boolean Series key will be reindexed to match DataFrame index.\n",
      "  alls.append(df_combine[df_combine.rsquare_x>PV_adult][df_combine.rsquare_y>PV_child].shape[0])\n",
      "<ipython-input-13-fc7ab27f773a>:53: UserWarning: Boolean Series key will be reindexed to match DataFrame index.\n",
      "  print(df_combine[df_combine.rsquare_x>PV_adult][df_combine.rsquare_y>PV_child].shape[0])\n",
      "<ipython-input-13-fc7ab27f773a>:52: UserWarning: Boolean Series key will be reindexed to match DataFrame index.\n",
      "  alls.append(df_combine[df_combine.rsquare_x>PV_adult][df_combine.rsquare_y>PV_child].shape[0])\n",
      "<ipython-input-13-fc7ab27f773a>:53: UserWarning: Boolean Series key will be reindexed to match DataFrame index.\n",
      "  print(df_combine[df_combine.rsquare_x>PV_adult][df_combine.rsquare_y>PV_child].shape[0])\n",
      "<ipython-input-13-fc7ab27f773a>:52: UserWarning: Boolean Series key will be reindexed to match DataFrame index.\n",
      "  alls.append(df_combine[df_combine.rsquare_x>PV_adult][df_combine.rsquare_y>PV_child].shape[0])\n",
      "<ipython-input-13-fc7ab27f773a>:53: UserWarning: Boolean Series key will be reindexed to match DataFrame index.\n",
      "  print(df_combine[df_combine.rsquare_x>PV_adult][df_combine.rsquare_y>PV_child].shape[0])\n",
      "<ipython-input-13-fc7ab27f773a>:52: UserWarning: Boolean Series key will be reindexed to match DataFrame index.\n",
      "  alls.append(df_combine[df_combine.rsquare_x>PV_adult][df_combine.rsquare_y>PV_child].shape[0])\n",
      "<ipython-input-13-fc7ab27f773a>:53: UserWarning: Boolean Series key will be reindexed to match DataFrame index.\n",
      "  print(df_combine[df_combine.rsquare_x>PV_adult][df_combine.rsquare_y>PV_child].shape[0])\n",
      "<ipython-input-13-fc7ab27f773a>:52: UserWarning: Boolean Series key will be reindexed to match DataFrame index.\n",
      "  alls.append(df_combine[df_combine.rsquare_x>PV_adult][df_combine.rsquare_y>PV_child].shape[0])\n",
      "<ipython-input-13-fc7ab27f773a>:53: UserWarning: Boolean Series key will be reindexed to match DataFrame index.\n",
      "  print(df_combine[df_combine.rsquare_x>PV_adult][df_combine.rsquare_y>PV_child].shape[0])\n"
     ]
    },
    {
     "name": "stdout",
     "output_type": "stream",
     "text": [
      "1\n",
      "450\n",
      "1\n",
      "4\n",
      "20\n",
      "10\n",
      "25\n",
      "4\n",
      "5\n",
      "1\n",
      "6"
     ]
    },
    {
     "name": "stderr",
     "output_type": "stream",
     "text": [
      "<ipython-input-13-fc7ab27f773a>:52: UserWarning: Boolean Series key will be reindexed to match DataFrame index.\n",
      "  alls.append(df_combine[df_combine.rsquare_x>PV_adult][df_combine.rsquare_y>PV_child].shape[0])\n",
      "<ipython-input-13-fc7ab27f773a>:53: UserWarning: Boolean Series key will be reindexed to match DataFrame index.\n",
      "  print(df_combine[df_combine.rsquare_x>PV_adult][df_combine.rsquare_y>PV_child].shape[0])\n",
      "<ipython-input-13-fc7ab27f773a>:52: UserWarning: Boolean Series key will be reindexed to match DataFrame index.\n",
      "  alls.append(df_combine[df_combine.rsquare_x>PV_adult][df_combine.rsquare_y>PV_child].shape[0])\n",
      "<ipython-input-13-fc7ab27f773a>:53: UserWarning: Boolean Series key will be reindexed to match DataFrame index.\n",
      "  print(df_combine[df_combine.rsquare_x>PV_adult][df_combine.rsquare_y>PV_child].shape[0])\n",
      "<ipython-input-13-fc7ab27f773a>:52: UserWarning: Boolean Series key will be reindexed to match DataFrame index.\n",
      "  alls.append(df_combine[df_combine.rsquare_x>PV_adult][df_combine.rsquare_y>PV_child].shape[0])\n",
      "<ipython-input-13-fc7ab27f773a>:53: UserWarning: Boolean Series key will be reindexed to match DataFrame index.\n",
      "  print(df_combine[df_combine.rsquare_x>PV_adult][df_combine.rsquare_y>PV_child].shape[0])\n",
      "<ipython-input-13-fc7ab27f773a>:52: UserWarning: Boolean Series key will be reindexed to match DataFrame index.\n",
      "  alls.append(df_combine[df_combine.rsquare_x>PV_adult][df_combine.rsquare_y>PV_child].shape[0])\n",
      "<ipython-input-13-fc7ab27f773a>:53: UserWarning: Boolean Series key will be reindexed to match DataFrame index.\n",
      "  print(df_combine[df_combine.rsquare_x>PV_adult][df_combine.rsquare_y>PV_child].shape[0])\n",
      "<ipython-input-13-fc7ab27f773a>:52: UserWarning: Boolean Series key will be reindexed to match DataFrame index.\n",
      "  alls.append(df_combine[df_combine.rsquare_x>PV_adult][df_combine.rsquare_y>PV_child].shape[0])\n",
      "<ipython-input-13-fc7ab27f773a>:53: UserWarning: Boolean Series key will be reindexed to match DataFrame index.\n",
      "  print(df_combine[df_combine.rsquare_x>PV_adult][df_combine.rsquare_y>PV_child].shape[0])\n",
      "<ipython-input-13-fc7ab27f773a>:52: UserWarning: Boolean Series key will be reindexed to match DataFrame index.\n",
      "  alls.append(df_combine[df_combine.rsquare_x>PV_adult][df_combine.rsquare_y>PV_child].shape[0])\n"
     ]
    },
    {
     "name": "stdout",
     "output_type": "stream",
     "text": [
      "\n",
      "2\n",
      "22\n",
      "10\n",
      "4\n"
     ]
    },
    {
     "name": "stderr",
     "output_type": "stream",
     "text": [
      "<ipython-input-13-fc7ab27f773a>:53: UserWarning: Boolean Series key will be reindexed to match DataFrame index.\n",
      "  print(df_combine[df_combine.rsquare_x>PV_adult][df_combine.rsquare_y>PV_child].shape[0])\n",
      "<ipython-input-13-fc7ab27f773a>:52: UserWarning: Boolean Series key will be reindexed to match DataFrame index.\n",
      "  alls.append(df_combine[df_combine.rsquare_x>PV_adult][df_combine.rsquare_y>PV_child].shape[0])\n",
      "<ipython-input-13-fc7ab27f773a>:53: UserWarning: Boolean Series key will be reindexed to match DataFrame index.\n",
      "  print(df_combine[df_combine.rsquare_x>PV_adult][df_combine.rsquare_y>PV_child].shape[0])\n",
      "<ipython-input-13-fc7ab27f773a>:52: UserWarning: Boolean Series key will be reindexed to match DataFrame index.\n",
      "  alls.append(df_combine[df_combine.rsquare_x>PV_adult][df_combine.rsquare_y>PV_child].shape[0])\n",
      "<ipython-input-13-fc7ab27f773a>:53: UserWarning: Boolean Series key will be reindexed to match DataFrame index.\n",
      "  print(df_combine[df_combine.rsquare_x>PV_adult][df_combine.rsquare_y>PV_child].shape[0])\n"
     ]
    },
    {
     "name": "stdout",
     "output_type": "stream",
     "text": [
      "22\n",
      "16\n"
     ]
    },
    {
     "name": "stderr",
     "output_type": "stream",
     "text": [
      "<ipython-input-13-fc7ab27f773a>:52: UserWarning: Boolean Series key will be reindexed to match DataFrame index.\n",
      "  alls.append(df_combine[df_combine.rsquare_x>PV_adult][df_combine.rsquare_y>PV_child].shape[0])\n",
      "<ipython-input-13-fc7ab27f773a>:53: UserWarning: Boolean Series key will be reindexed to match DataFrame index.\n",
      "  print(df_combine[df_combine.rsquare_x>PV_adult][df_combine.rsquare_y>PV_child].shape[0])\n",
      "<ipython-input-13-fc7ab27f773a>:52: UserWarning: Boolean Series key will be reindexed to match DataFrame index.\n",
      "  alls.append(df_combine[df_combine.rsquare_x>PV_adult][df_combine.rsquare_y>PV_child].shape[0])\n",
      "<ipython-input-13-fc7ab27f773a>:53: UserWarning: Boolean Series key will be reindexed to match DataFrame index.\n",
      "  print(df_combine[df_combine.rsquare_x>PV_adult][df_combine.rsquare_y>PV_child].shape[0])\n",
      "<ipython-input-13-fc7ab27f773a>:52: UserWarning: Boolean Series key will be reindexed to match DataFrame index.\n",
      "  alls.append(df_combine[df_combine.rsquare_x>PV_adult][df_combine.rsquare_y>PV_child].shape[0])\n"
     ]
    },
    {
     "name": "stdout",
     "output_type": "stream",
     "text": [
      "0\n",
      "0\n"
     ]
    },
    {
     "name": "stderr",
     "output_type": "stream",
     "text": [
      "<ipython-input-13-fc7ab27f773a>:53: UserWarning: Boolean Series key will be reindexed to match DataFrame index.\n",
      "  print(df_combine[df_combine.rsquare_x>PV_adult][df_combine.rsquare_y>PV_child].shape[0])\n",
      "<ipython-input-13-fc7ab27f773a>:52: UserWarning: Boolean Series key will be reindexed to match DataFrame index.\n",
      "  alls.append(df_combine[df_combine.rsquare_x>PV_adult][df_combine.rsquare_y>PV_child].shape[0])\n",
      "<ipython-input-13-fc7ab27f773a>:53: UserWarning: Boolean Series key will be reindexed to match DataFrame index.\n",
      "  print(df_combine[df_combine.rsquare_x>PV_adult][df_combine.rsquare_y>PV_child].shape[0])\n"
     ]
    },
    {
     "name": "stdout",
     "output_type": "stream",
     "text": [
      "2\n",
      "2\n",
      "20\n"
     ]
    },
    {
     "name": "stderr",
     "output_type": "stream",
     "text": [
      "<ipython-input-13-fc7ab27f773a>:52: UserWarning: Boolean Series key will be reindexed to match DataFrame index.\n",
      "  alls.append(df_combine[df_combine.rsquare_x>PV_adult][df_combine.rsquare_y>PV_child].shape[0])\n",
      "<ipython-input-13-fc7ab27f773a>:53: UserWarning: Boolean Series key will be reindexed to match DataFrame index.\n",
      "  print(df_combine[df_combine.rsquare_x>PV_adult][df_combine.rsquare_y>PV_child].shape[0])\n",
      "<ipython-input-13-fc7ab27f773a>:52: UserWarning: Boolean Series key will be reindexed to match DataFrame index.\n",
      "  alls.append(df_combine[df_combine.rsquare_x>PV_adult][df_combine.rsquare_y>PV_child].shape[0])\n",
      "<ipython-input-13-fc7ab27f773a>:53: UserWarning: Boolean Series key will be reindexed to match DataFrame index.\n",
      "  print(df_combine[df_combine.rsquare_x>PV_adult][df_combine.rsquare_y>PV_child].shape[0])\n",
      "<ipython-input-13-fc7ab27f773a>:52: UserWarning: Boolean Series key will be reindexed to match DataFrame index.\n",
      "  alls.append(df_combine[df_combine.rsquare_x>PV_adult][df_combine.rsquare_y>PV_child].shape[0])\n",
      "<ipython-input-13-fc7ab27f773a>:53: UserWarning: Boolean Series key will be reindexed to match DataFrame index.\n",
      "  print(df_combine[df_combine.rsquare_x>PV_adult][df_combine.rsquare_y>PV_child].shape[0])\n",
      "<ipython-input-13-fc7ab27f773a>:52: UserWarning: Boolean Series key will be reindexed to match DataFrame index.\n",
      "  alls.append(df_combine[df_combine.rsquare_x>PV_adult][df_combine.rsquare_y>PV_child].shape[0])\n",
      "<ipython-input-13-fc7ab27f773a>:53: UserWarning: Boolean Series key will be reindexed to match DataFrame index.\n",
      "  print(df_combine[df_combine.rsquare_x>PV_adult][df_combine.rsquare_y>PV_child].shape[0])\n"
     ]
    },
    {
     "name": "stdout",
     "output_type": "stream",
     "text": [
      "2\n",
      "27\n",
      "3\n"
     ]
    },
    {
     "name": "stderr",
     "output_type": "stream",
     "text": [
      "<ipython-input-13-fc7ab27f773a>:52: UserWarning: Boolean Series key will be reindexed to match DataFrame index.\n",
      "  alls.append(df_combine[df_combine.rsquare_x>PV_adult][df_combine.rsquare_y>PV_child].shape[0])\n",
      "<ipython-input-13-fc7ab27f773a>:53: UserWarning: Boolean Series key will be reindexed to match DataFrame index.\n",
      "  print(df_combine[df_combine.rsquare_x>PV_adult][df_combine.rsquare_y>PV_child].shape[0])\n",
      "<ipython-input-13-fc7ab27f773a>:52: UserWarning: Boolean Series key will be reindexed to match DataFrame index.\n",
      "  alls.append(df_combine[df_combine.rsquare_x>PV_adult][df_combine.rsquare_y>PV_child].shape[0])\n",
      "<ipython-input-13-fc7ab27f773a>:53: UserWarning: Boolean Series key will be reindexed to match DataFrame index.\n",
      "  print(df_combine[df_combine.rsquare_x>PV_adult][df_combine.rsquare_y>PV_child].shape[0])\n",
      "<ipython-input-13-fc7ab27f773a>:52: UserWarning: Boolean Series key will be reindexed to match DataFrame index.\n",
      "  alls.append(df_combine[df_combine.rsquare_x>PV_adult][df_combine.rsquare_y>PV_child].shape[0])\n"
     ]
    },
    {
     "name": "stdout",
     "output_type": "stream",
     "text": [
      "0\n",
      "11\n",
      "4\n"
     ]
    },
    {
     "name": "stderr",
     "output_type": "stream",
     "text": [
      "<ipython-input-13-fc7ab27f773a>:53: UserWarning: Boolean Series key will be reindexed to match DataFrame index.\n",
      "  print(df_combine[df_combine.rsquare_x>PV_adult][df_combine.rsquare_y>PV_child].shape[0])\n",
      "<ipython-input-13-fc7ab27f773a>:52: UserWarning: Boolean Series key will be reindexed to match DataFrame index.\n",
      "  alls.append(df_combine[df_combine.rsquare_x>PV_adult][df_combine.rsquare_y>PV_child].shape[0])\n",
      "<ipython-input-13-fc7ab27f773a>:53: UserWarning: Boolean Series key will be reindexed to match DataFrame index.\n",
      "  print(df_combine[df_combine.rsquare_x>PV_adult][df_combine.rsquare_y>PV_child].shape[0])\n",
      "<ipython-input-13-fc7ab27f773a>:52: UserWarning: Boolean Series key will be reindexed to match DataFrame index.\n",
      "  alls.append(df_combine[df_combine.rsquare_x>PV_adult][df_combine.rsquare_y>PV_child].shape[0])\n",
      "<ipython-input-13-fc7ab27f773a>:53: UserWarning: Boolean Series key will be reindexed to match DataFrame index.\n",
      "  print(df_combine[df_combine.rsquare_x>PV_adult][df_combine.rsquare_y>PV_child].shape[0])\n",
      "<ipython-input-13-fc7ab27f773a>:52: UserWarning: Boolean Series key will be reindexed to match DataFrame index.\n",
      "  alls.append(df_combine[df_combine.rsquare_x>PV_adult][df_combine.rsquare_y>PV_child].shape[0])\n"
     ]
    },
    {
     "name": "stdout",
     "output_type": "stream",
     "text": [
      "15\n",
      "33\n",
      "17\n"
     ]
    },
    {
     "name": "stderr",
     "output_type": "stream",
     "text": [
      "<ipython-input-13-fc7ab27f773a>:53: UserWarning: Boolean Series key will be reindexed to match DataFrame index.\n",
      "  print(df_combine[df_combine.rsquare_x>PV_adult][df_combine.rsquare_y>PV_child].shape[0])\n",
      "<ipython-input-13-fc7ab27f773a>:52: UserWarning: Boolean Series key will be reindexed to match DataFrame index.\n",
      "  alls.append(df_combine[df_combine.rsquare_x>PV_adult][df_combine.rsquare_y>PV_child].shape[0])\n",
      "<ipython-input-13-fc7ab27f773a>:53: UserWarning: Boolean Series key will be reindexed to match DataFrame index.\n",
      "  print(df_combine[df_combine.rsquare_x>PV_adult][df_combine.rsquare_y>PV_child].shape[0])\n",
      "<ipython-input-13-fc7ab27f773a>:52: UserWarning: Boolean Series key will be reindexed to match DataFrame index.\n",
      "  alls.append(df_combine[df_combine.rsquare_x>PV_adult][df_combine.rsquare_y>PV_child].shape[0])\n",
      "<ipython-input-13-fc7ab27f773a>:53: UserWarning: Boolean Series key will be reindexed to match DataFrame index.\n",
      "  print(df_combine[df_combine.rsquare_x>PV_adult][df_combine.rsquare_y>PV_child].shape[0])\n"
     ]
    },
    {
     "name": "stdout",
     "output_type": "stream",
     "text": [
      "30\n",
      "1\n",
      "14\n"
     ]
    },
    {
     "name": "stderr",
     "output_type": "stream",
     "text": [
      "<ipython-input-13-fc7ab27f773a>:52: UserWarning: Boolean Series key will be reindexed to match DataFrame index.\n",
      "  alls.append(df_combine[df_combine.rsquare_x>PV_adult][df_combine.rsquare_y>PV_child].shape[0])\n",
      "<ipython-input-13-fc7ab27f773a>:53: UserWarning: Boolean Series key will be reindexed to match DataFrame index.\n",
      "  print(df_combine[df_combine.rsquare_x>PV_adult][df_combine.rsquare_y>PV_child].shape[0])\n",
      "<ipython-input-13-fc7ab27f773a>:52: UserWarning: Boolean Series key will be reindexed to match DataFrame index.\n",
      "  alls.append(df_combine[df_combine.rsquare_x>PV_adult][df_combine.rsquare_y>PV_child].shape[0])\n",
      "<ipython-input-13-fc7ab27f773a>:53: UserWarning: Boolean Series key will be reindexed to match DataFrame index.\n",
      "  print(df_combine[df_combine.rsquare_x>PV_adult][df_combine.rsquare_y>PV_child].shape[0])\n",
      "<ipython-input-13-fc7ab27f773a>:52: UserWarning: Boolean Series key will be reindexed to match DataFrame index.\n",
      "  alls.append(df_combine[df_combine.rsquare_x>PV_adult][df_combine.rsquare_y>PV_child].shape[0])\n",
      "<ipython-input-13-fc7ab27f773a>:53: UserWarning: Boolean Series key will be reindexed to match DataFrame index.\n",
      "  print(df_combine[df_combine.rsquare_x>PV_adult][df_combine.rsquare_y>PV_child].shape[0])\n"
     ]
    },
    {
     "name": "stdout",
     "output_type": "stream",
     "text": [
      "21\n",
      "10\n"
     ]
    },
    {
     "name": "stderr",
     "output_type": "stream",
     "text": [
      "<ipython-input-13-fc7ab27f773a>:52: UserWarning: Boolean Series key will be reindexed to match DataFrame index.\n",
      "  alls.append(df_combine[df_combine.rsquare_x>PV_adult][df_combine.rsquare_y>PV_child].shape[0])\n",
      "<ipython-input-13-fc7ab27f773a>:53: UserWarning: Boolean Series key will be reindexed to match DataFrame index.\n",
      "  print(df_combine[df_combine.rsquare_x>PV_adult][df_combine.rsquare_y>PV_child].shape[0])\n",
      "<ipython-input-13-fc7ab27f773a>:52: UserWarning: Boolean Series key will be reindexed to match DataFrame index.\n",
      "  alls.append(df_combine[df_combine.rsquare_x>PV_adult][df_combine.rsquare_y>PV_child].shape[0])\n",
      "<ipython-input-13-fc7ab27f773a>:53: UserWarning: Boolean Series key will be reindexed to match DataFrame index.\n",
      "  print(df_combine[df_combine.rsquare_x>PV_adult][df_combine.rsquare_y>PV_child].shape[0])\n"
     ]
    },
    {
     "name": "stdout",
     "output_type": "stream",
     "text": [
      "13\n",
      "0\n",
      "25\n"
     ]
    },
    {
     "name": "stderr",
     "output_type": "stream",
     "text": [
      "<ipython-input-13-fc7ab27f773a>:52: UserWarning: Boolean Series key will be reindexed to match DataFrame index.\n",
      "  alls.append(df_combine[df_combine.rsquare_x>PV_adult][df_combine.rsquare_y>PV_child].shape[0])\n",
      "<ipython-input-13-fc7ab27f773a>:53: UserWarning: Boolean Series key will be reindexed to match DataFrame index.\n",
      "  print(df_combine[df_combine.rsquare_x>PV_adult][df_combine.rsquare_y>PV_child].shape[0])\n",
      "<ipython-input-13-fc7ab27f773a>:52: UserWarning: Boolean Series key will be reindexed to match DataFrame index.\n",
      "  alls.append(df_combine[df_combine.rsquare_x>PV_adult][df_combine.rsquare_y>PV_child].shape[0])\n",
      "<ipython-input-13-fc7ab27f773a>:53: UserWarning: Boolean Series key will be reindexed to match DataFrame index.\n",
      "  print(df_combine[df_combine.rsquare_x>PV_adult][df_combine.rsquare_y>PV_child].shape[0])\n",
      "<ipython-input-13-fc7ab27f773a>:52: UserWarning: Boolean Series key will be reindexed to match DataFrame index.\n",
      "  alls.append(df_combine[df_combine.rsquare_x>PV_adult][df_combine.rsquare_y>PV_child].shape[0])\n",
      "<ipython-input-13-fc7ab27f773a>:53: UserWarning: Boolean Series key will be reindexed to match DataFrame index.\n",
      "  print(df_combine[df_combine.rsquare_x>PV_adult][df_combine.rsquare_y>PV_child].shape[0])\n",
      "<ipython-input-13-fc7ab27f773a>:52: UserWarning: Boolean Series key will be reindexed to match DataFrame index.\n",
      "  alls.append(df_combine[df_combine.rsquare_x>PV_adult][df_combine.rsquare_y>PV_child].shape[0])\n",
      "<ipython-input-13-fc7ab27f773a>:53: UserWarning: Boolean Series key will be reindexed to match DataFrame index.\n",
      "  print(df_combine[df_combine.rsquare_x>PV_adult][df_combine.rsquare_y>PV_child].shape[0])\n"
     ]
    },
    {
     "name": "stdout",
     "output_type": "stream",
     "text": [
      "4\n",
      "2\n",
      "6\n"
     ]
    },
    {
     "name": "stderr",
     "output_type": "stream",
     "text": [
      "<ipython-input-13-fc7ab27f773a>:52: UserWarning: Boolean Series key will be reindexed to match DataFrame index.\n",
      "  alls.append(df_combine[df_combine.rsquare_x>PV_adult][df_combine.rsquare_y>PV_child].shape[0])\n",
      "<ipython-input-13-fc7ab27f773a>:53: UserWarning: Boolean Series key will be reindexed to match DataFrame index.\n",
      "  print(df_combine[df_combine.rsquare_x>PV_adult][df_combine.rsquare_y>PV_child].shape[0])\n",
      "<ipython-input-13-fc7ab27f773a>:52: UserWarning: Boolean Series key will be reindexed to match DataFrame index.\n",
      "  alls.append(df_combine[df_combine.rsquare_x>PV_adult][df_combine.rsquare_y>PV_child].shape[0])\n",
      "<ipython-input-13-fc7ab27f773a>:53: UserWarning: Boolean Series key will be reindexed to match DataFrame index.\n",
      "  print(df_combine[df_combine.rsquare_x>PV_adult][df_combine.rsquare_y>PV_child].shape[0])\n",
      "<ipython-input-13-fc7ab27f773a>:52: UserWarning: Boolean Series key will be reindexed to match DataFrame index.\n",
      "  alls.append(df_combine[df_combine.rsquare_x>PV_adult][df_combine.rsquare_y>PV_child].shape[0])\n",
      "<ipython-input-13-fc7ab27f773a>:53: UserWarning: Boolean Series key will be reindexed to match DataFrame index.\n",
      "  print(df_combine[df_combine.rsquare_x>PV_adult][df_combine.rsquare_y>PV_child].shape[0])\n",
      "<ipython-input-13-fc7ab27f773a>:52: UserWarning: Boolean Series key will be reindexed to match DataFrame index.\n",
      "  alls.append(df_combine[df_combine.rsquare_x>PV_adult][df_combine.rsquare_y>PV_child].shape[0])\n",
      "<ipython-input-13-fc7ab27f773a>:53: UserWarning: Boolean Series key will be reindexed to match DataFrame index.\n",
      "  print(df_combine[df_combine.rsquare_x>PV_adult][df_combine.rsquare_y>PV_child].shape[0])\n"
     ]
    },
    {
     "name": "stdout",
     "output_type": "stream",
     "text": [
      "22\n",
      "5\n",
      "30\n",
      "13\n",
      "0\n"
     ]
    },
    {
     "name": "stderr",
     "output_type": "stream",
     "text": [
      "<ipython-input-13-fc7ab27f773a>:52: UserWarning: Boolean Series key will be reindexed to match DataFrame index.\n",
      "  alls.append(df_combine[df_combine.rsquare_x>PV_adult][df_combine.rsquare_y>PV_child].shape[0])\n",
      "<ipython-input-13-fc7ab27f773a>:53: UserWarning: Boolean Series key will be reindexed to match DataFrame index.\n",
      "  print(df_combine[df_combine.rsquare_x>PV_adult][df_combine.rsquare_y>PV_child].shape[0])\n",
      "<ipython-input-13-fc7ab27f773a>:52: UserWarning: Boolean Series key will be reindexed to match DataFrame index.\n",
      "  alls.append(df_combine[df_combine.rsquare_x>PV_adult][df_combine.rsquare_y>PV_child].shape[0])\n",
      "<ipython-input-13-fc7ab27f773a>:53: UserWarning: Boolean Series key will be reindexed to match DataFrame index.\n",
      "  print(df_combine[df_combine.rsquare_x>PV_adult][df_combine.rsquare_y>PV_child].shape[0])\n",
      "<ipython-input-13-fc7ab27f773a>:52: UserWarning: Boolean Series key will be reindexed to match DataFrame index.\n",
      "  alls.append(df_combine[df_combine.rsquare_x>PV_adult][df_combine.rsquare_y>PV_child].shape[0])\n",
      "<ipython-input-13-fc7ab27f773a>:53: UserWarning: Boolean Series key will be reindexed to match DataFrame index.\n",
      "  print(df_combine[df_combine.rsquare_x>PV_adult][df_combine.rsquare_y>PV_child].shape[0])\n",
      "<ipython-input-13-fc7ab27f773a>:52: UserWarning: Boolean Series key will be reindexed to match DataFrame index.\n",
      "  alls.append(df_combine[df_combine.rsquare_x>PV_adult][df_combine.rsquare_y>PV_child].shape[0])\n",
      "<ipython-input-13-fc7ab27f773a>:53: UserWarning: Boolean Series key will be reindexed to match DataFrame index.\n",
      "  print(df_combine[df_combine.rsquare_x>PV_adult][df_combine.rsquare_y>PV_child].shape[0])\n"
     ]
    },
    {
     "name": "stdout",
     "output_type": "stream",
     "text": [
      "1\n",
      "13\n",
      "24\n",
      "2\n"
     ]
    },
    {
     "name": "stderr",
     "output_type": "stream",
     "text": [
      "<ipython-input-13-fc7ab27f773a>:52: UserWarning: Boolean Series key will be reindexed to match DataFrame index.\n",
      "  alls.append(df_combine[df_combine.rsquare_x>PV_adult][df_combine.rsquare_y>PV_child].shape[0])\n",
      "<ipython-input-13-fc7ab27f773a>:53: UserWarning: Boolean Series key will be reindexed to match DataFrame index.\n",
      "  print(df_combine[df_combine.rsquare_x>PV_adult][df_combine.rsquare_y>PV_child].shape[0])\n",
      "<ipython-input-13-fc7ab27f773a>:52: UserWarning: Boolean Series key will be reindexed to match DataFrame index.\n",
      "  alls.append(df_combine[df_combine.rsquare_x>PV_adult][df_combine.rsquare_y>PV_child].shape[0])\n",
      "<ipython-input-13-fc7ab27f773a>:53: UserWarning: Boolean Series key will be reindexed to match DataFrame index.\n",
      "  print(df_combine[df_combine.rsquare_x>PV_adult][df_combine.rsquare_y>PV_child].shape[0])\n",
      "<ipython-input-13-fc7ab27f773a>:52: UserWarning: Boolean Series key will be reindexed to match DataFrame index.\n",
      "  alls.append(df_combine[df_combine.rsquare_x>PV_adult][df_combine.rsquare_y>PV_child].shape[0])\n"
     ]
    },
    {
     "name": "stdout",
     "output_type": "stream",
     "text": [
      "24\n",
      "500\n",
      "17\n"
     ]
    },
    {
     "name": "stderr",
     "output_type": "stream",
     "text": [
      "<ipython-input-13-fc7ab27f773a>:53: UserWarning: Boolean Series key will be reindexed to match DataFrame index.\n",
      "  print(df_combine[df_combine.rsquare_x>PV_adult][df_combine.rsquare_y>PV_child].shape[0])\n",
      "<ipython-input-13-fc7ab27f773a>:52: UserWarning: Boolean Series key will be reindexed to match DataFrame index.\n",
      "  alls.append(df_combine[df_combine.rsquare_x>PV_adult][df_combine.rsquare_y>PV_child].shape[0])\n",
      "<ipython-input-13-fc7ab27f773a>:53: UserWarning: Boolean Series key will be reindexed to match DataFrame index.\n",
      "  print(df_combine[df_combine.rsquare_x>PV_adult][df_combine.rsquare_y>PV_child].shape[0])\n",
      "<ipython-input-13-fc7ab27f773a>:52: UserWarning: Boolean Series key will be reindexed to match DataFrame index.\n",
      "  alls.append(df_combine[df_combine.rsquare_x>PV_adult][df_combine.rsquare_y>PV_child].shape[0])\n",
      "<ipython-input-13-fc7ab27f773a>:53: UserWarning: Boolean Series key will be reindexed to match DataFrame index.\n",
      "  print(df_combine[df_combine.rsquare_x>PV_adult][df_combine.rsquare_y>PV_child].shape[0])\n"
     ]
    },
    {
     "name": "stdout",
     "output_type": "stream",
     "text": [
      "34\n",
      "11\n"
     ]
    },
    {
     "name": "stderr",
     "output_type": "stream",
     "text": [
      "<ipython-input-13-fc7ab27f773a>:52: UserWarning: Boolean Series key will be reindexed to match DataFrame index.\n",
      "  alls.append(df_combine[df_combine.rsquare_x>PV_adult][df_combine.rsquare_y>PV_child].shape[0])\n",
      "<ipython-input-13-fc7ab27f773a>:53: UserWarning: Boolean Series key will be reindexed to match DataFrame index.\n",
      "  print(df_combine[df_combine.rsquare_x>PV_adult][df_combine.rsquare_y>PV_child].shape[0])\n",
      "<ipython-input-13-fc7ab27f773a>:52: UserWarning: Boolean Series key will be reindexed to match DataFrame index.\n",
      "  alls.append(df_combine[df_combine.rsquare_x>PV_adult][df_combine.rsquare_y>PV_child].shape[0])\n",
      "<ipython-input-13-fc7ab27f773a>:53: UserWarning: Boolean Series key will be reindexed to match DataFrame index.\n",
      "  print(df_combine[df_combine.rsquare_x>PV_adult][df_combine.rsquare_y>PV_child].shape[0])\n",
      "<ipython-input-13-fc7ab27f773a>:52: UserWarning: Boolean Series key will be reindexed to match DataFrame index.\n",
      "  alls.append(df_combine[df_combine.rsquare_x>PV_adult][df_combine.rsquare_y>PV_child].shape[0])\n",
      "<ipython-input-13-fc7ab27f773a>:53: UserWarning: Boolean Series key will be reindexed to match DataFrame index.\n",
      "  print(df_combine[df_combine.rsquare_x>PV_adult][df_combine.rsquare_y>PV_child].shape[0])\n",
      "<ipython-input-13-fc7ab27f773a>:52: UserWarning: Boolean Series key will be reindexed to match DataFrame index.\n",
      "  alls.append(df_combine[df_combine.rsquare_x>PV_adult][df_combine.rsquare_y>PV_child].shape[0])\n",
      "<ipython-input-13-fc7ab27f773a>:53: UserWarning: Boolean Series key will be reindexed to match DataFrame index.\n",
      "  print(df_combine[df_combine.rsquare_x>PV_adult][df_combine.rsquare_y>PV_child].shape[0])\n",
      "<ipython-input-13-fc7ab27f773a>:52: UserWarning: Boolean Series key will be reindexed to match DataFrame index.\n",
      "  alls.append(df_combine[df_combine.rsquare_x>PV_adult][df_combine.rsquare_y>PV_child].shape[0])\n"
     ]
    },
    {
     "name": "stdout",
     "output_type": "stream",
     "text": [
      "6\n",
      "4\n",
      "11\n",
      "5\n",
      "18\n"
     ]
    },
    {
     "name": "stderr",
     "output_type": "stream",
     "text": [
      "<ipython-input-13-fc7ab27f773a>:53: UserWarning: Boolean Series key will be reindexed to match DataFrame index.\n",
      "  print(df_combine[df_combine.rsquare_x>PV_adult][df_combine.rsquare_y>PV_child].shape[0])\n",
      "<ipython-input-13-fc7ab27f773a>:52: UserWarning: Boolean Series key will be reindexed to match DataFrame index.\n",
      "  alls.append(df_combine[df_combine.rsquare_x>PV_adult][df_combine.rsquare_y>PV_child].shape[0])\n",
      "<ipython-input-13-fc7ab27f773a>:53: UserWarning: Boolean Series key will be reindexed to match DataFrame index.\n",
      "  print(df_combine[df_combine.rsquare_x>PV_adult][df_combine.rsquare_y>PV_child].shape[0])\n",
      "<ipython-input-13-fc7ab27f773a>:52: UserWarning: Boolean Series key will be reindexed to match DataFrame index.\n",
      "  alls.append(df_combine[df_combine.rsquare_x>PV_adult][df_combine.rsquare_y>PV_child].shape[0])\n",
      "<ipython-input-13-fc7ab27f773a>:53: UserWarning: Boolean Series key will be reindexed to match DataFrame index.\n",
      "  print(df_combine[df_combine.rsquare_x>PV_adult][df_combine.rsquare_y>PV_child].shape[0])\n",
      "<ipython-input-13-fc7ab27f773a>:52: UserWarning: Boolean Series key will be reindexed to match DataFrame index.\n",
      "  alls.append(df_combine[df_combine.rsquare_x>PV_adult][df_combine.rsquare_y>PV_child].shape[0])\n",
      "<ipython-input-13-fc7ab27f773a>:53: UserWarning: Boolean Series key will be reindexed to match DataFrame index.\n",
      "  print(df_combine[df_combine.rsquare_x>PV_adult][df_combine.rsquare_y>PV_child].shape[0])\n"
     ]
    },
    {
     "name": "stdout",
     "output_type": "stream",
     "text": [
      "8\n",
      "15\n",
      "5\n"
     ]
    },
    {
     "name": "stderr",
     "output_type": "stream",
     "text": [
      "<ipython-input-13-fc7ab27f773a>:52: UserWarning: Boolean Series key will be reindexed to match DataFrame index.\n",
      "  alls.append(df_combine[df_combine.rsquare_x>PV_adult][df_combine.rsquare_y>PV_child].shape[0])\n",
      "<ipython-input-13-fc7ab27f773a>:53: UserWarning: Boolean Series key will be reindexed to match DataFrame index.\n",
      "  print(df_combine[df_combine.rsquare_x>PV_adult][df_combine.rsquare_y>PV_child].shape[0])\n",
      "<ipython-input-13-fc7ab27f773a>:52: UserWarning: Boolean Series key will be reindexed to match DataFrame index.\n",
      "  alls.append(df_combine[df_combine.rsquare_x>PV_adult][df_combine.rsquare_y>PV_child].shape[0])\n",
      "<ipython-input-13-fc7ab27f773a>:53: UserWarning: Boolean Series key will be reindexed to match DataFrame index.\n",
      "  print(df_combine[df_combine.rsquare_x>PV_adult][df_combine.rsquare_y>PV_child].shape[0])\n"
     ]
    },
    {
     "name": "stdout",
     "output_type": "stream",
     "text": [
      "1\n",
      "0\n"
     ]
    },
    {
     "name": "stderr",
     "output_type": "stream",
     "text": [
      "<ipython-input-13-fc7ab27f773a>:52: UserWarning: Boolean Series key will be reindexed to match DataFrame index.\n",
      "  alls.append(df_combine[df_combine.rsquare_x>PV_adult][df_combine.rsquare_y>PV_child].shape[0])\n",
      "<ipython-input-13-fc7ab27f773a>:53: UserWarning: Boolean Series key will be reindexed to match DataFrame index.\n",
      "  print(df_combine[df_combine.rsquare_x>PV_adult][df_combine.rsquare_y>PV_child].shape[0])\n",
      "<ipython-input-13-fc7ab27f773a>:52: UserWarning: Boolean Series key will be reindexed to match DataFrame index.\n",
      "  alls.append(df_combine[df_combine.rsquare_x>PV_adult][df_combine.rsquare_y>PV_child].shape[0])\n",
      "<ipython-input-13-fc7ab27f773a>:53: UserWarning: Boolean Series key will be reindexed to match DataFrame index.\n",
      "  print(df_combine[df_combine.rsquare_x>PV_adult][df_combine.rsquare_y>PV_child].shape[0])\n",
      "<ipython-input-13-fc7ab27f773a>:52: UserWarning: Boolean Series key will be reindexed to match DataFrame index.\n",
      "  alls.append(df_combine[df_combine.rsquare_x>PV_adult][df_combine.rsquare_y>PV_child].shape[0])\n"
     ]
    },
    {
     "name": "stdout",
     "output_type": "stream",
     "text": [
      "1\n",
      "3\n",
      "6\n",
      "14\n"
     ]
    },
    {
     "name": "stderr",
     "output_type": "stream",
     "text": [
      "<ipython-input-13-fc7ab27f773a>:53: UserWarning: Boolean Series key will be reindexed to match DataFrame index.\n",
      "  print(df_combine[df_combine.rsquare_x>PV_adult][df_combine.rsquare_y>PV_child].shape[0])\n",
      "<ipython-input-13-fc7ab27f773a>:52: UserWarning: Boolean Series key will be reindexed to match DataFrame index.\n",
      "  alls.append(df_combine[df_combine.rsquare_x>PV_adult][df_combine.rsquare_y>PV_child].shape[0])\n",
      "<ipython-input-13-fc7ab27f773a>:53: UserWarning: Boolean Series key will be reindexed to match DataFrame index.\n",
      "  print(df_combine[df_combine.rsquare_x>PV_adult][df_combine.rsquare_y>PV_child].shape[0])\n",
      "<ipython-input-13-fc7ab27f773a>:52: UserWarning: Boolean Series key will be reindexed to match DataFrame index.\n",
      "  alls.append(df_combine[df_combine.rsquare_x>PV_adult][df_combine.rsquare_y>PV_child].shape[0])\n",
      "<ipython-input-13-fc7ab27f773a>:53: UserWarning: Boolean Series key will be reindexed to match DataFrame index.\n",
      "  print(df_combine[df_combine.rsquare_x>PV_adult][df_combine.rsquare_y>PV_child].shape[0])\n",
      "<ipython-input-13-fc7ab27f773a>:52: UserWarning: Boolean Series key will be reindexed to match DataFrame index.\n",
      "  alls.append(df_combine[df_combine.rsquare_x>PV_adult][df_combine.rsquare_y>PV_child].shape[0])\n",
      "<ipython-input-13-fc7ab27f773a>:53: UserWarning: Boolean Series key will be reindexed to match DataFrame index.\n",
      "  print(df_combine[df_combine.rsquare_x>PV_adult][df_combine.rsquare_y>PV_child].shape[0])\n"
     ]
    },
    {
     "name": "stdout",
     "output_type": "stream",
     "text": [
      "4\n",
      "3\n",
      "3\n"
     ]
    },
    {
     "name": "stderr",
     "output_type": "stream",
     "text": [
      "<ipython-input-13-fc7ab27f773a>:52: UserWarning: Boolean Series key will be reindexed to match DataFrame index.\n",
      "  alls.append(df_combine[df_combine.rsquare_x>PV_adult][df_combine.rsquare_y>PV_child].shape[0])\n",
      "<ipython-input-13-fc7ab27f773a>:53: UserWarning: Boolean Series key will be reindexed to match DataFrame index.\n",
      "  print(df_combine[df_combine.rsquare_x>PV_adult][df_combine.rsquare_y>PV_child].shape[0])\n",
      "<ipython-input-13-fc7ab27f773a>:52: UserWarning: Boolean Series key will be reindexed to match DataFrame index.\n",
      "  alls.append(df_combine[df_combine.rsquare_x>PV_adult][df_combine.rsquare_y>PV_child].shape[0])\n",
      "<ipython-input-13-fc7ab27f773a>:53: UserWarning: Boolean Series key will be reindexed to match DataFrame index.\n",
      "  print(df_combine[df_combine.rsquare_x>PV_adult][df_combine.rsquare_y>PV_child].shape[0])\n",
      "<ipython-input-13-fc7ab27f773a>:52: UserWarning: Boolean Series key will be reindexed to match DataFrame index.\n",
      "  alls.append(df_combine[df_combine.rsquare_x>PV_adult][df_combine.rsquare_y>PV_child].shape[0])\n",
      "<ipython-input-13-fc7ab27f773a>:53: UserWarning: Boolean Series key will be reindexed to match DataFrame index.\n",
      "  print(df_combine[df_combine.rsquare_x>PV_adult][df_combine.rsquare_y>PV_child].shape[0])\n"
     ]
    },
    {
     "name": "stdout",
     "output_type": "stream",
     "text": [
      "30\n",
      "23\n",
      "4\n",
      "10\n"
     ]
    },
    {
     "name": "stderr",
     "output_type": "stream",
     "text": [
      "<ipython-input-13-fc7ab27f773a>:52: UserWarning: Boolean Series key will be reindexed to match DataFrame index.\n",
      "  alls.append(df_combine[df_combine.rsquare_x>PV_adult][df_combine.rsquare_y>PV_child].shape[0])\n",
      "<ipython-input-13-fc7ab27f773a>:53: UserWarning: Boolean Series key will be reindexed to match DataFrame index.\n",
      "  print(df_combine[df_combine.rsquare_x>PV_adult][df_combine.rsquare_y>PV_child].shape[0])\n",
      "<ipython-input-13-fc7ab27f773a>:52: UserWarning: Boolean Series key will be reindexed to match DataFrame index.\n",
      "  alls.append(df_combine[df_combine.rsquare_x>PV_adult][df_combine.rsquare_y>PV_child].shape[0])\n",
      "<ipython-input-13-fc7ab27f773a>:53: UserWarning: Boolean Series key will be reindexed to match DataFrame index.\n",
      "  print(df_combine[df_combine.rsquare_x>PV_adult][df_combine.rsquare_y>PV_child].shape[0])\n",
      "<ipython-input-13-fc7ab27f773a>:52: UserWarning: Boolean Series key will be reindexed to match DataFrame index.\n",
      "  alls.append(df_combine[df_combine.rsquare_x>PV_adult][df_combine.rsquare_y>PV_child].shape[0])\n",
      "<ipython-input-13-fc7ab27f773a>:53: UserWarning: Boolean Series key will be reindexed to match DataFrame index.\n",
      "  print(df_combine[df_combine.rsquare_x>PV_adult][df_combine.rsquare_y>PV_child].shape[0])\n",
      "<ipython-input-13-fc7ab27f773a>:52: UserWarning: Boolean Series key will be reindexed to match DataFrame index.\n",
      "  alls.append(df_combine[df_combine.rsquare_x>PV_adult][df_combine.rsquare_y>PV_child].shape[0])\n",
      "<ipython-input-13-fc7ab27f773a>:53: UserWarning: Boolean Series key will be reindexed to match DataFrame index.\n",
      "  print(df_combine[df_combine.rsquare_x>PV_adult][df_combine.rsquare_y>PV_child].shape[0])\n",
      "<ipython-input-13-fc7ab27f773a>:52: UserWarning: Boolean Series key will be reindexed to match DataFrame index.\n",
      "  alls.append(df_combine[df_combine.rsquare_x>PV_adult][df_combine.rsquare_y>PV_child].shape[0])\n",
      "<ipython-input-13-fc7ab27f773a>:53: UserWarning: Boolean Series key will be reindexed to match DataFrame index.\n",
      "  print(df_combine[df_combine.rsquare_x>PV_adult][df_combine.rsquare_y>PV_child].shape[0])\n"
     ]
    },
    {
     "name": "stdout",
     "output_type": "stream",
     "text": [
      "19\n",
      "11\n",
      "5\n"
     ]
    },
    {
     "name": "stderr",
     "output_type": "stream",
     "text": [
      "<ipython-input-13-fc7ab27f773a>:52: UserWarning: Boolean Series key will be reindexed to match DataFrame index.\n",
      "  alls.append(df_combine[df_combine.rsquare_x>PV_adult][df_combine.rsquare_y>PV_child].shape[0])\n",
      "<ipython-input-13-fc7ab27f773a>:53: UserWarning: Boolean Series key will be reindexed to match DataFrame index.\n",
      "  print(df_combine[df_combine.rsquare_x>PV_adult][df_combine.rsquare_y>PV_child].shape[0])\n",
      "<ipython-input-13-fc7ab27f773a>:52: UserWarning: Boolean Series key will be reindexed to match DataFrame index.\n",
      "  alls.append(df_combine[df_combine.rsquare_x>PV_adult][df_combine.rsquare_y>PV_child].shape[0])\n",
      "<ipython-input-13-fc7ab27f773a>:53: UserWarning: Boolean Series key will be reindexed to match DataFrame index.\n",
      "  print(df_combine[df_combine.rsquare_x>PV_adult][df_combine.rsquare_y>PV_child].shape[0])\n",
      "<ipython-input-13-fc7ab27f773a>:52: UserWarning: Boolean Series key will be reindexed to match DataFrame index.\n",
      "  alls.append(df_combine[df_combine.rsquare_x>PV_adult][df_combine.rsquare_y>PV_child].shape[0])\n",
      "<ipython-input-13-fc7ab27f773a>:53: UserWarning: Boolean Series key will be reindexed to match DataFrame index.\n",
      "  print(df_combine[df_combine.rsquare_x>PV_adult][df_combine.rsquare_y>PV_child].shape[0])\n"
     ]
    },
    {
     "name": "stdout",
     "output_type": "stream",
     "text": [
      "11\n",
      "11\n",
      "21\n"
     ]
    },
    {
     "name": "stderr",
     "output_type": "stream",
     "text": [
      "<ipython-input-13-fc7ab27f773a>:52: UserWarning: Boolean Series key will be reindexed to match DataFrame index.\n",
      "  alls.append(df_combine[df_combine.rsquare_x>PV_adult][df_combine.rsquare_y>PV_child].shape[0])\n",
      "<ipython-input-13-fc7ab27f773a>:53: UserWarning: Boolean Series key will be reindexed to match DataFrame index.\n",
      "  print(df_combine[df_combine.rsquare_x>PV_adult][df_combine.rsquare_y>PV_child].shape[0])\n",
      "<ipython-input-13-fc7ab27f773a>:52: UserWarning: Boolean Series key will be reindexed to match DataFrame index.\n",
      "  alls.append(df_combine[df_combine.rsquare_x>PV_adult][df_combine.rsquare_y>PV_child].shape[0])\n",
      "<ipython-input-13-fc7ab27f773a>:53: UserWarning: Boolean Series key will be reindexed to match DataFrame index.\n",
      "  print(df_combine[df_combine.rsquare_x>PV_adult][df_combine.rsquare_y>PV_child].shape[0])\n"
     ]
    },
    {
     "name": "stdout",
     "output_type": "stream",
     "text": [
      "1\n",
      "9\n"
     ]
    },
    {
     "name": "stderr",
     "output_type": "stream",
     "text": [
      "<ipython-input-13-fc7ab27f773a>:52: UserWarning: Boolean Series key will be reindexed to match DataFrame index.\n",
      "  alls.append(df_combine[df_combine.rsquare_x>PV_adult][df_combine.rsquare_y>PV_child].shape[0])\n",
      "<ipython-input-13-fc7ab27f773a>:53: UserWarning: Boolean Series key will be reindexed to match DataFrame index.\n",
      "  print(df_combine[df_combine.rsquare_x>PV_adult][df_combine.rsquare_y>PV_child].shape[0])\n",
      "<ipython-input-13-fc7ab27f773a>:52: UserWarning: Boolean Series key will be reindexed to match DataFrame index.\n",
      "  alls.append(df_combine[df_combine.rsquare_x>PV_adult][df_combine.rsquare_y>PV_child].shape[0])\n",
      "<ipython-input-13-fc7ab27f773a>:53: UserWarning: Boolean Series key will be reindexed to match DataFrame index.\n",
      "  print(df_combine[df_combine.rsquare_x>PV_adult][df_combine.rsquare_y>PV_child].shape[0])\n",
      "<ipython-input-13-fc7ab27f773a>:52: UserWarning: Boolean Series key will be reindexed to match DataFrame index.\n",
      "  alls.append(df_combine[df_combine.rsquare_x>PV_adult][df_combine.rsquare_y>PV_child].shape[0])\n",
      "<ipython-input-13-fc7ab27f773a>:53: UserWarning: Boolean Series key will be reindexed to match DataFrame index.\n",
      "  print(df_combine[df_combine.rsquare_x>PV_adult][df_combine.rsquare_y>PV_child].shape[0])\n"
     ]
    },
    {
     "name": "stdout",
     "output_type": "stream",
     "text": [
      "9\n",
      "11\n"
     ]
    },
    {
     "name": "stderr",
     "output_type": "stream",
     "text": [
      "<ipython-input-13-fc7ab27f773a>:52: UserWarning: Boolean Series key will be reindexed to match DataFrame index.\n",
      "  alls.append(df_combine[df_combine.rsquare_x>PV_adult][df_combine.rsquare_y>PV_child].shape[0])\n",
      "<ipython-input-13-fc7ab27f773a>:53: UserWarning: Boolean Series key will be reindexed to match DataFrame index.\n",
      "  print(df_combine[df_combine.rsquare_x>PV_adult][df_combine.rsquare_y>PV_child].shape[0])\n",
      "<ipython-input-13-fc7ab27f773a>:52: UserWarning: Boolean Series key will be reindexed to match DataFrame index.\n",
      "  alls.append(df_combine[df_combine.rsquare_x>PV_adult][df_combine.rsquare_y>PV_child].shape[0])\n",
      "<ipython-input-13-fc7ab27f773a>:53: UserWarning: Boolean Series key will be reindexed to match DataFrame index.\n",
      "  print(df_combine[df_combine.rsquare_x>PV_adult][df_combine.rsquare_y>PV_child].shape[0])\n",
      "<ipython-input-13-fc7ab27f773a>:52: UserWarning: Boolean Series key will be reindexed to match DataFrame index.\n",
      "  alls.append(df_combine[df_combine.rsquare_x>PV_adult][df_combine.rsquare_y>PV_child].shape[0])\n"
     ]
    },
    {
     "name": "stdout",
     "output_type": "stream",
     "text": [
      "10\n",
      "6\n",
      "4\n",
      "17\n",
      "18\n"
     ]
    },
    {
     "name": "stderr",
     "output_type": "stream",
     "text": [
      "<ipython-input-13-fc7ab27f773a>:53: UserWarning: Boolean Series key will be reindexed to match DataFrame index.\n",
      "  print(df_combine[df_combine.rsquare_x>PV_adult][df_combine.rsquare_y>PV_child].shape[0])\n",
      "<ipython-input-13-fc7ab27f773a>:52: UserWarning: Boolean Series key will be reindexed to match DataFrame index.\n",
      "  alls.append(df_combine[df_combine.rsquare_x>PV_adult][df_combine.rsquare_y>PV_child].shape[0])\n",
      "<ipython-input-13-fc7ab27f773a>:53: UserWarning: Boolean Series key will be reindexed to match DataFrame index.\n",
      "  print(df_combine[df_combine.rsquare_x>PV_adult][df_combine.rsquare_y>PV_child].shape[0])\n",
      "<ipython-input-13-fc7ab27f773a>:52: UserWarning: Boolean Series key will be reindexed to match DataFrame index.\n",
      "  alls.append(df_combine[df_combine.rsquare_x>PV_adult][df_combine.rsquare_y>PV_child].shape[0])\n",
      "<ipython-input-13-fc7ab27f773a>:53: UserWarning: Boolean Series key will be reindexed to match DataFrame index.\n",
      "  print(df_combine[df_combine.rsquare_x>PV_adult][df_combine.rsquare_y>PV_child].shape[0])\n",
      "<ipython-input-13-fc7ab27f773a>:52: UserWarning: Boolean Series key will be reindexed to match DataFrame index.\n",
      "  alls.append(df_combine[df_combine.rsquare_x>PV_adult][df_combine.rsquare_y>PV_child].shape[0])\n",
      "<ipython-input-13-fc7ab27f773a>:53: UserWarning: Boolean Series key will be reindexed to match DataFrame index.\n",
      "  print(df_combine[df_combine.rsquare_x>PV_adult][df_combine.rsquare_y>PV_child].shape[0])\n",
      "<ipython-input-13-fc7ab27f773a>:52: UserWarning: Boolean Series key will be reindexed to match DataFrame index.\n",
      "  alls.append(df_combine[df_combine.rsquare_x>PV_adult][df_combine.rsquare_y>PV_child].shape[0])\n",
      "<ipython-input-13-fc7ab27f773a>:53: UserWarning: Boolean Series key will be reindexed to match DataFrame index.\n",
      "  print(df_combine[df_combine.rsquare_x>PV_adult][df_combine.rsquare_y>PV_child].shape[0])\n"
     ]
    },
    {
     "name": "stdout",
     "output_type": "stream",
     "text": [
      "2\n",
      "5\n"
     ]
    },
    {
     "name": "stderr",
     "output_type": "stream",
     "text": [
      "<ipython-input-13-fc7ab27f773a>:52: UserWarning: Boolean Series key will be reindexed to match DataFrame index.\n",
      "  alls.append(df_combine[df_combine.rsquare_x>PV_adult][df_combine.rsquare_y>PV_child].shape[0])\n",
      "<ipython-input-13-fc7ab27f773a>:53: UserWarning: Boolean Series key will be reindexed to match DataFrame index.\n",
      "  print(df_combine[df_combine.rsquare_x>PV_adult][df_combine.rsquare_y>PV_child].shape[0])\n",
      "<ipython-input-13-fc7ab27f773a>:52: UserWarning: Boolean Series key will be reindexed to match DataFrame index.\n",
      "  alls.append(df_combine[df_combine.rsquare_x>PV_adult][df_combine.rsquare_y>PV_child].shape[0])\n",
      "<ipython-input-13-fc7ab27f773a>:53: UserWarning: Boolean Series key will be reindexed to match DataFrame index.\n",
      "  print(df_combine[df_combine.rsquare_x>PV_adult][df_combine.rsquare_y>PV_child].shape[0])\n",
      "<ipython-input-13-fc7ab27f773a>:52: UserWarning: Boolean Series key will be reindexed to match DataFrame index.\n",
      "  alls.append(df_combine[df_combine.rsquare_x>PV_adult][df_combine.rsquare_y>PV_child].shape[0])\n",
      "<ipython-input-13-fc7ab27f773a>:53: UserWarning: Boolean Series key will be reindexed to match DataFrame index.\n",
      "  print(df_combine[df_combine.rsquare_x>PV_adult][df_combine.rsquare_y>PV_child].shape[0])\n",
      "<ipython-input-13-fc7ab27f773a>:52: UserWarning: Boolean Series key will be reindexed to match DataFrame index.\n",
      "  alls.append(df_combine[df_combine.rsquare_x>PV_adult][df_combine.rsquare_y>PV_child].shape[0])\n",
      "<ipython-input-13-fc7ab27f773a>:53: UserWarning: Boolean Series key will be reindexed to match DataFrame index.\n",
      "  print(df_combine[df_combine.rsquare_x>PV_adult][df_combine.rsquare_y>PV_child].shape[0])\n",
      "<ipython-input-13-fc7ab27f773a>:52: UserWarning: Boolean Series key will be reindexed to match DataFrame index.\n",
      "  alls.append(df_combine[df_combine.rsquare_x>PV_adult][df_combine.rsquare_y>PV_child].shape[0])\n",
      "<ipython-input-13-fc7ab27f773a>:53: UserWarning: Boolean Series key will be reindexed to match DataFrame index.\n",
      "  print(df_combine[df_combine.rsquare_x>PV_adult][df_combine.rsquare_y>PV_child].shape[0])\n"
     ]
    },
    {
     "name": "stdout",
     "output_type": "stream",
     "text": [
      "15\n",
      "4\n",
      "17\n",
      "32\n",
      "2\n"
     ]
    },
    {
     "name": "stderr",
     "output_type": "stream",
     "text": [
      "<ipython-input-13-fc7ab27f773a>:52: UserWarning: Boolean Series key will be reindexed to match DataFrame index.\n",
      "  alls.append(df_combine[df_combine.rsquare_x>PV_adult][df_combine.rsquare_y>PV_child].shape[0])\n",
      "<ipython-input-13-fc7ab27f773a>:53: UserWarning: Boolean Series key will be reindexed to match DataFrame index.\n",
      "  print(df_combine[df_combine.rsquare_x>PV_adult][df_combine.rsquare_y>PV_child].shape[0])\n",
      "<ipython-input-13-fc7ab27f773a>:52: UserWarning: Boolean Series key will be reindexed to match DataFrame index.\n",
      "  alls.append(df_combine[df_combine.rsquare_x>PV_adult][df_combine.rsquare_y>PV_child].shape[0])\n",
      "<ipython-input-13-fc7ab27f773a>:53: UserWarning: Boolean Series key will be reindexed to match DataFrame index.\n",
      "  print(df_combine[df_combine.rsquare_x>PV_adult][df_combine.rsquare_y>PV_child].shape[0])\n",
      "<ipython-input-13-fc7ab27f773a>:52: UserWarning: Boolean Series key will be reindexed to match DataFrame index.\n",
      "  alls.append(df_combine[df_combine.rsquare_x>PV_adult][df_combine.rsquare_y>PV_child].shape[0])\n",
      "<ipython-input-13-fc7ab27f773a>:53: UserWarning: Boolean Series key will be reindexed to match DataFrame index.\n",
      "  print(df_combine[df_combine.rsquare_x>PV_adult][df_combine.rsquare_y>PV_child].shape[0])\n",
      "<ipython-input-13-fc7ab27f773a>:52: UserWarning: Boolean Series key will be reindexed to match DataFrame index.\n",
      "  alls.append(df_combine[df_combine.rsquare_x>PV_adult][df_combine.rsquare_y>PV_child].shape[0])\n",
      "<ipython-input-13-fc7ab27f773a>:53: UserWarning: Boolean Series key will be reindexed to match DataFrame index.\n",
      "  print(df_combine[df_combine.rsquare_x>PV_adult][df_combine.rsquare_y>PV_child].shape[0])\n",
      "<ipython-input-13-fc7ab27f773a>:52: UserWarning: Boolean Series key will be reindexed to match DataFrame index.\n",
      "  alls.append(df_combine[df_combine.rsquare_x>PV_adult][df_combine.rsquare_y>PV_child].shape[0])\n",
      "<ipython-input-13-fc7ab27f773a>:53: UserWarning: Boolean Series key will be reindexed to match DataFrame index.\n",
      "  print(df_combine[df_combine.rsquare_x>PV_adult][df_combine.rsquare_y>PV_child].shape[0])\n"
     ]
    },
    {
     "name": "stdout",
     "output_type": "stream",
     "text": [
      "0\n",
      "6\n",
      "6\n",
      "10\n",
      "550\n",
      "25\n"
     ]
    },
    {
     "name": "stderr",
     "output_type": "stream",
     "text": [
      "<ipython-input-13-fc7ab27f773a>:52: UserWarning: Boolean Series key will be reindexed to match DataFrame index.\n",
      "  alls.append(df_combine[df_combine.rsquare_x>PV_adult][df_combine.rsquare_y>PV_child].shape[0])\n",
      "<ipython-input-13-fc7ab27f773a>:53: UserWarning: Boolean Series key will be reindexed to match DataFrame index.\n",
      "  print(df_combine[df_combine.rsquare_x>PV_adult][df_combine.rsquare_y>PV_child].shape[0])\n",
      "<ipython-input-13-fc7ab27f773a>:52: UserWarning: Boolean Series key will be reindexed to match DataFrame index.\n",
      "  alls.append(df_combine[df_combine.rsquare_x>PV_adult][df_combine.rsquare_y>PV_child].shape[0])\n",
      "<ipython-input-13-fc7ab27f773a>:53: UserWarning: Boolean Series key will be reindexed to match DataFrame index.\n",
      "  print(df_combine[df_combine.rsquare_x>PV_adult][df_combine.rsquare_y>PV_child].shape[0])\n",
      "<ipython-input-13-fc7ab27f773a>:52: UserWarning: Boolean Series key will be reindexed to match DataFrame index.\n",
      "  alls.append(df_combine[df_combine.rsquare_x>PV_adult][df_combine.rsquare_y>PV_child].shape[0])\n",
      "<ipython-input-13-fc7ab27f773a>:53: UserWarning: Boolean Series key will be reindexed to match DataFrame index.\n",
      "  print(df_combine[df_combine.rsquare_x>PV_adult][df_combine.rsquare_y>PV_child].shape[0])\n",
      "<ipython-input-13-fc7ab27f773a>:52: UserWarning: Boolean Series key will be reindexed to match DataFrame index.\n",
      "  alls.append(df_combine[df_combine.rsquare_x>PV_adult][df_combine.rsquare_y>PV_child].shape[0])\n",
      "<ipython-input-13-fc7ab27f773a>:53: UserWarning: Boolean Series key will be reindexed to match DataFrame index.\n",
      "  print(df_combine[df_combine.rsquare_x>PV_adult][df_combine.rsquare_y>PV_child].shape[0])\n"
     ]
    },
    {
     "name": "stdout",
     "output_type": "stream",
     "text": [
      "20\n",
      "13\n",
      "11\n",
      "3\n"
     ]
    },
    {
     "name": "stderr",
     "output_type": "stream",
     "text": [
      "<ipython-input-13-fc7ab27f773a>:52: UserWarning: Boolean Series key will be reindexed to match DataFrame index.\n",
      "  alls.append(df_combine[df_combine.rsquare_x>PV_adult][df_combine.rsquare_y>PV_child].shape[0])\n",
      "<ipython-input-13-fc7ab27f773a>:53: UserWarning: Boolean Series key will be reindexed to match DataFrame index.\n",
      "  print(df_combine[df_combine.rsquare_x>PV_adult][df_combine.rsquare_y>PV_child].shape[0])\n",
      "<ipython-input-13-fc7ab27f773a>:52: UserWarning: Boolean Series key will be reindexed to match DataFrame index.\n",
      "  alls.append(df_combine[df_combine.rsquare_x>PV_adult][df_combine.rsquare_y>PV_child].shape[0])\n",
      "<ipython-input-13-fc7ab27f773a>:53: UserWarning: Boolean Series key will be reindexed to match DataFrame index.\n",
      "  print(df_combine[df_combine.rsquare_x>PV_adult][df_combine.rsquare_y>PV_child].shape[0])\n"
     ]
    },
    {
     "name": "stdout",
     "output_type": "stream",
     "text": [
      "3\n",
      "18\n"
     ]
    },
    {
     "name": "stderr",
     "output_type": "stream",
     "text": [
      "<ipython-input-13-fc7ab27f773a>:52: UserWarning: Boolean Series key will be reindexed to match DataFrame index.\n",
      "  alls.append(df_combine[df_combine.rsquare_x>PV_adult][df_combine.rsquare_y>PV_child].shape[0])\n",
      "<ipython-input-13-fc7ab27f773a>:53: UserWarning: Boolean Series key will be reindexed to match DataFrame index.\n",
      "  print(df_combine[df_combine.rsquare_x>PV_adult][df_combine.rsquare_y>PV_child].shape[0])\n",
      "<ipython-input-13-fc7ab27f773a>:52: UserWarning: Boolean Series key will be reindexed to match DataFrame index.\n",
      "  alls.append(df_combine[df_combine.rsquare_x>PV_adult][df_combine.rsquare_y>PV_child].shape[0])\n",
      "<ipython-input-13-fc7ab27f773a>:53: UserWarning: Boolean Series key will be reindexed to match DataFrame index.\n",
      "  print(df_combine[df_combine.rsquare_x>PV_adult][df_combine.rsquare_y>PV_child].shape[0])\n",
      "<ipython-input-13-fc7ab27f773a>:52: UserWarning: Boolean Series key will be reindexed to match DataFrame index.\n",
      "  alls.append(df_combine[df_combine.rsquare_x>PV_adult][df_combine.rsquare_y>PV_child].shape[0])\n",
      "<ipython-input-13-fc7ab27f773a>:53: UserWarning: Boolean Series key will be reindexed to match DataFrame index.\n",
      "  print(df_combine[df_combine.rsquare_x>PV_adult][df_combine.rsquare_y>PV_child].shape[0])\n",
      "<ipython-input-13-fc7ab27f773a>:52: UserWarning: Boolean Series key will be reindexed to match DataFrame index.\n",
      "  alls.append(df_combine[df_combine.rsquare_x>PV_adult][df_combine.rsquare_y>PV_child].shape[0])\n",
      "<ipython-input-13-fc7ab27f773a>:53: UserWarning: Boolean Series key will be reindexed to match DataFrame index.\n",
      "  print(df_combine[df_combine.rsquare_x>PV_adult][df_combine.rsquare_y>PV_child].shape[0])\n",
      "<ipython-input-13-fc7ab27f773a>:52: UserWarning: Boolean Series key will be reindexed to match DataFrame index.\n",
      "  alls.append(df_combine[df_combine.rsquare_x>PV_adult][df_combine.rsquare_y>PV_child].shape[0])\n",
      "<ipython-input-13-fc7ab27f773a>:53: UserWarning: Boolean Series key will be reindexed to match DataFrame index.\n",
      "  print(df_combine[df_combine.rsquare_x>PV_adult][df_combine.rsquare_y>PV_child].shape[0])\n"
     ]
    },
    {
     "name": "stdout",
     "output_type": "stream",
     "text": [
      "14\n",
      "2\n",
      "11\n",
      "16\n",
      "12\n"
     ]
    },
    {
     "name": "stderr",
     "output_type": "stream",
     "text": [
      "<ipython-input-13-fc7ab27f773a>:52: UserWarning: Boolean Series key will be reindexed to match DataFrame index.\n",
      "  alls.append(df_combine[df_combine.rsquare_x>PV_adult][df_combine.rsquare_y>PV_child].shape[0])\n",
      "<ipython-input-13-fc7ab27f773a>:53: UserWarning: Boolean Series key will be reindexed to match DataFrame index.\n",
      "  print(df_combine[df_combine.rsquare_x>PV_adult][df_combine.rsquare_y>PV_child].shape[0])\n",
      "<ipython-input-13-fc7ab27f773a>:52: UserWarning: Boolean Series key will be reindexed to match DataFrame index.\n",
      "  alls.append(df_combine[df_combine.rsquare_x>PV_adult][df_combine.rsquare_y>PV_child].shape[0])\n",
      "<ipython-input-13-fc7ab27f773a>:53: UserWarning: Boolean Series key will be reindexed to match DataFrame index.\n",
      "  print(df_combine[df_combine.rsquare_x>PV_adult][df_combine.rsquare_y>PV_child].shape[0])\n",
      "<ipython-input-13-fc7ab27f773a>:52: UserWarning: Boolean Series key will be reindexed to match DataFrame index.\n",
      "  alls.append(df_combine[df_combine.rsquare_x>PV_adult][df_combine.rsquare_y>PV_child].shape[0])\n",
      "<ipython-input-13-fc7ab27f773a>:53: UserWarning: Boolean Series key will be reindexed to match DataFrame index.\n",
      "  print(df_combine[df_combine.rsquare_x>PV_adult][df_combine.rsquare_y>PV_child].shape[0])\n"
     ]
    },
    {
     "name": "stdout",
     "output_type": "stream",
     "text": [
      "0\n",
      "12\n",
      "9\n"
     ]
    },
    {
     "name": "stderr",
     "output_type": "stream",
     "text": [
      "<ipython-input-13-fc7ab27f773a>:52: UserWarning: Boolean Series key will be reindexed to match DataFrame index.\n",
      "  alls.append(df_combine[df_combine.rsquare_x>PV_adult][df_combine.rsquare_y>PV_child].shape[0])\n",
      "<ipython-input-13-fc7ab27f773a>:53: UserWarning: Boolean Series key will be reindexed to match DataFrame index.\n",
      "  print(df_combine[df_combine.rsquare_x>PV_adult][df_combine.rsquare_y>PV_child].shape[0])\n",
      "<ipython-input-13-fc7ab27f773a>:52: UserWarning: Boolean Series key will be reindexed to match DataFrame index.\n",
      "  alls.append(df_combine[df_combine.rsquare_x>PV_adult][df_combine.rsquare_y>PV_child].shape[0])\n",
      "<ipython-input-13-fc7ab27f773a>:53: UserWarning: Boolean Series key will be reindexed to match DataFrame index.\n",
      "  print(df_combine[df_combine.rsquare_x>PV_adult][df_combine.rsquare_y>PV_child].shape[0])\n",
      "<ipython-input-13-fc7ab27f773a>:52: UserWarning: Boolean Series key will be reindexed to match DataFrame index.\n",
      "  alls.append(df_combine[df_combine.rsquare_x>PV_adult][df_combine.rsquare_y>PV_child].shape[0])\n",
      "<ipython-input-13-fc7ab27f773a>:53: UserWarning: Boolean Series key will be reindexed to match DataFrame index.\n",
      "  print(df_combine[df_combine.rsquare_x>PV_adult][df_combine.rsquare_y>PV_child].shape[0])\n",
      "<ipython-input-13-fc7ab27f773a>:52: UserWarning: Boolean Series key will be reindexed to match DataFrame index.\n",
      "  alls.append(df_combine[df_combine.rsquare_x>PV_adult][df_combine.rsquare_y>PV_child].shape[0])\n",
      "<ipython-input-13-fc7ab27f773a>:53: UserWarning: Boolean Series key will be reindexed to match DataFrame index.\n",
      "  print(df_combine[df_combine.rsquare_x>PV_adult][df_combine.rsquare_y>PV_child].shape[0])\n",
      "<ipython-input-13-fc7ab27f773a>:52: UserWarning: Boolean Series key will be reindexed to match DataFrame index.\n",
      "  alls.append(df_combine[df_combine.rsquare_x>PV_adult][df_combine.rsquare_y>PV_child].shape[0])\n",
      "<ipython-input-13-fc7ab27f773a>:53: UserWarning: Boolean Series key will be reindexed to match DataFrame index.\n",
      "  print(df_combine[df_combine.rsquare_x>PV_adult][df_combine.rsquare_y>PV_child].shape[0])\n"
     ]
    },
    {
     "name": "stdout",
     "output_type": "stream",
     "text": [
      "13\n",
      "6\n",
      "0\n",
      "4\n",
      "20\n"
     ]
    },
    {
     "name": "stderr",
     "output_type": "stream",
     "text": [
      "<ipython-input-13-fc7ab27f773a>:52: UserWarning: Boolean Series key will be reindexed to match DataFrame index.\n",
      "  alls.append(df_combine[df_combine.rsquare_x>PV_adult][df_combine.rsquare_y>PV_child].shape[0])\n",
      "<ipython-input-13-fc7ab27f773a>:53: UserWarning: Boolean Series key will be reindexed to match DataFrame index.\n",
      "  print(df_combine[df_combine.rsquare_x>PV_adult][df_combine.rsquare_y>PV_child].shape[0])\n",
      "<ipython-input-13-fc7ab27f773a>:52: UserWarning: Boolean Series key will be reindexed to match DataFrame index.\n",
      "  alls.append(df_combine[df_combine.rsquare_x>PV_adult][df_combine.rsquare_y>PV_child].shape[0])\n",
      "<ipython-input-13-fc7ab27f773a>:53: UserWarning: Boolean Series key will be reindexed to match DataFrame index.\n",
      "  print(df_combine[df_combine.rsquare_x>PV_adult][df_combine.rsquare_y>PV_child].shape[0])\n"
     ]
    },
    {
     "name": "stdout",
     "output_type": "stream",
     "text": [
      "18\n",
      "8\n"
     ]
    },
    {
     "name": "stderr",
     "output_type": "stream",
     "text": [
      "<ipython-input-13-fc7ab27f773a>:52: UserWarning: Boolean Series key will be reindexed to match DataFrame index.\n",
      "  alls.append(df_combine[df_combine.rsquare_x>PV_adult][df_combine.rsquare_y>PV_child].shape[0])\n",
      "<ipython-input-13-fc7ab27f773a>:53: UserWarning: Boolean Series key will be reindexed to match DataFrame index.\n",
      "  print(df_combine[df_combine.rsquare_x>PV_adult][df_combine.rsquare_y>PV_child].shape[0])\n",
      "<ipython-input-13-fc7ab27f773a>:52: UserWarning: Boolean Series key will be reindexed to match DataFrame index.\n",
      "  alls.append(df_combine[df_combine.rsquare_x>PV_adult][df_combine.rsquare_y>PV_child].shape[0])\n",
      "<ipython-input-13-fc7ab27f773a>:53: UserWarning: Boolean Series key will be reindexed to match DataFrame index.\n",
      "  print(df_combine[df_combine.rsquare_x>PV_adult][df_combine.rsquare_y>PV_child].shape[0])\n",
      "<ipython-input-13-fc7ab27f773a>:52: UserWarning: Boolean Series key will be reindexed to match DataFrame index.\n",
      "  alls.append(df_combine[df_combine.rsquare_x>PV_adult][df_combine.rsquare_y>PV_child].shape[0])\n"
     ]
    },
    {
     "name": "stdout",
     "output_type": "stream",
     "text": [
      "8\n",
      "30\n",
      "0\n"
     ]
    },
    {
     "name": "stderr",
     "output_type": "stream",
     "text": [
      "<ipython-input-13-fc7ab27f773a>:53: UserWarning: Boolean Series key will be reindexed to match DataFrame index.\n",
      "  print(df_combine[df_combine.rsquare_x>PV_adult][df_combine.rsquare_y>PV_child].shape[0])\n",
      "<ipython-input-13-fc7ab27f773a>:52: UserWarning: Boolean Series key will be reindexed to match DataFrame index.\n",
      "  alls.append(df_combine[df_combine.rsquare_x>PV_adult][df_combine.rsquare_y>PV_child].shape[0])\n",
      "<ipython-input-13-fc7ab27f773a>:53: UserWarning: Boolean Series key will be reindexed to match DataFrame index.\n",
      "  print(df_combine[df_combine.rsquare_x>PV_adult][df_combine.rsquare_y>PV_child].shape[0])\n",
      "<ipython-input-13-fc7ab27f773a>:52: UserWarning: Boolean Series key will be reindexed to match DataFrame index.\n",
      "  alls.append(df_combine[df_combine.rsquare_x>PV_adult][df_combine.rsquare_y>PV_child].shape[0])\n"
     ]
    },
    {
     "name": "stdout",
     "output_type": "stream",
     "text": [
      "10\n",
      "3\n",
      "7\n"
     ]
    },
    {
     "name": "stderr",
     "output_type": "stream",
     "text": [
      "<ipython-input-13-fc7ab27f773a>:53: UserWarning: Boolean Series key will be reindexed to match DataFrame index.\n",
      "  print(df_combine[df_combine.rsquare_x>PV_adult][df_combine.rsquare_y>PV_child].shape[0])\n",
      "<ipython-input-13-fc7ab27f773a>:52: UserWarning: Boolean Series key will be reindexed to match DataFrame index.\n",
      "  alls.append(df_combine[df_combine.rsquare_x>PV_adult][df_combine.rsquare_y>PV_child].shape[0])\n",
      "<ipython-input-13-fc7ab27f773a>:53: UserWarning: Boolean Series key will be reindexed to match DataFrame index.\n",
      "  print(df_combine[df_combine.rsquare_x>PV_adult][df_combine.rsquare_y>PV_child].shape[0])\n",
      "<ipython-input-13-fc7ab27f773a>:52: UserWarning: Boolean Series key will be reindexed to match DataFrame index.\n",
      "  alls.append(df_combine[df_combine.rsquare_x>PV_adult][df_combine.rsquare_y>PV_child].shape[0])\n",
      "<ipython-input-13-fc7ab27f773a>:53: UserWarning: Boolean Series key will be reindexed to match DataFrame index.\n",
      "  print(df_combine[df_combine.rsquare_x>PV_adult][df_combine.rsquare_y>PV_child].shape[0])\n"
     ]
    },
    {
     "name": "stdout",
     "output_type": "stream",
     "text": [
      "36\n",
      "0\n"
     ]
    },
    {
     "name": "stderr",
     "output_type": "stream",
     "text": [
      "<ipython-input-13-fc7ab27f773a>:52: UserWarning: Boolean Series key will be reindexed to match DataFrame index.\n",
      "  alls.append(df_combine[df_combine.rsquare_x>PV_adult][df_combine.rsquare_y>PV_child].shape[0])\n",
      "<ipython-input-13-fc7ab27f773a>:53: UserWarning: Boolean Series key will be reindexed to match DataFrame index.\n",
      "  print(df_combine[df_combine.rsquare_x>PV_adult][df_combine.rsquare_y>PV_child].shape[0])\n",
      "<ipython-input-13-fc7ab27f773a>:52: UserWarning: Boolean Series key will be reindexed to match DataFrame index.\n",
      "  alls.append(df_combine[df_combine.rsquare_x>PV_adult][df_combine.rsquare_y>PV_child].shape[0])\n",
      "<ipython-input-13-fc7ab27f773a>:53: UserWarning: Boolean Series key will be reindexed to match DataFrame index.\n",
      "  print(df_combine[df_combine.rsquare_x>PV_adult][df_combine.rsquare_y>PV_child].shape[0])\n",
      "<ipython-input-13-fc7ab27f773a>:52: UserWarning: Boolean Series key will be reindexed to match DataFrame index.\n",
      "  alls.append(df_combine[df_combine.rsquare_x>PV_adult][df_combine.rsquare_y>PV_child].shape[0])\n",
      "<ipython-input-13-fc7ab27f773a>:53: UserWarning: Boolean Series key will be reindexed to match DataFrame index.\n",
      "  print(df_combine[df_combine.rsquare_x>PV_adult][df_combine.rsquare_y>PV_child].shape[0])\n",
      "<ipython-input-13-fc7ab27f773a>:52: UserWarning: Boolean Series key will be reindexed to match DataFrame index.\n",
      "  alls.append(df_combine[df_combine.rsquare_x>PV_adult][df_combine.rsquare_y>PV_child].shape[0])\n"
     ]
    },
    {
     "name": "stdout",
     "output_type": "stream",
     "text": [
      "14\n",
      "7\n"
     ]
    },
    {
     "name": "stderr",
     "output_type": "stream",
     "text": [
      "<ipython-input-13-fc7ab27f773a>:53: UserWarning: Boolean Series key will be reindexed to match DataFrame index.\n",
      "  print(df_combine[df_combine.rsquare_x>PV_adult][df_combine.rsquare_y>PV_child].shape[0])\n",
      "<ipython-input-13-fc7ab27f773a>:52: UserWarning: Boolean Series key will be reindexed to match DataFrame index.\n",
      "  alls.append(df_combine[df_combine.rsquare_x>PV_adult][df_combine.rsquare_y>PV_child].shape[0])\n",
      "<ipython-input-13-fc7ab27f773a>:53: UserWarning: Boolean Series key will be reindexed to match DataFrame index.\n",
      "  print(df_combine[df_combine.rsquare_x>PV_adult][df_combine.rsquare_y>PV_child].shape[0])\n",
      "<ipython-input-13-fc7ab27f773a>:52: UserWarning: Boolean Series key will be reindexed to match DataFrame index.\n",
      "  alls.append(df_combine[df_combine.rsquare_x>PV_adult][df_combine.rsquare_y>PV_child].shape[0])\n",
      "<ipython-input-13-fc7ab27f773a>:53: UserWarning: Boolean Series key will be reindexed to match DataFrame index.\n",
      "  print(df_combine[df_combine.rsquare_x>PV_adult][df_combine.rsquare_y>PV_child].shape[0])\n"
     ]
    },
    {
     "name": "stdout",
     "output_type": "stream",
     "text": [
      "24\n",
      "21\n",
      "6\n"
     ]
    },
    {
     "name": "stderr",
     "output_type": "stream",
     "text": [
      "<ipython-input-13-fc7ab27f773a>:52: UserWarning: Boolean Series key will be reindexed to match DataFrame index.\n",
      "  alls.append(df_combine[df_combine.rsquare_x>PV_adult][df_combine.rsquare_y>PV_child].shape[0])\n",
      "<ipython-input-13-fc7ab27f773a>:53: UserWarning: Boolean Series key will be reindexed to match DataFrame index.\n",
      "  print(df_combine[df_combine.rsquare_x>PV_adult][df_combine.rsquare_y>PV_child].shape[0])\n",
      "<ipython-input-13-fc7ab27f773a>:52: UserWarning: Boolean Series key will be reindexed to match DataFrame index.\n",
      "  alls.append(df_combine[df_combine.rsquare_x>PV_adult][df_combine.rsquare_y>PV_child].shape[0])\n",
      "<ipython-input-13-fc7ab27f773a>:53: UserWarning: Boolean Series key will be reindexed to match DataFrame index.\n",
      "  print(df_combine[df_combine.rsquare_x>PV_adult][df_combine.rsquare_y>PV_child].shape[0])\n"
     ]
    },
    {
     "name": "stdout",
     "output_type": "stream",
     "text": [
      "3\n",
      "13\n",
      "10\n",
      "19\n"
     ]
    },
    {
     "name": "stderr",
     "output_type": "stream",
     "text": [
      "<ipython-input-13-fc7ab27f773a>:52: UserWarning: Boolean Series key will be reindexed to match DataFrame index.\n",
      "  alls.append(df_combine[df_combine.rsquare_x>PV_adult][df_combine.rsquare_y>PV_child].shape[0])\n",
      "<ipython-input-13-fc7ab27f773a>:53: UserWarning: Boolean Series key will be reindexed to match DataFrame index.\n",
      "  print(df_combine[df_combine.rsquare_x>PV_adult][df_combine.rsquare_y>PV_child].shape[0])\n",
      "<ipython-input-13-fc7ab27f773a>:52: UserWarning: Boolean Series key will be reindexed to match DataFrame index.\n",
      "  alls.append(df_combine[df_combine.rsquare_x>PV_adult][df_combine.rsquare_y>PV_child].shape[0])\n",
      "<ipython-input-13-fc7ab27f773a>:53: UserWarning: Boolean Series key will be reindexed to match DataFrame index.\n",
      "  print(df_combine[df_combine.rsquare_x>PV_adult][df_combine.rsquare_y>PV_child].shape[0])\n",
      "<ipython-input-13-fc7ab27f773a>:52: UserWarning: Boolean Series key will be reindexed to match DataFrame index.\n",
      "  alls.append(df_combine[df_combine.rsquare_x>PV_adult][df_combine.rsquare_y>PV_child].shape[0])\n",
      "<ipython-input-13-fc7ab27f773a>:53: UserWarning: Boolean Series key will be reindexed to match DataFrame index.\n",
      "  print(df_combine[df_combine.rsquare_x>PV_adult][df_combine.rsquare_y>PV_child].shape[0])\n"
     ]
    },
    {
     "name": "stdout",
     "output_type": "stream",
     "text": [
      "2\n",
      "18\n",
      "13\n",
      "35\n"
     ]
    },
    {
     "name": "stderr",
     "output_type": "stream",
     "text": [
      "<ipython-input-13-fc7ab27f773a>:52: UserWarning: Boolean Series key will be reindexed to match DataFrame index.\n",
      "  alls.append(df_combine[df_combine.rsquare_x>PV_adult][df_combine.rsquare_y>PV_child].shape[0])\n",
      "<ipython-input-13-fc7ab27f773a>:53: UserWarning: Boolean Series key will be reindexed to match DataFrame index.\n",
      "  print(df_combine[df_combine.rsquare_x>PV_adult][df_combine.rsquare_y>PV_child].shape[0])\n",
      "<ipython-input-13-fc7ab27f773a>:52: UserWarning: Boolean Series key will be reindexed to match DataFrame index.\n",
      "  alls.append(df_combine[df_combine.rsquare_x>PV_adult][df_combine.rsquare_y>PV_child].shape[0])\n",
      "<ipython-input-13-fc7ab27f773a>:53: UserWarning: Boolean Series key will be reindexed to match DataFrame index.\n",
      "  print(df_combine[df_combine.rsquare_x>PV_adult][df_combine.rsquare_y>PV_child].shape[0])\n",
      "<ipython-input-13-fc7ab27f773a>:52: UserWarning: Boolean Series key will be reindexed to match DataFrame index.\n",
      "  alls.append(df_combine[df_combine.rsquare_x>PV_adult][df_combine.rsquare_y>PV_child].shape[0])\n",
      "<ipython-input-13-fc7ab27f773a>:53: UserWarning: Boolean Series key will be reindexed to match DataFrame index.\n",
      "  print(df_combine[df_combine.rsquare_x>PV_adult][df_combine.rsquare_y>PV_child].shape[0])\n",
      "<ipython-input-13-fc7ab27f773a>:52: UserWarning: Boolean Series key will be reindexed to match DataFrame index.\n",
      "  alls.append(df_combine[df_combine.rsquare_x>PV_adult][df_combine.rsquare_y>PV_child].shape[0])\n",
      "<ipython-input-13-fc7ab27f773a>:53: UserWarning: Boolean Series key will be reindexed to match DataFrame index.\n",
      "  print(df_combine[df_combine.rsquare_x>PV_adult][df_combine.rsquare_y>PV_child].shape[0])\n"
     ]
    },
    {
     "name": "stdout",
     "output_type": "stream",
     "text": [
      "18\n",
      "9\n"
     ]
    },
    {
     "name": "stderr",
     "output_type": "stream",
     "text": [
      "<ipython-input-13-fc7ab27f773a>:52: UserWarning: Boolean Series key will be reindexed to match DataFrame index.\n",
      "  alls.append(df_combine[df_combine.rsquare_x>PV_adult][df_combine.rsquare_y>PV_child].shape[0])\n",
      "<ipython-input-13-fc7ab27f773a>:53: UserWarning: Boolean Series key will be reindexed to match DataFrame index.\n",
      "  print(df_combine[df_combine.rsquare_x>PV_adult][df_combine.rsquare_y>PV_child].shape[0])\n",
      "<ipython-input-13-fc7ab27f773a>:52: UserWarning: Boolean Series key will be reindexed to match DataFrame index.\n",
      "  alls.append(df_combine[df_combine.rsquare_x>PV_adult][df_combine.rsquare_y>PV_child].shape[0])\n",
      "<ipython-input-13-fc7ab27f773a>:53: UserWarning: Boolean Series key will be reindexed to match DataFrame index.\n",
      "  print(df_combine[df_combine.rsquare_x>PV_adult][df_combine.rsquare_y>PV_child].shape[0])\n",
      "<ipython-input-13-fc7ab27f773a>:52: UserWarning: Boolean Series key will be reindexed to match DataFrame index.\n",
      "  alls.append(df_combine[df_combine.rsquare_x>PV_adult][df_combine.rsquare_y>PV_child].shape[0])\n"
     ]
    },
    {
     "name": "stdout",
     "output_type": "stream",
     "text": [
      "12\n",
      "4\n",
      "11\n"
     ]
    },
    {
     "name": "stderr",
     "output_type": "stream",
     "text": [
      "<ipython-input-13-fc7ab27f773a>:53: UserWarning: Boolean Series key will be reindexed to match DataFrame index.\n",
      "  print(df_combine[df_combine.rsquare_x>PV_adult][df_combine.rsquare_y>PV_child].shape[0])\n",
      "<ipython-input-13-fc7ab27f773a>:52: UserWarning: Boolean Series key will be reindexed to match DataFrame index.\n",
      "  alls.append(df_combine[df_combine.rsquare_x>PV_adult][df_combine.rsquare_y>PV_child].shape[0])\n",
      "<ipython-input-13-fc7ab27f773a>:53: UserWarning: Boolean Series key will be reindexed to match DataFrame index.\n",
      "  print(df_combine[df_combine.rsquare_x>PV_adult][df_combine.rsquare_y>PV_child].shape[0])\n",
      "<ipython-input-13-fc7ab27f773a>:52: UserWarning: Boolean Series key will be reindexed to match DataFrame index.\n",
      "  alls.append(df_combine[df_combine.rsquare_x>PV_adult][df_combine.rsquare_y>PV_child].shape[0])\n",
      "<ipython-input-13-fc7ab27f773a>:53: UserWarning: Boolean Series key will be reindexed to match DataFrame index.\n",
      "  print(df_combine[df_combine.rsquare_x>PV_adult][df_combine.rsquare_y>PV_child].shape[0])\n"
     ]
    },
    {
     "name": "stdout",
     "output_type": "stream",
     "text": [
      "9\n",
      "13\n",
      "600\n",
      "18\n"
     ]
    },
    {
     "name": "stderr",
     "output_type": "stream",
     "text": [
      "<ipython-input-13-fc7ab27f773a>:52: UserWarning: Boolean Series key will be reindexed to match DataFrame index.\n",
      "  alls.append(df_combine[df_combine.rsquare_x>PV_adult][df_combine.rsquare_y>PV_child].shape[0])\n",
      "<ipython-input-13-fc7ab27f773a>:53: UserWarning: Boolean Series key will be reindexed to match DataFrame index.\n",
      "  print(df_combine[df_combine.rsquare_x>PV_adult][df_combine.rsquare_y>PV_child].shape[0])\n",
      "<ipython-input-13-fc7ab27f773a>:52: UserWarning: Boolean Series key will be reindexed to match DataFrame index.\n",
      "  alls.append(df_combine[df_combine.rsquare_x>PV_adult][df_combine.rsquare_y>PV_child].shape[0])\n",
      "<ipython-input-13-fc7ab27f773a>:53: UserWarning: Boolean Series key will be reindexed to match DataFrame index.\n",
      "  print(df_combine[df_combine.rsquare_x>PV_adult][df_combine.rsquare_y>PV_child].shape[0])\n",
      "<ipython-input-13-fc7ab27f773a>:52: UserWarning: Boolean Series key will be reindexed to match DataFrame index.\n",
      "  alls.append(df_combine[df_combine.rsquare_x>PV_adult][df_combine.rsquare_y>PV_child].shape[0])\n",
      "<ipython-input-13-fc7ab27f773a>:53: UserWarning: Boolean Series key will be reindexed to match DataFrame index.\n",
      "  print(df_combine[df_combine.rsquare_x>PV_adult][df_combine.rsquare_y>PV_child].shape[0])\n"
     ]
    },
    {
     "name": "stdout",
     "output_type": "stream",
     "text": [
      "26\n",
      "30\n"
     ]
    },
    {
     "name": "stderr",
     "output_type": "stream",
     "text": [
      "<ipython-input-13-fc7ab27f773a>:52: UserWarning: Boolean Series key will be reindexed to match DataFrame index.\n",
      "  alls.append(df_combine[df_combine.rsquare_x>PV_adult][df_combine.rsquare_y>PV_child].shape[0])\n",
      "<ipython-input-13-fc7ab27f773a>:53: UserWarning: Boolean Series key will be reindexed to match DataFrame index.\n",
      "  print(df_combine[df_combine.rsquare_x>PV_adult][df_combine.rsquare_y>PV_child].shape[0])\n",
      "<ipython-input-13-fc7ab27f773a>:52: UserWarning: Boolean Series key will be reindexed to match DataFrame index.\n",
      "  alls.append(df_combine[df_combine.rsquare_x>PV_adult][df_combine.rsquare_y>PV_child].shape[0])\n",
      "<ipython-input-13-fc7ab27f773a>:53: UserWarning: Boolean Series key will be reindexed to match DataFrame index.\n",
      "  print(df_combine[df_combine.rsquare_x>PV_adult][df_combine.rsquare_y>PV_child].shape[0])\n",
      "<ipython-input-13-fc7ab27f773a>:52: UserWarning: Boolean Series key will be reindexed to match DataFrame index.\n",
      "  alls.append(df_combine[df_combine.rsquare_x>PV_adult][df_combine.rsquare_y>PV_child].shape[0])\n",
      "<ipython-input-13-fc7ab27f773a>:53: UserWarning: Boolean Series key will be reindexed to match DataFrame index.\n",
      "  print(df_combine[df_combine.rsquare_x>PV_adult][df_combine.rsquare_y>PV_child].shape[0])\n"
     ]
    },
    {
     "name": "stdout",
     "output_type": "stream",
     "text": [
      "6\n",
      "24\n",
      "2\n",
      "9\n"
     ]
    },
    {
     "name": "stderr",
     "output_type": "stream",
     "text": [
      "<ipython-input-13-fc7ab27f773a>:52: UserWarning: Boolean Series key will be reindexed to match DataFrame index.\n",
      "  alls.append(df_combine[df_combine.rsquare_x>PV_adult][df_combine.rsquare_y>PV_child].shape[0])\n",
      "<ipython-input-13-fc7ab27f773a>:53: UserWarning: Boolean Series key will be reindexed to match DataFrame index.\n",
      "  print(df_combine[df_combine.rsquare_x>PV_adult][df_combine.rsquare_y>PV_child].shape[0])\n",
      "<ipython-input-13-fc7ab27f773a>:52: UserWarning: Boolean Series key will be reindexed to match DataFrame index.\n",
      "  alls.append(df_combine[df_combine.rsquare_x>PV_adult][df_combine.rsquare_y>PV_child].shape[0])\n",
      "<ipython-input-13-fc7ab27f773a>:53: UserWarning: Boolean Series key will be reindexed to match DataFrame index.\n",
      "  print(df_combine[df_combine.rsquare_x>PV_adult][df_combine.rsquare_y>PV_child].shape[0])\n",
      "<ipython-input-13-fc7ab27f773a>:52: UserWarning: Boolean Series key will be reindexed to match DataFrame index.\n",
      "  alls.append(df_combine[df_combine.rsquare_x>PV_adult][df_combine.rsquare_y>PV_child].shape[0])\n",
      "<ipython-input-13-fc7ab27f773a>:53: UserWarning: Boolean Series key will be reindexed to match DataFrame index.\n",
      "  print(df_combine[df_combine.rsquare_x>PV_adult][df_combine.rsquare_y>PV_child].shape[0])\n",
      "<ipython-input-13-fc7ab27f773a>:52: UserWarning: Boolean Series key will be reindexed to match DataFrame index.\n",
      "  alls.append(df_combine[df_combine.rsquare_x>PV_adult][df_combine.rsquare_y>PV_child].shape[0])\n",
      "<ipython-input-13-fc7ab27f773a>:53: UserWarning: Boolean Series key will be reindexed to match DataFrame index.\n",
      "  print(df_combine[df_combine.rsquare_x>PV_adult][df_combine.rsquare_y>PV_child].shape[0])\n"
     ]
    },
    {
     "name": "stdout",
     "output_type": "stream",
     "text": [
      "5\n",
      "1\n",
      "2\n",
      "0\n"
     ]
    },
    {
     "name": "stderr",
     "output_type": "stream",
     "text": [
      "<ipython-input-13-fc7ab27f773a>:52: UserWarning: Boolean Series key will be reindexed to match DataFrame index.\n",
      "  alls.append(df_combine[df_combine.rsquare_x>PV_adult][df_combine.rsquare_y>PV_child].shape[0])\n",
      "<ipython-input-13-fc7ab27f773a>:53: UserWarning: Boolean Series key will be reindexed to match DataFrame index.\n",
      "  print(df_combine[df_combine.rsquare_x>PV_adult][df_combine.rsquare_y>PV_child].shape[0])\n",
      "<ipython-input-13-fc7ab27f773a>:52: UserWarning: Boolean Series key will be reindexed to match DataFrame index.\n",
      "  alls.append(df_combine[df_combine.rsquare_x>PV_adult][df_combine.rsquare_y>PV_child].shape[0])\n",
      "<ipython-input-13-fc7ab27f773a>:53: UserWarning: Boolean Series key will be reindexed to match DataFrame index.\n",
      "  print(df_combine[df_combine.rsquare_x>PV_adult][df_combine.rsquare_y>PV_child].shape[0])\n",
      "<ipython-input-13-fc7ab27f773a>:52: UserWarning: Boolean Series key will be reindexed to match DataFrame index.\n",
      "  alls.append(df_combine[df_combine.rsquare_x>PV_adult][df_combine.rsquare_y>PV_child].shape[0])\n",
      "<ipython-input-13-fc7ab27f773a>:53: UserWarning: Boolean Series key will be reindexed to match DataFrame index.\n",
      "  print(df_combine[df_combine.rsquare_x>PV_adult][df_combine.rsquare_y>PV_child].shape[0])\n"
     ]
    },
    {
     "name": "stdout",
     "output_type": "stream",
     "text": [
      "0\n",
      "33\n",
      "2\n",
      "1\n"
     ]
    },
    {
     "name": "stderr",
     "output_type": "stream",
     "text": [
      "<ipython-input-13-fc7ab27f773a>:52: UserWarning: Boolean Series key will be reindexed to match DataFrame index.\n",
      "  alls.append(df_combine[df_combine.rsquare_x>PV_adult][df_combine.rsquare_y>PV_child].shape[0])\n",
      "<ipython-input-13-fc7ab27f773a>:53: UserWarning: Boolean Series key will be reindexed to match DataFrame index.\n",
      "  print(df_combine[df_combine.rsquare_x>PV_adult][df_combine.rsquare_y>PV_child].shape[0])\n",
      "<ipython-input-13-fc7ab27f773a>:52: UserWarning: Boolean Series key will be reindexed to match DataFrame index.\n",
      "  alls.append(df_combine[df_combine.rsquare_x>PV_adult][df_combine.rsquare_y>PV_child].shape[0])\n",
      "<ipython-input-13-fc7ab27f773a>:53: UserWarning: Boolean Series key will be reindexed to match DataFrame index.\n",
      "  print(df_combine[df_combine.rsquare_x>PV_adult][df_combine.rsquare_y>PV_child].shape[0])\n",
      "<ipython-input-13-fc7ab27f773a>:52: UserWarning: Boolean Series key will be reindexed to match DataFrame index.\n",
      "  alls.append(df_combine[df_combine.rsquare_x>PV_adult][df_combine.rsquare_y>PV_child].shape[0])\n",
      "<ipython-input-13-fc7ab27f773a>:53: UserWarning: Boolean Series key will be reindexed to match DataFrame index.\n",
      "  print(df_combine[df_combine.rsquare_x>PV_adult][df_combine.rsquare_y>PV_child].shape[0])\n",
      "<ipython-input-13-fc7ab27f773a>:52: UserWarning: Boolean Series key will be reindexed to match DataFrame index.\n",
      "  alls.append(df_combine[df_combine.rsquare_x>PV_adult][df_combine.rsquare_y>PV_child].shape[0])\n",
      "<ipython-input-13-fc7ab27f773a>:53: UserWarning: Boolean Series key will be reindexed to match DataFrame index.\n",
      "  print(df_combine[df_combine.rsquare_x>PV_adult][df_combine.rsquare_y>PV_child].shape[0])\n",
      "<ipython-input-13-fc7ab27f773a>:52: UserWarning: Boolean Series key will be reindexed to match DataFrame index.\n",
      "  alls.append(df_combine[df_combine.rsquare_x>PV_adult][df_combine.rsquare_y>PV_child].shape[0])\n",
      "<ipython-input-13-fc7ab27f773a>:53: UserWarning: Boolean Series key will be reindexed to match DataFrame index.\n",
      "  print(df_combine[df_combine.rsquare_x>PV_adult][df_combine.rsquare_y>PV_child].shape[0])\n"
     ]
    },
    {
     "name": "stdout",
     "output_type": "stream",
     "text": [
      "0\n",
      "0\n",
      "13\n"
     ]
    },
    {
     "name": "stderr",
     "output_type": "stream",
     "text": [
      "<ipython-input-13-fc7ab27f773a>:52: UserWarning: Boolean Series key will be reindexed to match DataFrame index.\n",
      "  alls.append(df_combine[df_combine.rsquare_x>PV_adult][df_combine.rsquare_y>PV_child].shape[0])\n",
      "<ipython-input-13-fc7ab27f773a>:53: UserWarning: Boolean Series key will be reindexed to match DataFrame index.\n",
      "  print(df_combine[df_combine.rsquare_x>PV_adult][df_combine.rsquare_y>PV_child].shape[0])\n",
      "<ipython-input-13-fc7ab27f773a>:52: UserWarning: Boolean Series key will be reindexed to match DataFrame index.\n",
      "  alls.append(df_combine[df_combine.rsquare_x>PV_adult][df_combine.rsquare_y>PV_child].shape[0])\n",
      "<ipython-input-13-fc7ab27f773a>:53: UserWarning: Boolean Series key will be reindexed to match DataFrame index.\n",
      "  print(df_combine[df_combine.rsquare_x>PV_adult][df_combine.rsquare_y>PV_child].shape[0])\n",
      "<ipython-input-13-fc7ab27f773a>:52: UserWarning: Boolean Series key will be reindexed to match DataFrame index.\n",
      "  alls.append(df_combine[df_combine.rsquare_x>PV_adult][df_combine.rsquare_y>PV_child].shape[0])\n",
      "<ipython-input-13-fc7ab27f773a>:53: UserWarning: Boolean Series key will be reindexed to match DataFrame index.\n",
      "  print(df_combine[df_combine.rsquare_x>PV_adult][df_combine.rsquare_y>PV_child].shape[0])\n",
      "<ipython-input-13-fc7ab27f773a>:52: UserWarning: Boolean Series key will be reindexed to match DataFrame index.\n",
      "  alls.append(df_combine[df_combine.rsquare_x>PV_adult][df_combine.rsquare_y>PV_child].shape[0])\n",
      "<ipython-input-13-fc7ab27f773a>:53: UserWarning: Boolean Series key will be reindexed to match DataFrame index.\n",
      "  print(df_combine[df_combine.rsquare_x>PV_adult][df_combine.rsquare_y>PV_child].shape[0])\n",
      "<ipython-input-13-fc7ab27f773a>:52: UserWarning: Boolean Series key will be reindexed to match DataFrame index.\n",
      "  alls.append(df_combine[df_combine.rsquare_x>PV_adult][df_combine.rsquare_y>PV_child].shape[0])\n",
      "<ipython-input-13-fc7ab27f773a>:53: UserWarning: Boolean Series key will be reindexed to match DataFrame index.\n",
      "  print(df_combine[df_combine.rsquare_x>PV_adult][df_combine.rsquare_y>PV_child].shape[0])\n"
     ]
    },
    {
     "name": "stdout",
     "output_type": "stream",
     "text": [
      "0\n",
      "31\n",
      "11\n",
      "12\n",
      "7\n",
      "1\n"
     ]
    },
    {
     "name": "stderr",
     "output_type": "stream",
     "text": [
      "<ipython-input-13-fc7ab27f773a>:52: UserWarning: Boolean Series key will be reindexed to match DataFrame index.\n",
      "  alls.append(df_combine[df_combine.rsquare_x>PV_adult][df_combine.rsquare_y>PV_child].shape[0])\n",
      "<ipython-input-13-fc7ab27f773a>:53: UserWarning: Boolean Series key will be reindexed to match DataFrame index.\n",
      "  print(df_combine[df_combine.rsquare_x>PV_adult][df_combine.rsquare_y>PV_child].shape[0])\n",
      "<ipython-input-13-fc7ab27f773a>:52: UserWarning: Boolean Series key will be reindexed to match DataFrame index.\n",
      "  alls.append(df_combine[df_combine.rsquare_x>PV_adult][df_combine.rsquare_y>PV_child].shape[0])\n",
      "<ipython-input-13-fc7ab27f773a>:53: UserWarning: Boolean Series key will be reindexed to match DataFrame index.\n",
      "  print(df_combine[df_combine.rsquare_x>PV_adult][df_combine.rsquare_y>PV_child].shape[0])\n",
      "<ipython-input-13-fc7ab27f773a>:52: UserWarning: Boolean Series key will be reindexed to match DataFrame index.\n",
      "  alls.append(df_combine[df_combine.rsquare_x>PV_adult][df_combine.rsquare_y>PV_child].shape[0])\n",
      "<ipython-input-13-fc7ab27f773a>:53: UserWarning: Boolean Series key will be reindexed to match DataFrame index.\n",
      "  print(df_combine[df_combine.rsquare_x>PV_adult][df_combine.rsquare_y>PV_child].shape[0])\n",
      "<ipython-input-13-fc7ab27f773a>:52: UserWarning: Boolean Series key will be reindexed to match DataFrame index.\n",
      "  alls.append(df_combine[df_combine.rsquare_x>PV_adult][df_combine.rsquare_y>PV_child].shape[0])\n",
      "<ipython-input-13-fc7ab27f773a>:53: UserWarning: Boolean Series key will be reindexed to match DataFrame index.\n",
      "  print(df_combine[df_combine.rsquare_x>PV_adult][df_combine.rsquare_y>PV_child].shape[0])\n",
      "<ipython-input-13-fc7ab27f773a>:52: UserWarning: Boolean Series key will be reindexed to match DataFrame index.\n",
      "  alls.append(df_combine[df_combine.rsquare_x>PV_adult][df_combine.rsquare_y>PV_child].shape[0])\n",
      "<ipython-input-13-fc7ab27f773a>:53: UserWarning: Boolean Series key will be reindexed to match DataFrame index.\n",
      "  print(df_combine[df_combine.rsquare_x>PV_adult][df_combine.rsquare_y>PV_child].shape[0])\n"
     ]
    },
    {
     "name": "stdout",
     "output_type": "stream",
     "text": [
      "19\n",
      "4\n",
      "6\n",
      "15\n"
     ]
    },
    {
     "name": "stderr",
     "output_type": "stream",
     "text": [
      "<ipython-input-13-fc7ab27f773a>:52: UserWarning: Boolean Series key will be reindexed to match DataFrame index.\n",
      "  alls.append(df_combine[df_combine.rsquare_x>PV_adult][df_combine.rsquare_y>PV_child].shape[0])\n",
      "<ipython-input-13-fc7ab27f773a>:53: UserWarning: Boolean Series key will be reindexed to match DataFrame index.\n",
      "  print(df_combine[df_combine.rsquare_x>PV_adult][df_combine.rsquare_y>PV_child].shape[0])\n",
      "<ipython-input-13-fc7ab27f773a>:52: UserWarning: Boolean Series key will be reindexed to match DataFrame index.\n",
      "  alls.append(df_combine[df_combine.rsquare_x>PV_adult][df_combine.rsquare_y>PV_child].shape[0])\n",
      "<ipython-input-13-fc7ab27f773a>:53: UserWarning: Boolean Series key will be reindexed to match DataFrame index.\n",
      "  print(df_combine[df_combine.rsquare_x>PV_adult][df_combine.rsquare_y>PV_child].shape[0])\n",
      "<ipython-input-13-fc7ab27f773a>:52: UserWarning: Boolean Series key will be reindexed to match DataFrame index.\n",
      "  alls.append(df_combine[df_combine.rsquare_x>PV_adult][df_combine.rsquare_y>PV_child].shape[0])\n",
      "<ipython-input-13-fc7ab27f773a>:53: UserWarning: Boolean Series key will be reindexed to match DataFrame index.\n",
      "  print(df_combine[df_combine.rsquare_x>PV_adult][df_combine.rsquare_y>PV_child].shape[0])\n"
     ]
    },
    {
     "name": "stdout",
     "output_type": "stream",
     "text": [
      "0\n",
      "0\n",
      "15\n"
     ]
    },
    {
     "name": "stderr",
     "output_type": "stream",
     "text": [
      "<ipython-input-13-fc7ab27f773a>:52: UserWarning: Boolean Series key will be reindexed to match DataFrame index.\n",
      "  alls.append(df_combine[df_combine.rsquare_x>PV_adult][df_combine.rsquare_y>PV_child].shape[0])\n",
      "<ipython-input-13-fc7ab27f773a>:53: UserWarning: Boolean Series key will be reindexed to match DataFrame index.\n",
      "  print(df_combine[df_combine.rsquare_x>PV_adult][df_combine.rsquare_y>PV_child].shape[0])\n",
      "<ipython-input-13-fc7ab27f773a>:52: UserWarning: Boolean Series key will be reindexed to match DataFrame index.\n",
      "  alls.append(df_combine[df_combine.rsquare_x>PV_adult][df_combine.rsquare_y>PV_child].shape[0])\n",
      "<ipython-input-13-fc7ab27f773a>:53: UserWarning: Boolean Series key will be reindexed to match DataFrame index.\n",
      "  print(df_combine[df_combine.rsquare_x>PV_adult][df_combine.rsquare_y>PV_child].shape[0])\n",
      "<ipython-input-13-fc7ab27f773a>:52: UserWarning: Boolean Series key will be reindexed to match DataFrame index.\n",
      "  alls.append(df_combine[df_combine.rsquare_x>PV_adult][df_combine.rsquare_y>PV_child].shape[0])\n",
      "<ipython-input-13-fc7ab27f773a>:53: UserWarning: Boolean Series key will be reindexed to match DataFrame index.\n",
      "  print(df_combine[df_combine.rsquare_x>PV_adult][df_combine.rsquare_y>PV_child].shape[0])\n",
      "<ipython-input-13-fc7ab27f773a>:52: UserWarning: Boolean Series key will be reindexed to match DataFrame index.\n",
      "  alls.append(df_combine[df_combine.rsquare_x>PV_adult][df_combine.rsquare_y>PV_child].shape[0])\n"
     ]
    },
    {
     "name": "stdout",
     "output_type": "stream",
     "text": [
      "4\n",
      "7\n",
      "23\n",
      "4\n",
      "23\n"
     ]
    },
    {
     "name": "stderr",
     "output_type": "stream",
     "text": [
      "<ipython-input-13-fc7ab27f773a>:53: UserWarning: Boolean Series key will be reindexed to match DataFrame index.\n",
      "  print(df_combine[df_combine.rsquare_x>PV_adult][df_combine.rsquare_y>PV_child].shape[0])\n",
      "<ipython-input-13-fc7ab27f773a>:52: UserWarning: Boolean Series key will be reindexed to match DataFrame index.\n",
      "  alls.append(df_combine[df_combine.rsquare_x>PV_adult][df_combine.rsquare_y>PV_child].shape[0])\n",
      "<ipython-input-13-fc7ab27f773a>:53: UserWarning: Boolean Series key will be reindexed to match DataFrame index.\n",
      "  print(df_combine[df_combine.rsquare_x>PV_adult][df_combine.rsquare_y>PV_child].shape[0])\n",
      "<ipython-input-13-fc7ab27f773a>:52: UserWarning: Boolean Series key will be reindexed to match DataFrame index.\n",
      "  alls.append(df_combine[df_combine.rsquare_x>PV_adult][df_combine.rsquare_y>PV_child].shape[0])\n",
      "<ipython-input-13-fc7ab27f773a>:53: UserWarning: Boolean Series key will be reindexed to match DataFrame index.\n",
      "  print(df_combine[df_combine.rsquare_x>PV_adult][df_combine.rsquare_y>PV_child].shape[0])\n",
      "<ipython-input-13-fc7ab27f773a>:52: UserWarning: Boolean Series key will be reindexed to match DataFrame index.\n",
      "  alls.append(df_combine[df_combine.rsquare_x>PV_adult][df_combine.rsquare_y>PV_child].shape[0])\n",
      "<ipython-input-13-fc7ab27f773a>:53: UserWarning: Boolean Series key will be reindexed to match DataFrame index.\n",
      "  print(df_combine[df_combine.rsquare_x>PV_adult][df_combine.rsquare_y>PV_child].shape[0])\n"
     ]
    },
    {
     "name": "stdout",
     "output_type": "stream",
     "text": [
      "4\n",
      "12\n",
      "15\n"
     ]
    },
    {
     "name": "stderr",
     "output_type": "stream",
     "text": [
      "<ipython-input-13-fc7ab27f773a>:52: UserWarning: Boolean Series key will be reindexed to match DataFrame index.\n",
      "  alls.append(df_combine[df_combine.rsquare_x>PV_adult][df_combine.rsquare_y>PV_child].shape[0])\n",
      "<ipython-input-13-fc7ab27f773a>:53: UserWarning: Boolean Series key will be reindexed to match DataFrame index.\n",
      "  print(df_combine[df_combine.rsquare_x>PV_adult][df_combine.rsquare_y>PV_child].shape[0])\n",
      "<ipython-input-13-fc7ab27f773a>:52: UserWarning: Boolean Series key will be reindexed to match DataFrame index.\n",
      "  alls.append(df_combine[df_combine.rsquare_x>PV_adult][df_combine.rsquare_y>PV_child].shape[0])\n",
      "<ipython-input-13-fc7ab27f773a>:53: UserWarning: Boolean Series key will be reindexed to match DataFrame index.\n",
      "  print(df_combine[df_combine.rsquare_x>PV_adult][df_combine.rsquare_y>PV_child].shape[0])\n",
      "<ipython-input-13-fc7ab27f773a>:52: UserWarning: Boolean Series key will be reindexed to match DataFrame index.\n",
      "  alls.append(df_combine[df_combine.rsquare_x>PV_adult][df_combine.rsquare_y>PV_child].shape[0])\n",
      "<ipython-input-13-fc7ab27f773a>:53: UserWarning: Boolean Series key will be reindexed to match DataFrame index.\n",
      "  print(df_combine[df_combine.rsquare_x>PV_adult][df_combine.rsquare_y>PV_child].shape[0])\n",
      "<ipython-input-13-fc7ab27f773a>:52: UserWarning: Boolean Series key will be reindexed to match DataFrame index.\n",
      "  alls.append(df_combine[df_combine.rsquare_x>PV_adult][df_combine.rsquare_y>PV_child].shape[0])\n",
      "<ipython-input-13-fc7ab27f773a>:53: UserWarning: Boolean Series key will be reindexed to match DataFrame index.\n",
      "  print(df_combine[df_combine.rsquare_x>PV_adult][df_combine.rsquare_y>PV_child].shape[0])\n"
     ]
    },
    {
     "name": "stdout",
     "output_type": "stream",
     "text": [
      "0\n",
      "19\n"
     ]
    },
    {
     "name": "stderr",
     "output_type": "stream",
     "text": [
      "<ipython-input-13-fc7ab27f773a>:52: UserWarning: Boolean Series key will be reindexed to match DataFrame index.\n",
      "  alls.append(df_combine[df_combine.rsquare_x>PV_adult][df_combine.rsquare_y>PV_child].shape[0])\n",
      "<ipython-input-13-fc7ab27f773a>:53: UserWarning: Boolean Series key will be reindexed to match DataFrame index.\n",
      "  print(df_combine[df_combine.rsquare_x>PV_adult][df_combine.rsquare_y>PV_child].shape[0])\n",
      "<ipython-input-13-fc7ab27f773a>:52: UserWarning: Boolean Series key will be reindexed to match DataFrame index.\n",
      "  alls.append(df_combine[df_combine.rsquare_x>PV_adult][df_combine.rsquare_y>PV_child].shape[0])\n",
      "<ipython-input-13-fc7ab27f773a>:53: UserWarning: Boolean Series key will be reindexed to match DataFrame index.\n",
      "  print(df_combine[df_combine.rsquare_x>PV_adult][df_combine.rsquare_y>PV_child].shape[0])\n",
      "<ipython-input-13-fc7ab27f773a>:52: UserWarning: Boolean Series key will be reindexed to match DataFrame index.\n",
      "  alls.append(df_combine[df_combine.rsquare_x>PV_adult][df_combine.rsquare_y>PV_child].shape[0])\n",
      "<ipython-input-13-fc7ab27f773a>:53: UserWarning: Boolean Series key will be reindexed to match DataFrame index.\n",
      "  print(df_combine[df_combine.rsquare_x>PV_adult][df_combine.rsquare_y>PV_child].shape[0])\n",
      "<ipython-input-13-fc7ab27f773a>:52: UserWarning: Boolean Series key will be reindexed to match DataFrame index.\n",
      "  alls.append(df_combine[df_combine.rsquare_x>PV_adult][df_combine.rsquare_y>PV_child].shape[0])\n",
      "<ipython-input-13-fc7ab27f773a>:53: UserWarning: Boolean Series key will be reindexed to match DataFrame index.\n",
      "  print(df_combine[df_combine.rsquare_x>PV_adult][df_combine.rsquare_y>PV_child].shape[0])\n"
     ]
    },
    {
     "name": "stdout",
     "output_type": "stream",
     "text": [
      "1\n",
      "11\n",
      "1\n",
      "29\n"
     ]
    },
    {
     "name": "stderr",
     "output_type": "stream",
     "text": [
      "<ipython-input-13-fc7ab27f773a>:52: UserWarning: Boolean Series key will be reindexed to match DataFrame index.\n",
      "  alls.append(df_combine[df_combine.rsquare_x>PV_adult][df_combine.rsquare_y>PV_child].shape[0])\n",
      "<ipython-input-13-fc7ab27f773a>:53: UserWarning: Boolean Series key will be reindexed to match DataFrame index.\n",
      "  print(df_combine[df_combine.rsquare_x>PV_adult][df_combine.rsquare_y>PV_child].shape[0])\n",
      "<ipython-input-13-fc7ab27f773a>:52: UserWarning: Boolean Series key will be reindexed to match DataFrame index.\n",
      "  alls.append(df_combine[df_combine.rsquare_x>PV_adult][df_combine.rsquare_y>PV_child].shape[0])\n",
      "<ipython-input-13-fc7ab27f773a>:53: UserWarning: Boolean Series key will be reindexed to match DataFrame index.\n",
      "  print(df_combine[df_combine.rsquare_x>PV_adult][df_combine.rsquare_y>PV_child].shape[0])\n"
     ]
    },
    {
     "name": "stdout",
     "output_type": "stream",
     "text": [
      "9\n",
      "1\n"
     ]
    },
    {
     "name": "stderr",
     "output_type": "stream",
     "text": [
      "<ipython-input-13-fc7ab27f773a>:52: UserWarning: Boolean Series key will be reindexed to match DataFrame index.\n",
      "  alls.append(df_combine[df_combine.rsquare_x>PV_adult][df_combine.rsquare_y>PV_child].shape[0])\n",
      "<ipython-input-13-fc7ab27f773a>:53: UserWarning: Boolean Series key will be reindexed to match DataFrame index.\n",
      "  print(df_combine[df_combine.rsquare_x>PV_adult][df_combine.rsquare_y>PV_child].shape[0])\n",
      "<ipython-input-13-fc7ab27f773a>:52: UserWarning: Boolean Series key will be reindexed to match DataFrame index.\n",
      "  alls.append(df_combine[df_combine.rsquare_x>PV_adult][df_combine.rsquare_y>PV_child].shape[0])\n",
      "<ipython-input-13-fc7ab27f773a>:53: UserWarning: Boolean Series key will be reindexed to match DataFrame index.\n",
      "  print(df_combine[df_combine.rsquare_x>PV_adult][df_combine.rsquare_y>PV_child].shape[0])\n",
      "<ipython-input-13-fc7ab27f773a>:52: UserWarning: Boolean Series key will be reindexed to match DataFrame index.\n",
      "  alls.append(df_combine[df_combine.rsquare_x>PV_adult][df_combine.rsquare_y>PV_child].shape[0])\n",
      "<ipython-input-13-fc7ab27f773a>:53: UserWarning: Boolean Series key will be reindexed to match DataFrame index.\n",
      "  print(df_combine[df_combine.rsquare_x>PV_adult][df_combine.rsquare_y>PV_child].shape[0])\n",
      "<ipython-input-13-fc7ab27f773a>:52: UserWarning: Boolean Series key will be reindexed to match DataFrame index.\n",
      "  alls.append(df_combine[df_combine.rsquare_x>PV_adult][df_combine.rsquare_y>PV_child].shape[0])\n",
      "<ipython-input-13-fc7ab27f773a>:53: UserWarning: Boolean Series key will be reindexed to match DataFrame index.\n",
      "  print(df_combine[df_combine.rsquare_x>PV_adult][df_combine.rsquare_y>PV_child].shape[0])\n",
      "<ipython-input-13-fc7ab27f773a>:52: UserWarning: Boolean Series key will be reindexed to match DataFrame index.\n",
      "  alls.append(df_combine[df_combine.rsquare_x>PV_adult][df_combine.rsquare_y>PV_child].shape[0])\n"
     ]
    },
    {
     "name": "stdout",
     "output_type": "stream",
     "text": [
      "10\n",
      "0\n",
      "13\n",
      "650\n",
      "10\n"
     ]
    },
    {
     "name": "stderr",
     "output_type": "stream",
     "text": [
      "<ipython-input-13-fc7ab27f773a>:53: UserWarning: Boolean Series key will be reindexed to match DataFrame index.\n",
      "  print(df_combine[df_combine.rsquare_x>PV_adult][df_combine.rsquare_y>PV_child].shape[0])\n",
      "<ipython-input-13-fc7ab27f773a>:52: UserWarning: Boolean Series key will be reindexed to match DataFrame index.\n",
      "  alls.append(df_combine[df_combine.rsquare_x>PV_adult][df_combine.rsquare_y>PV_child].shape[0])\n",
      "<ipython-input-13-fc7ab27f773a>:53: UserWarning: Boolean Series key will be reindexed to match DataFrame index.\n",
      "  print(df_combine[df_combine.rsquare_x>PV_adult][df_combine.rsquare_y>PV_child].shape[0])\n",
      "<ipython-input-13-fc7ab27f773a>:52: UserWarning: Boolean Series key will be reindexed to match DataFrame index.\n",
      "  alls.append(df_combine[df_combine.rsquare_x>PV_adult][df_combine.rsquare_y>PV_child].shape[0])\n",
      "<ipython-input-13-fc7ab27f773a>:53: UserWarning: Boolean Series key will be reindexed to match DataFrame index.\n",
      "  print(df_combine[df_combine.rsquare_x>PV_adult][df_combine.rsquare_y>PV_child].shape[0])\n",
      "<ipython-input-13-fc7ab27f773a>:52: UserWarning: Boolean Series key will be reindexed to match DataFrame index.\n",
      "  alls.append(df_combine[df_combine.rsquare_x>PV_adult][df_combine.rsquare_y>PV_child].shape[0])\n",
      "<ipython-input-13-fc7ab27f773a>:53: UserWarning: Boolean Series key will be reindexed to match DataFrame index.\n",
      "  print(df_combine[df_combine.rsquare_x>PV_adult][df_combine.rsquare_y>PV_child].shape[0])\n",
      "<ipython-input-13-fc7ab27f773a>:52: UserWarning: Boolean Series key will be reindexed to match DataFrame index.\n",
      "  alls.append(df_combine[df_combine.rsquare_x>PV_adult][df_combine.rsquare_y>PV_child].shape[0])\n"
     ]
    },
    {
     "name": "stdout",
     "output_type": "stream",
     "text": [
      "1\n",
      "14\n",
      "11\n",
      "3\n"
     ]
    },
    {
     "name": "stderr",
     "output_type": "stream",
     "text": [
      "<ipython-input-13-fc7ab27f773a>:53: UserWarning: Boolean Series key will be reindexed to match DataFrame index.\n",
      "  print(df_combine[df_combine.rsquare_x>PV_adult][df_combine.rsquare_y>PV_child].shape[0])\n",
      "<ipython-input-13-fc7ab27f773a>:52: UserWarning: Boolean Series key will be reindexed to match DataFrame index.\n",
      "  alls.append(df_combine[df_combine.rsquare_x>PV_adult][df_combine.rsquare_y>PV_child].shape[0])\n",
      "<ipython-input-13-fc7ab27f773a>:53: UserWarning: Boolean Series key will be reindexed to match DataFrame index.\n",
      "  print(df_combine[df_combine.rsquare_x>PV_adult][df_combine.rsquare_y>PV_child].shape[0])\n",
      "<ipython-input-13-fc7ab27f773a>:52: UserWarning: Boolean Series key will be reindexed to match DataFrame index.\n",
      "  alls.append(df_combine[df_combine.rsquare_x>PV_adult][df_combine.rsquare_y>PV_child].shape[0])\n",
      "<ipython-input-13-fc7ab27f773a>:53: UserWarning: Boolean Series key will be reindexed to match DataFrame index.\n",
      "  print(df_combine[df_combine.rsquare_x>PV_adult][df_combine.rsquare_y>PV_child].shape[0])\n"
     ]
    },
    {
     "name": "stdout",
     "output_type": "stream",
     "text": [
      "15\n",
      "2\n",
      "2\n"
     ]
    },
    {
     "name": "stderr",
     "output_type": "stream",
     "text": [
      "<ipython-input-13-fc7ab27f773a>:52: UserWarning: Boolean Series key will be reindexed to match DataFrame index.\n",
      "  alls.append(df_combine[df_combine.rsquare_x>PV_adult][df_combine.rsquare_y>PV_child].shape[0])\n",
      "<ipython-input-13-fc7ab27f773a>:53: UserWarning: Boolean Series key will be reindexed to match DataFrame index.\n",
      "  print(df_combine[df_combine.rsquare_x>PV_adult][df_combine.rsquare_y>PV_child].shape[0])\n",
      "<ipython-input-13-fc7ab27f773a>:52: UserWarning: Boolean Series key will be reindexed to match DataFrame index.\n",
      "  alls.append(df_combine[df_combine.rsquare_x>PV_adult][df_combine.rsquare_y>PV_child].shape[0])\n",
      "<ipython-input-13-fc7ab27f773a>:53: UserWarning: Boolean Series key will be reindexed to match DataFrame index.\n",
      "  print(df_combine[df_combine.rsquare_x>PV_adult][df_combine.rsquare_y>PV_child].shape[0])\n"
     ]
    },
    {
     "name": "stdout",
     "output_type": "stream",
     "text": [
      "2\n",
      "6\n"
     ]
    },
    {
     "name": "stderr",
     "output_type": "stream",
     "text": [
      "<ipython-input-13-fc7ab27f773a>:52: UserWarning: Boolean Series key will be reindexed to match DataFrame index.\n",
      "  alls.append(df_combine[df_combine.rsquare_x>PV_adult][df_combine.rsquare_y>PV_child].shape[0])\n",
      "<ipython-input-13-fc7ab27f773a>:53: UserWarning: Boolean Series key will be reindexed to match DataFrame index.\n",
      "  print(df_combine[df_combine.rsquare_x>PV_adult][df_combine.rsquare_y>PV_child].shape[0])\n",
      "<ipython-input-13-fc7ab27f773a>:52: UserWarning: Boolean Series key will be reindexed to match DataFrame index.\n",
      "  alls.append(df_combine[df_combine.rsquare_x>PV_adult][df_combine.rsquare_y>PV_child].shape[0])\n",
      "<ipython-input-13-fc7ab27f773a>:53: UserWarning: Boolean Series key will be reindexed to match DataFrame index.\n",
      "  print(df_combine[df_combine.rsquare_x>PV_adult][df_combine.rsquare_y>PV_child].shape[0])\n",
      "<ipython-input-13-fc7ab27f773a>:52: UserWarning: Boolean Series key will be reindexed to match DataFrame index.\n",
      "  alls.append(df_combine[df_combine.rsquare_x>PV_adult][df_combine.rsquare_y>PV_child].shape[0])\n",
      "<ipython-input-13-fc7ab27f773a>:53: UserWarning: Boolean Series key will be reindexed to match DataFrame index.\n",
      "  print(df_combine[df_combine.rsquare_x>PV_adult][df_combine.rsquare_y>PV_child].shape[0])\n",
      "<ipython-input-13-fc7ab27f773a>:52: UserWarning: Boolean Series key will be reindexed to match DataFrame index.\n",
      "  alls.append(df_combine[df_combine.rsquare_x>PV_adult][df_combine.rsquare_y>PV_child].shape[0])\n",
      "<ipython-input-13-fc7ab27f773a>:53: UserWarning: Boolean Series key will be reindexed to match DataFrame index.\n",
      "  print(df_combine[df_combine.rsquare_x>PV_adult][df_combine.rsquare_y>PV_child].shape[0])\n",
      "<ipython-input-13-fc7ab27f773a>:52: UserWarning: Boolean Series key will be reindexed to match DataFrame index.\n",
      "  alls.append(df_combine[df_combine.rsquare_x>PV_adult][df_combine.rsquare_y>PV_child].shape[0])\n"
     ]
    },
    {
     "name": "stdout",
     "output_type": "stream",
     "text": [
      "3\n",
      "31\n",
      "8\n",
      "25\n"
     ]
    },
    {
     "name": "stderr",
     "output_type": "stream",
     "text": [
      "<ipython-input-13-fc7ab27f773a>:53: UserWarning: Boolean Series key will be reindexed to match DataFrame index.\n",
      "  print(df_combine[df_combine.rsquare_x>PV_adult][df_combine.rsquare_y>PV_child].shape[0])\n",
      "<ipython-input-13-fc7ab27f773a>:52: UserWarning: Boolean Series key will be reindexed to match DataFrame index.\n",
      "  alls.append(df_combine[df_combine.rsquare_x>PV_adult][df_combine.rsquare_y>PV_child].shape[0])\n",
      "<ipython-input-13-fc7ab27f773a>:53: UserWarning: Boolean Series key will be reindexed to match DataFrame index.\n",
      "  print(df_combine[df_combine.rsquare_x>PV_adult][df_combine.rsquare_y>PV_child].shape[0])\n",
      "<ipython-input-13-fc7ab27f773a>:52: UserWarning: Boolean Series key will be reindexed to match DataFrame index.\n",
      "  alls.append(df_combine[df_combine.rsquare_x>PV_adult][df_combine.rsquare_y>PV_child].shape[0])\n",
      "<ipython-input-13-fc7ab27f773a>:53: UserWarning: Boolean Series key will be reindexed to match DataFrame index.\n",
      "  print(df_combine[df_combine.rsquare_x>PV_adult][df_combine.rsquare_y>PV_child].shape[0])\n",
      "<ipython-input-13-fc7ab27f773a>:52: UserWarning: Boolean Series key will be reindexed to match DataFrame index.\n",
      "  alls.append(df_combine[df_combine.rsquare_x>PV_adult][df_combine.rsquare_y>PV_child].shape[0])\n",
      "<ipython-input-13-fc7ab27f773a>:53: UserWarning: Boolean Series key will be reindexed to match DataFrame index.\n",
      "  print(df_combine[df_combine.rsquare_x>PV_adult][df_combine.rsquare_y>PV_child].shape[0])\n",
      "<ipython-input-13-fc7ab27f773a>:52: UserWarning: Boolean Series key will be reindexed to match DataFrame index.\n",
      "  alls.append(df_combine[df_combine.rsquare_x>PV_adult][df_combine.rsquare_y>PV_child].shape[0])\n",
      "<ipython-input-13-fc7ab27f773a>:53: UserWarning: Boolean Series key will be reindexed to match DataFrame index.\n",
      "  print(df_combine[df_combine.rsquare_x>PV_adult][df_combine.rsquare_y>PV_child].shape[0])\n",
      "<ipython-input-13-fc7ab27f773a>:52: UserWarning: Boolean Series key will be reindexed to match DataFrame index.\n",
      "  alls.append(df_combine[df_combine.rsquare_x>PV_adult][df_combine.rsquare_y>PV_child].shape[0])\n",
      "<ipython-input-13-fc7ab27f773a>:53: UserWarning: Boolean Series key will be reindexed to match DataFrame index.\n",
      "  print(df_combine[df_combine.rsquare_x>PV_adult][df_combine.rsquare_y>PV_child].shape[0])\n"
     ]
    },
    {
     "name": "stdout",
     "output_type": "stream",
     "text": [
      "12\n",
      "2\n",
      "2\n",
      "8\n",
      "7\n",
      "26\n",
      "0\n",
      "0\n"
     ]
    },
    {
     "name": "stderr",
     "output_type": "stream",
     "text": [
      "<ipython-input-13-fc7ab27f773a>:52: UserWarning: Boolean Series key will be reindexed to match DataFrame index.\n",
      "  alls.append(df_combine[df_combine.rsquare_x>PV_adult][df_combine.rsquare_y>PV_child].shape[0])\n",
      "<ipython-input-13-fc7ab27f773a>:53: UserWarning: Boolean Series key will be reindexed to match DataFrame index.\n",
      "  print(df_combine[df_combine.rsquare_x>PV_adult][df_combine.rsquare_y>PV_child].shape[0])\n",
      "<ipython-input-13-fc7ab27f773a>:52: UserWarning: Boolean Series key will be reindexed to match DataFrame index.\n",
      "  alls.append(df_combine[df_combine.rsquare_x>PV_adult][df_combine.rsquare_y>PV_child].shape[0])\n",
      "<ipython-input-13-fc7ab27f773a>:53: UserWarning: Boolean Series key will be reindexed to match DataFrame index.\n",
      "  print(df_combine[df_combine.rsquare_x>PV_adult][df_combine.rsquare_y>PV_child].shape[0])\n",
      "<ipython-input-13-fc7ab27f773a>:52: UserWarning: Boolean Series key will be reindexed to match DataFrame index.\n",
      "  alls.append(df_combine[df_combine.rsquare_x>PV_adult][df_combine.rsquare_y>PV_child].shape[0])\n",
      "<ipython-input-13-fc7ab27f773a>:53: UserWarning: Boolean Series key will be reindexed to match DataFrame index.\n",
      "  print(df_combine[df_combine.rsquare_x>PV_adult][df_combine.rsquare_y>PV_child].shape[0])\n",
      "<ipython-input-13-fc7ab27f773a>:52: UserWarning: Boolean Series key will be reindexed to match DataFrame index.\n",
      "  alls.append(df_combine[df_combine.rsquare_x>PV_adult][df_combine.rsquare_y>PV_child].shape[0])\n",
      "<ipython-input-13-fc7ab27f773a>:53: UserWarning: Boolean Series key will be reindexed to match DataFrame index.\n",
      "  print(df_combine[df_combine.rsquare_x>PV_adult][df_combine.rsquare_y>PV_child].shape[0])\n",
      "<ipython-input-13-fc7ab27f773a>:52: UserWarning: Boolean Series key will be reindexed to match DataFrame index.\n",
      "  alls.append(df_combine[df_combine.rsquare_x>PV_adult][df_combine.rsquare_y>PV_child].shape[0])\n"
     ]
    },
    {
     "name": "stdout",
     "output_type": "stream",
     "text": [
      "21\n",
      "7\n",
      "1\n",
      "6\n",
      "5\n"
     ]
    },
    {
     "name": "stderr",
     "output_type": "stream",
     "text": [
      "<ipython-input-13-fc7ab27f773a>:53: UserWarning: Boolean Series key will be reindexed to match DataFrame index.\n",
      "  print(df_combine[df_combine.rsquare_x>PV_adult][df_combine.rsquare_y>PV_child].shape[0])\n",
      "<ipython-input-13-fc7ab27f773a>:52: UserWarning: Boolean Series key will be reindexed to match DataFrame index.\n",
      "  alls.append(df_combine[df_combine.rsquare_x>PV_adult][df_combine.rsquare_y>PV_child].shape[0])\n",
      "<ipython-input-13-fc7ab27f773a>:53: UserWarning: Boolean Series key will be reindexed to match DataFrame index.\n",
      "  print(df_combine[df_combine.rsquare_x>PV_adult][df_combine.rsquare_y>PV_child].shape[0])\n",
      "<ipython-input-13-fc7ab27f773a>:52: UserWarning: Boolean Series key will be reindexed to match DataFrame index.\n",
      "  alls.append(df_combine[df_combine.rsquare_x>PV_adult][df_combine.rsquare_y>PV_child].shape[0])\n",
      "<ipython-input-13-fc7ab27f773a>:53: UserWarning: Boolean Series key will be reindexed to match DataFrame index.\n",
      "  print(df_combine[df_combine.rsquare_x>PV_adult][df_combine.rsquare_y>PV_child].shape[0])\n",
      "<ipython-input-13-fc7ab27f773a>:52: UserWarning: Boolean Series key will be reindexed to match DataFrame index.\n",
      "  alls.append(df_combine[df_combine.rsquare_x>PV_adult][df_combine.rsquare_y>PV_child].shape[0])\n",
      "<ipython-input-13-fc7ab27f773a>:53: UserWarning: Boolean Series key will be reindexed to match DataFrame index.\n",
      "  print(df_combine[df_combine.rsquare_x>PV_adult][df_combine.rsquare_y>PV_child].shape[0])\n",
      "<ipython-input-13-fc7ab27f773a>:52: UserWarning: Boolean Series key will be reindexed to match DataFrame index.\n",
      "  alls.append(df_combine[df_combine.rsquare_x>PV_adult][df_combine.rsquare_y>PV_child].shape[0])\n",
      "<ipython-input-13-fc7ab27f773a>:53: UserWarning: Boolean Series key will be reindexed to match DataFrame index.\n",
      "  print(df_combine[df_combine.rsquare_x>PV_adult][df_combine.rsquare_y>PV_child].shape[0])\n",
      "<ipython-input-13-fc7ab27f773a>:52: UserWarning: Boolean Series key will be reindexed to match DataFrame index.\n",
      "  alls.append(df_combine[df_combine.rsquare_x>PV_adult][df_combine.rsquare_y>PV_child].shape[0])\n",
      "<ipython-input-13-fc7ab27f773a>:53: UserWarning: Boolean Series key will be reindexed to match DataFrame index.\n",
      "  print(df_combine[df_combine.rsquare_x>PV_adult][df_combine.rsquare_y>PV_child].shape[0])\n"
     ]
    },
    {
     "name": "stdout",
     "output_type": "stream",
     "text": [
      "5\n",
      "22\n",
      "18\n",
      "7\n",
      "0\n",
      "0\n"
     ]
    },
    {
     "name": "stderr",
     "output_type": "stream",
     "text": [
      "<ipython-input-13-fc7ab27f773a>:52: UserWarning: Boolean Series key will be reindexed to match DataFrame index.\n",
      "  alls.append(df_combine[df_combine.rsquare_x>PV_adult][df_combine.rsquare_y>PV_child].shape[0])\n",
      "<ipython-input-13-fc7ab27f773a>:53: UserWarning: Boolean Series key will be reindexed to match DataFrame index.\n",
      "  print(df_combine[df_combine.rsquare_x>PV_adult][df_combine.rsquare_y>PV_child].shape[0])\n",
      "<ipython-input-13-fc7ab27f773a>:52: UserWarning: Boolean Series key will be reindexed to match DataFrame index.\n",
      "  alls.append(df_combine[df_combine.rsquare_x>PV_adult][df_combine.rsquare_y>PV_child].shape[0])\n",
      "<ipython-input-13-fc7ab27f773a>:53: UserWarning: Boolean Series key will be reindexed to match DataFrame index.\n",
      "  print(df_combine[df_combine.rsquare_x>PV_adult][df_combine.rsquare_y>PV_child].shape[0])\n",
      "<ipython-input-13-fc7ab27f773a>:52: UserWarning: Boolean Series key will be reindexed to match DataFrame index.\n",
      "  alls.append(df_combine[df_combine.rsquare_x>PV_adult][df_combine.rsquare_y>PV_child].shape[0])\n",
      "<ipython-input-13-fc7ab27f773a>:53: UserWarning: Boolean Series key will be reindexed to match DataFrame index.\n",
      "  print(df_combine[df_combine.rsquare_x>PV_adult][df_combine.rsquare_y>PV_child].shape[0])\n",
      "<ipython-input-13-fc7ab27f773a>:52: UserWarning: Boolean Series key will be reindexed to match DataFrame index.\n",
      "  alls.append(df_combine[df_combine.rsquare_x>PV_adult][df_combine.rsquare_y>PV_child].shape[0])\n",
      "<ipython-input-13-fc7ab27f773a>:53: UserWarning: Boolean Series key will be reindexed to match DataFrame index.\n",
      "  print(df_combine[df_combine.rsquare_x>PV_adult][df_combine.rsquare_y>PV_child].shape[0])\n",
      "<ipython-input-13-fc7ab27f773a>:52: UserWarning: Boolean Series key will be reindexed to match DataFrame index.\n",
      "  alls.append(df_combine[df_combine.rsquare_x>PV_adult][df_combine.rsquare_y>PV_child].shape[0])\n",
      "<ipython-input-13-fc7ab27f773a>:53: UserWarning: Boolean Series key will be reindexed to match DataFrame index.\n",
      "  print(df_combine[df_combine.rsquare_x>PV_adult][df_combine.rsquare_y>PV_child].shape[0])\n"
     ]
    },
    {
     "name": "stdout",
     "output_type": "stream",
     "text": [
      "20\n",
      "18\n",
      "13\n",
      "6\n"
     ]
    },
    {
     "name": "stderr",
     "output_type": "stream",
     "text": [
      "<ipython-input-13-fc7ab27f773a>:52: UserWarning: Boolean Series key will be reindexed to match DataFrame index.\n",
      "  alls.append(df_combine[df_combine.rsquare_x>PV_adult][df_combine.rsquare_y>PV_child].shape[0])\n",
      "<ipython-input-13-fc7ab27f773a>:53: UserWarning: Boolean Series key will be reindexed to match DataFrame index.\n",
      "  print(df_combine[df_combine.rsquare_x>PV_adult][df_combine.rsquare_y>PV_child].shape[0])\n",
      "<ipython-input-13-fc7ab27f773a>:52: UserWarning: Boolean Series key will be reindexed to match DataFrame index.\n",
      "  alls.append(df_combine[df_combine.rsquare_x>PV_adult][df_combine.rsquare_y>PV_child].shape[0])\n",
      "<ipython-input-13-fc7ab27f773a>:53: UserWarning: Boolean Series key will be reindexed to match DataFrame index.\n",
      "  print(df_combine[df_combine.rsquare_x>PV_adult][df_combine.rsquare_y>PV_child].shape[0])\n",
      "<ipython-input-13-fc7ab27f773a>:52: UserWarning: Boolean Series key will be reindexed to match DataFrame index.\n",
      "  alls.append(df_combine[df_combine.rsquare_x>PV_adult][df_combine.rsquare_y>PV_child].shape[0])\n",
      "<ipython-input-13-fc7ab27f773a>:53: UserWarning: Boolean Series key will be reindexed to match DataFrame index.\n",
      "  print(df_combine[df_combine.rsquare_x>PV_adult][df_combine.rsquare_y>PV_child].shape[0])\n",
      "<ipython-input-13-fc7ab27f773a>:52: UserWarning: Boolean Series key will be reindexed to match DataFrame index.\n",
      "  alls.append(df_combine[df_combine.rsquare_x>PV_adult][df_combine.rsquare_y>PV_child].shape[0])\n",
      "<ipython-input-13-fc7ab27f773a>:53: UserWarning: Boolean Series key will be reindexed to match DataFrame index.\n",
      "  print(df_combine[df_combine.rsquare_x>PV_adult][df_combine.rsquare_y>PV_child].shape[0])\n"
     ]
    },
    {
     "name": "stdout",
     "output_type": "stream",
     "text": [
      "0\n",
      "10\n",
      "2\n"
     ]
    },
    {
     "name": "stderr",
     "output_type": "stream",
     "text": [
      "<ipython-input-13-fc7ab27f773a>:52: UserWarning: Boolean Series key will be reindexed to match DataFrame index.\n",
      "  alls.append(df_combine[df_combine.rsquare_x>PV_adult][df_combine.rsquare_y>PV_child].shape[0])\n",
      "<ipython-input-13-fc7ab27f773a>:53: UserWarning: Boolean Series key will be reindexed to match DataFrame index.\n",
      "  print(df_combine[df_combine.rsquare_x>PV_adult][df_combine.rsquare_y>PV_child].shape[0])\n",
      "<ipython-input-13-fc7ab27f773a>:52: UserWarning: Boolean Series key will be reindexed to match DataFrame index.\n",
      "  alls.append(df_combine[df_combine.rsquare_x>PV_adult][df_combine.rsquare_y>PV_child].shape[0])\n",
      "<ipython-input-13-fc7ab27f773a>:53: UserWarning: Boolean Series key will be reindexed to match DataFrame index.\n",
      "  print(df_combine[df_combine.rsquare_x>PV_adult][df_combine.rsquare_y>PV_child].shape[0])\n"
     ]
    },
    {
     "name": "stdout",
     "output_type": "stream",
     "text": [
      "25\n",
      "19\n",
      "0\n",
      "29\n"
     ]
    },
    {
     "name": "stderr",
     "output_type": "stream",
     "text": [
      "<ipython-input-13-fc7ab27f773a>:52: UserWarning: Boolean Series key will be reindexed to match DataFrame index.\n",
      "  alls.append(df_combine[df_combine.rsquare_x>PV_adult][df_combine.rsquare_y>PV_child].shape[0])\n",
      "<ipython-input-13-fc7ab27f773a>:53: UserWarning: Boolean Series key will be reindexed to match DataFrame index.\n",
      "  print(df_combine[df_combine.rsquare_x>PV_adult][df_combine.rsquare_y>PV_child].shape[0])\n",
      "<ipython-input-13-fc7ab27f773a>:52: UserWarning: Boolean Series key will be reindexed to match DataFrame index.\n",
      "  alls.append(df_combine[df_combine.rsquare_x>PV_adult][df_combine.rsquare_y>PV_child].shape[0])\n",
      "<ipython-input-13-fc7ab27f773a>:53: UserWarning: Boolean Series key will be reindexed to match DataFrame index.\n",
      "  print(df_combine[df_combine.rsquare_x>PV_adult][df_combine.rsquare_y>PV_child].shape[0])\n",
      "<ipython-input-13-fc7ab27f773a>:52: UserWarning: Boolean Series key will be reindexed to match DataFrame index.\n",
      "  alls.append(df_combine[df_combine.rsquare_x>PV_adult][df_combine.rsquare_y>PV_child].shape[0])\n",
      "<ipython-input-13-fc7ab27f773a>:53: UserWarning: Boolean Series key will be reindexed to match DataFrame index.\n",
      "  print(df_combine[df_combine.rsquare_x>PV_adult][df_combine.rsquare_y>PV_child].shape[0])\n",
      "<ipython-input-13-fc7ab27f773a>:52: UserWarning: Boolean Series key will be reindexed to match DataFrame index.\n",
      "  alls.append(df_combine[df_combine.rsquare_x>PV_adult][df_combine.rsquare_y>PV_child].shape[0])\n",
      "<ipython-input-13-fc7ab27f773a>:53: UserWarning: Boolean Series key will be reindexed to match DataFrame index.\n",
      "  print(df_combine[df_combine.rsquare_x>PV_adult][df_combine.rsquare_y>PV_child].shape[0])\n",
      "<ipython-input-13-fc7ab27f773a>:52: UserWarning: Boolean Series key will be reindexed to match DataFrame index.\n",
      "  alls.append(df_combine[df_combine.rsquare_x>PV_adult][df_combine.rsquare_y>PV_child].shape[0])\n",
      "<ipython-input-13-fc7ab27f773a>:53: UserWarning: Boolean Series key will be reindexed to match DataFrame index.\n",
      "  print(df_combine[df_combine.rsquare_x>PV_adult][df_combine.rsquare_y>PV_child].shape[0])\n",
      "<ipython-input-13-fc7ab27f773a>:52: UserWarning: Boolean Series key will be reindexed to match DataFrame index.\n",
      "  alls.append(df_combine[df_combine.rsquare_x>PV_adult][df_combine.rsquare_y>PV_child].shape[0])\n",
      "<ipython-input-13-fc7ab27f773a>:53: UserWarning: Boolean Series key will be reindexed to match DataFrame index.\n",
      "  print(df_combine[df_combine.rsquare_x>PV_adult][df_combine.rsquare_y>PV_child].shape[0])\n",
      "<ipython-input-13-fc7ab27f773a>:52: UserWarning: Boolean Series key will be reindexed to match DataFrame index.\n",
      "  alls.append(df_combine[df_combine.rsquare_x>PV_adult][df_combine.rsquare_y>PV_child].shape[0])\n",
      "<ipython-input-13-fc7ab27f773a>:53: UserWarning: Boolean Series key will be reindexed to match DataFrame index.\n",
      "  print(df_combine[df_combine.rsquare_x>PV_adult][df_combine.rsquare_y>PV_child].shape[0])\n"
     ]
    },
    {
     "name": "stdout",
     "output_type": "stream",
     "text": [
      "10\n",
      "8\n",
      "4\n",
      "12\n",
      "6\n"
     ]
    },
    {
     "name": "stderr",
     "output_type": "stream",
     "text": [
      "<ipython-input-13-fc7ab27f773a>:52: UserWarning: Boolean Series key will be reindexed to match DataFrame index.\n",
      "  alls.append(df_combine[df_combine.rsquare_x>PV_adult][df_combine.rsquare_y>PV_child].shape[0])\n",
      "<ipython-input-13-fc7ab27f773a>:53: UserWarning: Boolean Series key will be reindexed to match DataFrame index.\n",
      "  print(df_combine[df_combine.rsquare_x>PV_adult][df_combine.rsquare_y>PV_child].shape[0])\n",
      "<ipython-input-13-fc7ab27f773a>:52: UserWarning: Boolean Series key will be reindexed to match DataFrame index.\n",
      "  alls.append(df_combine[df_combine.rsquare_x>PV_adult][df_combine.rsquare_y>PV_child].shape[0])\n",
      "<ipython-input-13-fc7ab27f773a>:53: UserWarning: Boolean Series key will be reindexed to match DataFrame index.\n",
      "  print(df_combine[df_combine.rsquare_x>PV_adult][df_combine.rsquare_y>PV_child].shape[0])\n",
      "<ipython-input-13-fc7ab27f773a>:52: UserWarning: Boolean Series key will be reindexed to match DataFrame index.\n",
      "  alls.append(df_combine[df_combine.rsquare_x>PV_adult][df_combine.rsquare_y>PV_child].shape[0])\n",
      "<ipython-input-13-fc7ab27f773a>:53: UserWarning: Boolean Series key will be reindexed to match DataFrame index.\n",
      "  print(df_combine[df_combine.rsquare_x>PV_adult][df_combine.rsquare_y>PV_child].shape[0])\n",
      "<ipython-input-13-fc7ab27f773a>:52: UserWarning: Boolean Series key will be reindexed to match DataFrame index.\n",
      "  alls.append(df_combine[df_combine.rsquare_x>PV_adult][df_combine.rsquare_y>PV_child].shape[0])\n",
      "<ipython-input-13-fc7ab27f773a>:53: UserWarning: Boolean Series key will be reindexed to match DataFrame index.\n",
      "  print(df_combine[df_combine.rsquare_x>PV_adult][df_combine.rsquare_y>PV_child].shape[0])\n",
      "<ipython-input-13-fc7ab27f773a>:52: UserWarning: Boolean Series key will be reindexed to match DataFrame index.\n",
      "  alls.append(df_combine[df_combine.rsquare_x>PV_adult][df_combine.rsquare_y>PV_child].shape[0])\n",
      "<ipython-input-13-fc7ab27f773a>:53: UserWarning: Boolean Series key will be reindexed to match DataFrame index.\n",
      "  print(df_combine[df_combine.rsquare_x>PV_adult][df_combine.rsquare_y>PV_child].shape[0])\n"
     ]
    },
    {
     "name": "stdout",
     "output_type": "stream",
     "text": [
      "5\n",
      "700\n",
      "1\n",
      "4\n",
      "7\n",
      "28\n"
     ]
    },
    {
     "name": "stderr",
     "output_type": "stream",
     "text": [
      "<ipython-input-13-fc7ab27f773a>:52: UserWarning: Boolean Series key will be reindexed to match DataFrame index.\n",
      "  alls.append(df_combine[df_combine.rsquare_x>PV_adult][df_combine.rsquare_y>PV_child].shape[0])\n",
      "<ipython-input-13-fc7ab27f773a>:53: UserWarning: Boolean Series key will be reindexed to match DataFrame index.\n",
      "  print(df_combine[df_combine.rsquare_x>PV_adult][df_combine.rsquare_y>PV_child].shape[0])\n",
      "<ipython-input-13-fc7ab27f773a>:52: UserWarning: Boolean Series key will be reindexed to match DataFrame index.\n",
      "  alls.append(df_combine[df_combine.rsquare_x>PV_adult][df_combine.rsquare_y>PV_child].shape[0])\n",
      "<ipython-input-13-fc7ab27f773a>:53: UserWarning: Boolean Series key will be reindexed to match DataFrame index.\n",
      "  print(df_combine[df_combine.rsquare_x>PV_adult][df_combine.rsquare_y>PV_child].shape[0])\n",
      "<ipython-input-13-fc7ab27f773a>:52: UserWarning: Boolean Series key will be reindexed to match DataFrame index.\n",
      "  alls.append(df_combine[df_combine.rsquare_x>PV_adult][df_combine.rsquare_y>PV_child].shape[0])\n",
      "<ipython-input-13-fc7ab27f773a>:53: UserWarning: Boolean Series key will be reindexed to match DataFrame index.\n",
      "  print(df_combine[df_combine.rsquare_x>PV_adult][df_combine.rsquare_y>PV_child].shape[0])\n"
     ]
    },
    {
     "name": "stdout",
     "output_type": "stream",
     "text": [
      "19\n",
      "13\n",
      "5\n",
      "0\n",
      "29\n"
     ]
    },
    {
     "name": "stderr",
     "output_type": "stream",
     "text": [
      "<ipython-input-13-fc7ab27f773a>:52: UserWarning: Boolean Series key will be reindexed to match DataFrame index.\n",
      "  alls.append(df_combine[df_combine.rsquare_x>PV_adult][df_combine.rsquare_y>PV_child].shape[0])\n",
      "<ipython-input-13-fc7ab27f773a>:53: UserWarning: Boolean Series key will be reindexed to match DataFrame index.\n",
      "  print(df_combine[df_combine.rsquare_x>PV_adult][df_combine.rsquare_y>PV_child].shape[0])\n",
      "<ipython-input-13-fc7ab27f773a>:52: UserWarning: Boolean Series key will be reindexed to match DataFrame index.\n",
      "  alls.append(df_combine[df_combine.rsquare_x>PV_adult][df_combine.rsquare_y>PV_child].shape[0])\n",
      "<ipython-input-13-fc7ab27f773a>:53: UserWarning: Boolean Series key will be reindexed to match DataFrame index.\n",
      "  print(df_combine[df_combine.rsquare_x>PV_adult][df_combine.rsquare_y>PV_child].shape[0])\n",
      "<ipython-input-13-fc7ab27f773a>:52: UserWarning: Boolean Series key will be reindexed to match DataFrame index.\n",
      "  alls.append(df_combine[df_combine.rsquare_x>PV_adult][df_combine.rsquare_y>PV_child].shape[0])\n",
      "<ipython-input-13-fc7ab27f773a>:53: UserWarning: Boolean Series key will be reindexed to match DataFrame index.\n",
      "  print(df_combine[df_combine.rsquare_x>PV_adult][df_combine.rsquare_y>PV_child].shape[0])\n",
      "<ipython-input-13-fc7ab27f773a>:52: UserWarning: Boolean Series key will be reindexed to match DataFrame index.\n",
      "  alls.append(df_combine[df_combine.rsquare_x>PV_adult][df_combine.rsquare_y>PV_child].shape[0])\n",
      "<ipython-input-13-fc7ab27f773a>:53: UserWarning: Boolean Series key will be reindexed to match DataFrame index.\n",
      "  print(df_combine[df_combine.rsquare_x>PV_adult][df_combine.rsquare_y>PV_child].shape[0])\n",
      "<ipython-input-13-fc7ab27f773a>:52: UserWarning: Boolean Series key will be reindexed to match DataFrame index.\n",
      "  alls.append(df_combine[df_combine.rsquare_x>PV_adult][df_combine.rsquare_y>PV_child].shape[0])\n",
      "<ipython-input-13-fc7ab27f773a>:53: UserWarning: Boolean Series key will be reindexed to match DataFrame index.\n",
      "  print(df_combine[df_combine.rsquare_x>PV_adult][df_combine.rsquare_y>PV_child].shape[0])\n",
      "<ipython-input-13-fc7ab27f773a>:52: UserWarning: Boolean Series key will be reindexed to match DataFrame index.\n",
      "  alls.append(df_combine[df_combine.rsquare_x>PV_adult][df_combine.rsquare_y>PV_child].shape[0])\n",
      "<ipython-input-13-fc7ab27f773a>:53: UserWarning: Boolean Series key will be reindexed to match DataFrame index.\n",
      "  print(df_combine[df_combine.rsquare_x>PV_adult][df_combine.rsquare_y>PV_child].shape[0])\n"
     ]
    },
    {
     "name": "stdout",
     "output_type": "stream",
     "text": [
      "1\n",
      "10\n",
      "6\n",
      "1\n",
      "13\n",
      "1\n"
     ]
    },
    {
     "name": "stderr",
     "output_type": "stream",
     "text": [
      "<ipython-input-13-fc7ab27f773a>:52: UserWarning: Boolean Series key will be reindexed to match DataFrame index.\n",
      "  alls.append(df_combine[df_combine.rsquare_x>PV_adult][df_combine.rsquare_y>PV_child].shape[0])\n",
      "<ipython-input-13-fc7ab27f773a>:53: UserWarning: Boolean Series key will be reindexed to match DataFrame index.\n",
      "  print(df_combine[df_combine.rsquare_x>PV_adult][df_combine.rsquare_y>PV_child].shape[0])\n",
      "<ipython-input-13-fc7ab27f773a>:52: UserWarning: Boolean Series key will be reindexed to match DataFrame index.\n",
      "  alls.append(df_combine[df_combine.rsquare_x>PV_adult][df_combine.rsquare_y>PV_child].shape[0])\n",
      "<ipython-input-13-fc7ab27f773a>:53: UserWarning: Boolean Series key will be reindexed to match DataFrame index.\n",
      "  print(df_combine[df_combine.rsquare_x>PV_adult][df_combine.rsquare_y>PV_child].shape[0])\n",
      "<ipython-input-13-fc7ab27f773a>:52: UserWarning: Boolean Series key will be reindexed to match DataFrame index.\n",
      "  alls.append(df_combine[df_combine.rsquare_x>PV_adult][df_combine.rsquare_y>PV_child].shape[0])\n",
      "<ipython-input-13-fc7ab27f773a>:53: UserWarning: Boolean Series key will be reindexed to match DataFrame index.\n",
      "  print(df_combine[df_combine.rsquare_x>PV_adult][df_combine.rsquare_y>PV_child].shape[0])\n",
      "<ipython-input-13-fc7ab27f773a>:52: UserWarning: Boolean Series key will be reindexed to match DataFrame index.\n",
      "  alls.append(df_combine[df_combine.rsquare_x>PV_adult][df_combine.rsquare_y>PV_child].shape[0])\n",
      "<ipython-input-13-fc7ab27f773a>:53: UserWarning: Boolean Series key will be reindexed to match DataFrame index.\n",
      "  print(df_combine[df_combine.rsquare_x>PV_adult][df_combine.rsquare_y>PV_child].shape[0])\n",
      "<ipython-input-13-fc7ab27f773a>:52: UserWarning: Boolean Series key will be reindexed to match DataFrame index.\n",
      "  alls.append(df_combine[df_combine.rsquare_x>PV_adult][df_combine.rsquare_y>PV_child].shape[0])\n",
      "<ipython-input-13-fc7ab27f773a>:53: UserWarning: Boolean Series key will be reindexed to match DataFrame index.\n",
      "  print(df_combine[df_combine.rsquare_x>PV_adult][df_combine.rsquare_y>PV_child].shape[0])\n",
      "<ipython-input-13-fc7ab27f773a>:52: UserWarning: Boolean Series key will be reindexed to match DataFrame index.\n",
      "  alls.append(df_combine[df_combine.rsquare_x>PV_adult][df_combine.rsquare_y>PV_child].shape[0])\n",
      "<ipython-input-13-fc7ab27f773a>:53: UserWarning: Boolean Series key will be reindexed to match DataFrame index.\n",
      "  print(df_combine[df_combine.rsquare_x>PV_adult][df_combine.rsquare_y>PV_child].shape[0])\n",
      "<ipython-input-13-fc7ab27f773a>:52: UserWarning: Boolean Series key will be reindexed to match DataFrame index.\n",
      "  alls.append(df_combine[df_combine.rsquare_x>PV_adult][df_combine.rsquare_y>PV_child].shape[0])\n"
     ]
    },
    {
     "name": "stdout",
     "output_type": "stream",
     "text": [
      "1\n",
      "1\n",
      "29\n",
      "10\n",
      "4\n",
      "0\n"
     ]
    },
    {
     "name": "stderr",
     "output_type": "stream",
     "text": [
      "<ipython-input-13-fc7ab27f773a>:53: UserWarning: Boolean Series key will be reindexed to match DataFrame index.\n",
      "  print(df_combine[df_combine.rsquare_x>PV_adult][df_combine.rsquare_y>PV_child].shape[0])\n",
      "<ipython-input-13-fc7ab27f773a>:52: UserWarning: Boolean Series key will be reindexed to match DataFrame index.\n",
      "  alls.append(df_combine[df_combine.rsquare_x>PV_adult][df_combine.rsquare_y>PV_child].shape[0])\n",
      "<ipython-input-13-fc7ab27f773a>:53: UserWarning: Boolean Series key will be reindexed to match DataFrame index.\n",
      "  print(df_combine[df_combine.rsquare_x>PV_adult][df_combine.rsquare_y>PV_child].shape[0])\n",
      "<ipython-input-13-fc7ab27f773a>:52: UserWarning: Boolean Series key will be reindexed to match DataFrame index.\n",
      "  alls.append(df_combine[df_combine.rsquare_x>PV_adult][df_combine.rsquare_y>PV_child].shape[0])\n",
      "<ipython-input-13-fc7ab27f773a>:53: UserWarning: Boolean Series key will be reindexed to match DataFrame index.\n",
      "  print(df_combine[df_combine.rsquare_x>PV_adult][df_combine.rsquare_y>PV_child].shape[0])\n",
      "<ipython-input-13-fc7ab27f773a>:52: UserWarning: Boolean Series key will be reindexed to match DataFrame index.\n",
      "  alls.append(df_combine[df_combine.rsquare_x>PV_adult][df_combine.rsquare_y>PV_child].shape[0])\n",
      "<ipython-input-13-fc7ab27f773a>:53: UserWarning: Boolean Series key will be reindexed to match DataFrame index.\n",
      "  print(df_combine[df_combine.rsquare_x>PV_adult][df_combine.rsquare_y>PV_child].shape[0])\n",
      "<ipython-input-13-fc7ab27f773a>:52: UserWarning: Boolean Series key will be reindexed to match DataFrame index.\n",
      "  alls.append(df_combine[df_combine.rsquare_x>PV_adult][df_combine.rsquare_y>PV_child].shape[0])\n",
      "<ipython-input-13-fc7ab27f773a>:53: UserWarning: Boolean Series key will be reindexed to match DataFrame index.\n",
      "  print(df_combine[df_combine.rsquare_x>PV_adult][df_combine.rsquare_y>PV_child].shape[0])\n",
      "<ipython-input-13-fc7ab27f773a>:52: UserWarning: Boolean Series key will be reindexed to match DataFrame index.\n",
      "  alls.append(df_combine[df_combine.rsquare_x>PV_adult][df_combine.rsquare_y>PV_child].shape[0])\n",
      "<ipython-input-13-fc7ab27f773a>:53: UserWarning: Boolean Series key will be reindexed to match DataFrame index.\n",
      "  print(df_combine[df_combine.rsquare_x>PV_adult][df_combine.rsquare_y>PV_child].shape[0])\n",
      "<ipython-input-13-fc7ab27f773a>:52: UserWarning: Boolean Series key will be reindexed to match DataFrame index.\n",
      "  alls.append(df_combine[df_combine.rsquare_x>PV_adult][df_combine.rsquare_y>PV_child].shape[0])\n",
      "<ipython-input-13-fc7ab27f773a>:53: UserWarning: Boolean Series key will be reindexed to match DataFrame index.\n",
      "  print(df_combine[df_combine.rsquare_x>PV_adult][df_combine.rsquare_y>PV_child].shape[0])\n"
     ]
    },
    {
     "name": "stdout",
     "output_type": "stream",
     "text": [
      "18\n",
      "29\n",
      "6\n",
      "23\n",
      "0\n",
      "10\n"
     ]
    },
    {
     "name": "stderr",
     "output_type": "stream",
     "text": [
      "<ipython-input-13-fc7ab27f773a>:52: UserWarning: Boolean Series key will be reindexed to match DataFrame index.\n",
      "  alls.append(df_combine[df_combine.rsquare_x>PV_adult][df_combine.rsquare_y>PV_child].shape[0])\n",
      "<ipython-input-13-fc7ab27f773a>:53: UserWarning: Boolean Series key will be reindexed to match DataFrame index.\n",
      "  print(df_combine[df_combine.rsquare_x>PV_adult][df_combine.rsquare_y>PV_child].shape[0])\n",
      "<ipython-input-13-fc7ab27f773a>:52: UserWarning: Boolean Series key will be reindexed to match DataFrame index.\n",
      "  alls.append(df_combine[df_combine.rsquare_x>PV_adult][df_combine.rsquare_y>PV_child].shape[0])\n",
      "<ipython-input-13-fc7ab27f773a>:53: UserWarning: Boolean Series key will be reindexed to match DataFrame index.\n",
      "  print(df_combine[df_combine.rsquare_x>PV_adult][df_combine.rsquare_y>PV_child].shape[0])\n",
      "<ipython-input-13-fc7ab27f773a>:52: UserWarning: Boolean Series key will be reindexed to match DataFrame index.\n",
      "  alls.append(df_combine[df_combine.rsquare_x>PV_adult][df_combine.rsquare_y>PV_child].shape[0])\n",
      "<ipython-input-13-fc7ab27f773a>:53: UserWarning: Boolean Series key will be reindexed to match DataFrame index.\n",
      "  print(df_combine[df_combine.rsquare_x>PV_adult][df_combine.rsquare_y>PV_child].shape[0])\n",
      "<ipython-input-13-fc7ab27f773a>:52: UserWarning: Boolean Series key will be reindexed to match DataFrame index.\n",
      "  alls.append(df_combine[df_combine.rsquare_x>PV_adult][df_combine.rsquare_y>PV_child].shape[0])\n",
      "<ipython-input-13-fc7ab27f773a>:53: UserWarning: Boolean Series key will be reindexed to match DataFrame index.\n",
      "  print(df_combine[df_combine.rsquare_x>PV_adult][df_combine.rsquare_y>PV_child].shape[0])\n",
      "<ipython-input-13-fc7ab27f773a>:52: UserWarning: Boolean Series key will be reindexed to match DataFrame index.\n",
      "  alls.append(df_combine[df_combine.rsquare_x>PV_adult][df_combine.rsquare_y>PV_child].shape[0])\n",
      "<ipython-input-13-fc7ab27f773a>:53: UserWarning: Boolean Series key will be reindexed to match DataFrame index.\n",
      "  print(df_combine[df_combine.rsquare_x>PV_adult][df_combine.rsquare_y>PV_child].shape[0])\n"
     ]
    },
    {
     "name": "stdout",
     "output_type": "stream",
     "text": [
      "1\n",
      "2\n",
      "7\n",
      "19\n",
      "8\n"
     ]
    },
    {
     "name": "stderr",
     "output_type": "stream",
     "text": [
      "<ipython-input-13-fc7ab27f773a>:52: UserWarning: Boolean Series key will be reindexed to match DataFrame index.\n",
      "  alls.append(df_combine[df_combine.rsquare_x>PV_adult][df_combine.rsquare_y>PV_child].shape[0])\n",
      "<ipython-input-13-fc7ab27f773a>:53: UserWarning: Boolean Series key will be reindexed to match DataFrame index.\n",
      "  print(df_combine[df_combine.rsquare_x>PV_adult][df_combine.rsquare_y>PV_child].shape[0])\n",
      "<ipython-input-13-fc7ab27f773a>:52: UserWarning: Boolean Series key will be reindexed to match DataFrame index.\n",
      "  alls.append(df_combine[df_combine.rsquare_x>PV_adult][df_combine.rsquare_y>PV_child].shape[0])\n",
      "<ipython-input-13-fc7ab27f773a>:53: UserWarning: Boolean Series key will be reindexed to match DataFrame index.\n",
      "  print(df_combine[df_combine.rsquare_x>PV_adult][df_combine.rsquare_y>PV_child].shape[0])\n",
      "<ipython-input-13-fc7ab27f773a>:52: UserWarning: Boolean Series key will be reindexed to match DataFrame index.\n",
      "  alls.append(df_combine[df_combine.rsquare_x>PV_adult][df_combine.rsquare_y>PV_child].shape[0])\n",
      "<ipython-input-13-fc7ab27f773a>:53: UserWarning: Boolean Series key will be reindexed to match DataFrame index.\n",
      "  print(df_combine[df_combine.rsquare_x>PV_adult][df_combine.rsquare_y>PV_child].shape[0])\n",
      "<ipython-input-13-fc7ab27f773a>:52: UserWarning: Boolean Series key will be reindexed to match DataFrame index.\n",
      "  alls.append(df_combine[df_combine.rsquare_x>PV_adult][df_combine.rsquare_y>PV_child].shape[0])\n",
      "<ipython-input-13-fc7ab27f773a>:53: UserWarning: Boolean Series key will be reindexed to match DataFrame index.\n",
      "  print(df_combine[df_combine.rsquare_x>PV_adult][df_combine.rsquare_y>PV_child].shape[0])\n",
      "<ipython-input-13-fc7ab27f773a>:52: UserWarning: Boolean Series key will be reindexed to match DataFrame index.\n",
      "  alls.append(df_combine[df_combine.rsquare_x>PV_adult][df_combine.rsquare_y>PV_child].shape[0])\n"
     ]
    },
    {
     "name": "stdout",
     "output_type": "stream",
     "text": [
      "15\n",
      "5\n",
      "25\n",
      "28\n"
     ]
    },
    {
     "name": "stderr",
     "output_type": "stream",
     "text": [
      "<ipython-input-13-fc7ab27f773a>:53: UserWarning: Boolean Series key will be reindexed to match DataFrame index.\n",
      "  print(df_combine[df_combine.rsquare_x>PV_adult][df_combine.rsquare_y>PV_child].shape[0])\n",
      "<ipython-input-13-fc7ab27f773a>:52: UserWarning: Boolean Series key will be reindexed to match DataFrame index.\n",
      "  alls.append(df_combine[df_combine.rsquare_x>PV_adult][df_combine.rsquare_y>PV_child].shape[0])\n",
      "<ipython-input-13-fc7ab27f773a>:53: UserWarning: Boolean Series key will be reindexed to match DataFrame index.\n",
      "  print(df_combine[df_combine.rsquare_x>PV_adult][df_combine.rsquare_y>PV_child].shape[0])\n",
      "<ipython-input-13-fc7ab27f773a>:52: UserWarning: Boolean Series key will be reindexed to match DataFrame index.\n",
      "  alls.append(df_combine[df_combine.rsquare_x>PV_adult][df_combine.rsquare_y>PV_child].shape[0])\n",
      "<ipython-input-13-fc7ab27f773a>:53: UserWarning: Boolean Series key will be reindexed to match DataFrame index.\n",
      "  print(df_combine[df_combine.rsquare_x>PV_adult][df_combine.rsquare_y>PV_child].shape[0])\n"
     ]
    },
    {
     "name": "stdout",
     "output_type": "stream",
     "text": [
      "2\n",
      "11\n"
     ]
    },
    {
     "name": "stderr",
     "output_type": "stream",
     "text": [
      "<ipython-input-13-fc7ab27f773a>:52: UserWarning: Boolean Series key will be reindexed to match DataFrame index.\n",
      "  alls.append(df_combine[df_combine.rsquare_x>PV_adult][df_combine.rsquare_y>PV_child].shape[0])\n",
      "<ipython-input-13-fc7ab27f773a>:53: UserWarning: Boolean Series key will be reindexed to match DataFrame index.\n",
      "  print(df_combine[df_combine.rsquare_x>PV_adult][df_combine.rsquare_y>PV_child].shape[0])\n",
      "<ipython-input-13-fc7ab27f773a>:52: UserWarning: Boolean Series key will be reindexed to match DataFrame index.\n",
      "  alls.append(df_combine[df_combine.rsquare_x>PV_adult][df_combine.rsquare_y>PV_child].shape[0])\n",
      "<ipython-input-13-fc7ab27f773a>:53: UserWarning: Boolean Series key will be reindexed to match DataFrame index.\n",
      "  print(df_combine[df_combine.rsquare_x>PV_adult][df_combine.rsquare_y>PV_child].shape[0])\n",
      "<ipython-input-13-fc7ab27f773a>:52: UserWarning: Boolean Series key will be reindexed to match DataFrame index.\n",
      "  alls.append(df_combine[df_combine.rsquare_x>PV_adult][df_combine.rsquare_y>PV_child].shape[0])\n",
      "<ipython-input-13-fc7ab27f773a>:53: UserWarning: Boolean Series key will be reindexed to match DataFrame index.\n",
      "  print(df_combine[df_combine.rsquare_x>PV_adult][df_combine.rsquare_y>PV_child].shape[0])\n",
      "<ipython-input-13-fc7ab27f773a>:52: UserWarning: Boolean Series key will be reindexed to match DataFrame index.\n",
      "  alls.append(df_combine[df_combine.rsquare_x>PV_adult][df_combine.rsquare_y>PV_child].shape[0])\n",
      "<ipython-input-13-fc7ab27f773a>:53: UserWarning: Boolean Series key will be reindexed to match DataFrame index.\n",
      "  print(df_combine[df_combine.rsquare_x>PV_adult][df_combine.rsquare_y>PV_child].shape[0])\n",
      "<ipython-input-13-fc7ab27f773a>:52: UserWarning: Boolean Series key will be reindexed to match DataFrame index.\n",
      "  alls.append(df_combine[df_combine.rsquare_x>PV_adult][df_combine.rsquare_y>PV_child].shape[0])\n"
     ]
    },
    {
     "name": "stdout",
     "output_type": "stream",
     "text": [
      "24\n",
      "0\n",
      "3\n",
      "16\n",
      "35\n",
      "0\n"
     ]
    },
    {
     "name": "stderr",
     "output_type": "stream",
     "text": [
      "<ipython-input-13-fc7ab27f773a>:53: UserWarning: Boolean Series key will be reindexed to match DataFrame index.\n",
      "  print(df_combine[df_combine.rsquare_x>PV_adult][df_combine.rsquare_y>PV_child].shape[0])\n",
      "<ipython-input-13-fc7ab27f773a>:52: UserWarning: Boolean Series key will be reindexed to match DataFrame index.\n",
      "  alls.append(df_combine[df_combine.rsquare_x>PV_adult][df_combine.rsquare_y>PV_child].shape[0])\n",
      "<ipython-input-13-fc7ab27f773a>:53: UserWarning: Boolean Series key will be reindexed to match DataFrame index.\n",
      "  print(df_combine[df_combine.rsquare_x>PV_adult][df_combine.rsquare_y>PV_child].shape[0])\n",
      "<ipython-input-13-fc7ab27f773a>:52: UserWarning: Boolean Series key will be reindexed to match DataFrame index.\n",
      "  alls.append(df_combine[df_combine.rsquare_x>PV_adult][df_combine.rsquare_y>PV_child].shape[0])\n",
      "<ipython-input-13-fc7ab27f773a>:53: UserWarning: Boolean Series key will be reindexed to match DataFrame index.\n",
      "  print(df_combine[df_combine.rsquare_x>PV_adult][df_combine.rsquare_y>PV_child].shape[0])\n",
      "<ipython-input-13-fc7ab27f773a>:52: UserWarning: Boolean Series key will be reindexed to match DataFrame index.\n",
      "  alls.append(df_combine[df_combine.rsquare_x>PV_adult][df_combine.rsquare_y>PV_child].shape[0])\n",
      "<ipython-input-13-fc7ab27f773a>:53: UserWarning: Boolean Series key will be reindexed to match DataFrame index.\n",
      "  print(df_combine[df_combine.rsquare_x>PV_adult][df_combine.rsquare_y>PV_child].shape[0])\n",
      "<ipython-input-13-fc7ab27f773a>:52: UserWarning: Boolean Series key will be reindexed to match DataFrame index.\n",
      "  alls.append(df_combine[df_combine.rsquare_x>PV_adult][df_combine.rsquare_y>PV_child].shape[0])\n",
      "<ipython-input-13-fc7ab27f773a>:53: UserWarning: Boolean Series key will be reindexed to match DataFrame index.\n",
      "  print(df_combine[df_combine.rsquare_x>PV_adult][df_combine.rsquare_y>PV_child].shape[0])\n"
     ]
    },
    {
     "name": "stdout",
     "output_type": "stream",
     "text": [
      "1\n",
      "10\n",
      "26\n",
      "0\n"
     ]
    },
    {
     "name": "stderr",
     "output_type": "stream",
     "text": [
      "<ipython-input-13-fc7ab27f773a>:52: UserWarning: Boolean Series key will be reindexed to match DataFrame index.\n",
      "  alls.append(df_combine[df_combine.rsquare_x>PV_adult][df_combine.rsquare_y>PV_child].shape[0])\n",
      "<ipython-input-13-fc7ab27f773a>:53: UserWarning: Boolean Series key will be reindexed to match DataFrame index.\n",
      "  print(df_combine[df_combine.rsquare_x>PV_adult][df_combine.rsquare_y>PV_child].shape[0])\n",
      "<ipython-input-13-fc7ab27f773a>:52: UserWarning: Boolean Series key will be reindexed to match DataFrame index.\n",
      "  alls.append(df_combine[df_combine.rsquare_x>PV_adult][df_combine.rsquare_y>PV_child].shape[0])\n",
      "<ipython-input-13-fc7ab27f773a>:53: UserWarning: Boolean Series key will be reindexed to match DataFrame index.\n",
      "  print(df_combine[df_combine.rsquare_x>PV_adult][df_combine.rsquare_y>PV_child].shape[0])\n",
      "<ipython-input-13-fc7ab27f773a>:52: UserWarning: Boolean Series key will be reindexed to match DataFrame index.\n",
      "  alls.append(df_combine[df_combine.rsquare_x>PV_adult][df_combine.rsquare_y>PV_child].shape[0])\n",
      "<ipython-input-13-fc7ab27f773a>:53: UserWarning: Boolean Series key will be reindexed to match DataFrame index.\n",
      "  print(df_combine[df_combine.rsquare_x>PV_adult][df_combine.rsquare_y>PV_child].shape[0])\n",
      "<ipython-input-13-fc7ab27f773a>:52: UserWarning: Boolean Series key will be reindexed to match DataFrame index.\n",
      "  alls.append(df_combine[df_combine.rsquare_x>PV_adult][df_combine.rsquare_y>PV_child].shape[0])\n"
     ]
    },
    {
     "name": "stdout",
     "output_type": "stream",
     "text": [
      "4\n",
      "14\n",
      "750\n",
      "0\n",
      "24\n"
     ]
    },
    {
     "name": "stderr",
     "output_type": "stream",
     "text": [
      "<ipython-input-13-fc7ab27f773a>:53: UserWarning: Boolean Series key will be reindexed to match DataFrame index.\n",
      "  print(df_combine[df_combine.rsquare_x>PV_adult][df_combine.rsquare_y>PV_child].shape[0])\n",
      "<ipython-input-13-fc7ab27f773a>:52: UserWarning: Boolean Series key will be reindexed to match DataFrame index.\n",
      "  alls.append(df_combine[df_combine.rsquare_x>PV_adult][df_combine.rsquare_y>PV_child].shape[0])\n",
      "<ipython-input-13-fc7ab27f773a>:53: UserWarning: Boolean Series key will be reindexed to match DataFrame index.\n",
      "  print(df_combine[df_combine.rsquare_x>PV_adult][df_combine.rsquare_y>PV_child].shape[0])\n",
      "<ipython-input-13-fc7ab27f773a>:52: UserWarning: Boolean Series key will be reindexed to match DataFrame index.\n",
      "  alls.append(df_combine[df_combine.rsquare_x>PV_adult][df_combine.rsquare_y>PV_child].shape[0])\n",
      "<ipython-input-13-fc7ab27f773a>:53: UserWarning: Boolean Series key will be reindexed to match DataFrame index.\n",
      "  print(df_combine[df_combine.rsquare_x>PV_adult][df_combine.rsquare_y>PV_child].shape[0])\n",
      "<ipython-input-13-fc7ab27f773a>:52: UserWarning: Boolean Series key will be reindexed to match DataFrame index.\n",
      "  alls.append(df_combine[df_combine.rsquare_x>PV_adult][df_combine.rsquare_y>PV_child].shape[0])\n",
      "<ipython-input-13-fc7ab27f773a>:53: UserWarning: Boolean Series key will be reindexed to match DataFrame index.\n",
      "  print(df_combine[df_combine.rsquare_x>PV_adult][df_combine.rsquare_y>PV_child].shape[0])\n",
      "<ipython-input-13-fc7ab27f773a>:52: UserWarning: Boolean Series key will be reindexed to match DataFrame index.\n",
      "  alls.append(df_combine[df_combine.rsquare_x>PV_adult][df_combine.rsquare_y>PV_child].shape[0])\n",
      "<ipython-input-13-fc7ab27f773a>:53: UserWarning: Boolean Series key will be reindexed to match DataFrame index.\n",
      "  print(df_combine[df_combine.rsquare_x>PV_adult][df_combine.rsquare_y>PV_child].shape[0])\n",
      "<ipython-input-13-fc7ab27f773a>:52: UserWarning: Boolean Series key will be reindexed to match DataFrame index.\n",
      "  alls.append(df_combine[df_combine.rsquare_x>PV_adult][df_combine.rsquare_y>PV_child].shape[0])\n",
      "<ipython-input-13-fc7ab27f773a>:53: UserWarning: Boolean Series key will be reindexed to match DataFrame index.\n",
      "  print(df_combine[df_combine.rsquare_x>PV_adult][df_combine.rsquare_y>PV_child].shape[0])\n",
      "<ipython-input-13-fc7ab27f773a>:52: UserWarning: Boolean Series key will be reindexed to match DataFrame index.\n",
      "  alls.append(df_combine[df_combine.rsquare_x>PV_adult][df_combine.rsquare_y>PV_child].shape[0])\n",
      "<ipython-input-13-fc7ab27f773a>:53: UserWarning: Boolean Series key will be reindexed to match DataFrame index.\n",
      "  print(df_combine[df_combine.rsquare_x>PV_adult][df_combine.rsquare_y>PV_child].shape[0])\n",
      "<ipython-input-13-fc7ab27f773a>:52: UserWarning: Boolean Series key will be reindexed to match DataFrame index.\n",
      "  alls.append(df_combine[df_combine.rsquare_x>PV_adult][df_combine.rsquare_y>PV_child].shape[0])\n",
      "<ipython-input-13-fc7ab27f773a>:53: UserWarning: Boolean Series key will be reindexed to match DataFrame index.\n",
      "  print(df_combine[df_combine.rsquare_x>PV_adult][df_combine.rsquare_y>PV_child].shape[0])\n"
     ]
    },
    {
     "name": "stdout",
     "output_type": "stream",
     "text": [
      "10\n",
      "5\n",
      "19\n",
      "2\n",
      "35\n"
     ]
    },
    {
     "name": "stderr",
     "output_type": "stream",
     "text": [
      "<ipython-input-13-fc7ab27f773a>:52: UserWarning: Boolean Series key will be reindexed to match DataFrame index.\n",
      "  alls.append(df_combine[df_combine.rsquare_x>PV_adult][df_combine.rsquare_y>PV_child].shape[0])\n",
      "<ipython-input-13-fc7ab27f773a>:53: UserWarning: Boolean Series key will be reindexed to match DataFrame index.\n",
      "  print(df_combine[df_combine.rsquare_x>PV_adult][df_combine.rsquare_y>PV_child].shape[0])\n",
      "<ipython-input-13-fc7ab27f773a>:52: UserWarning: Boolean Series key will be reindexed to match DataFrame index.\n",
      "  alls.append(df_combine[df_combine.rsquare_x>PV_adult][df_combine.rsquare_y>PV_child].shape[0])\n",
      "<ipython-input-13-fc7ab27f773a>:53: UserWarning: Boolean Series key will be reindexed to match DataFrame index.\n",
      "  print(df_combine[df_combine.rsquare_x>PV_adult][df_combine.rsquare_y>PV_child].shape[0])\n",
      "<ipython-input-13-fc7ab27f773a>:52: UserWarning: Boolean Series key will be reindexed to match DataFrame index.\n",
      "  alls.append(df_combine[df_combine.rsquare_x>PV_adult][df_combine.rsquare_y>PV_child].shape[0])\n",
      "<ipython-input-13-fc7ab27f773a>:53: UserWarning: Boolean Series key will be reindexed to match DataFrame index.\n",
      "  print(df_combine[df_combine.rsquare_x>PV_adult][df_combine.rsquare_y>PV_child].shape[0])\n",
      "<ipython-input-13-fc7ab27f773a>:52: UserWarning: Boolean Series key will be reindexed to match DataFrame index.\n",
      "  alls.append(df_combine[df_combine.rsquare_x>PV_adult][df_combine.rsquare_y>PV_child].shape[0])\n",
      "<ipython-input-13-fc7ab27f773a>:53: UserWarning: Boolean Series key will be reindexed to match DataFrame index.\n",
      "  print(df_combine[df_combine.rsquare_x>PV_adult][df_combine.rsquare_y>PV_child].shape[0])\n",
      "<ipython-input-13-fc7ab27f773a>:52: UserWarning: Boolean Series key will be reindexed to match DataFrame index.\n",
      "  alls.append(df_combine[df_combine.rsquare_x>PV_adult][df_combine.rsquare_y>PV_child].shape[0])\n",
      "<ipython-input-13-fc7ab27f773a>:53: UserWarning: Boolean Series key will be reindexed to match DataFrame index.\n",
      "  print(df_combine[df_combine.rsquare_x>PV_adult][df_combine.rsquare_y>PV_child].shape[0])\n",
      "<ipython-input-13-fc7ab27f773a>:52: UserWarning: Boolean Series key will be reindexed to match DataFrame index.\n",
      "  alls.append(df_combine[df_combine.rsquare_x>PV_adult][df_combine.rsquare_y>PV_child].shape[0])\n"
     ]
    },
    {
     "name": "stdout",
     "output_type": "stream",
     "text": [
      "8\n",
      "3\n",
      "4\n",
      "7\n",
      "4\n"
     ]
    },
    {
     "name": "stderr",
     "output_type": "stream",
     "text": [
      "<ipython-input-13-fc7ab27f773a>:53: UserWarning: Boolean Series key will be reindexed to match DataFrame index.\n",
      "  print(df_combine[df_combine.rsquare_x>PV_adult][df_combine.rsquare_y>PV_child].shape[0])\n",
      "<ipython-input-13-fc7ab27f773a>:52: UserWarning: Boolean Series key will be reindexed to match DataFrame index.\n",
      "  alls.append(df_combine[df_combine.rsquare_x>PV_adult][df_combine.rsquare_y>PV_child].shape[0])\n",
      "<ipython-input-13-fc7ab27f773a>:53: UserWarning: Boolean Series key will be reindexed to match DataFrame index.\n",
      "  print(df_combine[df_combine.rsquare_x>PV_adult][df_combine.rsquare_y>PV_child].shape[0])\n",
      "<ipython-input-13-fc7ab27f773a>:52: UserWarning: Boolean Series key will be reindexed to match DataFrame index.\n",
      "  alls.append(df_combine[df_combine.rsquare_x>PV_adult][df_combine.rsquare_y>PV_child].shape[0])\n",
      "<ipython-input-13-fc7ab27f773a>:53: UserWarning: Boolean Series key will be reindexed to match DataFrame index.\n",
      "  print(df_combine[df_combine.rsquare_x>PV_adult][df_combine.rsquare_y>PV_child].shape[0])\n",
      "<ipython-input-13-fc7ab27f773a>:52: UserWarning: Boolean Series key will be reindexed to match DataFrame index.\n",
      "  alls.append(df_combine[df_combine.rsquare_x>PV_adult][df_combine.rsquare_y>PV_child].shape[0])\n",
      "<ipython-input-13-fc7ab27f773a>:53: UserWarning: Boolean Series key will be reindexed to match DataFrame index.\n",
      "  print(df_combine[df_combine.rsquare_x>PV_adult][df_combine.rsquare_y>PV_child].shape[0])\n",
      "<ipython-input-13-fc7ab27f773a>:52: UserWarning: Boolean Series key will be reindexed to match DataFrame index.\n",
      "  alls.append(df_combine[df_combine.rsquare_x>PV_adult][df_combine.rsquare_y>PV_child].shape[0])\n",
      "<ipython-input-13-fc7ab27f773a>:53: UserWarning: Boolean Series key will be reindexed to match DataFrame index.\n",
      "  print(df_combine[df_combine.rsquare_x>PV_adult][df_combine.rsquare_y>PV_child].shape[0])\n",
      "<ipython-input-13-fc7ab27f773a>:52: UserWarning: Boolean Series key will be reindexed to match DataFrame index.\n",
      "  alls.append(df_combine[df_combine.rsquare_x>PV_adult][df_combine.rsquare_y>PV_child].shape[0])\n",
      "<ipython-input-13-fc7ab27f773a>:53: UserWarning: Boolean Series key will be reindexed to match DataFrame index.\n",
      "  print(df_combine[df_combine.rsquare_x>PV_adult][df_combine.rsquare_y>PV_child].shape[0])\n",
      "<ipython-input-13-fc7ab27f773a>:52: UserWarning: Boolean Series key will be reindexed to match DataFrame index.\n",
      "  alls.append(df_combine[df_combine.rsquare_x>PV_adult][df_combine.rsquare_y>PV_child].shape[0])\n",
      "<ipython-input-13-fc7ab27f773a>:53: UserWarning: Boolean Series key will be reindexed to match DataFrame index.\n",
      "  print(df_combine[df_combine.rsquare_x>PV_adult][df_combine.rsquare_y>PV_child].shape[0])\n",
      "<ipython-input-13-fc7ab27f773a>:52: UserWarning: Boolean Series key will be reindexed to match DataFrame index.\n",
      "  alls.append(df_combine[df_combine.rsquare_x>PV_adult][df_combine.rsquare_y>PV_child].shape[0])\n",
      "<ipython-input-13-fc7ab27f773a>:53: UserWarning: Boolean Series key will be reindexed to match DataFrame index.\n",
      "  print(df_combine[df_combine.rsquare_x>PV_adult][df_combine.rsquare_y>PV_child].shape[0])\n",
      "<ipython-input-13-fc7ab27f773a>:52: UserWarning: Boolean Series key will be reindexed to match DataFrame index.\n",
      "  alls.append(df_combine[df_combine.rsquare_x>PV_adult][df_combine.rsquare_y>PV_child].shape[0])\n"
     ]
    },
    {
     "name": "stdout",
     "output_type": "stream",
     "text": [
      "15\n",
      "3\n",
      "10\n",
      "11\n",
      "1\n",
      "3\n",
      "26\n",
      "24\n"
     ]
    },
    {
     "name": "stderr",
     "output_type": "stream",
     "text": [
      "<ipython-input-13-fc7ab27f773a>:53: UserWarning: Boolean Series key will be reindexed to match DataFrame index.\n",
      "  print(df_combine[df_combine.rsquare_x>PV_adult][df_combine.rsquare_y>PV_child].shape[0])\n",
      "<ipython-input-13-fc7ab27f773a>:52: UserWarning: Boolean Series key will be reindexed to match DataFrame index.\n",
      "  alls.append(df_combine[df_combine.rsquare_x>PV_adult][df_combine.rsquare_y>PV_child].shape[0])\n",
      "<ipython-input-13-fc7ab27f773a>:53: UserWarning: Boolean Series key will be reindexed to match DataFrame index.\n",
      "  print(df_combine[df_combine.rsquare_x>PV_adult][df_combine.rsquare_y>PV_child].shape[0])\n",
      "<ipython-input-13-fc7ab27f773a>:52: UserWarning: Boolean Series key will be reindexed to match DataFrame index.\n",
      "  alls.append(df_combine[df_combine.rsquare_x>PV_adult][df_combine.rsquare_y>PV_child].shape[0])\n",
      "<ipython-input-13-fc7ab27f773a>:53: UserWarning: Boolean Series key will be reindexed to match DataFrame index.\n",
      "  print(df_combine[df_combine.rsquare_x>PV_adult][df_combine.rsquare_y>PV_child].shape[0])\n",
      "<ipython-input-13-fc7ab27f773a>:52: UserWarning: Boolean Series key will be reindexed to match DataFrame index.\n",
      "  alls.append(df_combine[df_combine.rsquare_x>PV_adult][df_combine.rsquare_y>PV_child].shape[0])\n",
      "<ipython-input-13-fc7ab27f773a>:53: UserWarning: Boolean Series key will be reindexed to match DataFrame index.\n",
      "  print(df_combine[df_combine.rsquare_x>PV_adult][df_combine.rsquare_y>PV_child].shape[0])\n",
      "<ipython-input-13-fc7ab27f773a>:52: UserWarning: Boolean Series key will be reindexed to match DataFrame index.\n",
      "  alls.append(df_combine[df_combine.rsquare_x>PV_adult][df_combine.rsquare_y>PV_child].shape[0])\n",
      "<ipython-input-13-fc7ab27f773a>:53: UserWarning: Boolean Series key will be reindexed to match DataFrame index.\n",
      "  print(df_combine[df_combine.rsquare_x>PV_adult][df_combine.rsquare_y>PV_child].shape[0])\n"
     ]
    },
    {
     "name": "stdout",
     "output_type": "stream",
     "text": [
      "11\n",
      "1\n",
      "8\n",
      "17\n",
      "1\n",
      "5\n",
      "14\n"
     ]
    },
    {
     "name": "stderr",
     "output_type": "stream",
     "text": [
      "<ipython-input-13-fc7ab27f773a>:52: UserWarning: Boolean Series key will be reindexed to match DataFrame index.\n",
      "  alls.append(df_combine[df_combine.rsquare_x>PV_adult][df_combine.rsquare_y>PV_child].shape[0])\n",
      "<ipython-input-13-fc7ab27f773a>:53: UserWarning: Boolean Series key will be reindexed to match DataFrame index.\n",
      "  print(df_combine[df_combine.rsquare_x>PV_adult][df_combine.rsquare_y>PV_child].shape[0])\n",
      "<ipython-input-13-fc7ab27f773a>:52: UserWarning: Boolean Series key will be reindexed to match DataFrame index.\n",
      "  alls.append(df_combine[df_combine.rsquare_x>PV_adult][df_combine.rsquare_y>PV_child].shape[0])\n",
      "<ipython-input-13-fc7ab27f773a>:53: UserWarning: Boolean Series key will be reindexed to match DataFrame index.\n",
      "  print(df_combine[df_combine.rsquare_x>PV_adult][df_combine.rsquare_y>PV_child].shape[0])\n",
      "<ipython-input-13-fc7ab27f773a>:52: UserWarning: Boolean Series key will be reindexed to match DataFrame index.\n",
      "  alls.append(df_combine[df_combine.rsquare_x>PV_adult][df_combine.rsquare_y>PV_child].shape[0])\n",
      "<ipython-input-13-fc7ab27f773a>:53: UserWarning: Boolean Series key will be reindexed to match DataFrame index.\n",
      "  print(df_combine[df_combine.rsquare_x>PV_adult][df_combine.rsquare_y>PV_child].shape[0])\n"
     ]
    },
    {
     "name": "stdout",
     "output_type": "stream",
     "text": [
      "7\n",
      "6\n"
     ]
    },
    {
     "name": "stderr",
     "output_type": "stream",
     "text": [
      "<ipython-input-13-fc7ab27f773a>:52: UserWarning: Boolean Series key will be reindexed to match DataFrame index.\n",
      "  alls.append(df_combine[df_combine.rsquare_x>PV_adult][df_combine.rsquare_y>PV_child].shape[0])\n",
      "<ipython-input-13-fc7ab27f773a>:53: UserWarning: Boolean Series key will be reindexed to match DataFrame index.\n",
      "  print(df_combine[df_combine.rsquare_x>PV_adult][df_combine.rsquare_y>PV_child].shape[0])\n",
      "<ipython-input-13-fc7ab27f773a>:52: UserWarning: Boolean Series key will be reindexed to match DataFrame index.\n",
      "  alls.append(df_combine[df_combine.rsquare_x>PV_adult][df_combine.rsquare_y>PV_child].shape[0])\n",
      "<ipython-input-13-fc7ab27f773a>:53: UserWarning: Boolean Series key will be reindexed to match DataFrame index.\n",
      "  print(df_combine[df_combine.rsquare_x>PV_adult][df_combine.rsquare_y>PV_child].shape[0])\n"
     ]
    },
    {
     "name": "stdout",
     "output_type": "stream",
     "text": [
      "24\n",
      "17\n",
      "1\n"
     ]
    },
    {
     "name": "stderr",
     "output_type": "stream",
     "text": [
      "<ipython-input-13-fc7ab27f773a>:52: UserWarning: Boolean Series key will be reindexed to match DataFrame index.\n",
      "  alls.append(df_combine[df_combine.rsquare_x>PV_adult][df_combine.rsquare_y>PV_child].shape[0])\n",
      "<ipython-input-13-fc7ab27f773a>:53: UserWarning: Boolean Series key will be reindexed to match DataFrame index.\n",
      "  print(df_combine[df_combine.rsquare_x>PV_adult][df_combine.rsquare_y>PV_child].shape[0])\n",
      "<ipython-input-13-fc7ab27f773a>:52: UserWarning: Boolean Series key will be reindexed to match DataFrame index.\n",
      "  alls.append(df_combine[df_combine.rsquare_x>PV_adult][df_combine.rsquare_y>PV_child].shape[0])\n",
      "<ipython-input-13-fc7ab27f773a>:53: UserWarning: Boolean Series key will be reindexed to match DataFrame index.\n",
      "  print(df_combine[df_combine.rsquare_x>PV_adult][df_combine.rsquare_y>PV_child].shape[0])\n",
      "<ipython-input-13-fc7ab27f773a>:52: UserWarning: Boolean Series key will be reindexed to match DataFrame index.\n",
      "  alls.append(df_combine[df_combine.rsquare_x>PV_adult][df_combine.rsquare_y>PV_child].shape[0])\n",
      "<ipython-input-13-fc7ab27f773a>:53: UserWarning: Boolean Series key will be reindexed to match DataFrame index.\n",
      "  print(df_combine[df_combine.rsquare_x>PV_adult][df_combine.rsquare_y>PV_child].shape[0])\n",
      "<ipython-input-13-fc7ab27f773a>:52: UserWarning: Boolean Series key will be reindexed to match DataFrame index.\n",
      "  alls.append(df_combine[df_combine.rsquare_x>PV_adult][df_combine.rsquare_y>PV_child].shape[0])\n",
      "<ipython-input-13-fc7ab27f773a>:53: UserWarning: Boolean Series key will be reindexed to match DataFrame index.\n",
      "  print(df_combine[df_combine.rsquare_x>PV_adult][df_combine.rsquare_y>PV_child].shape[0])\n"
     ]
    },
    {
     "name": "stdout",
     "output_type": "stream",
     "text": [
      "3\n",
      "8\n",
      "4\n"
     ]
    },
    {
     "name": "stderr",
     "output_type": "stream",
     "text": [
      "<ipython-input-13-fc7ab27f773a>:52: UserWarning: Boolean Series key will be reindexed to match DataFrame index.\n",
      "  alls.append(df_combine[df_combine.rsquare_x>PV_adult][df_combine.rsquare_y>PV_child].shape[0])\n",
      "<ipython-input-13-fc7ab27f773a>:53: UserWarning: Boolean Series key will be reindexed to match DataFrame index.\n",
      "  print(df_combine[df_combine.rsquare_x>PV_adult][df_combine.rsquare_y>PV_child].shape[0])\n",
      "<ipython-input-13-fc7ab27f773a>:52: UserWarning: Boolean Series key will be reindexed to match DataFrame index.\n",
      "  alls.append(df_combine[df_combine.rsquare_x>PV_adult][df_combine.rsquare_y>PV_child].shape[0])\n",
      "<ipython-input-13-fc7ab27f773a>:53: UserWarning: Boolean Series key will be reindexed to match DataFrame index.\n",
      "  print(df_combine[df_combine.rsquare_x>PV_adult][df_combine.rsquare_y>PV_child].shape[0])\n",
      "<ipython-input-13-fc7ab27f773a>:52: UserWarning: Boolean Series key will be reindexed to match DataFrame index.\n",
      "  alls.append(df_combine[df_combine.rsquare_x>PV_adult][df_combine.rsquare_y>PV_child].shape[0])\n"
     ]
    },
    {
     "name": "stdout",
     "output_type": "stream",
     "text": [
      "1\n",
      "11\n",
      "8\n"
     ]
    },
    {
     "name": "stderr",
     "output_type": "stream",
     "text": [
      "<ipython-input-13-fc7ab27f773a>:53: UserWarning: Boolean Series key will be reindexed to match DataFrame index.\n",
      "  print(df_combine[df_combine.rsquare_x>PV_adult][df_combine.rsquare_y>PV_child].shape[0])\n",
      "<ipython-input-13-fc7ab27f773a>:52: UserWarning: Boolean Series key will be reindexed to match DataFrame index.\n",
      "  alls.append(df_combine[df_combine.rsquare_x>PV_adult][df_combine.rsquare_y>PV_child].shape[0])\n",
      "<ipython-input-13-fc7ab27f773a>:53: UserWarning: Boolean Series key will be reindexed to match DataFrame index.\n",
      "  print(df_combine[df_combine.rsquare_x>PV_adult][df_combine.rsquare_y>PV_child].shape[0])\n",
      "<ipython-input-13-fc7ab27f773a>:52: UserWarning: Boolean Series key will be reindexed to match DataFrame index.\n",
      "  alls.append(df_combine[df_combine.rsquare_x>PV_adult][df_combine.rsquare_y>PV_child].shape[0])\n",
      "<ipython-input-13-fc7ab27f773a>:53: UserWarning: Boolean Series key will be reindexed to match DataFrame index.\n",
      "  print(df_combine[df_combine.rsquare_x>PV_adult][df_combine.rsquare_y>PV_child].shape[0])\n",
      "<ipython-input-13-fc7ab27f773a>:52: UserWarning: Boolean Series key will be reindexed to match DataFrame index.\n",
      "  alls.append(df_combine[df_combine.rsquare_x>PV_adult][df_combine.rsquare_y>PV_child].shape[0])\n",
      "<ipython-input-13-fc7ab27f773a>:53: UserWarning: Boolean Series key will be reindexed to match DataFrame index.\n",
      "  print(df_combine[df_combine.rsquare_x>PV_adult][df_combine.rsquare_y>PV_child].shape[0])\n"
     ]
    },
    {
     "name": "stdout",
     "output_type": "stream",
     "text": [
      "9\n",
      "34\n",
      "1\n",
      "6\n",
      "17\n"
     ]
    },
    {
     "name": "stderr",
     "output_type": "stream",
     "text": [
      "<ipython-input-13-fc7ab27f773a>:52: UserWarning: Boolean Series key will be reindexed to match DataFrame index.\n",
      "  alls.append(df_combine[df_combine.rsquare_x>PV_adult][df_combine.rsquare_y>PV_child].shape[0])\n",
      "<ipython-input-13-fc7ab27f773a>:53: UserWarning: Boolean Series key will be reindexed to match DataFrame index.\n",
      "  print(df_combine[df_combine.rsquare_x>PV_adult][df_combine.rsquare_y>PV_child].shape[0])\n",
      "<ipython-input-13-fc7ab27f773a>:52: UserWarning: Boolean Series key will be reindexed to match DataFrame index.\n",
      "  alls.append(df_combine[df_combine.rsquare_x>PV_adult][df_combine.rsquare_y>PV_child].shape[0])\n",
      "<ipython-input-13-fc7ab27f773a>:53: UserWarning: Boolean Series key will be reindexed to match DataFrame index.\n",
      "  print(df_combine[df_combine.rsquare_x>PV_adult][df_combine.rsquare_y>PV_child].shape[0])\n",
      "<ipython-input-13-fc7ab27f773a>:52: UserWarning: Boolean Series key will be reindexed to match DataFrame index.\n",
      "  alls.append(df_combine[df_combine.rsquare_x>PV_adult][df_combine.rsquare_y>PV_child].shape[0])\n",
      "<ipython-input-13-fc7ab27f773a>:53: UserWarning: Boolean Series key will be reindexed to match DataFrame index.\n",
      "  print(df_combine[df_combine.rsquare_x>PV_adult][df_combine.rsquare_y>PV_child].shape[0])\n",
      "<ipython-input-13-fc7ab27f773a>:52: UserWarning: Boolean Series key will be reindexed to match DataFrame index.\n",
      "  alls.append(df_combine[df_combine.rsquare_x>PV_adult][df_combine.rsquare_y>PV_child].shape[0])\n",
      "<ipython-input-13-fc7ab27f773a>:53: UserWarning: Boolean Series key will be reindexed to match DataFrame index.\n",
      "  print(df_combine[df_combine.rsquare_x>PV_adult][df_combine.rsquare_y>PV_child].shape[0])\n"
     ]
    },
    {
     "name": "stdout",
     "output_type": "stream",
     "text": [
      "4\n",
      "26\n"
     ]
    },
    {
     "name": "stderr",
     "output_type": "stream",
     "text": [
      "<ipython-input-13-fc7ab27f773a>:52: UserWarning: Boolean Series key will be reindexed to match DataFrame index.\n",
      "  alls.append(df_combine[df_combine.rsquare_x>PV_adult][df_combine.rsquare_y>PV_child].shape[0])\n",
      "<ipython-input-13-fc7ab27f773a>:53: UserWarning: Boolean Series key will be reindexed to match DataFrame index.\n",
      "  print(df_combine[df_combine.rsquare_x>PV_adult][df_combine.rsquare_y>PV_child].shape[0])\n",
      "<ipython-input-13-fc7ab27f773a>:52: UserWarning: Boolean Series key will be reindexed to match DataFrame index.\n",
      "  alls.append(df_combine[df_combine.rsquare_x>PV_adult][df_combine.rsquare_y>PV_child].shape[0])\n",
      "<ipython-input-13-fc7ab27f773a>:53: UserWarning: Boolean Series key will be reindexed to match DataFrame index.\n",
      "  print(df_combine[df_combine.rsquare_x>PV_adult][df_combine.rsquare_y>PV_child].shape[0])\n",
      "<ipython-input-13-fc7ab27f773a>:52: UserWarning: Boolean Series key will be reindexed to match DataFrame index.\n",
      "  alls.append(df_combine[df_combine.rsquare_x>PV_adult][df_combine.rsquare_y>PV_child].shape[0])\n",
      "<ipython-input-13-fc7ab27f773a>:53: UserWarning: Boolean Series key will be reindexed to match DataFrame index.\n",
      "  print(df_combine[df_combine.rsquare_x>PV_adult][df_combine.rsquare_y>PV_child].shape[0])\n"
     ]
    },
    {
     "name": "stdout",
     "output_type": "stream",
     "text": [
      "28\n",
      "14\n",
      "17\n",
      "8\n",
      "11\n",
      "800\n"
     ]
    },
    {
     "name": "stderr",
     "output_type": "stream",
     "text": [
      "<ipython-input-13-fc7ab27f773a>:52: UserWarning: Boolean Series key will be reindexed to match DataFrame index.\n",
      "  alls.append(df_combine[df_combine.rsquare_x>PV_adult][df_combine.rsquare_y>PV_child].shape[0])\n",
      "<ipython-input-13-fc7ab27f773a>:53: UserWarning: Boolean Series key will be reindexed to match DataFrame index.\n",
      "  print(df_combine[df_combine.rsquare_x>PV_adult][df_combine.rsquare_y>PV_child].shape[0])\n",
      "<ipython-input-13-fc7ab27f773a>:52: UserWarning: Boolean Series key will be reindexed to match DataFrame index.\n",
      "  alls.append(df_combine[df_combine.rsquare_x>PV_adult][df_combine.rsquare_y>PV_child].shape[0])\n",
      "<ipython-input-13-fc7ab27f773a>:53: UserWarning: Boolean Series key will be reindexed to match DataFrame index.\n",
      "  print(df_combine[df_combine.rsquare_x>PV_adult][df_combine.rsquare_y>PV_child].shape[0])\n",
      "<ipython-input-13-fc7ab27f773a>:52: UserWarning: Boolean Series key will be reindexed to match DataFrame index.\n",
      "  alls.append(df_combine[df_combine.rsquare_x>PV_adult][df_combine.rsquare_y>PV_child].shape[0])\n",
      "<ipython-input-13-fc7ab27f773a>:53: UserWarning: Boolean Series key will be reindexed to match DataFrame index.\n",
      "  print(df_combine[df_combine.rsquare_x>PV_adult][df_combine.rsquare_y>PV_child].shape[0])\n",
      "<ipython-input-13-fc7ab27f773a>:52: UserWarning: Boolean Series key will be reindexed to match DataFrame index.\n",
      "  alls.append(df_combine[df_combine.rsquare_x>PV_adult][df_combine.rsquare_y>PV_child].shape[0])\n",
      "<ipython-input-13-fc7ab27f773a>:53: UserWarning: Boolean Series key will be reindexed to match DataFrame index.\n",
      "  print(df_combine[df_combine.rsquare_x>PV_adult][df_combine.rsquare_y>PV_child].shape[0])\n",
      "<ipython-input-13-fc7ab27f773a>:52: UserWarning: Boolean Series key will be reindexed to match DataFrame index.\n",
      "  alls.append(df_combine[df_combine.rsquare_x>PV_adult][df_combine.rsquare_y>PV_child].shape[0])\n",
      "<ipython-input-13-fc7ab27f773a>:53: UserWarning: Boolean Series key will be reindexed to match DataFrame index.\n",
      "  print(df_combine[df_combine.rsquare_x>PV_adult][df_combine.rsquare_y>PV_child].shape[0])\n"
     ]
    },
    {
     "name": "stdout",
     "output_type": "stream",
     "text": [
      "20\n",
      "10\n",
      "9\n",
      "0\n"
     ]
    },
    {
     "name": "stderr",
     "output_type": "stream",
     "text": [
      "<ipython-input-13-fc7ab27f773a>:52: UserWarning: Boolean Series key will be reindexed to match DataFrame index.\n",
      "  alls.append(df_combine[df_combine.rsquare_x>PV_adult][df_combine.rsquare_y>PV_child].shape[0])\n",
      "<ipython-input-13-fc7ab27f773a>:53: UserWarning: Boolean Series key will be reindexed to match DataFrame index.\n",
      "  print(df_combine[df_combine.rsquare_x>PV_adult][df_combine.rsquare_y>PV_child].shape[0])\n",
      "<ipython-input-13-fc7ab27f773a>:52: UserWarning: Boolean Series key will be reindexed to match DataFrame index.\n",
      "  alls.append(df_combine[df_combine.rsquare_x>PV_adult][df_combine.rsquare_y>PV_child].shape[0])\n",
      "<ipython-input-13-fc7ab27f773a>:53: UserWarning: Boolean Series key will be reindexed to match DataFrame index.\n",
      "  print(df_combine[df_combine.rsquare_x>PV_adult][df_combine.rsquare_y>PV_child].shape[0])\n",
      "<ipython-input-13-fc7ab27f773a>:52: UserWarning: Boolean Series key will be reindexed to match DataFrame index.\n",
      "  alls.append(df_combine[df_combine.rsquare_x>PV_adult][df_combine.rsquare_y>PV_child].shape[0])\n",
      "<ipython-input-13-fc7ab27f773a>:53: UserWarning: Boolean Series key will be reindexed to match DataFrame index.\n",
      "  print(df_combine[df_combine.rsquare_x>PV_adult][df_combine.rsquare_y>PV_child].shape[0])\n",
      "<ipython-input-13-fc7ab27f773a>:52: UserWarning: Boolean Series key will be reindexed to match DataFrame index.\n",
      "  alls.append(df_combine[df_combine.rsquare_x>PV_adult][df_combine.rsquare_y>PV_child].shape[0])\n",
      "<ipython-input-13-fc7ab27f773a>:53: UserWarning: Boolean Series key will be reindexed to match DataFrame index.\n",
      "  print(df_combine[df_combine.rsquare_x>PV_adult][df_combine.rsquare_y>PV_child].shape[0])\n",
      "<ipython-input-13-fc7ab27f773a>:52: UserWarning: Boolean Series key will be reindexed to match DataFrame index.\n",
      "  alls.append(df_combine[df_combine.rsquare_x>PV_adult][df_combine.rsquare_y>PV_child].shape[0])\n",
      "<ipython-input-13-fc7ab27f773a>:53: UserWarning: Boolean Series key will be reindexed to match DataFrame index.\n",
      "  print(df_combine[df_combine.rsquare_x>PV_adult][df_combine.rsquare_y>PV_child].shape[0])\n"
     ]
    },
    {
     "name": "stdout",
     "output_type": "stream",
     "text": [
      "15\n",
      "25\n",
      "7\n",
      "1\n"
     ]
    },
    {
     "name": "stderr",
     "output_type": "stream",
     "text": [
      "<ipython-input-13-fc7ab27f773a>:52: UserWarning: Boolean Series key will be reindexed to match DataFrame index.\n",
      "  alls.append(df_combine[df_combine.rsquare_x>PV_adult][df_combine.rsquare_y>PV_child].shape[0])\n",
      "<ipython-input-13-fc7ab27f773a>:53: UserWarning: Boolean Series key will be reindexed to match DataFrame index.\n",
      "  print(df_combine[df_combine.rsquare_x>PV_adult][df_combine.rsquare_y>PV_child].shape[0])\n",
      "<ipython-input-13-fc7ab27f773a>:52: UserWarning: Boolean Series key will be reindexed to match DataFrame index.\n",
      "  alls.append(df_combine[df_combine.rsquare_x>PV_adult][df_combine.rsquare_y>PV_child].shape[0])\n",
      "<ipython-input-13-fc7ab27f773a>:53: UserWarning: Boolean Series key will be reindexed to match DataFrame index.\n",
      "  print(df_combine[df_combine.rsquare_x>PV_adult][df_combine.rsquare_y>PV_child].shape[0])\n",
      "<ipython-input-13-fc7ab27f773a>:52: UserWarning: Boolean Series key will be reindexed to match DataFrame index.\n",
      "  alls.append(df_combine[df_combine.rsquare_x>PV_adult][df_combine.rsquare_y>PV_child].shape[0])\n",
      "<ipython-input-13-fc7ab27f773a>:53: UserWarning: Boolean Series key will be reindexed to match DataFrame index.\n",
      "  print(df_combine[df_combine.rsquare_x>PV_adult][df_combine.rsquare_y>PV_child].shape[0])\n",
      "<ipython-input-13-fc7ab27f773a>:52: UserWarning: Boolean Series key will be reindexed to match DataFrame index.\n",
      "  alls.append(df_combine[df_combine.rsquare_x>PV_adult][df_combine.rsquare_y>PV_child].shape[0])\n",
      "<ipython-input-13-fc7ab27f773a>:53: UserWarning: Boolean Series key will be reindexed to match DataFrame index.\n",
      "  print(df_combine[df_combine.rsquare_x>PV_adult][df_combine.rsquare_y>PV_child].shape[0])\n"
     ]
    },
    {
     "name": "stdout",
     "output_type": "stream",
     "text": [
      "16\n",
      "12\n",
      "0\n",
      "1\n"
     ]
    },
    {
     "name": "stderr",
     "output_type": "stream",
     "text": [
      "<ipython-input-13-fc7ab27f773a>:52: UserWarning: Boolean Series key will be reindexed to match DataFrame index.\n",
      "  alls.append(df_combine[df_combine.rsquare_x>PV_adult][df_combine.rsquare_y>PV_child].shape[0])\n",
      "<ipython-input-13-fc7ab27f773a>:53: UserWarning: Boolean Series key will be reindexed to match DataFrame index.\n",
      "  print(df_combine[df_combine.rsquare_x>PV_adult][df_combine.rsquare_y>PV_child].shape[0])\n",
      "<ipython-input-13-fc7ab27f773a>:52: UserWarning: Boolean Series key will be reindexed to match DataFrame index.\n",
      "  alls.append(df_combine[df_combine.rsquare_x>PV_adult][df_combine.rsquare_y>PV_child].shape[0])\n",
      "<ipython-input-13-fc7ab27f773a>:53: UserWarning: Boolean Series key will be reindexed to match DataFrame index.\n",
      "  print(df_combine[df_combine.rsquare_x>PV_adult][df_combine.rsquare_y>PV_child].shape[0])\n"
     ]
    },
    {
     "name": "stdout",
     "output_type": "stream",
     "text": [
      "5\n",
      "0\n"
     ]
    },
    {
     "name": "stderr",
     "output_type": "stream",
     "text": [
      "<ipython-input-13-fc7ab27f773a>:52: UserWarning: Boolean Series key will be reindexed to match DataFrame index.\n",
      "  alls.append(df_combine[df_combine.rsquare_x>PV_adult][df_combine.rsquare_y>PV_child].shape[0])\n",
      "<ipython-input-13-fc7ab27f773a>:53: UserWarning: Boolean Series key will be reindexed to match DataFrame index.\n",
      "  print(df_combine[df_combine.rsquare_x>PV_adult][df_combine.rsquare_y>PV_child].shape[0])\n",
      "<ipython-input-13-fc7ab27f773a>:52: UserWarning: Boolean Series key will be reindexed to match DataFrame index.\n",
      "  alls.append(df_combine[df_combine.rsquare_x>PV_adult][df_combine.rsquare_y>PV_child].shape[0])\n",
      "<ipython-input-13-fc7ab27f773a>:53: UserWarning: Boolean Series key will be reindexed to match DataFrame index.\n",
      "  print(df_combine[df_combine.rsquare_x>PV_adult][df_combine.rsquare_y>PV_child].shape[0])\n",
      "<ipython-input-13-fc7ab27f773a>:52: UserWarning: Boolean Series key will be reindexed to match DataFrame index.\n",
      "  alls.append(df_combine[df_combine.rsquare_x>PV_adult][df_combine.rsquare_y>PV_child].shape[0])\n",
      "<ipython-input-13-fc7ab27f773a>:53: UserWarning: Boolean Series key will be reindexed to match DataFrame index.\n",
      "  print(df_combine[df_combine.rsquare_x>PV_adult][df_combine.rsquare_y>PV_child].shape[0])\n"
     ]
    },
    {
     "name": "stdout",
     "output_type": "stream",
     "text": [
      "2\n",
      "3\n",
      "35\n"
     ]
    },
    {
     "name": "stderr",
     "output_type": "stream",
     "text": [
      "<ipython-input-13-fc7ab27f773a>:52: UserWarning: Boolean Series key will be reindexed to match DataFrame index.\n",
      "  alls.append(df_combine[df_combine.rsquare_x>PV_adult][df_combine.rsquare_y>PV_child].shape[0])\n",
      "<ipython-input-13-fc7ab27f773a>:53: UserWarning: Boolean Series key will be reindexed to match DataFrame index.\n",
      "  print(df_combine[df_combine.rsquare_x>PV_adult][df_combine.rsquare_y>PV_child].shape[0])\n",
      "<ipython-input-13-fc7ab27f773a>:52: UserWarning: Boolean Series key will be reindexed to match DataFrame index.\n",
      "  alls.append(df_combine[df_combine.rsquare_x>PV_adult][df_combine.rsquare_y>PV_child].shape[0])\n",
      "<ipython-input-13-fc7ab27f773a>:53: UserWarning: Boolean Series key will be reindexed to match DataFrame index.\n",
      "  print(df_combine[df_combine.rsquare_x>PV_adult][df_combine.rsquare_y>PV_child].shape[0])\n"
     ]
    },
    {
     "name": "stdout",
     "output_type": "stream",
     "text": [
      "24\n",
      "2\n",
      "20\n"
     ]
    },
    {
     "name": "stderr",
     "output_type": "stream",
     "text": [
      "<ipython-input-13-fc7ab27f773a>:52: UserWarning: Boolean Series key will be reindexed to match DataFrame index.\n",
      "  alls.append(df_combine[df_combine.rsquare_x>PV_adult][df_combine.rsquare_y>PV_child].shape[0])\n",
      "<ipython-input-13-fc7ab27f773a>:53: UserWarning: Boolean Series key will be reindexed to match DataFrame index.\n",
      "  print(df_combine[df_combine.rsquare_x>PV_adult][df_combine.rsquare_y>PV_child].shape[0])\n",
      "<ipython-input-13-fc7ab27f773a>:52: UserWarning: Boolean Series key will be reindexed to match DataFrame index.\n",
      "  alls.append(df_combine[df_combine.rsquare_x>PV_adult][df_combine.rsquare_y>PV_child].shape[0])\n",
      "<ipython-input-13-fc7ab27f773a>:53: UserWarning: Boolean Series key will be reindexed to match DataFrame index.\n",
      "  print(df_combine[df_combine.rsquare_x>PV_adult][df_combine.rsquare_y>PV_child].shape[0])\n",
      "<ipython-input-13-fc7ab27f773a>:52: UserWarning: Boolean Series key will be reindexed to match DataFrame index.\n",
      "  alls.append(df_combine[df_combine.rsquare_x>PV_adult][df_combine.rsquare_y>PV_child].shape[0])\n",
      "<ipython-input-13-fc7ab27f773a>:53: UserWarning: Boolean Series key will be reindexed to match DataFrame index.\n",
      "  print(df_combine[df_combine.rsquare_x>PV_adult][df_combine.rsquare_y>PV_child].shape[0])\n",
      "<ipython-input-13-fc7ab27f773a>:52: UserWarning: Boolean Series key will be reindexed to match DataFrame index.\n",
      "  alls.append(df_combine[df_combine.rsquare_x>PV_adult][df_combine.rsquare_y>PV_child].shape[0])\n",
      "<ipython-input-13-fc7ab27f773a>:53: UserWarning: Boolean Series key will be reindexed to match DataFrame index.\n",
      "  print(df_combine[df_combine.rsquare_x>PV_adult][df_combine.rsquare_y>PV_child].shape[0])\n"
     ]
    },
    {
     "name": "stdout",
     "output_type": "stream",
     "text": [
      "17\n",
      "2\n",
      "4\n"
     ]
    },
    {
     "name": "stderr",
     "output_type": "stream",
     "text": [
      "<ipython-input-13-fc7ab27f773a>:52: UserWarning: Boolean Series key will be reindexed to match DataFrame index.\n",
      "  alls.append(df_combine[df_combine.rsquare_x>PV_adult][df_combine.rsquare_y>PV_child].shape[0])\n",
      "<ipython-input-13-fc7ab27f773a>:53: UserWarning: Boolean Series key will be reindexed to match DataFrame index.\n",
      "  print(df_combine[df_combine.rsquare_x>PV_adult][df_combine.rsquare_y>PV_child].shape[0])\n",
      "<ipython-input-13-fc7ab27f773a>:52: UserWarning: Boolean Series key will be reindexed to match DataFrame index.\n",
      "  alls.append(df_combine[df_combine.rsquare_x>PV_adult][df_combine.rsquare_y>PV_child].shape[0])\n",
      "<ipython-input-13-fc7ab27f773a>:53: UserWarning: Boolean Series key will be reindexed to match DataFrame index.\n",
      "  print(df_combine[df_combine.rsquare_x>PV_adult][df_combine.rsquare_y>PV_child].shape[0])\n"
     ]
    },
    {
     "name": "stdout",
     "output_type": "stream",
     "text": [
      "15\n",
      "16\n"
     ]
    },
    {
     "name": "stderr",
     "output_type": "stream",
     "text": [
      "<ipython-input-13-fc7ab27f773a>:52: UserWarning: Boolean Series key will be reindexed to match DataFrame index.\n",
      "  alls.append(df_combine[df_combine.rsquare_x>PV_adult][df_combine.rsquare_y>PV_child].shape[0])\n",
      "<ipython-input-13-fc7ab27f773a>:53: UserWarning: Boolean Series key will be reindexed to match DataFrame index.\n",
      "  print(df_combine[df_combine.rsquare_x>PV_adult][df_combine.rsquare_y>PV_child].shape[0])\n",
      "<ipython-input-13-fc7ab27f773a>:52: UserWarning: Boolean Series key will be reindexed to match DataFrame index.\n",
      "  alls.append(df_combine[df_combine.rsquare_x>PV_adult][df_combine.rsquare_y>PV_child].shape[0])\n",
      "<ipython-input-13-fc7ab27f773a>:53: UserWarning: Boolean Series key will be reindexed to match DataFrame index.\n",
      "  print(df_combine[df_combine.rsquare_x>PV_adult][df_combine.rsquare_y>PV_child].shape[0])\n",
      "<ipython-input-13-fc7ab27f773a>:52: UserWarning: Boolean Series key will be reindexed to match DataFrame index.\n",
      "  alls.append(df_combine[df_combine.rsquare_x>PV_adult][df_combine.rsquare_y>PV_child].shape[0])\n",
      "<ipython-input-13-fc7ab27f773a>:53: UserWarning: Boolean Series key will be reindexed to match DataFrame index.\n",
      "  print(df_combine[df_combine.rsquare_x>PV_adult][df_combine.rsquare_y>PV_child].shape[0])\n"
     ]
    },
    {
     "name": "stdout",
     "output_type": "stream",
     "text": [
      "32\n",
      "24\n",
      "3\n"
     ]
    },
    {
     "name": "stderr",
     "output_type": "stream",
     "text": [
      "<ipython-input-13-fc7ab27f773a>:52: UserWarning: Boolean Series key will be reindexed to match DataFrame index.\n",
      "  alls.append(df_combine[df_combine.rsquare_x>PV_adult][df_combine.rsquare_y>PV_child].shape[0])\n",
      "<ipython-input-13-fc7ab27f773a>:53: UserWarning: Boolean Series key will be reindexed to match DataFrame index.\n",
      "  print(df_combine[df_combine.rsquare_x>PV_adult][df_combine.rsquare_y>PV_child].shape[0])\n",
      "<ipython-input-13-fc7ab27f773a>:52: UserWarning: Boolean Series key will be reindexed to match DataFrame index.\n",
      "  alls.append(df_combine[df_combine.rsquare_x>PV_adult][df_combine.rsquare_y>PV_child].shape[0])\n",
      "<ipython-input-13-fc7ab27f773a>:53: UserWarning: Boolean Series key will be reindexed to match DataFrame index.\n",
      "  print(df_combine[df_combine.rsquare_x>PV_adult][df_combine.rsquare_y>PV_child].shape[0])\n",
      "<ipython-input-13-fc7ab27f773a>:52: UserWarning: Boolean Series key will be reindexed to match DataFrame index.\n",
      "  alls.append(df_combine[df_combine.rsquare_x>PV_adult][df_combine.rsquare_y>PV_child].shape[0])\n",
      "<ipython-input-13-fc7ab27f773a>:53: UserWarning: Boolean Series key will be reindexed to match DataFrame index.\n",
      "  print(df_combine[df_combine.rsquare_x>PV_adult][df_combine.rsquare_y>PV_child].shape[0])\n",
      "<ipython-input-13-fc7ab27f773a>:52: UserWarning: Boolean Series key will be reindexed to match DataFrame index.\n",
      "  alls.append(df_combine[df_combine.rsquare_x>PV_adult][df_combine.rsquare_y>PV_child].shape[0])\n",
      "<ipython-input-13-fc7ab27f773a>:53: UserWarning: Boolean Series key will be reindexed to match DataFrame index.\n",
      "  print(df_combine[df_combine.rsquare_x>PV_adult][df_combine.rsquare_y>PV_child].shape[0])\n"
     ]
    },
    {
     "name": "stdout",
     "output_type": "stream",
     "text": [
      "11\n",
      "12\n",
      "0\n",
      "6\n",
      "17\n",
      "6\n"
     ]
    },
    {
     "name": "stderr",
     "output_type": "stream",
     "text": [
      "<ipython-input-13-fc7ab27f773a>:52: UserWarning: Boolean Series key will be reindexed to match DataFrame index.\n",
      "  alls.append(df_combine[df_combine.rsquare_x>PV_adult][df_combine.rsquare_y>PV_child].shape[0])\n",
      "<ipython-input-13-fc7ab27f773a>:53: UserWarning: Boolean Series key will be reindexed to match DataFrame index.\n",
      "  print(df_combine[df_combine.rsquare_x>PV_adult][df_combine.rsquare_y>PV_child].shape[0])\n",
      "<ipython-input-13-fc7ab27f773a>:52: UserWarning: Boolean Series key will be reindexed to match DataFrame index.\n",
      "  alls.append(df_combine[df_combine.rsquare_x>PV_adult][df_combine.rsquare_y>PV_child].shape[0])\n",
      "<ipython-input-13-fc7ab27f773a>:53: UserWarning: Boolean Series key will be reindexed to match DataFrame index.\n",
      "  print(df_combine[df_combine.rsquare_x>PV_adult][df_combine.rsquare_y>PV_child].shape[0])\n",
      "<ipython-input-13-fc7ab27f773a>:52: UserWarning: Boolean Series key will be reindexed to match DataFrame index.\n",
      "  alls.append(df_combine[df_combine.rsquare_x>PV_adult][df_combine.rsquare_y>PV_child].shape[0])\n",
      "<ipython-input-13-fc7ab27f773a>:53: UserWarning: Boolean Series key will be reindexed to match DataFrame index.\n",
      "  print(df_combine[df_combine.rsquare_x>PV_adult][df_combine.rsquare_y>PV_child].shape[0])\n",
      "<ipython-input-13-fc7ab27f773a>:52: UserWarning: Boolean Series key will be reindexed to match DataFrame index.\n",
      "  alls.append(df_combine[df_combine.rsquare_x>PV_adult][df_combine.rsquare_y>PV_child].shape[0])\n",
      "<ipython-input-13-fc7ab27f773a>:53: UserWarning: Boolean Series key will be reindexed to match DataFrame index.\n",
      "  print(df_combine[df_combine.rsquare_x>PV_adult][df_combine.rsquare_y>PV_child].shape[0])\n",
      "<ipython-input-13-fc7ab27f773a>:52: UserWarning: Boolean Series key will be reindexed to match DataFrame index.\n",
      "  alls.append(df_combine[df_combine.rsquare_x>PV_adult][df_combine.rsquare_y>PV_child].shape[0])\n",
      "<ipython-input-13-fc7ab27f773a>:53: UserWarning: Boolean Series key will be reindexed to match DataFrame index.\n",
      "  print(df_combine[df_combine.rsquare_x>PV_adult][df_combine.rsquare_y>PV_child].shape[0])\n"
     ]
    },
    {
     "name": "stdout",
     "output_type": "stream",
     "text": [
      "32\n",
      "4\n",
      "10\n",
      "31\n"
     ]
    },
    {
     "name": "stderr",
     "output_type": "stream",
     "text": [
      "<ipython-input-13-fc7ab27f773a>:52: UserWarning: Boolean Series key will be reindexed to match DataFrame index.\n",
      "  alls.append(df_combine[df_combine.rsquare_x>PV_adult][df_combine.rsquare_y>PV_child].shape[0])\n",
      "<ipython-input-13-fc7ab27f773a>:53: UserWarning: Boolean Series key will be reindexed to match DataFrame index.\n",
      "  print(df_combine[df_combine.rsquare_x>PV_adult][df_combine.rsquare_y>PV_child].shape[0])\n",
      "<ipython-input-13-fc7ab27f773a>:52: UserWarning: Boolean Series key will be reindexed to match DataFrame index.\n",
      "  alls.append(df_combine[df_combine.rsquare_x>PV_adult][df_combine.rsquare_y>PV_child].shape[0])\n",
      "<ipython-input-13-fc7ab27f773a>:53: UserWarning: Boolean Series key will be reindexed to match DataFrame index.\n",
      "  print(df_combine[df_combine.rsquare_x>PV_adult][df_combine.rsquare_y>PV_child].shape[0])\n",
      "<ipython-input-13-fc7ab27f773a>:52: UserWarning: Boolean Series key will be reindexed to match DataFrame index.\n",
      "  alls.append(df_combine[df_combine.rsquare_x>PV_adult][df_combine.rsquare_y>PV_child].shape[0])\n",
      "<ipython-input-13-fc7ab27f773a>:53: UserWarning: Boolean Series key will be reindexed to match DataFrame index.\n",
      "  print(df_combine[df_combine.rsquare_x>PV_adult][df_combine.rsquare_y>PV_child].shape[0])\n",
      "<ipython-input-13-fc7ab27f773a>:52: UserWarning: Boolean Series key will be reindexed to match DataFrame index.\n",
      "  alls.append(df_combine[df_combine.rsquare_x>PV_adult][df_combine.rsquare_y>PV_child].shape[0])\n",
      "<ipython-input-13-fc7ab27f773a>:53: UserWarning: Boolean Series key will be reindexed to match DataFrame index.\n",
      "  print(df_combine[df_combine.rsquare_x>PV_adult][df_combine.rsquare_y>PV_child].shape[0])\n",
      "<ipython-input-13-fc7ab27f773a>:52: UserWarning: Boolean Series key will be reindexed to match DataFrame index.\n",
      "  alls.append(df_combine[df_combine.rsquare_x>PV_adult][df_combine.rsquare_y>PV_child].shape[0])\n",
      "<ipython-input-13-fc7ab27f773a>:53: UserWarning: Boolean Series key will be reindexed to match DataFrame index.\n",
      "  print(df_combine[df_combine.rsquare_x>PV_adult][df_combine.rsquare_y>PV_child].shape[0])\n",
      "<ipython-input-13-fc7ab27f773a>:52: UserWarning: Boolean Series key will be reindexed to match DataFrame index.\n",
      "  alls.append(df_combine[df_combine.rsquare_x>PV_adult][df_combine.rsquare_y>PV_child].shape[0])\n"
     ]
    },
    {
     "name": "stdout",
     "output_type": "stream",
     "text": [
      "1\n",
      "5\n",
      "5\n",
      "17\n",
      "18\n"
     ]
    },
    {
     "name": "stderr",
     "output_type": "stream",
     "text": [
      "<ipython-input-13-fc7ab27f773a>:53: UserWarning: Boolean Series key will be reindexed to match DataFrame index.\n",
      "  print(df_combine[df_combine.rsquare_x>PV_adult][df_combine.rsquare_y>PV_child].shape[0])\n",
      "<ipython-input-13-fc7ab27f773a>:52: UserWarning: Boolean Series key will be reindexed to match DataFrame index.\n",
      "  alls.append(df_combine[df_combine.rsquare_x>PV_adult][df_combine.rsquare_y>PV_child].shape[0])\n",
      "<ipython-input-13-fc7ab27f773a>:53: UserWarning: Boolean Series key will be reindexed to match DataFrame index.\n",
      "  print(df_combine[df_combine.rsquare_x>PV_adult][df_combine.rsquare_y>PV_child].shape[0])\n",
      "<ipython-input-13-fc7ab27f773a>:52: UserWarning: Boolean Series key will be reindexed to match DataFrame index.\n",
      "  alls.append(df_combine[df_combine.rsquare_x>PV_adult][df_combine.rsquare_y>PV_child].shape[0])\n",
      "<ipython-input-13-fc7ab27f773a>:53: UserWarning: Boolean Series key will be reindexed to match DataFrame index.\n",
      "  print(df_combine[df_combine.rsquare_x>PV_adult][df_combine.rsquare_y>PV_child].shape[0])\n",
      "<ipython-input-13-fc7ab27f773a>:52: UserWarning: Boolean Series key will be reindexed to match DataFrame index.\n",
      "  alls.append(df_combine[df_combine.rsquare_x>PV_adult][df_combine.rsquare_y>PV_child].shape[0])\n",
      "<ipython-input-13-fc7ab27f773a>:53: UserWarning: Boolean Series key will be reindexed to match DataFrame index.\n",
      "  print(df_combine[df_combine.rsquare_x>PV_adult][df_combine.rsquare_y>PV_child].shape[0])\n",
      "<ipython-input-13-fc7ab27f773a>:52: UserWarning: Boolean Series key will be reindexed to match DataFrame index.\n",
      "  alls.append(df_combine[df_combine.rsquare_x>PV_adult][df_combine.rsquare_y>PV_child].shape[0])\n"
     ]
    },
    {
     "name": "stdout",
     "output_type": "stream",
     "text": [
      "5\n",
      "0\n",
      "24\n",
      "4\n"
     ]
    },
    {
     "name": "stderr",
     "output_type": "stream",
     "text": [
      "<ipython-input-13-fc7ab27f773a>:53: UserWarning: Boolean Series key will be reindexed to match DataFrame index.\n",
      "  print(df_combine[df_combine.rsquare_x>PV_adult][df_combine.rsquare_y>PV_child].shape[0])\n",
      "<ipython-input-13-fc7ab27f773a>:52: UserWarning: Boolean Series key will be reindexed to match DataFrame index.\n",
      "  alls.append(df_combine[df_combine.rsquare_x>PV_adult][df_combine.rsquare_y>PV_child].shape[0])\n",
      "<ipython-input-13-fc7ab27f773a>:53: UserWarning: Boolean Series key will be reindexed to match DataFrame index.\n",
      "  print(df_combine[df_combine.rsquare_x>PV_adult][df_combine.rsquare_y>PV_child].shape[0])\n",
      "<ipython-input-13-fc7ab27f773a>:52: UserWarning: Boolean Series key will be reindexed to match DataFrame index.\n",
      "  alls.append(df_combine[df_combine.rsquare_x>PV_adult][df_combine.rsquare_y>PV_child].shape[0])\n",
      "<ipython-input-13-fc7ab27f773a>:53: UserWarning: Boolean Series key will be reindexed to match DataFrame index.\n",
      "  print(df_combine[df_combine.rsquare_x>PV_adult][df_combine.rsquare_y>PV_child].shape[0])\n"
     ]
    },
    {
     "name": "stdout",
     "output_type": "stream",
     "text": [
      "0\n",
      "32\n"
     ]
    },
    {
     "name": "stderr",
     "output_type": "stream",
     "text": [
      "<ipython-input-13-fc7ab27f773a>:52: UserWarning: Boolean Series key will be reindexed to match DataFrame index.\n",
      "  alls.append(df_combine[df_combine.rsquare_x>PV_adult][df_combine.rsquare_y>PV_child].shape[0])\n",
      "<ipython-input-13-fc7ab27f773a>:53: UserWarning: Boolean Series key will be reindexed to match DataFrame index.\n",
      "  print(df_combine[df_combine.rsquare_x>PV_adult][df_combine.rsquare_y>PV_child].shape[0])\n",
      "<ipython-input-13-fc7ab27f773a>:52: UserWarning: Boolean Series key will be reindexed to match DataFrame index.\n",
      "  alls.append(df_combine[df_combine.rsquare_x>PV_adult][df_combine.rsquare_y>PV_child].shape[0])\n",
      "<ipython-input-13-fc7ab27f773a>:53: UserWarning: Boolean Series key will be reindexed to match DataFrame index.\n",
      "  print(df_combine[df_combine.rsquare_x>PV_adult][df_combine.rsquare_y>PV_child].shape[0])\n",
      "<ipython-input-13-fc7ab27f773a>:52: UserWarning: Boolean Series key will be reindexed to match DataFrame index.\n",
      "  alls.append(df_combine[df_combine.rsquare_x>PV_adult][df_combine.rsquare_y>PV_child].shape[0])\n",
      "<ipython-input-13-fc7ab27f773a>:53: UserWarning: Boolean Series key will be reindexed to match DataFrame index.\n",
      "  print(df_combine[df_combine.rsquare_x>PV_adult][df_combine.rsquare_y>PV_child].shape[0])\n",
      "<ipython-input-13-fc7ab27f773a>:52: UserWarning: Boolean Series key will be reindexed to match DataFrame index.\n",
      "  alls.append(df_combine[df_combine.rsquare_x>PV_adult][df_combine.rsquare_y>PV_child].shape[0])\n",
      "<ipython-input-13-fc7ab27f773a>:53: UserWarning: Boolean Series key will be reindexed to match DataFrame index.\n",
      "  print(df_combine[df_combine.rsquare_x>PV_adult][df_combine.rsquare_y>PV_child].shape[0])\n"
     ]
    },
    {
     "name": "stdout",
     "output_type": "stream",
     "text": [
      "0\n",
      "850\n",
      "0\n",
      "11\n",
      "2\n",
      "5\n"
     ]
    },
    {
     "name": "stderr",
     "output_type": "stream",
     "text": [
      "<ipython-input-13-fc7ab27f773a>:52: UserWarning: Boolean Series key will be reindexed to match DataFrame index.\n",
      "  alls.append(df_combine[df_combine.rsquare_x>PV_adult][df_combine.rsquare_y>PV_child].shape[0])\n",
      "<ipython-input-13-fc7ab27f773a>:53: UserWarning: Boolean Series key will be reindexed to match DataFrame index.\n",
      "  print(df_combine[df_combine.rsquare_x>PV_adult][df_combine.rsquare_y>PV_child].shape[0])\n",
      "<ipython-input-13-fc7ab27f773a>:52: UserWarning: Boolean Series key will be reindexed to match DataFrame index.\n",
      "  alls.append(df_combine[df_combine.rsquare_x>PV_adult][df_combine.rsquare_y>PV_child].shape[0])\n",
      "<ipython-input-13-fc7ab27f773a>:53: UserWarning: Boolean Series key will be reindexed to match DataFrame index.\n",
      "  print(df_combine[df_combine.rsquare_x>PV_adult][df_combine.rsquare_y>PV_child].shape[0])\n",
      "<ipython-input-13-fc7ab27f773a>:52: UserWarning: Boolean Series key will be reindexed to match DataFrame index.\n",
      "  alls.append(df_combine[df_combine.rsquare_x>PV_adult][df_combine.rsquare_y>PV_child].shape[0])\n",
      "<ipython-input-13-fc7ab27f773a>:53: UserWarning: Boolean Series key will be reindexed to match DataFrame index.\n",
      "  print(df_combine[df_combine.rsquare_x>PV_adult][df_combine.rsquare_y>PV_child].shape[0])\n",
      "<ipython-input-13-fc7ab27f773a>:52: UserWarning: Boolean Series key will be reindexed to match DataFrame index.\n",
      "  alls.append(df_combine[df_combine.rsquare_x>PV_adult][df_combine.rsquare_y>PV_child].shape[0])\n",
      "<ipython-input-13-fc7ab27f773a>:53: UserWarning: Boolean Series key will be reindexed to match DataFrame index.\n",
      "  print(df_combine[df_combine.rsquare_x>PV_adult][df_combine.rsquare_y>PV_child].shape[0])\n",
      "<ipython-input-13-fc7ab27f773a>:52: UserWarning: Boolean Series key will be reindexed to match DataFrame index.\n",
      "  alls.append(df_combine[df_combine.rsquare_x>PV_adult][df_combine.rsquare_y>PV_child].shape[0])\n",
      "<ipython-input-13-fc7ab27f773a>:53: UserWarning: Boolean Series key will be reindexed to match DataFrame index.\n",
      "  print(df_combine[df_combine.rsquare_x>PV_adult][df_combine.rsquare_y>PV_child].shape[0])\n"
     ]
    },
    {
     "name": "stdout",
     "output_type": "stream",
     "text": [
      "9\n",
      "0\n",
      "6\n"
     ]
    },
    {
     "name": "stderr",
     "output_type": "stream",
     "text": [
      "<ipython-input-13-fc7ab27f773a>:52: UserWarning: Boolean Series key will be reindexed to match DataFrame index.\n",
      "  alls.append(df_combine[df_combine.rsquare_x>PV_adult][df_combine.rsquare_y>PV_child].shape[0])\n",
      "<ipython-input-13-fc7ab27f773a>:53: UserWarning: Boolean Series key will be reindexed to match DataFrame index.\n",
      "  print(df_combine[df_combine.rsquare_x>PV_adult][df_combine.rsquare_y>PV_child].shape[0])\n",
      "<ipython-input-13-fc7ab27f773a>:52: UserWarning: Boolean Series key will be reindexed to match DataFrame index.\n",
      "  alls.append(df_combine[df_combine.rsquare_x>PV_adult][df_combine.rsquare_y>PV_child].shape[0])\n",
      "<ipython-input-13-fc7ab27f773a>:53: UserWarning: Boolean Series key will be reindexed to match DataFrame index.\n",
      "  print(df_combine[df_combine.rsquare_x>PV_adult][df_combine.rsquare_y>PV_child].shape[0])\n",
      "<ipython-input-13-fc7ab27f773a>:52: UserWarning: Boolean Series key will be reindexed to match DataFrame index.\n",
      "  alls.append(df_combine[df_combine.rsquare_x>PV_adult][df_combine.rsquare_y>PV_child].shape[0])\n"
     ]
    },
    {
     "name": "stdout",
     "output_type": "stream",
     "text": [
      "17\n",
      "3\n"
     ]
    },
    {
     "name": "stderr",
     "output_type": "stream",
     "text": [
      "<ipython-input-13-fc7ab27f773a>:53: UserWarning: Boolean Series key will be reindexed to match DataFrame index.\n",
      "  print(df_combine[df_combine.rsquare_x>PV_adult][df_combine.rsquare_y>PV_child].shape[0])\n",
      "<ipython-input-13-fc7ab27f773a>:52: UserWarning: Boolean Series key will be reindexed to match DataFrame index.\n",
      "  alls.append(df_combine[df_combine.rsquare_x>PV_adult][df_combine.rsquare_y>PV_child].shape[0])\n",
      "<ipython-input-13-fc7ab27f773a>:53: UserWarning: Boolean Series key will be reindexed to match DataFrame index.\n",
      "  print(df_combine[df_combine.rsquare_x>PV_adult][df_combine.rsquare_y>PV_child].shape[0])\n",
      "<ipython-input-13-fc7ab27f773a>:52: UserWarning: Boolean Series key will be reindexed to match DataFrame index.\n",
      "  alls.append(df_combine[df_combine.rsquare_x>PV_adult][df_combine.rsquare_y>PV_child].shape[0])\n",
      "<ipython-input-13-fc7ab27f773a>:53: UserWarning: Boolean Series key will be reindexed to match DataFrame index.\n",
      "  print(df_combine[df_combine.rsquare_x>PV_adult][df_combine.rsquare_y>PV_child].shape[0])\n",
      "<ipython-input-13-fc7ab27f773a>:52: UserWarning: Boolean Series key will be reindexed to match DataFrame index.\n",
      "  alls.append(df_combine[df_combine.rsquare_x>PV_adult][df_combine.rsquare_y>PV_child].shape[0])\n",
      "<ipython-input-13-fc7ab27f773a>:53: UserWarning: Boolean Series key will be reindexed to match DataFrame index.\n",
      "  print(df_combine[df_combine.rsquare_x>PV_adult][df_combine.rsquare_y>PV_child].shape[0])\n"
     ]
    },
    {
     "name": "stdout",
     "output_type": "stream",
     "text": [
      "9\n",
      "11\n",
      "9\n",
      "9\n",
      "7\n",
      "3\n"
     ]
    },
    {
     "name": "stderr",
     "output_type": "stream",
     "text": [
      "<ipython-input-13-fc7ab27f773a>:52: UserWarning: Boolean Series key will be reindexed to match DataFrame index.\n",
      "  alls.append(df_combine[df_combine.rsquare_x>PV_adult][df_combine.rsquare_y>PV_child].shape[0])\n",
      "<ipython-input-13-fc7ab27f773a>:53: UserWarning: Boolean Series key will be reindexed to match DataFrame index.\n",
      "  print(df_combine[df_combine.rsquare_x>PV_adult][df_combine.rsquare_y>PV_child].shape[0])\n",
      "<ipython-input-13-fc7ab27f773a>:52: UserWarning: Boolean Series key will be reindexed to match DataFrame index.\n",
      "  alls.append(df_combine[df_combine.rsquare_x>PV_adult][df_combine.rsquare_y>PV_child].shape[0])\n",
      "<ipython-input-13-fc7ab27f773a>:53: UserWarning: Boolean Series key will be reindexed to match DataFrame index.\n",
      "  print(df_combine[df_combine.rsquare_x>PV_adult][df_combine.rsquare_y>PV_child].shape[0])\n",
      "<ipython-input-13-fc7ab27f773a>:52: UserWarning: Boolean Series key will be reindexed to match DataFrame index.\n",
      "  alls.append(df_combine[df_combine.rsquare_x>PV_adult][df_combine.rsquare_y>PV_child].shape[0])\n",
      "<ipython-input-13-fc7ab27f773a>:53: UserWarning: Boolean Series key will be reindexed to match DataFrame index.\n",
      "  print(df_combine[df_combine.rsquare_x>PV_adult][df_combine.rsquare_y>PV_child].shape[0])\n"
     ]
    },
    {
     "name": "stdout",
     "output_type": "stream",
     "text": [
      "7\n",
      "3\n",
      "3\n"
     ]
    },
    {
     "name": "stderr",
     "output_type": "stream",
     "text": [
      "<ipython-input-13-fc7ab27f773a>:52: UserWarning: Boolean Series key will be reindexed to match DataFrame index.\n",
      "  alls.append(df_combine[df_combine.rsquare_x>PV_adult][df_combine.rsquare_y>PV_child].shape[0])\n",
      "<ipython-input-13-fc7ab27f773a>:53: UserWarning: Boolean Series key will be reindexed to match DataFrame index.\n",
      "  print(df_combine[df_combine.rsquare_x>PV_adult][df_combine.rsquare_y>PV_child].shape[0])\n",
      "<ipython-input-13-fc7ab27f773a>:52: UserWarning: Boolean Series key will be reindexed to match DataFrame index.\n",
      "  alls.append(df_combine[df_combine.rsquare_x>PV_adult][df_combine.rsquare_y>PV_child].shape[0])\n",
      "<ipython-input-13-fc7ab27f773a>:53: UserWarning: Boolean Series key will be reindexed to match DataFrame index.\n",
      "  print(df_combine[df_combine.rsquare_x>PV_adult][df_combine.rsquare_y>PV_child].shape[0])\n",
      "<ipython-input-13-fc7ab27f773a>:52: UserWarning: Boolean Series key will be reindexed to match DataFrame index.\n",
      "  alls.append(df_combine[df_combine.rsquare_x>PV_adult][df_combine.rsquare_y>PV_child].shape[0])\n",
      "<ipython-input-13-fc7ab27f773a>:53: UserWarning: Boolean Series key will be reindexed to match DataFrame index.\n",
      "  print(df_combine[df_combine.rsquare_x>PV_adult][df_combine.rsquare_y>PV_child].shape[0])\n",
      "<ipython-input-13-fc7ab27f773a>:52: UserWarning: Boolean Series key will be reindexed to match DataFrame index.\n",
      "  alls.append(df_combine[df_combine.rsquare_x>PV_adult][df_combine.rsquare_y>PV_child].shape[0])\n",
      "<ipython-input-13-fc7ab27f773a>:53: UserWarning: Boolean Series key will be reindexed to match DataFrame index.\n",
      "  print(df_combine[df_combine.rsquare_x>PV_adult][df_combine.rsquare_y>PV_child].shape[0])\n"
     ]
    },
    {
     "name": "stdout",
     "output_type": "stream",
     "text": [
      "0\n",
      "11\n",
      "3\n"
     ]
    },
    {
     "name": "stderr",
     "output_type": "stream",
     "text": [
      "<ipython-input-13-fc7ab27f773a>:52: UserWarning: Boolean Series key will be reindexed to match DataFrame index.\n",
      "  alls.append(df_combine[df_combine.rsquare_x>PV_adult][df_combine.rsquare_y>PV_child].shape[0])\n",
      "<ipython-input-13-fc7ab27f773a>:53: UserWarning: Boolean Series key will be reindexed to match DataFrame index.\n",
      "  print(df_combine[df_combine.rsquare_x>PV_adult][df_combine.rsquare_y>PV_child].shape[0])\n",
      "<ipython-input-13-fc7ab27f773a>:52: UserWarning: Boolean Series key will be reindexed to match DataFrame index.\n",
      "  alls.append(df_combine[df_combine.rsquare_x>PV_adult][df_combine.rsquare_y>PV_child].shape[0])\n",
      "<ipython-input-13-fc7ab27f773a>:53: UserWarning: Boolean Series key will be reindexed to match DataFrame index.\n",
      "  print(df_combine[df_combine.rsquare_x>PV_adult][df_combine.rsquare_y>PV_child].shape[0])\n"
     ]
    },
    {
     "name": "stdout",
     "output_type": "stream",
     "text": [
      "0\n",
      "17\n",
      "0\n"
     ]
    },
    {
     "name": "stderr",
     "output_type": "stream",
     "text": [
      "<ipython-input-13-fc7ab27f773a>:52: UserWarning: Boolean Series key will be reindexed to match DataFrame index.\n",
      "  alls.append(df_combine[df_combine.rsquare_x>PV_adult][df_combine.rsquare_y>PV_child].shape[0])\n",
      "<ipython-input-13-fc7ab27f773a>:53: UserWarning: Boolean Series key will be reindexed to match DataFrame index.\n",
      "  print(df_combine[df_combine.rsquare_x>PV_adult][df_combine.rsquare_y>PV_child].shape[0])\n",
      "<ipython-input-13-fc7ab27f773a>:52: UserWarning: Boolean Series key will be reindexed to match DataFrame index.\n",
      "  alls.append(df_combine[df_combine.rsquare_x>PV_adult][df_combine.rsquare_y>PV_child].shape[0])\n",
      "<ipython-input-13-fc7ab27f773a>:53: UserWarning: Boolean Series key will be reindexed to match DataFrame index.\n",
      "  print(df_combine[df_combine.rsquare_x>PV_adult][df_combine.rsquare_y>PV_child].shape[0])\n",
      "<ipython-input-13-fc7ab27f773a>:52: UserWarning: Boolean Series key will be reindexed to match DataFrame index.\n",
      "  alls.append(df_combine[df_combine.rsquare_x>PV_adult][df_combine.rsquare_y>PV_child].shape[0])\n",
      "<ipython-input-13-fc7ab27f773a>:53: UserWarning: Boolean Series key will be reindexed to match DataFrame index.\n",
      "  print(df_combine[df_combine.rsquare_x>PV_adult][df_combine.rsquare_y>PV_child].shape[0])\n",
      "<ipython-input-13-fc7ab27f773a>:52: UserWarning: Boolean Series key will be reindexed to match DataFrame index.\n",
      "  alls.append(df_combine[df_combine.rsquare_x>PV_adult][df_combine.rsquare_y>PV_child].shape[0])\n",
      "<ipython-input-13-fc7ab27f773a>:53: UserWarning: Boolean Series key will be reindexed to match DataFrame index.\n",
      "  print(df_combine[df_combine.rsquare_x>PV_adult][df_combine.rsquare_y>PV_child].shape[0])\n",
      "<ipython-input-13-fc7ab27f773a>:52: UserWarning: Boolean Series key will be reindexed to match DataFrame index.\n",
      "  alls.append(df_combine[df_combine.rsquare_x>PV_adult][df_combine.rsquare_y>PV_child].shape[0])\n",
      "<ipython-input-13-fc7ab27f773a>:53: UserWarning: Boolean Series key will be reindexed to match DataFrame index.\n",
      "  print(df_combine[df_combine.rsquare_x>PV_adult][df_combine.rsquare_y>PV_child].shape[0])\n"
     ]
    },
    {
     "name": "stdout",
     "output_type": "stream",
     "text": [
      "7\n",
      "25\n",
      "14\n",
      "12\n",
      "0\n",
      "29\n"
     ]
    },
    {
     "name": "stderr",
     "output_type": "stream",
     "text": [
      "<ipython-input-13-fc7ab27f773a>:52: UserWarning: Boolean Series key will be reindexed to match DataFrame index.\n",
      "  alls.append(df_combine[df_combine.rsquare_x>PV_adult][df_combine.rsquare_y>PV_child].shape[0])\n",
      "<ipython-input-13-fc7ab27f773a>:53: UserWarning: Boolean Series key will be reindexed to match DataFrame index.\n",
      "  print(df_combine[df_combine.rsquare_x>PV_adult][df_combine.rsquare_y>PV_child].shape[0])\n",
      "<ipython-input-13-fc7ab27f773a>:52: UserWarning: Boolean Series key will be reindexed to match DataFrame index.\n",
      "  alls.append(df_combine[df_combine.rsquare_x>PV_adult][df_combine.rsquare_y>PV_child].shape[0])\n",
      "<ipython-input-13-fc7ab27f773a>:53: UserWarning: Boolean Series key will be reindexed to match DataFrame index.\n",
      "  print(df_combine[df_combine.rsquare_x>PV_adult][df_combine.rsquare_y>PV_child].shape[0])\n",
      "<ipython-input-13-fc7ab27f773a>:52: UserWarning: Boolean Series key will be reindexed to match DataFrame index.\n",
      "  alls.append(df_combine[df_combine.rsquare_x>PV_adult][df_combine.rsquare_y>PV_child].shape[0])\n",
      "<ipython-input-13-fc7ab27f773a>:53: UserWarning: Boolean Series key will be reindexed to match DataFrame index.\n",
      "  print(df_combine[df_combine.rsquare_x>PV_adult][df_combine.rsquare_y>PV_child].shape[0])\n",
      "<ipython-input-13-fc7ab27f773a>:52: UserWarning: Boolean Series key will be reindexed to match DataFrame index.\n",
      "  alls.append(df_combine[df_combine.rsquare_x>PV_adult][df_combine.rsquare_y>PV_child].shape[0])\n",
      "<ipython-input-13-fc7ab27f773a>:53: UserWarning: Boolean Series key will be reindexed to match DataFrame index.\n",
      "  print(df_combine[df_combine.rsquare_x>PV_adult][df_combine.rsquare_y>PV_child].shape[0])\n",
      "<ipython-input-13-fc7ab27f773a>:52: UserWarning: Boolean Series key will be reindexed to match DataFrame index.\n",
      "  alls.append(df_combine[df_combine.rsquare_x>PV_adult][df_combine.rsquare_y>PV_child].shape[0])\n",
      "<ipython-input-13-fc7ab27f773a>:53: UserWarning: Boolean Series key will be reindexed to match DataFrame index.\n",
      "  print(df_combine[df_combine.rsquare_x>PV_adult][df_combine.rsquare_y>PV_child].shape[0])\n"
     ]
    },
    {
     "name": "stdout",
     "output_type": "stream",
     "text": [
      "27\n",
      "4\n",
      "1\n",
      "0\n"
     ]
    },
    {
     "name": "stderr",
     "output_type": "stream",
     "text": [
      "<ipython-input-13-fc7ab27f773a>:52: UserWarning: Boolean Series key will be reindexed to match DataFrame index.\n",
      "  alls.append(df_combine[df_combine.rsquare_x>PV_adult][df_combine.rsquare_y>PV_child].shape[0])\n",
      "<ipython-input-13-fc7ab27f773a>:53: UserWarning: Boolean Series key will be reindexed to match DataFrame index.\n",
      "  print(df_combine[df_combine.rsquare_x>PV_adult][df_combine.rsquare_y>PV_child].shape[0])\n",
      "<ipython-input-13-fc7ab27f773a>:52: UserWarning: Boolean Series key will be reindexed to match DataFrame index.\n",
      "  alls.append(df_combine[df_combine.rsquare_x>PV_adult][df_combine.rsquare_y>PV_child].shape[0])\n",
      "<ipython-input-13-fc7ab27f773a>:53: UserWarning: Boolean Series key will be reindexed to match DataFrame index.\n",
      "  print(df_combine[df_combine.rsquare_x>PV_adult][df_combine.rsquare_y>PV_child].shape[0])\n",
      "<ipython-input-13-fc7ab27f773a>:52: UserWarning: Boolean Series key will be reindexed to match DataFrame index.\n",
      "  alls.append(df_combine[df_combine.rsquare_x>PV_adult][df_combine.rsquare_y>PV_child].shape[0])\n",
      "<ipython-input-13-fc7ab27f773a>:53: UserWarning: Boolean Series key will be reindexed to match DataFrame index.\n",
      "  print(df_combine[df_combine.rsquare_x>PV_adult][df_combine.rsquare_y>PV_child].shape[0])\n",
      "<ipython-input-13-fc7ab27f773a>:52: UserWarning: Boolean Series key will be reindexed to match DataFrame index.\n",
      "  alls.append(df_combine[df_combine.rsquare_x>PV_adult][df_combine.rsquare_y>PV_child].shape[0])\n",
      "<ipython-input-13-fc7ab27f773a>:53: UserWarning: Boolean Series key will be reindexed to match DataFrame index.\n",
      "  print(df_combine[df_combine.rsquare_x>PV_adult][df_combine.rsquare_y>PV_child].shape[0])\n",
      "<ipython-input-13-fc7ab27f773a>:52: UserWarning: Boolean Series key will be reindexed to match DataFrame index.\n",
      "  alls.append(df_combine[df_combine.rsquare_x>PV_adult][df_combine.rsquare_y>PV_child].shape[0])\n",
      "<ipython-input-13-fc7ab27f773a>:53: UserWarning: Boolean Series key will be reindexed to match DataFrame index.\n",
      "  print(df_combine[df_combine.rsquare_x>PV_adult][df_combine.rsquare_y>PV_child].shape[0])\n",
      "<ipython-input-13-fc7ab27f773a>:52: UserWarning: Boolean Series key will be reindexed to match DataFrame index.\n",
      "  alls.append(df_combine[df_combine.rsquare_x>PV_adult][df_combine.rsquare_y>PV_child].shape[0])\n"
     ]
    },
    {
     "name": "stdout",
     "output_type": "stream",
     "text": [
      "3\n",
      "21\n",
      "28\n",
      "7\n",
      "19\n",
      "4\n"
     ]
    },
    {
     "name": "stderr",
     "output_type": "stream",
     "text": [
      "<ipython-input-13-fc7ab27f773a>:53: UserWarning: Boolean Series key will be reindexed to match DataFrame index.\n",
      "  print(df_combine[df_combine.rsquare_x>PV_adult][df_combine.rsquare_y>PV_child].shape[0])\n",
      "<ipython-input-13-fc7ab27f773a>:52: UserWarning: Boolean Series key will be reindexed to match DataFrame index.\n",
      "  alls.append(df_combine[df_combine.rsquare_x>PV_adult][df_combine.rsquare_y>PV_child].shape[0])\n",
      "<ipython-input-13-fc7ab27f773a>:53: UserWarning: Boolean Series key will be reindexed to match DataFrame index.\n",
      "  print(df_combine[df_combine.rsquare_x>PV_adult][df_combine.rsquare_y>PV_child].shape[0])\n",
      "<ipython-input-13-fc7ab27f773a>:52: UserWarning: Boolean Series key will be reindexed to match DataFrame index.\n",
      "  alls.append(df_combine[df_combine.rsquare_x>PV_adult][df_combine.rsquare_y>PV_child].shape[0])\n",
      "<ipython-input-13-fc7ab27f773a>:53: UserWarning: Boolean Series key will be reindexed to match DataFrame index.\n",
      "  print(df_combine[df_combine.rsquare_x>PV_adult][df_combine.rsquare_y>PV_child].shape[0])\n",
      "<ipython-input-13-fc7ab27f773a>:52: UserWarning: Boolean Series key will be reindexed to match DataFrame index.\n",
      "  alls.append(df_combine[df_combine.rsquare_x>PV_adult][df_combine.rsquare_y>PV_child].shape[0])\n",
      "<ipython-input-13-fc7ab27f773a>:53: UserWarning: Boolean Series key will be reindexed to match DataFrame index.\n",
      "  print(df_combine[df_combine.rsquare_x>PV_adult][df_combine.rsquare_y>PV_child].shape[0])\n",
      "<ipython-input-13-fc7ab27f773a>:52: UserWarning: Boolean Series key will be reindexed to match DataFrame index.\n",
      "  alls.append(df_combine[df_combine.rsquare_x>PV_adult][df_combine.rsquare_y>PV_child].shape[0])\n",
      "<ipython-input-13-fc7ab27f773a>:53: UserWarning: Boolean Series key will be reindexed to match DataFrame index.\n",
      "  print(df_combine[df_combine.rsquare_x>PV_adult][df_combine.rsquare_y>PV_child].shape[0])\n",
      "<ipython-input-13-fc7ab27f773a>:52: UserWarning: Boolean Series key will be reindexed to match DataFrame index.\n",
      "  alls.append(df_combine[df_combine.rsquare_x>PV_adult][df_combine.rsquare_y>PV_child].shape[0])\n",
      "<ipython-input-13-fc7ab27f773a>:53: UserWarning: Boolean Series key will be reindexed to match DataFrame index.\n",
      "  print(df_combine[df_combine.rsquare_x>PV_adult][df_combine.rsquare_y>PV_child].shape[0])\n"
     ]
    },
    {
     "name": "stdout",
     "output_type": "stream",
     "text": [
      "11\n",
      "2\n",
      "3\n",
      "2\n",
      "10\n",
      "10\n"
     ]
    },
    {
     "name": "stderr",
     "output_type": "stream",
     "text": [
      "<ipython-input-13-fc7ab27f773a>:52: UserWarning: Boolean Series key will be reindexed to match DataFrame index.\n",
      "  alls.append(df_combine[df_combine.rsquare_x>PV_adult][df_combine.rsquare_y>PV_child].shape[0])\n",
      "<ipython-input-13-fc7ab27f773a>:53: UserWarning: Boolean Series key will be reindexed to match DataFrame index.\n",
      "  print(df_combine[df_combine.rsquare_x>PV_adult][df_combine.rsquare_y>PV_child].shape[0])\n",
      "<ipython-input-13-fc7ab27f773a>:52: UserWarning: Boolean Series key will be reindexed to match DataFrame index.\n",
      "  alls.append(df_combine[df_combine.rsquare_x>PV_adult][df_combine.rsquare_y>PV_child].shape[0])\n",
      "<ipython-input-13-fc7ab27f773a>:53: UserWarning: Boolean Series key will be reindexed to match DataFrame index.\n",
      "  print(df_combine[df_combine.rsquare_x>PV_adult][df_combine.rsquare_y>PV_child].shape[0])\n",
      "<ipython-input-13-fc7ab27f773a>:52: UserWarning: Boolean Series key will be reindexed to match DataFrame index.\n",
      "  alls.append(df_combine[df_combine.rsquare_x>PV_adult][df_combine.rsquare_y>PV_child].shape[0])\n",
      "<ipython-input-13-fc7ab27f773a>:53: UserWarning: Boolean Series key will be reindexed to match DataFrame index.\n",
      "  print(df_combine[df_combine.rsquare_x>PV_adult][df_combine.rsquare_y>PV_child].shape[0])\n",
      "<ipython-input-13-fc7ab27f773a>:52: UserWarning: Boolean Series key will be reindexed to match DataFrame index.\n",
      "  alls.append(df_combine[df_combine.rsquare_x>PV_adult][df_combine.rsquare_y>PV_child].shape[0])\n",
      "<ipython-input-13-fc7ab27f773a>:53: UserWarning: Boolean Series key will be reindexed to match DataFrame index.\n",
      "  print(df_combine[df_combine.rsquare_x>PV_adult][df_combine.rsquare_y>PV_child].shape[0])\n",
      "<ipython-input-13-fc7ab27f773a>:52: UserWarning: Boolean Series key will be reindexed to match DataFrame index.\n",
      "  alls.append(df_combine[df_combine.rsquare_x>PV_adult][df_combine.rsquare_y>PV_child].shape[0])\n",
      "<ipython-input-13-fc7ab27f773a>:53: UserWarning: Boolean Series key will be reindexed to match DataFrame index.\n",
      "  print(df_combine[df_combine.rsquare_x>PV_adult][df_combine.rsquare_y>PV_child].shape[0])\n",
      "<ipython-input-13-fc7ab27f773a>:52: UserWarning: Boolean Series key will be reindexed to match DataFrame index.\n",
      "  alls.append(df_combine[df_combine.rsquare_x>PV_adult][df_combine.rsquare_y>PV_child].shape[0])\n",
      "<ipython-input-13-fc7ab27f773a>:53: UserWarning: Boolean Series key will be reindexed to match DataFrame index.\n",
      "  print(df_combine[df_combine.rsquare_x>PV_adult][df_combine.rsquare_y>PV_child].shape[0])\n",
      "<ipython-input-13-fc7ab27f773a>:52: UserWarning: Boolean Series key will be reindexed to match DataFrame index.\n",
      "  alls.append(df_combine[df_combine.rsquare_x>PV_adult][df_combine.rsquare_y>PV_child].shape[0])\n",
      "<ipython-input-13-fc7ab27f773a>:53: UserWarning: Boolean Series key will be reindexed to match DataFrame index.\n",
      "  print(df_combine[df_combine.rsquare_x>PV_adult][df_combine.rsquare_y>PV_child].shape[0])\n"
     ]
    },
    {
     "name": "stdout",
     "output_type": "stream",
     "text": [
      "0\n",
      "5\n",
      "18\n",
      "2\n",
      "900\n",
      "16\n"
     ]
    },
    {
     "name": "stderr",
     "output_type": "stream",
     "text": [
      "<ipython-input-13-fc7ab27f773a>:52: UserWarning: Boolean Series key will be reindexed to match DataFrame index.\n",
      "  alls.append(df_combine[df_combine.rsquare_x>PV_adult][df_combine.rsquare_y>PV_child].shape[0])\n",
      "<ipython-input-13-fc7ab27f773a>:53: UserWarning: Boolean Series key will be reindexed to match DataFrame index.\n",
      "  print(df_combine[df_combine.rsquare_x>PV_adult][df_combine.rsquare_y>PV_child].shape[0])\n",
      "<ipython-input-13-fc7ab27f773a>:52: UserWarning: Boolean Series key will be reindexed to match DataFrame index.\n",
      "  alls.append(df_combine[df_combine.rsquare_x>PV_adult][df_combine.rsquare_y>PV_child].shape[0])\n",
      "<ipython-input-13-fc7ab27f773a>:53: UserWarning: Boolean Series key will be reindexed to match DataFrame index.\n",
      "  print(df_combine[df_combine.rsquare_x>PV_adult][df_combine.rsquare_y>PV_child].shape[0])\n",
      "<ipython-input-13-fc7ab27f773a>:52: UserWarning: Boolean Series key will be reindexed to match DataFrame index.\n",
      "  alls.append(df_combine[df_combine.rsquare_x>PV_adult][df_combine.rsquare_y>PV_child].shape[0])\n"
     ]
    },
    {
     "name": "stdout",
     "output_type": "stream",
     "text": [
      "6\n",
      "5\n",
      "7\n",
      "25\n"
     ]
    },
    {
     "name": "stderr",
     "output_type": "stream",
     "text": [
      "<ipython-input-13-fc7ab27f773a>:53: UserWarning: Boolean Series key will be reindexed to match DataFrame index.\n",
      "  print(df_combine[df_combine.rsquare_x>PV_adult][df_combine.rsquare_y>PV_child].shape[0])\n",
      "<ipython-input-13-fc7ab27f773a>:52: UserWarning: Boolean Series key will be reindexed to match DataFrame index.\n",
      "  alls.append(df_combine[df_combine.rsquare_x>PV_adult][df_combine.rsquare_y>PV_child].shape[0])\n",
      "<ipython-input-13-fc7ab27f773a>:53: UserWarning: Boolean Series key will be reindexed to match DataFrame index.\n",
      "  print(df_combine[df_combine.rsquare_x>PV_adult][df_combine.rsquare_y>PV_child].shape[0])\n",
      "<ipython-input-13-fc7ab27f773a>:52: UserWarning: Boolean Series key will be reindexed to match DataFrame index.\n",
      "  alls.append(df_combine[df_combine.rsquare_x>PV_adult][df_combine.rsquare_y>PV_child].shape[0])\n",
      "<ipython-input-13-fc7ab27f773a>:53: UserWarning: Boolean Series key will be reindexed to match DataFrame index.\n",
      "  print(df_combine[df_combine.rsquare_x>PV_adult][df_combine.rsquare_y>PV_child].shape[0])\n",
      "<ipython-input-13-fc7ab27f773a>:52: UserWarning: Boolean Series key will be reindexed to match DataFrame index.\n",
      "  alls.append(df_combine[df_combine.rsquare_x>PV_adult][df_combine.rsquare_y>PV_child].shape[0])\n",
      "<ipython-input-13-fc7ab27f773a>:53: UserWarning: Boolean Series key will be reindexed to match DataFrame index.\n",
      "  print(df_combine[df_combine.rsquare_x>PV_adult][df_combine.rsquare_y>PV_child].shape[0])\n",
      "<ipython-input-13-fc7ab27f773a>:52: UserWarning: Boolean Series key will be reindexed to match DataFrame index.\n",
      "  alls.append(df_combine[df_combine.rsquare_x>PV_adult][df_combine.rsquare_y>PV_child].shape[0])\n",
      "<ipython-input-13-fc7ab27f773a>:53: UserWarning: Boolean Series key will be reindexed to match DataFrame index.\n",
      "  print(df_combine[df_combine.rsquare_x>PV_adult][df_combine.rsquare_y>PV_child].shape[0])\n"
     ]
    },
    {
     "name": "stdout",
     "output_type": "stream",
     "text": [
      "17\n",
      "3\n",
      "4\n",
      "40\n",
      "2\n"
     ]
    },
    {
     "name": "stderr",
     "output_type": "stream",
     "text": [
      "<ipython-input-13-fc7ab27f773a>:52: UserWarning: Boolean Series key will be reindexed to match DataFrame index.\n",
      "  alls.append(df_combine[df_combine.rsquare_x>PV_adult][df_combine.rsquare_y>PV_child].shape[0])\n",
      "<ipython-input-13-fc7ab27f773a>:53: UserWarning: Boolean Series key will be reindexed to match DataFrame index.\n",
      "  print(df_combine[df_combine.rsquare_x>PV_adult][df_combine.rsquare_y>PV_child].shape[0])\n",
      "<ipython-input-13-fc7ab27f773a>:52: UserWarning: Boolean Series key will be reindexed to match DataFrame index.\n",
      "  alls.append(df_combine[df_combine.rsquare_x>PV_adult][df_combine.rsquare_y>PV_child].shape[0])\n",
      "<ipython-input-13-fc7ab27f773a>:53: UserWarning: Boolean Series key will be reindexed to match DataFrame index.\n",
      "  print(df_combine[df_combine.rsquare_x>PV_adult][df_combine.rsquare_y>PV_child].shape[0])\n",
      "<ipython-input-13-fc7ab27f773a>:52: UserWarning: Boolean Series key will be reindexed to match DataFrame index.\n",
      "  alls.append(df_combine[df_combine.rsquare_x>PV_adult][df_combine.rsquare_y>PV_child].shape[0])\n",
      "<ipython-input-13-fc7ab27f773a>:53: UserWarning: Boolean Series key will be reindexed to match DataFrame index.\n",
      "  print(df_combine[df_combine.rsquare_x>PV_adult][df_combine.rsquare_y>PV_child].shape[0])\n",
      "<ipython-input-13-fc7ab27f773a>:52: UserWarning: Boolean Series key will be reindexed to match DataFrame index.\n",
      "  alls.append(df_combine[df_combine.rsquare_x>PV_adult][df_combine.rsquare_y>PV_child].shape[0])\n",
      "<ipython-input-13-fc7ab27f773a>:53: UserWarning: Boolean Series key will be reindexed to match DataFrame index.\n",
      "  print(df_combine[df_combine.rsquare_x>PV_adult][df_combine.rsquare_y>PV_child].shape[0])\n"
     ]
    },
    {
     "name": "stdout",
     "output_type": "stream",
     "text": [
      "14\n",
      "0\n",
      "7\n",
      "6\n",
      "1\n"
     ]
    },
    {
     "name": "stderr",
     "output_type": "stream",
     "text": [
      "<ipython-input-13-fc7ab27f773a>:52: UserWarning: Boolean Series key will be reindexed to match DataFrame index.\n",
      "  alls.append(df_combine[df_combine.rsquare_x>PV_adult][df_combine.rsquare_y>PV_child].shape[0])\n",
      "<ipython-input-13-fc7ab27f773a>:53: UserWarning: Boolean Series key will be reindexed to match DataFrame index.\n",
      "  print(df_combine[df_combine.rsquare_x>PV_adult][df_combine.rsquare_y>PV_child].shape[0])\n",
      "<ipython-input-13-fc7ab27f773a>:52: UserWarning: Boolean Series key will be reindexed to match DataFrame index.\n",
      "  alls.append(df_combine[df_combine.rsquare_x>PV_adult][df_combine.rsquare_y>PV_child].shape[0])\n",
      "<ipython-input-13-fc7ab27f773a>:53: UserWarning: Boolean Series key will be reindexed to match DataFrame index.\n",
      "  print(df_combine[df_combine.rsquare_x>PV_adult][df_combine.rsquare_y>PV_child].shape[0])\n",
      "<ipython-input-13-fc7ab27f773a>:52: UserWarning: Boolean Series key will be reindexed to match DataFrame index.\n",
      "  alls.append(df_combine[df_combine.rsquare_x>PV_adult][df_combine.rsquare_y>PV_child].shape[0])\n",
      "<ipython-input-13-fc7ab27f773a>:53: UserWarning: Boolean Series key will be reindexed to match DataFrame index.\n",
      "  print(df_combine[df_combine.rsquare_x>PV_adult][df_combine.rsquare_y>PV_child].shape[0])\n",
      "<ipython-input-13-fc7ab27f773a>:52: UserWarning: Boolean Series key will be reindexed to match DataFrame index.\n",
      "  alls.append(df_combine[df_combine.rsquare_x>PV_adult][df_combine.rsquare_y>PV_child].shape[0])\n",
      "<ipython-input-13-fc7ab27f773a>:53: UserWarning: Boolean Series key will be reindexed to match DataFrame index.\n",
      "  print(df_combine[df_combine.rsquare_x>PV_adult][df_combine.rsquare_y>PV_child].shape[0])\n",
      "<ipython-input-13-fc7ab27f773a>:52: UserWarning: Boolean Series key will be reindexed to match DataFrame index.\n",
      "  alls.append(df_combine[df_combine.rsquare_x>PV_adult][df_combine.rsquare_y>PV_child].shape[0])\n",
      "<ipython-input-13-fc7ab27f773a>:53: UserWarning: Boolean Series key will be reindexed to match DataFrame index.\n",
      "  print(df_combine[df_combine.rsquare_x>PV_adult][df_combine.rsquare_y>PV_child].shape[0])\n",
      "<ipython-input-13-fc7ab27f773a>:52: UserWarning: Boolean Series key will be reindexed to match DataFrame index.\n",
      "  alls.append(df_combine[df_combine.rsquare_x>PV_adult][df_combine.rsquare_y>PV_child].shape[0])\n",
      "<ipython-input-13-fc7ab27f773a>:53: UserWarning: Boolean Series key will be reindexed to match DataFrame index.\n",
      "  print(df_combine[df_combine.rsquare_x>PV_adult][df_combine.rsquare_y>PV_child].shape[0])\n",
      "<ipython-input-13-fc7ab27f773a>:52: UserWarning: Boolean Series key will be reindexed to match DataFrame index.\n",
      "  alls.append(df_combine[df_combine.rsquare_x>PV_adult][df_combine.rsquare_y>PV_child].shape[0])\n",
      "<ipython-input-13-fc7ab27f773a>:53: UserWarning: Boolean Series key will be reindexed to match DataFrame index.\n",
      "  print(df_combine[df_combine.rsquare_x>PV_adult][df_combine.rsquare_y>PV_child].shape[0])\n",
      "<ipython-input-13-fc7ab27f773a>:52: UserWarning: Boolean Series key will be reindexed to match DataFrame index.\n",
      "  alls.append(df_combine[df_combine.rsquare_x>PV_adult][df_combine.rsquare_y>PV_child].shape[0])\n",
      "<ipython-input-13-fc7ab27f773a>:53: UserWarning: Boolean Series key will be reindexed to match DataFrame index.\n",
      "  print(df_combine[df_combine.rsquare_x>PV_adult][df_combine.rsquare_y>PV_child].shape[0])\n"
     ]
    },
    {
     "name": "stdout",
     "output_type": "stream",
     "text": [
      "20\n",
      "0\n",
      "17\n",
      "3\n",
      "32\n"
     ]
    },
    {
     "name": "stderr",
     "output_type": "stream",
     "text": [
      "<ipython-input-13-fc7ab27f773a>:52: UserWarning: Boolean Series key will be reindexed to match DataFrame index.\n",
      "  alls.append(df_combine[df_combine.rsquare_x>PV_adult][df_combine.rsquare_y>PV_child].shape[0])\n",
      "<ipython-input-13-fc7ab27f773a>:53: UserWarning: Boolean Series key will be reindexed to match DataFrame index.\n",
      "  print(df_combine[df_combine.rsquare_x>PV_adult][df_combine.rsquare_y>PV_child].shape[0])\n",
      "<ipython-input-13-fc7ab27f773a>:52: UserWarning: Boolean Series key will be reindexed to match DataFrame index.\n",
      "  alls.append(df_combine[df_combine.rsquare_x>PV_adult][df_combine.rsquare_y>PV_child].shape[0])\n",
      "<ipython-input-13-fc7ab27f773a>:53: UserWarning: Boolean Series key will be reindexed to match DataFrame index.\n",
      "  print(df_combine[df_combine.rsquare_x>PV_adult][df_combine.rsquare_y>PV_child].shape[0])\n"
     ]
    },
    {
     "name": "stdout",
     "output_type": "stream",
     "text": [
      "23\n",
      "0\n"
     ]
    },
    {
     "name": "stderr",
     "output_type": "stream",
     "text": [
      "<ipython-input-13-fc7ab27f773a>:52: UserWarning: Boolean Series key will be reindexed to match DataFrame index.\n",
      "  alls.append(df_combine[df_combine.rsquare_x>PV_adult][df_combine.rsquare_y>PV_child].shape[0])\n",
      "<ipython-input-13-fc7ab27f773a>:53: UserWarning: Boolean Series key will be reindexed to match DataFrame index.\n",
      "  print(df_combine[df_combine.rsquare_x>PV_adult][df_combine.rsquare_y>PV_child].shape[0])\n",
      "<ipython-input-13-fc7ab27f773a>:52: UserWarning: Boolean Series key will be reindexed to match DataFrame index.\n",
      "  alls.append(df_combine[df_combine.rsquare_x>PV_adult][df_combine.rsquare_y>PV_child].shape[0])\n",
      "<ipython-input-13-fc7ab27f773a>:53: UserWarning: Boolean Series key will be reindexed to match DataFrame index.\n",
      "  print(df_combine[df_combine.rsquare_x>PV_adult][df_combine.rsquare_y>PV_child].shape[0])\n",
      "<ipython-input-13-fc7ab27f773a>:52: UserWarning: Boolean Series key will be reindexed to match DataFrame index.\n",
      "  alls.append(df_combine[df_combine.rsquare_x>PV_adult][df_combine.rsquare_y>PV_child].shape[0])\n",
      "<ipython-input-13-fc7ab27f773a>:53: UserWarning: Boolean Series key will be reindexed to match DataFrame index.\n",
      "  print(df_combine[df_combine.rsquare_x>PV_adult][df_combine.rsquare_y>PV_child].shape[0])\n",
      "<ipython-input-13-fc7ab27f773a>:52: UserWarning: Boolean Series key will be reindexed to match DataFrame index.\n",
      "  alls.append(df_combine[df_combine.rsquare_x>PV_adult][df_combine.rsquare_y>PV_child].shape[0])\n"
     ]
    },
    {
     "name": "stdout",
     "output_type": "stream",
     "text": [
      "15\n",
      "15\n",
      "3\n"
     ]
    },
    {
     "name": "stderr",
     "output_type": "stream",
     "text": [
      "<ipython-input-13-fc7ab27f773a>:53: UserWarning: Boolean Series key will be reindexed to match DataFrame index.\n",
      "  print(df_combine[df_combine.rsquare_x>PV_adult][df_combine.rsquare_y>PV_child].shape[0])\n",
      "<ipython-input-13-fc7ab27f773a>:52: UserWarning: Boolean Series key will be reindexed to match DataFrame index.\n",
      "  alls.append(df_combine[df_combine.rsquare_x>PV_adult][df_combine.rsquare_y>PV_child].shape[0])\n",
      "<ipython-input-13-fc7ab27f773a>:53: UserWarning: Boolean Series key will be reindexed to match DataFrame index.\n",
      "  print(df_combine[df_combine.rsquare_x>PV_adult][df_combine.rsquare_y>PV_child].shape[0])\n",
      "<ipython-input-13-fc7ab27f773a>:52: UserWarning: Boolean Series key will be reindexed to match DataFrame index.\n",
      "  alls.append(df_combine[df_combine.rsquare_x>PV_adult][df_combine.rsquare_y>PV_child].shape[0])\n",
      "<ipython-input-13-fc7ab27f773a>:53: UserWarning: Boolean Series key will be reindexed to match DataFrame index.\n",
      "  print(df_combine[df_combine.rsquare_x>PV_adult][df_combine.rsquare_y>PV_child].shape[0])\n",
      "<ipython-input-13-fc7ab27f773a>:52: UserWarning: Boolean Series key will be reindexed to match DataFrame index.\n",
      "  alls.append(df_combine[df_combine.rsquare_x>PV_adult][df_combine.rsquare_y>PV_child].shape[0])\n",
      "<ipython-input-13-fc7ab27f773a>:53: UserWarning: Boolean Series key will be reindexed to match DataFrame index.\n",
      "  print(df_combine[df_combine.rsquare_x>PV_adult][df_combine.rsquare_y>PV_child].shape[0])\n"
     ]
    },
    {
     "name": "stdout",
     "output_type": "stream",
     "text": [
      "0\n",
      "0\n",
      "31\n",
      "0\n",
      "3\n",
      "12\n",
      "21\n",
      "4\n"
     ]
    },
    {
     "name": "stderr",
     "output_type": "stream",
     "text": [
      "<ipython-input-13-fc7ab27f773a>:52: UserWarning: Boolean Series key will be reindexed to match DataFrame index.\n",
      "  alls.append(df_combine[df_combine.rsquare_x>PV_adult][df_combine.rsquare_y>PV_child].shape[0])\n",
      "<ipython-input-13-fc7ab27f773a>:53: UserWarning: Boolean Series key will be reindexed to match DataFrame index.\n",
      "  print(df_combine[df_combine.rsquare_x>PV_adult][df_combine.rsquare_y>PV_child].shape[0])\n",
      "<ipython-input-13-fc7ab27f773a>:52: UserWarning: Boolean Series key will be reindexed to match DataFrame index.\n",
      "  alls.append(df_combine[df_combine.rsquare_x>PV_adult][df_combine.rsquare_y>PV_child].shape[0])\n",
      "<ipython-input-13-fc7ab27f773a>:53: UserWarning: Boolean Series key will be reindexed to match DataFrame index.\n",
      "  print(df_combine[df_combine.rsquare_x>PV_adult][df_combine.rsquare_y>PV_child].shape[0])\n",
      "<ipython-input-13-fc7ab27f773a>:52: UserWarning: Boolean Series key will be reindexed to match DataFrame index.\n",
      "  alls.append(df_combine[df_combine.rsquare_x>PV_adult][df_combine.rsquare_y>PV_child].shape[0])\n",
      "<ipython-input-13-fc7ab27f773a>:53: UserWarning: Boolean Series key will be reindexed to match DataFrame index.\n",
      "  print(df_combine[df_combine.rsquare_x>PV_adult][df_combine.rsquare_y>PV_child].shape[0])\n",
      "<ipython-input-13-fc7ab27f773a>:52: UserWarning: Boolean Series key will be reindexed to match DataFrame index.\n",
      "  alls.append(df_combine[df_combine.rsquare_x>PV_adult][df_combine.rsquare_y>PV_child].shape[0])\n",
      "<ipython-input-13-fc7ab27f773a>:53: UserWarning: Boolean Series key will be reindexed to match DataFrame index.\n",
      "  print(df_combine[df_combine.rsquare_x>PV_adult][df_combine.rsquare_y>PV_child].shape[0])\n",
      "<ipython-input-13-fc7ab27f773a>:52: UserWarning: Boolean Series key will be reindexed to match DataFrame index.\n",
      "  alls.append(df_combine[df_combine.rsquare_x>PV_adult][df_combine.rsquare_y>PV_child].shape[0])\n",
      "<ipython-input-13-fc7ab27f773a>:53: UserWarning: Boolean Series key will be reindexed to match DataFrame index.\n",
      "  print(df_combine[df_combine.rsquare_x>PV_adult][df_combine.rsquare_y>PV_child].shape[0])\n",
      "<ipython-input-13-fc7ab27f773a>:52: UserWarning: Boolean Series key will be reindexed to match DataFrame index.\n",
      "  alls.append(df_combine[df_combine.rsquare_x>PV_adult][df_combine.rsquare_y>PV_child].shape[0])\n",
      "<ipython-input-13-fc7ab27f773a>:53: UserWarning: Boolean Series key will be reindexed to match DataFrame index.\n",
      "  print(df_combine[df_combine.rsquare_x>PV_adult][df_combine.rsquare_y>PV_child].shape[0])\n",
      "<ipython-input-13-fc7ab27f773a>:52: UserWarning: Boolean Series key will be reindexed to match DataFrame index.\n",
      "  alls.append(df_combine[df_combine.rsquare_x>PV_adult][df_combine.rsquare_y>PV_child].shape[0])\n",
      "<ipython-input-13-fc7ab27f773a>:53: UserWarning: Boolean Series key will be reindexed to match DataFrame index.\n",
      "  print(df_combine[df_combine.rsquare_x>PV_adult][df_combine.rsquare_y>PV_child].shape[0])\n",
      "<ipython-input-13-fc7ab27f773a>:52: UserWarning: Boolean Series key will be reindexed to match DataFrame index.\n",
      "  alls.append(df_combine[df_combine.rsquare_x>PV_adult][df_combine.rsquare_y>PV_child].shape[0])\n",
      "<ipython-input-13-fc7ab27f773a>:53: UserWarning: Boolean Series key will be reindexed to match DataFrame index.\n",
      "  print(df_combine[df_combine.rsquare_x>PV_adult][df_combine.rsquare_y>PV_child].shape[0])\n",
      "<ipython-input-13-fc7ab27f773a>:52: UserWarning: Boolean Series key will be reindexed to match DataFrame index.\n",
      "  alls.append(df_combine[df_combine.rsquare_x>PV_adult][df_combine.rsquare_y>PV_child].shape[0])\n",
      "<ipython-input-13-fc7ab27f773a>:53: UserWarning: Boolean Series key will be reindexed to match DataFrame index.\n",
      "  print(df_combine[df_combine.rsquare_x>PV_adult][df_combine.rsquare_y>PV_child].shape[0])\n",
      "<ipython-input-13-fc7ab27f773a>:52: UserWarning: Boolean Series key will be reindexed to match DataFrame index.\n",
      "  alls.append(df_combine[df_combine.rsquare_x>PV_adult][df_combine.rsquare_y>PV_child].shape[0])\n",
      "<ipython-input-13-fc7ab27f773a>:53: UserWarning: Boolean Series key will be reindexed to match DataFrame index.\n",
      "  print(df_combine[df_combine.rsquare_x>PV_adult][df_combine.rsquare_y>PV_child].shape[0])\n"
     ]
    },
    {
     "name": "stdout",
     "output_type": "stream",
     "text": [
      "21\n",
      "22\n",
      "8\n",
      "1\n",
      "15\n",
      "12\n",
      "9\n"
     ]
    },
    {
     "name": "stderr",
     "output_type": "stream",
     "text": [
      "<ipython-input-13-fc7ab27f773a>:52: UserWarning: Boolean Series key will be reindexed to match DataFrame index.\n",
      "  alls.append(df_combine[df_combine.rsquare_x>PV_adult][df_combine.rsquare_y>PV_child].shape[0])\n",
      "<ipython-input-13-fc7ab27f773a>:53: UserWarning: Boolean Series key will be reindexed to match DataFrame index.\n",
      "  print(df_combine[df_combine.rsquare_x>PV_adult][df_combine.rsquare_y>PV_child].shape[0])\n",
      "<ipython-input-13-fc7ab27f773a>:52: UserWarning: Boolean Series key will be reindexed to match DataFrame index.\n",
      "  alls.append(df_combine[df_combine.rsquare_x>PV_adult][df_combine.rsquare_y>PV_child].shape[0])\n",
      "<ipython-input-13-fc7ab27f773a>:53: UserWarning: Boolean Series key will be reindexed to match DataFrame index.\n",
      "  print(df_combine[df_combine.rsquare_x>PV_adult][df_combine.rsquare_y>PV_child].shape[0])\n",
      "<ipython-input-13-fc7ab27f773a>:52: UserWarning: Boolean Series key will be reindexed to match DataFrame index.\n",
      "  alls.append(df_combine[df_combine.rsquare_x>PV_adult][df_combine.rsquare_y>PV_child].shape[0])\n",
      "<ipython-input-13-fc7ab27f773a>:53: UserWarning: Boolean Series key will be reindexed to match DataFrame index.\n",
      "  print(df_combine[df_combine.rsquare_x>PV_adult][df_combine.rsquare_y>PV_child].shape[0])\n",
      "<ipython-input-13-fc7ab27f773a>:52: UserWarning: Boolean Series key will be reindexed to match DataFrame index.\n",
      "  alls.append(df_combine[df_combine.rsquare_x>PV_adult][df_combine.rsquare_y>PV_child].shape[0])\n",
      "<ipython-input-13-fc7ab27f773a>:53: UserWarning: Boolean Series key will be reindexed to match DataFrame index.\n",
      "  print(df_combine[df_combine.rsquare_x>PV_adult][df_combine.rsquare_y>PV_child].shape[0])\n",
      "<ipython-input-13-fc7ab27f773a>:52: UserWarning: Boolean Series key will be reindexed to match DataFrame index.\n",
      "  alls.append(df_combine[df_combine.rsquare_x>PV_adult][df_combine.rsquare_y>PV_child].shape[0])\n",
      "<ipython-input-13-fc7ab27f773a>:53: UserWarning: Boolean Series key will be reindexed to match DataFrame index.\n",
      "  print(df_combine[df_combine.rsquare_x>PV_adult][df_combine.rsquare_y>PV_child].shape[0])\n"
     ]
    },
    {
     "name": "stdout",
     "output_type": "stream",
     "text": [
      "23\n",
      "1\n",
      "37\n",
      "14\n",
      "16\n"
     ]
    },
    {
     "name": "stderr",
     "output_type": "stream",
     "text": [
      "<ipython-input-13-fc7ab27f773a>:52: UserWarning: Boolean Series key will be reindexed to match DataFrame index.\n",
      "  alls.append(df_combine[df_combine.rsquare_x>PV_adult][df_combine.rsquare_y>PV_child].shape[0])\n",
      "<ipython-input-13-fc7ab27f773a>:53: UserWarning: Boolean Series key will be reindexed to match DataFrame index.\n",
      "  print(df_combine[df_combine.rsquare_x>PV_adult][df_combine.rsquare_y>PV_child].shape[0])\n",
      "<ipython-input-13-fc7ab27f773a>:52: UserWarning: Boolean Series key will be reindexed to match DataFrame index.\n",
      "  alls.append(df_combine[df_combine.rsquare_x>PV_adult][df_combine.rsquare_y>PV_child].shape[0])\n",
      "<ipython-input-13-fc7ab27f773a>:53: UserWarning: Boolean Series key will be reindexed to match DataFrame index.\n",
      "  print(df_combine[df_combine.rsquare_x>PV_adult][df_combine.rsquare_y>PV_child].shape[0])\n",
      "<ipython-input-13-fc7ab27f773a>:52: UserWarning: Boolean Series key will be reindexed to match DataFrame index.\n",
      "  alls.append(df_combine[df_combine.rsquare_x>PV_adult][df_combine.rsquare_y>PV_child].shape[0])\n",
      "<ipython-input-13-fc7ab27f773a>:53: UserWarning: Boolean Series key will be reindexed to match DataFrame index.\n",
      "  print(df_combine[df_combine.rsquare_x>PV_adult][df_combine.rsquare_y>PV_child].shape[0])\n",
      "<ipython-input-13-fc7ab27f773a>:52: UserWarning: Boolean Series key will be reindexed to match DataFrame index.\n",
      "  alls.append(df_combine[df_combine.rsquare_x>PV_adult][df_combine.rsquare_y>PV_child].shape[0])\n",
      "<ipython-input-13-fc7ab27f773a>:53: UserWarning: Boolean Series key will be reindexed to match DataFrame index.\n",
      "  print(df_combine[df_combine.rsquare_x>PV_adult][df_combine.rsquare_y>PV_child].shape[0])\n",
      "<ipython-input-13-fc7ab27f773a>:52: UserWarning: Boolean Series key will be reindexed to match DataFrame index.\n",
      "  alls.append(df_combine[df_combine.rsquare_x>PV_adult][df_combine.rsquare_y>PV_child].shape[0])\n",
      "<ipython-input-13-fc7ab27f773a>:53: UserWarning: Boolean Series key will be reindexed to match DataFrame index.\n",
      "  print(df_combine[df_combine.rsquare_x>PV_adult][df_combine.rsquare_y>PV_child].shape[0])\n",
      "<ipython-input-13-fc7ab27f773a>:52: UserWarning: Boolean Series key will be reindexed to match DataFrame index.\n",
      "  alls.append(df_combine[df_combine.rsquare_x>PV_adult][df_combine.rsquare_y>PV_child].shape[0])\n"
     ]
    },
    {
     "name": "stdout",
     "output_type": "stream",
     "text": [
      "14\n",
      "17\n",
      "25\n",
      "12\n",
      "0\n",
      "950\n"
     ]
    },
    {
     "name": "stderr",
     "output_type": "stream",
     "text": [
      "<ipython-input-13-fc7ab27f773a>:53: UserWarning: Boolean Series key will be reindexed to match DataFrame index.\n",
      "  print(df_combine[df_combine.rsquare_x>PV_adult][df_combine.rsquare_y>PV_child].shape[0])\n",
      "<ipython-input-13-fc7ab27f773a>:52: UserWarning: Boolean Series key will be reindexed to match DataFrame index.\n",
      "  alls.append(df_combine[df_combine.rsquare_x>PV_adult][df_combine.rsquare_y>PV_child].shape[0])\n",
      "<ipython-input-13-fc7ab27f773a>:53: UserWarning: Boolean Series key will be reindexed to match DataFrame index.\n",
      "  print(df_combine[df_combine.rsquare_x>PV_adult][df_combine.rsquare_y>PV_child].shape[0])\n",
      "<ipython-input-13-fc7ab27f773a>:52: UserWarning: Boolean Series key will be reindexed to match DataFrame index.\n",
      "  alls.append(df_combine[df_combine.rsquare_x>PV_adult][df_combine.rsquare_y>PV_child].shape[0])\n",
      "<ipython-input-13-fc7ab27f773a>:53: UserWarning: Boolean Series key will be reindexed to match DataFrame index.\n",
      "  print(df_combine[df_combine.rsquare_x>PV_adult][df_combine.rsquare_y>PV_child].shape[0])\n",
      "<ipython-input-13-fc7ab27f773a>:52: UserWarning: Boolean Series key will be reindexed to match DataFrame index.\n",
      "  alls.append(df_combine[df_combine.rsquare_x>PV_adult][df_combine.rsquare_y>PV_child].shape[0])\n",
      "<ipython-input-13-fc7ab27f773a>:53: UserWarning: Boolean Series key will be reindexed to match DataFrame index.\n",
      "  print(df_combine[df_combine.rsquare_x>PV_adult][df_combine.rsquare_y>PV_child].shape[0])\n"
     ]
    },
    {
     "name": "stdout",
     "output_type": "stream",
     "text": [
      "7\n",
      "6\n",
      "32\n",
      "4\n",
      "15\n"
     ]
    },
    {
     "name": "stderr",
     "output_type": "stream",
     "text": [
      "<ipython-input-13-fc7ab27f773a>:52: UserWarning: Boolean Series key will be reindexed to match DataFrame index.\n",
      "  alls.append(df_combine[df_combine.rsquare_x>PV_adult][df_combine.rsquare_y>PV_child].shape[0])\n",
      "<ipython-input-13-fc7ab27f773a>:53: UserWarning: Boolean Series key will be reindexed to match DataFrame index.\n",
      "  print(df_combine[df_combine.rsquare_x>PV_adult][df_combine.rsquare_y>PV_child].shape[0])\n",
      "<ipython-input-13-fc7ab27f773a>:52: UserWarning: Boolean Series key will be reindexed to match DataFrame index.\n",
      "  alls.append(df_combine[df_combine.rsquare_x>PV_adult][df_combine.rsquare_y>PV_child].shape[0])\n",
      "<ipython-input-13-fc7ab27f773a>:53: UserWarning: Boolean Series key will be reindexed to match DataFrame index.\n",
      "  print(df_combine[df_combine.rsquare_x>PV_adult][df_combine.rsquare_y>PV_child].shape[0])\n",
      "<ipython-input-13-fc7ab27f773a>:52: UserWarning: Boolean Series key will be reindexed to match DataFrame index.\n",
      "  alls.append(df_combine[df_combine.rsquare_x>PV_adult][df_combine.rsquare_y>PV_child].shape[0])\n",
      "<ipython-input-13-fc7ab27f773a>:53: UserWarning: Boolean Series key will be reindexed to match DataFrame index.\n",
      "  print(df_combine[df_combine.rsquare_x>PV_adult][df_combine.rsquare_y>PV_child].shape[0])\n",
      "<ipython-input-13-fc7ab27f773a>:52: UserWarning: Boolean Series key will be reindexed to match DataFrame index.\n",
      "  alls.append(df_combine[df_combine.rsquare_x>PV_adult][df_combine.rsquare_y>PV_child].shape[0])\n",
      "<ipython-input-13-fc7ab27f773a>:53: UserWarning: Boolean Series key will be reindexed to match DataFrame index.\n",
      "  print(df_combine[df_combine.rsquare_x>PV_adult][df_combine.rsquare_y>PV_child].shape[0])\n",
      "<ipython-input-13-fc7ab27f773a>:52: UserWarning: Boolean Series key will be reindexed to match DataFrame index.\n",
      "  alls.append(df_combine[df_combine.rsquare_x>PV_adult][df_combine.rsquare_y>PV_child].shape[0])\n",
      "<ipython-input-13-fc7ab27f773a>:53: UserWarning: Boolean Series key will be reindexed to match DataFrame index.\n",
      "  print(df_combine[df_combine.rsquare_x>PV_adult][df_combine.rsquare_y>PV_child].shape[0])\n"
     ]
    },
    {
     "name": "stdout",
     "output_type": "stream",
     "text": [
      "5\n",
      "3\n",
      "26\n"
     ]
    },
    {
     "name": "stderr",
     "output_type": "stream",
     "text": [
      "<ipython-input-13-fc7ab27f773a>:52: UserWarning: Boolean Series key will be reindexed to match DataFrame index.\n",
      "  alls.append(df_combine[df_combine.rsquare_x>PV_adult][df_combine.rsquare_y>PV_child].shape[0])\n",
      "<ipython-input-13-fc7ab27f773a>:53: UserWarning: Boolean Series key will be reindexed to match DataFrame index.\n",
      "  print(df_combine[df_combine.rsquare_x>PV_adult][df_combine.rsquare_y>PV_child].shape[0])\n",
      "<ipython-input-13-fc7ab27f773a>:52: UserWarning: Boolean Series key will be reindexed to match DataFrame index.\n",
      "  alls.append(df_combine[df_combine.rsquare_x>PV_adult][df_combine.rsquare_y>PV_child].shape[0])\n",
      "<ipython-input-13-fc7ab27f773a>:53: UserWarning: Boolean Series key will be reindexed to match DataFrame index.\n",
      "  print(df_combine[df_combine.rsquare_x>PV_adult][df_combine.rsquare_y>PV_child].shape[0])\n",
      "<ipython-input-13-fc7ab27f773a>:52: UserWarning: Boolean Series key will be reindexed to match DataFrame index.\n",
      "  alls.append(df_combine[df_combine.rsquare_x>PV_adult][df_combine.rsquare_y>PV_child].shape[0])\n",
      "<ipython-input-13-fc7ab27f773a>:53: UserWarning: Boolean Series key will be reindexed to match DataFrame index.\n",
      "  print(df_combine[df_combine.rsquare_x>PV_adult][df_combine.rsquare_y>PV_child].shape[0])\n",
      "<ipython-input-13-fc7ab27f773a>:52: UserWarning: Boolean Series key will be reindexed to match DataFrame index.\n",
      "  alls.append(df_combine[df_combine.rsquare_x>PV_adult][df_combine.rsquare_y>PV_child].shape[0])\n"
     ]
    },
    {
     "name": "stdout",
     "output_type": "stream",
     "text": [
      "7\n",
      "15\n",
      "5\n",
      "5\n",
      "6\n"
     ]
    },
    {
     "name": "stderr",
     "output_type": "stream",
     "text": [
      "<ipython-input-13-fc7ab27f773a>:53: UserWarning: Boolean Series key will be reindexed to match DataFrame index.\n",
      "  print(df_combine[df_combine.rsquare_x>PV_adult][df_combine.rsquare_y>PV_child].shape[0])\n",
      "<ipython-input-13-fc7ab27f773a>:52: UserWarning: Boolean Series key will be reindexed to match DataFrame index.\n",
      "  alls.append(df_combine[df_combine.rsquare_x>PV_adult][df_combine.rsquare_y>PV_child].shape[0])\n",
      "<ipython-input-13-fc7ab27f773a>:53: UserWarning: Boolean Series key will be reindexed to match DataFrame index.\n",
      "  print(df_combine[df_combine.rsquare_x>PV_adult][df_combine.rsquare_y>PV_child].shape[0])\n",
      "<ipython-input-13-fc7ab27f773a>:52: UserWarning: Boolean Series key will be reindexed to match DataFrame index.\n",
      "  alls.append(df_combine[df_combine.rsquare_x>PV_adult][df_combine.rsquare_y>PV_child].shape[0])\n",
      "<ipython-input-13-fc7ab27f773a>:53: UserWarning: Boolean Series key will be reindexed to match DataFrame index.\n",
      "  print(df_combine[df_combine.rsquare_x>PV_adult][df_combine.rsquare_y>PV_child].shape[0])\n",
      "<ipython-input-13-fc7ab27f773a>:52: UserWarning: Boolean Series key will be reindexed to match DataFrame index.\n",
      "  alls.append(df_combine[df_combine.rsquare_x>PV_adult][df_combine.rsquare_y>PV_child].shape[0])\n",
      "<ipython-input-13-fc7ab27f773a>:53: UserWarning: Boolean Series key will be reindexed to match DataFrame index.\n",
      "  print(df_combine[df_combine.rsquare_x>PV_adult][df_combine.rsquare_y>PV_child].shape[0])\n",
      "<ipython-input-13-fc7ab27f773a>:52: UserWarning: Boolean Series key will be reindexed to match DataFrame index.\n",
      "  alls.append(df_combine[df_combine.rsquare_x>PV_adult][df_combine.rsquare_y>PV_child].shape[0])\n",
      "<ipython-input-13-fc7ab27f773a>:53: UserWarning: Boolean Series key will be reindexed to match DataFrame index.\n",
      "  print(df_combine[df_combine.rsquare_x>PV_adult][df_combine.rsquare_y>PV_child].shape[0])\n"
     ]
    },
    {
     "name": "stdout",
     "output_type": "stream",
     "text": [
      "4\n",
      "2\n",
      "14\n"
     ]
    },
    {
     "name": "stderr",
     "output_type": "stream",
     "text": [
      "<ipython-input-13-fc7ab27f773a>:52: UserWarning: Boolean Series key will be reindexed to match DataFrame index.\n",
      "  alls.append(df_combine[df_combine.rsquare_x>PV_adult][df_combine.rsquare_y>PV_child].shape[0])\n",
      "<ipython-input-13-fc7ab27f773a>:53: UserWarning: Boolean Series key will be reindexed to match DataFrame index.\n",
      "  print(df_combine[df_combine.rsquare_x>PV_adult][df_combine.rsquare_y>PV_child].shape[0])\n",
      "<ipython-input-13-fc7ab27f773a>:52: UserWarning: Boolean Series key will be reindexed to match DataFrame index.\n",
      "  alls.append(df_combine[df_combine.rsquare_x>PV_adult][df_combine.rsquare_y>PV_child].shape[0])\n",
      "<ipython-input-13-fc7ab27f773a>:53: UserWarning: Boolean Series key will be reindexed to match DataFrame index.\n",
      "  print(df_combine[df_combine.rsquare_x>PV_adult][df_combine.rsquare_y>PV_child].shape[0])\n"
     ]
    },
    {
     "name": "stdout",
     "output_type": "stream",
     "text": [
      "2\n",
      "1\n"
     ]
    },
    {
     "name": "stderr",
     "output_type": "stream",
     "text": [
      "<ipython-input-13-fc7ab27f773a>:52: UserWarning: Boolean Series key will be reindexed to match DataFrame index.\n",
      "  alls.append(df_combine[df_combine.rsquare_x>PV_adult][df_combine.rsquare_y>PV_child].shape[0])\n",
      "<ipython-input-13-fc7ab27f773a>:53: UserWarning: Boolean Series key will be reindexed to match DataFrame index.\n",
      "  print(df_combine[df_combine.rsquare_x>PV_adult][df_combine.rsquare_y>PV_child].shape[0])\n",
      "<ipython-input-13-fc7ab27f773a>:52: UserWarning: Boolean Series key will be reindexed to match DataFrame index.\n",
      "  alls.append(df_combine[df_combine.rsquare_x>PV_adult][df_combine.rsquare_y>PV_child].shape[0])\n",
      "<ipython-input-13-fc7ab27f773a>:53: UserWarning: Boolean Series key will be reindexed to match DataFrame index.\n",
      "  print(df_combine[df_combine.rsquare_x>PV_adult][df_combine.rsquare_y>PV_child].shape[0])\n",
      "<ipython-input-13-fc7ab27f773a>:52: UserWarning: Boolean Series key will be reindexed to match DataFrame index.\n",
      "  alls.append(df_combine[df_combine.rsquare_x>PV_adult][df_combine.rsquare_y>PV_child].shape[0])\n"
     ]
    },
    {
     "name": "stdout",
     "output_type": "stream",
     "text": [
      "19\n",
      "33\n",
      "23\n"
     ]
    },
    {
     "name": "stderr",
     "output_type": "stream",
     "text": [
      "<ipython-input-13-fc7ab27f773a>:53: UserWarning: Boolean Series key will be reindexed to match DataFrame index.\n",
      "  print(df_combine[df_combine.rsquare_x>PV_adult][df_combine.rsquare_y>PV_child].shape[0])\n",
      "<ipython-input-13-fc7ab27f773a>:52: UserWarning: Boolean Series key will be reindexed to match DataFrame index.\n",
      "  alls.append(df_combine[df_combine.rsquare_x>PV_adult][df_combine.rsquare_y>PV_child].shape[0])\n",
      "<ipython-input-13-fc7ab27f773a>:53: UserWarning: Boolean Series key will be reindexed to match DataFrame index.\n",
      "  print(df_combine[df_combine.rsquare_x>PV_adult][df_combine.rsquare_y>PV_child].shape[0])\n",
      "<ipython-input-13-fc7ab27f773a>:52: UserWarning: Boolean Series key will be reindexed to match DataFrame index.\n",
      "  alls.append(df_combine[df_combine.rsquare_x>PV_adult][df_combine.rsquare_y>PV_child].shape[0])\n",
      "<ipython-input-13-fc7ab27f773a>:53: UserWarning: Boolean Series key will be reindexed to match DataFrame index.\n",
      "  print(df_combine[df_combine.rsquare_x>PV_adult][df_combine.rsquare_y>PV_child].shape[0])\n",
      "<ipython-input-13-fc7ab27f773a>:52: UserWarning: Boolean Series key will be reindexed to match DataFrame index.\n",
      "  alls.append(df_combine[df_combine.rsquare_x>PV_adult][df_combine.rsquare_y>PV_child].shape[0])\n",
      "<ipython-input-13-fc7ab27f773a>:53: UserWarning: Boolean Series key will be reindexed to match DataFrame index.\n",
      "  print(df_combine[df_combine.rsquare_x>PV_adult][df_combine.rsquare_y>PV_child].shape[0])\n"
     ]
    },
    {
     "name": "stdout",
     "output_type": "stream",
     "text": [
      "8\n",
      "20\n",
      "6\n"
     ]
    },
    {
     "name": "stderr",
     "output_type": "stream",
     "text": [
      "<ipython-input-13-fc7ab27f773a>:52: UserWarning: Boolean Series key will be reindexed to match DataFrame index.\n",
      "  alls.append(df_combine[df_combine.rsquare_x>PV_adult][df_combine.rsquare_y>PV_child].shape[0])\n",
      "<ipython-input-13-fc7ab27f773a>:53: UserWarning: Boolean Series key will be reindexed to match DataFrame index.\n",
      "  print(df_combine[df_combine.rsquare_x>PV_adult][df_combine.rsquare_y>PV_child].shape[0])\n",
      "<ipython-input-13-fc7ab27f773a>:52: UserWarning: Boolean Series key will be reindexed to match DataFrame index.\n",
      "  alls.append(df_combine[df_combine.rsquare_x>PV_adult][df_combine.rsquare_y>PV_child].shape[0])\n",
      "<ipython-input-13-fc7ab27f773a>:53: UserWarning: Boolean Series key will be reindexed to match DataFrame index.\n",
      "  print(df_combine[df_combine.rsquare_x>PV_adult][df_combine.rsquare_y>PV_child].shape[0])\n",
      "<ipython-input-13-fc7ab27f773a>:52: UserWarning: Boolean Series key will be reindexed to match DataFrame index.\n",
      "  alls.append(df_combine[df_combine.rsquare_x>PV_adult][df_combine.rsquare_y>PV_child].shape[0])\n",
      "<ipython-input-13-fc7ab27f773a>:53: UserWarning: Boolean Series key will be reindexed to match DataFrame index.\n",
      "  print(df_combine[df_combine.rsquare_x>PV_adult][df_combine.rsquare_y>PV_child].shape[0])\n"
     ]
    },
    {
     "name": "stdout",
     "output_type": "stream",
     "text": [
      "21\n",
      "3\n",
      "11\n",
      "2\n",
      "32\n"
     ]
    },
    {
     "name": "stderr",
     "output_type": "stream",
     "text": [
      "<ipython-input-13-fc7ab27f773a>:52: UserWarning: Boolean Series key will be reindexed to match DataFrame index.\n",
      "  alls.append(df_combine[df_combine.rsquare_x>PV_adult][df_combine.rsquare_y>PV_child].shape[0])\n",
      "<ipython-input-13-fc7ab27f773a>:53: UserWarning: Boolean Series key will be reindexed to match DataFrame index.\n",
      "  print(df_combine[df_combine.rsquare_x>PV_adult][df_combine.rsquare_y>PV_child].shape[0])\n",
      "<ipython-input-13-fc7ab27f773a>:52: UserWarning: Boolean Series key will be reindexed to match DataFrame index.\n",
      "  alls.append(df_combine[df_combine.rsquare_x>PV_adult][df_combine.rsquare_y>PV_child].shape[0])\n",
      "<ipython-input-13-fc7ab27f773a>:53: UserWarning: Boolean Series key will be reindexed to match DataFrame index.\n",
      "  print(df_combine[df_combine.rsquare_x>PV_adult][df_combine.rsquare_y>PV_child].shape[0])\n",
      "<ipython-input-13-fc7ab27f773a>:52: UserWarning: Boolean Series key will be reindexed to match DataFrame index.\n",
      "  alls.append(df_combine[df_combine.rsquare_x>PV_adult][df_combine.rsquare_y>PV_child].shape[0])\n",
      "<ipython-input-13-fc7ab27f773a>:53: UserWarning: Boolean Series key will be reindexed to match DataFrame index.\n",
      "  print(df_combine[df_combine.rsquare_x>PV_adult][df_combine.rsquare_y>PV_child].shape[0])\n",
      "<ipython-input-13-fc7ab27f773a>:52: UserWarning: Boolean Series key will be reindexed to match DataFrame index.\n",
      "  alls.append(df_combine[df_combine.rsquare_x>PV_adult][df_combine.rsquare_y>PV_child].shape[0])\n",
      "<ipython-input-13-fc7ab27f773a>:53: UserWarning: Boolean Series key will be reindexed to match DataFrame index.\n",
      "  print(df_combine[df_combine.rsquare_x>PV_adult][df_combine.rsquare_y>PV_child].shape[0])\n"
     ]
    },
    {
     "name": "stdout",
     "output_type": "stream",
     "text": [
      "2\n",
      "13\n"
     ]
    },
    {
     "name": "stderr",
     "output_type": "stream",
     "text": [
      "<ipython-input-13-fc7ab27f773a>:52: UserWarning: Boolean Series key will be reindexed to match DataFrame index.\n",
      "  alls.append(df_combine[df_combine.rsquare_x>PV_adult][df_combine.rsquare_y>PV_child].shape[0])\n",
      "<ipython-input-13-fc7ab27f773a>:53: UserWarning: Boolean Series key will be reindexed to match DataFrame index.\n",
      "  print(df_combine[df_combine.rsquare_x>PV_adult][df_combine.rsquare_y>PV_child].shape[0])\n",
      "<ipython-input-13-fc7ab27f773a>:52: UserWarning: Boolean Series key will be reindexed to match DataFrame index.\n",
      "  alls.append(df_combine[df_combine.rsquare_x>PV_adult][df_combine.rsquare_y>PV_child].shape[0])\n",
      "<ipython-input-13-fc7ab27f773a>:53: UserWarning: Boolean Series key will be reindexed to match DataFrame index.\n",
      "  print(df_combine[df_combine.rsquare_x>PV_adult][df_combine.rsquare_y>PV_child].shape[0])\n",
      "<ipython-input-13-fc7ab27f773a>:52: UserWarning: Boolean Series key will be reindexed to match DataFrame index.\n",
      "  alls.append(df_combine[df_combine.rsquare_x>PV_adult][df_combine.rsquare_y>PV_child].shape[0])\n",
      "<ipython-input-13-fc7ab27f773a>:53: UserWarning: Boolean Series key will be reindexed to match DataFrame index.\n",
      "  print(df_combine[df_combine.rsquare_x>PV_adult][df_combine.rsquare_y>PV_child].shape[0])\n",
      "<ipython-input-13-fc7ab27f773a>:52: UserWarning: Boolean Series key will be reindexed to match DataFrame index.\n",
      "  alls.append(df_combine[df_combine.rsquare_x>PV_adult][df_combine.rsquare_y>PV_child].shape[0])\n"
     ]
    },
    {
     "name": "stdout",
     "output_type": "stream",
     "text": [
      "29\n",
      "21\n",
      "0\n",
      "23\n"
     ]
    },
    {
     "name": "stderr",
     "output_type": "stream",
     "text": [
      "<ipython-input-13-fc7ab27f773a>:53: UserWarning: Boolean Series key will be reindexed to match DataFrame index.\n",
      "  print(df_combine[df_combine.rsquare_x>PV_adult][df_combine.rsquare_y>PV_child].shape[0])\n",
      "<ipython-input-13-fc7ab27f773a>:52: UserWarning: Boolean Series key will be reindexed to match DataFrame index.\n",
      "  alls.append(df_combine[df_combine.rsquare_x>PV_adult][df_combine.rsquare_y>PV_child].shape[0])\n",
      "<ipython-input-13-fc7ab27f773a>:53: UserWarning: Boolean Series key will be reindexed to match DataFrame index.\n",
      "  print(df_combine[df_combine.rsquare_x>PV_adult][df_combine.rsquare_y>PV_child].shape[0])\n",
      "<ipython-input-13-fc7ab27f773a>:52: UserWarning: Boolean Series key will be reindexed to match DataFrame index.\n",
      "  alls.append(df_combine[df_combine.rsquare_x>PV_adult][df_combine.rsquare_y>PV_child].shape[0])\n",
      "<ipython-input-13-fc7ab27f773a>:53: UserWarning: Boolean Series key will be reindexed to match DataFrame index.\n",
      "  print(df_combine[df_combine.rsquare_x>PV_adult][df_combine.rsquare_y>PV_child].shape[0])\n",
      "<ipython-input-13-fc7ab27f773a>:52: UserWarning: Boolean Series key will be reindexed to match DataFrame index.\n",
      "  alls.append(df_combine[df_combine.rsquare_x>PV_adult][df_combine.rsquare_y>PV_child].shape[0])\n",
      "<ipython-input-13-fc7ab27f773a>:53: UserWarning: Boolean Series key will be reindexed to match DataFrame index.\n",
      "  print(df_combine[df_combine.rsquare_x>PV_adult][df_combine.rsquare_y>PV_child].shape[0])\n",
      "<ipython-input-13-fc7ab27f773a>:52: UserWarning: Boolean Series key will be reindexed to match DataFrame index.\n",
      "  alls.append(df_combine[df_combine.rsquare_x>PV_adult][df_combine.rsquare_y>PV_child].shape[0])\n",
      "<ipython-input-13-fc7ab27f773a>:53: UserWarning: Boolean Series key will be reindexed to match DataFrame index.\n",
      "  print(df_combine[df_combine.rsquare_x>PV_adult][df_combine.rsquare_y>PV_child].shape[0])\n"
     ]
    },
    {
     "name": "stdout",
     "output_type": "stream",
     "text": [
      "34\n",
      "4\n",
      "11\n",
      "0\n",
      "0\n"
     ]
    },
    {
     "name": "stderr",
     "output_type": "stream",
     "text": [
      "<ipython-input-13-fc7ab27f773a>:52: UserWarning: Boolean Series key will be reindexed to match DataFrame index.\n",
      "  alls.append(df_combine[df_combine.rsquare_x>PV_adult][df_combine.rsquare_y>PV_child].shape[0])\n",
      "<ipython-input-13-fc7ab27f773a>:53: UserWarning: Boolean Series key will be reindexed to match DataFrame index.\n",
      "  print(df_combine[df_combine.rsquare_x>PV_adult][df_combine.rsquare_y>PV_child].shape[0])\n",
      "<ipython-input-13-fc7ab27f773a>:52: UserWarning: Boolean Series key will be reindexed to match DataFrame index.\n",
      "  alls.append(df_combine[df_combine.rsquare_x>PV_adult][df_combine.rsquare_y>PV_child].shape[0])\n",
      "<ipython-input-13-fc7ab27f773a>:53: UserWarning: Boolean Series key will be reindexed to match DataFrame index.\n",
      "  print(df_combine[df_combine.rsquare_x>PV_adult][df_combine.rsquare_y>PV_child].shape[0])\n",
      "<ipython-input-13-fc7ab27f773a>:52: UserWarning: Boolean Series key will be reindexed to match DataFrame index.\n",
      "  alls.append(df_combine[df_combine.rsquare_x>PV_adult][df_combine.rsquare_y>PV_child].shape[0])\n",
      "<ipython-input-13-fc7ab27f773a>:53: UserWarning: Boolean Series key will be reindexed to match DataFrame index.\n",
      "  print(df_combine[df_combine.rsquare_x>PV_adult][df_combine.rsquare_y>PV_child].shape[0])\n"
     ]
    },
    {
     "name": "stdout",
     "output_type": "stream",
     "text": [
      "5\n",
      "16\n",
      "16\n",
      "0\n"
     ]
    },
    {
     "name": "stderr",
     "output_type": "stream",
     "text": [
      "<ipython-input-13-fc7ab27f773a>:52: UserWarning: Boolean Series key will be reindexed to match DataFrame index.\n",
      "  alls.append(df_combine[df_combine.rsquare_x>PV_adult][df_combine.rsquare_y>PV_child].shape[0])\n",
      "<ipython-input-13-fc7ab27f773a>:53: UserWarning: Boolean Series key will be reindexed to match DataFrame index.\n",
      "  print(df_combine[df_combine.rsquare_x>PV_adult][df_combine.rsquare_y>PV_child].shape[0])\n",
      "<ipython-input-13-fc7ab27f773a>:52: UserWarning: Boolean Series key will be reindexed to match DataFrame index.\n",
      "  alls.append(df_combine[df_combine.rsquare_x>PV_adult][df_combine.rsquare_y>PV_child].shape[0])\n",
      "<ipython-input-13-fc7ab27f773a>:53: UserWarning: Boolean Series key will be reindexed to match DataFrame index.\n",
      "  print(df_combine[df_combine.rsquare_x>PV_adult][df_combine.rsquare_y>PV_child].shape[0])\n",
      "<ipython-input-13-fc7ab27f773a>:52: UserWarning: Boolean Series key will be reindexed to match DataFrame index.\n",
      "  alls.append(df_combine[df_combine.rsquare_x>PV_adult][df_combine.rsquare_y>PV_child].shape[0])\n",
      "<ipython-input-13-fc7ab27f773a>:53: UserWarning: Boolean Series key will be reindexed to match DataFrame index.\n",
      "  print(df_combine[df_combine.rsquare_x>PV_adult][df_combine.rsquare_y>PV_child].shape[0])\n",
      "<ipython-input-13-fc7ab27f773a>:52: UserWarning: Boolean Series key will be reindexed to match DataFrame index.\n",
      "  alls.append(df_combine[df_combine.rsquare_x>PV_adult][df_combine.rsquare_y>PV_child].shape[0])\n",
      "<ipython-input-13-fc7ab27f773a>:53: UserWarning: Boolean Series key will be reindexed to match DataFrame index.\n",
      "  print(df_combine[df_combine.rsquare_x>PV_adult][df_combine.rsquare_y>PV_child].shape[0])\n",
      "<ipython-input-13-fc7ab27f773a>:52: UserWarning: Boolean Series key will be reindexed to match DataFrame index.\n",
      "  alls.append(df_combine[df_combine.rsquare_x>PV_adult][df_combine.rsquare_y>PV_child].shape[0])\n",
      "<ipython-input-13-fc7ab27f773a>:53: UserWarning: Boolean Series key will be reindexed to match DataFrame index.\n",
      "  print(df_combine[df_combine.rsquare_x>PV_adult][df_combine.rsquare_y>PV_child].shape[0])\n"
     ]
    },
    {
     "name": "stdout",
     "output_type": "stream",
     "text": [
      "7\n",
      "11\n",
      "5\n",
      "28\n",
      "9\n",
      "6\n"
     ]
    },
    {
     "name": "stderr",
     "output_type": "stream",
     "text": [
      "<ipython-input-13-fc7ab27f773a>:52: UserWarning: Boolean Series key will be reindexed to match DataFrame index.\n",
      "  alls.append(df_combine[df_combine.rsquare_x>PV_adult][df_combine.rsquare_y>PV_child].shape[0])\n",
      "<ipython-input-13-fc7ab27f773a>:53: UserWarning: Boolean Series key will be reindexed to match DataFrame index.\n",
      "  print(df_combine[df_combine.rsquare_x>PV_adult][df_combine.rsquare_y>PV_child].shape[0])\n",
      "<ipython-input-13-fc7ab27f773a>:52: UserWarning: Boolean Series key will be reindexed to match DataFrame index.\n",
      "  alls.append(df_combine[df_combine.rsquare_x>PV_adult][df_combine.rsquare_y>PV_child].shape[0])\n",
      "<ipython-input-13-fc7ab27f773a>:53: UserWarning: Boolean Series key will be reindexed to match DataFrame index.\n",
      "  print(df_combine[df_combine.rsquare_x>PV_adult][df_combine.rsquare_y>PV_child].shape[0])\n",
      "<ipython-input-13-fc7ab27f773a>:52: UserWarning: Boolean Series key will be reindexed to match DataFrame index.\n",
      "  alls.append(df_combine[df_combine.rsquare_x>PV_adult][df_combine.rsquare_y>PV_child].shape[0])\n",
      "<ipython-input-13-fc7ab27f773a>:53: UserWarning: Boolean Series key will be reindexed to match DataFrame index.\n",
      "  print(df_combine[df_combine.rsquare_x>PV_adult][df_combine.rsquare_y>PV_child].shape[0])\n",
      "<ipython-input-13-fc7ab27f773a>:52: UserWarning: Boolean Series key will be reindexed to match DataFrame index.\n",
      "  alls.append(df_combine[df_combine.rsquare_x>PV_adult][df_combine.rsquare_y>PV_child].shape[0])\n",
      "<ipython-input-13-fc7ab27f773a>:53: UserWarning: Boolean Series key will be reindexed to match DataFrame index.\n",
      "  print(df_combine[df_combine.rsquare_x>PV_adult][df_combine.rsquare_y>PV_child].shape[0])\n"
     ]
    }
   ],
   "source": [
    "alls = []\n",
    "a = np.arange(11)\n",
    "for i in np.arange(1000):\n",
    "    if i%50==0:\n",
    "        print(i)\n",
    "    a = np.random.permutation(a)\n",
    "    age = adults\n",
    "    wide = selected.loc[[x for x in selected.index if selected.loc[x,'age'] in age], :]\n",
    "    wide = wide[wide.sa>-1].sort_values('sa')\n",
    "    wide = wide.loc[:, ['sa', 'donor_id']+list(selected.columns[:-3])].groupby(['sa', 'donor_id']).median().reset_index()\n",
    "    wide = pd.merge(wide, selected.loc[:, ['donor_id', 'age']], on='donor_id')    \n",
    "    wide_age = wide.loc[[x for x in wide.index if wide.loc[x,'age'] in age], :]\n",
    "    wide_mean = wide_age.iloc[:, :-1].groupby(['sa']).median().reset_index()\n",
    "    wide_mean = wide_mean.apply(lambda x: [x[t] for t in a])\n",
    "    coef = []\n",
    "    pvalue = []\n",
    "    rsquare = []\n",
    "    for marker in enumerate(selected.columns[:-3]):\n",
    "        marker = marker[1]\n",
    "        X = sm.add_constant(wide_mean[marker].values)\n",
    "        results = sm.OLS([float(x) for x in adult['H'].values], X).fit()\n",
    "        coef.append(results.params[1])\n",
    "        pvalue.append(results.pvalues[1])\n",
    "        rsquare.append(results.rsquared_adj)\n",
    "    df_adult = pd.DataFrame([selected.columns[:-3], coef, pvalue, rsquare]).T\n",
    "    df_adult.columns = ['gene', 'coef', 'pvalue','rsquare']\n",
    "    #df_adult = df_adult[df_adult.coef>0][df_adult.pvalue<0.05].sort_values('pvalue').reset_index(drop=True)\n",
    "    age = cbpd_wide\n",
    "    wide = selected.loc[[x for x in selected.index if selected.loc[x,'age'] in age], :]\n",
    "    wide = wide[wide.sa>-1].sort_values('sa')\n",
    "    wide = wide.loc[:, ['sa', 'donor_id']+list(selected.columns[:-3])].groupby(['sa', 'donor_id']).median().reset_index()\n",
    "    wide = pd.merge(wide, selected.loc[:, ['donor_id', 'age']], on='donor_id')    \n",
    "    wide_age = wide.loc[[x for x in wide.index if wide.loc[x,'age'] in age], :]\n",
    "    wide_mean = wide_age.iloc[:, :-1].groupby(['sa']).median().reset_index()\n",
    "    wide_mean = wide_mean.apply(lambda x: [x[t] for t in a])\n",
    "    coef = []\n",
    "    pvalue = []\n",
    "    rsquare = []\n",
    "    for marker in enumerate(selected.columns[:-3]):\n",
    "        marker = marker[1]\n",
    "        X = sm.add_constant(wide_mean[marker].values)\n",
    "        results = sm.OLS([float(x) for x in child['H'].values], X).fit()\n",
    "        coef.append(results.params[1])\n",
    "        pvalue.append(results.pvalues[1])\n",
    "        rsquare.append(results.rsquared_adj)\n",
    "    df_child = pd.DataFrame([selected.columns[:-3], coef, pvalue, rsquare]).T\n",
    "    df_child.columns = ['gene', 'coef', 'pvalue','rsquare']\n",
    "    #df_child = df_child[df_child.coef>0][df_child.pvalue<0.05].sort_values('pvalue').reset_index(drop=True)\n",
    "    df_combine = pd.merge(df_adult, df_child, on='gene', how='inner')\n",
    "    PV_adult =df_combine[df_combine.gene=='PVALB'].rsquare_x.values[0]  #0.425789#\n",
    "    PV_child = df_combine[df_combine.gene=='PVALB'].rsquare_y.values[0] #0.359704  #\n",
    "    alls.append(df_combine[df_combine.rsquare_x>PV_adult][df_combine.rsquare_y>PV_child].shape[0])\n",
    "    print(df_combine[df_combine.rsquare_x>PV_adult][df_combine.rsquare_y>PV_child].shape[0])"
   ]
  },
  {
   "cell_type": "code",
   "execution_count": 14,
   "id": "624df44e",
   "metadata": {},
   "outputs": [
    {
     "data": {
      "image/png": "[encoded data removed]",
      "text/plain": [
       "<Figure size 360x360 with 1 Axes>"
      ]
     },
     "metadata": {
      "needs_background": "light"
     },
     "output_type": "display_data"
    }
   ],
   "source": [
    "figure = plt.figure(figsize=(5,5))\n",
    "plt.hist(alls, bins=30)\n",
    "plt.plot([8,8], [0,150])\n",
    "plt.xlim([0, 50])\n",
    "plt.savefig('permutation_PV.eps')"
   ]
  },
  {
   "cell_type": "code",
   "execution_count": 15,
   "id": "6f335a40",
   "metadata": {},
   "outputs": [
    {
     "data": {
      "text/plain": [
       "0.53"
      ]
     },
     "execution_count": 15,
     "metadata": {},
     "output_type": "execute_result"
    }
   ],
   "source": [
    "len([x for x in alls if x >= 8]) / 1000"
   ]
  },
  {
   "cell_type": "code",
   "execution_count": null,
   "id": "22192a15",
   "metadata": {},
   "outputs": [],
   "source": []
  }
 ],
 "metadata": {
  "kernelspec": {
   "display_name": "Python 3",
   "language": "python",
   "name": "python3"
  },
  "language_info": {
   "codemirror_mode": {
    "name": "ipython",
    "version": 3
   },
   "file_extension": ".py",
   "mimetype": "text/x-python",
   "name": "python",
   "nbconvert_exporter": "python",
   "pygments_lexer": "ipython3",
   "version": "3.8.8"
  }
 },
 "nbformat": 4,
 "nbformat_minor": 5
}
