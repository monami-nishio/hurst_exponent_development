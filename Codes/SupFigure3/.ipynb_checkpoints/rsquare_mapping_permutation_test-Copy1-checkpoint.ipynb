{
 "cells": [
  {
   "cell_type": "code",
   "execution_count": 1,
   "id": "8a28dd43",
   "metadata": {},
   "outputs": [],
   "source": [
    "import pandas as pd\n",
    "import numpy as np\n",
    "import os\n",
    "import statsmodels.api as sm\n",
    "import matplotlib.pyplot as plt\n",
    "from sklearn.preprocessing import PolynomialFeatures\n",
    "from sklearn.linear_model import LinearRegression\n",
    "from sklearn.pipeline import Pipeline\n",
    "from natsort import natsorted\n",
    "from scipy.stats import pearsonr\n",
    "import seaborn as sns\n",
    "import matplotlib.cm as cm\n",
    "from pygam import LinearGAM, s, f\n",
    "import statsmodels.api as sm\n",
    "from scipy import stats\n",
    "import random\n",
    "sns.set(font_scale=1.5, style=\"white\")"
   ]
  },
  {
   "cell_type": "code",
   "execution_count": 2,
   "id": "647148a7",
   "metadata": {},
   "outputs": [],
   "source": [
    "df = pd.read_csv('../../Dataset/childhood/rna/brodmann_schaefer_0.5.csv')\n",
    "df_copy = df.iloc[:200, 2:]\n",
    "df.iloc[:200, 2:] = df.iloc[:200, 2:].values + df.iloc[200:, 2:].values\n",
    "df.iloc[200:, 2:] = df_copy.values + df.iloc[200:, 2:].values"
   ]
  },
  {
   "cell_type": "code",
   "execution_count": 3,
   "id": "168d1368",
   "metadata": {},
   "outputs": [],
   "source": [
    "regionname = pd.read_csv('../../Dataset/childhood/atlas/schaefer400_regions.csv')\n",
    "sarank = pd.read_csv('../../Dataset/childhood/saaxis/Sensorimotor_Association_Axis_AverageRanks.csv')\n",
    "sarank = pd.concat([regionname.reset_index(drop=True), sarank.reset_index(drop=True)],axis=1)\n",
    "sarank = sarank.loc[:, ['name', 'finalrank.wholebrain']]"
   ]
  },
  {
   "cell_type": "code",
   "execution_count": 4,
   "id": "08db698d",
   "metadata": {},
   "outputs": [],
   "source": [
    "adults = [ '18 yrs', '19 yrs', '21 yrs','23 yrs']\n",
    "cbpd_wide = ['4 yrs', '8 yrs', '11 yrs','13 yrs']"
   ]
  },
  {
   "cell_type": "code",
   "execution_count": 5,
   "id": "3d2f0a95",
   "metadata": {},
   "outputs": [],
   "source": [
    "brodregion = pd.read_csv('../../Dataset/childhood/rna/brodmann.csv')\n",
    "saorder = pd.DataFrame([np.arange(11), ['Visual', 'Auditory', 'Sensory', 'Motor', 'IPC', 'STC', 'vPFC', 'dPFC', 'OFC', 'TEv', 'ACC']]).T\n",
    "saorder.columns = ['sa', 'group']\n",
    "#pd.merge(brodregion.iloc[:, :2], saorder, on='group', how='left').to_csv('../../Dataset/rna/brodmann.csv', index=False)"
   ]
  },
  {
   "cell_type": "code",
   "execution_count": 6,
   "id": "3291172e",
   "metadata": {},
   "outputs": [],
   "source": [
    "child_original = pd.read_csv('../../Derivatives/childhood/original_motion_1mm.csv')\n",
    "adult_original = pd.read_csv('../../Derivatives/adult/original.csv')"
   ]
  },
  {
   "cell_type": "code",
   "execution_count": 7,
   "id": "a3e217a6",
   "metadata": {},
   "outputs": [
    {
     "name": "stdout",
     "output_type": "stream",
     "text": [
      "['BA1_3', 'BA2', 'BA20', 'BA21', 'BA22', 'BA23', 'BA24', 'BA25', 'BA26_29_30', 'BA27', 'BA28']\n",
      "['BA41_42_52']\n",
      "['BA4', 'BA40', 'BA41_42_52', 'BA43', 'BA44', 'BA45', 'BA46', 'BA47']\n",
      "['BA17']\n",
      "['BA44', 'BA45']\n",
      "['BA8', 'BA9', 'BA46']\n",
      "['BA11', 'BA13']\n",
      "['BA20']\n",
      "['BA24', 'BA25', 'BA32']\n",
      "['BA22']\n",
      "['BA39', 'BA40']\n"
     ]
    }
   ],
   "source": [
    "Visual = [x for x in df.columns if 'BA17' in x]\n",
    "Auditory = [x for x in df.columns if 'BA41' in x]\n",
    "Sensory =  [x for x in df.columns if 'BA1_3' in x] + [x for x in df.columns if 'BA2' in x] # [x for x in sarank.name.values if 'S2' in x] +\n",
    "Motor = [x for x in df.columns if 'BA4' in x]\n",
    "vPFC = [x for x in df.columns if 'BA44' in x] +  [x for x in df.columns if 'BA45' in x]\n",
    "dPFC = [x for x in df.columns if 'BA8' in x] + [x for x in df.columns if 'BA9' in x] + [x for x in df.columns if 'BA46' in x]\n",
    "OFC = [x for x in df.columns if 'BA11' in x] + [x for x in df.columns if 'BA12' in x]+ [x for x in df.columns if 'BA13' in x]  + [x for x in df.columns if 'BA14_' in x]\n",
    "TEv = [x for x in df.columns if 'BA20' in x]\n",
    "ACC = [x for x in df.columns if 'BA24' in x] + [x for x in df.columns if 'BA25' in x] + [x for x in df.columns if 'BA32' in x]\n",
    "STC = [x for x in df.columns if 'BA22' in x]\n",
    "IPC = [x for x in df.columns if 'BA39' in x] +  [x for x in df.columns if 'BA40' in x]\n",
    "child_regions = []\n",
    "adult_regions = []\n",
    "sas = []\n",
    "for x in [Sensory, Auditory, Motor, Visual, vPFC, dPFC, OFC, TEv, ACC, STC, IPC]:\n",
    "    print(x)\n",
    "    roi  = df.loc[:, x].sum(axis=1)>0\n",
    "    #if x == ['BA41_42_52']:\n",
    "    #    roi[44] = True\n",
    "    child_original['roi']=roi\n",
    "    adult_original['roi']=roi\n",
    "    child_regions.append(child_original[child_original.roi==True].mean()['H'])\n",
    "    adult_regions.append(adult_original[adult_original.roi==True].mean()['H'])\n",
    "    sas.append(child_original[child_original.roi==True].mean()['SArank'])"
   ]
  },
  {
   "cell_type": "code",
   "execution_count": 8,
   "id": "6c1df2ba",
   "metadata": {},
   "outputs": [],
   "source": [
    "child = pd.DataFrame([['Sensory', 'Auditory', 'Motor', 'Visual', 'vPFC', 'dPFC', 'OFC', 'TEv', 'ACC', 'STC', 'IPC'], child_regions, sas]).T.sort_values(2).reset_index(drop=True)\n",
    "child.columns = ['region', 'H', 'sa']\n",
    "adult = pd.DataFrame([['Sensory', 'Auditory', 'Motor', 'Visual', 'vPFC', 'dPFC', 'OFC', 'TEv', 'ACC', 'STC', 'IPC'], adult_regions, sas]).T.sort_values(2).reset_index(drop=True)\n",
    "adult.columns = ['region', 'H', 'sa']"
   ]
  },
  {
   "cell_type": "code",
   "execution_count": 9,
   "id": "de56d0c8",
   "metadata": {},
   "outputs": [],
   "source": [
    "gene_columns = pd.read_csv('all_genes.csv')"
   ]
  },
  {
   "cell_type": "code",
   "execution_count": null,
   "id": "acbac007",
   "metadata": {},
   "outputs": [
    {
     "name": "stdout",
     "output_type": "stream",
     "text": [
      "0\n"
     ]
    }
   ],
   "source": [
    "alls = []\n",
    "a = np.arange(11)\n",
    "for i in np.arange(1000):\n",
    "    if i%50==0:\n",
    "        print(i)\n",
    "        pd.DataFrame(alls).to_csv('permutation_0524.csv', index=False)\n",
    "    #random.shuffle(a)\n",
    "    adult['H'] = [adult['H'].values[t] for t in a]\n",
    "    child['H'] = [child['H'].values[t] for t in a]\n",
    "    age = adults\n",
    "    wide = gene_columns.loc[[x for x in gene_columns.index if gene_columns.loc[x,'age'] in age], :]\n",
    "    wide = wide[wide.sa>-1].sort_values('sa')\n",
    "    wide = wide.loc[:, ['sa', 'donor_id']+list(gene_columns.columns[9:-2])].groupby(['sa', 'donor_id']).median().reset_index()\n",
    "    wide = pd.merge(wide, gene_columns.loc[:, ['donor_id', 'age']], on='donor_id')    \n",
    "    wide_age = wide.loc[[x for x in wide.index if wide.loc[x,'age'] in age], :]\n",
    "    wide_mean = wide_age.iloc[:, :-1].groupby(['sa']).median().reset_index()\n",
    "    wide_std = wide_age.iloc[:, :-1].groupby(['sa']).sem().reset_index()\n",
    "    coef = []\n",
    "    pvalue = []\n",
    "    rsquare = []\n",
    "    for marker in enumerate(gene_columns.columns[9:-2]):\n",
    "        marker = marker[1]\n",
    "        X = sm.add_constant(wide_mean[marker].values)\n",
    "        results = sm.OLS([float(x) for x in adult['H'].values], X).fit()\n",
    "        coef.append(results.params[1])\n",
    "        pvalue.append(results.pvalues[1])\n",
    "        rsquare.append(results.rsquared_adj)\n",
    "    df_adult = pd.DataFrame([gene_columns.columns[9:-2], coef, pvalue, rsquare]).T\n",
    "    df_adult.columns = ['gene', 'coef', 'pvalue','rsquare']\n",
    "    df_adult = df_adult[df_adult.coef>0][df_adult.pvalue<0.05].sort_values('pvalue').reset_index(drop=True)\n",
    "    age = cbpd_wide\n",
    "    wide = gene_columns.loc[[x for x in gene_columns.index if gene_columns.loc[x,'age'] in age], :]\n",
    "    wide = wide[wide.sa>-1].sort_values('sa')\n",
    "    wide = wide.loc[:, ['sa', 'donor_id']+list(gene_columns.columns[9:-2])].groupby(['sa', 'donor_id']).median().reset_index()\n",
    "    wide = pd.merge(wide, gene_columns.loc[:, ['donor_id', 'age']], on='donor_id')    \n",
    "    wide_age = wide.loc[[x for x in wide.index if wide.loc[x,'age'] in age], :]\n",
    "    wide_mean = wide_age.iloc[:, :-1].groupby(['sa']).median().reset_index()\n",
    "    wide_std = wide_age.iloc[:, :-1].groupby(['sa']).sem().reset_index()\n",
    "    coef = []\n",
    "    pvalue = []\n",
    "    rsquare = []\n",
    "    for marker in enumerate(gene_columns.columns[9:-2]):\n",
    "        marker = marker[1]\n",
    "        X = sm.add_constant(wide_mean[marker].values)\n",
    "        results = sm.OLS([float(x) for x in child['H'].values], X).fit()\n",
    "        coef.append(results.params[1])\n",
    "        pvalue.append(results.pvalues[1])\n",
    "        rsquare.append(results.rsquared_adj)\n",
    "    df_child = pd.DataFrame([gene_columns.columns[9:-2], coef, pvalue, rsquare]).T\n",
    "    df_child.columns = ['gene', 'coef', 'pvalue','rsquare']\n",
    "    df_child = df_child[df_child.coef>0][df_child.pvalue<0.05].sort_values('pvalue').reset_index(drop=True)\n",
    "    df_combine = pd.merge(df_adult, df_child, on='gene', how='inner')\n",
    "    alls.append(df_combine.shape[0])\n",
    "    print(df_combine.shape[0])"
   ]
  },
  {
   "cell_type": "code",
   "execution_count": null,
   "id": "c3170998",
   "metadata": {},
   "outputs": [],
   "source": []
  },
  {
   "cell_type": "code",
   "execution_count": null,
   "id": "8feefdef",
   "metadata": {},
   "outputs": [],
   "source": []
  }
 ],
 "metadata": {
  "kernelspec": {
   "display_name": "Python 3",
   "language": "python",
   "name": "python3"
  },
  "language_info": {
   "codemirror_mode": {
    "name": "ipython",
    "version": 3
   },
   "file_extension": ".py",
   "mimetype": "text/x-python",
   "name": "python",
   "nbconvert_exporter": "python",
   "pygments_lexer": "ipython3",
   "version": "3.8.8"
  }
 },
 "nbformat": 4,
 "nbformat_minor": 5
}
