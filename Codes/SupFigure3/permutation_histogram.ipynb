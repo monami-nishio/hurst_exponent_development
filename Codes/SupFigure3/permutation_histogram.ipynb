{
 "cells": [
  {
   "cell_type": "code",
   "execution_count": 1,
   "id": "aac05816",
   "metadata": {},
   "outputs": [],
   "source": [
    "import numpy as np\n",
    "import pandas as pd\n",
    "import matplotlib.pyplot as plt\n",
    "from scipy import stats"
   ]
  },
  {
   "cell_type": "code",
   "execution_count": 6,
   "id": "c139f7b8",
   "metadata": {},
   "outputs": [],
   "source": [
    "df = pd.read_csv('/Users/monaminishio/Desktop/HOME020/202402_paper/Codes/SupFigure2/permutation_SA_2.csv')\n",
    "df_2 = pd.read_csv('/Users/monaminishio/Desktop/HOME020/202402_paper/Codes/SupFigure2/permutation_SA.csv')\n",
    "permSA = pd.concat([df, df_2])['0']\n",
    "permSA.to_csv('permutationSA.csv', index=False)\n",
    "perm = pd.read_csv('permutation.csv')['0']"
   ]
  },
  {
   "cell_type": "code",
   "execution_count": 7,
   "id": "99805e3a",
   "metadata": {},
   "outputs": [],
   "source": [
    "df = pd.read_csv('/Users/monaminishio/Desktop/HOME020/202402_paper/Codes/SupFigure2/permutation_0524_2.csv')\n",
    "df_2 = pd.read_csv('/Users/monaminishio/Desktop/HOME020/202402_paper/Codes/SupFigure2/permutation_0524.csv')\n",
    "permSA = pd.concat([df, df_2])['0']\n",
    "permSA.to_csv('permutation0524.csv', index=False)"
   ]
  },
  {
   "cell_type": "code",
   "execution_count": 9,
   "id": "5594d62b",
   "metadata": {},
   "outputs": [
    {
     "data": {
      "image/png": "[encoded data removed]",
      "text/plain": [
       "<Figure size 432x288 with 1 Axes>"
      ]
     },
     "metadata": {
      "needs_background": "light"
     },
     "output_type": "display_data"
    },
    {
     "data": {
      "image/png": "[encoded data removed]",
      "text/plain": [
       "<Figure size 432x288 with 1 Axes>"
      ]
     },
     "metadata": {
      "needs_background": "light"
     },
     "output_type": "display_data"
    }
   ],
   "source": [
    "min_bin = min(perm.min(), permSA.min())\n",
    "max_bin = max(perm.max(), permSA.max())\n",
    "bins = np.linspace(min_bin, max_bin, 50) \n",
    "figure = plt.figure()\n",
    "plt.hist(permSA, bins=bins)\n",
    "plt.plot([42,42], [0,300])\n",
    "plt.xlim([0, 300])\n",
    "plt.ylim([0, 500])\n",
    "plt.savefig('permutationSA.eps')\n",
    "figure = plt.figure()\n",
    "plt.hist(perm, bins=bins)\n",
    "plt.plot([42,42], [0,300])\n",
    "plt.xlim([0, 300])\n",
    "plt.ylim([0, 500])\n",
    "plt.savefig('permutation.eps')"
   ]
  },
  {
   "cell_type": "code",
   "execution_count": 35,
   "id": "22eed37a",
   "metadata": {},
   "outputs": [
    {
     "data": {
      "text/plain": [
       "0.003"
      ]
     },
     "execution_count": 35,
     "metadata": {},
     "output_type": "execute_result"
    }
   ],
   "source": [
    "len([x for x in df['0'] if x >= 220]) / len(df['0'])"
   ]
  },
  {
   "cell_type": "code",
   "execution_count": 13,
   "id": "ffbf53ce",
   "metadata": {},
   "outputs": [
    {
     "data": {
      "text/plain": [
       "TtestResult(statistic=-191.49146273634213, pvalue=0.0, df=999)"
      ]
     },
     "execution_count": 13,
     "metadata": {},
     "output_type": "execute_result"
    }
   ],
   "source": [
    "stats.ttest_1samp(permSA.values, 220)"
   ]
  },
  {
   "cell_type": "code",
   "execution_count": 26,
   "id": "caa43dd2",
   "metadata": {},
   "outputs": [
    {
     "data": {
      "text/plain": [
       "TtestResult(statistic=-20.200443706848073, pvalue=1.8556685857006673e-76, df=1008)"
      ]
     },
     "execution_count": 26,
     "metadata": {},
     "output_type": "execute_result"
    }
   ],
   "source": [
    "stats.ttest_1samp(perm.values, 42, alternative='two-sided')"
   ]
  },
  {
   "cell_type": "code",
   "execution_count": 14,
   "id": "5b968e32",
   "metadata": {},
   "outputs": [
    {
     "data": {
      "text/plain": [
       "0.1199207135777998"
      ]
     },
     "execution_count": 14,
     "metadata": {},
     "output_type": "execute_result"
    }
   ],
   "source": [
    "len([x for x in perm if x >= 42]) / len(perm)"
   ]
  },
  {
   "cell_type": "code",
   "execution_count": 19,
   "id": "e076f1d5",
   "metadata": {},
   "outputs": [
    {
     "data": {
      "text/plain": [
       "19.892963330029733"
      ]
     },
     "execution_count": 19,
     "metadata": {},
     "output_type": "execute_result"
    }
   ],
   "source": [
    "np.mean(perm)"
   ]
  },
  {
   "cell_type": "code",
   "execution_count": 11,
   "id": "db0cedda",
   "metadata": {},
   "outputs": [
    {
     "data": {
      "text/plain": [
       "0.12"
      ]
     },
     "execution_count": 11,
     "metadata": {},
     "output_type": "execute_result"
    }
   ],
   "source": [
    "len([x for x in permSA.values if x >=42]) / len(permSA.values)"
   ]
  },
  {
   "cell_type": "code",
   "execution_count": 12,
   "id": "e1050538",
   "metadata": {},
   "outputs": [
    {
     "data": {
      "text/plain": [
       "0.1199207135777998"
      ]
     },
     "execution_count": 12,
     "metadata": {},
     "output_type": "execute_result"
    }
   ],
   "source": [
    "len([x for x in perm.values if x >=42]) / len(perm.values)"
   ]
  },
  {
   "cell_type": "code",
   "execution_count": null,
   "id": "3d3990d2",
   "metadata": {},
   "outputs": [],
   "source": []
  }
 ],
 "metadata": {
  "kernelspec": {
   "display_name": "Python 3",
   "language": "python",
   "name": "python3"
  },
  "language_info": {
   "codemirror_mode": {
    "name": "ipython",
    "version": 3
   },
   "file_extension": ".py",
   "mimetype": "text/x-python",
   "name": "python",
   "nbconvert_exporter": "python",
   "pygments_lexer": "ipython3",
   "version": "3.8.8"
  }
 },
 "nbformat": 4,
 "nbformat_minor": 5
}
