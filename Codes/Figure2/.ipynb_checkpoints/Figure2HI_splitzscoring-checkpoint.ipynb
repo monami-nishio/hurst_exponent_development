{
 "cells": [
  {
   "cell_type": "code",
   "execution_count": 1,
   "id": "8a28dd43",
   "metadata": {},
   "outputs": [],
   "source": [
    "import pandas as pd\n",
    "import numpy as np\n",
    "import os\n",
    "import statsmodels.api as sm\n",
    "import matplotlib.pyplot as plt\n",
    "from sklearn.preprocessing import PolynomialFeatures\n",
    "from sklearn.linear_model import LinearRegression\n",
    "from sklearn.pipeline import Pipeline\n",
    "from natsort import natsorted\n",
    "from scipy.stats import pearsonr\n",
    "import seaborn as sns\n",
    "import matplotlib.cm as cm\n",
    "from pygam import LinearGAM, s, f\n",
    "from scipy import stats\n",
    "sns.set(font_scale=1.5, style=\"white\")"
   ]
  },
  {
   "cell_type": "code",
   "execution_count": 2,
   "id": "647148a7",
   "metadata": {},
   "outputs": [],
   "source": [
    "df = pd.read_csv('../../Dataset/rna/brodmann_schaefer_0.5.csv')"
   ]
  },
  {
   "cell_type": "code",
   "execution_count": 3,
   "id": "168d1368",
   "metadata": {},
   "outputs": [],
   "source": [
    "regionname = pd.read_csv('../../Modules/human/schaefer400_regions.csv')\n",
    "sarank = pd.read_csv('../../Modules/human/Sensorimotor_Association_Axis_AverageRanks.csv')\n",
    "sarank = pd.concat([regionname.reset_index(drop=True), sarank.reset_index(drop=True)],axis=1)\n",
    "sarank = sarank.loc[:, ['name', 'finalrank.wholebrain']]"
   ]
  },
  {
   "cell_type": "code",
   "execution_count": 4,
   "id": "0e5c4a57",
   "metadata": {},
   "outputs": [],
   "source": [
    "# project directory\n",
    "data_dir = '../../Dataset/rna'\n",
    "# read expression data\n",
    "gene_columns = pd.read_csv(os.path.join(data_dir, 'columns_metadata.csv'))\n",
    "gene_rows = pd.read_csv(os.path.join(data_dir, 'rows_metadata.csv'))\n",
    "gene_columns['id'] = range(1, len(gene_columns) + 1)\n",
    "expr_matrix = pd.read_csv(os.path.join(data_dir, 'expression_matrix.csv'), header=None)\n",
    "expr_matrix = expr_matrix.iloc[:, 1:] "
   ]
  },
  {
   "cell_type": "code",
   "execution_count": 5,
   "id": "f91e34bd",
   "metadata": {},
   "outputs": [],
   "source": [
    "# remove genes without an entrez id\n",
    "expr_subset = expr_matrix[~gene_rows['entrez_id'].isna()]\n",
    "rows_subset = gene_rows[~gene_rows['entrez_id'].isna()]"
   ]
  },
  {
   "cell_type": "code",
   "execution_count": 6,
   "id": "1f457b4e",
   "metadata": {},
   "outputs": [],
   "source": [
    "log2_expr = np.log2(expr_subset + 1)\n",
    "log2_expr['entrez_id'] = rows_subset['entrez_id']"
   ]
  },
  {
   "cell_type": "code",
   "execution_count": 7,
   "id": "2067ce6a",
   "metadata": {},
   "outputs": [],
   "source": [
    "markers  = ['PVALB', 'SST','GAD1', 'GAD2', 'DLX1', 'DLX2'] #PVALB\n",
    "for marker in markers:\n",
    "    ids = gene_rows[gene_rows.gene_symbol==marker].entrez_id.values[0]\n",
    "    df_marker = log2_expr[log2_expr.entrez_id==ids].iloc[:, :-1].T.values\n",
    "    gene_columns[marker] = df_marker"
   ]
  },
  {
   "cell_type": "code",
   "execution_count": 8,
   "id": "f6d2f08b",
   "metadata": {},
   "outputs": [],
   "source": [
    "sa_cortex = np.unique([x for x in gene_columns.structure_name if 'cortex' in x])\n",
    "sa_cortex = pd.DataFrame([x for x in sa_cortex if 'cereb' not in x])\n",
    "sa_cortex.columns = ['structure_name']"
   ]
  },
  {
   "cell_type": "code",
   "execution_count": 9,
   "id": "08db698d",
   "metadata": {},
   "outputs": [],
   "source": [
    "adults = [ '18 yrs', '19 yrs', '21 yrs','23 yrs']\n",
    "cbpd_wide = ['3 yrs','4 yrs', '8 yrs', '11 yrs','13 yrs']"
   ]
  },
  {
   "cell_type": "code",
   "execution_count": 10,
   "id": "3d2f0a95",
   "metadata": {},
   "outputs": [],
   "source": [
    "brodregion = pd.read_csv('../../Dataset/rna/brodmann.csv')\n",
    "saorder = pd.DataFrame([np.arange(11), ['Visual', 'Auditory', 'Sensory', 'Motor', 'IPC', 'STC', 'vPFC', 'dPFC', 'OFC', 'TEv', 'ACC']]).T\n",
    "saorder.columns = ['sa', 'group']\n",
    "pd.merge(brodregion.iloc[:, :2], saorder, on='group', how='left').to_csv('../../Dataset/rna/brodmann.csv', index=False)"
   ]
  },
  {
   "cell_type": "code",
   "execution_count": 11,
   "id": "a3e217a6",
   "metadata": {},
   "outputs": [
    {
     "name": "stdout",
     "output_type": "stream",
     "text": [
      "['BA1_3', 'BA2', 'BA20', 'BA21', 'BA22', 'BA23', 'BA24', 'BA25', 'BA26_29_30', 'BA27', 'BA28']\n",
      "['BA41_42_52']\n",
      "['BA4', 'BA40', 'BA41_42_52', 'BA43', 'BA44', 'BA45', 'BA46', 'BA47']\n",
      "['BA17']\n",
      "['BA44', 'BA45']\n",
      "['BA8', 'BA9', 'BA46']\n",
      "['BA11', 'BA13']\n",
      "['BA20']\n",
      "['BA24', 'BA25', 'BA32']\n",
      "['BA22']\n",
      "['BA39', 'BA40']\n"
     ]
    }
   ],
   "source": [
    "child_original = pd.read_csv('../../Derivatives/childhood/original.csv')\n",
    "adult_original = pd.read_csv('../../Derivatives/adult/original.csv')\n",
    "\n",
    "Visual = [x for x in df.columns if 'BA17' in x]\n",
    "Auditory = [x for x in df.columns if 'BA41' in x]\n",
    "Sensory =  [x for x in df.columns if 'BA1_3' in x] + [x for x in df.columns if 'BA2' in x] # [x for x in sarank.name.values if 'S2' in x] +\n",
    "Motor = [x for x in df.columns if 'BA4' in x]\n",
    "vPFC = [x for x in df.columns if 'BA44' in x] +  [x for x in df.columns if 'BA45' in x]\n",
    "dPFC = [x for x in df.columns if 'BA8' in x] + [x for x in df.columns if 'BA9' in x] + [x for x in df.columns if 'BA46' in x]\n",
    "OFC = [x for x in df.columns if 'BA11' in x] + [x for x in df.columns if 'BA12' in x]+ [x for x in df.columns if 'BA13' in x]  + [x for x in df.columns if 'BA14_' in x]\n",
    "TEv = [x for x in df.columns if 'BA20' in x]\n",
    "ACC = [x for x in df.columns if 'BA24' in x] + [x for x in df.columns if 'BA25' in x] + [x for x in df.columns if 'BA32' in x]\n",
    "STC = [x for x in df.columns if 'BA22' in x]\n",
    "IPC = [x for x in df.columns if 'BA39' in x] +  [x for x in df.columns if 'BA40' in x]\n",
    "\n",
    "child_regions = []\n",
    "adult_regions = []\n",
    "sas = []\n",
    "for x in [Sensory, Auditory, Motor, Visual, vPFC, dPFC, OFC, TEv, ACC, STC, IPC]:\n",
    "    print(x)\n",
    "    roi  = df.loc[:, x].sum(axis=1)>0\n",
    "    #if x == ['BA41_42_52']:\n",
    "    #    roi[44] = True\n",
    "    child_original['roi']=roi\n",
    "    adult_original['roi']=roi\n",
    "    child_regions.append(child_original[child_original.roi==True].mean()['H'])\n",
    "    adult_regions.append(adult_original[adult_original.roi==True].mean()['H'])\n",
    "    sas.append(child_original[child_original.roi==True].mean()['SArank'])"
   ]
  },
  {
   "cell_type": "code",
   "execution_count": 12,
   "id": "6c1df2ba",
   "metadata": {},
   "outputs": [],
   "source": [
    "child = pd.DataFrame([['Sensory', 'Auditory', 'Motor', 'Visual', 'vPFC', 'dPFC', 'OFC', 'TEv', 'ACC', 'STC', 'IPC'], child_regions, sas]).T.sort_values(2).reset_index(drop=True)\n",
    "child.columns = ['region', 'H', 'sa']\n",
    "adult = pd.DataFrame([['Sensory', 'Auditory', 'Motor', 'Visual', 'vPFC', 'dPFC', 'OFC', 'TEv', 'ACC', 'STC', 'IPC'], adult_regions, sas]).T.sort_values(2).reset_index(drop=True)\n",
    "adult.columns = ['region', 'H', 'sa']"
   ]
  },
  {
   "cell_type": "code",
   "execution_count": 13,
   "id": "fe467055",
   "metadata": {},
   "outputs": [],
   "source": [
    "sa_cortex['region'] = ['ACC', 'dPFC', 'TEv', '-', 'OFC', '-', 'STC', 'IPC', 'Auditory', 'Motor', '-', 'Sensory', 'Visual', '-', 'vPFC']\n",
    "sa_cortex = pd.merge(sa_cortex.loc[:, ['structure_name', 'region']], child.loc[:, ['region', 'sa']], on='region', how='left')"
   ]
  },
  {
   "cell_type": "code",
   "execution_count": 14,
   "id": "de56d0c8",
   "metadata": {},
   "outputs": [],
   "source": [
    "gene_columns = pd.merge(gene_columns,sa_cortex, on='structure_name', how='left')"
   ]
  },
  {
   "cell_type": "code",
   "execution_count": 49,
   "id": "63e80b05",
   "metadata": {},
   "outputs": [],
   "source": [
    "wide = gene_columns.loc[[x for x in gene_columns.index if gene_columns.loc[x,'age'] in adults], :]\n",
    "wide = wide[wide.sa>-1].sort_values('sa')\n",
    "wide = wide.groupby(['sa', 'donor_name']).mean().reset_index()\n",
    "wide_mean = wide.groupby(['sa']).mean().reset_index()\n",
    "wide_std = wide.groupby(['sa']).sem().reset_index()"
   ]
  },
  {
   "cell_type": "code",
   "execution_count": 50,
   "id": "6b3f8419",
   "metadata": {
    "scrolled": true
   },
   "outputs": [
    {
     "name": "stdout",
     "output_type": "stream",
     "text": [
      "0.510516796090251\n",
      "                            OLS Regression Results                            \n",
      "==============================================================================\n",
      "Dep. Variable:                      y   R-squared:                       0.511\n",
      "Model:                            OLS   Adj. R-squared:                  0.456\n",
      "Method:                 Least Squares   F-statistic:                     9.387\n",
      "Date:                Fri, 09 Feb 2024   Prob (F-statistic):             0.0135\n",
      "Time:                        14:46:35   Log-Likelihood:                 26.345\n",
      "No. Observations:                  11   AIC:                            -48.69\n",
      "Df Residuals:                       9   BIC:                            -47.90\n",
      "Df Model:                           1                                         \n",
      "Covariance Type:            nonrobust                                         \n",
      "==============================================================================\n",
      "                 coef    std err          t      P>|t|      [0.025      0.975]\n",
      "------------------------------------------------------------------------------\n",
      "const          0.8126      0.128      6.370      0.000       0.524       1.101\n",
      "x1             0.0364      0.012      3.064      0.013       0.010       0.063\n",
      "==============================================================================\n",
      "Omnibus:                        2.494   Durbin-Watson:                   2.823\n",
      "Prob(Omnibus):                  0.287   Jarque-Bera (JB):                0.508\n",
      "Skew:                          -0.445   Prob(JB):                        0.776\n",
      "Kurtosis:                       3.562   Cond. No.                         188.\n",
      "==============================================================================\n",
      "\n",
      "Notes:\n",
      "[1] Standard Errors assume that the covariance matrix of the errors is correctly specified.\n"
     ]
    },
    {
     "name": "stderr",
     "output_type": "stream",
     "text": [
      "/Users/monaminishio/opt/anaconda3/lib/python3.8/site-packages/scipy/stats/_stats_py.py:1736: UserWarning: kurtosistest only valid for n>=20 ... continuing anyway, n=11\n",
      "  warnings.warn(\"kurtosistest only valid for n>=20 ... continuing \"\n"
     ]
    },
    {
     "data": {
      "text/plain": [
       "(9.3, 12.2)"
      ]
     },
     "execution_count": 50,
     "metadata": {},
     "output_type": "execute_result"
    },
    {
     "data": {
      "image/png": "[encoded data removed]",
      "text/plain": [
       "<Figure size 432x288 with 1 Axes>"
      ]
     },
     "metadata": {
      "needs_background": "light"
     },
     "output_type": "display_data"
    }
   ],
   "source": [
    "# no z-scoring\n",
    "for i in np.arange(11):\n",
    "    plt.scatter(wide_mean['PVALB'].values[i]+wide_mean['SST'].values[i], adult['H'].values[i])\n",
    "#plt.legend(['Sensory', 'Auditory', 'Motor', 'Visual', 'vPFC', 'dPFC', 'OFC', 'TEv', 'ACC', 'STC', 'IPC'])\n",
    "#plt.legend(adult.region.values)\n",
    "df_x = pd.DataFrame(wide_mean['PVALB'].values+wide_mean['SST'].values)\n",
    "df_y = pd.DataFrame(adult['H'].values)\n",
    "mod = LinearRegression()\n",
    "mod_lin = mod.fit(df_x, df_y)\n",
    "y_lin_fit = mod_lin.predict(df_x)\n",
    "r2_lin = mod.score(df_x, df_y)\n",
    "plt.plot(df_x, y_lin_fit, color = '#000000', linewidth=2)\n",
    "print(r2_lin)\n",
    "X = sm.add_constant(wide_mean['PVALB'].values+wide_mean['SST'].values)\n",
    "results = sm.OLS([float(x) for x in adult['H'].values], X).fit()\n",
    "print(results.summary())\n",
    "plt.ylim([1.0,1.25])\n",
    "plt.xlim([9.3,12.2])\n",
    "#plt.savefig('../figures/Fig2_adultPV+SST.eps',  format='eps', bbox_inches='tight')"
   ]
  },
  {
   "cell_type": "code",
   "execution_count": 51,
   "id": "5baa0fdd",
   "metadata": {},
   "outputs": [
    {
     "name": "stdout",
     "output_type": "stream",
     "text": [
      "                            OLS Regression Results                            \n",
      "==============================================================================\n",
      "Dep. Variable:                      y   R-squared:                       0.117\n",
      "Model:                            OLS   Adj. R-squared:                  0.019\n",
      "Method:                 Least Squares   F-statistic:                     1.193\n",
      "Date:                Fri, 09 Feb 2024   Prob (F-statistic):              0.303\n",
      "Time:                        14:46:35   Log-Likelihood:                 23.101\n",
      "No. Observations:                  11   AIC:                            -42.20\n",
      "Df Residuals:                       9   BIC:                            -41.41\n",
      "Df Model:                           1                                         \n",
      "Covariance Type:            nonrobust                                         \n",
      "==============================================================================\n",
      "                 coef    std err          t      P>|t|      [0.025      0.975]\n",
      "------------------------------------------------------------------------------\n",
      "const          0.9210      0.258      3.567      0.006       0.337       1.505\n",
      "x1             0.0685      0.063      1.092      0.303      -0.073       0.210\n",
      "==============================================================================\n",
      "Omnibus:                        9.566   Durbin-Watson:                   2.216\n",
      "Prob(Omnibus):                  0.008   Jarque-Bera (JB):                4.498\n",
      "Skew:                          -1.393   Prob(JB):                        0.106\n",
      "Kurtosis:                       4.434   Cond. No.                         114.\n",
      "==============================================================================\n",
      "\n",
      "Notes:\n",
      "[1] Standard Errors assume that the covariance matrix of the errors is correctly specified.\n",
      "                            OLS Regression Results                            \n",
      "==============================================================================\n",
      "Dep. Variable:                      y   R-squared:                       0.055\n",
      "Model:                            OLS   Adj. R-squared:                 -0.050\n",
      "Method:                 Least Squares   F-statistic:                    0.5258\n",
      "Date:                Fri, 09 Feb 2024   Prob (F-statistic):              0.487\n",
      "Time:                        14:46:35   Log-Likelihood:                 22.728\n",
      "No. Observations:                  11   AIC:                            -41.46\n",
      "Df Residuals:                       9   BIC:                            -40.66\n",
      "Df Model:                           1                                         \n",
      "Covariance Type:            nonrobust                                         \n",
      "==============================================================================\n",
      "                 coef    std err          t      P>|t|      [0.025      0.975]\n",
      "------------------------------------------------------------------------------\n",
      "const          1.0448      0.218      4.787      0.001       0.551       1.538\n",
      "x1             0.0396      0.055      0.725      0.487      -0.084       0.163\n",
      "==============================================================================\n",
      "Omnibus:                       10.343   Durbin-Watson:                   2.362\n",
      "Prob(Omnibus):                  0.006   Jarque-Bera (JB):                4.976\n",
      "Skew:                          -1.421   Prob(JB):                       0.0831\n",
      "Kurtosis:                       4.667   Cond. No.                         90.7\n",
      "==============================================================================\n",
      "\n",
      "Notes:\n",
      "[1] Standard Errors assume that the covariance matrix of the errors is correctly specified.\n",
      "                            OLS Regression Results                            \n",
      "==============================================================================\n",
      "Dep. Variable:                      y   R-squared:                       0.063\n",
      "Model:                            OLS   Adj. R-squared:                 -0.042\n",
      "Method:                 Least Squares   F-statistic:                    0.6006\n",
      "Date:                Fri, 09 Feb 2024   Prob (F-statistic):              0.458\n",
      "Time:                        14:46:35   Log-Likelihood:                 22.772\n",
      "No. Observations:                  11   AIC:                            -41.54\n",
      "Df Residuals:                       9   BIC:                            -40.75\n",
      "Df Model:                           1                                         \n",
      "Covariance Type:            nonrobust                                         \n",
      "==============================================================================\n",
      "                 coef    std err          t      P>|t|      [0.025      0.975]\n",
      "------------------------------------------------------------------------------\n",
      "const          1.3937      0.246      5.655      0.000       0.836       1.951\n",
      "x1            -0.0935      0.121     -0.775      0.458      -0.366       0.179\n",
      "==============================================================================\n",
      "Omnibus:                        6.339   Durbin-Watson:                   2.818\n",
      "Prob(Omnibus):                  0.042   Jarque-Bera (JB):                2.547\n",
      "Skew:                          -1.075   Prob(JB):                        0.280\n",
      "Kurtosis:                       3.965   Cond. No.                         61.3\n",
      "==============================================================================\n",
      "\n",
      "Notes:\n",
      "[1] Standard Errors assume that the covariance matrix of the errors is correctly specified.\n",
      "                            OLS Regression Results                            \n",
      "==============================================================================\n",
      "Dep. Variable:                      y   R-squared:                       0.008\n",
      "Model:                            OLS   Adj. R-squared:                 -0.102\n",
      "Method:                 Least Squares   F-statistic:                   0.07472\n",
      "Date:                Fri, 09 Feb 2024   Prob (F-statistic):              0.791\n",
      "Time:                        14:46:35   Log-Likelihood:                 22.462\n",
      "No. Observations:                  11   AIC:                            -40.92\n",
      "Df Residuals:                       9   BIC:                            -40.13\n",
      "Df Model:                           1                                         \n",
      "Covariance Type:            nonrobust                                         \n",
      "==============================================================================\n",
      "                 coef    std err          t      P>|t|      [0.025      0.975]\n",
      "------------------------------------------------------------------------------\n",
      "const          1.2239      0.078     15.738      0.000       1.048       1.400\n",
      "x1            -0.0416      0.152     -0.273      0.791      -0.386       0.303\n",
      "==============================================================================\n",
      "Omnibus:                        7.581   Durbin-Watson:                   2.556\n",
      "Prob(Omnibus):                  0.023   Jarque-Bera (JB):                3.216\n",
      "Skew:                          -1.176   Prob(JB):                        0.200\n",
      "Kurtosis:                       4.217   Cond. No.                         18.3\n",
      "==============================================================================\n",
      "\n",
      "Notes:\n",
      "[1] Standard Errors assume that the covariance matrix of the errors is correctly specified.\n"
     ]
    },
    {
     "name": "stderr",
     "output_type": "stream",
     "text": [
      "/Users/monaminishio/opt/anaconda3/lib/python3.8/site-packages/scipy/stats/_stats_py.py:1736: UserWarning: kurtosistest only valid for n>=20 ... continuing anyway, n=11\n",
      "  warnings.warn(\"kurtosistest only valid for n>=20 ... continuing \"\n",
      "/Users/monaminishio/opt/anaconda3/lib/python3.8/site-packages/scipy/stats/_stats_py.py:1736: UserWarning: kurtosistest only valid for n>=20 ... continuing anyway, n=11\n",
      "  warnings.warn(\"kurtosistest only valid for n>=20 ... continuing \"\n",
      "/Users/monaminishio/opt/anaconda3/lib/python3.8/site-packages/scipy/stats/_stats_py.py:1736: UserWarning: kurtosistest only valid for n>=20 ... continuing anyway, n=11\n",
      "  warnings.warn(\"kurtosistest only valid for n>=20 ... continuing \"\n",
      "/Users/monaminishio/opt/anaconda3/lib/python3.8/site-packages/scipy/stats/_stats_py.py:1736: UserWarning: kurtosistest only valid for n>=20 ... continuing anyway, n=11\n",
      "  warnings.warn(\"kurtosistest only valid for n>=20 ... continuing \"\n"
     ]
    }
   ],
   "source": [
    "for marker in ['GAD1', 'GAD2', 'DLX1', 'DLX2']:\n",
    "    X = sm.add_constant(wide_mean[marker].values)\n",
    "    results = sm.OLS([float(x) for x in adult['H'].values], X).fit()\n",
    "    print(results.summary())"
   ]
  },
  {
   "cell_type": "code",
   "execution_count": 52,
   "id": "b884bd57",
   "metadata": {},
   "outputs": [],
   "source": [
    "wide = gene_columns.loc[[x for x in gene_columns.index if gene_columns.loc[x,'age'] in cbpd_wide], :]\n",
    "wide = wide[wide.sa>-1].sort_values('sa')\n",
    "wide = wide.groupby(['sa', 'donor_name']).mean().reset_index()\n",
    "wide_mean = wide.groupby(['sa']).mean().reset_index()\n",
    "wide_std = wide.groupby(['sa']).sem().reset_index()"
   ]
  },
  {
   "cell_type": "code",
   "execution_count": 53,
   "id": "700c8e51",
   "metadata": {},
   "outputs": [
    {
     "name": "stdout",
     "output_type": "stream",
     "text": [
      "0.4937450566779994\n",
      "                            OLS Regression Results                            \n",
      "==============================================================================\n",
      "Dep. Variable:                      y   R-squared:                       0.494\n",
      "Model:                            OLS   Adj. R-squared:                  0.437\n",
      "Method:                 Least Squares   F-statistic:                     8.778\n",
      "Date:                Fri, 09 Feb 2024   Prob (F-statistic):             0.0159\n",
      "Time:                        14:46:36   Log-Likelihood:                 29.141\n",
      "No. Observations:                  11   AIC:                            -54.28\n",
      "Df Residuals:                       9   BIC:                            -53.49\n",
      "Df Model:                           1                                         \n",
      "Covariance Type:            nonrobust                                         \n",
      "==============================================================================\n",
      "                 coef    std err          t      P>|t|      [0.025      0.975]\n",
      "------------------------------------------------------------------------------\n",
      "const          0.6551      0.150      4.367      0.002       0.316       0.994\n",
      "x1             0.0385      0.013      2.963      0.016       0.009       0.068\n",
      "==============================================================================\n",
      "Omnibus:                        0.058   Durbin-Watson:                   3.184\n",
      "Prob(Omnibus):                  0.972   Jarque-Bera (JB):                0.104\n",
      "Skew:                           0.003   Prob(JB):                        0.949\n",
      "Kurtosis:                       2.523   Cond. No.                         306.\n",
      "==============================================================================\n",
      "\n",
      "Notes:\n",
      "[1] Standard Errors assume that the covariance matrix of the errors is correctly specified.\n"
     ]
    },
    {
     "name": "stderr",
     "output_type": "stream",
     "text": [
      "/Users/monaminishio/opt/anaconda3/lib/python3.8/site-packages/scipy/stats/_stats_py.py:1736: UserWarning: kurtosistest only valid for n>=20 ... continuing anyway, n=11\n",
      "  warnings.warn(\"kurtosistest only valid for n>=20 ... continuing \"\n"
     ]
    },
    {
     "data": {
      "text/plain": [
       "(9.3, 12.2)"
      ]
     },
     "execution_count": 53,
     "metadata": {},
     "output_type": "execute_result"
    },
    {
     "data": {
      "image/png": "[encoded data removed]",
      "text/plain": [
       "<Figure size 432x288 with 1 Axes>"
      ]
     },
     "metadata": {
      "needs_background": "light"
     },
     "output_type": "display_data"
    }
   ],
   "source": [
    "for i in np.arange(11):\n",
    "    plt.scatter(wide_mean['PVALB'].values[i]+wide_mean['SST'].values[i], child['H'].values[i])\n",
    "df_x = pd.DataFrame(wide_mean['PVALB'].values+wide_mean['SST'].values)\n",
    "df_y = pd.DataFrame(child['H'].values)\n",
    "mod = LinearRegression()\n",
    "mod_lin = mod.fit(df_x, df_y)\n",
    "y_lin_fit = mod_lin.predict(df_x)\n",
    "r2_lin = mod.score(df_x, df_y)\n",
    "plt.plot(df_x, y_lin_fit, color = '#000000', linewidth=2)\n",
    "print(r2_lin)\n",
    "X = sm.add_constant(wide_mean['PVALB'].values+wide_mean['SST'].values)\n",
    "results = sm.OLS([float(x) for x in child['H'].values], X).fit()\n",
    "print(results.summary())\n",
    "plt.ylim([1,1.25])\n",
    "plt.xlim([9.3,12.2])\n",
    "#plt.savefig('../figures/Fig2_childPV+SST.eps',  format='eps', bbox_inches='tight')"
   ]
  },
  {
   "cell_type": "code",
   "execution_count": 54,
   "id": "0ef7818c",
   "metadata": {},
   "outputs": [
    {
     "name": "stdout",
     "output_type": "stream",
     "text": [
      "                            OLS Regression Results                            \n",
      "==============================================================================\n",
      "Dep. Variable:                      y   R-squared:                       0.100\n",
      "Model:                            OLS   Adj. R-squared:                  0.001\n",
      "Method:                 Least Squares   F-statistic:                     1.006\n",
      "Date:                Fri, 09 Feb 2024   Prob (F-statistic):              0.342\n",
      "Time:                        14:46:39   Log-Likelihood:                 22.999\n",
      "No. Observations:                  11   AIC:                            -42.00\n",
      "Df Residuals:                       9   BIC:                            -41.20\n",
      "Df Model:                           1                                         \n",
      "Covariance Type:            nonrobust                                         \n",
      "==============================================================================\n",
      "                 coef    std err          t      P>|t|      [0.025      0.975]\n",
      "------------------------------------------------------------------------------\n",
      "const          1.4891      0.286      5.214      0.001       0.843       2.135\n",
      "x1            -0.0784      0.078     -1.003      0.342      -0.255       0.098\n",
      "==============================================================================\n",
      "Omnibus:                        4.641   Durbin-Watson:                   2.648\n",
      "Prob(Omnibus):                  0.098   Jarque-Bera (JB):                1.988\n",
      "Skew:                          -1.026   Prob(JB):                        0.370\n",
      "Kurtosis:                       3.361   Cond. No.                         112.\n",
      "==============================================================================\n",
      "\n",
      "Notes:\n",
      "[1] Standard Errors assume that the covariance matrix of the errors is correctly specified.\n",
      "                            OLS Regression Results                            \n",
      "==============================================================================\n",
      "Dep. Variable:                      y   R-squared:                       0.265\n",
      "Model:                            OLS   Adj. R-squared:                  0.183\n",
      "Method:                 Least Squares   F-statistic:                     3.239\n",
      "Date:                Fri, 09 Feb 2024   Prob (F-statistic):              0.105\n",
      "Time:                        14:46:39   Log-Likelihood:                 24.107\n",
      "No. Observations:                  11   AIC:                            -44.21\n",
      "Df Residuals:                       9   BIC:                            -43.42\n",
      "Df Model:                           1                                         \n",
      "Covariance Type:            nonrobust                                         \n",
      "==============================================================================\n",
      "                 coef    std err          t      P>|t|      [0.025      0.975]\n",
      "------------------------------------------------------------------------------\n",
      "const          1.7726      0.317      5.597      0.000       1.056       2.489\n",
      "x1            -0.1674      0.093     -1.800      0.105      -0.378       0.043\n",
      "==============================================================================\n",
      "Omnibus:                        6.573   Durbin-Watson:                   2.294\n",
      "Prob(Omnibus):                  0.037   Jarque-Bera (JB):                2.866\n",
      "Skew:                          -1.190   Prob(JB):                        0.239\n",
      "Kurtosis:                       3.765   Cond. No.                         130.\n",
      "==============================================================================\n",
      "\n",
      "Notes:\n",
      "[1] Standard Errors assume that the covariance matrix of the errors is correctly specified.\n",
      "                            OLS Regression Results                            \n",
      "==============================================================================\n",
      "Dep. Variable:                      y   R-squared:                       0.030\n",
      "Model:                            OLS   Adj. R-squared:                 -0.078\n",
      "Method:                 Least Squares   F-statistic:                    0.2770\n",
      "Date:                Fri, 09 Feb 2024   Prob (F-statistic):              0.611\n",
      "Time:                        14:46:39   Log-Likelihood:                 22.583\n",
      "No. Observations:                  11   AIC:                            -41.17\n",
      "Df Residuals:                       9   BIC:                            -40.37\n",
      "Df Model:                           1                                         \n",
      "Covariance Type:            nonrobust                                         \n",
      "==============================================================================\n",
      "                 coef    std err          t      P>|t|      [0.025      0.975]\n",
      "------------------------------------------------------------------------------\n",
      "const          1.3183      0.220      6.005      0.000       0.822       1.815\n",
      "x1            -0.0557      0.106     -0.526      0.611      -0.295       0.184\n",
      "==============================================================================\n",
      "Omnibus:                       11.442   Durbin-Watson:                   2.621\n",
      "Prob(Omnibus):                  0.003   Jarque-Bera (JB):                5.771\n",
      "Skew:                          -1.534   Prob(JB):                       0.0558\n",
      "Kurtosis:                       4.783   Cond. No.                         54.2\n",
      "==============================================================================\n",
      "\n",
      "Notes:\n",
      "[1] Standard Errors assume that the covariance matrix of the errors is correctly specified.\n",
      "                            OLS Regression Results                            \n",
      "==============================================================================\n",
      "Dep. Variable:                      y   R-squared:                       0.135\n",
      "Model:                            OLS   Adj. R-squared:                  0.039\n",
      "Method:                 Least Squares   F-statistic:                     1.410\n",
      "Date:                Fri, 09 Feb 2024   Prob (F-statistic):              0.266\n",
      "Time:                        14:46:39   Log-Likelihood:                 23.216\n",
      "No. Observations:                  11   AIC:                            -42.43\n",
      "Df Residuals:                       9   BIC:                            -41.64\n",
      "Df Model:                           1                                         \n",
      "Covariance Type:            nonrobust                                         \n",
      "==============================================================================\n",
      "                 coef    std err          t      P>|t|      [0.025      0.975]\n",
      "------------------------------------------------------------------------------\n",
      "const          1.3073      0.088     14.774      0.000       1.107       1.507\n",
      "x1            -0.1997      0.168     -1.187      0.266      -0.580       0.181\n",
      "==============================================================================\n",
      "Omnibus:                       16.954   Durbin-Watson:                   2.487\n",
      "Prob(Omnibus):                  0.000   Jarque-Bera (JB):               10.488\n",
      "Skew:                          -1.914   Prob(JB):                      0.00528\n",
      "Kurtosis:                       5.868   Cond. No.                         21.9\n",
      "==============================================================================\n",
      "\n",
      "Notes:\n",
      "[1] Standard Errors assume that the covariance matrix of the errors is correctly specified.\n"
     ]
    },
    {
     "name": "stderr",
     "output_type": "stream",
     "text": [
      "/Users/monaminishio/opt/anaconda3/lib/python3.8/site-packages/scipy/stats/_stats_py.py:1736: UserWarning: kurtosistest only valid for n>=20 ... continuing anyway, n=11\n",
      "  warnings.warn(\"kurtosistest only valid for n>=20 ... continuing \"\n",
      "/Users/monaminishio/opt/anaconda3/lib/python3.8/site-packages/scipy/stats/_stats_py.py:1736: UserWarning: kurtosistest only valid for n>=20 ... continuing anyway, n=11\n",
      "  warnings.warn(\"kurtosistest only valid for n>=20 ... continuing \"\n",
      "/Users/monaminishio/opt/anaconda3/lib/python3.8/site-packages/scipy/stats/_stats_py.py:1736: UserWarning: kurtosistest only valid for n>=20 ... continuing anyway, n=11\n",
      "  warnings.warn(\"kurtosistest only valid for n>=20 ... continuing \"\n",
      "/Users/monaminishio/opt/anaconda3/lib/python3.8/site-packages/scipy/stats/_stats_py.py:1736: UserWarning: kurtosistest only valid for n>=20 ... continuing anyway, n=11\n",
      "  warnings.warn(\"kurtosistest only valid for n>=20 ... continuing \"\n"
     ]
    }
   ],
   "source": [
    "for marker in ['GAD1', 'GAD2', 'DLX1', 'DLX2']:\n",
    "    X = sm.add_constant(wide_mean[marker].values)\n",
    "    results = sm.OLS([float(x) for x in adult['H'].values], X).fit()\n",
    "    print(results.summary())"
   ]
  },
  {
   "cell_type": "code",
   "execution_count": 48,
   "id": "439ac114",
   "metadata": {
    "scrolled": true
   },
   "outputs": [
    {
     "name": "stdout",
     "output_type": "stream",
     "text": [
      "0.522717242147412\n",
      "                            OLS Regression Results                            \n",
      "==============================================================================\n",
      "Dep. Variable:                      y   R-squared:                       0.523\n",
      "Model:                            OLS   Adj. R-squared:                  0.470\n",
      "Method:                 Least Squares   F-statistic:                     9.857\n",
      "Date:                Fri, 09 Feb 2024   Prob (F-statistic):             0.0119\n",
      "Time:                        14:16:57   Log-Likelihood:                 26.484\n",
      "No. Observations:                  11   AIC:                            -48.97\n",
      "Df Residuals:                       9   BIC:                            -48.17\n",
      "Df Model:                           1                                         \n",
      "Covariance Type:            nonrobust                                         \n",
      "==============================================================================\n",
      "                 coef    std err          t      P>|t|      [0.025      0.975]\n",
      "------------------------------------------------------------------------------\n",
      "const          1.2179      0.009    140.057      0.000       1.198       1.238\n",
      "x1             0.0436      0.014      3.140      0.012       0.012       0.075\n",
      "==============================================================================\n",
      "Omnibus:                        2.193   Durbin-Watson:                   2.923\n",
      "Prob(Omnibus):                  0.334   Jarque-Bera (JB):                0.314\n",
      "Skew:                          -0.285   Prob(JB):                        0.855\n",
      "Kurtosis:                       3.599   Cond. No.                         2.21\n",
      "==============================================================================\n",
      "\n",
      "Notes:\n",
      "[1] Standard Errors assume that the covariance matrix of the errors is correctly specified.\n"
     ]
    },
    {
     "name": "stderr",
     "output_type": "stream",
     "text": [
      "/Users/monaminishio/opt/anaconda3/lib/python3.8/site-packages/scipy/stats/_stats_py.py:1736: UserWarning: kurtosistest only valid for n>=20 ... continuing anyway, n=11\n",
      "  warnings.warn(\"kurtosistest only valid for n>=20 ... continuing \"\n"
     ]
    },
    {
     "name": "stdout",
     "output_type": "stream",
     "text": [
      "0.20652514361977126\n",
      "                            OLS Regression Results                            \n",
      "==============================================================================\n",
      "Dep. Variable:                      y   R-squared:                       0.207\n",
      "Model:                            OLS   Adj. R-squared:                  0.118\n",
      "Method:                 Least Squares   F-statistic:                     2.343\n",
      "Date:                Fri, 09 Feb 2024   Prob (F-statistic):              0.160\n",
      "Time:                        14:16:58   Log-Likelihood:                 26.670\n",
      "No. Observations:                  11   AIC:                            -49.34\n",
      "Df Residuals:                       9   BIC:                            -48.54\n",
      "Df Model:                           1                                         \n",
      "Covariance Type:            nonrobust                                         \n",
      "==============================================================================\n",
      "                 coef    std err          t      P>|t|      [0.025      0.975]\n",
      "------------------------------------------------------------------------------\n",
      "const          1.1010      0.007    152.275      0.000       1.085       1.117\n",
      "x1             0.0163      0.011      1.531      0.160      -0.008       0.040\n",
      "==============================================================================\n",
      "Omnibus:                        0.997   Durbin-Watson:                   2.766\n",
      "Prob(Omnibus):                  0.607   Jarque-Bera (JB):                0.016\n",
      "Skew:                          -0.041   Prob(JB):                        0.992\n",
      "Kurtosis:                       3.171   Cond. No.                         1.52\n",
      "==============================================================================\n",
      "\n",
      "Notes:\n",
      "[1] Standard Errors assume that the covariance matrix of the errors is correctly specified.\n"
     ]
    },
    {
     "name": "stderr",
     "output_type": "stream",
     "text": [
      "/Users/monaminishio/opt/anaconda3/lib/python3.8/site-packages/scipy/stats/_stats_py.py:1736: UserWarning: kurtosistest only valid for n>=20 ... continuing anyway, n=11\n",
      "  warnings.warn(\"kurtosistest only valid for n>=20 ... continuing \"\n"
     ]
    },
    {
     "name": "stdout",
     "output_type": "stream",
     "text": [
      "0.13279290678641953\n",
      "                            OLS Regression Results                            \n",
      "==============================================================================\n",
      "Dep. Variable:                      y   R-squared:                       0.133\n",
      "Model:                            OLS   Adj. R-squared:                  0.036\n",
      "Method:                 Least Squares   F-statistic:                     1.378\n",
      "Date:                Fri, 09 Feb 2024   Prob (F-statistic):              0.271\n",
      "Time:                        14:16:58   Log-Likelihood:                 26.181\n",
      "No. Observations:                  11   AIC:                            -48.36\n",
      "Df Residuals:                       9   BIC:                            -47.57\n",
      "Df Model:                           1                                         \n",
      "Covariance Type:            nonrobust                                         \n",
      "==============================================================================\n",
      "                 coef    std err          t      P>|t|      [0.025      0.975]\n",
      "------------------------------------------------------------------------------\n",
      "const          1.0911      0.010    107.335      0.000       1.068       1.114\n",
      "x1            -0.0341      0.029     -1.174      0.271      -0.100       0.032\n",
      "==============================================================================\n",
      "Omnibus:                        3.908   Durbin-Watson:                   2.739\n",
      "Prob(Omnibus):                  0.142   Jarque-Bera (JB):                0.929\n",
      "Skew:                          -0.212   Prob(JB):                        0.628\n",
      "Kurtosis:                       4.359   Cond. No.                         4.13\n",
      "==============================================================================\n",
      "\n",
      "Notes:\n",
      "[1] Standard Errors assume that the covariance matrix of the errors is correctly specified.\n",
      "0.16303317738931078\n"
     ]
    },
    {
     "name": "stderr",
     "output_type": "stream",
     "text": [
      "/Users/monaminishio/opt/anaconda3/lib/python3.8/site-packages/scipy/stats/_stats_py.py:1736: UserWarning: kurtosistest only valid for n>=20 ... continuing anyway, n=11\n",
      "  warnings.warn(\"kurtosistest only valid for n>=20 ... continuing \"\n",
      "/Users/monaminishio/opt/anaconda3/lib/python3.8/site-packages/scipy/stats/_stats_py.py:1736: UserWarning: kurtosistest only valid for n>=20 ... continuing anyway, n=11\n",
      "  warnings.warn(\"kurtosistest only valid for n>=20 ... continuing \"\n"
     ]
    },
    {
     "name": "stdout",
     "output_type": "stream",
     "text": [
      "                            OLS Regression Results                            \n",
      "==============================================================================\n",
      "Dep. Variable:                      y   R-squared:                       0.163\n",
      "Model:                            OLS   Adj. R-squared:                  0.070\n",
      "Method:                 Least Squares   F-statistic:                     1.753\n",
      "Date:                Fri, 09 Feb 2024   Prob (F-statistic):              0.218\n",
      "Time:                        14:16:58   Log-Likelihood:                 26.376\n",
      "No. Observations:                  11   AIC:                            -48.75\n",
      "Df Residuals:                       9   BIC:                            -47.96\n",
      "Df Model:                           1                                         \n",
      "Covariance Type:            nonrobust                                         \n",
      "==============================================================================\n",
      "                 coef    std err          t      P>|t|      [0.025      0.975]\n",
      "------------------------------------------------------------------------------\n",
      "const          1.0763      0.019     57.341      0.000       1.034       1.119\n",
      "x1             0.0704      0.053      1.324      0.218      -0.050       0.191\n",
      "==============================================================================\n",
      "Omnibus:                        7.526   Durbin-Watson:                   2.591\n",
      "Prob(Omnibus):                  0.023   Jarque-Bera (JB):                3.293\n",
      "Skew:                          -1.236   Prob(JB):                        0.193\n",
      "Kurtosis:                       4.038   Cond. No.                         8.03\n",
      "==============================================================================\n",
      "\n",
      "Notes:\n",
      "[1] Standard Errors assume that the covariance matrix of the errors is correctly specified.\n",
      "0.099539015382059\n",
      "                            OLS Regression Results                            \n",
      "==============================================================================\n",
      "Dep. Variable:                      y   R-squared:                       0.100\n",
      "Model:                            OLS   Adj. R-squared:                 -0.001\n",
      "Method:                 Least Squares   F-statistic:                    0.9949\n",
      "Date:                Fri, 09 Feb 2024   Prob (F-statistic):              0.345\n",
      "Time:                        14:16:58   Log-Likelihood:                 25.974\n",
      "No. Observations:                  11   AIC:                            -47.95\n",
      "Df Residuals:                       9   BIC:                            -47.15\n",
      "Df Model:                           1                                         \n",
      "Covariance Type:            nonrobust                                         \n",
      "==============================================================================\n",
      "                 coef    std err          t      P>|t|      [0.025      0.975]\n",
      "------------------------------------------------------------------------------\n",
      "const          1.0807      0.020     53.941      0.000       1.035       1.126\n",
      "x1             0.0435      0.044      0.997      0.345      -0.055       0.142\n",
      "==============================================================================\n",
      "Omnibus:                        9.928   Durbin-Watson:                   2.718\n",
      "Prob(Omnibus):                  0.007   Jarque-Bera (JB):                4.703\n",
      "Skew:                          -1.396   Prob(JB):                       0.0952\n",
      "Kurtosis:                       4.571   Cond. No.                         6.80\n",
      "==============================================================================\n",
      "\n",
      "Notes:\n",
      "[1] Standard Errors assume that the covariance matrix of the errors is correctly specified.\n"
     ]
    },
    {
     "name": "stderr",
     "output_type": "stream",
     "text": [
      "/Users/monaminishio/opt/anaconda3/lib/python3.8/site-packages/scipy/stats/_stats_py.py:1736: UserWarning: kurtosistest only valid for n>=20 ... continuing anyway, n=11\n",
      "  warnings.warn(\"kurtosistest only valid for n>=20 ... continuing \"\n",
      "/Users/monaminishio/opt/anaconda3/lib/python3.8/site-packages/scipy/stats/_stats_py.py:1736: UserWarning: kurtosistest only valid for n>=20 ... continuing anyway, n=11\n",
      "  warnings.warn(\"kurtosistest only valid for n>=20 ... continuing \"\n"
     ]
    },
    {
     "name": "stdout",
     "output_type": "stream",
     "text": [
      "0.0005022584429266175\n",
      "                            OLS Regression Results                            \n",
      "==============================================================================\n",
      "Dep. Variable:                      y   R-squared:                       0.001\n",
      "Model:                            OLS   Adj. R-squared:                 -0.111\n",
      "Method:                 Least Squares   F-statistic:                  0.004523\n",
      "Date:                Fri, 09 Feb 2024   Prob (F-statistic):              0.948\n",
      "Time:                        14:16:59   Log-Likelihood:                 25.400\n",
      "No. Observations:                  11   AIC:                            -46.80\n",
      "Df Residuals:                       9   BIC:                            -46.00\n",
      "Df Model:                           1                                         \n",
      "Covariance Type:            nonrobust                                         \n",
      "==============================================================================\n",
      "                 coef    std err          t      P>|t|      [0.025      0.975]\n",
      "------------------------------------------------------------------------------\n",
      "const          1.0992      0.008    136.771      0.000       1.081       1.117\n",
      "x1            -0.0035      0.052     -0.067      0.948      -0.122       0.115\n",
      "==============================================================================\n",
      "Omnibus:                        7.934   Durbin-Watson:                   3.033\n",
      "Prob(Omnibus):                  0.019   Jarque-Bera (JB):                3.310\n",
      "Skew:                          -1.068   Prob(JB):                        0.191\n",
      "Kurtosis:                       4.630   Cond. No.                         6.54\n",
      "==============================================================================\n",
      "\n",
      "Notes:\n",
      "[1] Standard Errors assume that the covariance matrix of the errors is correctly specified.\n",
      "0.05788780692985063\n",
      "                            OLS Regression Results                            \n",
      "==============================================================================\n",
      "Dep. Variable:                      y   R-squared:                       0.058\n",
      "Model:                            OLS   Adj. R-squared:                 -0.047\n",
      "Method:                 Least Squares   F-statistic:                    0.5530\n",
      "Date:                Fri, 09 Feb 2024   Prob (F-statistic):              0.476\n",
      "Time:                        14:16:59   Log-Likelihood:                 25.725\n",
      "No. Observations:                  11   AIC:                            -47.45\n",
      "Df Residuals:                       9   BIC:                            -46.65\n",
      "Df Model:                           1                                         \n",
      "Covariance Type:            nonrobust                                         \n",
      "==============================================================================\n",
      "                 coef    std err          t      P>|t|      [0.025      0.975]\n",
      "------------------------------------------------------------------------------\n",
      "const          1.0986      0.008    140.407      0.000       1.081       1.116\n",
      "x1            -0.0178      0.024     -0.744      0.476      -0.072       0.036\n",
      "==============================================================================\n",
      "Omnibus:                        7.776   Durbin-Watson:                   2.980\n",
      "Prob(Omnibus):                  0.020   Jarque-Bera (JB):                3.220\n",
      "Skew:                          -1.076   Prob(JB):                        0.200\n",
      "Kurtosis:                       4.547   Cond. No.                         3.08\n",
      "==============================================================================\n",
      "\n",
      "Notes:\n",
      "[1] Standard Errors assume that the covariance matrix of the errors is correctly specified.\n"
     ]
    },
    {
     "name": "stderr",
     "output_type": "stream",
     "text": [
      "/Users/monaminishio/opt/anaconda3/lib/python3.8/site-packages/scipy/stats/_stats_py.py:1736: UserWarning: kurtosistest only valid for n>=20 ... continuing anyway, n=11\n",
      "  warnings.warn(\"kurtosistest only valid for n>=20 ... continuing \"\n"
     ]
    },
    {
     "name": "stdout",
     "output_type": "stream",
     "text": [
      "0.40463764711243555\n",
      "                            OLS Regression Results                            \n",
      "==============================================================================\n",
      "Dep. Variable:                      y   R-squared:                       0.405\n",
      "Model:                            OLS   Adj. R-squared:                  0.338\n",
      "Method:                 Least Squares   F-statistic:                     6.117\n",
      "Date:                Fri, 09 Feb 2024   Prob (F-statistic):             0.0354\n",
      "Time:                        14:16:59   Log-Likelihood:                 28.249\n",
      "No. Observations:                  11   AIC:                            -52.50\n",
      "Df Residuals:                       9   BIC:                            -51.70\n",
      "Df Model:                           1                                         \n",
      "Covariance Type:            nonrobust                                         \n",
      "==============================================================================\n",
      "                 coef    std err          t      P>|t|      [0.025      0.975]\n",
      "------------------------------------------------------------------------------\n",
      "const          1.0858      0.008    131.878      0.000       1.067       1.104\n",
      "x1             0.0462      0.019      2.473      0.035       0.004       0.088\n",
      "==============================================================================\n",
      "Omnibus:                        0.115   Durbin-Watson:                   3.017\n",
      "Prob(Omnibus):                  0.944   Jarque-Bera (JB):                0.080\n",
      "Skew:                           0.040   Prob(JB):                        0.961\n",
      "Kurtosis:                       2.591   Cond. No.                         3.30\n",
      "==============================================================================\n",
      "\n",
      "Notes:\n",
      "[1] Standard Errors assume that the covariance matrix of the errors is correctly specified.\n",
      "0.17752563503125263\n",
      "                            OLS Regression Results                            \n",
      "==============================================================================\n",
      "Dep. Variable:                      y   R-squared:                       0.178\n",
      "Model:                            OLS   Adj. R-squared:                  0.086\n",
      "Method:                 Least Squares   F-statistic:                     1.943\n",
      "Date:                Fri, 09 Feb 2024   Prob (F-statistic):              0.197\n",
      "Time:                        14:16:59   Log-Likelihood:                 26.472\n",
      "No. Observations:                  11   AIC:                            -48.94\n",
      "Df Residuals:                       9   BIC:                            -48.15\n",
      "Df Model:                           1                                         \n",
      "Covariance Type:            nonrobust                                         \n",
      "==============================================================================\n",
      "                 coef    std err          t      P>|t|      [0.025      0.975]\n",
      "------------------------------------------------------------------------------\n",
      "const          1.0973      0.007    148.427      0.000       1.081       1.114\n",
      "x1             0.0196      0.014      1.394      0.197      -0.012       0.051\n",
      "==============================================================================\n",
      "Omnibus:                        2.414   Durbin-Watson:                   2.874\n",
      "Prob(Omnibus):                  0.299   Jarque-Bera (JB):                0.434\n",
      "Skew:                          -0.383   Prob(JB):                        0.805\n",
      "Kurtosis:                       3.602   Cond. No.                         1.96\n",
      "==============================================================================\n",
      "\n",
      "Notes:\n",
      "[1] Standard Errors assume that the covariance matrix of the errors is correctly specified.\n"
     ]
    },
    {
     "name": "stderr",
     "output_type": "stream",
     "text": [
      "/Users/monaminishio/opt/anaconda3/lib/python3.8/site-packages/scipy/stats/_stats_py.py:1736: UserWarning: kurtosistest only valid for n>=20 ... continuing anyway, n=11\n",
      "  warnings.warn(\"kurtosistest only valid for n>=20 ... continuing \"\n",
      "/Users/monaminishio/opt/anaconda3/lib/python3.8/site-packages/scipy/stats/_stats_py.py:1736: UserWarning: kurtosistest only valid for n>=20 ... continuing anyway, n=11\n",
      "  warnings.warn(\"kurtosistest only valid for n>=20 ... continuing \"\n"
     ]
    },
    {
     "name": "stdout",
     "output_type": "stream",
     "text": [
      "0.0004088568907480994\n",
      "                            OLS Regression Results                            \n",
      "==============================================================================\n",
      "Dep. Variable:                      y   R-squared:                       0.000\n",
      "Model:                            OLS   Adj. R-squared:                 -0.111\n",
      "Method:                 Least Squares   F-statistic:                  0.003681\n",
      "Date:                Fri, 09 Feb 2024   Prob (F-statistic):              0.953\n",
      "Time:                        14:16:59   Log-Likelihood:                 25.400\n",
      "No. Observations:                  11   AIC:                            -46.80\n",
      "Df Residuals:                       9   BIC:                            -46.00\n",
      "Df Model:                           1                                         \n",
      "Covariance Type:            nonrobust                                         \n",
      "==============================================================================\n",
      "                 coef    std err          t      P>|t|      [0.025      0.975]\n",
      "------------------------------------------------------------------------------\n",
      "const          1.0995      0.009    119.112      0.000       1.079       1.120\n",
      "x1            -0.0014      0.023     -0.061      0.953      -0.055       0.052\n",
      "==============================================================================\n",
      "Omnibus:                        8.077   Durbin-Watson:                   3.028\n",
      "Prob(Omnibus):                  0.018   Jarque-Bera (JB):                3.402\n",
      "Skew:                          -1.084   Prob(JB):                        0.182\n",
      "Kurtosis:                       4.649   Cond. No.                         3.05\n",
      "==============================================================================\n",
      "\n",
      "Notes:\n",
      "[1] Standard Errors assume that the covariance matrix of the errors is correctly specified.\n",
      "0.07361233734511408\n",
      "                            OLS Regression Results                            \n",
      "==============================================================================\n",
      "Dep. Variable:                      y   R-squared:                       0.074\n",
      "Model:                            OLS   Adj. R-squared:                 -0.029\n",
      "Method:                 Least Squares   F-statistic:                    0.7152\n",
      "Date:                Fri, 09 Feb 2024   Prob (F-statistic):              0.420\n",
      "Time:                        14:17:00   Log-Likelihood:                 25.818\n",
      "No. Observations:                  11   AIC:                            -47.64\n",
      "Df Residuals:                       9   BIC:                            -46.84\n",
      "Df Model:                           1                                         \n",
      "Covariance Type:            nonrobust                                         \n",
      "==============================================================================\n",
      "                 coef    std err          t      P>|t|      [0.025      0.975]\n",
      "------------------------------------------------------------------------------\n",
      "const          1.0920      0.011     95.069      0.000       1.066       1.118\n",
      "x1            -0.0577      0.068     -0.846      0.420      -0.212       0.097\n",
      "==============================================================================\n",
      "Omnibus:                        3.267   Durbin-Watson:                   3.010\n",
      "Prob(Omnibus):                  0.195   Jarque-Bera (JB):                1.104\n",
      "Skew:                          -0.751   Prob(JB):                        0.576\n",
      "Kurtosis:                       3.390   Cond. No.                         8.98\n",
      "==============================================================================\n",
      "\n",
      "Notes:\n",
      "[1] Standard Errors assume that the covariance matrix of the errors is correctly specified.\n"
     ]
    },
    {
     "name": "stderr",
     "output_type": "stream",
     "text": [
      "/Users/monaminishio/opt/anaconda3/lib/python3.8/site-packages/scipy/stats/_stats_py.py:1736: UserWarning: kurtosistest only valid for n>=20 ... continuing anyway, n=11\n",
      "  warnings.warn(\"kurtosistest only valid for n>=20 ... continuing \"\n",
      "/Users/monaminishio/opt/anaconda3/lib/python3.8/site-packages/scipy/stats/_stats_py.py:1736: UserWarning: kurtosistest only valid for n>=20 ... continuing anyway, n=11\n",
      "  warnings.warn(\"kurtosistest only valid for n>=20 ... continuing \"\n"
     ]
    },
    {
     "name": "stdout",
     "output_type": "stream",
     "text": [
      "0.14751435665197676\n",
      "                            OLS Regression Results                            \n",
      "==============================================================================\n",
      "Dep. Variable:                      y   R-squared:                       0.148\n",
      "Model:                            OLS   Adj. R-squared:                  0.053\n",
      "Method:                 Least Squares   F-statistic:                     1.557\n",
      "Date:                Fri, 09 Feb 2024   Prob (F-statistic):              0.244\n",
      "Time:                        14:17:00   Log-Likelihood:                 26.275\n",
      "No. Observations:                  11   AIC:                            -48.55\n",
      "Df Residuals:                       9   BIC:                            -47.75\n",
      "Df Model:                           1                                         \n",
      "Covariance Type:            nonrobust                                         \n",
      "==============================================================================\n",
      "                 coef    std err          t      P>|t|      [0.025      0.975]\n",
      "------------------------------------------------------------------------------\n",
      "const          1.0798      0.017     62.638      0.000       1.041       1.119\n",
      "x1            -0.1014      0.081     -1.248      0.244      -0.285       0.082\n",
      "==============================================================================\n",
      "Omnibus:                        5.487   Durbin-Watson:                   2.872\n",
      "Prob(Omnibus):                  0.064   Jarque-Bera (JB):                2.001\n",
      "Skew:                          -0.927   Prob(JB):                        0.368\n",
      "Kurtosis:                       3.965   Cond. No.                         11.4\n",
      "==============================================================================\n",
      "\n",
      "Notes:\n",
      "[1] Standard Errors assume that the covariance matrix of the errors is correctly specified.\n",
      "0.0007257576722021764\n",
      "                            OLS Regression Results                            \n",
      "==============================================================================\n",
      "Dep. Variable:                      y   R-squared:                       0.001\n",
      "Model:                            OLS   Adj. R-squared:                 -0.110\n",
      "Method:                 Least Squares   F-statistic:                  0.006537\n",
      "Date:                Fri, 09 Feb 2024   Prob (F-statistic):              0.937\n",
      "Time:                        14:17:00   Log-Likelihood:                 25.401\n",
      "No. Observations:                  11   AIC:                            -46.80\n",
      "Df Residuals:                       9   BIC:                            -46.01\n",
      "Df Model:                           1                                         \n",
      "Covariance Type:            nonrobust                                         \n",
      "==============================================================================\n",
      "                 coef    std err          t      P>|t|      [0.025      0.975]\n",
      "------------------------------------------------------------------------------\n",
      "const          1.0989      0.009    125.169      0.000       1.079       1.119\n",
      "x1             0.0036      0.044      0.081      0.937      -0.096       0.103\n",
      "==============================================================================\n",
      "Omnibus:                        8.033   Durbin-Watson:                   3.035\n",
      "Prob(Omnibus):                  0.018   Jarque-Bera (JB):                3.377\n",
      "Skew:                          -1.090   Prob(JB):                        0.185\n",
      "Kurtosis:                       4.617   Cond. No.                         5.54\n",
      "==============================================================================\n",
      "\n",
      "Notes:\n",
      "[1] Standard Errors assume that the covariance matrix of the errors is correctly specified.\n"
     ]
    },
    {
     "name": "stderr",
     "output_type": "stream",
     "text": [
      "/Users/monaminishio/opt/anaconda3/lib/python3.8/site-packages/scipy/stats/_stats_py.py:1736: UserWarning: kurtosistest only valid for n>=20 ... continuing anyway, n=11\n",
      "  warnings.warn(\"kurtosistest only valid for n>=20 ... continuing \"\n",
      "/Users/monaminishio/opt/anaconda3/lib/python3.8/site-packages/scipy/stats/_stats_py.py:1736: UserWarning: kurtosistest only valid for n>=20 ... continuing anyway, n=11\n",
      "  warnings.warn(\"kurtosistest only valid for n>=20 ... continuing \"\n"
     ]
    },
    {
     "name": "stdout",
     "output_type": "stream",
     "text": [
      "0.012822081145803965\n",
      "                            OLS Regression Results                            \n",
      "==============================================================================\n",
      "Dep. Variable:                      y   R-squared:                       0.013\n",
      "Model:                            OLS   Adj. R-squared:                 -0.097\n",
      "Method:                 Least Squares   F-statistic:                    0.1169\n",
      "Date:                Fri, 09 Feb 2024   Prob (F-statistic):              0.740\n",
      "Time:                        14:17:00   Log-Likelihood:                 25.468\n",
      "No. Observations:                  11   AIC:                            -46.94\n",
      "Df Residuals:                       9   BIC:                            -46.14\n",
      "Df Model:                           1                                         \n",
      "Covariance Type:            nonrobust                                         \n",
      "==============================================================================\n",
      "                 coef    std err          t      P>|t|      [0.025      0.975]\n",
      "------------------------------------------------------------------------------\n",
      "const          1.0998      0.008    135.191      0.000       1.081       1.118\n",
      "x1            -0.0096      0.028     -0.342      0.740      -0.073       0.054\n",
      "==============================================================================\n",
      "Omnibus:                        9.711   Durbin-Watson:                   2.991\n",
      "Prob(Omnibus):                  0.008   Jarque-Bera (JB):                4.512\n",
      "Skew:                          -1.198   Prob(JB):                        0.105\n",
      "Kurtosis:                       5.026   Cond. No.                         3.54\n",
      "==============================================================================\n",
      "\n",
      "Notes:\n",
      "[1] Standard Errors assume that the covariance matrix of the errors is correctly specified.\n"
     ]
    },
    {
     "name": "stderr",
     "output_type": "stream",
     "text": [
      "/Users/monaminishio/opt/anaconda3/lib/python3.8/site-packages/scipy/stats/_stats_py.py:1736: UserWarning: kurtosistest only valid for n>=20 ... continuing anyway, n=11\n",
      "  warnings.warn(\"kurtosistest only valid for n>=20 ... continuing \"\n"
     ]
    },
    {
     "data": {
      "image/png": "[encoded data removed]",
      "text/plain": [
       "<Figure size 432x288 with 1 Axes>"
      ]
     },
     "metadata": {
      "needs_background": "light"
     },
     "output_type": "display_data"
    },
    {
     "data": {
      "image/png": "[encoded data removed]",
      "text/plain": [
       "<Figure size 432x288 with 1 Axes>"
      ]
     },
     "metadata": {
      "needs_background": "light"
     },
     "output_type": "display_data"
    },
    {
     "data": {
      "image/png": "[encoded data removed]",
      "text/plain": [
       "<Figure size 432x288 with 1 Axes>"
      ]
     },
     "metadata": {
      "needs_background": "light"
     },
     "output_type": "display_data"
    },
    {
     "data": {
      "image/png": "[encoded data removed]",
      "text/plain": [
       "<Figure size 432x288 with 1 Axes>"
      ]
     },
     "metadata": {
      "needs_background": "light"
     },
     "output_type": "display_data"
    },
    {
     "data": {
      "image/png": "[encoded data removed]",
      "text/plain": [
       "<Figure size 432x288 with 1 Axes>"
      ]
     },
     "metadata": {
      "needs_background": "light"
     },
     "output_type": "display_data"
    },
    {
     "data": {
      "image/png": "[encoded data removed]",
      "text/plain": [
       "<Figure size 432x288 with 1 Axes>"
      ]
     },
     "metadata": {
      "needs_background": "light"
     },
     "output_type": "display_data"
    },
    {
     "data": {
      "image/png": "[encoded data removed]",
      "text/plain": [
       "<Figure size 432x288 with 1 Axes>"
      ]
     },
     "metadata": {
      "needs_background": "light"
     },
     "output_type": "display_data"
    },
    {
     "data": {
      "image/png": "[encoded data removed]",
      "text/plain": [
       "<Figure size 432x288 with 1 Axes>"
      ]
     },
     "metadata": {
      "needs_background": "light"
     },
     "output_type": "display_data"
    },
    {
     "data": {
      "image/png": "[encoded data removed]",
      "text/plain": [
       "<Figure size 432x288 with 1 Axes>"
      ]
     },
     "metadata": {
      "needs_background": "light"
     },
     "output_type": "display_data"
    },
    {
     "data": {
      "image/png": "[encoded data removed]",
      "text/plain": [
       "<Figure size 432x288 with 1 Axes>"
      ]
     },
     "metadata": {
      "needs_background": "light"
     },
     "output_type": "display_data"
    },
    {
     "data": {
      "image/png": "[encoded data removed]",
      "text/plain": [
       "<Figure size 432x288 with 1 Axes>"
      ]
     },
     "metadata": {
      "needs_background": "light"
     },
     "output_type": "display_data"
    },
    {
     "data": {
      "image/png": "[encoded data removed]",
      "text/plain": [
       "<Figure size 432x288 with 1 Axes>"
      ]
     },
     "metadata": {
      "needs_background": "light"
     },
     "output_type": "display_data"
    },
    {
     "data": {
      "image/png": "[encoded data removed]",
      "text/plain": [
       "<Figure size 432x288 with 1 Axes>"
      ]
     },
     "metadata": {
      "needs_background": "light"
     },
     "output_type": "display_data"
    },
    {
     "data": {
      "image/png": "[encoded data removed]",
      "text/plain": [
       "<Figure size 432x288 with 1 Axes>"
      ]
     },
     "metadata": {
      "needs_background": "light"
     },
     "output_type": "display_data"
    }
   ],
   "source": [
    "# z-scoring\n",
    "wide = gene_columns.loc[[x for x in gene_columns.index if gene_columns.loc[x,'age'] in adults+cbpd_wide], :]\n",
    "for x in ['PVALB', 'SST', 'GAD1', 'GAD2', 'DLX1', 'DLX2']:\n",
    "    wide[x] = stats.zscore(wide[x])\n",
    "wide = wide[wide.sa>-1].sort_values('sa')\n",
    "wide = wide.groupby(['sa', 'donor_name']).mean().reset_index()\n",
    "for x in ['PVALB', 'SST', 'GAD1', 'GAD2', 'DLX1', 'DLX2']:\n",
    "    wide[x] = stats.zscore(wide[x])\n",
    "wide = pd.merge(wide, gene_columns.loc[:, ['donor_id', 'age']], on='donor_id')\n",
    "\n",
    "age = adults\n",
    "figure = plt.figure()\n",
    "wide_age = wide.loc[[x for x in wide.index if wide.loc[x,'age'] in age], :]\n",
    "wide_mean = wide_age.groupby(['sa']).mean().reset_index()\n",
    "wide_std = wide_age.groupby(['sa']).sem().reset_index()\n",
    "for i in np.arange(11):\n",
    "    plt.scatter(wide_mean['PVALB'].values[i]+wide_mean['SST'].values[i], adult['H'].values[i])\n",
    "df_x = pd.DataFrame(wide_mean['PVALB'].values+wide_mean['SST'].values)\n",
    "df_y = pd.DataFrame(adult['H'].values)\n",
    "mod = LinearRegression()\n",
    "mod_lin = mod.fit(df_x, df_y)\n",
    "y_lin_fit = mod_lin.predict(df_x)\n",
    "r2_lin = mod.score(df_x, df_y)\n",
    "plt.plot(df_x, y_lin_fit, color = '#000000', linewidth=2)\n",
    "print(r2_lin)\n",
    "X = sm.add_constant(wide_mean['PVALB'].values+wide_mean['SST'].values)\n",
    "results = sm.OLS([float(x) for x in adult['H'].values], X).fit()\n",
    "print(results.summary())\n",
    "plt.ylim([1.0,1.25])\n",
    "plt.xlim([-1.4,0.9])\n",
    "plt.savefig('Fig2_adultPV+SST_zscored.eps',  format='eps', bbox_inches='tight')\n",
    "for marker in ['PVALB', 'SST', 'GAD1', 'GAD2', 'DLX1', 'DLX2']:\n",
    "    figure = plt.figure()\n",
    "    for i in np.arange(11):\n",
    "        plt.scatter(wide_mean[marker].values[i], child['H'].values[i])\n",
    "    df_x = pd.DataFrame(wide_mean[marker].values)\n",
    "    df_y = pd.DataFrame(child['H'].values)\n",
    "    mod = LinearRegression()\n",
    "    mod_lin = mod.fit(df_x, df_y)\n",
    "    y_lin_fit = mod_lin.predict(df_x)\n",
    "    r2_lin = mod.score(df_x, df_y)\n",
    "    plt.plot(df_x, y_lin_fit, color = '#000000', linewidth=2)\n",
    "    print(r2_lin)\n",
    "    X = sm.add_constant(wide_mean[marker].values)\n",
    "    results = sm.OLS([float(x) for x in child['H'].values], X).fit()\n",
    "    print(results.summary())\n",
    "    plt.ylim([1,1.25])\n",
    "    plt.xlim([-1.4,1.0])\n",
    "    plt.savefig('Fig2_adult'+marker+'_zscored.eps',  format='eps', bbox_inches='tight')\n",
    "    \n",
    "age = cbpd_wide\n",
    "figure = plt.figure()\n",
    "wide_age = wide.loc[[x for x in wide.index if wide.loc[x,'age'] in age], :]\n",
    "wide_mean = wide_age.groupby(['sa']).mean().reset_index()\n",
    "wide_std = wide_age.groupby(['sa']).sem().reset_index()\n",
    "for i in np.arange(11):\n",
    "    plt.scatter(wide_mean['PVALB'].values[i]+wide_mean['SST'].values[i], child['H'].values[i])\n",
    "df_x = pd.DataFrame(wide_mean['PVALB'].values+wide_mean['SST'].values)\n",
    "df_y = pd.DataFrame(child['H'].values)\n",
    "mod = LinearRegression()\n",
    "mod_lin = mod.fit(df_x, df_y)\n",
    "y_lin_fit = mod_lin.predict(df_x)\n",
    "r2_lin = mod.score(df_x, df_y)\n",
    "plt.plot(df_x, y_lin_fit, color = '#000000', linewidth=2)\n",
    "print(r2_lin)\n",
    "X = sm.add_constant(wide_mean['PVALB'].values+wide_mean['SST'].values)\n",
    "results = sm.OLS([float(x) for x in child['H'].values], X).fit()\n",
    "print(results.summary())\n",
    "plt.ylim([1,1.25])\n",
    "plt.xlim([-1.4,0.9])\n",
    "plt.savefig('Fig2_childPV+SST_zscored.eps',  format='eps', bbox_inches='tight')\n",
    "for marker in ['PVALB', 'SST', 'GAD1', 'GAD2', 'DLX1', 'DLX2']:\n",
    "    figure = plt.figure()\n",
    "    for i in np.arange(11):\n",
    "        plt.scatter(wide_mean[marker].values[i], child['H'].values[i])\n",
    "    df_x = pd.DataFrame(wide_mean[marker].values)\n",
    "    df_y = pd.DataFrame(child['H'].values)\n",
    "    mod = LinearRegression()\n",
    "    mod_lin = mod.fit(df_x, df_y)\n",
    "    y_lin_fit = mod_lin.predict(df_x)\n",
    "    r2_lin = mod.score(df_x, df_y)\n",
    "    plt.plot(df_x, y_lin_fit, color = '#000000', linewidth=2)\n",
    "    print(r2_lin)\n",
    "    X = sm.add_constant(wide_mean[marker].values)\n",
    "    results = sm.OLS([float(x) for x in child['H'].values], X).fit()\n",
    "    print(results.summary())\n",
    "    plt.ylim([1,1.25])\n",
    "    plt.xlim([-1.4,1.0])\n",
    "    plt.savefig('Fig2_child'+marker+'_zscored.eps',  format='eps', bbox_inches='tight')"
   ]
  },
  {
   "cell_type": "code",
   "execution_count": null,
   "id": "7ae6b2bb",
   "metadata": {},
   "outputs": [],
   "source": []
  }
 ],
 "metadata": {
  "kernelspec": {
   "display_name": "Python 3",
   "language": "python",
   "name": "python3"
  },
  "language_info": {
   "codemirror_mode": {
    "name": "ipython",
    "version": 3
   },
   "file_extension": ".py",
   "mimetype": "text/x-python",
   "name": "python",
   "nbconvert_exporter": "python",
   "pygments_lexer": "ipython3",
   "version": "3.8.8"
  }
 },
 "nbformat": 4,
 "nbformat_minor": 5
}
