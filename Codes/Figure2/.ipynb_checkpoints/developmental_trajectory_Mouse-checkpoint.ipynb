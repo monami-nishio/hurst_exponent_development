{
 "cells": [
  {
   "cell_type": "code",
   "execution_count": 1,
   "id": "92e368c0",
   "metadata": {},
   "outputs": [],
   "source": [
    "import pandas as pd\n",
    "import numpy as np\n",
    "import matplotlib.pyplot as plt\n",
    "from sklearn.preprocessing import PolynomialFeatures\n",
    "from sklearn.linear_model import LinearRegression\n",
    "from sklearn.pipeline import Pipeline\n",
    "from natsort import natsorted\n",
    "from nilearn.maskers import NiftiMasker, NiftiLabelsMasker\n",
    "from nilearn.image import load_img\n",
    "from nilearn.surface import vol_to_surf, load_surf_mesh\n",
    "from nilearn.connectome import ConnectivityMeasure\n",
    "from nilearn import plotting\n",
    "import seaborn as sns\n",
    "from nilearn import datasets, image\n",
    "import matplotlib.cm as cm\n",
    "from pygam import LinearGAM, s, f\n",
    "import nibabel as nib\n",
    "from scipy import stats\n",
    "import statsmodels.api as sm\n",
    "from enigmatoolbox.permutation_testing import spin_test, shuf_test"
   ]
  },
  {
   "cell_type": "code",
   "execution_count": 2,
   "id": "cd8ae724",
   "metadata": {},
   "outputs": [],
   "source": [
    "regions = [\n",
    "'SSp-n',\n",
    "'VISp',\n",
    "'Audp',\n",
    "'SSp-m',\n",
    "'SSp-bfd',\n",
    "'SSp-ul',\n",
    "'SSp-ll',\n",
    "'SSs',\n",
    "'TEa',\n",
    "'ECT',\n",
    "'PERI',\n",
    "'AI',\n",
    "'MOp',\n",
    "'RSP',\n",
    "'MOs',\n",
    "'ACA',\n",
    "'PL'] #'PTLp',"
   ]
  },
  {
   "cell_type": "code",
   "execution_count": 4,
   "id": "61b7e1c3",
   "metadata": {},
   "outputs": [],
   "source": [
    "hurst = pd.read_csv('../../Derivatives/mouse/H_structural.csv')\n",
    "age = pd.read_csv('../../Dataset/mouse/participants.tsv', sep = '\\t')\n",
    "atlas = pd.read_csv('../../Dataset/mouse/atlas/atlas.tsv', sep = '\\t')"
   ]
  },
  {
   "cell_type": "code",
   "execution_count": 5,
   "id": "8db36fcc",
   "metadata": {},
   "outputs": [],
   "source": [
    "SSp_n = [x for x in atlas.name.values if 'Primary somatosensory area, nose' in x]\n",
    "VISp = [x for x in atlas.name.values if 'Primary visual area' in x]\n",
    "Audp =  [x for x in atlas.name.values if 'Primary auditory area' in x]\n",
    "SSp_m = [x for x in atlas.name.values if 'Primary somatosensory area, mouth' in x]\n",
    "SSp_bfd = [x for x in atlas.name.values if 'Primary somatosensory area, barrel field' in x]\n",
    "SSp_ul = [x for x in atlas.name.values if 'Primary somatosensory area, upper limb' in x]\n",
    "SSp_ll = [x for x in atlas.name.values if 'Primary somatosensory area, lower limb' in x]\n",
    "SSs = [x for x in atlas.name.values if 'Supplemental somatosensory area' in x]\n",
    "TEa = [x for x in atlas.name.values if 'Temporal association areas' in x]\n",
    "ECT  = [x for x in atlas.name.values if 'Ectorhinal area' in x]\n",
    "PERI = [x for x in atlas.name.values if 'Perirhinal area' in x]\n",
    "AI = [x for x in atlas.name.values if 'Agranular insular area' in x]\n",
    "MOp = [x for x in atlas.name.values if 'Primary motor area' in x]\n",
    "RSP = [x for x in atlas.name.values if 'Retrosplenial area' in x]\n",
    "#PTLp = [x for x in atlas.name.values if 'Posterior parietal association areas' in x]\n",
    "MOs = [x for x in atlas.name.values if 'Secondary motor area' in x]\n",
    "ACA = [x for x in atlas.name.values if 'Anterior cingulate area' in x]\n",
    "PL = [x for x in atlas.name.values if 'Prelimbic area' in x]\n",
    "#FRP = [x for x in atlas.name.values if 'Frontal pole, cerebral cortex' in x]"
   ]
  },
  {
   "cell_type": "code",
   "execution_count": 6,
   "id": "37c362ed",
   "metadata": {},
   "outputs": [],
   "source": [
    "sa = []\n",
    "for x in atlas['name'].values:\n",
    "    if x in SSp_n:\n",
    "        sa.append(0)\n",
    "    elif x in VISp:\n",
    "        sa.append(1)\n",
    "    elif x in Audp:\n",
    "        sa.append(2)\n",
    "    elif x in SSp_m:\n",
    "        sa.append(3)\n",
    "    elif x in SSp_bfd:\n",
    "        sa.append(4)\n",
    "    elif x in SSp_ul:\n",
    "        sa.append(5)\n",
    "    elif x in SSp_ll:\n",
    "        sa.append(6)\n",
    "    elif x in SSs:\n",
    "        sa.append(7)\n",
    "    elif x in TEa:\n",
    "        sa.append(8)\n",
    "    elif x in ECT:\n",
    "        sa.append(9)\n",
    "    elif x in PERI:\n",
    "        sa.append(10)\n",
    "    elif x in AI:\n",
    "        sa.append(11)\n",
    "    elif x in MOp:\n",
    "        sa.append(12)\n",
    "    elif x in RSP:\n",
    "        sa.append(13)\n",
    "    #elif x in PTLp:\n",
    "    #    sa.append(14)\n",
    "    elif x in MOs:\n",
    "        sa.append(14)\n",
    "    elif x in ACA:\n",
    "        sa.append(15)\n",
    "    elif x in PL:\n",
    "        sa.append(16)\n",
    "    #elif x in FRP:\n",
    "    #    sa.append(17)\n",
    "    else:\n",
    "        sa.append(-1)"
   ]
  },
  {
   "cell_type": "code",
   "execution_count": 7,
   "id": "66bc16be",
   "metadata": {},
   "outputs": [],
   "source": [
    "H = hurst.T.iloc[:604, :]\n",
    "H['sa'] = sa\n",
    "hurst = pd.concat([H.iloc[:, :-1].T, age], axis=1)\n",
    "H = H[H.sa>-1]"
   ]
  },
  {
   "cell_type": "code",
   "execution_count": 9,
   "id": "1a65356a",
   "metadata": {
    "scrolled": true
   },
   "outputs": [
    {
     "name": "stdout",
     "output_type": "stream",
     "text": [
      "['SSp-n', (1, 29)]\n",
      "['VISp', (1, 29)]\n",
      "['AUDp', (1, 29)]\n",
      "['SSp-m', (1, 29)]\n",
      "['SSp-bfd', (1, 29)]\n",
      "['SSp-ul', (1, 29)]\n",
      "['SSp-ll', (1, 29)]\n",
      "['SSs', (1, 29)]\n",
      "['TEa', (1, 29)]\n",
      "['ECT', (1, 29)]\n",
      "['PERI', (1, 29)]\n",
      "['AI', (1, 29)]\n",
      "['MOp', (1, 29)]\n",
      "['RSP', (1, 29)]\n",
      "['MOs', (1, 29)]\n",
      "['ACA', (1, 29)]\n",
      "['PL', (1, 29)]\n"
     ]
    }
   ],
   "source": [
    "mmc3 = pd.read_csv('../../Dataset/mouse/celldensity/mmc3.csv', header=1)\n",
    "mmc3 = mmc3[mmc3[' mean ']!=' N/D ']\n",
    "mmc3 = mmc3[mmc3[' mean .2']!=' N/D ']\n",
    "mmc3 = mmc3[mmc3[' mean .4']!=' N/D ']\n",
    "mmc3 = mmc3[mmc3[' mean ']!=' - ']\n",
    "mmc3 = mmc3[mmc3[' mean .2']!=' - ']\n",
    "mmc3 = mmc3[mmc3[' mean .4']!=' - ']\n",
    "mmc3 = mmc3[mmc3[' SD ']!=' N/D ']\n",
    "mmc3 = mmc3[mmc3[' SD .2']!=' N/D ']\n",
    "mmc3 = mmc3[mmc3[' SD .4']!=' N/D ']\n",
    "mmc3 = mmc3[mmc3[' SD ']!=' - ']\n",
    "mmc3 = mmc3[mmc3[' SD .2']!=' - ']\n",
    "mmc3 = mmc3[mmc3[' SD .4']!=' - ']\n",
    "mmc3['PVmean'] = [int(x.replace(',', '')) for x in mmc3[' mean ']]\n",
    "mmc3['SSTmean'] = [int(x.replace(',', '')) for x in mmc3[' mean .2']]\n",
    "mmc3['VIPmean'] = [int(x.replace(',', '')) for x in mmc3[' mean .4']]\n",
    "mmc3['PVsd'] = [int(x.replace(',', '')) for x in mmc3[' SD ']]\n",
    "mmc3['SSTsd'] = [int(x.replace(',', '')) for x in mmc3[' SD .2']]\n",
    "mmc3['VIPsd'] = [int(x.replace(',', '')) for x in mmc3[' SD .4']]\n",
    "regions = [\n",
    "'SSp-n',\n",
    "'VISp',\n",
    "'AUDp',\n",
    "'SSp-m',\n",
    "'SSp-bfd',\n",
    "'SSp-ul',\n",
    "'SSp-ll',\n",
    "'SSs',\n",
    "'TEa',\n",
    "'ECT',\n",
    "'PERI',\n",
    "'AI',\n",
    "'MOp',\n",
    "'RSP',\n",
    "'MOs',\n",
    "'ACA',\n",
    "'PL'] #'PTLp',\n",
    "areas = regions\n",
    "df_t = pd.DataFrame()\n",
    "for x in areas:\n",
    "    df_t = pd.concat([df_t, mmc3[mmc3.ROI==x]])\n",
    "    print([x,mmc3[mmc3.ROI==x].shape])\n",
    "df_t = df_t.reset_index(drop=True)\n",
    "my_palette = {c: sns.color_palette('Blues', n_colors=(4)).as_hex()[c+1] for c in np.arange(3)}\n",
    "expression = df_t\n",
    "expression['group'] = regions"
   ]
  },
  {
   "cell_type": "code",
   "execution_count": 10,
   "id": "faa18392",
   "metadata": {},
   "outputs": [],
   "source": [
    "hurst = pd.read_csv('../../Derivatives/mouse/H_structural.csv')\n",
    "H = hurst.T.iloc[:604, :]\n",
    "H['sa'] = sa\n",
    "hurst = pd.concat([H.iloc[:, :-1].T, age], axis=1)\n",
    "hurst = hurst[hurst.dataset=='AD1']"
   ]
  },
  {
   "cell_type": "code",
   "execution_count": 11,
   "id": "dc47623f",
   "metadata": {},
   "outputs": [],
   "source": [
    "hurst_age = hurst.age.values\n",
    "hurst_gender = hurst.gender.values\n",
    "hurst = hurst.iloc[:, :604]\n",
    "same = pd.DataFrame(hurst.std()<1e-10)"
   ]
  },
  {
   "cell_type": "code",
   "execution_count": 12,
   "id": "3d92a1a6",
   "metadata": {},
   "outputs": [],
   "source": [
    "hurst = hurst.loc[:, [x for x in hurst.columns if x not in same[same[0]==True].index.values]]\n",
    "hurst['age'] = hurst_age\n",
    "hurst['gender'] = hurst_gender"
   ]
  },
  {
   "cell_type": "code",
   "execution_count": 13,
   "id": "92709d2c",
   "metadata": {},
   "outputs": [],
   "source": [
    "hurst_selected = hurst.loc[:, H[H.sa>-1].index]\n",
    "hurst_selected['age'] = hurst.age\n",
    "hurst_selected['gender'] = hurst.gender"
   ]
  },
  {
   "cell_type": "code",
   "execution_count": 14,
   "id": "183ba6ad",
   "metadata": {},
   "outputs": [],
   "source": [
    "df_sa = pd.DataFrame(H[H.sa>-1].sa)\n",
    "sa_bin = []\n",
    "for x in df_sa.sa:\n",
    "    if x < 6:\n",
    "        sa_bin.append(1)\n",
    "    elif x < 12:\n",
    "        sa_bin.append(2)\n",
    "    else:\n",
    "        sa_bin.append(3)\n",
    "df_sa['sa_bin'] = sa_bin"
   ]
  },
  {
   "cell_type": "code",
   "execution_count": 15,
   "id": "dc1b169c",
   "metadata": {},
   "outputs": [],
   "source": [
    "age_H = hurst_selected\n",
    "sa = df_sa"
   ]
  },
  {
   "cell_type": "code",
   "execution_count": 16,
   "id": "fa953244",
   "metadata": {},
   "outputs": [],
   "source": [
    "sensory = age_H.iloc[:, [i for i in np.arange(34) if sa.sa[i]<8]+[-2]].groupby('age').mean().reset_index()\n",
    "motor = age_H.iloc[:, [i for i in np.arange(34) if sa.sa[i] in [13,15]]+[-2]].groupby('age').mean().reset_index()\n",
    "association =  age_H.iloc[:, [i for i in np.arange(34) if sa.sa[i] in [8,9,10,11,12,14,16,17]]+[-2]].groupby('age').mean().reset_index()"
   ]
  },
  {
   "cell_type": "code",
   "execution_count": 17,
   "id": "33eb5244",
   "metadata": {},
   "outputs": [],
   "source": [
    "df = pd.DataFrame([age_H.iloc[:, [i for i in np.arange(34) if sa.sa[i] in [0,1,2,3,4,5,6,7,13,15]]].mean(axis=1).values, \n",
    " age_H.iloc[:, [i for i in np.arange(34) if sa.sa[i] in [8,9,10,11,12,14,16,17]]].mean(axis=1).values]).T\n",
    "df['age'] = age_H.age\n",
    "df = df[df.age<9]"
   ]
  },
  {
   "cell_type": "code",
   "execution_count": 18,
   "id": "4bc088f7",
   "metadata": {},
   "outputs": [],
   "source": [
    "df_mean = df.groupby('age').mean().reset_index()\n",
    "df_std = df.groupby('age').sem().reset_index()"
   ]
  },
  {
   "cell_type": "code",
   "execution_count": 19,
   "id": "02ca25f3",
   "metadata": {},
   "outputs": [
    {
     "data": {
      "image/png": "[encoded data removed]",
      "text/plain": [
       "<Figure size 432x288 with 1 Axes>"
      ]
     },
     "metadata": {
      "needs_background": "light"
     },
     "output_type": "display_data"
    }
   ],
   "source": [
    "plt.errorbar(df_mean.age, df_mean[0], yerr=df_std[0])\n",
    "plt.errorbar(df_mean.age, df_mean[1], yerr=df_std[1])\n",
    "plt.savefig('mouse.eps')"
   ]
  },
  {
   "cell_type": "code",
   "execution_count": 20,
   "id": "39946c23",
   "metadata": {},
   "outputs": [
    {
     "name": "stdout",
     "output_type": "stream",
     "text": [
      "-1.6126254267253046 0.1123495471539648\n",
      "-1.5913987356877533 0.11705122396594116\n"
     ]
    }
   ],
   "source": [
    "[t,p] = stats.ttest_ind(df[df.age==1][0], df[df.age==2][0])\n",
    "print(t,p)\n",
    "[t,p] = stats.ttest_ind(df[df.age==1][1], df[df.age==2][1])\n",
    "print(t,p)"
   ]
  },
  {
   "cell_type": "code",
   "execution_count": 21,
   "id": "cf33491d",
   "metadata": {},
   "outputs": [
    {
     "name": "stdout",
     "output_type": "stream",
     "text": [
      "F_onewayResult(statistic=1.3993184042452078, pvalue=0.24706572929808518)\n",
      "(111, 3)\n",
      "Tukey's HSD Pairwise Group Comparisons (95.0% Confidence Interval)\n",
      "Comparison  Statistic  p-value  Lower CI  Upper CI\n",
      " (0 - 1)     -0.028     0.271    -0.068     0.012\n",
      " (0 - 2)     -0.019     0.593    -0.060     0.021\n",
      " (0 - 3)     -0.004     0.993    -0.043     0.035\n",
      " (1 - 0)      0.028     0.271    -0.012     0.068\n",
      " (1 - 2)      0.009     0.953    -0.035     0.052\n",
      " (1 - 3)      0.024     0.454    -0.018     0.067\n",
      " (2 - 0)      0.019     0.593    -0.021     0.060\n",
      " (2 - 1)     -0.009     0.953    -0.052     0.035\n",
      " (2 - 3)      0.015     0.780    -0.027     0.058\n",
      " (3 - 0)      0.004     0.993    -0.035     0.043\n",
      " (3 - 1)     -0.024     0.454    -0.067     0.018\n",
      " (3 - 2)     -0.015     0.780    -0.058     0.027\n",
      "\n",
      "F_onewayResult(statistic=0.8490199120776274, pvalue=0.47008887546291)\n",
      "(111, 3)\n",
      "Tukey's HSD Pairwise Group Comparisons (95.0% Confidence Interval)\n",
      "Comparison  Statistic  p-value  Lower CI  Upper CI\n",
      " (0 - 1)     -0.024     0.389    -0.064     0.015\n",
      " (0 - 2)     -0.008     0.949    -0.048     0.031\n",
      " (0 - 3)     -0.010     0.906    -0.049     0.029\n",
      " (1 - 0)      0.024     0.389    -0.015     0.064\n",
      " (1 - 2)      0.016     0.763    -0.027     0.058\n",
      " (1 - 3)      0.014     0.814    -0.028     0.056\n",
      " (2 - 0)      0.008     0.949    -0.031     0.048\n",
      " (2 - 1)     -0.016     0.763    -0.058     0.027\n",
      " (2 - 3)     -0.002     0.999    -0.043     0.040\n",
      " (3 - 0)      0.010     0.906    -0.029     0.049\n",
      " (3 - 1)     -0.014     0.814    -0.056     0.028\n",
      " (3 - 2)      0.002     0.999    -0.040     0.043\n",
      "\n"
     ]
    }
   ],
   "source": [
    "for i in np.arange(2):\n",
    "    print(stats.f_oneway(df[df.age==1][i], df[df.age==2][i],df[df.age==5][i], df[df.age==8][i]))\n",
    "    print(df[df.age<=8].shape)\n",
    "    print(stats.tukey_hsd(df[df.age==1][i], df[df.age==2][i], df[df.age==5][i], df[df.age==8][i]))"
   ]
  },
  {
   "cell_type": "code",
   "execution_count": 22,
   "id": "c0578a93",
   "metadata": {},
   "outputs": [],
   "source": [
    "for x in age_H.columns[:-2]:\n",
    "    age_H[x] = [float(t) for t in age_H[x]]\n",
    "a = age_H.T.iloc[:-2, :]\n",
    "a['sa'] = sa.sa\n",
    "a = a.groupby('sa').mean().reset_index(drop=True).T\n",
    "a['age'] = age_H.age\n",
    "age_groupby = a.groupby('age').median().reset_index(drop=True)\n",
    "for x in a.columns[:-1]:\n",
    "    a[x] = [float(t) for t in a[x]]"
   ]
  },
  {
   "cell_type": "code",
   "execution_count": 24,
   "id": "09884392",
   "metadata": {},
   "outputs": [
    {
     "name": "stdout",
     "output_type": "stream",
     "text": [
      "(59, 18)\n",
      "['SSp-ll', 0.8532277856323529, 0.9100842206599999, -2.1203161128984473, 0.03834396823266128]\n",
      "(59, 18)\n",
      "['MOs', 0.8591549903970589, 0.9067734654600001, -2.094332124617526, 0.04068764874687225]\n",
      "(59, 18)\n",
      "['ACA', 0.8710929085441177, 0.93298102964, -2.5584377551594653, 0.013195920728195632]\n",
      "(59, 18)\n",
      "['PL', 0.8127852453970589, 0.8871893673999999, -3.015456034720912, 0.0038275405471242434]\n"
     ]
    },
    {
     "data": {
      "image/png": "[encoded data removed]",
      "text/plain": [
       "<Figure size 432x288 with 1 Axes>"
      ]
     },
     "metadata": {
      "needs_background": "light"
     },
     "output_type": "display_data"
    }
   ],
   "source": [
    "for i in np.arange(17):\n",
    "    [t,p] = stats.ttest_ind(a[a.age==1].iloc[:, i].values, a[a.age==2].iloc[:, i].values)\n",
    "    if p < 0.05:\n",
    "        print(a[a.age<=2].shape)\n",
    "        print([regions[i], a[a.age==1].iloc[:, i].values.mean(), a[a.age==2].iloc[:, i].values.mean(), t, p])\n",
    "        plt.plot(age_groupby.iloc[:4, i])"
   ]
  }
 ],
 "metadata": {
  "kernelspec": {
   "display_name": "Python 3",
   "language": "python",
   "name": "python3"
  },
  "language_info": {
   "codemirror_mode": {
    "name": "ipython",
    "version": 3
   },
   "file_extension": ".py",
   "mimetype": "text/x-python",
   "name": "python",
   "nbconvert_exporter": "python",
   "pygments_lexer": "ipython3",
   "version": "3.8.8"
  }
 },
 "nbformat": 4,
 "nbformat_minor": 5
}
