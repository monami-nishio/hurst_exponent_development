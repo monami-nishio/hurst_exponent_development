{
 "cells": [
  {
   "cell_type": "code",
   "execution_count": 1,
   "id": "8a28dd43",
   "metadata": {},
   "outputs": [],
   "source": [
    "import pandas as pd\n",
    "import numpy as np\n",
    "import os\n",
    "import statsmodels.api as sm\n",
    "import matplotlib.pyplot as plt\n",
    "from sklearn.preprocessing import PolynomialFeatures\n",
    "from sklearn.linear_model import LinearRegression\n",
    "from sklearn.pipeline import Pipeline\n",
    "from natsort import natsorted\n",
    "from scipy.stats import pearsonr\n",
    "import seaborn as sns\n",
    "import matplotlib.cm as cm\n",
    "from pygam import LinearGAM, s, f\n",
    "from scipy import stats\n",
    "sns.set(font_scale=1.5, style=\"white\")"
   ]
  },
  {
   "cell_type": "code",
   "execution_count": 2,
   "id": "647148a7",
   "metadata": {},
   "outputs": [],
   "source": [
    "df = pd.read_csv('../../Dataset/rna/brodmann_schaefer_0.5.csv')"
   ]
  },
  {
   "cell_type": "code",
   "execution_count": 3,
   "id": "168d1368",
   "metadata": {},
   "outputs": [],
   "source": [
    "regionname = pd.read_csv('../../Modules/human/schaefer400_regions.csv')\n",
    "sarank = pd.read_csv('../../Modules/human/Sensorimotor_Association_Axis_AverageRanks.csv')\n",
    "sarank = pd.concat([regionname.reset_index(drop=True), sarank.reset_index(drop=True)],axis=1)\n",
    "sarank = sarank.loc[:, ['name', 'finalrank.wholebrain']]"
   ]
  },
  {
   "cell_type": "code",
   "execution_count": null,
   "id": "0e5c4a57",
   "metadata": {},
   "outputs": [],
   "source": [
    "# project directory\n",
    "data_dir = '../../Dataset/rna'\n",
    "# read expression data\n",
    "gene_columns = pd.read_csv(os.path.join(data_dir, 'columns_metadata.csv'))\n",
    "gene_rows = pd.read_csv(os.path.join(data_dir, 'rows_metadata.csv'))\n",
    "gene_columns['id'] = range(1, len(gene_columns) + 1)\n",
    "expr_matrix = pd.read_csv(os.path.join(data_dir, 'expression_matrix.csv'), header=None)\n",
    "expr_matrix = expr_matrix.iloc[:, 1:] "
   ]
  },
  {
   "cell_type": "code",
   "execution_count": null,
   "id": "f91e34bd",
   "metadata": {},
   "outputs": [],
   "source": [
    "# remove genes without an entrez id\n",
    "expr_subset = expr_matrix[~gene_rows['entrez_id'].isna()]\n",
    "rows_subset = gene_rows[~gene_rows['entrez_id'].isna()]"
   ]
  },
  {
   "cell_type": "code",
   "execution_count": null,
   "id": "1f457b4e",
   "metadata": {},
   "outputs": [],
   "source": [
    "log2_expr = np.log2(expr_subset + 1)\n",
    "log2_expr['entrez_id'] = rows_subset['entrez_id']"
   ]
  },
  {
   "cell_type": "code",
   "execution_count": null,
   "id": "2067ce6a",
   "metadata": {},
   "outputs": [],
   "source": [
    "markers  = ['PVALB', 'SST', 'VIP', 'GAD1', 'GAD2'] #PVALB\n",
    "for marker in markers:\n",
    "    ids = gene_rows[gene_rows.gene_symbol==marker].entrez_id.values[0]\n",
    "    df_marker = log2_expr[log2_expr.entrez_id==ids].iloc[:, :-1].T.values\n",
    "    gene_columns[marker] = df_marker"
   ]
  },
  {
   "cell_type": "code",
   "execution_count": null,
   "id": "f6d2f08b",
   "metadata": {},
   "outputs": [],
   "source": [
    "sa_cortex = np.unique([x for x in gene_columns.structure_name if 'cortex' in x])\n",
    "sa_cortex = pd.DataFrame([x for x in sa_cortex if 'cereb' not in x])\n",
    "sa_cortex.columns = ['structure_name']"
   ]
  },
  {
   "cell_type": "code",
   "execution_count": null,
   "id": "08db698d",
   "metadata": {},
   "outputs": [],
   "source": [
    "adults = [ '18 yrs', '19 yrs', '21 yrs','23 yrs']\n",
    "cbpd_wide = ['3 yrs','4 yrs', '8 yrs', '11 yrs','13 yrs']"
   ]
  },
  {
   "cell_type": "code",
   "execution_count": null,
   "id": "3d2f0a95",
   "metadata": {},
   "outputs": [],
   "source": [
    "brodregion = pd.read_csv('../../Dataset/rna/brodmann.csv')\n",
    "saorder = pd.DataFrame([np.arange(11), ['Visual', 'Auditory', 'Sensory', 'Motor', 'IPC', 'STC', 'vPFC', 'dPFC', 'OFC', 'TEv', 'ACC']]).T\n",
    "saorder.columns = ['sa', 'group']\n",
    "pd.merge(brodregion.iloc[:, :2], saorder, on='group', how='left').to_csv('../../Dataset/rna/brodmann.csv', index=False)"
   ]
  },
  {
   "cell_type": "code",
   "execution_count": null,
   "id": "5eaf4ae3",
   "metadata": {},
   "outputs": [],
   "source": [
    "child_original = pd.read_csv('../../Derivatives/childhood/original.csv')\n",
    "adult_original = pd.read_csv('../../Derivatives/adult/original.csv')"
   ]
  },
  {
   "cell_type": "code",
   "execution_count": null,
   "id": "9a1cebc0",
   "metadata": {},
   "outputs": [],
   "source": [
    "motion_regressed_out = pd.read_csv('/Users/monaminishio/Desktop/HOME36/202402_paper/Codes/Figure3/hurst_motion_regressed.csv')"
   ]
  },
  {
   "cell_type": "code",
   "execution_count": null,
   "id": "e666855e",
   "metadata": {},
   "outputs": [],
   "source": [
    "child_original['H'] = motion_regressed_out.iloc[:, 1:401].mean().values"
   ]
  },
  {
   "cell_type": "code",
   "execution_count": null,
   "id": "5c79e819",
   "metadata": {},
   "outputs": [],
   "source": [
    "child_original"
   ]
  },
  {
   "cell_type": "code",
   "execution_count": null,
   "id": "ee147400",
   "metadata": {},
   "outputs": [],
   "source": [
    "plt.scatter(child_original.SArank, child_original.H)"
   ]
  },
  {
   "cell_type": "code",
   "execution_count": null,
   "id": "a3e217a6",
   "metadata": {},
   "outputs": [],
   "source": [
    "Visual = [x for x in df.columns if 'BA17' in x]\n",
    "Auditory = [x for x in df.columns if 'BA41' in x]\n",
    "Sensory =  [x for x in df.columns if 'BA1_3' in x] + [x for x in df.columns if 'BA2' in x] # [x for x in sarank.name.values if 'S2' in x] +\n",
    "Motor = [x for x in df.columns if 'BA4' in x]\n",
    "vPFC = [x for x in df.columns if 'BA44' in x] +  [x for x in df.columns if 'BA45' in x]\n",
    "dPFC = [x for x in df.columns if 'BA8' in x] + [x for x in df.columns if 'BA9' in x] + [x for x in df.columns if 'BA46' in x]\n",
    "OFC = [x for x in df.columns if 'BA11' in x] + [x for x in df.columns if 'BA12' in x]+ [x for x in df.columns if 'BA13' in x]  + [x for x in df.columns if 'BA14_' in x]\n",
    "TEv = [x for x in df.columns if 'BA20' in x]\n",
    "ACC = [x for x in df.columns if 'BA24' in x] + [x for x in df.columns if 'BA25' in x] + [x for x in df.columns if 'BA32' in x]\n",
    "STC = [x for x in df.columns if 'BA22' in x]\n",
    "IPC = [x for x in df.columns if 'BA39' in x] +  [x for x in df.columns if 'BA40' in x]\n",
    "\n",
    "child_regions = []\n",
    "adult_regions = []\n",
    "sas = []\n",
    "for x in [Sensory, Auditory, Motor, Visual, vPFC, dPFC, OFC, TEv, ACC, STC, IPC]:\n",
    "    print(x)\n",
    "    roi  = df.loc[:, x].sum(axis=1)>0\n",
    "    #if x == ['BA41_42_52']:\n",
    "    #    roi[44] = True\n",
    "    child_original['roi']=roi\n",
    "    adult_original['roi']=roi\n",
    "    child_regions.append(child_original[child_original.roi==True].mean()['H'])\n",
    "    adult_regions.append(adult_original[adult_original.roi==True].mean()['H'])\n",
    "    sas.append(child_original[child_original.roi==True].mean()['SArank'])"
   ]
  },
  {
   "cell_type": "code",
   "execution_count": null,
   "id": "6c1df2ba",
   "metadata": {},
   "outputs": [],
   "source": [
    "child = pd.DataFrame([['Sensory', 'Auditory', 'Motor', 'Visual', 'vPFC', 'dPFC', 'OFC', 'TEv', 'ACC', 'STC', 'IPC'], child_regions, sas]).T.sort_values(2).reset_index(drop=True)\n",
    "child.columns = ['region', 'H', 'sa']\n",
    "adult = pd.DataFrame([['Sensory', 'Auditory', 'Motor', 'Visual', 'vPFC', 'dPFC', 'OFC', 'TEv', 'ACC', 'STC', 'IPC'], adult_regions, sas]).T.sort_values(2).reset_index(drop=True)\n",
    "adult.columns = ['region', 'H', 'sa']"
   ]
  },
  {
   "cell_type": "code",
   "execution_count": null,
   "id": "fe467055",
   "metadata": {},
   "outputs": [],
   "source": [
    "sa_cortex['region'] = ['ACC', 'dPFC', 'TEv', '-', 'OFC', '-', 'STC', 'IPC', 'Auditory', 'Motor', '-', 'Sensory', 'Visual', '-', 'vPFC']\n",
    "sa_cortex = pd.merge(sa_cortex.loc[:, ['structure_name', 'region']], child.loc[:, ['region', 'sa']], on='region', how='left')"
   ]
  },
  {
   "cell_type": "code",
   "execution_count": null,
   "id": "de56d0c8",
   "metadata": {},
   "outputs": [],
   "source": [
    "gene_columns = pd.merge(gene_columns,sa_cortex, on='structure_name', how='left')"
   ]
  },
  {
   "cell_type": "markdown",
   "id": "6873d062",
   "metadata": {},
   "source": [
    "age = adults\n",
    "wide = gene_columns.loc[[x for x in gene_columns.index if gene_columns.loc[x,'age'] in age], :]\n",
    "wide = wide[wide.sa>-1].sort_values('sa')\n",
    "#for x in ['PVALB', 'SST', 'VIP', 'GAD1', 'GAD2']:\n",
    "#        wide[x] = stats.zscore(wide[x])\n",
    "wide = wide.groupby(['sa', 'donor_name']).mean().reset_index()\n",
    "wide = pd.merge(wide, gene_columns.loc[:, ['donor_id', 'age']], on='donor_id')    \n",
    "figure = plt.figure()\n",
    "wide_age = wide.loc[[x for x in wide.index if wide.loc[x,'age'] in age], :]\n",
    "wide_mean = wide_age.groupby(['sa']).mean().reset_index()\n",
    "wide_std = wide_age.groupby(['sa']).sem().reset_index()\n",
    "for i in np.arange(11):\n",
    "    plt.scatter(wide_mean['PVALB'].values[i]+wide_mean['SST'].values[i]+wide_mean['VIP'].values[i], adult['H'].values[i])\n",
    "df_x = pd.DataFrame(wide_mean['PVALB'].values+wide_mean['SST'].values+wide_mean['VIP'].values)\n",
    "df_y = pd.DataFrame(adult['H'].values)\n",
    "mod = LinearRegression()\n",
    "mod_lin = mod.fit(df_x, df_y)\n",
    "y_lin_fit = mod_lin.predict(df_x)\n",
    "r2_lin = mod.score(df_x, df_y)\n",
    "plt.plot(df_x[0].values, [y[0] for y in y_lin_fit], color = '#000000', linewidth=2)\n",
    "print(r2_lin)\n",
    "X = sm.add_constant(wide_mean['PVALB'].values+wide_mean['SST'].values+wide_mean['VIP'].values)\n",
    "results = sm.OLS([float(x) for x in adult['H'].values], X).fit()\n",
    "print(results.summary())\n",
    "#plt.ylim([1.0,1.25])\n",
    "#plt.xlim([13,16.5])\n",
    "plt.savefig('Fig2_adultPV+SST+VIP_zscored.eps',  format='eps', bbox_inches='tight')\n",
    "    \n",
    "age = cbpd_wide\n",
    "wide = gene_columns.loc[[x for x in gene_columns.index if gene_columns.loc[x,'age'] in age], :]\n",
    "wide = wide[wide.sa>-1].sort_values('sa')\n",
    "#for x in ['PVALB', 'SST','VIP',  'GAD1', 'GAD2']:\n",
    "#        wide[x] = stats.zscore(wide[x])\n",
    "figure = plt.figure()\n",
    "wide_age = wide.loc[[x for x in wide.index if wide.loc[x,'age'] in age], :]\n",
    "wide_mean = wide_age.groupby(['sa']).mean().reset_index()\n",
    "wide_std = wide_age.groupby(['sa']).sem().reset_index()\n",
    "for i in np.arange(11):\n",
    "    plt.scatter(wide_mean['PVALB'].values[i]+wide_mean['SST'].values[i]+wide_mean['VIP'].values[i], child['H'].values[i])\n",
    "df_x = pd.DataFrame(wide_mean['PVALB'].values+wide_mean['SST'].values+wide_mean['VIP'].values)\n",
    "df_y = pd.DataFrame(child['H'].values)\n",
    "mod = LinearRegression()\n",
    "mod_lin = mod.fit(df_x, df_y)\n",
    "y_lin_fit = mod_lin.predict(df_x)\n",
    "r2_lin = mod.score(df_x, df_y)\n",
    "plt.plot(df_x[0].values, [y[0] for y in y_lin_fit], color = '#000000', linewidth=2)\n",
    "print(r2_lin)\n",
    "X = sm.add_constant(wide_mean['PVALB'].values+wide_mean['SST'].values+wide_mean['VIP'].values)\n",
    "results = sm.OLS([float(x) for x in child['H'].values], X).fit()\n",
    "print(results.summary())\n",
    "#plt.ylim([1,1.25])\n",
    "#plt.xlim([13,16.5])\n",
    "plt.savefig('Fig2_childPV+SST+VIP_zscored.eps',  format='eps', bbox_inches='tight')\n",
    "plt.legend(adult.region.values)"
   ]
  },
  {
   "cell_type": "code",
   "execution_count": null,
   "id": "0969d483",
   "metadata": {},
   "outputs": [],
   "source": [
    "gene_columns['avg'] = gene_columns.loc[:, ['PVALB', 'SST', 'VIP']].mean(axis=1)\n",
    "gene_columns['avg'] = gene_columns ['PVALB']*0.4 + gene_columns ['VIP']*0.1 + gene_columns ['SST']*0.3 \n",
    "#gene_columns['avg'] = gene_columns ['PVALB']"
   ]
  },
  {
   "cell_type": "markdown",
   "id": "99acd85a",
   "metadata": {},
   "source": [
    "age = adults\n",
    "wide = gene_columns.loc[[x for x in gene_columns.index if gene_columns.loc[x,'age'] in age], :]\n",
    "wide = wide[wide.sa>-1].sort_values('sa')\n",
    "wide = wide.groupby(['sa', 'donor_name']).mean().reset_index()\n",
    "wide = pd.merge(wide, gene_columns.loc[:, ['donor_id', 'age']], on='donor_id')    \n",
    "figure = plt.figure()\n",
    "wide_age = wide.loc[[x for x in wide.index if wide.loc[x,'age'] in age], :]\n",
    "wide_mean = wide_age.groupby(['sa']).mean().reset_index()\n",
    "wide_std = wide_age.groupby(['sa']).sem().reset_index()\n",
    "for i in np.arange(11):\n",
    "    plt.scatter(wide_mean['avg'].values[i], adult['H'].values[i])\n",
    "df_x = pd.DataFrame(wide_mean['avg'].values)\n",
    "df_y = pd.DataFrame(adult['H'].values)\n",
    "mod = LinearRegression()\n",
    "mod_lin = mod.fit(df_x, df_y)\n",
    "y_lin_fit = mod_lin.predict(df_x)\n",
    "r2_lin = mod.score(df_x, df_y)\n",
    "plt.plot(df_x[0].values, [y[0] for y in y_lin_fit], color = '#000000', linewidth=2)\n",
    "print(r2_lin)\n",
    "X = sm.add_constant(wide_mean['avg'].values)\n",
    "results = sm.OLS([float(x) for x in adult['H'].values], X).fit()\n",
    "print(results.summary())\n",
    "plt.ylim([1.0,1.25])\n",
    "plt.xlim([3.5,4.6])\n",
    "plt.savefig('Fig2_adultPV+SST+VIP_zscored.eps',  format='eps', bbox_inches='tight')\n",
    "    \n",
    "age = cbpd_wide\n",
    "wide = gene_columns.loc[[x for x in gene_columns.index if gene_columns.loc[x,'age'] in age], :]\n",
    "wide = wide[wide.sa>-1].sort_values('sa')\n",
    "figure = plt.figure()\n",
    "wide_age = wide.loc[[x for x in wide.index if wide.loc[x,'age'] in age], :]\n",
    "wide_mean = wide_age.groupby(['sa']).mean().reset_index()\n",
    "wide_std = wide_age.groupby(['sa']).sem().reset_index()\n",
    "for i in np.arange(11):\n",
    "    plt.scatter(wide_mean['avg'].values[i], child['H'].values[i])\n",
    "df_x = pd.DataFrame(wide_mean['avg'].values)\n",
    "df_y = pd.DataFrame(child['H'].values)\n",
    "mod = LinearRegression()\n",
    "mod_lin = mod.fit(df_x, df_y)\n",
    "y_lin_fit = mod_lin.predict(df_x)\n",
    "r2_lin = mod.score(df_x, df_y)\n",
    "#plt.plot(df_x[0].values, [y[0] for y in y_lin_fit], color = '#000000', linewidth=2)\n",
    "print(r2_lin)\n",
    "X = sm.add_constant(wide_mean['avg'].values)\n",
    "results = sm.OLS([float(x) for x in child['H'].values], X).fit()\n",
    "print(results.summary())\n",
    "plt.ylim([1.0,1.25])\n",
    "plt.xlim([3.5,4.6])\n",
    "plt.savefig('Fig2_childPV+SST+VIP_zscored.eps',  format='eps', bbox_inches='tight')\n",
    "plt.legend(adult.region.values)"
   ]
  },
  {
   "cell_type": "code",
   "execution_count": null,
   "id": "9efc6991",
   "metadata": {},
   "outputs": [],
   "source": [
    "for marker in  ['PVALB']: # , 'SST', 'VIP', 'GAD1', 'GAD2'\n",
    "    for t, age in enumerate([adults, cbpd_wide]):\n",
    "        print(t)\n",
    "        wide = gene_columns.loc[[x for x in gene_columns.index if gene_columns.loc[x,'age'] in age], :]\n",
    "        wide = wide[wide.sa>-1].sort_values('sa')\n",
    "        wide = wide.loc[:, ['sa', 'donor_id', 'PVALB', 'SST', 'VIP', 'GAD1', 'GAD2']].groupby(['sa', 'donor_id']).mean().reset_index()\n",
    "        wide = pd.merge(wide, gene_columns.loc[:, ['donor_id', 'age']], on='donor_id')    \n",
    "        figure = plt.figure()\n",
    "        wide_age = wide.loc[[x for x in wide.index if wide.loc[x,'age'] in age], :]\n",
    "        wide_mean = wide_age.loc[:, ['sa', 'donor_id', 'PVALB', 'SST', 'VIP', 'GAD1', 'GAD2']].groupby(['sa']).mean().reset_index()\n",
    "        wide_std = wide_age.loc[:, ['sa', 'donor_id', 'PVALB', 'SST', 'VIP', 'GAD1', 'GAD2']].groupby(['sa']).sem().reset_index()\n",
    "        X = sm.add_constant(wide_mean[marker].values)\n",
    "        results = sm.OLS([float(x) for x in adult['H'].values], X).fit()\n",
    "        print(results.summary())\n",
    "        df_x = pd.DataFrame(wide_mean[marker].values)\n",
    "        if t == 1:\n",
    "            df_y = pd.DataFrame(child['H'].values)\n",
    "            for i in np.arange(11):\n",
    "                plt.scatter(wide_mean[marker].values[i], child['H'].values[i])\n",
    "        else:\n",
    "            df_y = pd.DataFrame(adult['H'].values)\n",
    "            for i in np.arange(11):\n",
    "                plt.scatter(wide_mean[marker].values[i], adult['H'].values[i])\n",
    "        mod = LinearRegression()\n",
    "        mod_lin = mod.fit(df_x, df_y)\n",
    "        y_lin_fit = mod_lin.predict(df_x)\n",
    "        r2_lin = mod.score(df_x, df_y)\n",
    "        plt.plot(df_x[0].values, [y[0] for y in y_lin_fit], color = '#000000', linewidth=1)\n",
    "        #plt.ylim([1.0,1.25])\n",
    "        #plt.xlim([3, 4.5])\n",
    "        plt.savefig('Fig2_' + marker+str(t)+'.eps',  format='eps', bbox_inches='tight')\n",
    "        #plt.legend(adult.region.values)"
   ]
  },
  {
   "cell_type": "code",
   "execution_count": null,
   "id": "d40935e8",
   "metadata": {},
   "outputs": [],
   "source": []
  },
  {
   "cell_type": "code",
   "execution_count": null,
   "id": "014656f3",
   "metadata": {},
   "outputs": [],
   "source": []
  }
 ],
 "metadata": {
  "kernelspec": {
   "display_name": "Python 3",
   "language": "python",
   "name": "python3"
  },
  "language_info": {
   "codemirror_mode": {
    "name": "ipython",
    "version": 3
   },
   "file_extension": ".py",
   "mimetype": "text/x-python",
   "name": "python",
   "nbconvert_exporter": "python",
   "pygments_lexer": "ipython3",
   "version": "3.8.8"
  }
 },
 "nbformat": 4,
 "nbformat_minor": 5
}
