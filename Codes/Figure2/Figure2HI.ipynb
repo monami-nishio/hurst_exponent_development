{
 "cells": [
  {
   "cell_type": "code",
   "execution_count": 1,
   "id": "8a28dd43",
   "metadata": {},
   "outputs": [],
   "source": [
    "import pandas as pd\n",
    "import numpy as np\n",
    "import os\n",
    "import statsmodels.api as sm\n",
    "import matplotlib.pyplot as plt\n",
    "from sklearn.preprocessing import PolynomialFeatures\n",
    "from sklearn.linear_model import LinearRegression\n",
    "from sklearn.pipeline import Pipeline\n",
    "from natsort import natsorted\n",
    "from scipy.stats import pearsonr\n",
    "import seaborn as sns\n",
    "import matplotlib.cm as cm\n",
    "from pygam import LinearGAM, s, f\n",
    "from scipy import stats\n",
    "sns.set(font_scale=1.5, style=\"white\")"
   ]
  },
  {
   "cell_type": "code",
   "execution_count": 2,
   "id": "647148a7",
   "metadata": {},
   "outputs": [],
   "source": [
    "df = pd.read_csv('../../Dataset/rna/brodmann_schaefer_0.5.csv')"
   ]
  },
  {
   "cell_type": "code",
   "execution_count": 3,
   "id": "168d1368",
   "metadata": {},
   "outputs": [],
   "source": [
    "regionname = pd.read_csv('../../Modules/human/schaefer400_regions.csv')\n",
    "sarank = pd.read_csv('../../Modules/human/Sensorimotor_Association_Axis_AverageRanks.csv')\n",
    "sarank = pd.concat([regionname.reset_index(drop=True), sarank.reset_index(drop=True)],axis=1)\n",
    "sarank = sarank.loc[:, ['name', 'finalrank.wholebrain']]"
   ]
  },
  {
   "cell_type": "code",
   "execution_count": 4,
   "id": "0e5c4a57",
   "metadata": {},
   "outputs": [],
   "source": [
    "# project directory\n",
    "data_dir = '../../Modules/human/rna'\n",
    "# read expression data\n",
    "gene_columns = pd.read_csv(os.path.join(data_dir, 'columns_metadata.csv'))\n",
    "gene_rows = pd.read_csv(os.path.join(data_dir, 'rows_metadata.csv'))\n",
    "gene_columns['id'] = range(1, len(gene_columns) + 1)\n",
    "expr_matrix = pd.read_csv(os.path.join(data_dir, 'expression_matrix.csv'), header=None)\n",
    "expr_matrix = expr_matrix.iloc[:, 1:] "
   ]
  },
  {
   "cell_type": "code",
   "execution_count": 5,
   "id": "f91e34bd",
   "metadata": {},
   "outputs": [],
   "source": [
    "# remove genes without an entrez id\n",
    "expr_subset = expr_matrix[~gene_rows['entrez_id'].isna()]\n",
    "rows_subset = gene_rows[~gene_rows['entrez_id'].isna()]"
   ]
  },
  {
   "cell_type": "code",
   "execution_count": 6,
   "id": "1f457b4e",
   "metadata": {},
   "outputs": [],
   "source": [
    "log2_expr = np.log2(expr_subset + 1)\n",
    "log2_expr['entrez_id'] = rows_subset['entrez_id']"
   ]
  },
  {
   "cell_type": "code",
   "execution_count": 7,
   "id": "2067ce6a",
   "metadata": {},
   "outputs": [],
   "source": [
    "markers  = ['PVALB', 'SST','GAD1', 'GAD2', 'DLX1', 'DLX2'] #PVALB\n",
    "for marker in markers:\n",
    "    ids = gene_rows[gene_rows.gene_symbol==marker].entrez_id.values[0]\n",
    "    df_marker = log2_expr[log2_expr.entrez_id==ids].iloc[:, :-1].T.values\n",
    "    gene_columns[marker] = df_marker"
   ]
  },
  {
   "cell_type": "code",
   "execution_count": 8,
   "id": "f6d2f08b",
   "metadata": {},
   "outputs": [],
   "source": [
    "sa_cortex = np.unique([x for x in gene_columns.structure_name if 'cortex' in x])\n",
    "sa_cortex = pd.DataFrame([x for x in sa_cortex if 'cereb' not in x])\n",
    "sa_cortex.columns = ['structure_name']"
   ]
  },
  {
   "cell_type": "code",
   "execution_count": 9,
   "id": "08db698d",
   "metadata": {},
   "outputs": [],
   "source": [
    "adults = [ '18 yrs', '19 yrs', '21 yrs','23 yrs']\n",
    "cbpd_wide = ['3 yrs','4 yrs', '8 yrs', '11 yrs','13 yrs']"
   ]
  },
  {
   "cell_type": "code",
   "execution_count": 10,
   "id": "3d2f0a95",
   "metadata": {},
   "outputs": [],
   "source": [
    "brodregion = pd.read_csv('../dataset/rna/brodmann.csv')\n",
    "saorder = pd.DataFrame([np.arange(11), ['Visual', 'Auditory', 'Sensory', 'Motor', 'IPC', 'STC', 'vPFC', 'dPFC', 'OFC', 'TEv', 'ACC']]).T\n",
    "saorder.columns = ['sa', 'group']\n",
    "pd.merge(brodregion.iloc[:, :2], saorder, on='group', how='left').to_csv('../dataset/rna/brodmann.csv', index=False)"
   ]
  },
  {
   "cell_type": "code",
   "execution_count": 11,
   "id": "a3e217a6",
   "metadata": {},
   "outputs": [
    {
     "name": "stdout",
     "output_type": "stream",
     "text": [
      "['BA1_3', 'BA2', 'BA20', 'BA21', 'BA22', 'BA23', 'BA24', 'BA25', 'BA26_29_30', 'BA27', 'BA28']\n",
      "['BA41_42_52']\n",
      "['BA4', 'BA40', 'BA41_42_52', 'BA43', 'BA44', 'BA45', 'BA46', 'BA47']\n",
      "['BA17']\n",
      "['BA44', 'BA45']\n",
      "['BA8', 'BA9', 'BA46']\n",
      "['BA11', 'BA13']\n",
      "['BA20']\n",
      "['BA24', 'BA25', 'BA32']\n",
      "['BA22']\n",
      "['BA39', 'BA40']\n"
     ]
    }
   ],
   "source": [
    "child_original = pd.read_csv('../../Derivatives/childhood/original.csv')\n",
    "adult_original = pd.read_csv('../../Derivatives/adult/original.csv')\n",
    "\n",
    "Visual = [x for x in df.columns if 'BA17' in x]\n",
    "Auditory = [x for x in df.columns if 'BA41' in x]\n",
    "Sensory =  [x for x in df.columns if 'BA1_3' in x] + [x for x in df.columns if 'BA2' in x] # [x for x in sarank.name.values if 'S2' in x] +\n",
    "Motor = [x for x in df.columns if 'BA4' in x]\n",
    "vPFC = [x for x in df.columns if 'BA44' in x] +  [x for x in df.columns if 'BA45' in x]\n",
    "dPFC = [x for x in df.columns if 'BA8' in x] + [x for x in df.columns if 'BA9' in x] + [x for x in df.columns if 'BA46' in x]\n",
    "OFC = [x for x in df.columns if 'BA11' in x] + [x for x in df.columns if 'BA12' in x]+ [x for x in df.columns if 'BA13' in x]  + [x for x in df.columns if 'BA14_' in x]\n",
    "TEv = [x for x in df.columns if 'BA20' in x]\n",
    "ACC = [x for x in df.columns if 'BA24' in x] + [x for x in df.columns if 'BA25' in x] + [x for x in df.columns if 'BA32' in x]\n",
    "STC = [x for x in df.columns if 'BA22' in x]\n",
    "IPC = [x for x in df.columns if 'BA39' in x] +  [x for x in df.columns if 'BA40' in x]\n",
    "\n",
    "child_regions = []\n",
    "adult_regions = []\n",
    "sas = []\n",
    "for x in [Sensory, Auditory, Motor, Visual, vPFC, dPFC, OFC, TEv, ACC, STC, IPC]:\n",
    "    print(x)\n",
    "    roi  = df.loc[:, x].sum(axis=1)>0\n",
    "    #if x == ['BA41_42_52']:\n",
    "    #    roi[44] = True\n",
    "    child_original['roi']=roi\n",
    "    adult_original['roi']=roi\n",
    "    child_regions.append(child_original[child_original.roi==True].mean()['H'])\n",
    "    adult_regions.append(adult_original[adult_original.roi==True].mean()['H'])\n",
    "    sas.append(child_original[child_original.roi==True].mean()['SArank'])"
   ]
  },
  {
   "cell_type": "code",
   "execution_count": 13,
   "id": "6c1df2ba",
   "metadata": {},
   "outputs": [],
   "source": [
    "child = pd.DataFrame([['Sensory', 'Auditory', 'Motor', 'Visual', 'vPFC', 'dPFC', 'OFC', 'TEv', 'ACC', 'STC', 'IPC'], child_regions, sas]).T.sort_values(2).reset_index(drop=True)\n",
    "child.columns = ['region', 'H', 'sa']\n",
    "adult = pd.DataFrame([['Sensory', 'Auditory', 'Motor', 'Visual', 'vPFC', 'dPFC', 'OFC', 'TEv', 'ACC', 'STC', 'IPC'], adult_regions, sas]).T.sort_values(2).reset_index(drop=True)\n",
    "adult.columns = ['region', 'H', 'sa']"
   ]
  },
  {
   "cell_type": "code",
   "execution_count": 14,
   "id": "fe467055",
   "metadata": {},
   "outputs": [],
   "source": [
    "sa_cortex['region'] = ['ACC', 'dPFC', 'TEv', '-', 'OFC', '-', 'STC', 'IPC', 'Auditory', 'Motor', '-', 'Sensory', 'Visual', '-', 'vPFC']\n",
    "sa_cortex = pd.merge(sa_cortex.loc[:, ['structure_name', 'region']], child.loc[:, ['region', 'sa']], on='region', how='left')"
   ]
  },
  {
   "cell_type": "code",
   "execution_count": 15,
   "id": "de56d0c8",
   "metadata": {},
   "outputs": [],
   "source": [
    "gene_columns = pd.merge(gene_columns,sa_cortex, on='structure_name', how='left')"
   ]
  },
  {
   "cell_type": "code",
   "execution_count": 17,
   "id": "63e80b05",
   "metadata": {},
   "outputs": [],
   "source": [
    "wide = gene_columns.loc[[x for x in gene_columns.index if gene_columns.loc[x,'age'] in adults], :]\n",
    "wide = wide[wide.sa>-1].sort_values('sa')\n",
    "wide = wide.groupby(['sa', 'donor_name']).mean().reset_index()\n",
    "wide_mean = wide.groupby(['sa']).mean().reset_index()\n",
    "wide_std = wide.groupby(['sa']).sem().reset_index()"
   ]
  },
  {
   "cell_type": "code",
   "execution_count": 28,
   "id": "6b3f8419",
   "metadata": {
    "scrolled": true
   },
   "outputs": [
    {
     "name": "stderr",
     "output_type": "stream",
     "text": [
      "/Users/monaminishio/opt/anaconda3/lib/python3.8/site-packages/scipy/stats/_stats_py.py:1736: UserWarning: kurtosistest only valid for n>=20 ... continuing anyway, n=11\n",
      "  warnings.warn(\"kurtosistest only valid for n>=20 ... continuing \"\n",
      "The PostScript backend does not support transparency; partially transparent artists will be rendered opaque.\n"
     ]
    },
    {
     "name": "stdout",
     "output_type": "stream",
     "text": [
      "0.3997132613999479\n",
      "                            OLS Regression Results                            \n",
      "==============================================================================\n",
      "Dep. Variable:                      y   R-squared:                       0.400\n",
      "Model:                            OLS   Adj. R-squared:                  0.333\n",
      "Method:                 Least Squares   F-statistic:                     5.993\n",
      "Date:                Fri, 02 Feb 2024   Prob (F-statistic):             0.0369\n",
      "Time:                        05:40:01   Log-Likelihood:                 25.223\n",
      "No. Observations:                  11   AIC:                            -46.45\n",
      "Df Residuals:                       9   BIC:                            -45.65\n",
      "Df Model:                           1                                         \n",
      "Covariance Type:            nonrobust                                         \n",
      "==============================================================================\n",
      "                 coef    std err          t      P>|t|      [0.025      0.975]\n",
      "------------------------------------------------------------------------------\n",
      "const          0.6789      0.214      3.169      0.011       0.194       1.163\n",
      "x1             0.0454      0.019      2.448      0.037       0.003       0.087\n",
      "==============================================================================\n",
      "Omnibus:                        0.020   Durbin-Watson:                   2.542\n",
      "Prob(Omnibus):                  0.990   Jarque-Bera (JB):                0.234\n",
      "Skew:                          -0.057   Prob(JB):                        0.890\n",
      "Kurtosis:                       2.295   Cond. No.                         306.\n",
      "==============================================================================\n",
      "\n",
      "Notes:\n",
      "[1] Standard Errors assume that the covariance matrix of the errors is correctly specified.\n"
     ]
    },
    {
     "data": {
      "image/png": "[encoded data removed]",
      "text/plain": [
       "<Figure size 432x288 with 1 Axes>"
      ]
     },
     "metadata": {
      "needs_background": "light"
     },
     "output_type": "display_data"
    }
   ],
   "source": [
    "for i in np.arange(11):\n",
    "    plt.scatter(wide_mean['PVALB'].values[i]+wide_mean['SST'].values[i], adult['H'].values[i])\n",
    "#plt.legend(['Sensory', 'Auditory', 'Motor', 'Visual', 'vPFC', 'dPFC', 'OFC', 'TEv', 'ACC', 'STC', 'IPC'])\n",
    "plt.legend(adult.region.values)\n",
    "df_x = pd.DataFrame(wide_mean['PVALB'].values+wide_mean['SST'].values)\n",
    "df_y = pd.DataFrame(adult['H'].values)\n",
    "mod = LinearRegression()\n",
    "mod_lin = mod.fit(df_x, df_y)\n",
    "y_lin_fit = mod_lin.predict(df_x)\n",
    "r2_lin = mod.score(df_x, df_y)\n",
    "plt.plot(df_x, y_lin_fit, color = '#000000', linewidth=2)\n",
    "print(r2_lin)\n",
    "X = sm.add_constant(wide_mean['PVALB'].values+wide_mean['SST'].values)\n",
    "results = sm.OLS([float(x) for x in adult['H'].values], X).fit()\n",
    "print(results.summary())\n",
    "plt.ylim([1.0,1.25])\n",
    "plt.xlim([10.7,12.2])\n",
    "#plt.savefig('../figures/Fig2_adultPV+SST.eps',  format='eps', bbox_inches='tight')"
   ]
  },
  {
   "cell_type": "code",
   "execution_count": 22,
   "id": "b884bd57",
   "metadata": {},
   "outputs": [],
   "source": [
    "wide = gene_columns.loc[[x for x in gene_columns.index if gene_columns.loc[x,'age'] in cbpd_wide], :]\n",
    "wide = wide[wide.sa>-1].sort_values('sa')\n",
    "wide = wide.groupby(['sa', 'donor_name']).mean().reset_index()\n",
    "wide_mean = wide.groupby(['sa']).mean().reset_index()\n",
    "wide_std = wide.groupby(['sa']).sem().reset_index()"
   ]
  },
  {
   "cell_type": "code",
   "execution_count": 29,
   "id": "700c8e51",
   "metadata": {},
   "outputs": [
    {
     "name": "stdout",
     "output_type": "stream",
     "text": [
      "0.4937450566779994\n",
      "                            OLS Regression Results                            \n",
      "==============================================================================\n",
      "Dep. Variable:                      y   R-squared:                       0.494\n",
      "Model:                            OLS   Adj. R-squared:                  0.437\n",
      "Method:                 Least Squares   F-statistic:                     8.778\n",
      "Date:                Fri, 02 Feb 2024   Prob (F-statistic):             0.0159\n",
      "Time:                        05:48:01   Log-Likelihood:                 29.141\n",
      "No. Observations:                  11   AIC:                            -54.28\n",
      "Df Residuals:                       9   BIC:                            -53.49\n",
      "Df Model:                           1                                         \n",
      "Covariance Type:            nonrobust                                         \n",
      "==============================================================================\n",
      "                 coef    std err          t      P>|t|      [0.025      0.975]\n",
      "------------------------------------------------------------------------------\n",
      "const          0.6551      0.150      4.367      0.002       0.316       0.994\n",
      "x1             0.0385      0.013      2.963      0.016       0.009       0.068\n",
      "==============================================================================\n",
      "Omnibus:                        0.058   Durbin-Watson:                   3.184\n",
      "Prob(Omnibus):                  0.972   Jarque-Bera (JB):                0.104\n",
      "Skew:                           0.003   Prob(JB):                        0.949\n",
      "Kurtosis:                       2.523   Cond. No.                         306.\n",
      "==============================================================================\n",
      "\n",
      "Notes:\n",
      "[1] Standard Errors assume that the covariance matrix of the errors is correctly specified.\n"
     ]
    },
    {
     "name": "stderr",
     "output_type": "stream",
     "text": [
      "/Users/monaminishio/opt/anaconda3/lib/python3.8/site-packages/scipy/stats/_stats_py.py:1736: UserWarning: kurtosistest only valid for n>=20 ... continuing anyway, n=11\n",
      "  warnings.warn(\"kurtosistest only valid for n>=20 ... continuing \"\n"
     ]
    },
    {
     "data": {
      "image/png": "[encoded data removed]",
      "text/plain": [
       "<Figure size 432x288 with 1 Axes>"
      ]
     },
     "metadata": {
      "needs_background": "light"
     },
     "output_type": "display_data"
    }
   ],
   "source": [
    "for i in np.arange(11):\n",
    "    plt.scatter(wide_mean['PVALB'].values[i]+wide_mean['SST'].values[i], child['H'].values[i])\n",
    "df_x = pd.DataFrame(wide_mean['PVALB'].values+wide_mean['SST'].values)\n",
    "df_y = pd.DataFrame(child['H'].values)\n",
    "mod = LinearRegression()\n",
    "mod_lin = mod.fit(df_x, df_y)\n",
    "y_lin_fit = mod_lin.predict(df_x)\n",
    "r2_lin = mod.score(df_x, df_y)\n",
    "plt.plot(df_x, y_lin_fit, color = '#000000', linewidth=2)\n",
    "print(r2_lin)\n",
    "X = sm.add_constant(wide_mean['PVALB'].values+wide_mean['SST'].values)\n",
    "results = sm.OLS([float(x) for x in child['H'].values], X).fit()\n",
    "print(results.summary())\n",
    "plt.ylim([1,1.25])\n",
    "plt.xlim([10.7,12.2])\n",
    "#plt.savefig('../figures/Fig2_childPV+SST.eps',  format='eps', bbox_inches='tight')"
   ]
  },
  {
   "cell_type": "code",
   "execution_count": null,
   "id": "0ef7818c",
   "metadata": {},
   "outputs": [],
   "source": []
  }
 ],
 "metadata": {
  "kernelspec": {
   "display_name": "Python 3",
   "language": "python",
   "name": "python3"
  },
  "language_info": {
   "codemirror_mode": {
    "name": "ipython",
    "version": 3
   },
   "file_extension": ".py",
   "mimetype": "text/x-python",
   "name": "python",
   "nbconvert_exporter": "python",
   "pygments_lexer": "ipython3",
   "version": "3.8.8"
  }
 },
 "nbformat": 4,
 "nbformat_minor": 5
}
