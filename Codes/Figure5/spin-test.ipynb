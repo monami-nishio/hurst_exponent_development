{
 "cells": [
  {
   "cell_type": "code",
   "execution_count": 1,
   "id": "2ded7b6f",
   "metadata": {},
   "outputs": [],
   "source": [
    "import numpy as np\n",
    "import pandas as pd\n",
    "import glob\n",
    "import os\n",
    "import statsmodels.api as sm\n",
    "from scipy.stats import ttest_1samp\n",
    "from statsmodels.stats.multitest  import fdrcorrection\n",
    "from matplotlib.collections import LineCollection\n",
    "import seaborn as sns\n",
    "import matplotlib.pyplot as plt\n",
    "from sklearn.linear_model import LinearRegression\n",
    "import statsmodels.api as sm\n",
    "import math\n",
    "from scipy.signal import savgol_filter\n",
    "from scipy.stats import spearmanr\n",
    "from scipy import stats\n",
    "import matplotlib.cm as cm\n",
    "from pygam import LinearGAM, s, f"
   ]
  },
  {
   "cell_type": "code",
   "execution_count": 2,
   "id": "f96e2afa",
   "metadata": {},
   "outputs": [
    {
     "ename": "AttributeError",
     "evalue": "module 'numpy' has no attribute 'float'.\n`np.float` was a deprecated alias for the builtin `float`. To avoid this error in existing code, use `float` by itself. Doing this will not modify any behavior and is safe. If you specifically wanted the numpy scalar type, use `np.float64` here.\nThe aliases was originally deprecated in NumPy 1.20; for more details and guidance see the original release note at:\n    https://numpy.org/devdocs/release/1.20.0-notes.html#deprecations",
     "output_type": "error",
     "traceback": [
      "\u001b[0;31m---------------------------------------------------------------------------\u001b[0m",
      "\u001b[0;31mAttributeError\u001b[0m                            Traceback (most recent call last)",
      "\u001b[0;32m<ipython-input-2-6671de746108>\u001b[0m in \u001b[0;36m<module>\u001b[0;34m\u001b[0m\n\u001b[0;32m----> 1\u001b[0;31m \u001b[0;32mfrom\u001b[0m \u001b[0menigmatoolbox\u001b[0m\u001b[0;34m.\u001b[0m\u001b[0mpermutation_testing\u001b[0m \u001b[0;32mimport\u001b[0m \u001b[0mspin_test\u001b[0m\u001b[0;34m,\u001b[0m \u001b[0mshuf_test\u001b[0m\u001b[0;34m\u001b[0m\u001b[0;34m\u001b[0m\u001b[0m\n\u001b[0m",
      "\u001b[0;32m~/opt/anaconda3/lib/python3.8/site-packages/enigmatoolbox-2.0.3-py3.8.egg/enigmatoolbox/permutation_testing/__init__.py\u001b[0m in \u001b[0;36m<module>\u001b[0;34m\u001b[0m\n\u001b[0;32m----> 1\u001b[0;31m from .permutation_testing import (spin_test, shuf_test, centroid_extraction_sphere,\n\u001b[0m\u001b[1;32m      2\u001b[0m                                   \u001b[0mrotate_parcellation\u001b[0m\u001b[0;34m,\u001b[0m \u001b[0mperm_sphere_p\u001b[0m\u001b[0;34m,\u001b[0m \u001b[0mget_subcortical_distance\u001b[0m\u001b[0;34m,\u001b[0m\u001b[0;34m\u001b[0m\u001b[0;34m\u001b[0m\u001b[0m\n\u001b[1;32m      3\u001b[0m                                   MoranRandomization)\n\u001b[1;32m      4\u001b[0m \u001b[0;34m\u001b[0m\u001b[0m\n\u001b[1;32m      5\u001b[0m __all__ = ['spin_test', 'shuf_test',\n",
      "\u001b[0;32m~/opt/anaconda3/lib/python3.8/site-packages/enigmatoolbox-2.0.3-py3.8.egg/enigmatoolbox/permutation_testing/permutation_testing.py\u001b[0m in \u001b[0;36m<module>\u001b[0;34m\u001b[0m\n\u001b[1;32m      8\u001b[0m \u001b[0;32mimport\u001b[0m \u001b[0mpandas\u001b[0m \u001b[0;32mas\u001b[0m \u001b[0mpd\u001b[0m\u001b[0;34m\u001b[0m\u001b[0;34m\u001b[0m\u001b[0m\n\u001b[1;32m      9\u001b[0m \u001b[0;32mimport\u001b[0m \u001b[0mwarnings\u001b[0m\u001b[0;34m\u001b[0m\u001b[0;34m\u001b[0m\u001b[0m\n\u001b[0;32m---> 10\u001b[0;31m \u001b[0;32mfrom\u001b[0m \u001b[0;34m.\u001b[0m\u001b[0;34m.\u001b[0m\u001b[0mdatasets\u001b[0m \u001b[0;32mimport\u001b[0m \u001b[0mload_fsa5\u001b[0m\u001b[0;34m\u001b[0m\u001b[0;34m\u001b[0m\u001b[0m\n\u001b[0m\u001b[1;32m     11\u001b[0m \u001b[0;32mfrom\u001b[0m \u001b[0msklearn\u001b[0m\u001b[0;34m.\u001b[0m\u001b[0mutils\u001b[0m \u001b[0;32mimport\u001b[0m \u001b[0mcheck_random_state\u001b[0m\u001b[0;34m\u001b[0m\u001b[0;34m\u001b[0m\u001b[0m\n\u001b[1;32m     12\u001b[0m \u001b[0;32mfrom\u001b[0m \u001b[0mscipy\u001b[0m\u001b[0;34m.\u001b[0m\u001b[0mspatial\u001b[0m\u001b[0;34m.\u001b[0m\u001b[0mdistance\u001b[0m \u001b[0;32mimport\u001b[0m \u001b[0mcdist\u001b[0m\u001b[0;34m\u001b[0m\u001b[0;34m\u001b[0m\u001b[0m\n",
      "\u001b[0;32m~/opt/anaconda3/lib/python3.8/site-packages/enigmatoolbox-2.0.3-py3.8.egg/enigmatoolbox/datasets/__init__.py\u001b[0m in \u001b[0;36m<module>\u001b[0;34m\u001b[0m\n\u001b[0;32m----> 1\u001b[0;31m from .base import (load_conte69, load_sc, load_fc, load_fsa,\n\u001b[0m\u001b[1;32m      2\u001b[0m                    \u001b[0mload_fsa5\u001b[0m\u001b[0;34m,\u001b[0m \u001b[0mload_subcortical\u001b[0m\u001b[0;34m,\u001b[0m \u001b[0mstructural_covariance\u001b[0m\u001b[0;34m,\u001b[0m\u001b[0;34m\u001b[0m\u001b[0;34m\u001b[0m\u001b[0m\n\u001b[1;32m      3\u001b[0m                    \u001b[0mfetch_ahba\u001b[0m\u001b[0;34m,\u001b[0m \u001b[0mrisk_genes\u001b[0m\u001b[0;34m,\u001b[0m \u001b[0mload_example_data\u001b[0m\u001b[0;34m,\u001b[0m\u001b[0;34m\u001b[0m\u001b[0;34m\u001b[0m\u001b[0m\n\u001b[1;32m      4\u001b[0m                    \u001b[0mload_summary_stats\u001b[0m\u001b[0;34m,\u001b[0m \u001b[0mload_fc_as_one\u001b[0m\u001b[0;34m,\u001b[0m \u001b[0mload_sc_as_one\u001b[0m\u001b[0;34m,\u001b[0m\u001b[0;34m\u001b[0m\u001b[0;34m\u001b[0m\u001b[0m\n\u001b[1;32m      5\u001b[0m                    nfaces, getaffine, load_mask, write_cifti)\n",
      "\u001b[0;32m~/opt/anaconda3/lib/python3.8/site-packages/enigmatoolbox-2.0.3-py3.8.egg/enigmatoolbox/datasets/base.py\u001b[0m in \u001b[0;36m<module>\u001b[0;34m\u001b[0m\n\u001b[1;32m      6\u001b[0m \u001b[0;32mfrom\u001b[0m \u001b[0mvtk\u001b[0m \u001b[0;32mimport\u001b[0m \u001b[0mvtkPolyDataNormals\u001b[0m\u001b[0;34m\u001b[0m\u001b[0;34m\u001b[0m\u001b[0m\n\u001b[1;32m      7\u001b[0m \u001b[0;34m\u001b[0m\u001b[0m\n\u001b[0;32m----> 8\u001b[0;31m \u001b[0;32mfrom\u001b[0m \u001b[0;34m.\u001b[0m\u001b[0;34m.\u001b[0m\u001b[0mmesh\u001b[0m\u001b[0;34m.\u001b[0m\u001b[0mmesh_io\u001b[0m \u001b[0;32mimport\u001b[0m \u001b[0mread_surface\u001b[0m\u001b[0;34m\u001b[0m\u001b[0;34m\u001b[0m\u001b[0m\n\u001b[0m\u001b[1;32m      9\u001b[0m \u001b[0;32mfrom\u001b[0m \u001b[0;34m.\u001b[0m\u001b[0;34m.\u001b[0m\u001b[0mmesh\u001b[0m\u001b[0;34m.\u001b[0m\u001b[0mmesh_operations\u001b[0m \u001b[0;32mimport\u001b[0m \u001b[0mcombine_surfaces\u001b[0m\u001b[0;34m\u001b[0m\u001b[0;34m\u001b[0m\u001b[0m\n\u001b[1;32m     10\u001b[0m \u001b[0;32mfrom\u001b[0m \u001b[0;34m.\u001b[0m\u001b[0;34m.\u001b[0m\u001b[0mvtk_interface\u001b[0m \u001b[0;32mimport\u001b[0m \u001b[0mwrap_vtk\u001b[0m\u001b[0;34m,\u001b[0m \u001b[0mserial_connect\u001b[0m\u001b[0;34m\u001b[0m\u001b[0;34m\u001b[0m\u001b[0m\n",
      "\u001b[0;32m~/opt/anaconda3/lib/python3.8/site-packages/enigmatoolbox-2.0.3-py3.8.egg/enigmatoolbox/mesh/__init__.py\u001b[0m in \u001b[0;36m<module>\u001b[0;34m\u001b[0m\n\u001b[0;32m----> 1\u001b[0;31m from . import (array_operations, mesh_elements, mesh_correspondence,\n\u001b[0m\u001b[1;32m      2\u001b[0m                mesh_creation, mesh_operations, mesh_io)\n\u001b[1;32m      3\u001b[0m \u001b[0;34m\u001b[0m\u001b[0m\n\u001b[1;32m      4\u001b[0m __all__ = ['array_operations',\n\u001b[1;32m      5\u001b[0m            \u001b[0;34m'mesh_elements'\u001b[0m\u001b[0;34m,\u001b[0m\u001b[0;34m\u001b[0m\u001b[0;34m\u001b[0m\u001b[0m\n",
      "\u001b[0;32m~/opt/anaconda3/lib/python3.8/site-packages/enigmatoolbox-2.0.3-py3.8.egg/enigmatoolbox/mesh/array_operations.py\u001b[0m in \u001b[0;36m<module>\u001b[0;34m\u001b[0m\n\u001b[1;32m     19\u001b[0m \u001b[0;34m\u001b[0m\u001b[0m\n\u001b[1;32m     20\u001b[0m \u001b[0;32mfrom\u001b[0m \u001b[0;34m.\u001b[0m \u001b[0;32mimport\u001b[0m \u001b[0mmesh_elements\u001b[0m \u001b[0;32mas\u001b[0m \u001b[0mme\u001b[0m\u001b[0;34m\u001b[0m\u001b[0;34m\u001b[0m\u001b[0m\n\u001b[0;32m---> 21\u001b[0;31m \u001b[0;32mfrom\u001b[0m \u001b[0;34m.\u001b[0m\u001b[0mmesh_operations\u001b[0m \u001b[0;32mimport\u001b[0m \u001b[0mmask_points\u001b[0m\u001b[0;34m\u001b[0m\u001b[0;34m\u001b[0m\u001b[0m\n\u001b[0m\u001b[1;32m     22\u001b[0m \u001b[0;32mfrom\u001b[0m \u001b[0;34m.\u001b[0m\u001b[0;34m.\u001b[0m\u001b[0mutils\u001b[0m\u001b[0;34m.\u001b[0m\u001b[0mparcellation\u001b[0m \u001b[0;32mimport\u001b[0m \u001b[0mmap_to_mask\u001b[0m\u001b[0;34m\u001b[0m\u001b[0;34m\u001b[0m\u001b[0m\n\u001b[1;32m     23\u001b[0m \u001b[0;32mfrom\u001b[0m \u001b[0;34m.\u001b[0m\u001b[0;34m.\u001b[0m\u001b[0mvtk_interface\u001b[0m \u001b[0;32mimport\u001b[0m \u001b[0mwrap_vtk\u001b[0m\u001b[0;34m,\u001b[0m \u001b[0mserial_connect\u001b[0m\u001b[0;34m\u001b[0m\u001b[0;34m\u001b[0m\u001b[0m\n",
      "\u001b[0;32m~/opt/anaconda3/lib/python3.8/site-packages/enigmatoolbox-2.0.3-py3.8.egg/enigmatoolbox/mesh/mesh_operations.py\u001b[0m in \u001b[0;36m<module>\u001b[0;34m\u001b[0m\n\u001b[1;32m     20\u001b[0m \u001b[0;32mfrom\u001b[0m \u001b[0;34m.\u001b[0m\u001b[0;34m.\u001b[0m\u001b[0mvtk_interface\u001b[0m\u001b[0;34m.\u001b[0m\u001b[0mpipeline\u001b[0m \u001b[0;32mimport\u001b[0m \u001b[0mconnect\u001b[0m\u001b[0;34m\u001b[0m\u001b[0;34m\u001b[0m\u001b[0m\n\u001b[1;32m     21\u001b[0m \u001b[0;32mfrom\u001b[0m \u001b[0;34m.\u001b[0m\u001b[0;34m.\u001b[0m\u001b[0mvtk_interface\u001b[0m\u001b[0;34m.\u001b[0m\u001b[0mdecorators\u001b[0m \u001b[0;32mimport\u001b[0m \u001b[0mwrap_input\u001b[0m\u001b[0;34m,\u001b[0m \u001b[0mappend_vtk\u001b[0m\u001b[0;34m\u001b[0m\u001b[0;34m\u001b[0m\u001b[0m\n\u001b[0;32m---> 22\u001b[0;31m \u001b[0;32mfrom\u001b[0m \u001b[0;34m.\u001b[0m\u001b[0;34m.\u001b[0m\u001b[0mutils\u001b[0m\u001b[0;34m.\u001b[0m\u001b[0mparcellation\u001b[0m \u001b[0;32mimport\u001b[0m \u001b[0mrelabel_consecutive\u001b[0m\u001b[0;34m,\u001b[0m \u001b[0mmap_to_mask\u001b[0m\u001b[0;34m\u001b[0m\u001b[0;34m\u001b[0m\u001b[0m\n\u001b[0m\u001b[1;32m     23\u001b[0m \u001b[0;34m\u001b[0m\u001b[0m\n\u001b[1;32m     24\u001b[0m \u001b[0mASSOC_CELLS\u001b[0m \u001b[0;34m=\u001b[0m \u001b[0mvtkDataObject\u001b[0m\u001b[0;34m.\u001b[0m\u001b[0mFIELD_ASSOCIATION_CELLS\u001b[0m\u001b[0;34m\u001b[0m\u001b[0;34m\u001b[0m\u001b[0m\n",
      "\u001b[0;32m~/opt/anaconda3/lib/python3.8/site-packages/enigmatoolbox-2.0.3-py3.8.egg/enigmatoolbox/utils/__init__.py\u001b[0m in \u001b[0;36m<module>\u001b[0;34m\u001b[0m\n\u001b[0;32m----> 1\u001b[0;31m \u001b[0;32mfrom\u001b[0m \u001b[0;34m.\u001b[0m\u001b[0mparcellation\u001b[0m \u001b[0;32mimport\u001b[0m \u001b[0;34m(\u001b[0m\u001b[0mrelabel_consecutive\u001b[0m\u001b[0;34m,\u001b[0m \u001b[0mparcel_to_surface\u001b[0m\u001b[0;34m,\u001b[0m \u001b[0msurface_to_parcel\u001b[0m\u001b[0;34m,\u001b[0m \u001b[0msubcorticalvertices\u001b[0m\u001b[0;34m)\u001b[0m\u001b[0;34m\u001b[0m\u001b[0;34m\u001b[0m\u001b[0m\n\u001b[0m\u001b[1;32m      2\u001b[0m \u001b[0;32mfrom\u001b[0m \u001b[0;34m.\u001b[0m\u001b[0museful\u001b[0m \u001b[0;32mimport\u001b[0m \u001b[0;34m(\u001b[0m\u001b[0mzscore_matrix\u001b[0m\u001b[0;34m,\u001b[0m \u001b[0mreorder_sctx\u001b[0m\u001b[0;34m)\u001b[0m\u001b[0;34m\u001b[0m\u001b[0;34m\u001b[0m\u001b[0m\n\u001b[1;32m      3\u001b[0m \u001b[0;34m\u001b[0m\u001b[0m\n\u001b[1;32m      4\u001b[0m __all__ = ['relabel_consecutive',\n\u001b[1;32m      5\u001b[0m            \u001b[0;34m'parcel_to_surface'\u001b[0m\u001b[0;34m,\u001b[0m\u001b[0;34m\u001b[0m\u001b[0;34m\u001b[0m\u001b[0m\n",
      "\u001b[0;32m~/opt/anaconda3/lib/python3.8/site-packages/enigmatoolbox-2.0.3-py3.8.egg/enigmatoolbox/utils/parcellation.py\u001b[0m in \u001b[0;36m<module>\u001b[0;34m\u001b[0m\n\u001b[1;32m    268\u001b[0m \u001b[0;34m\u001b[0m\u001b[0m\n\u001b[1;32m    269\u001b[0m def surface_to_parcel(values, labels, weights=None, target_labels=None,\n\u001b[0;32m--> 270\u001b[0;31m                      red_op='mean', axis=0, dtype=np.float):\n\u001b[0m\u001b[1;32m    271\u001b[0m     \"\"\"Summarize data in `values` according to `labels` (author: @OualidBenkarim)\n\u001b[1;32m    272\u001b[0m \u001b[0;34m\u001b[0m\u001b[0m\n",
      "\u001b[0;32m~/opt/anaconda3/lib/python3.8/site-packages/numpy/__init__.py\u001b[0m in \u001b[0;36m__getattr__\u001b[0;34m(attr)\u001b[0m\n\u001b[1;32m    303\u001b[0m \u001b[0;34m\u001b[0m\u001b[0m\n\u001b[1;32m    304\u001b[0m         \u001b[0;32mif\u001b[0m \u001b[0mattr\u001b[0m \u001b[0;32min\u001b[0m \u001b[0m__former_attrs__\u001b[0m\u001b[0;34m:\u001b[0m\u001b[0;34m\u001b[0m\u001b[0;34m\u001b[0m\u001b[0m\n\u001b[0;32m--> 305\u001b[0;31m             \u001b[0;32mraise\u001b[0m \u001b[0mAttributeError\u001b[0m\u001b[0;34m(\u001b[0m\u001b[0m__former_attrs__\u001b[0m\u001b[0;34m[\u001b[0m\u001b[0mattr\u001b[0m\u001b[0;34m]\u001b[0m\u001b[0;34m)\u001b[0m\u001b[0;34m\u001b[0m\u001b[0;34m\u001b[0m\u001b[0m\n\u001b[0m\u001b[1;32m    306\u001b[0m \u001b[0;34m\u001b[0m\u001b[0m\n\u001b[1;32m    307\u001b[0m         \u001b[0;31m# Importing Tester requires importing all of UnitTest which is not a\u001b[0m\u001b[0;34m\u001b[0m\u001b[0;34m\u001b[0m\u001b[0;34m\u001b[0m\u001b[0m\n",
      "\u001b[0;31mAttributeError\u001b[0m: module 'numpy' has no attribute 'float'.\n`np.float` was a deprecated alias for the builtin `float`. To avoid this error in existing code, use `float` by itself. Doing this will not modify any behavior and is safe. If you specifically wanted the numpy scalar type, use `np.float64` here.\nThe aliases was originally deprecated in NumPy 1.20; for more details and guidance see the original release note at:\n    https://numpy.org/devdocs/release/1.20.0-notes.html#deprecations"
     ]
    }
   ],
   "source": [
    "from enigmatoolbox.permutation_testing import spin_test, shuf_test"
   ]
  },
  {
   "cell_type": "code",
   "execution_count": null,
   "id": "124dddad",
   "metadata": {},
   "outputs": [],
   "source": [
    "# spin-testが必要なのは、parcel-level指標同士を比較する場合だけ"
   ]
  },
  {
   "cell_type": "code",
   "execution_count": null,
   "id": "f9c88d03",
   "metadata": {},
   "outputs": [],
   "source": [
    "SAaxis = pd.read_csv('../../Modules/human/Sensorimotor_Association_Axis_AverageRanks.csv')"
   ]
  },
  {
   "cell_type": "code",
   "execution_count": null,
   "id": "29f43f4e",
   "metadata": {},
   "outputs": [],
   "source": [
    "indv = pd.read_csv('../../Derivatives/childhood/indv.csv')\n",
    "concat_adult  = pd.read_csv('../../Derivatives/adult/original.csv')\n",
    "concat_child  = pd.read_csv('../../Derivatives/childhood/original.csv')"
   ]
  },
  {
   "cell_type": "code",
   "execution_count": null,
   "id": "6ea87805",
   "metadata": {},
   "outputs": [],
   "source": [
    "#Figure5C\n",
    "print(spearmanr(indv.part, indv.H))\n",
    "fc_ctx_p, fc_ctx_d = spin_test(indv.part, indv.H, surface_name='fsa5', parcellation_name='aparc',type='spearman', n_rot=10000, null_dist=True)\n",
    "print(fc_ctx_p)"
   ]
  },
  {
   "cell_type": "code",
   "execution_count": null,
   "id": "5488c6ac",
   "metadata": {},
   "outputs": [],
   "source": [
    "# Figure5D\n",
    "print(spearmanr(concat_child.part, concat_child.H))\n",
    "fc_ctx_p, fc_ctx_d = spin_test(concat_child.part, conca_childt.H, surface_name='fsa5', parcellation_name='aparc',type='spearman', n_rot=10000, null_dist=True)\n",
    "print(fc_ctx_p)"
   ]
  },
  {
   "cell_type": "code",
   "execution_count": null,
   "id": "c07fa328",
   "metadata": {},
   "outputs": [],
   "source": [
    "# Figure5D\n",
    "print(spearmanr(concat_adult.part, concat_adult.H))\n",
    "fc_ctx_p, fc_ctx_d = spin_test(concat_adult.part, conca_childt.H, surface_name='fsa5', parcellation_name='aparc',type='spearman', n_rot=10000, null_dist=True)\n",
    "print(fc_ctx_p)"
   ]
  },
  {
   "cell_type": "code",
   "execution_count": null,
   "id": "03ead5bc",
   "metadata": {},
   "outputs": [],
   "source": []
  }
 ],
 "metadata": {
  "kernelspec": {
   "display_name": "Python 3 (ipykernel)",
   "language": "python",
   "name": "python3"
  },
  "language_info": {
   "codemirror_mode": {
    "name": "ipython",
    "version": 3
   },
   "file_extension": ".py",
   "mimetype": "text/x-python",
   "name": "python",
   "nbconvert_exporter": "python",
   "pygments_lexer": "ipython3",
   "version": "3.9.16"
  }
 },
 "nbformat": 4,
 "nbformat_minor": 5
}
