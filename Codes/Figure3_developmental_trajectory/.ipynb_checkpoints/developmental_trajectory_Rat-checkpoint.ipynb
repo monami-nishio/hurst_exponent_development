{
 "cells": [
  {
   "cell_type": "code",
   "execution_count": 1,
   "id": "72f9b05b",
   "metadata": {},
   "outputs": [],
   "source": [
    "from nilearn.maskers import NiftiMasker, NiftiLabelsMasker\n",
    "from nilearn.image import load_img\n",
    "from nilearn.connectome import ConnectivityMeasure\n",
    "from nilearn import plotting\n",
    "import pandas as pd\n",
    "import numpy as np\n",
    "import matplotlib.pyplot as plt\n",
    "from nilearn import datasets, image\n",
    "from nilearn.maskers import NiftiMasker, NiftiLabelsMasker\n",
    "from nilearn.image import load_img\n",
    "from nilearn.surface import vol_to_surf, load_surf_mesh\n",
    "from nilearn.connectome import ConnectivityMeasure\n",
    "from nilearn import plotting\n",
    "import seaborn as sns\n",
    "from nilearn import datasets, image\n",
    "from scipy import stats\n",
    "import nibabel as nib\n",
    "import statsmodels.api as sm\n",
    "import glob\n",
    "import os\n",
    "from pygam import LinearGAM, s, f, GAM\n",
    "from sklearn.linear_model import LinearRegression\n",
    "import seaborn as sns\n",
    "from statsmodels.stats.multitest  import fdrcorrection"
   ]
  },
  {
   "cell_type": "code",
   "execution_count": 2,
   "id": "94e968df",
   "metadata": {},
   "outputs": [],
   "source": [
    "anatomical = pd.read_csv('../../Dataset/rat/SIGMA_InVivo_Anatomical_Brain_Atlas_Labels.txt', sep='\\t')\n",
    "anatmap = pd.read_csv('../../Dataset/rat/SIGMA_InVivo_Anatomical_Brain_Atlas_ListOfStructures.csv')\n",
    "left_anatmap = anatmap.loc[:, ['Left Hemisphere Label', 'Matter', 'Territories', 'System', 'Region of interest']] \n",
    "right_anatmap = anatmap.loc[:, ['Right Hemisphere Label', 'Matter', 'Territories', 'System', 'Region of interest']]\n",
    "left_anatmap.columns = ['Label', 'Matter', 'Territories', 'System', 'Region of interest']\n",
    "right_anatmap.columns = ['Label', 'Matter', 'Territories', 'System', 'Region of interest']\n",
    "anatmap = pd.concat([left_anatmap, right_anatmap])\n",
    "anatomical = pd.merge(anatomical, anatmap, left_on='0', right_on='Label')\n",
    "anatomical = anatomical.sort_values('Label').reset_index(drop=True)\n",
    "anatomical = anatomical[anatomical.System!='CSF']\n",
    "age = pd.read_csv('../../Dataset/rat/standardRat_20220408.tsv', sep='\\t')\n",
    "H_anat = pd.read_csv('../../Derivatives/rat/H.csv')"
   ]
  },
  {
   "cell_type": "code",
   "execution_count": 3,
   "id": "66d55830",
   "metadata": {},
   "outputs": [],
   "source": [
    "regions = ['Primary Somatosensory Cortex Jaw', 'Primary Visual Cortex', 'Primary Auditory Cortex', 'Primary Somatosensory Cortex Upperlips', \n",
    "           'Primary Somatosensory Cortex Barrel field', 'Primary Somatosensory Cortex Forelimb',  'Primary Somatosensory Cortex Hindlimb',\n",
    "           'Secondary Somatosensory Cortex', 'Temporal Associative Cortex', 'Ectorhinal Cortex', 'Perirhinal Cortex', 'Agranular Insular Cortex', 'Primary Motor Cortex',\n",
    "           'Retrosplenial Granular Cortex Part A',  'Retrosplenial Granular Cortex Part B',  'Secondary Motor Cortex', 'Primary Cingular Cortex',  'PreLimbic System']\n",
    "group = ['SSp-n', 'VISp', 'Audp', 'SSp-m', 'SSp-bfd', 'SSp-ul', 'SSp-II', 'SSs', 'TEa', 'ECT', 'PERI', 'AI', 'MOp', 'RSP', 'RSP', 'MOs', 'ACA', 'PL']"
   ]
  },
  {
   "cell_type": "code",
   "execution_count": 4,
   "id": "b8d56f32",
   "metadata": {},
   "outputs": [],
   "source": [
    "saaxis = pd.DataFrame(['SSp-n', 'VISp', 'Audp', 'SSp-m', 'SSp-bfd', 'SSp-ul', 'SSp-II', 'SSs', 'TEa', 'ECT', 'PERI', 'AI', 'MOp', 'RSP', 'MOs', 'ACA', 'PL'])\n",
    "saaxis.columns = ['region']\n",
    "saaxis['sa']  =np.arange(saaxis.shape[0])\n",
    "sa = []\n",
    "for x in anatomical['Region of interest']:\n",
    "    ids = 0\n",
    "    for i,y in enumerate(regions):\n",
    "        if x == y:\n",
    "            sa.append(saaxis[saaxis.region==group[i]].sa.values[0])\n",
    "            ids += 1\n",
    "    if ids == 0:\n",
    "        sa.append(-1)"
   ]
  },
  {
   "cell_type": "code",
   "execution_count": 5,
   "id": "dddba581",
   "metadata": {},
   "outputs": [],
   "source": [
    "H_anat['SubjID'] = [x.replace('_t','') for x in H_anat['H_all233']]\n",
    "H_anat = pd.merge(H_anat, age, on='SubjID')\n",
    "Age = H_anat.Age\n",
    "Sex = H_anat.Sex"
   ]
  },
  {
   "cell_type": "code",
   "execution_count": 6,
   "id": "6bc5145a",
   "metadata": {},
   "outputs": [],
   "source": [
    "H_anat = H_anat.iloc[:, :232].T\n",
    "H_anat['sa'] = sa\n",
    "H_anat = H_anat[H_anat.sa>-1]"
   ]
  },
  {
   "cell_type": "code",
   "execution_count": 8,
   "id": "4fb8d5d7",
   "metadata": {},
   "outputs": [],
   "source": [
    "df_H = H_anat.sort_values('sa').T.iloc[:-1, :]\n",
    "df_H['Age'] = Age\n",
    "df_H['Sex'] =Sex\n",
    "df_H.to_csv('../../Derivatives/rat/H_whole_agerange.csv', index=False)\n",
    "df_H = df_H[df_H.Age>0]\n",
    "df_H = df_H[df_H.Age<4].reset_index(drop=True)\n",
    "df_H.to_csv('../../Derivatives/rat/H_age.csv', index=False)"
   ]
  },
  {
   "cell_type": "code",
   "execution_count": 9,
   "id": "8414a16b",
   "metadata": {},
   "outputs": [],
   "source": [
    "H_anat['sa_bin'] = [int(x/6)+1 for x in H_anat.sa]\n",
    "pd.DataFrame(H_anat.loc[:, ['sa', 'sa_bin']]).to_csv('../../Derivatives/rat/sa.csv', index=False)\n",
    "df_H['mean'] = df_H.iloc[:, :-2].mean(axis=1)\n",
    "df_H = df_H[df_H.Age<2.9]\n",
    "H_anat= H_anat.sort_values('sa')\n",
    "H_anat = H_anat.groupby('sa').mean().reset_index(drop=True)\n",
    "df = H_anat.T.iloc[:-2, :]\n",
    "df['age'] = age.Age"
   ]
  },
  {
   "cell_type": "code",
   "execution_count": 10,
   "id": "f3d12ffb",
   "metadata": {},
   "outputs": [],
   "source": [
    "df_all = pd.DataFrame([H_anat.iloc[[0,1,2,3,4,5,6,7,12,14], :].mean(), H_anat.iloc[[8,9,10,11,13,15,16], :].mean()]) # H_anat.iloc[[12,14], :].mean(),\n",
    "df_all = df_all.T.iloc[:-1, :]\n",
    "df_all['age'] = Age\n",
    "df_all = df_all[df_all.age<4.5]\n",
    "df_mean = df_all.groupby('age').mean().reset_index()\n",
    "df_std = df_all.groupby('age').std().reset_index()/2"
   ]
  },
  {
   "cell_type": "code",
   "execution_count": 11,
   "id": "4e97dc4f",
   "metadata": {},
   "outputs": [
    {
     "data": {
      "text/plain": [
       "<ErrorbarContainer object of 3 artists>"
      ]
     },
     "execution_count": 11,
     "metadata": {},
     "output_type": "execute_result"
    },
    {
     "data": {
      "image/png": "[encoded data removed]",
      "text/plain": [
       "<Figure size 432x288 with 1 Axes>"
      ]
     },
     "metadata": {
      "needs_background": "light"
     },
     "output_type": "display_data"
    }
   ],
   "source": [
    "plt.errorbar(df_mean.age, df_mean[0], yerr=df_std[0])\n",
    "plt.errorbar(df_mean.age, df_mean[1], yerr=df_std[1])\n",
    "#plt.savefig('shorter_rat.eps')"
   ]
  },
  {
   "cell_type": "code",
   "execution_count": 12,
   "id": "9e3a21bb",
   "metadata": {},
   "outputs": [
    {
     "name": "stdout",
     "output_type": "stream",
     "text": [
      "F_onewayResult(statistic=3.3031126449249375, pvalue=0.004546707464496445)\n",
      "Tukey's HSD Pairwise Group Comparisons (95.0% Confidence Interval)\n",
      "Comparison  Statistic  p-value  Lower CI  Upper CI\n",
      " (0 - 1)     -0.032     0.019    -0.060    -0.003\n",
      " (0 - 2)     -0.028     0.003    -0.050    -0.006\n",
      " (0 - 3)     -0.020     0.215    -0.044     0.005\n",
      " (0 - 4)     -0.028     0.427    -0.070     0.014\n",
      " (0 - 5)     -0.023     0.149    -0.049     0.004\n",
      " (0 - 6)     -0.016     0.442    -0.041     0.009\n",
      " (1 - 0)      0.032     0.019     0.003     0.060\n",
      " (1 - 2)      0.004     0.999    -0.018     0.025\n",
      " (1 - 3)      0.012     0.763    -0.013     0.037\n",
      " (1 - 4)      0.004     1.000    -0.038     0.046\n",
      " (1 - 5)      0.009     0.941    -0.017     0.036\n",
      " (1 - 6)      0.016     0.494    -0.009     0.040\n",
      " (2 - 0)      0.028     0.003     0.006     0.050\n",
      " (2 - 1)     -0.004     0.999    -0.025     0.018\n",
      " (2 - 3)      0.008     0.716    -0.008     0.025\n",
      " (2 - 4)      0.000     1.000    -0.038     0.038\n",
      " (2 - 5)      0.006     0.975    -0.013     0.024\n",
      " (2 - 6)      0.012     0.313    -0.004     0.028\n",
      " (3 - 0)      0.020     0.215    -0.005     0.044\n",
      " (3 - 1)     -0.012     0.763    -0.037     0.013\n",
      " (3 - 2)     -0.008     0.716    -0.025     0.008\n",
      " (3 - 4)     -0.008     0.996    -0.048     0.031\n",
      " (3 - 5)     -0.003     1.000    -0.025     0.019\n",
      " (3 - 6)      0.003     0.999    -0.017     0.024\n",
      " (4 - 0)      0.028     0.427    -0.014     0.070\n",
      " (4 - 1)     -0.004     1.000    -0.046     0.038\n",
      " (4 - 2)     -0.000     1.000    -0.038     0.038\n",
      " (4 - 3)      0.008     0.996    -0.031     0.048\n",
      " (4 - 5)      0.005     1.000    -0.035     0.046\n",
      " (4 - 6)      0.012     0.974    -0.028     0.051\n",
      " (5 - 0)      0.023     0.149    -0.004     0.049\n",
      " (5 - 1)     -0.009     0.941    -0.036     0.017\n",
      " (5 - 2)     -0.006     0.975    -0.024     0.013\n",
      " (5 - 3)      0.003     1.000    -0.019     0.025\n",
      " (5 - 4)     -0.005     1.000    -0.046     0.035\n",
      " (5 - 6)      0.006     0.979    -0.016     0.029\n",
      " (6 - 0)      0.016     0.442    -0.009     0.041\n",
      " (6 - 1)     -0.016     0.494    -0.040     0.009\n",
      " (6 - 2)     -0.012     0.313    -0.028     0.004\n",
      " (6 - 3)     -0.003     0.999    -0.024     0.017\n",
      " (6 - 4)     -0.012     0.974    -0.051     0.028\n",
      " (6 - 5)     -0.006     0.979    -0.029     0.016\n",
      "\n",
      "F_onewayResult(statistic=1.9553030049488007, pvalue=0.0762040781051881)\n",
      "Tukey's HSD Pairwise Group Comparisons (95.0% Confidence Interval)\n",
      "Comparison  Statistic  p-value  Lower CI  Upper CI\n",
      " (0 - 1)     -0.023     0.117    -0.049     0.003\n",
      " (0 - 2)     -0.017     0.144    -0.036     0.003\n",
      " (0 - 3)     -0.014     0.485    -0.037     0.008\n",
      " (0 - 4)     -0.013     0.942    -0.051     0.025\n",
      " (0 - 5)     -0.013     0.651    -0.037     0.011\n",
      " (0 - 6)     -0.007     0.973    -0.029     0.016\n",
      " (1 - 0)      0.023     0.117    -0.003     0.049\n",
      " (1 - 2)      0.006     0.964    -0.013     0.026\n",
      " (1 - 3)      0.009     0.903    -0.014     0.031\n",
      " (1 - 4)      0.010     0.988    -0.028     0.048\n",
      " (1 - 5)      0.010     0.883    -0.014     0.034\n",
      " (1 - 6)      0.016     0.314    -0.006     0.039\n",
      " (2 - 0)      0.017     0.144    -0.003     0.036\n",
      " (2 - 1)     -0.006     0.964    -0.026     0.013\n",
      " (2 - 3)      0.003     0.998    -0.012     0.017\n",
      " (2 - 4)      0.004     1.000    -0.031     0.038\n",
      " (2 - 5)      0.004     0.995    -0.013     0.021\n",
      " (2 - 6)      0.010     0.384    -0.005     0.025\n",
      " (3 - 0)      0.014     0.485    -0.008     0.037\n",
      " (3 - 1)     -0.009     0.903    -0.031     0.014\n",
      " (3 - 2)     -0.003     0.998    -0.017     0.012\n",
      " (3 - 4)      0.001     1.000    -0.035     0.037\n",
      " (3 - 5)      0.001     1.000    -0.019     0.021\n",
      " (3 - 6)      0.008     0.881    -0.011     0.026\n",
      " (4 - 0)      0.013     0.942    -0.025     0.051\n",
      " (4 - 1)     -0.010     0.988    -0.048     0.028\n",
      " (4 - 2)     -0.004     1.000    -0.038     0.031\n",
      " (4 - 3)     -0.001     1.000    -0.037     0.035\n",
      " (4 - 5)      0.000     1.000    -0.037     0.037\n",
      " (4 - 6)      0.007     0.998    -0.029     0.042\n",
      " (5 - 0)      0.013     0.651    -0.011     0.037\n",
      " (5 - 1)     -0.010     0.883    -0.034     0.014\n",
      " (5 - 2)     -0.004     0.995    -0.021     0.013\n",
      " (5 - 3)     -0.001     1.000    -0.021     0.019\n",
      " (5 - 4)     -0.000     1.000    -0.037     0.037\n",
      " (5 - 6)      0.007     0.961    -0.014     0.027\n",
      " (6 - 0)      0.007     0.973    -0.016     0.029\n",
      " (6 - 1)     -0.016     0.314    -0.039     0.006\n",
      " (6 - 2)     -0.010     0.384    -0.025     0.005\n",
      " (6 - 3)     -0.008     0.881    -0.026     0.011\n",
      " (6 - 4)     -0.007     0.998    -0.042     0.029\n",
      " (6 - 5)     -0.007     0.961    -0.027     0.014\n",
      "\n"
     ]
    }
   ],
   "source": [
    "for i in np.arange(2):\n",
    "    print(stats.f_oneway(df_all[df_all.age==1][i], df_all[df_all.age==1.5][i], df_all[df_all.age==2.0][i], df_all[df_all.age==2.5][i],df_all[df_all.age==2.9][i], df_all[df_all.age==3.0][i], df_all[df_all.age==4.0][i]))\n",
    "    print(stats.tukey_hsd(df_all[df_all.age==1][i], df_all[df_all.age==1.5][i], df_all[df_all.age==2.0][i], df_all[df_all.age==2.5][i],df_all[df_all.age==2.9][i], df_all[df_all.age==3.0][i], df_all[df_all.age==4.0][i]))"
   ]
  }
 ],
 "metadata": {
  "kernelspec": {
   "display_name": "Python 3",
   "language": "python",
   "name": "python3"
  },
  "language_info": {
   "codemirror_mode": {
    "name": "ipython",
    "version": 3
   },
   "file_extension": ".py",
   "mimetype": "text/x-python",
   "name": "python",
   "nbconvert_exporter": "python",
   "pygments_lexer": "ipython3",
   "version": "3.8.8"
  }
 },
 "nbformat": 4,
 "nbformat_minor": 5
}
