{
 "cells": [
  {
   "cell_type": "code",
   "execution_count": 1,
   "id": "72f9b05b",
   "metadata": {},
   "outputs": [],
   "source": [
    "from nilearn.maskers import NiftiMasker, NiftiLabelsMasker\n",
    "from nilearn.image import load_img\n",
    "from nilearn.connectome import ConnectivityMeasure\n",
    "from nilearn import plotting\n",
    "import pandas as pd\n",
    "import numpy as np\n",
    "import matplotlib.pyplot as plt\n",
    "from nilearn import datasets, image\n",
    "from nilearn.maskers import NiftiMasker, NiftiLabelsMasker\n",
    "from nilearn.image import load_img\n",
    "from nilearn.surface import vol_to_surf, load_surf_mesh\n",
    "from nilearn.connectome import ConnectivityMeasure\n",
    "from nilearn import plotting\n",
    "import seaborn as sns\n",
    "from nilearn import datasets, image\n",
    "from scipy import stats\n",
    "import nibabel as nib\n",
    "import statsmodels.api as sm\n",
    "import glob\n",
    "import os\n",
    "from pygam import LinearGAM, s, f, GAM\n",
    "from sklearn.linear_model import LinearRegression\n",
    "import seaborn as sns\n",
    "from statsmodels.stats.multitest  import fdrcorrection\n",
    "from enigmatoolbox.permutation_testing import spin_test, shuf_test"
   ]
  },
  {
   "cell_type": "code",
   "execution_count": 2,
   "id": "94e968df",
   "metadata": {},
   "outputs": [],
   "source": [
    "anatomical = pd.read_csv('../../Modules/mouse/SIGMA_InVivo_Anatomical_Brain_Atlas_Labels.txt', sep='\\t')\n",
    "anatmap = pd.read_csv('../../Modules/mouse/SIGMA_InVivo_Anatomical_Brain_Atlas_ListOfStructures.csv')\n",
    "left_anatmap = anatmap.loc[:, ['Left Hemisphere Label', 'Matter', 'Territories', 'System', 'Region of interest']] \n",
    "right_anatmap = anatmap.loc[:, ['Right Hemisphere Label', 'Matter', 'Territories', 'System', 'Region of interest']]\n",
    "left_anatmap.columns = ['Label', 'Matter', 'Territories', 'System', 'Region of interest']\n",
    "right_anatmap.columns = ['Label', 'Matter', 'Territories', 'System', 'Region of interest']\n",
    "anatmap = pd.concat([left_anatmap, right_anatmap])\n",
    "anatomical = pd.merge(anatomical, anatmap, left_on='0', right_on='Label')\n",
    "anatomical = anatomical.sort_values('Label').reset_index(drop=True)\n",
    "anatomical = anatomical[anatomical.System!='CSF']\n",
    "age = pd.read_csv('../../Modules/mouse/standardRat_20220408.tsv', sep='\\t')\n",
    "H_anat = pd.read_csv('../../Derivatives/mouse/H.csv')"
   ]
  },
  {
   "cell_type": "code",
   "execution_count": 3,
   "id": "66d55830",
   "metadata": {},
   "outputs": [],
   "source": [
    "regions = ['Primary Visual Cortex', 'Primary Auditory Cortex',\n",
    "           'Lateral Primary Auditory Cortex',  'Primary Somatosensory Cortex Barrel field', 'Primary Somatosensory Cortex Hindlimb',\n",
    "           'Primary Somatosensory Cortex Jaw', 'Primary Somatosensory Cortex Forelimb', 'Primary Somatosensory Cortex Trunk', 'Secondary Somatosensory Cortex', \n",
    "           'Primary Motor Cortex', 'Secondary Motor Cortex', 'Lateral Parietal Associative Cortex', 'Medial Parietal Associative Cortex', 'PreLimbic System','Orbitofrontal Region',\n",
    "           'Dorso Lateral Orbital Cortex', 'Temporal Associative Cortex', 'Primary Cingular Cortex',  'Retrosplenial Granular Cortex Part A',\n",
    "           'Retrosplenial Granular Cortex Part B', 'Perirhinal Cortex']\n",
    "group = ['Visual', 'Auditory','Auditory','S1','S1','S1','S1','S1','S2','M1','M2','Parietal','Parietal','PL','OFC','OFC', 'IT','ACC','Retro','Retro', 'Peri']"
   ]
  },
  {
   "cell_type": "code",
   "execution_count": 4,
   "id": "b8d56f32",
   "metadata": {},
   "outputs": [],
   "source": [
    "saaxis = pd.DataFrame(np.unique(group))\n",
    "saaxis.columns = ['region']\n",
    "#saaxis['sa']  = [10,2,9,7,8,12,6,11,5,3,4,1]\n",
    "saaxis['sa']  = [11,2,10,7,8,9,13,6,12,5,3,4,1]\n",
    "sa = []\n",
    "for x in anatomical['Region of interest']:\n",
    "    ids = 0\n",
    "    for i,y in enumerate(regions):\n",
    "        if x == y:\n",
    "            sa.append(saaxis[saaxis.region==group[i]].sa.values[0])\n",
    "            ids += 1\n",
    "    if ids == 0:\n",
    "        sa.append(-1)"
   ]
  },
  {
   "cell_type": "code",
   "execution_count": 5,
   "id": "dddba581",
   "metadata": {},
   "outputs": [],
   "source": [
    "H_anat['SubjID'] = [x.replace('_t','') for x in H_anat['H_all233']]\n",
    "H_anat = pd.merge(H_anat, age, on='SubjID')\n",
    "Age = H_anat.Age\n",
    "Sex = H_anat.Sex"
   ]
  },
  {
   "cell_type": "code",
   "execution_count": 6,
   "id": "6bc5145a",
   "metadata": {},
   "outputs": [],
   "source": [
    "H_anat = H_anat.iloc[:, :232].T\n",
    "H_anat['sa'] = sa\n",
    "H_anat = H_anat[H_anat.sa>-1]"
   ]
  },
  {
   "cell_type": "code",
   "execution_count": 7,
   "id": "4fb8d5d7",
   "metadata": {},
   "outputs": [],
   "source": [
    "df_H = H_anat.sort_values('sa').T.iloc[:-1, :]"
   ]
  },
  {
   "cell_type": "code",
   "execution_count": 8,
   "id": "2569e20b",
   "metadata": {},
   "outputs": [],
   "source": [
    "df_H['Age'] = Age\n",
    "df_H['Sex'] =Sex\n",
    "df_H = df_H[df_H.Age>0]\n",
    "df_H = df_H[df_H.Age<4].reset_index(drop=True)\n",
    "df_H.to_csv('H_age.csv', index=False)"
   ]
  },
  {
   "cell_type": "code",
   "execution_count": 9,
   "id": "6658876b",
   "metadata": {},
   "outputs": [],
   "source": [
    "df_H = H_anat.sort_values('sa').groupby('sa').mean().reset_index().T.iloc[1:,:]\n",
    "df_H['Age'] = Age\n",
    "df_H['Sex'] =Sex\n",
    "df_H = df_H[df_H.Age>0]\n",
    "df_H = df_H[df_H.Age<4].reset_index(drop=True)\n",
    "df_H.to_csv('H_age_mean.csv', index=False)\n",
    "H_anat.sort_values('sa').sa.to_csv('sa.csv', index=False)"
   ]
  },
  {
   "cell_type": "code",
   "execution_count": 10,
   "id": "48cc7073",
   "metadata": {},
   "outputs": [],
   "source": [
    "regions_id = []\n",
    "for i, x in enumerate(anatomical['Region of interest']):\n",
    "    if x in regions:\n",
    "        regions_id.append(i)"
   ]
  },
  {
   "cell_type": "code",
   "execution_count": 11,
   "id": "f2764fba",
   "metadata": {},
   "outputs": [],
   "source": [
    "df_ind = pd.DataFrame(anatomical['Region of interest'].values)\n",
    "df_ind.columns = ['Region of interest']\n",
    "df_ind['roi'] = np.zeros(df_ind.shape[0])\n",
    "for j,region in enumerate(regions):\n",
    "    reind = []\n",
    "    for x in anatomical['Region of interest'].unique():\n",
    "        if region in x:\n",
    "            df_ind.loc[df_ind['Region of interest']==x, 'roi'] = j+1"
   ]
  },
  {
   "cell_type": "code",
   "execution_count": 12,
   "id": "a7976b9d",
   "metadata": {},
   "outputs": [],
   "source": [
    "H_anat = H_anat.iloc[:, regions_id]"
   ]
  },
  {
   "cell_type": "code",
   "execution_count": 13,
   "id": "6564cb36",
   "metadata": {},
   "outputs": [],
   "source": [
    "anatomical = anatomical.iloc[regions_id, :].reset_index(drop=True)\n",
    "anatomical['H'] = H_anat.mean().values\n",
    "anatomical['Hsd'] = H_anat.sem().values"
   ]
  },
  {
   "cell_type": "code",
   "execution_count": 14,
   "id": "19c890ce",
   "metadata": {},
   "outputs": [
    {
     "name": "stdout",
     "output_type": "stream",
     "text": [
      "(2, 15)\n",
      "(2, 15)\n",
      "(2, 15)\n",
      "(2, 15)\n",
      "(2, 15)\n",
      "(2, 15)\n",
      "(2, 15)\n",
      "(2, 15)\n",
      "(2, 15)\n",
      "(2, 15)\n",
      "(2, 15)\n",
      "(2, 15)\n",
      "(2, 15)\n",
      "(2, 15)\n",
      "(2, 15)\n",
      "(2, 15)\n",
      "(2, 15)\n",
      "(2, 15)\n",
      "(2, 15)\n",
      "(2, 15)\n",
      "(2, 15)\n"
     ]
    }
   ],
   "source": [
    "df = pd.DataFrame()\n",
    "groups = []\n",
    "for x,y in zip(regions,group):\n",
    "    #rois = []\n",
    "    #for roi in anatomical['Region of interest'].unique():\n",
    "    #    if x in roi:\n",
    "    #        rois.append(roi)\n",
    "    #for roi in rois:\n",
    "    df = pd.concat([df, anatomical[anatomical['Region of interest']==x]])\n",
    "    print(anatomical[anatomical['Region of interest']==x].shape)\n",
    "    groups += list(np.repeat(y, anatomical[anatomical['Region of interest']==x].shape[0]))\n",
    "df = df.reset_index(drop=True)\n",
    "df['group'] = groups"
   ]
  },
  {
   "cell_type": "code",
   "execution_count": 15,
   "id": "8b5735c7",
   "metadata": {
    "scrolled": true
   },
   "outputs": [
    {
     "name": "stderr",
     "output_type": "stream",
     "text": [
      "The PostScript backend does not support transparency; partially transparent artists will be rendered opaque.\n"
     ]
    },
    {
     "data": {
      "image/png": "[encoded data removed]",
      "text/plain": [
       "<Figure size 432x288 with 1 Axes>"
      ]
     },
     "metadata": {
      "needs_background": "light"
     },
     "output_type": "display_data"
    }
   ],
   "source": [
    "rank = ['Visual','Auditory','S1','S2','Retro','Parietal','M1', 'M2','OFC', 'IT',  'ACC','Peri','PL']\n",
    "my_palette = {c: sns.color_palette('Blues', n_colors=(3)).as_hex()[c+1] for c in np.arange(2)}\n",
    "df_mean = df.groupby('group').mean().reset_index()\n",
    "df_std = df.groupby('group').sem().reset_index()\n",
    "m = [df_mean[df_mean.group==x]['H'].values[0] for x in rank]\n",
    "s = [df_std[df_std.group==x]['H'].values[0] for x in rank]\n",
    "plt.plot(rank, m, '--', color='k')\n",
    "plt.fill_between(rank, [x+y for x,y in zip(m,s)], [x-y for x,y in zip(m,s)], alpha=0.15,color='k') \n",
    "plt.xticks(rotation=90)\n",
    "plt.ylim([1.52, 1.61])\n",
    "plt.savefig('Fig1F.eps',  format='eps', bbox_inches='tight')"
   ]
  },
  {
   "cell_type": "code",
   "execution_count": 16,
   "id": "5c0ab459",
   "metadata": {},
   "outputs": [
    {
     "name": "stdout",
     "output_type": "stream",
     "text": [
      "(1, 27)\n",
      "(1, 27)\n",
      "(1, 27)\n",
      "(1, 27)\n",
      "(1, 27)\n",
      "(1, 27)\n",
      "(1, 27)\n",
      "(1, 27)\n",
      "(1, 27)\n",
      "(1, 27)\n",
      "(1, 27)\n",
      "(1, 27)\n",
      "(1, 27)\n",
      "(1, 27)\n",
      "(1, 27)\n",
      "(1, 27)\n",
      "(1, 27)\n",
      "(1, 27)\n",
      "(1, 27)\n",
      "(1, 27)\n",
      "(1, 27)\n"
     ]
    }
   ],
   "source": [
    "mmc3 = pd.read_csv('../../Modules/mouse/mmc3.csv', header=1)\n",
    "mmc3 = mmc3[mmc3[' mean ']!=' N/D ']\n",
    "mmc3 = mmc3[mmc3[' mean .2']!=' N/D ']\n",
    "mmc3 = mmc3[mmc3[' mean ']!=' - ']\n",
    "mmc3 = mmc3[mmc3[' mean .2']!=' - ']\n",
    "mmc3 = mmc3[mmc3[' SD ']!=' N/D ']\n",
    "mmc3 = mmc3[mmc3[' SD .2']!=' N/D ']\n",
    "mmc3 = mmc3[mmc3[' SD ']!=' - ']\n",
    "mmc3 = mmc3[mmc3[' SD .2']!=' - ']\n",
    "mmc3['PVmean'] = [int(x.replace(',', '')) for x in mmc3[' mean ']]\n",
    "mmc3['SSTmean'] = [int(x.replace(',', '')) for x in mmc3[' mean .2']]\n",
    "mmc3['PVsd'] = [int(x.replace(',', '')) for x in mmc3[' SD ']]\n",
    "mmc3['SSTsd'] = [int(x.replace(',', '')) for x in mmc3[' SD .2']]\n",
    "areas = ['Primary visual area','Primary auditory area','Primary somatosensory area, barrel field','Primary somatosensory area, lower limb','Primary somatosensory area, mouth',\n",
    "         'Primary somatosensory area, upper limb','Primary somatosensory area, trunk','Supplemental somatosensory area','Primary motor area','Secondary motor area',\n",
    "         'Posterior parietal association areas','Prelimbic area','Orbital area, medial part','Orbital area, lateral part','Orbital area, ventrolateral part','Temporal association areas',\n",
    "         'Anterior cingulate area, dorsal part','Anterior cingulate area, ventral part','Retrosplenial area, dorsal part','Retrosplenial area, ventral part','Perirhinal area']\n",
    "group = ['Visual', 'Auditory','S1','S1','S1','S1','S1','S2','M1','M2', 'Parietal','PL','OFC','OFC','OFC','IT','ACC','ACC','Retro', 'Retro','Peri'] #'Visual','Visual','Visual','Visual', #'Posterolateral visual area', 'Anterolateral visual area','Anteromedial visual area','posteromedial visual area',\n",
    "df_t = pd.DataFrame()\n",
    "for x in areas:\n",
    "    df_t = pd.concat([df_t, mmc3[mmc3['Full name']==x]])\n",
    "    print(mmc3[mmc3['Full name']==x].shape)\n",
    "df_t = df_t.reset_index(drop=True)\n",
    "my_palette = {c: sns.color_palette('Blues', n_colors=(3)).as_hex()[c+1] for c in np.arange(2)}\n",
    "expression = df_t\n",
    "expression['group'] = group"
   ]
  },
  {
   "cell_type": "code",
   "execution_count": 17,
   "id": "862cba07",
   "metadata": {},
   "outputs": [],
   "source": [
    "df_concat = pd.merge(df.groupby('group').mean().reset_index(), expression.groupby('group').mean().reset_index(), on='group', how='inner')\n",
    "df_concat_std = pd.merge(df.groupby('group').std().reset_index(), expression.groupby('group').std().reset_index(), on='group', how='inner')\n",
    "df_concat['inhibitory'] = df_concat.PVmean+df_concat.SSTmean"
   ]
  },
  {
   "cell_type": "code",
   "execution_count": 18,
   "id": "8050d3b3",
   "metadata": {},
   "outputs": [
    {
     "name": "stderr",
     "output_type": "stream",
     "text": [
      "The PostScript backend does not support transparency; partially transparent artists will be rendered opaque.\n"
     ]
    },
    {
     "data": {
      "image/png": "[encoded data removed]",
      "text/plain": [
       "<Figure size 432x288 with 1 Axes>"
      ]
     },
     "metadata": {
      "needs_background": "light"
     },
     "output_type": "display_data"
    }
   ],
   "source": [
    "regions = ['Visual','Auditory','S1','S2','Retro','Parietal','M1','M2', 'OFC', 'ACC','IT', 'Peri','PL']\n",
    "plt.plot([df_concat[df_concat.group==x].PVmean.values[0] for x in regions],color=my_palette[0])\n",
    "means = [df_concat[df_concat.group==x].PVmean.values[0] for x in regions]\n",
    "sds = [df_concat[df_concat.group==x].PVsd.values[0] for x in regions]\n",
    "plt.fill_between(np.arange(13), [x+y for x,y in zip(means,sds)],  [x-y for x,y in zip(means,sds)], alpha=0.15,color=my_palette[0]) \n",
    "plt.plot([df_concat[df_concat.group==x].SSTmean.values[0] for x in regions],color=my_palette[1])\n",
    "means = [df_concat[df_concat.group==x].SSTmean.values[0] for x in regions]\n",
    "sds = [df_concat[df_concat.group==x].SSTsd.values[0] for x in regions]\n",
    "plt.fill_between(np.arange(13), [x+y for x,y in zip(means,sds)],  [x-y for x,y in zip(means,sds)], alpha=0.15,color=my_palette[1]) \n",
    "plt.xticks(np.arange(len(regions)), regions, rotation=90)\n",
    "plt.savefig('Fig1D.eps',  format='eps', bbox_inches='tight')"
   ]
  },
  {
   "cell_type": "code",
   "execution_count": 19,
   "id": "889ed257",
   "metadata": {},
   "outputs": [
    {
     "name": "stdout",
     "output_type": "stream",
     "text": [
      "0.41528934310536403\n",
      "                            OLS Regression Results                            \n",
      "==============================================================================\n",
      "Dep. Variable:                      H   R-squared:                       0.415\n",
      "Model:                            OLS   Adj. R-squared:                  0.362\n",
      "Method:                 Least Squares   F-statistic:                     7.813\n",
      "Date:                Fri, 09 Feb 2024   Prob (F-statistic):             0.0174\n",
      "Time:                        10:51:47   Log-Likelihood:                 38.662\n",
      "No. Observations:                  13   AIC:                            -73.32\n",
      "Df Residuals:                      11   BIC:                            -72.19\n",
      "Df Model:                           1                                         \n",
      "Covariance Type:            nonrobust                                         \n",
      "==============================================================================\n",
      "                 coef    std err          t      P>|t|      [0.025      0.975]\n",
      "------------------------------------------------------------------------------\n",
      "const          1.5038      0.025     59.212      0.000       1.448       1.560\n",
      "0           8.071e-06   2.89e-06      2.795      0.017    1.72e-06    1.44e-05\n",
      "==============================================================================\n",
      "Omnibus:                        1.446   Durbin-Watson:                   1.898\n",
      "Prob(Omnibus):                  0.485   Jarque-Bera (JB):                0.822\n",
      "Skew:                          -0.157   Prob(JB):                        0.663\n",
      "Kurtosis:                       1.809   Cond. No.                     5.99e+04\n",
      "==============================================================================\n",
      "\n",
      "Notes:\n",
      "[1] Standard Errors assume that the covariance matrix of the errors is correctly specified.\n",
      "[2] The condition number is large, 5.99e+04. This might indicate that there are\n",
      "strong multicollinearity or other numerical problems.\n"
     ]
    },
    {
     "name": "stderr",
     "output_type": "stream",
     "text": [
      "/Users/monaminishio/opt/anaconda3/lib/python3.8/site-packages/scipy/stats/_stats_py.py:1736: UserWarning: kurtosistest only valid for n>=20 ... continuing anyway, n=13\n",
      "  warnings.warn(\"kurtosistest only valid for n>=20 ... continuing \"\n"
     ]
    },
    {
     "data": {
      "text/plain": [
       "<matplotlib.legend.Legend at 0x7fc354b449d0>"
      ]
     },
     "execution_count": 19,
     "metadata": {},
     "output_type": "execute_result"
    },
    {
     "data": {
      "image/png": "[encoded data removed]",
      "text/plain": [
       "<Figure size 432x288 with 1 Axes>"
      ]
     },
     "metadata": {
      "needs_background": "light"
     },
     "output_type": "display_data"
    }
   ],
   "source": [
    "figure = plt.figure()\n",
    "for i in [x for x in np.arange(df_concat.shape[0])]:\n",
    "    plt.scatter(df_concat.PVmean[i]+df_concat.SSTmean[i], df_concat['H'][i])\n",
    "df_x = pd.DataFrame(df_concat.PVmean+df_concat.SSTmean)\n",
    "df_y = pd.DataFrame(df_concat['H'])\n",
    "mod = LinearRegression()\n",
    "mod_lin = mod.fit(df_x, df_y)\n",
    "y_lin_fit = mod_lin.predict(df_x)\n",
    "r2_lin = mod.score(df_x, df_y)\n",
    "plt.plot(df_x, y_lin_fit, color = '#000000', linewidth=2)\n",
    "print(r2_lin)\n",
    "X = sm.add_constant(df_concat.PVmean+df_concat.SSTmean)\n",
    "results = sm.OLS(df_concat['H'],X).fit()\n",
    "print(results.summary())\n",
    "plt.savefig('Fig3E.eps',  format='eps')\n",
    "plt.legend(df_concat.group)"
   ]
  },
  {
   "cell_type": "code",
   "execution_count": 20,
   "id": "a901282c",
   "metadata": {},
   "outputs": [],
   "source": [
    "# age effect\n",
    "corrected = pd.read_csv('../../Derivatives/mouse/corrected_ageeffect.csv')\n",
    "nocorrected = pd.read_csv('../../Derivatives/mouse/nocorrected_ageeffect.csv')"
   ]
  },
  {
   "cell_type": "code",
   "execution_count": 21,
   "id": "4a873796",
   "metadata": {},
   "outputs": [],
   "source": [
    "template = '../../Modules/mouse/SIGMA_InVivo_Anatomical_Brain_Atlas.nii'\n",
    "atlas = image.load_img(template)\n",
    "atlas_data = atlas.get_fdata()\n",
    "nodes = np.unique(atlas_data)"
   ]
  },
  {
   "cell_type": "code",
   "execution_count": 22,
   "id": "224af6a0",
   "metadata": {},
   "outputs": [],
   "source": [
    "anatomical = pd.read_csv('../../Modules/mouse/SIGMA_InVivo_Anatomical_Brain_Atlas_Labels.txt', sep='\\t')\n",
    "anatmap = pd.read_csv('../../Modules/mouse/SIGMA_InVivo_Anatomical_Brain_Atlas_ListOfStructures.csv')\n",
    "left_anatmap = anatmap.loc[:, ['Left Hemisphere Label', 'Matter', 'Territories', 'System', 'Region of interest']] \n",
    "right_anatmap = anatmap.loc[:, ['Right Hemisphere Label', 'Matter', 'Territories', 'System', 'Region of interest']]\n",
    "left_anatmap.columns = ['Label', 'Matter', 'Territories', 'System', 'Region of interest']\n",
    "right_anatmap.columns = ['Label', 'Matter', 'Territories', 'System', 'Region of interest']\n",
    "anatmap = pd.concat([left_anatmap, right_anatmap])\n",
    "anatomical = pd.merge(anatomical, anatmap, left_on='0', right_on='Label')\n",
    "anatomical = anatomical.sort_values('Label').reset_index(drop=True)\n",
    "anatomical = anatomical[anatomical.System!='CSF']"
   ]
  },
  {
   "cell_type": "code",
   "execution_count": 34,
   "id": "8f0b92eb",
   "metadata": {},
   "outputs": [
    {
     "data": {
      "text/plain": [
       "<nilearn.plotting.displays._slicers.OrthoSlicer at 0x7fc362a2ad90>"
      ]
     },
     "execution_count": 34,
     "metadata": {},
     "output_type": "execute_result"
    },
    {
     "data": {
      "image/png": "[encoded data removed]",
      "text/plain": [
       "<Figure size 525.6x252 with 5 Axes>"
      ]
     },
     "metadata": {},
     "output_type": "display_data"
    }
   ],
   "source": [
    "corrected = corrected.fillna(0)\n",
    "ages = [x if x>0 else 0 for x in corrected.age]\n",
    "corrected['age'] = ages\n",
    "data = np.zeros(atlas_data.shape, dtype=np.float32)\n",
    "cluster = list(corrected.age.values[:230]) + [0,0] + list(corrected.age.values[230:])\n",
    "for i,n in enumerate(nodes[1:]):\n",
    "    if i <= 230:\n",
    "        if anatomical['Territories'].values[i] == 'Cortex':\n",
    "            data[atlas_data == n] = cluster[i]\n",
    "    elif i > 232:\n",
    "        if anatomical['Territories'].values[i-2] == 'Cortex':\n",
    "            data[atlas_data == n] = cluster[i]\n",
    "new_img = nib.Nifti1Image(data, atlas.affine, atlas.header)\n",
    "plotting.plot_roi(new_img, bg_img=template, black_bg=False, threshold=1e-5,  cmap=plotting.cm.red_transparent_full_alpha_range, \n",
    "                  colorbar=True, vmin=0.00, vmax=0.1, display_mode='ortho')#, output_file='Fig1E_corrected.eps')"
   ]
  },
  {
   "cell_type": "code",
   "execution_count": 33,
   "id": "3fc93406",
   "metadata": {},
   "outputs": [
    {
     "data": {
      "image/png": "[encoded data removed]",
      "text/html": [
       "<div style=\"vertical-align: middle;\"><strong>gist_ncar</strong> </div><div class=\"cmap\"><img alt=\"gist_ncar colormap\" title=\"gist_ncar\" style=\"border: 1px solid #555;\" src=\"data:image/png;base64,iVBORw0KGgoAAAANSUhEUgAAAgAAAABACAYAAABsv8+/AAAAGHRFWHRUaXRsZQBnaXN0X25jYXIgY29sb3JtYXAMXMHSAAAAHnRFWHREZXNjcmlwdGlvbgBnaXN0X25jYXIgY29sb3JtYXBOxydZAAAAMHRFWHRBdXRob3IATWF0cGxvdGxpYiB2My43LjEsIGh0dHBzOi8vbWF0cGxvdGxpYi5vcmcqr/hNAAAAMnRFWHRTb2Z0d2FyZQBNYXRwbG90bGliIHYzLjcuMSwgaHR0cHM6Ly9tYXRwbG90bGliLm9yZwQJZ2oAAAJVSURBVHic7dbLctNAEAXQEbEd2ADhi/lpSGTsmIVaoTSJbPFa3XM2XbdnVK7yq+7Q2tdLa621++9tmo9tkd93eT5f2796rtsfH6Y5fq75sJzHfr/1Xnd/fp2P82x/Nj9tvPeh5r6bu272+5v3LpWPlcealVvlVvmylmtejtdz63N9bu3b23lYy9vuHSof6v79ufantpj3cz6v7Ofcna8+fzfNd/3crex/+/yu5rTY19wNleuD3rXreeu9X/lU+XQ1b733Kp8rP9c81xv6PI1W8Z/ll/1Qefi/+ale7+lyfT7eON9670dbzlN7e//X5/U/ePpSi3k+dPnWftv5WN//sb73Y/0uxvqd3MrHm/em9288TPOwOp/f3O/nvL9+r5/Dy//yUHlY7Ifaty7P917v2/J8db/M/fPtZd89t7Kfn3/XAIA4CgAABFIAACCQAgAAgRQAAAikAABAIAUAAAIpAAAQSAEAgEAKAAAEUgAAIJACAACBFAAACKQAAEAgBQAAAikAABBIAQCAQAoAAARSAAAgkAIAAIEUAAAIpAAAQCAFAAACKQAAEEgBAIBACgAABFIAACCQAgAAgRQAAAikAABAIAUAAAIpAAAQSAEAgEAKAAAEUgAAIJACAACBFAAACKQAAEAgBQAAAikAABBIAQCAQAoAAARSAAAgkAIAAIEUAAAIpAAAQCAFAAACKQAAEEgBAIBACgAABFIAACCQAgAAgRQAAAikAABAIAUAAAIpAAAQSAEAgEAKAAAEUgAAIJACAACBFAAACKQAAEAgBQAAAv0ExUzBcubMDAMAAAAASUVORK5CYII=\"></div><div style=\"vertical-align: middle; max-width: 514px; display: flex; justify-content: space-between;\"><div style=\"float: left;\"><div title=\"#000080ff\" style=\"display: inline-block; width: 1em; height: 1em; margin: 0; vertical-align: middle; border: 1px solid #555; background-color: #000080ff;\"></div> under</div><div style=\"margin: 0 auto; display: inline-block;\">bad <div title=\"#00000000\" style=\"display: inline-block; width: 1em; height: 1em; margin: 0; vertical-align: middle; border: 1px solid #555; background-color: #00000000;\"></div></div><div style=\"float: right;\">over <div title=\"#fef8feff\" style=\"display: inline-block; width: 1em; height: 1em; margin: 0; vertical-align: middle; border: 1px solid #555; background-color: #fef8feff;\"></div></div>"
      ],
      "text/plain": [
       "<matplotlib.colors.LinearSegmentedColormap at 0x7fc3610c75e0>"
      ]
     },
     "execution_count": 33,
     "metadata": {},
     "output_type": "execute_result"
    }
   ],
   "source": [
    "plt.cm.gist_ncar"
   ]
  },
  {
   "cell_type": "code",
   "execution_count": 24,
   "id": "28afc4d8",
   "metadata": {},
   "outputs": [],
   "source": [
    "nocorrected = nocorrected.fillna(0)\n",
    "ages = [x if x>0 else 0 for x in nocorrected.age]\n",
    "nocorrected['age'] = ages\n",
    "data = np.zeros(atlas_data.shape, dtype=np.float32)\n",
    "cluster = list(nocorrected.age.values[:230]) + [0,0] + list(nocorrected.age.values[230:])\n",
    "for i,n in enumerate(nodes[1:]):\n",
    "    if i <= 230:\n",
    "        if anatomical['Territories'].values[i] == 'Cortex':\n",
    "            data[atlas_data == n] = cluster[i]\n",
    "    elif i > 232:\n",
    "        if anatomical['Territories'].values[i-2] == 'Cortex':\n",
    "            data[atlas_data == n] = cluster[i]\n",
    "new_img = nib.Nifti1Image(data, atlas.affine, atlas.header)\n",
    "plotting.plot_roi(new_img, bg_img=template, black_bg=False, threshold=1e-5,  cmap=plotting.cm.red_transparent_full_alpha_range, \n",
    "                  colorbar=True, vmin=0.00, vmax=0.1, display_mode='mosaic', output_file='Fig1E_uncorrected.eps')"
   ]
  },
  {
   "cell_type": "code",
   "execution_count": 25,
   "id": "2ad6500d",
   "metadata": {},
   "outputs": [
    {
     "name": "stdout",
     "output_type": "stream",
     "text": [
      "Agranular Dysgranular Insular Cortex\n",
      "Agranular Insular Cortex\n",
      "Dysgranular Insular Cortex\n",
      "Entorhinal Cortex\n",
      "Lateral Entorhinal Cortex Internal part\n",
      "Parietal Cortex Postero Dorsal Part\n",
      "Primary Motor Cortex\n",
      "Substantia Nigra\n",
      "Deeper Layers of the Superior Colliculus\n",
      "Descending Corticofugal Pathways and Globus Pallidum\n",
      "Genu of the Facial Nerve\n",
      "Mammillothalamic Tract\n",
      "Medial Lemniscus\n",
      "Inferior Olive/PyramidalDecusation/SP5\n",
      "Posterior Commissure\n",
      "Pyramidal tract\n",
      "Septal Region\n",
      "Spinal Cord\n",
      "SP5\n",
      "Dorsal Fornix\n",
      "Optic Pathways \n",
      "Ventral Hippocampal Commissure\n",
      "Ventricular System\n",
      "Amygdalopiriform Cortex\n",
      "Basal Forebrain Region\n",
      "Cornu Ammonis 1\n",
      "Granule Cell Level of the Cerebellum\n",
      "Hypothalamic Region\n",
      "Primary Somatosensory Cortex Forelimb\n",
      "(29, 2)\n"
     ]
    }
   ],
   "source": [
    "for i in nocorrected[nocorrected.age>0].index.values:\n",
    "    print(anatmap['Region of interest'].values[i])\n",
    "print(nocorrected[nocorrected.age>0].shape)"
   ]
  },
  {
   "cell_type": "code",
   "execution_count": 26,
   "id": "0249e5bd",
   "metadata": {},
   "outputs": [
    {
     "name": "stdout",
     "output_type": "stream",
     "text": [
      "Parietal Cortex Postero Dorsal Part\n",
      "Pyramidal tract\n",
      "Dorsal Fornix\n"
     ]
    }
   ],
   "source": [
    "for i in corrected[corrected.age>0].index.values:\n",
    "    print(anatmap['Region of interest'].values[i])"
   ]
  }
 ],
 "metadata": {
  "kernelspec": {
   "display_name": "Python 3",
   "language": "python",
   "name": "python3"
  },
  "language_info": {
   "codemirror_mode": {
    "name": "ipython",
    "version": 3
   },
   "file_extension": ".py",
   "mimetype": "text/x-python",
   "name": "python",
   "nbconvert_exporter": "python",
   "pygments_lexer": "ipython3",
   "version": "3.8.8"
  }
 },
 "nbformat": 4,
 "nbformat_minor": 5
}
