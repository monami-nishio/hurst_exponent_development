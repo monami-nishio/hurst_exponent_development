{
 "cells": [
  {
   "cell_type": "code",
   "execution_count": 1,
   "id": "92e368c0",
   "metadata": {},
   "outputs": [],
   "source": [
    "import pandas as pd\n",
    "import numpy as np\n",
    "import statsmodels.api as sm\n",
    "import matplotlib.pyplot as plt\n",
    "from sklearn.preprocessing import PolynomialFeatures\n",
    "from sklearn.linear_model import LinearRegression\n",
    "from sklearn.pipeline import Pipeline\n",
    "from natsort import natsorted\n",
    "from nilearn.maskers import NiftiMasker, NiftiLabelsMasker\n",
    "from nilearn.image import load_img\n",
    "from nilearn.surface import vol_to_surf, load_surf_mesh\n",
    "from nilearn.connectome import ConnectivityMeasure\n",
    "from nilearn import plotting\n",
    "import seaborn as sns\n",
    "from nilearn import datasets, image\n",
    "import matplotlib.cm as cm\n",
    "from pygam import LinearGAM, s, f\n",
    "import nibabel as nib\n",
    "from scipy import stats"
   ]
  },
  {
   "cell_type": "code",
   "execution_count": 2,
   "id": "59e688bc",
   "metadata": {},
   "outputs": [],
   "source": [
    "mmc3 = pd.read_csv('../Dataset/Figure4/mmc3.csv', header=1)\n",
    "mmc3 = mmc3[mmc3[' mean ']!=' N/D ']\n",
    "mmc3 = mmc3[mmc3[' mean .2']!=' N/D ']\n",
    "mmc3 = mmc3[mmc3[' mean ']!=' - ']\n",
    "mmc3 = mmc3[mmc3[' mean .2']!=' - ']\n",
    "mmc3 = mmc3[mmc3[' SD ']!=' N/D ']\n",
    "mmc3 = mmc3[mmc3[' SD .2']!=' N/D ']\n",
    "mmc3 = mmc3[mmc3[' SD ']!=' - ']\n",
    "mmc3 = mmc3[mmc3[' SD .2']!=' - ']\n",
    "mmc3['PVmean'] = [int(x.replace(',', '')) for x in mmc3[' mean ']]\n",
    "mmc3['SSTmean'] = [int(x.replace(',', '')) for x in mmc3[' mean .2']]\n",
    "mmc3['PVsd'] = [int(x.replace(',', '')) for x in mmc3[' SD ']]\n",
    "mmc3['SSTsd'] = [int(x.replace(',', '')) for x in mmc3[' SD .2']]"
   ]
  },
  {
   "cell_type": "code",
   "execution_count": 3,
   "id": "01d0101e",
   "metadata": {},
   "outputs": [],
   "source": [
    "Visual = [x for x in mmc3['Full name'].dropna().values if 'Primary visual' in x]\n",
    "Visual = [x for x in Visual if 'layer' not in x]\n",
    "Auditory = [x for x in mmc3['Full name'].dropna().values if 'Primary auditory' in x]\n",
    "Auditory = [x for x in Auditory if 'layer' not in x]\n",
    "Sensory = [x for x in mmc3['Full name'].dropna().values if 'Primary somatosensory' in x]\n",
    "Sensory = [x for x in Sensory if 'layer' not in x]\n",
    "Motor = [x for x in mmc3['Full name'].dropna().values if 'Primary motor' in x]\n",
    "Motor = [x for x in Motor if 'layer' not in x]\n",
    "Motor = [x for x in Motor if 'Layer' not in x]\n",
    "ACC = [x for x in mmc3['Full name'].dropna().values if 'Anterior cingulate area' in x]\n",
    "ACC = [x for x in ACC if 'layer' not in x]\n",
    "IPC = [x for x in mmc3['Full name'].dropna().values if 'parietal association' in x]\n",
    "IPC= [x for x in IPC if 'layer' not in x]\n",
    "OFC = [x for x in mmc3['Full name'].dropna().values if 'Orbital area' in x]\n",
    "OFC= [x for x in OFC if 'layer' not in x]\n",
    "TEv = [x for x in mmc3['Full name'].dropna().values if 'Temporal' in x]\n",
    "TEv = [x for x in TEv if 'layer' not in x]\n",
    "PFC = [x for x in mmc3['Full name'].dropna().values if 'Prelimbic area' in x] #+ [x for x in mmc3['Full name'].dropna().values if 'Infralimbic area' in x]\n",
    "PFC = [x for x in PFC if 'layer' not in x]"
   ]
  },
  {
   "cell_type": "code",
   "execution_count": 5,
   "id": "f8c2c353",
   "metadata": {},
   "outputs": [],
   "source": [
    "sa = []\n",
    "for x in mmc3['Full name']:\n",
    "    if x in Visual:\n",
    "        sa.append(0)\n",
    "    elif x in Auditory:\n",
    "        sa.append(1)\n",
    "    elif x in Sensory:\n",
    "        sa.append(2)\n",
    "    elif x in Motor:\n",
    "        sa.append(3)\n",
    "    elif x in ACC:\n",
    "        sa.append(4)\n",
    "    elif x in IPC:\n",
    "        sa.append(5)\n",
    "    elif x in OFC:\n",
    "        sa.append(6)\n",
    "    elif x in TEv:\n",
    "        sa.append(7)\n",
    "    elif x in PFC:\n",
    "        sa.append(8)\n",
    "    else:\n",
    "        sa.append(-1)"
   ]
  },
  {
   "cell_type": "code",
   "execution_count": 6,
   "id": "4bce39ef",
   "metadata": {},
   "outputs": [],
   "source": [
    "mmc3['sa'] = sa\n",
    "mmc3 = mmc3[mmc3['sa'] >-1]"
   ]
  },
  {
   "cell_type": "code",
   "execution_count": 7,
   "id": "16b330bb",
   "metadata": {},
   "outputs": [],
   "source": [
    "df = mmc3.groupby('sa').mean().reset_index()"
   ]
  },
  {
   "cell_type": "code",
   "execution_count": 8,
   "id": "e95246aa",
   "metadata": {},
   "outputs": [
    {
     "name": "stderr",
     "output_type": "stream",
     "text": [
      "The PostScript backend does not support transparency; partially transparent artists will be rendered opaque.\n"
     ]
    },
    {
     "data": {
      "image/png": "[encoded data removed]",
      "text/plain": [
       "<Figure size 432x288 with 1 Axes>"
      ]
     },
     "metadata": {
      "needs_background": "light"
     },
     "output_type": "display_data"
    }
   ],
   "source": [
    "my_palette = {c: sns.color_palette('Blues', n_colors=(3)).as_hex()[c+1] for c in np.arange(2)}\n",
    "plt.plot(df.sa, df.PVmean,color=my_palette[0]) \n",
    "plt.fill_between(df.sa, df.PVmean+df.PVsd, df.PVmean-df.PVsd, alpha=0.15,color=my_palette[0]) \n",
    "plt.plot(df.sa, df.SSTmean,color=my_palette[1]) \n",
    "plt.fill_between(df.sa, df.SSTmean+df.SSTsd, df.SSTmean-df.SSTsd, alpha=0.15,color=my_palette[1]) \n",
    "plt.xticks(df.sa, ['Visual', 'Auditory', 'Sensory', 'Motor', 'ACC', 'IPC', 'OFC', 'TEv', 'PFC'], rotation=90)\n",
    "plt.savefig('../figures/Fig3_mouse.eps',  format='eps', bbox_inches='tight')"
   ]
  },
  {
   "cell_type": "code",
   "execution_count": 11,
   "id": "cdffb367",
   "metadata": {},
   "outputs": [],
   "source": [
    "anatomical = pd.read_csv('../modules/SIGMA_Wistar_Rat_Brain_TemplatesAndAtlases_Version1.2.1/SIGMA_Rat_Brain_Atlases/SIGMA_Anatomical_Atlas/InVivo_Atlas/SIGMA_InVivo_Anatomical_Brain_Atlas_Labels.txt', sep='\\t')\n",
    "anatmap = pd.read_csv('../modules/SIGMA_Wistar_Rat_Brain_TemplatesAndAtlases_Version1.2.1/SIGMA_Rat_Brain_Atlases/SIGMA_Anatomical_Atlas/InVivo_Atlas/SIGMA_InVivo_Anatomical_Brain_Atlas_ListOfStructures.csv')\n",
    "left_anatmap = anatmap.loc[:, ['Left Hemisphere Label', 'Matter', 'Territories', 'System', 'Region of interest']] \n",
    "right_anatmap = anatmap.loc[:, ['Right Hemisphere Label', 'Matter', 'Territories', 'System', 'Region of interest']]\n",
    "left_anatmap.columns = ['Label', 'Matter', 'Territories', 'System', 'Region of interest']\n",
    "right_anatmap.columns = ['Label', 'Matter', 'Territories', 'System', 'Region of interest']\n",
    "anatmap = pd.concat([left_anatmap, right_anatmap])\n",
    "anatomical = pd.merge(anatomical, anatmap, left_on='0', right_on='Label')\n",
    "anatomical = anatomical.sort_values('Label').reset_index(drop=True)\n",
    "anatomical = anatomical[anatomical.System!='CSF']\n",
    "age = pd.read_csv('../modules/MultiRat/assets/table/standardRat_20220408.tsv', sep='\\t')\n",
    "H_anat = pd.read_csv('../derivatives/hurst_exponent/H.csv')\n",
    "H_anat = H_anat.iloc[:, :232]"
   ]
  },
  {
   "cell_type": "code",
   "execution_count": 12,
   "id": "cbe5143d",
   "metadata": {},
   "outputs": [],
   "source": [
    "# Figure1E\n",
    "template = '../modules/SIGMA_Wistar_Rat_Brain_TemplatesAndAtlases_Version1.2.1/SIGMA_Rat_Brain_Atlases/SIGMA_Anatomical_Atlas/InVivo_Atlas/SIGMA_InVivo_Anatomical_Brain_Atlas.nii'\n",
    "atlas = image.load_img(template)\n",
    "atlas_data = atlas.get_fdata()\n",
    "nodes = np.unique(atlas_data)\n",
    "cluster = list(H_anat.mean().values[:230]) + [0,0] + list(H_anat.mean().values[230:])\n",
    "data = np.zeros(atlas_data.shape, dtype=np.float32)\n",
    "for i,n in enumerate(nodes[1:]):\n",
    "    if i <= 230:\n",
    "        if anatomical['Territories'].values[i] == 'Cortex':\n",
    "            data[atlas_data == n] = cluster[i]\n",
    "    elif i > 232:\n",
    "        if anatomical['Territories'].values[i-2] == 'Cortex':\n",
    "            data[atlas_data == n] = cluster[i]\n",
    "new_img = nib.Nifti1Image(data, atlas.affine, atlas.header)\n",
    "plotting.plot_roi(new_img, bg_img=template, black_bg=False, cmap=plotting.cm.blue_transparent_full_alpha_range,vmax=1.59, display_mode='mosaic', vmin=1.57, colorbar=True, output_file='../figures/Fig1E.eps')"
   ]
  },
  {
   "cell_type": "code",
   "execution_count": 15,
   "id": "8b6eca85",
   "metadata": {},
   "outputs": [],
   "source": [
    "# age effect\n",
    "corrected = pd.read_csv('../derivatives/corrected_ageeffect.csv')\n",
    "nocorrected = pd.read_csv('../derivatives/nocorrected_ageeffect.csv')\n",
    "ageeffect = pd.read_csv('../derivatives/ageeffect.csv')"
   ]
  },
  {
   "cell_type": "code",
   "execution_count": 16,
   "id": "7ea3a49c",
   "metadata": {},
   "outputs": [],
   "source": [
    "# age effect\n",
    "corrected = pd.read_csv('../derivatives/corrected_ageeffect.csv')\n",
    "corrected = corrected.fillna(0)\n",
    "ages = [x if x>0 else 0 for x in corrected.age]\n",
    "corrected['age'] = ages\n",
    "data = np.zeros(atlas_data.shape, dtype=np.float32)\n",
    "cluster = list(corrected.age.values[:230]) + [0,0] + list(corrected.age.values[230:])\n",
    "for i,n in enumerate(nodes[1:]):\n",
    "    if i <= 230:\n",
    "        if anatomical['Territories'].values[i] == 'Cortex':\n",
    "            data[atlas_data == n] = cluster[i]\n",
    "    elif i > 232:\n",
    "        if anatomical['Territories'].values[i-2] == 'Cortex':\n",
    "            data[atlas_data == n] = cluster[i]\n",
    "new_img = nib.Nifti1Image(data, atlas.affine, atlas.header)\n",
    "plotting.plot_roi(new_img, bg_img=template, black_bg=False, threshold=1e-5,  cmap=plotting.cm.red_transparent_full_alpha_range, vmin=0.00, vmax=0.1, display_mode='mosaic', output_file='../figures/Fig1E_corrected.eps')"
   ]
  },
  {
   "cell_type": "code",
   "execution_count": 17,
   "id": "44718d1a",
   "metadata": {},
   "outputs": [],
   "source": [
    "# age effect\n",
    "nocorrected = pd.read_csv('../derivatives/nocorrected_ageeffect.csv')\n",
    "nocorrected = nocorrected.fillna(0)\n",
    "ages = [x if x>0 else 0 for x in nocorrected.age]\n",
    "nocorrected['age'] = ages\n",
    "data = np.zeros(atlas_data.shape, dtype=np.float32)\n",
    "cluster = list(nocorrected.age.values[:230]) + [0,0] + list(nocorrected.age.values[230:])\n",
    "for i,n in enumerate(nodes[1:]):\n",
    "    if i <= 230:\n",
    "        if anatomical['Territories'].values[i] == 'Cortex':\n",
    "            data[atlas_data == n] = cluster[i]\n",
    "    elif i > 232:\n",
    "        if anatomical['Territories'].values[i-2] == 'Cortex':\n",
    "            data[atlas_data == n] = cluster[i]\n",
    "new_img = nib.Nifti1Image(data, atlas.affine, atlas.header)\n",
    "plotting.plot_roi(new_img, bg_img=template, black_bg=False, threshold=1e-5,  cmap=plotting.cm.red_transparent_full_alpha_range, vmin=0.00, vmax=0.1, display_mode='mosaic', output_file='../figures/Fig1E_nocorrected.eps')"
   ]
  },
  {
   "cell_type": "code",
   "execution_count": null,
   "id": "a410edff",
   "metadata": {},
   "outputs": [],
   "source": [
    "# age effect\n",
    "nocorrected = pd.read_csv('../derivatives/nocorrected_ageeffect.csv')\n",
    "nocorrected = nocorrected.fillna(0)\n",
    "nocorrected['age'] = (-1)*nocorrected['age']\n",
    "ages = [x if x>0 else 0 for x in nocorrected.age]\n",
    "nocorrected['age'] = ages\n",
    "data = np.zeros(atlas_data.shape, dtype=np.float32)\n",
    "cluster = list(nocorrected.age.values[:230]) + [0,0] + list(nocorrected.age.values[230:])\n",
    "for i,n in enumerate(nodes[1:]):\n",
    "    if i <= 230:\n",
    "        if anatomical['Territories'].values[i] == 'Cortex':\n",
    "            data[atlas_data == n] = cluster[i]\n",
    "    elif i > 232:\n",
    "        if anatomical['Territories'].values[i-2] == 'Cortex':\n",
    "            data[atlas_data == n] = cluster[i]\n",
    "new_img = nib.Nifti1Image(data, atlas.affine, atlas.header)\n",
    "plotting.plot_roi(new_img, bg_img=template, black_bg=False, threshold=1e-5,  cmap=plotting.cm.blue_transparent_full_alpha_range, vmin=0.00, vmax=0.1, display_mode='mosaic', output_file='../figures/Fig1E_nocorrected_minus.eps')"
   ]
  },
  {
   "cell_type": "code",
   "execution_count": null,
   "id": "8db36fcc",
   "metadata": {},
   "outputs": [],
   "source": [
    "Visual = [x for x in anatomical['Region of interest'].dropna().values if 'Primary Visual Cortex' in x]\n",
    "Auditory = [x for x in anatomical['Region of interest'].dropna().values if 'Primary Auditory Cortex' in x] #+ [x for x in mmc3['Full name'].dropna().values if 'Auditory' in x]\n",
    "Sensory = [x for x in anatomical['Region of interest'].dropna().values if 'Primary Somatosensory Cortex' in x]\n",
    "Sensory = [x for x in Sensory if 'Dysgranular' not in x]\n",
    "Motor = [x for x in anatomical['Region of interest'].dropna().values if 'Primary Motor Cortex' in x] \n",
    "ACC = [x for x in anatomical['Region of interest'].dropna().values if 'Primary Cingular Cortex' in x]\n",
    "IPC = [x for x in anatomical['Region of interest'].dropna().values if 'Parietal Associative Cortex' in x]\n",
    "OFC = [x for x in anatomical['Region of interest'].dropna().values if 'Orbitofrontal Region' in x]\n",
    "TEv = [x for x in anatomical['Region of interest'].dropna().values if 'Temporal Associative Cortex' in x]\n",
    "PFC = [x for x in anatomical['Region of interest'].dropna().values if 'PreLimbic System' in x]"
   ]
  },
  {
   "cell_type": "code",
   "execution_count": null,
   "id": "4657b8a1",
   "metadata": {},
   "outputs": [],
   "source": [
    "for x in [Visual, Auditory, Sensory, Motor, ACC, IPC, OFC, TEv, PFC]:\n",
    "    print(np.unique(x))"
   ]
  },
  {
   "cell_type": "code",
   "execution_count": null,
   "id": "37c362ed",
   "metadata": {},
   "outputs": [],
   "source": [
    "sa = []\n",
    "for x in anatomical['Region of interest'].values:\n",
    "    if x in Visual:\n",
    "        sa.append(0)\n",
    "    elif x in Auditory:\n",
    "        sa.append(1)\n",
    "    elif x in Sensory:\n",
    "        sa.append(2)\n",
    "    elif x in Motor:\n",
    "        sa.append(3)\n",
    "    elif x in IPC:\n",
    "        sa.append(4)\n",
    "    elif x in PFC:\n",
    "        sa.append(5)\n",
    "    elif x in OFC:\n",
    "        sa.append(6)\n",
    "    elif x in TEv:\n",
    "        sa.append(7)\n",
    "    elif x in ACC:\n",
    "        sa.append(8)\n",
    "    else:\n",
    "        sa.append(-1)"
   ]
  },
  {
   "cell_type": "code",
   "execution_count": null,
   "id": "a194678d",
   "metadata": {},
   "outputs": [],
   "source": [
    "anatomical['H'] =  H_anat.mean().values\n",
    "anatomical['sa'] = sa\n",
    "anatomical = anatomical[anatomical.sa>-1]"
   ]
  },
  {
   "cell_type": "code",
   "execution_count": null,
   "id": "c67af58b",
   "metadata": {},
   "outputs": [],
   "source": [
    "H_mean = anatomical.groupby('sa').mean().reset_index()"
   ]
  },
  {
   "cell_type": "code",
   "execution_count": null,
   "id": "db44cef7",
   "metadata": {},
   "outputs": [],
   "source": [
    "plt.plot(H_mean.sa, H_mean.H, '--')\n",
    "#plt.plot(stats.zscore(df.PVmean))\n",
    "#plt.plot(stats.zscore(df.SSTmean))\n",
    "plt.xticks(rotation=90)\n",
    "plt.xticks(df.sa, ['Visual', 'Auditory', 'Sensory', 'Motor', 'ACC', 'IPC', 'OFC', 'TEv', 'PFC'], rotation=90)\n",
    "plt.savefig('../figures/Fig3_plot.eps',  format='eps', bbox_inches='tight')"
   ]
  },
  {
   "cell_type": "code",
   "execution_count": null,
   "id": "79c6b297",
   "metadata": {},
   "outputs": [],
   "source": [
    "plt.scatter(df.PVmean.values, H_mean.H.values)\n",
    "df_x = pd.DataFrame(df.PVmean.values)\n",
    "df_y = pd.DataFrame(H_mean.H.values)\n",
    "mod = LinearRegression()\n",
    "mod_lin = mod.fit(df_x, df_y)\n",
    "y_lin_fit = mod_lin.predict(df_x)\n",
    "r2_lin = mod.score(df_x, df_y)\n",
    "plt.plot(df_x, y_lin_fit, color = '#000000', linewidth=2)\n",
    "print(r2_lin)\n",
    "X = sm.add_constant(df.PVmean.values)\n",
    "results = sm.OLS(H_mean.H.values,X).fit()\n",
    "print(results.summary())\n",
    "plt.savefig('../figures/Fig3_PV.eps',  format='eps', bbox_inches='tight')"
   ]
  },
  {
   "cell_type": "code",
   "execution_count": null,
   "id": "67892730",
   "metadata": {},
   "outputs": [],
   "source": [
    "plt.scatter(df.SSTmean.values, H_mean.H.values)\n",
    "df_x = pd.DataFrame(df.SSTmean.values)\n",
    "df_y = pd.DataFrame(H_mean.H.values)\n",
    "mod = LinearRegression()\n",
    "mod_lin = mod.fit(df_x, df_y)\n",
    "y_lin_fit = mod_lin.predict(df_x)\n",
    "r2_lin = mod.score(df_x, df_y)\n",
    "plt.plot(df_x, y_lin_fit, color = '#000000', linewidth=2)\n",
    "print(r2_lin)\n",
    "X = sm.add_constant(df.SSTmean.values)\n",
    "results = sm.OLS(H_mean.H.values,X).fit()\n",
    "print(results.summary())\n",
    "plt.savefig('../figures/Fig3_SST.eps',  format='eps', bbox_inches='tight')"
   ]
  },
  {
   "cell_type": "code",
   "execution_count": null,
   "id": "c9304879",
   "metadata": {},
   "outputs": [],
   "source": [
    "plt.scatter(df.PVmean.values+df.SSTmean.values, H_mean.H.values)\n",
    "df_x = pd.DataFrame(df.PVmean.values+df.SSTmean.values)\n",
    "df_y = pd.DataFrame(H_mean.H.values)\n",
    "mod = LinearRegression()\n",
    "mod_lin = mod.fit(df_x, df_y)\n",
    "y_lin_fit = mod_lin.predict(df_x)\n",
    "r2_lin = mod.score(df_x, df_y)\n",
    "plt.plot(df_x, y_lin_fit, color = '#000000', linewidth=2)\n",
    "print(r2_lin)\n",
    "X = sm.add_constant(df.PVmean.values+df.SSTmean.values)\n",
    "results = sm.OLS(H_mean.H.values,X).fit()\n",
    "print(results.summary())\n",
    "plt.savefig('../figures/Fig3_SST.eps',  format='eps', bbox_inches='tight')"
   ]
  },
  {
   "cell_type": "code",
   "execution_count": null,
   "id": "902d0437",
   "metadata": {},
   "outputs": [],
   "source": [
    "age = pd.read_csv('/Users/monaminishio/Desktop/HOME11/Mouse/modules/MultiRat/assets/table/standardRat_20220408.tsv', sep='\\t')\n",
    "H_anat = pd.read_csv('/Users/monaminishio/Desktop/HOME11/Mouse/derivatives/hurst_exponent/H.csv')\n",
    "H_anat['SubjID'] = [x.replace('_t','') for x in H_anat['H_all233']]\n",
    "H_anat = pd.merge(H_anat, age, on='SubjID')\n",
    "Age = H_anat.Age\n",
    "Sex = H_anat.Sex\n",
    "H_anat_original = H_anat[H_anat.Age>0]\n",
    "H_anat_original = H_anat_original[H_anat_original.Age<4].reset_index(drop=True)\n",
    "H_anat_original.to_csv('H_age_original.csv', index=False)\n",
    "H_anat = H_anat.iloc[:, :232]\n",
    "H_anat = H_anat.T\n",
    "H_anat['sa'] = sa\n",
    "H_anat = H_anat[H_anat.sa>-1]\n",
    "df_H = H_anat.sort_values('sa').T.iloc[:-1, :]\n",
    "df_H['Age'] = Age\n",
    "df_H['Sex'] =Sex\n",
    "df_H = df_H[df_H.Age>0]\n",
    "df_H = df_H[df_H.Age<4].reset_index(drop=True)\n",
    "df_H.to_csv('H_age.csv', index=False)\n",
    "df_H = H_anat.sort_values('sa').groupby('sa').mean().reset_index().T.iloc[1:,:]\n",
    "df_H['Age'] = Age\n",
    "df_H['Sex'] =Sex\n",
    "df_H = df_H[df_H.Age>0]\n",
    "df_H = df_H[df_H.Age<4].reset_index(drop=True)\n",
    "df_H.to_csv('H_age_mean.csv', index=False)\n",
    "H_anat.sort_values('sa').sa.to_csv('sa.csv', index=False)"
   ]
  }
 ],
 "metadata": {
  "kernelspec": {
   "display_name": "Python 3",
   "language": "python",
   "name": "python3"
  },
  "language_info": {
   "codemirror_mode": {
    "name": "ipython",
    "version": 3
   },
   "file_extension": ".py",
   "mimetype": "text/x-python",
   "name": "python",
   "nbconvert_exporter": "python",
   "pygments_lexer": "ipython3",
   "version": "3.8.8"
  }
 },
 "nbformat": 4,
 "nbformat_minor": 5
}
