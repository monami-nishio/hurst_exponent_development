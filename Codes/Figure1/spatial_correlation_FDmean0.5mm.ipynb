{
 "cells": [
  {
   "cell_type": "code",
   "execution_count": 1,
   "id": "8a28dd43",
   "metadata": {},
   "outputs": [],
   "source": [
    "import pandas as pd\n",
    "import numpy as np\n",
    "import os\n",
    "import statsmodels.api as sm\n",
    "import matplotlib.pyplot as plt\n",
    "from sklearn.preprocessing import PolynomialFeatures\n",
    "from sklearn.linear_model import LinearRegression\n",
    "from sklearn.pipeline import Pipeline\n",
    "from natsort import natsorted\n",
    "from scipy.stats import pearsonr\n",
    "import seaborn as sns\n",
    "import matplotlib.cm as cm\n",
    "from pygam import LinearGAM, s, f\n",
    "from scipy import stats\n",
    "from enigmatoolbox.permutation_testing import spin_test, shuf_test\n",
    "sns.set(font_scale=1.5, style=\"white\")"
   ]
  },
  {
   "cell_type": "code",
   "execution_count": 2,
   "id": "647148a7",
   "metadata": {},
   "outputs": [],
   "source": [
    "df = pd.read_csv('../../Dataset/childhood/rna/brodmann_schaefer_0.5.csv')\n",
    "df_copy = df.iloc[:200, 2:]\n",
    "df.iloc[:200, 2:] = df.iloc[:200, 2:].values + df.iloc[200:, 2:].values\n",
    "df.iloc[200:, 2:] = df_copy.values + df.iloc[200:, 2:].values"
   ]
  },
  {
   "cell_type": "code",
   "execution_count": 3,
   "id": "168d1368",
   "metadata": {},
   "outputs": [],
   "source": [
    "regionname = pd.read_csv('../../Dataset/childhood/atlas/schaefer400_regions.csv')\n",
    "sarank = pd.read_csv('../../Dataset/childhood/saaxis/Sensorimotor_Association_Axis_AverageRanks.csv')\n",
    "sarank = pd.concat([regionname.reset_index(drop=True), sarank.reset_index(drop=True)],axis=1)\n",
    "sarank = sarank.loc[:, ['name', 'finalrank.wholebrain']]"
   ]
  },
  {
   "cell_type": "code",
   "execution_count": 4,
   "id": "0e5c4a57",
   "metadata": {},
   "outputs": [],
   "source": [
    "# read expression data\n",
    "data_dir = '../../Dataset/childhood/rna'\n",
    "gene_columns = pd.read_csv(os.path.join(data_dir, 'columns_metadata.csv'))\n",
    "gene_rows = pd.read_csv(os.path.join(data_dir, 'rows_metadata.csv'))\n",
    "gene_columns['id'] = range(1, len(gene_columns) + 1)\n",
    "expr_matrix = pd.read_csv(os.path.join(data_dir, 'expression_matrix.csv'), header=None)\n",
    "expr_matrix = expr_matrix.iloc[:, 1:] "
   ]
  },
  {
   "cell_type": "code",
   "execution_count": 5,
   "id": "f91e34bd",
   "metadata": {},
   "outputs": [],
   "source": [
    "# remove genes without an entrez id\n",
    "expr_subset = expr_matrix[~gene_rows['entrez_id'].isna()]\n",
    "rows_subset = gene_rows[~gene_rows['entrez_id'].isna()]"
   ]
  },
  {
   "cell_type": "code",
   "execution_count": 6,
   "id": "1f457b4e",
   "metadata": {},
   "outputs": [],
   "source": [
    "log2_expr = np.log2(expr_subset + 1)\n",
    "log2_expr['entrez_id'] = rows_subset['entrez_id']"
   ]
  },
  {
   "cell_type": "code",
   "execution_count": 7,
   "id": "2067ce6a",
   "metadata": {},
   "outputs": [],
   "source": [
    "markers  = ['PVALB', 'SST', 'VIP', 'GAD1', 'GAD2'] #PVALB\n",
    "for marker in markers:\n",
    "    ids = gene_rows[gene_rows.gene_symbol==marker].entrez_id.values[0]\n",
    "    df_marker = log2_expr[log2_expr.entrez_id==ids].iloc[:, :-1].T.values\n",
    "    gene_columns[marker] = df_marker"
   ]
  },
  {
   "cell_type": "code",
   "execution_count": 8,
   "id": "f6d2f08b",
   "metadata": {},
   "outputs": [],
   "source": [
    "sa_cortex = np.unique([x for x in gene_columns.structure_name if 'cortex' in x])\n",
    "sa_cortex = pd.DataFrame([x for x in sa_cortex if 'cereb' not in x])\n",
    "sa_cortex.columns = ['structure_name']"
   ]
  },
  {
   "cell_type": "code",
   "execution_count": 9,
   "id": "08db698d",
   "metadata": {},
   "outputs": [],
   "source": [
    "adults = [ '18 yrs', '19 yrs', '21 yrs','23 yrs']\n",
    "#cbpd_wide = ['4 yrs', '8 yrs', '11 yrs','13 yrs']\n",
    "cbpd_wide = ['8 yrs', '11 yrs','13 yrs']"
   ]
  },
  {
   "cell_type": "code",
   "execution_count": 10,
   "id": "3d2f0a95",
   "metadata": {},
   "outputs": [],
   "source": [
    "brodregion = pd.read_csv('../../Dataset/childhood/rna/brodmann.csv')\n",
    "saorder = pd.DataFrame([np.arange(11), ['Visual', 'Auditory', 'Sensory', 'Motor', 'IPC', 'STC', 'vPFC', 'dPFC', 'OFC', 'TEv', 'ACC']]).T\n",
    "saorder.columns = ['sa', 'group']"
   ]
  },
  {
   "cell_type": "code",
   "execution_count": 11,
   "id": "3291172e",
   "metadata": {},
   "outputs": [],
   "source": [
    "child_original = pd.read_csv('../../Derivatives/childhood/original_motion_0.5mm.csv')\n",
    "adult_original = pd.read_csv('../../Derivatives/adult/original.csv')"
   ]
  },
  {
   "cell_type": "code",
   "execution_count": 12,
   "id": "a3e217a6",
   "metadata": {},
   "outputs": [
    {
     "name": "stdout",
     "output_type": "stream",
     "text": [
      "['BA1_3', 'BA2', 'BA20', 'BA21', 'BA22', 'BA23', 'BA24', 'BA25', 'BA26_29_30', 'BA27', 'BA28']\n",
      "['BA41_42_52']\n",
      "['BA4', 'BA40', 'BA41_42_52', 'BA43', 'BA44', 'BA45', 'BA46', 'BA47']\n",
      "['BA17']\n",
      "['BA44', 'BA45']\n",
      "['BA8', 'BA9', 'BA46']\n",
      "['BA11', 'BA13']\n",
      "['BA20']\n",
      "['BA24', 'BA25', 'BA32']\n",
      "['BA22']\n",
      "['BA39', 'BA40']\n"
     ]
    }
   ],
   "source": [
    "Visual = [x for x in df.columns if 'BA17' in x]\n",
    "Auditory = [x for x in df.columns if 'BA41' in x]\n",
    "Sensory =  [x for x in df.columns if 'BA1_3' in x] + [x for x in df.columns if 'BA2' in x] # [x for x in sarank.name.values if 'S2' in x] +\n",
    "Motor = [x for x in df.columns if 'BA4' in x]\n",
    "vPFC = [x for x in df.columns if 'BA44' in x] +  [x for x in df.columns if 'BA45' in x]\n",
    "dPFC = [x for x in df.columns if 'BA8' in x] + [x for x in df.columns if 'BA9' in x] + [x for x in df.columns if 'BA46' in x]\n",
    "OFC = [x for x in df.columns if 'BA11' in x] + [x for x in df.columns if 'BA12' in x]+ [x for x in df.columns if 'BA13' in x]  + [x for x in df.columns if 'BA14_' in x]\n",
    "TEv = [x for x in df.columns if 'BA20' in x]\n",
    "ACC = [x for x in df.columns if 'BA24' in x] + [x for x in df.columns if 'BA25' in x] + [x for x in df.columns if 'BA32' in x]\n",
    "STC = [x for x in df.columns if 'BA22' in x]\n",
    "IPC = [x for x in df.columns if 'BA39' in x] +  [x for x in df.columns if 'BA40' in x]\n",
    "\n",
    "child_regions = []\n",
    "adult_regions = []\n",
    "sas = []\n",
    "for x in [Sensory, Auditory, Motor, Visual, vPFC, dPFC, OFC, TEv, ACC, STC, IPC]:\n",
    "    print(x)\n",
    "    roi  = df.loc[:, x].sum(axis=1)>0\n",
    "    child_original['roi']=roi\n",
    "    adult_original['roi']=roi\n",
    "    child_regions.append(child_original[child_original.roi==True].mean()['H'])\n",
    "    adult_regions.append(adult_original[adult_original.roi==True].mean()['H'])\n",
    "    sas.append(child_original[child_original.roi==True].mean()['SArank'])"
   ]
  },
  {
   "cell_type": "code",
   "execution_count": 13,
   "id": "6c1df2ba",
   "metadata": {},
   "outputs": [],
   "source": [
    "child = pd.DataFrame([['Sensory', 'Auditory', 'Motor', 'Visual', 'vPFC', 'dPFC', 'OFC', 'TEv', 'ACC', 'STC', 'IPC'], child_regions, sas]).T.sort_values(2).reset_index(drop=True)\n",
    "child.columns = ['region', 'H', 'sa']\n",
    "adult = pd.DataFrame([['Sensory', 'Auditory', 'Motor', 'Visual', 'vPFC', 'dPFC', 'OFC', 'TEv', 'ACC', 'STC', 'IPC'], adult_regions, sas]).T.sort_values(2).reset_index(drop=True)\n",
    "adult.columns = ['region', 'H', 'sa']"
   ]
  },
  {
   "cell_type": "code",
   "execution_count": 14,
   "id": "fe467055",
   "metadata": {},
   "outputs": [],
   "source": [
    "sa_cortex['region'] = ['ACC', 'dPFC', 'TEv', '-', 'OFC', '-', 'STC', 'IPC', 'Auditory', 'Motor', '-', 'Sensory', 'Visual', '-', 'vPFC']\n",
    "sa_cortex = pd.merge(sa_cortex.loc[:, ['structure_name', 'region']], child.loc[:, ['region', 'sa']], on='region', how='left')"
   ]
  },
  {
   "cell_type": "code",
   "execution_count": 15,
   "id": "de56d0c8",
   "metadata": {},
   "outputs": [],
   "source": [
    "gene_columns = pd.merge(gene_columns,sa_cortex, on='structure_name', how='left')"
   ]
  },
  {
   "cell_type": "code",
   "execution_count": 16,
   "id": "f6e9a7ae",
   "metadata": {},
   "outputs": [
    {
     "data": {
      "text/html": [
       "<div>\n",
       "<style scoped>\n",
       "    .dataframe tbody tr th:only-of-type {\n",
       "        vertical-align: middle;\n",
       "    }\n",
       "\n",
       "    .dataframe tbody tr th {\n",
       "        vertical-align: top;\n",
       "    }\n",
       "\n",
       "    .dataframe thead th {\n",
       "        text-align: right;\n",
       "    }\n",
       "</style>\n",
       "<table border=\"1\" class=\"dataframe\">\n",
       "  <thead>\n",
       "    <tr style=\"text-align: right;\">\n",
       "      <th></th>\n",
       "      <th>column_num</th>\n",
       "      <th>donor_name</th>\n",
       "      <th>age</th>\n",
       "      <th>gender</th>\n",
       "      <th>structure_id</th>\n",
       "      <th>structure_acronym</th>\n",
       "      <th>structure_name</th>\n",
       "      <th>id</th>\n",
       "      <th>PVALB</th>\n",
       "      <th>SST</th>\n",
       "      <th>VIP</th>\n",
       "      <th>GAD1</th>\n",
       "      <th>GAD2</th>\n",
       "      <th>region</th>\n",
       "      <th>sa</th>\n",
       "    </tr>\n",
       "    <tr>\n",
       "      <th>donor_id</th>\n",
       "      <th></th>\n",
       "      <th></th>\n",
       "      <th></th>\n",
       "      <th></th>\n",
       "      <th></th>\n",
       "      <th></th>\n",
       "      <th></th>\n",
       "      <th></th>\n",
       "      <th></th>\n",
       "      <th></th>\n",
       "      <th></th>\n",
       "      <th></th>\n",
       "      <th></th>\n",
       "      <th></th>\n",
       "      <th></th>\n",
       "    </tr>\n",
       "  </thead>\n",
       "  <tbody>\n",
       "    <tr>\n",
       "      <th>12300</th>\n",
       "      <td>14</td>\n",
       "      <td>14</td>\n",
       "      <td>14</td>\n",
       "      <td>14</td>\n",
       "      <td>14</td>\n",
       "      <td>14</td>\n",
       "      <td>14</td>\n",
       "      <td>14</td>\n",
       "      <td>14</td>\n",
       "      <td>14</td>\n",
       "      <td>14</td>\n",
       "      <td>14</td>\n",
       "      <td>14</td>\n",
       "      <td>9</td>\n",
       "      <td>9</td>\n",
       "    </tr>\n",
       "    <tr>\n",
       "      <th>12832</th>\n",
       "      <td>16</td>\n",
       "      <td>16</td>\n",
       "      <td>16</td>\n",
       "      <td>16</td>\n",
       "      <td>16</td>\n",
       "      <td>16</td>\n",
       "      <td>16</td>\n",
       "      <td>16</td>\n",
       "      <td>16</td>\n",
       "      <td>16</td>\n",
       "      <td>16</td>\n",
       "      <td>16</td>\n",
       "      <td>16</td>\n",
       "      <td>11</td>\n",
       "      <td>11</td>\n",
       "    </tr>\n",
       "    <tr>\n",
       "      <th>12984</th>\n",
       "      <td>13</td>\n",
       "      <td>13</td>\n",
       "      <td>13</td>\n",
       "      <td>13</td>\n",
       "      <td>13</td>\n",
       "      <td>13</td>\n",
       "      <td>13</td>\n",
       "      <td>13</td>\n",
       "      <td>13</td>\n",
       "      <td>13</td>\n",
       "      <td>13</td>\n",
       "      <td>13</td>\n",
       "      <td>13</td>\n",
       "      <td>11</td>\n",
       "      <td>11</td>\n",
       "    </tr>\n",
       "    <tr>\n",
       "      <th>13057</th>\n",
       "      <td>16</td>\n",
       "      <td>16</td>\n",
       "      <td>16</td>\n",
       "      <td>16</td>\n",
       "      <td>16</td>\n",
       "      <td>16</td>\n",
       "      <td>16</td>\n",
       "      <td>16</td>\n",
       "      <td>16</td>\n",
       "      <td>16</td>\n",
       "      <td>16</td>\n",
       "      <td>16</td>\n",
       "      <td>16</td>\n",
       "      <td>11</td>\n",
       "      <td>11</td>\n",
       "    </tr>\n",
       "  </tbody>\n",
       "</table>\n",
       "</div>"
      ],
      "text/plain": [
       "          column_num  donor_name  age  gender  structure_id  \\\n",
       "donor_id                                                      \n",
       "12300             14          14   14      14            14   \n",
       "12832             16          16   16      16            16   \n",
       "12984             13          13   13      13            13   \n",
       "13057             16          16   16      16            16   \n",
       "\n",
       "          structure_acronym  structure_name  id  PVALB  SST  VIP  GAD1  GAD2  \\\n",
       "donor_id                                                                       \n",
       "12300                    14              14  14     14   14   14    14    14   \n",
       "12832                    16              16  16     16   16   16    16    16   \n",
       "12984                    13              13  13     13   13   13    13    13   \n",
       "13057                    16              16  16     16   16   16    16    16   \n",
       "\n",
       "          region  sa  \n",
       "donor_id              \n",
       "12300          9   9  \n",
       "12832         11  11  \n",
       "12984         11  11  \n",
       "13057         11  11  "
      ]
     },
     "execution_count": 16,
     "metadata": {},
     "output_type": "execute_result"
    }
   ],
   "source": [
    "wide = gene_columns.loc[[x for x in gene_columns.index if gene_columns.loc[x,'age'] in adults], :]\n",
    "wide.groupby('donor_id').count()"
   ]
  },
  {
   "cell_type": "code",
   "execution_count": 21,
   "id": "9efc6991",
   "metadata": {},
   "outputs": [
    {
     "name": "stdout",
     "output_type": "stream",
     "text": [
      "0\n",
      "                            OLS Regression Results                            \n",
      "==============================================================================\n",
      "Dep. Variable:                      y   R-squared:                       0.353\n",
      "Model:                            OLS   Adj. R-squared:                  0.281\n",
      "Method:                 Least Squares   F-statistic:                     4.910\n",
      "Date:                Thu, 16 May 2024   Prob (F-statistic):             0.0539\n",
      "Time:                        16:44:03   Log-Likelihood:                 26.835\n",
      "No. Observations:                  11   AIC:                            -49.67\n",
      "Df Residuals:                       9   BIC:                            -48.88\n",
      "Df Model:                           1                                         \n",
      "Covariance Type:            nonrobust                                         \n",
      "==============================================================================\n",
      "                 coef    std err          t      P>|t|      [0.025      0.975]\n",
      "------------------------------------------------------------------------------\n",
      "const          1.0120      0.050     20.340      0.000       0.899       1.125\n",
      "x1             0.0204      0.009      2.216      0.054      -0.000       0.041\n",
      "==============================================================================\n",
      "Omnibus:                        2.510   Durbin-Watson:                   1.062\n",
      "Prob(Omnibus):                  0.285   Jarque-Bera (JB):                1.430\n",
      "Skew:                           0.633   Prob(JB):                        0.489\n",
      "Kurtosis:                       1.768   Cond. No.                         39.5\n",
      "==============================================================================\n",
      "\n",
      "Notes:\n",
      "[1] Standard Errors assume that the covariance matrix of the errors is correctly specified.\n",
      "permutation 100 of 1000\n",
      "permutation 200 of 1000\n",
      "permutation 300 of 1000\n",
      "permutation 400 of 1000\n",
      "permutation 500 of 1000\n",
      "permutation 600 of 1000\n",
      "permutation 700 of 1000\n",
      "permutation 800 of 1000\n",
      "permutation 900 of 1000\n",
      "permutation 1000 of 1000\n"
     ]
    },
    {
     "name": "stderr",
     "output_type": "stream",
     "text": [
      "/Users/monaminishio/opt/anaconda3/lib/python3.8/site-packages/scipy/stats/_stats_py.py:1736: UserWarning: kurtosistest only valid for n>=20 ... continuing anyway, n=11\n",
      "  warnings.warn(\"kurtosistest only valid for n>=20 ... continuing \"\n"
     ]
    },
    {
     "name": "stdout",
     "output_type": "stream",
     "text": [
      "['PVALB', 0, 0.0245]\n"
     ]
    },
    {
     "data": {
      "image/png": "[encoded data removed]",
      "text/plain": [
       "<Figure size 432x288 with 1 Axes>"
      ]
     },
     "metadata": {
      "needs_background": "light"
     },
     "output_type": "display_data"
    }
   ],
   "source": [
    "for marker in  ['PVALB']: #, 'SST', 'VIP', 'GAD1', 'GAD2']\n",
    "    for t, age in enumerate([cbpd_wide]): #adults, \n",
    "        print(t)\n",
    "        wide = gene_columns.loc[[x for x in gene_columns.index if gene_columns.loc[x,'age'] in age], :]\n",
    "        wide = wide[wide.sa>-1].sort_values('sa')\n",
    "        wide = wide.loc[:, ['sa', 'donor_id', 'PVALB', 'SST', 'VIP', 'GAD1', 'GAD2']].groupby(['sa', 'donor_id']).median().reset_index()\n",
    "        wide = pd.merge(wide, gene_columns.loc[:, ['donor_id', 'age']], on='donor_id')    \n",
    "        figure = plt.figure()\n",
    "        wide_age = wide.loc[[x for x in wide.index if wide.loc[x,'age'] in age], :]\n",
    "        wide_mean = wide_age.loc[:, ['sa', 'donor_id', 'PVALB', 'SST', 'VIP', 'GAD1', 'GAD2']].groupby(['sa']).median().reset_index()\n",
    "        wide_std = wide_age.loc[:, ['sa', 'donor_id', 'PVALB', 'SST', 'VIP', 'GAD1', 'GAD2']].groupby(['sa']).sem().reset_index()\n",
    "        X = sm.add_constant(wide_mean[marker].values)\n",
    "        df_x = pd.DataFrame(wide_mean[marker].values)\n",
    "        if t == 0:\n",
    "            results = sm.OLS([float(x) for x in child['H'].values], X).fit()\n",
    "            print(results.summary())\n",
    "            df_y = pd.DataFrame(child['H'].values)\n",
    "            for i in np.arange(11):\n",
    "                plt.scatter(wide_mean[marker].values[i], child['H'].values[i])\n",
    "            fc_ctx_p, fc_ctx_d = shuf_test(wide_mean[marker], [float(t) for t in child['H']], type='pearson', n_rot=1000, null_dist=True)\n",
    "            print([marker, t, fc_ctx_p])\n",
    "        else:\n",
    "            results = sm.OLS([float(x) for x in adult['H'].values], X).fit()\n",
    "            print(results.summary())\n",
    "            df_y = pd.DataFrame(adult['H'].values)\n",
    "            for i in np.arange(11):\n",
    "                plt.scatter(wide_mean[marker].values[i], adult['H'].values[i])\n",
    "            fc_ctx_p, fc_ctx_d = shuf_test(wide_mean[marker], [float(t) for t in adult['H']], type='pearson', n_rot=1000, null_dist=True)\n",
    "            print([marker, t, fc_ctx_p])\n",
    "        mod = LinearRegression()\n",
    "        mod_lin = mod.fit(df_x, df_y)\n",
    "        y_lin_fit = mod_lin.predict(df_x)\n",
    "        r2_lin = mod.score(df_x, df_y)"
   ]
  },
  {
   "cell_type": "code",
   "execution_count": 20,
   "id": "a38ce35f",
   "metadata": {},
   "outputs": [
    {
     "data": {
      "text/plain": [
       "0.0"
      ]
     },
     "execution_count": 20,
     "metadata": {},
     "output_type": "execute_result"
    }
   ],
   "source": [
    "fc_ctx_p"
   ]
  },
  {
   "cell_type": "code",
   "execution_count": null,
   "id": "059c98c8",
   "metadata": {},
   "outputs": [],
   "source": []
  }
 ],
 "metadata": {
  "kernelspec": {
   "display_name": "Python 3",
   "language": "python",
   "name": "python3"
  },
  "language_info": {
   "codemirror_mode": {
    "name": "ipython",
    "version": 3
   },
   "file_extension": ".py",
   "mimetype": "text/x-python",
   "name": "python",
   "nbconvert_exporter": "python",
   "pygments_lexer": "ipython3",
   "version": "3.8.8"
  }
 },
 "nbformat": 4,
 "nbformat_minor": 5
}
