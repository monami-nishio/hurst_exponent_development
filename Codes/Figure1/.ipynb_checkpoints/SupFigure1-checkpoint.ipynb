{
 "cells": [
  {
   "cell_type": "code",
   "execution_count": 1,
   "id": "8a28dd43",
   "metadata": {},
   "outputs": [],
   "source": [
    "import pandas as pd\n",
    "import numpy as np\n",
    "import os\n",
    "import statsmodels.api as sm\n",
    "import matplotlib.pyplot as plt\n",
    "from sklearn.preprocessing import PolynomialFeatures\n",
    "from sklearn.linear_model import LinearRegression\n",
    "from sklearn.pipeline import Pipeline\n",
    "from natsort import natsorted\n",
    "from scipy.stats import pearsonr\n",
    "import seaborn as sns\n",
    "from statsmodels.stats.multicomp import pairwise_tukeyhsd\n",
    "import matplotlib.cm as cm\n",
    "from pygam import LinearGAM, s, f\n",
    "from scipy import stats\n",
    "sns.set(font_scale=1.5, style=\"white\")"
   ]
  },
  {
   "cell_type": "code",
   "execution_count": 2,
   "id": "168d1368",
   "metadata": {},
   "outputs": [],
   "source": [
    "regionname = pd.read_csv('../../Modules/human/schaefer400_regions.csv')\n",
    "sarank = pd.read_csv('../../Modules/human/Sensorimotor_Association_Axis_AverageRanks.csv')\n",
    "sarank = pd.concat([regionname.reset_index(drop=True), sarank.reset_index(drop=True)],axis=1)\n",
    "sarank = sarank.loc[:, ['name', 'finalrank.wholebrain']]"
   ]
  },
  {
   "cell_type": "code",
   "execution_count": null,
   "id": "0e5c4a57",
   "metadata": {},
   "outputs": [],
   "source": [
    "# project directory\n",
    "data_dir = '../../Dataset/rna'\n",
    "# read expression data\n",
    "gene_columns = pd.read_csv(os.path.join(data_dir, 'columns_metadata.csv'))\n",
    "gene_rows = pd.read_csv(os.path.join(data_dir, 'rows_metadata.csv'))\n",
    "gene_columns['id'] = range(1, len(gene_columns) + 1)\n",
    "expr_matrix = pd.read_csv(os.path.join(data_dir, 'expression_matrix.csv'), header=None)\n",
    "expr_matrix = expr_matrix.iloc[:, 1:] "
   ]
  },
  {
   "cell_type": "code",
   "execution_count": null,
   "id": "f91e34bd",
   "metadata": {},
   "outputs": [],
   "source": [
    "# remove genes without an entrez id\n",
    "expr_subset = expr_matrix[~gene_rows['entrez_id'].isna()]\n",
    "rows_subset = gene_rows[~gene_rows['entrez_id'].isna()]"
   ]
  },
  {
   "cell_type": "code",
   "execution_count": null,
   "id": "1f457b4e",
   "metadata": {},
   "outputs": [],
   "source": [
    "# log2 transform expression data and collapse duplicated transcripts\n",
    "log2_expr = np.log2(expr_subset + 1)\n",
    "log2_expr['entrez_id'] = rows_subset['entrez_id']"
   ]
  },
  {
   "cell_type": "code",
   "execution_count": null,
   "id": "2067ce6a",
   "metadata": {},
   "outputs": [],
   "source": [
    "markers  = ['PVALB', 'SST','GAD1', 'GAD2', 'DLX1', 'DLX2', ] \n",
    "for marker in markers:\n",
    "    ids = gene_rows[gene_rows.gene_symbol==marker].entrez_id.values[0]\n",
    "    df_marker = log2_expr[log2_expr.entrez_id==ids].iloc[:, :-1].T.values\n",
    "    gene_columns[marker] = df_marker"
   ]
  },
  {
   "cell_type": "code",
   "execution_count": null,
   "id": "f6d2f08b",
   "metadata": {},
   "outputs": [],
   "source": [
    "sa_cortex = np.unique([x for x in gene_columns.structure_name if 'cortex' in x])\n",
    "sa_cortex = pd.DataFrame([x for x in sa_cortex if 'cereb' not in x])\n",
    "sa_cortex.columns = ['structure_name']"
   ]
  },
  {
   "cell_type": "code",
   "execution_count": null,
   "id": "08db698d",
   "metadata": {},
   "outputs": [],
   "source": [
    "#adults = [ '18 yrs', '19 yrs', '21 yrs','23 yrs', '30 yrs', '36 yrs', '37 yrs', '40 yrs']\n",
    "adults = [ '18 yrs', '19 yrs', '21 yrs','23 yrs']#, '30 yrs', '36 yrs', '37 yrs', '40 yrs']\n",
    "cbpd_wide = ['3 yrs','4 yrs', '8 yrs', '11 yrs','13 yrs']"
   ]
  },
  {
   "cell_type": "code",
   "execution_count": null,
   "id": "647148a7",
   "metadata": {},
   "outputs": [],
   "source": [
    "df = pd.read_csv('../../Dataset/rna/brodmann_schaefer_0.8.csv')"
   ]
  },
  {
   "cell_type": "code",
   "execution_count": null,
   "id": "a3e217a6",
   "metadata": {},
   "outputs": [],
   "source": [
    "child_original = pd.read_csv('../../Derivatives/childhood/original.csv')\n",
    "adult_original = pd.read_csv('../../Derivatives/adult/original.csv')\n",
    "\n",
    "Visual = [x for x in df.columns if 'BA17' in x]\n",
    "Auditory = [x for x in df.columns if 'BA41' in x]\n",
    "Sensory =  [x for x in df.columns if 'BA1_3' in x] + [x for x in df.columns if 'BA2' in x] # [x for x in sarank.name.values if 'S2' in x] +\n",
    "Motor = [x for x in df.columns if 'BA4' in x]\n",
    "vPFC = [x for x in df.columns if 'BA44' in x] +  [x for x in df.columns if 'BA45' in x]\n",
    "dPFC = [x for x in df.columns if 'BA8' in x] + [x for x in df.columns if 'BA9' in x] + [x for x in df.columns if 'BA46' in x]\n",
    "OFC = [x for x in df.columns if 'BA11' in x] + [x for x in df.columns if 'BA12' in x]+ [x for x in df.columns if 'BA13' in x]  + [x for x in df.columns if 'BA14_' in x]\n",
    "TEv = [x for x in df.columns if 'BA20' in x]\n",
    "ACC = [x for x in df.columns if 'BA24' in x] + [x for x in df.columns if 'BA25' in x] + [x for x in df.columns if 'BA32' in x]\n",
    "STC = [x for x in df.columns if 'BA22' in x]\n",
    "IPC = [x for x in df.columns if 'BA39' in x] +  [x for x in df.columns if 'BA40' in x]\n",
    "\n",
    "child_regions = []\n",
    "adult_regions = []\n",
    "sas = []\n",
    "for x in [Sensory, Auditory, Motor, Visual, vPFC, dPFC, OFC, TEv, ACC, STC, IPC]:\n",
    "    roi  = df.loc[:, x].sum(axis=1)>0\n",
    "    child_original['roi']=roi\n",
    "    adult_original['roi']=roi\n",
    "    child_regions.append(child_original[child_original.roi==True].mean()['H'])\n",
    "    adult_regions.append(adult_original[adult_original.roi==True].mean()['H'])\n",
    "    sas.append(child_original[child_original.roi==True].mean()['SArank'])"
   ]
  },
  {
   "cell_type": "code",
   "execution_count": null,
   "id": "11fc512a",
   "metadata": {},
   "outputs": [],
   "source": [
    "child = pd.DataFrame([['Sensory', 'Auditory', 'Motor', 'Visual', 'vPFC', 'dPFC', 'OFC', 'TEv', 'ACC', 'STC', 'IPC'], child_regions, sas]).T.sort_values(2).reset_index(drop=True)\n",
    "child.columns = ['region', 'H', 'sa']\n",
    "adult = pd.DataFrame([['Sensory', 'Auditory', 'Motor', 'Visual', 'vPFC', 'dPFC', 'OFC', 'TEv', 'ACC', 'STC', 'IPC'], adult_regions, sas]).T.sort_values(2).reset_index(drop=True)\n",
    "adult.columns = ['region', 'H', 'sa']"
   ]
  },
  {
   "cell_type": "code",
   "execution_count": null,
   "id": "1f285688",
   "metadata": {},
   "outputs": [],
   "source": [
    "child['sa'] = [0,1,10,2,8,6,3,4,5,9,7]\n",
    "adult['sa'] = [0,1,10,2,8,6,3,4,5,9,7]"
   ]
  },
  {
   "cell_type": "code",
   "execution_count": null,
   "id": "b23b7c17",
   "metadata": {},
   "outputs": [],
   "source": [
    "brodmann = pd.read_csv('../../Dataset/rna/brodmann.csv')"
   ]
  },
  {
   "cell_type": "code",
   "execution_count": null,
   "id": "071f8cdd",
   "metadata": {},
   "outputs": [],
   "source": [
    "#sa_cortex['sa'] = [5,10,9,-1,8,-1,2,6,1,4,-1,3,0,-1,7]\n",
    "sa_cortex['sa'] = [10,7,9,-1,8,-1,5,4,1,3,-1,2,0,-1,6]\n",
    "gene_columns = pd.merge(gene_columns, sa_cortex, on='structure_name', how='left')"
   ]
  },
  {
   "cell_type": "code",
   "execution_count": null,
   "id": "07c4637c",
   "metadata": {},
   "outputs": [],
   "source": [
    "wide = gene_columns.loc[[x for x in gene_columns.index if gene_columns.loc[x,'age'] in adults], :]\n",
    "wide = wide[wide.sa>-1].sort_values('sa')\n",
    "print(wide.shape)\n",
    "wide.groupby('donor_id').count()"
   ]
  },
  {
   "cell_type": "code",
   "execution_count": null,
   "id": "71e3adda",
   "metadata": {},
   "outputs": [],
   "source": [
    "age = pd.DataFrame(gene_columns.age.unique())\n",
    "age['rank'] = np.arange(1,age.shape[0]+1)\n",
    "age.columns = ['age', 'rank']\n",
    "gene_columns = pd.merge(gene_columns, age, on='age', how='left')"
   ]
  },
  {
   "cell_type": "code",
   "execution_count": null,
   "id": "4a841950",
   "metadata": {},
   "outputs": [],
   "source": [
    "cbpd_wide = ['3 yrs','4 yrs', '8 yrs', '11 yrs','13 yrs',  '15 yrs', '18 yrs', '19 yrs', '21 yrs','23 yrs']"
   ]
  },
  {
   "cell_type": "code",
   "execution_count": null,
   "id": "2b1f233f",
   "metadata": {},
   "outputs": [],
   "source": [
    "fignum = ['D', 'G']\n",
    "colors = ['Blues', 'Purples']\n",
    "for j,sets in enumerate([[0,1],[2,3,4,5]]):\n",
    "    if j==2:\n",
    "        my_palette = {c: sns.color_palette(colors[j], n_colors=(len(sets)+1)).as_hex()[c+1] for c in np.arange(len(sets))}\n",
    "    else:\n",
    "        my_palette = {c: sns.color_palette(colors[j], n_colors=len(sets)).as_hex()[c] for c in np.arange(len(sets))}\n",
    "    figure = plt.figure()\n",
    "    for i, marker in enumerate([markers[x] for x in sets]):\n",
    "        wide = gene_columns.loc[[x for x in gene_columns.index if gene_columns.loc[x,'age'] in cbpd_wide], :]\n",
    "        donor = wide.groupby(['donor_id']).mean().reset_index().sort_values('rank')\n",
    "        donor = donor.groupby(['rank']).std().reset_index().sort_values('rank')\n",
    "        wide = wide[wide.sa>-1]\n",
    "        wide = wide.groupby(['age']).mean().reset_index().sort_values('rank')\n",
    "        x = wide['rank'].values\n",
    "        y = stats.zscore(wide[marker].values)\n",
    "        yerr = donor[marker].values/np.sqrt(2)\n",
    "        plt.plot(x,y , color=my_palette[i])\n",
    "        plt.fill_between(x,y+yerr, y-yerr, color=my_palette[i])\n",
    "        plt.xticks(wide['rank'].values, cbpd_wide, rotation=90)\n",
    "        plt.ylabel('Marker expression (z-score)')\n",
    "        plt.xlabel('Age')\n",
    "    plt.legend([markers[x] for x in sets], loc='upper left', bbox_to_anchor=(1, 1))\n",
    "    stats.f_oneway(wide.iloc[0, 5:9], wide.iloc[1, 5:9], wide.iloc[2, 5:9])\n",
    "    #plt.savefig('../figures/Fig1'+fignum[j]+'.eps',  format='eps', bbox_inches='tight')"
   ]
  },
  {
   "cell_type": "code",
   "execution_count": null,
   "id": "acede3de",
   "metadata": {},
   "outputs": [],
   "source": [
    "fignum = ['D', 'G']\n",
    "colors = ['Blues', 'Purples']\n",
    "for j,sets in enumerate([[0,1],[2,3,4,5]]):\n",
    "    figure = plt.figure()\n",
    "    if j==2:\n",
    "        my_palette = {c: sns.color_palette(colors[j], n_colors=(len(sets)+1)).as_hex()[c+1] for c in np.arange(len(sets))}\n",
    "    else:\n",
    "        my_palette = {c: sns.color_palette(colors[j], n_colors=len(sets)).as_hex()[c] for c in np.arange(len(sets))}\n",
    "    gene_columns = gene_columns[gene_columns.sa>-1]\n",
    "    for i, marker in enumerate([markers[x] for x in sets]):\n",
    "        wide = gene_columns.loc[[x for x in gene_columns.index if gene_columns.loc[x,'age'] in cbpd_wide], :]\n",
    "        anova = stats.f_oneway(wide[wide.age==cbpd_wide[0]][marker].values,wide[wide.age==cbpd_wide[1]][marker].values,wide[wide.age==cbpd_wide[2]][marker].values,wide[wide.age==cbpd_wide[3]][marker].values,wide[wide.age==cbpd_wide[4]][marker].values)\n",
    "        tuckey = pairwise_tukeyhsd(wide[marker], wide.age)\n",
    "        print(tuckey)\n",
    "        donor = wide.groupby(['age']).std().reset_index().sort_values('rank')\n",
    "        wide = wide.groupby(['age']).mean().reset_index().sort_values('rank')\n",
    "        x = wide['rank'].values\n",
    "        y = stats.zscore(wide[marker].values)\n",
    "        yerr = donor[marker].values/2\n",
    "        plt.plot(x,y , color=my_palette[i])\n",
    "        plt.fill_between(x,y+yerr, y-yerr, color=my_palette[i])\n",
    "        plt.xticks(wide['rank'].values, cbpd_wide, rotation=90)\n",
    "        plt.ylabel('Marker expression (z-score)')\n",
    "        plt.xlabel('Age')\n",
    "        plt.ylim([-2.5,2])\n",
    "    plt.savefig('Fig1'+fignum[j]+'_allregion.eps',  format='eps', bbox_inches='tight')"
   ]
  }
 ],
 "metadata": {
  "kernelspec": {
   "display_name": "Python 3",
   "language": "python",
   "name": "python3"
  },
  "language_info": {
   "codemirror_mode": {
    "name": "ipython",
    "version": 3
   },
   "file_extension": ".py",
   "mimetype": "text/x-python",
   "name": "python",
   "nbconvert_exporter": "python",
   "pygments_lexer": "ipython3",
   "version": "3.8.8"
  }
 },
 "nbformat": 4,
 "nbformat_minor": 5
}
