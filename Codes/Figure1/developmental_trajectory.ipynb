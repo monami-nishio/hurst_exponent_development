{
 "cells": [
  {
   "cell_type": "code",
   "execution_count": 1,
   "id": "8a28dd43",
   "metadata": {},
   "outputs": [],
   "source": [
    "import pandas as pd\n",
    "import numpy as np\n",
    "import os\n",
    "import statsmodels.api as sm\n",
    "import matplotlib.pyplot as plt\n",
    "from sklearn.preprocessing import PolynomialFeatures\n",
    "from sklearn.linear_model import LinearRegression\n",
    "from sklearn.pipeline import Pipeline\n",
    "from natsort import natsorted\n",
    "from scipy.stats import pearsonr\n",
    "import seaborn as sns\n",
    "from statsmodels.stats.multicomp import pairwise_tukeyhsd\n",
    "import matplotlib.cm as cm\n",
    "from pygam import LinearGAM, s, f\n",
    "from scipy import stats\n",
    "sns.set(font_scale=1.5, style=\"white\")"
   ]
  },
  {
   "cell_type": "code",
   "execution_count": 2,
   "id": "168d1368",
   "metadata": {},
   "outputs": [],
   "source": [
    "regionname = pd.read_csv('../../Dataset/childhood/atlas/schaefer400_regions.csv')\n",
    "sarank = pd.read_csv('../../Dataset/childhood/saaxis/Sensorimotor_Association_Axis_AverageRanks.csv')\n",
    "sarank = pd.concat([regionname.reset_index(drop=True), sarank.reset_index(drop=True)],axis=1)\n",
    "sarank = sarank.loc[:, ['name', 'finalrank.wholebrain']]"
   ]
  },
  {
   "cell_type": "code",
   "execution_count": null,
   "id": "0e5c4a57",
   "metadata": {},
   "outputs": [],
   "source": [
    "# read expression data\n",
    "data_dir = '../../Dataset/childhood/rna'\n",
    "gene_columns = pd.read_csv(os.path.join(data_dir, 'columns_metadata.csv'))\n",
    "gene_rows = pd.read_csv(os.path.join(data_dir, 'rows_metadata.csv'))\n",
    "gene_columns['id'] = range(1, len(gene_columns) + 1)\n",
    "expr_matrix = pd.read_csv(os.path.join(data_dir, 'expression_matrix.csv'), header=None)\n",
    "expr_matrix = expr_matrix.iloc[:, 1:] "
   ]
  },
  {
   "cell_type": "code",
   "execution_count": null,
   "id": "f91e34bd",
   "metadata": {},
   "outputs": [],
   "source": [
    "# remove genes without an entrez id\n",
    "expr_subset = expr_matrix[~gene_rows['entrez_id'].isna()]\n",
    "rows_subset = gene_rows[~gene_rows['entrez_id'].isna()]"
   ]
  },
  {
   "cell_type": "code",
   "execution_count": null,
   "id": "1f457b4e",
   "metadata": {},
   "outputs": [],
   "source": [
    "# log2 transform expression data and collapse duplicated transcripts\n",
    "log2_expr = np.log2(expr_subset + 1)\n",
    "log2_expr['entrez_id'] = rows_subset['entrez_id']"
   ]
  },
  {
   "cell_type": "code",
   "execution_count": null,
   "id": "2067ce6a",
   "metadata": {},
   "outputs": [],
   "source": [
    "# select inhibitory-related markers\n",
    "markers  = ['PVALB', 'SST', 'VIP', 'GAD1', 'GAD2'] \n",
    "for marker in markers:\n",
    "    ids = gene_rows[gene_rows.gene_symbol==marker].entrez_id.values[0]\n",
    "    df_marker = log2_expr[log2_expr.entrez_id==ids].iloc[:, :-1].T.values\n",
    "    gene_columns[marker] = df_marker"
   ]
  },
  {
   "cell_type": "code",
   "execution_count": null,
   "id": "f6d2f08b",
   "metadata": {},
   "outputs": [],
   "source": [
    "sa_cortex = np.unique([x for x in gene_columns.structure_name if 'cortex' in x])\n",
    "sa_cortex = pd.DataFrame([x for x in sa_cortex if 'cereb' not in x])\n",
    "sa_cortex.columns = ['structure_name']\n",
    "sa_cortex['sa'] = [7,10,8,-1,6,-1,4,5,1,3,-1,2,0,-1,9]\n",
    "gene_columns = pd.merge(gene_columns, sa_cortex, on='structure_name', how='left')"
   ]
  },
  {
   "cell_type": "code",
   "execution_count": null,
   "id": "cbc8500f",
   "metadata": {},
   "outputs": [],
   "source": [
    "age = pd.DataFrame(gene_columns.age.unique())\n",
    "age['rank'] = np.arange(1,age.shape[0]+1)\n",
    "age.columns = ['age', 'rank']\n",
    "gene_columns = pd.merge(gene_columns, age, on='age', how='left')"
   ]
  },
  {
   "cell_type": "code",
   "execution_count": null,
   "id": "08db698d",
   "metadata": {},
   "outputs": [],
   "source": [
    "adults = [ '18 yrs', '19 yrs', '21 yrs','23 yrs']\n",
    "cbpd_wide = ['3 yrs','4 yrs', '8 yrs', '11 yrs','13 yrs']"
   ]
  },
  {
   "cell_type": "code",
   "execution_count": null,
   "id": "07c4637c",
   "metadata": {},
   "outputs": [],
   "source": [
    "wide = gene_columns.loc[[x for x in gene_columns.index if gene_columns.loc[x,'age'] in adults], :]\n",
    "wide = wide[wide.sa>-1].sort_values('sa')"
   ]
  },
  {
   "cell_type": "code",
   "execution_count": null,
   "id": "fa59ee31",
   "metadata": {},
   "outputs": [],
   "source": [
    "my_palette = {c: sns.color_palette('PuOr', n_colors=(11)).as_hex()[c] for c in np.arange(11)}\n",
    "for j,sets in enumerate([[0,1,2],[3,4]]):\n",
    "    gene_columns = gene_columns[gene_columns.sa>-1]\n",
    "    for i, marker in enumerate([markers[x] for x in sets]):\n",
    "        figure = plt.figure()\n",
    "        wide = gene_columns.loc[[x for x in gene_columns.index if gene_columns.loc[x,'age'] in cbpd_wide], :]\n",
    "        wide = wide[wide.age!='4 yrs']\n",
    "        for t,structure_name in enumerate(wide.sa.unique()[:-1]):\n",
    "            wide_st = wide[wide.sa==structure_name]\n",
    "            wide_st = wide_st.loc[:, ['age', 'sa', 'rank', 'donor_id', 'PVALB', 'SST', 'VIP', 'GAD1', 'GAD2']]\n",
    "            donor = wide_st.groupby(['rank', 'age']).std().reset_index().sort_values('rank')\n",
    "            wide_st = wide_st.groupby(['age']).mean().reset_index().sort_values('rank')\n",
    "            x = [str(t) for t in wide_st['rank'].values]\n",
    "            y = wide_st[marker].values\n",
    "            yerr = donor[marker].values\n",
    "            plt.errorbar(x,y , yerr=yerr, color=my_palette[structure_name]) \n",
    "            if j == 0:\n",
    "                plt.ylim([2,9])\n",
    "            else:\n",
    "                plt.ylim([1.5,5])\n",
    "            plt.ylabel('Marker expression (z-score)')\n",
    "            plt.xlabel('Age')\n",
    "            plt.legend([wide[wide.sa==x].structure_acronym.values[0] for x in wide.sa.unique()], bbox_to_anchor=(1.05, 1), loc='upper left')"
   ]
  },
  {
   "cell_type": "code",
   "execution_count": 12,
   "id": "4eabbfd5",
   "metadata": {},
   "outputs": [],
   "source": [
    "wide.to_csv('RNA.csv', index=False)"
   ]
  },
  {
   "cell_type": "code",
   "execution_count": 14,
   "id": "64d74e26",
   "metadata": {},
   "outputs": [
    {
     "data": {
      "text/plain": [
       "array(['3 yrs', '8 yrs', '11 yrs', '13 yrs'], dtype=object)"
      ]
     },
     "execution_count": 14,
     "metadata": {},
     "output_type": "execute_result"
    }
   ],
   "source": [
    "wide.age.unique()"
   ]
  },
  {
   "cell_type": "code",
   "execution_count": null,
   "id": "f5b4992e",
   "metadata": {},
   "outputs": [],
   "source": []
  }
 ],
 "metadata": {
  "kernelspec": {
   "display_name": "Python 3",
   "language": "python",
   "name": "python3"
  },
  "language_info": {
   "codemirror_mode": {
    "name": "ipython",
    "version": 3
   },
   "file_extension": ".py",
   "mimetype": "text/x-python",
   "name": "python",
   "nbconvert_exporter": "python",
   "pygments_lexer": "ipython3",
   "version": "3.8.8"
  }
 },
 "nbformat": 4,
 "nbformat_minor": 5
}
