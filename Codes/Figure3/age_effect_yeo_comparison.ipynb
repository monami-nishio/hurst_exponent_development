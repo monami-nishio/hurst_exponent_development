{
 "cells": [
  {
   "cell_type": "code",
   "execution_count": 1,
   "id": "aca00265",
   "metadata": {},
   "outputs": [],
   "source": [
    "import pandas as pd\n",
    "import numpy as np\n",
    "import matplotlib.pyplot as plt\n",
    "import glob\n",
    "from scipy.stats import f_oneway\n",
    "import os"
   ]
  },
  {
   "cell_type": "code",
   "execution_count": 2,
   "id": "a46da651",
   "metadata": {},
   "outputs": [],
   "source": [
    "brainmap = pd.read_csv(\"../../Derivatives/childhood/brainmap.csv\")"
   ]
  },
  {
   "cell_type": "code",
   "execution_count": 3,
   "id": "d69ef76b",
   "metadata": {},
   "outputs": [],
   "source": [
    "ageeffect = pd.read_csv('../../Derivatives/childhood/H_gam_ageeffect_corrected.csv')\n",
    "ageeffect['label'] = brainmap['scaefer7']\n",
    "ageeffect = ageeffect[ageeffect.age>0]"
   ]
  },
  {
   "cell_type": "code",
   "execution_count": 4,
   "id": "af37200e",
   "metadata": {},
   "outputs": [],
   "source": [
    "derivatives = pd.read_csv('../../Derivatives/childhood/H_gam_derivative.csv')\n",
    "derivatives['label'] = brainmap['scaefer7']\n",
    "derivatvies = derivatives.loc[[x for x in derivatives.index if x in ageeffect[ageeffect.age>0].index.values], :]"
   ]
  },
  {
   "cell_type": "code",
   "execution_count": 5,
   "id": "f494ffa6",
   "metadata": {},
   "outputs": [],
   "source": [
    "derivatives = derivatives[derivatives.age>0]"
   ]
  },
  {
   "cell_type": "code",
   "execution_count": 6,
   "id": "bf4e9873",
   "metadata": {},
   "outputs": [
    {
     "name": "stdout",
     "output_type": "stream",
     "text": [
      "F_onewayResult(statistic=1.9218776926777157, pvalue=0.09503727448309349)\n"
     ]
    },
    {
     "data": {
      "image/png": "[encoded data removed]",
      "text/plain": [
       "<Figure size 432x288 with 1 Axes>"
      ]
     },
     "metadata": {
      "needs_background": "light"
     },
     "output_type": "display_data"
    }
   ],
   "source": [
    "df = pd.DataFrame([derivatives.label, derivatives.age]).T.dropna()\n",
    "df = df[df.age>0]\n",
    "plt.scatter(df.label, df.age, color='k')\n",
    "plt.errorbar(np.arange(1,8), df.groupby('label').mean().reset_index()['age'].values, yerr=df.groupby('label').sem().reset_index()['age'].values, fmt=\"o\")\n",
    "plt.savefig('yeonetwork.eps')\n",
    "anova = f_oneway(df[df.label==1].age.values,df[df.label==2].age.values,df[df.label==3].age.values\n",
    "              ,df[df.label==4].age.values,df[df.label==5].age.values,df[df.label==6].age.values,df[df.label==7].age.values)\n",
    "print(anova)\n",
    "plt.savefig('all_derivatives.eps')"
   ]
  },
  {
   "cell_type": "code",
   "execution_count": 7,
   "id": "84b661dd",
   "metadata": {},
   "outputs": [],
   "source": [
    "derivatives = derivatives[derivatives.age<10]"
   ]
  },
  {
   "cell_type": "code",
   "execution_count": 8,
   "id": "ff7e378a",
   "metadata": {},
   "outputs": [
    {
     "name": "stdout",
     "output_type": "stream",
     "text": [
      "F_onewayResult(statistic=2.8845500848896433, pvalue=0.07239162885113513)\n"
     ]
    },
    {
     "data": {
      "image/png": "[encoded data removed]",
      "text/plain": [
       "<Figure size 432x288 with 1 Axes>"
      ]
     },
     "metadata": {
      "needs_background": "light"
     },
     "output_type": "display_data"
    }
   ],
   "source": [
    "df = pd.DataFrame([derivatives.label, derivatives.age]).T.dropna()\n",
    "df = df[df.age>0]\n",
    "plt.scatter(df.label, df.age, color='k')\n",
    "plt.errorbar(np.arange(2,8), df.groupby('label').mean().reset_index()['age'].values, yerr=df.groupby('label').sem().reset_index()['age'].values, fmt=\"o\")\n",
    "plt.savefig('yeonetwork.eps')\n",
    "anova = f_oneway(df[df.label==2].age.values,df[df.label==3].age.values\n",
    "              ,df[df.label==4].age.values,df[df.label==5].age.values,df[df.label==6].age.values,df[df.label==7].age.values)\n",
    "print(anova)\n",
    "plt.savefig('nonlinear_derivatives.eps')"
   ]
  },
  {
   "cell_type": "code",
   "execution_count": 9,
   "id": "5989a611",
   "metadata": {},
   "outputs": [
    {
     "name": "stdout",
     "output_type": "stream",
     "text": [
      "F_onewayResult(statistic=0.14101447366473252, pvalue=0.9900834688724635)\n"
     ]
    },
    {
     "data": {
      "image/png": "[encoded data removed]",
      "text/plain": [
       "<Figure size 432x288 with 1 Axes>"
      ]
     },
     "metadata": {
      "needs_background": "light"
     },
     "output_type": "display_data"
    }
   ],
   "source": [
    "df = pd.DataFrame([ageeffect.label, ageeffect.age]).T.dropna()\n",
    "df = df[df.age>0]\n",
    "#plt.boxplot([df[df.label==1].age.values,df[df.label==2].age.values,df[df.label==3].age.values\n",
    "#              ,df[df.label==4].age.values,df[df.label==5].age.values,df[df.label==6].age.values,df[df.label==7].age.values])\n",
    "plt.scatter(df.label, df.age, color='k')\n",
    "plt.errorbar(np.arange(1,8), df.groupby('label').mean().reset_index()['age'].values, yerr=df.groupby('label').sem().reset_index()['age'].values, fmt=\"o\")\n",
    "plt.savefig('yeonetwork.eps')\n",
    "anova = f_oneway(df[df.label==1].age.values,df[df.label==2].age.values,df[df.label==3].age.values\n",
    "              ,df[df.label==4].age.values,df[df.label==5].age.values,df[df.label==6].age.values,df[df.label==7].age.values)\n",
    "print(anova)\n",
    "plt.savefig('ageeffect.eps')"
   ]
  }
 ],
 "metadata": {
  "kernelspec": {
   "display_name": "Python 3",
   "language": "python",
   "name": "python3"
  },
  "language_info": {
   "codemirror_mode": {
    "name": "ipython",
    "version": 3
   },
   "file_extension": ".py",
   "mimetype": "text/x-python",
   "name": "python",
   "nbconvert_exporter": "python",
   "pygments_lexer": "ipython3",
   "version": "3.8.8"
  }
 },
 "nbformat": 4,
 "nbformat_minor": 5
}
