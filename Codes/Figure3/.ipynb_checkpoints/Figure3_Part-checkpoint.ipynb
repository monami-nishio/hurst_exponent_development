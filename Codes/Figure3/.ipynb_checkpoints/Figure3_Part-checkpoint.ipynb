{
 "cells": [
  {
   "cell_type": "code",
   "execution_count": 1,
   "id": "8a28dd43",
   "metadata": {},
   "outputs": [],
   "source": [
    "import pandas as pd\n",
    "import numpy as np\n",
    "from scipy.stats import f_oneway\n",
    "import os\n",
    "import statsmodels.api as sm\n",
    "import matplotlib.pyplot as plt\n",
    "from sklearn.preprocessing import PolynomialFeatures\n",
    "from sklearn.linear_model import LinearRegression\n",
    "from sklearn.pipeline import Pipeline\n",
    "from natsort import natsorted\n",
    "from scipy.stats import pearsonr\n",
    "import seaborn as sns\n",
    "import matplotlib.cm as cm\n",
    "from pygam import LinearGAM, s, f\n",
    "from scipy import stats\n",
    "sns.set(font_scale=1.5, style=\"white\")"
   ]
  },
  {
   "cell_type": "code",
   "execution_count": 2,
   "id": "647148a7",
   "metadata": {},
   "outputs": [],
   "source": [
    "df = pd.read_csv('../../Dataset/rna/brodmann_schaefer_0.5.csv')"
   ]
  },
  {
   "cell_type": "code",
   "execution_count": 15,
   "id": "3291172e",
   "metadata": {},
   "outputs": [],
   "source": [
    "age_effect_nocorrection = pd.read_csv('../../Derivatives/childhood/H_gam_ageeffect_nocorrected.csv')\n",
    "age_effect = pd.read_csv('../../Derivatives/childhood/H_gam_ageeffect_corrected.csv')"
   ]
  },
  {
   "cell_type": "code",
   "execution_count": 16,
   "id": "7eeeeb72",
   "metadata": {},
   "outputs": [],
   "source": [
    "adult_original = pd.read_csv('../../Derivatives/adult/original.csv')"
   ]
  },
  {
   "cell_type": "code",
   "execution_count": 17,
   "id": "31d31e92",
   "metadata": {},
   "outputs": [],
   "source": [
    "age_effect_nocorrection['SArank'] = adult_original.SArank.values\n",
    "age_effect['SArank'] = adult_original.SArank.values"
   ]
  },
  {
   "cell_type": "code",
   "execution_count": null,
   "id": "a3e217a6",
   "metadata": {},
   "outputs": [],
   "source": [
    "Visual = [x for x in df.columns if 'BA17' in x]\n",
    "Auditory = [x for x in df.columns if 'BA41' in x]\n",
    "Sensory =  [x for x in df.columns if 'BA1_3' in x] + [x for x in df.columns if 'BA2' in x] # [x for x in sarank.name.values if 'S2' in x] +\n",
    "Motor = [x for x in df.columns if 'BA4' in x]\n",
    "vPFC = [x for x in df.columns if 'BA44' in x] +  [x for x in df.columns if 'BA45' in x]\n",
    "dPFC = [x for x in df.columns if 'BA8' in x] + [x for x in df.columns if 'BA9' in x] + [x for x in df.columns if 'BA46' in x]\n",
    "OFC = [x for x in df.columns if 'BA11' in x] + [x for x in df.columns if 'BA12' in x]+ [x for x in df.columns if 'BA13' in x]  + [x for x in df.columns if 'BA14_' in x]\n",
    "TEv = [x for x in df.columns if 'BA20' in x]\n",
    "ACC = [x for x in df.columns if 'BA24' in x] + [x for x in df.columns if 'BA25' in x] + [x for x in df.columns if 'BA32' in x]\n",
    "STC = [x for x in df.columns if 'BA22' in x]\n",
    "IPC = [x for x in df.columns if 'BA39' in x] +  [x for x in df.columns if 'BA40' in x]\n",
    "\n",
    "child_regions_corrected = []\n",
    "child_regions_nocorrected = []\n",
    "sas = []\n",
    "for x in [Sensory, Auditory, Motor, Visual, vPFC, dPFC, OFC, TEv, ACC, STC, IPC]:\n",
    "    print(x)\n",
    "    roi  = df.loc[:, x].sum(axis=1)>0\n",
    "    age_effect_nocorrection['roi']=roi\n",
    "    age_effect['roi']=roi\n",
    "    child_regions_corrected.append(age_effect[age_effect.roi==True].loc[:, 'age'].mean())\n",
    "    child_regions_nocorrected.append(age_effect_nocorrection[age_effect_nocorrection.roi==True].loc[:, 'age'].mean())\n",
    "    sas.append(age_effect[age_effect.roi==True].loc[:, ['age', 'SArank']].mean()['SArank'])"
   ]
  },
  {
   "cell_type": "code",
   "execution_count": null,
   "id": "6c1df2ba",
   "metadata": {},
   "outputs": [],
   "source": [
    "child = pd.DataFrame([['Sensory', 'Auditory', 'Motor', 'Visual', 'vPFC', 'dPFC', 'OFC', 'TEv', 'ACC', 'STC', 'IPC'], child_regions_corrected, sas]).T.sort_values(2).reset_index(drop=True)\n",
    "child.columns = ['region', 'H', 'sa']\n",
    "adult = pd.DataFrame([['Sensory', 'Auditory', 'Motor', 'Visual', 'vPFC', 'dPFC', 'OFC', 'TEv', 'ACC', 'STC', 'IPC'], child_regions_nocorrected, sas]).T.sort_values(2).reset_index(drop=True)\n",
    "adult.columns = ['region', 'H', 'sa']"
   ]
  },
  {
   "cell_type": "code",
   "execution_count": 5,
   "id": "12902864",
   "metadata": {},
   "outputs": [],
   "source": [
    "df = pd.read_csv('../../Dataset/rna/brodmann_schaefer_0.5.csv')"
   ]
  },
  {
   "cell_type": "code",
   "execution_count": 28,
   "id": "c25cfc1c",
   "metadata": {},
   "outputs": [],
   "source": [
    "Visual = [x for x in df.columns if 'BA17' in x]\n",
    "Auditory = [x for x in df.columns if 'BA41' in x]\n",
    "Sensory =  [x for x in df.columns if 'BA1_3' in x] + [x for x in df.columns if 'BA2' in x] # [x for x in sarank.name.values if 'S2' in x] +\n",
    "Motor = [x for x in df.columns if 'BA4' in x]\n",
    "vPFC = [x for x in df.columns if 'BA44' in x] +  [x for x in df.columns if 'BA45' in x]\n",
    "dPFC = [x for x in df.columns if 'BA8' in x] + [x for x in df.columns if 'BA9' in x] + [x for x in df.columns if 'BA46' in x]\n",
    "OFC = [x for x in df.columns if 'BA11' in x] + [x for x in df.columns if 'BA12' in x]+ [x for x in df.columns if 'BA13' in x]  + [x for x in df.columns if 'BA14_' in x]\n",
    "TEv = [x for x in df.columns if 'BA20' in x]\n",
    "ACC = [x for x in df.columns if 'BA24' in x] + [x for x in df.columns if 'BA25' in x] + [x for x in df.columns if 'BA32' in x]\n",
    "STC = [x for x in df.columns if 'BA22' in x]\n",
    "IPC = [x for x in df.columns if 'BA39' in x] +  [x for x in df.columns if 'BA40' in x]"
   ]
  },
  {
   "cell_type": "code",
   "execution_count": null,
   "id": "b4f3bca0",
   "metadata": {},
   "outputs": [],
   "source": [
    "child_regions_corrected = []\n",
    "child_regions_nocorrected = []\n",
    "sas = []\n",
    "for x in [Visual, Auditory, Sensory, Motor, IPC, STC,vPFC, dPFC, OFC, TEv, ACC ]:\n",
    "    print(x)\n",
    "    roi  = df.loc[:, x].sum(axis=1)>0\n",
    "    age_effect_nocorrection['roi']=roi\n",
    "    age_effect['roi']=roi\n",
    "    child_regions_corrected.append(np.array(age_effect[age_effect.roi==True].loc[:200, 'age']))\n",
    "    child_regions_nocorrected.append(np.array(age_effect_nocorrection[age_effect_nocorrection.roi==True].loc[:200, 'age']))\n",
    "    sas.append(age_effect[age_effect.roi==True].loc[:, ['age', 'SArank']].mean()['SArank'])\n",
    "for i in np.arange(1,12):\n",
    "    plt.scatter(np.repeat(i, len(child_regions_nocorrected[i-1])), child_regions_nocorrected[i-1], color='k')\n",
    "anova = f_oneway(child_regions_nocorrected[0], child_regions_nocorrected[1], child_regions_nocorrected[2], child_regions_nocorrected[3], child_regions_nocorrected[4],\n",
    "       child_regions_nocorrected[5], child_regions_nocorrected[6], child_regions_nocorrected[7], child_regions_nocorrected[8], child_regions_nocorrected[9], \n",
    "        child_regions_nocorrected[10])\n",
    "print(anova)\n",
    "child_regions_corrected = []\n",
    "child_regions_nocorrected = []\n",
    "sas = []\n",
    "for x in [Visual, Auditory, Sensory, Motor, IPC, STC,vPFC, dPFC, OFC, TEv, ACC ]:\n",
    "    roi  = df.loc[:, x].sum(axis=1)>0\n",
    "    age_effect_nocorrection['roi']=roi\n",
    "    age_effect['roi']=roi\n",
    "    child_regions_corrected.append(np.array(age_effect[age_effect.roi==True].loc[200:, 'age']))\n",
    "    child_regions_nocorrected.append(np.array(age_effect_nocorrection[age_effect_nocorrection.roi==True].loc[200:, 'age']))\n",
    "    sas.append(age_effect[age_effect.roi==True].loc[:, ['age', 'SArank']].mean()['SArank'])\n",
    "for i in np.arange(1,12):\n",
    "    plt.scatter(np.repeat(i, len(child_regions_nocorrected[i-1])), child_regions_nocorrected[i-1], color='k')\n",
    "anova = f_oneway(child_regions_nocorrected[0], child_regions_nocorrected[1], child_regions_nocorrected[2], child_regions_nocorrected[3], child_regions_nocorrected[4],\n",
    "       child_regions_nocorrected[5], child_regions_nocorrected[6], child_regions_nocorrected[7], child_regions_nocorrected[8], child_regions_nocorrected[9], \n",
    "        child_regions_nocorrected[10])\n",
    "print(anova)\n",
    "child_regions_corrected = []\n",
    "child_regions_nocorrected = []\n",
    "sas = []\n",
    "for x in [Visual, Auditory, Sensory, Motor, IPC, STC,vPFC, dPFC, OFC, TEv, ACC ]:\n",
    "    roi  = df.loc[:, x].sum(axis=1)>0\n",
    "    age_effect_nocorrection['roi']=roi\n",
    "    age_effect['roi']=roi\n",
    "    child_regions_corrected.append(np.array(age_effect[age_effect.roi==True].loc[:, 'age']))\n",
    "    child_regions_nocorrected.append(np.array(age_effect_nocorrection[age_effect_nocorrection.roi==True].loc[:, 'age']))\n",
    "    sas.append(age_effect[age_effect.roi==True].loc[:, ['age', 'SArank']].mean()['SArank'])\n",
    "plt.boxplot(child_regions_nocorrected)\n",
    "f_oneway(child_regions_nocorrected[0], child_regions_nocorrected[1], child_regions_nocorrected[2], child_regions_nocorrected[3], child_regions_nocorrected[4],\n",
    "       child_regions_nocorrected[5], child_regions_nocorrected[6], child_regions_nocorrected[7], child_regions_nocorrected[8], child_regions_nocorrected[9], \n",
    "       child_regions_nocorrected[10])\n",
    "plt.ylim([-0.01,0.08])\n",
    "plt.savefig('boxplot.eps')"
   ]
  },
  {
   "cell_type": "code",
   "execution_count": 34,
   "id": "459b3234",
   "metadata": {},
   "outputs": [],
   "source": [
    "age_H = pd.read_csv(\"../../Derivatives/childhood/hurst_motion_1mm.csv\")"
   ]
  },
  {
   "cell_type": "code",
   "execution_count": 47,
   "id": "d36a0cc5",
   "metadata": {},
   "outputs": [],
   "source": [
    "df_brod = pd.DataFrame()\n",
    "sas = []\n",
    "for i, x in enumerate([Visual, Auditory, Sensory, Motor, IPC, STC,vPFC, dPFC, OFC, TEv, ACC ]):\n",
    "    roi  = [i for i in np.arange(400) if df.loc[:, x].sum(axis=1)[i]>0]\n",
    "    df_brod = pd.concat([df_brod, age_H.iloc[:, roi]], axis=1)\n",
    "    sas += list(np.repeat(i, len(roi)))"
   ]
  },
  {
   "cell_type": "code",
   "execution_count": 51,
   "id": "849ba424",
   "metadata": {},
   "outputs": [],
   "source": [
    "df_brod.columns = sas\n",
    "df_brod['age_scan'] = age_H.age_scan\n",
    "df_brod['male'] = age_H.male\n",
    "df_brod['meanFD'] = age_H.meanFD\n",
    "df_brod.to_csv('../../Derivatives/childhood/hurst_brodmann.csv', index=False)"
   ]
  },
  {
   "cell_type": "code",
   "execution_count": 67,
   "id": "88b38e7c",
   "metadata": {},
   "outputs": [
    {
     "data": {
      "text/plain": [
       "[0,\n",
       " 0,\n",
       " 1,\n",
       " 2,\n",
       " 2,\n",
       " 2,\n",
       " 2,\n",
       " 2,\n",
       " 2,\n",
       " 2,\n",
       " 2,\n",
       " 2,\n",
       " 2,\n",
       " 2,\n",
       " 2,\n",
       " 2,\n",
       " 2,\n",
       " 2,\n",
       " 3,\n",
       " 3,\n",
       " 3,\n",
       " 3,\n",
       " 3,\n",
       " 3,\n",
       " 3,\n",
       " 3,\n",
       " 3,\n",
       " 3,\n",
       " 4,\n",
       " 4,\n",
       " 4,\n",
       " 4,\n",
       " 5,\n",
       " 6,\n",
       " 6,\n",
       " 7,\n",
       " 8,\n",
       " 8,\n",
       " 9,\n",
       " 10,\n",
       " 10]"
      ]
     },
     "execution_count": 67,
     "metadata": {},
     "output_type": "execute_result"
    }
   ],
   "source": [
    "sas"
   ]
  },
  {
   "cell_type": "markdown",
   "id": "cf7c268b",
   "metadata": {},
   "source": [
    "df = pd.read_csv('../../Dataset/rna/brodmann_schaefer_0.5.csv')\n",
    "child_regions_corrected = []\n",
    "child_regions_nocorrected = []\n",
    "sas = []\n",
    "for x in df.columns[2:]:\n",
    "    roi  = df.loc[:, x]\n",
    "    age_effect_nocorrection['roi']=roi\n",
    "    age_effect['roi']=roi\n",
    "    child_regions_corrected.append(np.array(age_effect[age_effect.roi==True].loc[:, 'age']))\n",
    "    child_regions_nocorrected.append(np.array(age_effect_nocorrection[age_effect_nocorrection.roi==True].loc[:, 'age']))\n",
    "    sas.append(age_effect[age_effect.roi==True].loc[:, ['age', 'SArank']].mean()['SArank'])\n",
    "plt.boxplot(child_regions_nocorrected)\n",
    "f_oneway(child_regions_nocorrected[0], child_regions_nocorrected[1], child_regions_nocorrected[2], child_regions_nocorrected[3], child_regions_nocorrected[4],\n",
    "       child_regions_nocorrected[5], child_regions_nocorrected[6], child_regions_nocorrected[7], child_regions_nocorrected[8], child_regions_nocorrected[9], \n",
    "       child_regions_nocorrected[10])\n",
    "#plt.ylim([-0.01,0.08])\n",
    "plt.xticks(np.arange(len(df.columns[2:])), df.columns[2:], rotation=90, size=10)\n",
    "plt.savefig('boxplot.eps')"
   ]
  }
 ],
 "metadata": {
  "kernelspec": {
   "display_name": "Python 3",
   "language": "python",
   "name": "python3"
  },
  "language_info": {
   "codemirror_mode": {
    "name": "ipython",
    "version": 3
   },
   "file_extension": ".py",
   "mimetype": "text/x-python",
   "name": "python",
   "nbconvert_exporter": "python",
   "pygments_lexer": "ipython3",
   "version": "3.8.8"
  }
 },
 "nbformat": 4,
 "nbformat_minor": 5
}
