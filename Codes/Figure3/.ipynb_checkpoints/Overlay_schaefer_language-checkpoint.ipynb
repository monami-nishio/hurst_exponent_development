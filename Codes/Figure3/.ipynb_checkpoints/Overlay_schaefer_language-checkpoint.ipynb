{
 "cells": [
  {
   "cell_type": "code",
   "execution_count": 1,
   "id": "8a28dd43",
   "metadata": {},
   "outputs": [],
   "source": [
    "import pandas as pd\n",
    "import numpy as np\n",
    "from scipy.stats import f_oneway\n",
    "import os\n",
    "import statsmodels.api as sm\n",
    "import matplotlib.pyplot as plt\n",
    "from sklearn.preprocessing import PolynomialFeatures\n",
    "from sklearn.linear_model import LinearRegression\n",
    "from sklearn.pipeline import Pipeline\n",
    "from natsort import natsorted\n",
    "from scipy.stats import pearsonr\n",
    "import seaborn as sns\n",
    "import matplotlib.cm as cm\n",
    "from pygam import LinearGAM, s, f\n",
    "from scipy import stats\n",
    "sns.set(font_scale=1.5, style=\"white\")"
   ]
  },
  {
   "cell_type": "code",
   "execution_count": 2,
   "id": "647148a7",
   "metadata": {},
   "outputs": [],
   "source": [
    "df = pd.read_csv('../../Dataset/rna/brodmann_schaefer_0.5.csv')"
   ]
  },
  {
   "cell_type": "code",
   "execution_count": 3,
   "id": "cf683873",
   "metadata": {},
   "outputs": [],
   "source": [
    "df_copy = df.iloc[:200, 2:]\n",
    "df.iloc[:200, 2:] = df.iloc[:200, 2:].values + df.iloc[200:, 2:].values\n",
    "df.iloc[200:, 2:] = df_copy.values + df.iloc[200:, 2:].values"
   ]
  },
  {
   "cell_type": "code",
   "execution_count": 4,
   "id": "23621a6e",
   "metadata": {},
   "outputs": [
    {
     "data": {
      "text/plain": [
       "65"
      ]
     },
     "execution_count": 4,
     "metadata": {},
     "output_type": "execute_result"
    }
   ],
   "source": [
    "df.iloc[200:, 2:].sum().sum()"
   ]
  },
  {
   "cell_type": "code",
   "execution_count": 5,
   "id": "3291172e",
   "metadata": {},
   "outputs": [],
   "source": [
    "age_effect_nocorrection = pd.read_csv('../../Derivatives/childhood/H_gam_ageeffect_nocorrected.csv')\n",
    "age_effect = pd.read_csv('../../Derivatives/childhood/H_gam_ageeffect_corrected.csv')"
   ]
  },
  {
   "cell_type": "code",
   "execution_count": 6,
   "id": "b6188b16",
   "metadata": {},
   "outputs": [
    {
     "data": {
      "text/html": [
       "<div>\n",
       "<style scoped>\n",
       "    .dataframe tbody tr th:only-of-type {\n",
       "        vertical-align: middle;\n",
       "    }\n",
       "\n",
       "    .dataframe tbody tr th {\n",
       "        vertical-align: top;\n",
       "    }\n",
       "\n",
       "    .dataframe thead th {\n",
       "        text-align: right;\n",
       "    }\n",
       "</style>\n",
       "<table border=\"1\" class=\"dataframe\">\n",
       "  <thead>\n",
       "    <tr style=\"text-align: right;\">\n",
       "      <th></th>\n",
       "      <th>age</th>\n",
       "      <th>region</th>\n",
       "    </tr>\n",
       "  </thead>\n",
       "  <tbody>\n",
       "    <tr>\n",
       "      <th>0</th>\n",
       "      <td>NaN</td>\n",
       "      <td>VisCent_ExStr_1</td>\n",
       "    </tr>\n",
       "    <tr>\n",
       "      <th>1</th>\n",
       "      <td>NaN</td>\n",
       "      <td>VisCent_ExStr_2</td>\n",
       "    </tr>\n",
       "    <tr>\n",
       "      <th>2</th>\n",
       "      <td>NaN</td>\n",
       "      <td>VisCent_ExStr_3</td>\n",
       "    </tr>\n",
       "    <tr>\n",
       "      <th>3</th>\n",
       "      <td>NaN</td>\n",
       "      <td>VisCent_ExStr_4</td>\n",
       "    </tr>\n",
       "    <tr>\n",
       "      <th>4</th>\n",
       "      <td>NaN</td>\n",
       "      <td>VisCent_ExStr_5</td>\n",
       "    </tr>\n",
       "    <tr>\n",
       "      <th>...</th>\n",
       "      <td>...</td>\n",
       "      <td>...</td>\n",
       "    </tr>\n",
       "    <tr>\n",
       "      <th>395</th>\n",
       "      <td>0.0328</td>\n",
       "      <td>TempPar_6</td>\n",
       "    </tr>\n",
       "    <tr>\n",
       "      <th>396</th>\n",
       "      <td>NaN</td>\n",
       "      <td>TempPar_7</td>\n",
       "    </tr>\n",
       "    <tr>\n",
       "      <th>397</th>\n",
       "      <td>NaN</td>\n",
       "      <td>TempPar_8</td>\n",
       "    </tr>\n",
       "    <tr>\n",
       "      <th>398</th>\n",
       "      <td>NaN</td>\n",
       "      <td>TempPar_9</td>\n",
       "    </tr>\n",
       "    <tr>\n",
       "      <th>399</th>\n",
       "      <td>NaN</td>\n",
       "      <td>TempPar_10</td>\n",
       "    </tr>\n",
       "  </tbody>\n",
       "</table>\n",
       "<p>400 rows × 2 columns</p>\n",
       "</div>"
      ],
      "text/plain": [
       "        age           region\n",
       "0       NaN  VisCent_ExStr_1\n",
       "1       NaN  VisCent_ExStr_2\n",
       "2       NaN  VisCent_ExStr_3\n",
       "3       NaN  VisCent_ExStr_4\n",
       "4       NaN  VisCent_ExStr_5\n",
       "..      ...              ...\n",
       "395  0.0328        TempPar_6\n",
       "396     NaN        TempPar_7\n",
       "397     NaN        TempPar_8\n",
       "398     NaN        TempPar_9\n",
       "399     NaN       TempPar_10\n",
       "\n",
       "[400 rows x 2 columns]"
      ]
     },
     "execution_count": 6,
     "metadata": {},
     "output_type": "execute_result"
    }
   ],
   "source": [
    "Functional/derivative/xcp_d_t1_original/space-MNI152NLin6Asym_atlas-Schaefer417_dseg.nii.gz"
   ]
  },
  {
   "cell_type": "code",
   "execution_count": 6,
   "id": "7eeeeb72",
   "metadata": {},
   "outputs": [],
   "source": [
    "adult_original = pd.read_csv('../../Derivatives/adult/original.csv')"
   ]
  },
  {
   "cell_type": "code",
   "execution_count": 7,
   "id": "31d31e92",
   "metadata": {},
   "outputs": [],
   "source": [
    "age_effect_nocorrection['SArank'] = adult_original.SArank.values\n",
    "age_effect['SArank'] = adult_original.SArank.values"
   ]
  },
  {
   "cell_type": "code",
   "execution_count": 8,
   "id": "a3e217a6",
   "metadata": {},
   "outputs": [
    {
     "name": "stdout",
     "output_type": "stream",
     "text": [
      "['BA1_3', 'BA2', 'BA20', 'BA21', 'BA22', 'BA23', 'BA24', 'BA25', 'BA26_29_30', 'BA27', 'BA28']\n",
      "['BA41_42_52']\n",
      "['BA4', 'BA40', 'BA41_42_52', 'BA43', 'BA44', 'BA45', 'BA46', 'BA47']\n",
      "['BA17']\n",
      "['BA44', 'BA45']\n",
      "['BA8', 'BA9', 'BA46']\n",
      "['BA11', 'BA13']\n",
      "['BA20']\n",
      "['BA24', 'BA25', 'BA32']\n",
      "['BA22']\n",
      "['BA39', 'BA40']\n"
     ]
    }
   ],
   "source": [
    "Visual = [x for x in df.columns if 'BA17' in x]\n",
    "Auditory = [x for x in df.columns if 'BA41' in x]\n",
    "Sensory =  [x for x in df.columns if 'BA1_3' in x] + [x for x in df.columns if 'BA2' in x] # [x for x in sarank.name.values if 'S2' in x] +\n",
    "Motor = [x for x in df.columns if 'BA4' in x]\n",
    "vPFC = [x for x in df.columns if 'BA44' in x] +  [x for x in df.columns if 'BA45' in x]\n",
    "dPFC = [x for x in df.columns if 'BA8' in x] + [x for x in df.columns if 'BA9' in x] + [x for x in df.columns if 'BA46' in x]\n",
    "OFC = [x for x in df.columns if 'BA11' in x] + [x for x in df.columns if 'BA12' in x]+ [x for x in df.columns if 'BA13' in x]  + [x for x in df.columns if 'BA14_' in x]\n",
    "TEv = [x for x in df.columns if 'BA20' in x]\n",
    "ACC = [x for x in df.columns if 'BA24' in x] + [x for x in df.columns if 'BA25' in x] + [x for x in df.columns if 'BA32' in x]\n",
    "STC = [x for x in df.columns if 'BA22' in x]\n",
    "IPC = [x for x in df.columns if 'BA39' in x] +  [x for x in df.columns if 'BA40' in x]\n",
    "\n",
    "child_regions_corrected = []\n",
    "child_regions_nocorrected = []\n",
    "sas = []\n",
    "for x in [Sensory, Auditory, Motor, Visual, vPFC, dPFC, OFC, TEv, ACC, STC, IPC]:\n",
    "    print(x)\n",
    "    roi  = df.loc[:, x].sum(axis=1)>0\n",
    "    age_effect_nocorrection['roi']=roi\n",
    "    age_effect['roi']=roi\n",
    "    child_regions_corrected.append(age_effect[age_effect.roi==True].loc[:, 'age'].mean())\n",
    "    child_regions_nocorrected.append(age_effect_nocorrection[age_effect_nocorrection.roi==True].loc[:, 'age'].mean())\n",
    "    sas.append(age_effect[age_effect.roi==True].loc[:, ['age', 'SArank']].mean()['SArank'])"
   ]
  },
  {
   "cell_type": "code",
   "execution_count": 9,
   "id": "6c1df2ba",
   "metadata": {},
   "outputs": [],
   "source": [
    "child = pd.DataFrame([['Sensory', 'Auditory', 'Motor', 'Visual', 'vPFC', 'dPFC', 'OFC', 'TEv', 'ACC', 'STC', 'IPC'], child_regions_corrected, sas]).T.sort_values(2).reset_index(drop=True)\n",
    "child.columns = ['region', 'H', 'sa']\n",
    "adult = pd.DataFrame([['Sensory', 'Auditory', 'Motor', 'Visual', 'vPFC', 'dPFC', 'OFC', 'TEv', 'ACC', 'STC', 'IPC'], child_regions_nocorrected, sas]).T.sort_values(2).reset_index(drop=True)\n",
    "adult.columns = ['region', 'H', 'sa']"
   ]
  },
  {
   "cell_type": "code",
   "execution_count": 10,
   "id": "c25cfc1c",
   "metadata": {},
   "outputs": [],
   "source": [
    "Visual = [x for x in df.columns if 'BA17' in x]\n",
    "Auditory = [x for x in df.columns if 'BA41' in x]\n",
    "Sensory =  [x for x in df.columns if 'BA1_3' in x] + [x for x in df.columns if 'BA2' in x] # [x for x in sarank.name.values if 'S2' in x] +\n",
    "Motor = [x for x in df.columns if 'BA4' in x]\n",
    "vPFC = [x for x in df.columns if 'BA44' in x] +  [x for x in df.columns if 'BA45' in x]\n",
    "dPFC = [x for x in df.columns if 'BA8' in x] + [x for x in df.columns if 'BA9' in x] + [x for x in df.columns if 'BA46' in x]\n",
    "OFC = [x for x in df.columns if 'BA11' in x] + [x for x in df.columns if 'BA12' in x]+ [x for x in df.columns if 'BA13' in x]  + [x for x in df.columns if 'BA14_' in x]\n",
    "TEv = [x for x in df.columns if 'BA20' in x]\n",
    "ACC = [x for x in df.columns if 'BA24' in x] + [x for x in df.columns if 'BA25' in x] + [x for x in df.columns if 'BA32' in x]\n",
    "STC = [x for x in df.columns if 'BA22' in x]\n",
    "IPC = [x for x in df.columns if 'BA39' in x] +  [x for x in df.columns if 'BA40' in x]"
   ]
  },
  {
   "cell_type": "code",
   "execution_count": 11,
   "id": "b4f3bca0",
   "metadata": {},
   "outputs": [
    {
     "name": "stdout",
     "output_type": "stream",
     "text": [
      "['BA17']\n",
      "['BA41_42_52']\n",
      "['BA1_3', 'BA2', 'BA20', 'BA21', 'BA22', 'BA23', 'BA24', 'BA25', 'BA26_29_30', 'BA27', 'BA28']\n",
      "['BA4', 'BA40', 'BA41_42_52', 'BA43', 'BA44', 'BA45', 'BA46', 'BA47']\n",
      "['BA39', 'BA40']\n",
      "['BA22']\n",
      "['BA44', 'BA45']\n",
      "['BA8', 'BA9', 'BA46']\n",
      "['BA11', 'BA13']\n",
      "['BA20']\n",
      "['BA24', 'BA25', 'BA32']\n",
      "F_onewayResult(statistic=0.7488040937253442, pvalue=0.6741305840587937)\n",
      "F_onewayResult(statistic=0.7488040937253442, pvalue=0.6741305840587937)\n",
      "F_onewayResult(statistic=0.7256846422619662, pvalue=0.6941657342301978)\n",
      "F_onewayResult(statistic=0.7256846422619662, pvalue=0.6941657342301978)\n",
      "F_onewayResult(statistic=0.3601266949112939, pvalue=0.9593523277298421)\n"
     ]
    },
    {
     "data": {
      "image/png": "[encoded data removed]",
      "text/plain": [
       "<Figure size 432x288 with 1 Axes>"
      ]
     },
     "metadata": {
      "needs_background": "light"
     },
     "output_type": "display_data"
    },
    {
     "data": {
      "image/png": "[encoded data removed]",
      "text/plain": [
       "<Figure size 432x288 with 1 Axes>"
      ]
     },
     "metadata": {
      "needs_background": "light"
     },
     "output_type": "display_data"
    },
    {
     "data": {
      "image/png": "[encoded data removed]",
      "text/plain": [
       "<Figure size 432x288 with 1 Axes>"
      ]
     },
     "metadata": {
      "needs_background": "light"
     },
     "output_type": "display_data"
    }
   ],
   "source": [
    "child_regions_corrected = []\n",
    "child_regions_nocorrected = []\n",
    "sas = []\n",
    "for x in [Visual, Auditory, Sensory, Motor, IPC, STC,vPFC, dPFC, OFC, TEv, ACC ]:\n",
    "    print(x)\n",
    "    roi  = df.loc[:, x].sum(axis=1)>0\n",
    "    age_effect_nocorrection['roi']=roi\n",
    "    age_effect['roi']=roi\n",
    "    child_regions_corrected.append(np.array(age_effect[age_effect.roi==True].loc[:200, 'age']))\n",
    "    child_regions_nocorrected.append(np.array(age_effect_nocorrection[age_effect_nocorrection.roi==True].loc[:200, 'age']))\n",
    "    sas.append(age_effect[age_effect.roi==True].loc[:, ['age', 'SArank']].mean()['SArank'])\n",
    "for i in np.arange(1,12):\n",
    "    plt.scatter(np.repeat(i, len(child_regions_nocorrected[i-1])), child_regions_nocorrected[i-1], color='k')\n",
    "anova = f_oneway(child_regions_nocorrected[0], child_regions_nocorrected[1], child_regions_nocorrected[2], child_regions_nocorrected[3], child_regions_nocorrected[4],\n",
    "       child_regions_nocorrected[5], child_regions_nocorrected[6], child_regions_nocorrected[7], child_regions_nocorrected[8], child_regions_nocorrected[9], \n",
    "        child_regions_nocorrected[10])\n",
    "print(anova)\n",
    "plt.boxplot(child_regions_nocorrected)\n",
    "anova = f_oneway(child_regions_nocorrected[0], child_regions_nocorrected[1], child_regions_nocorrected[2], child_regions_nocorrected[3], child_regions_nocorrected[4],\n",
    "       child_regions_nocorrected[5], child_regions_nocorrected[6], child_regions_nocorrected[7], child_regions_nocorrected[8], child_regions_nocorrected[9], \n",
    "       child_regions_nocorrected[10])\n",
    "print(anova)\n",
    "plt.ylim([-0.01,0.08])\n",
    "plt.savefig('boxplot_l.eps')\n",
    "figure = plt.figure()\n",
    "child_regions_corrected = []\n",
    "child_regions_nocorrected = []\n",
    "sas = []\n",
    "for x in [Visual, Auditory, Sensory, Motor, IPC, STC,vPFC, dPFC, OFC, TEv, ACC ]:\n",
    "    roi  = df.loc[:, x].sum(axis=1)>0\n",
    "    age_effect_nocorrection['roi']=roi\n",
    "    age_effect['roi']=roi\n",
    "    child_regions_corrected.append(np.array(age_effect[age_effect.roi==True].loc[200:, 'age']))\n",
    "    child_regions_nocorrected.append(np.array(age_effect_nocorrection[age_effect_nocorrection.roi==True].loc[200:, 'age']))\n",
    "    sas.append(age_effect[age_effect.roi==True].loc[:, ['age', 'SArank']].mean()['SArank'])\n",
    "for i in np.arange(1,12):\n",
    "    plt.scatter(np.repeat(i, len(child_regions_nocorrected[i-1])), child_regions_nocorrected[i-1], color='k')\n",
    "anova = f_oneway(child_regions_nocorrected[0], child_regions_nocorrected[1], child_regions_nocorrected[2], child_regions_nocorrected[3], child_regions_nocorrected[4],\n",
    "       child_regions_nocorrected[5], child_regions_nocorrected[6], child_regions_nocorrected[7], child_regions_nocorrected[8], child_regions_nocorrected[9], \n",
    "        child_regions_nocorrected[10])\n",
    "print(anova)\n",
    "plt.boxplot(child_regions_nocorrected)\n",
    "anova = f_oneway(child_regions_nocorrected[0], child_regions_nocorrected[1], child_regions_nocorrected[2], child_regions_nocorrected[3], child_regions_nocorrected[4],\n",
    "       child_regions_nocorrected[5], child_regions_nocorrected[6], child_regions_nocorrected[7], child_regions_nocorrected[8], child_regions_nocorrected[9], \n",
    "       child_regions_nocorrected[10])\n",
    "print(anova)\n",
    "plt.ylim([-0.01,0.08])\n",
    "plt.savefig('boxplot_r.eps')\n",
    "figure = plt.figure()\n",
    "child_regions_corrected = []\n",
    "child_regions_nocorrected = []\n",
    "sas = []\n",
    "for x in [Visual, Auditory, Sensory, Motor, IPC, STC,vPFC, dPFC, OFC, TEv, ACC ]:\n",
    "    roi  = df.loc[:, x].sum(axis=1)>0\n",
    "    age_effect_nocorrection['roi']=roi\n",
    "    age_effect['roi']=roi\n",
    "    child_regions_corrected.append(np.array(age_effect[age_effect.roi==True].loc[:, 'age']))\n",
    "    child_regions_nocorrected.append(np.array(age_effect_nocorrection[age_effect_nocorrection.roi==True].loc[:, 'age']))\n",
    "    sas.append(age_effect[age_effect.roi==True].loc[:, ['age', 'SArank']].mean()['SArank'])\n",
    "plt.boxplot(child_regions_nocorrected)\n",
    "anova = f_oneway(child_regions_nocorrected[0], child_regions_nocorrected[1], child_regions_nocorrected[2], child_regions_nocorrected[3], child_regions_nocorrected[4],\n",
    "       child_regions_nocorrected[5], child_regions_nocorrected[6], child_regions_nocorrected[7], child_regions_nocorrected[8], child_regions_nocorrected[9], \n",
    "       child_regions_nocorrected[10])\n",
    "print(anova)\n",
    "plt.ylim([-0.01,0.08])\n",
    "plt.savefig('boxplot.eps')"
   ]
  },
  {
   "cell_type": "code",
   "execution_count": 12,
   "id": "459b3234",
   "metadata": {},
   "outputs": [],
   "source": [
    "age_H = pd.read_csv(\"../../Derivatives/childhood/hurst_motion_1mm.csv\")"
   ]
  },
  {
   "cell_type": "code",
   "execution_count": 22,
   "id": "d36a0cc5",
   "metadata": {},
   "outputs": [],
   "source": [
    "df_brod = pd.DataFrame()\n",
    "sas = []\n",
    "for i, x in enumerate([Visual, Auditory, Sensory, Motor, IPC, STC,vPFC, dPFC, OFC, TEv, ACC ]):\n",
    "    roi  = [i for i in np.arange(200,400) if df.loc[:, x].sum(axis=1)[i]>0]\n",
    "    df_brod = pd.concat([df_brod, age_H.iloc[:, roi]], axis=1)\n",
    "    sas += list(np.repeat(i, len(roi)))\n",
    "df_brod.columns = sas\n",
    "df_brod['age_scan'] = age_H.age_scan\n",
    "df_brod['male'] = age_H.male\n",
    "df_brod['meanFD'] = age_H.meanFD\n",
    "df_brod.to_csv('../../Derivatives/childhood/hurst_brodmann_r.csv', index=False)"
   ]
  },
  {
   "cell_type": "code",
   "execution_count": 21,
   "id": "849ba424",
   "metadata": {},
   "outputs": [
    {
     "data": {
      "text/plain": [
       "200"
      ]
     },
     "execution_count": 21,
     "metadata": {},
     "output_type": "execute_result"
    }
   ],
   "source": [
    "len(np.arange(200,400))"
   ]
  },
  {
   "cell_type": "code",
   "execution_count": 28,
   "id": "5a3756b3",
   "metadata": {},
   "outputs": [
    {
     "data": {
      "text/plain": [
       "[0,\n",
       " 0,\n",
       " 1,\n",
       " 2,\n",
       " 2,\n",
       " 2,\n",
       " 2,\n",
       " 2,\n",
       " 2,\n",
       " 2,\n",
       " 2,\n",
       " 2,\n",
       " 2,\n",
       " 2,\n",
       " 2,\n",
       " 2,\n",
       " 2,\n",
       " 3,\n",
       " 3,\n",
       " 3,\n",
       " 3,\n",
       " 3,\n",
       " 3,\n",
       " 3,\n",
       " 3,\n",
       " 3,\n",
       " 4,\n",
       " 4,\n",
       " 4,\n",
       " 4,\n",
       " 5,\n",
       " 6,\n",
       " 6,\n",
       " 7,\n",
       " 8,\n",
       " 8,\n",
       " 9,\n",
       " 10,\n",
       " 10]"
      ]
     },
     "execution_count": 28,
     "metadata": {},
     "output_type": "execute_result"
    }
   ],
   "source": [
    "sas"
   ]
  },
  {
   "cell_type": "markdown",
   "id": "cf7c268b",
   "metadata": {},
   "source": [
    "df = pd.read_csv('../../Dataset/rna/brodmann_schaefer_0.5.csv')\n",
    "child_regions_corrected = []\n",
    "child_regions_nocorrected = []\n",
    "sas = []\n",
    "for x in df.columns[2:]:\n",
    "    roi  = df.loc[:, x]\n",
    "    age_effect_nocorrection['roi']=roi\n",
    "    age_effect['roi']=roi\n",
    "    child_regions_corrected.append(np.array(age_effect[age_effect.roi==True].loc[:, 'age']))\n",
    "    child_regions_nocorrected.append(np.array(age_effect_nocorrection[age_effect_nocorrection.roi==True].loc[:, 'age']))\n",
    "    sas.append(age_effect[age_effect.roi==True].loc[:, ['age', 'SArank']].mean()['SArank'])\n",
    "plt.boxplot(child_regions_nocorrected)\n",
    "f_oneway(child_regions_nocorrected[0], child_regions_nocorrected[1], child_regions_nocorrected[2], child_regions_nocorrected[3], child_regions_nocorrected[4],\n",
    "       child_regions_nocorrected[5], child_regions_nocorrected[6], child_regions_nocorrected[7], child_regions_nocorrected[8], child_regions_nocorrected[9], \n",
    "       child_regions_nocorrected[10])\n",
    "#plt.ylim([-0.01,0.08])\n",
    "plt.xticks(np.arange(len(df.columns[2:])), df.columns[2:], rotation=90, size=10)\n",
    "plt.savefig('boxplot.eps')"
   ]
  }
 ],
 "metadata": {
  "kernelspec": {
   "display_name": "Python 3",
   "language": "python",
   "name": "python3"
  },
  "language_info": {
   "codemirror_mode": {
    "name": "ipython",
    "version": 3
   },
   "file_extension": ".py",
   "mimetype": "text/x-python",
   "name": "python",
   "nbconvert_exporter": "python",
   "pygments_lexer": "ipython3",
   "version": "3.8.8"
  }
 },
 "nbformat": 4,
 "nbformat_minor": 5
}
