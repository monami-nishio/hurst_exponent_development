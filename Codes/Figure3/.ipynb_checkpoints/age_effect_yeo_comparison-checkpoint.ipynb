{
 "cells": [
  {
   "cell_type": "code",
   "execution_count": 1,
   "id": "aca00265",
   "metadata": {},
   "outputs": [],
   "source": [
    "import pandas as pd\n",
    "import numpy as np\n",
    "import matplotlib.pyplot as plt\n",
    "import glob\n",
    "from scipy.stats import f_oneway\n",
    "import os"
   ]
  },
  {
   "cell_type": "code",
   "execution_count": 2,
   "id": "a46da651",
   "metadata": {},
   "outputs": [],
   "source": [
    "#ageeffect = pd.read_csv('/Users/monaminishio/Desktop/HOME25/202402_paper/Derivatives/childhood/H_gam_ageeffect_corrected.csv')\n",
    "ageeffect = pd.read_csv('../../Derivatives/childhood/H_gam_derivative.csv')\n",
    "brainmap = pd.read_csv(\"../../Derivatives/childhood/brainmap.csv\")"
   ]
  },
  {
   "cell_type": "code",
   "execution_count": 3,
   "id": "af37200e",
   "metadata": {},
   "outputs": [
    {
     "name": "stderr",
     "output_type": "stream",
     "text": [
      "<ipython-input-3-96deeee3695c>:2: UserWarning: Boolean Series key will be reindexed to match DataFrame index.\n",
      "  ageeffect = ageeffect[ageeffect.age>0][ageeffect.age<10]\n"
     ]
    }
   ],
   "source": [
    "ageeffect['label'] = brainmap['scaefer7']\n",
    "ageeffect = ageeffect[ageeffect.age>0][ageeffect.age<10]"
   ]
  },
  {
   "cell_type": "code",
   "execution_count": 12,
   "id": "ff7e378a",
   "metadata": {},
   "outputs": [
    {
     "name": "stdout",
     "output_type": "stream",
     "text": [
      "F_onewayResult(statistic=nan, pvalue=nan)\n"
     ]
    },
    {
     "name": "stderr",
     "output_type": "stream",
     "text": [
      "/Users/monaminishio/opt/anaconda3/lib/python3.8/site-packages/scipy/stats/_stats_py.py:3861: DegenerateDataWarning: at least one input has length 0\n",
      "  warnings.warn(stats.DegenerateDataWarning('at least one input '\n"
     ]
    },
    {
     "data": {
      "image/png": "[encoded data removed]",
      "text/plain": [
       "<Figure size 432x288 with 1 Axes>"
      ]
     },
     "metadata": {
      "needs_background": "light"
     },
     "output_type": "display_data"
    }
   ],
   "source": [
    "df = pd.DataFrame([ageeffect.label, ageeffect.age]).T.dropna()\n",
    "df = df[df.age>0]\n",
    "plt.boxplot([df[df.label==1].age.values,df[df.label==2].age.values,df[df.label==3].age.values\n",
    "              ,df[df.label==4].age.values,df[df.label==5].age.values,df[df.label==6].age.values,df[df.label==7].age.values])\n",
    "plt.scatter(df.label, df.age, color='k')\n",
    "plt.savefig('yeonetwork.eps')\n",
    "anova = f_oneway(df[df.label==1].age.values,df[df.label==2].age.values,df[df.label==3].age.values\n",
    "              ,df[df.label==4].age.values,df[df.label==5].age.values,df[df.label==6].age.values,df[df.label==7].age.values)\n",
    "print(anova)"
   ]
  },
  {
   "cell_type": "code",
   "execution_count": null,
   "id": "13e32ef9",
   "metadata": {},
   "outputs": [],
   "source": []
  }
 ],
 "metadata": {
  "kernelspec": {
   "display_name": "Python 3",
   "language": "python",
   "name": "python3"
  },
  "language_info": {
   "codemirror_mode": {
    "name": "ipython",
    "version": 3
   },
   "file_extension": ".py",
   "mimetype": "text/x-python",
   "name": "python",
   "nbconvert_exporter": "python",
   "pygments_lexer": "ipython3",
   "version": "3.8.8"
  }
 },
 "nbformat": 4,
 "nbformat_minor": 5
}
