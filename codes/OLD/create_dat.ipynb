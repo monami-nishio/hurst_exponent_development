{
 "cells": [
  {
   "cell_type": "code",
   "execution_count": 1,
   "id": "fd79430f",
   "metadata": {},
   "outputs": [],
   "source": [
    "import pandas as pd\n",
    "import numpy as np"
   ]
  },
  {
   "cell_type": "code",
   "execution_count": 2,
   "id": "8bd87546",
   "metadata": {},
   "outputs": [],
   "source": [
    "cbpd = pd.read_csv(\"../derivatives/CBPD_data_DMD_2023.11.14.csv\")\n",
    "nwbd = pd.read_csv(\"../derivatives/NWBD_BrannonBehaviorLogs_11.5.2019_MN.csv\")"
   ]
  },
  {
   "cell_type": "code",
   "execution_count": 3,
   "id": "213fe910",
   "metadata": {},
   "outputs": [
    {
     "name": "stderr",
     "output_type": "stream",
     "text": [
      "<ipython-input-3-87c3df96cd06>:1: RuntimeWarning: Mean of empty slice\n",
      "  cbpd['parent_edu'] = [np.nanmean([cbpd['parent1_edu'][i], cbpd['parent2_edu'][i]]) for i in np.arange(cbpd.shape[0])]\n"
     ]
    }
   ],
   "source": [
    "cbpd['parent_edu'] = [np.nanmean([cbpd['parent1_edu'][i], cbpd['parent2_edu'][i]]) for i in np.arange(cbpd.shape[0])] "
   ]
  },
  {
   "cell_type": "code",
   "execution_count": 4,
   "id": "c9c557d0",
   "metadata": {},
   "outputs": [],
   "source": [
    "timepoint1 = [i for i in np.arange(cbpd.shape[0]) if '_' not in cbpd.record_id.values[i]]\n",
    "timepoint2 = [i for i in np.arange(cbpd.shape[0]) if '_2' in cbpd.record_id.values[i]]\n",
    "timepoint3 = [i for i in np.arange(cbpd.shape[0]) if '_3' in cbpd.record_id.values[i]]"
   ]
  },
  {
   "cell_type": "code",
   "execution_count": 5,
   "id": "34ab2188",
   "metadata": {},
   "outputs": [],
   "source": [
    "cbpdvariables = ['record_id', 'age_scan', 'male',  't1_rating_avg', 'parent_edu',  'income_median']\n",
    "nwbdvariables = ['record_id', 'age_scan', 'male', 't1_rating_avg']"
   ]
  },
  {
   "cell_type": "code",
   "execution_count": 6,
   "id": "a9b8f757",
   "metadata": {},
   "outputs": [],
   "source": [
    "cbpd = cbpd.loc[:, cbpdvariables]\n",
    "nwbd = nwbd.loc[:, nwbdvariables]\n",
    "nwbd['parent_edu'] = np.repeat(None, nwbd.shape[0])\n",
    "nwbd['income_median'] = np.repeat(None, nwbd.shape[0])"
   ]
  },
  {
   "cell_type": "code",
   "execution_count": 23,
   "id": "7a038dd4",
   "metadata": {},
   "outputs": [
    {
     "name": "stderr",
     "output_type": "stream",
     "text": [
      "<ipython-input-23-cab68aa025d8>:5: SettingWithCopyWarning: \n",
      "A value is trying to be set on a copy of a slice from a DataFrame.\n",
      "Try using .loc[row_indexer,col_indexer] = value instead\n",
      "\n",
      "See the caveats in the documentation: https://pandas.pydata.org/pandas-docs/stable/user_guide/indexing.html#returning-a-view-versus-a-copy\n",
      "  cbpd_t['fsid'] = ['sub-'+x.split('_')[0] for x in cbpd_t.record_id]\n",
      "<ipython-input-23-cab68aa025d8>:5: SettingWithCopyWarning: \n",
      "A value is trying to be set on a copy of a slice from a DataFrame.\n",
      "Try using .loc[row_indexer,col_indexer] = value instead\n",
      "\n",
      "See the caveats in the documentation: https://pandas.pydata.org/pandas-docs/stable/user_guide/indexing.html#returning-a-view-versus-a-copy\n",
      "  cbpd_t['fsid'] = ['sub-'+x.split('_')[0] for x in cbpd_t.record_id]\n"
     ]
    }
   ],
   "source": [
    "for i, timepoint in enumerate([timepoint1, timepoint2, timepoint3]):\n",
    "    cbpd_t = cbpd.iloc[timepoint,:]\n",
    "    if i == 0:\n",
    "        cbpd_t = pd.concat([cbpd_t, nwbd]).reset_index(drop=True)\n",
    "    cbpd_t['fsid'] = ['sub-'+x.split('_')[0] for x in cbpd_t.record_id]\n",
    "    cbpd_t = cbpd_t.dropna(subset=['age_scan', 'male', 't1_rating_avg'])\n",
    "    cbpd_t['age_scan'] = [float(x) for x in cbpd_t.age_scan]\n",
    "    cbpd_t['age_square_scan'] = [x**2 for x in cbpd_t.age_scan]\n",
    "    for var in ['age', 'parent_edu', 'income_median']:\n",
    "        if var=='age':\n",
    "            df_var = cbpd_t.loc[:, ['fsid', 'age_scan', 'age_square_scan', 'male', 't1_rating_avg']]#.dropna('age_scan')#how='any')\n",
    "            df_var.to_csv(f'../derivatives/t{str(i+1)}_nonormalize.table.dat', index=False)\n",
    "            for v in ['age_scan', 'age_square_scan', 't1_rating_avg']:\n",
    "                df_var[v] = (df_var[v] - df_var[v].mean())/df_var[v].std()\n",
    "            df_var.to_csv(f'../derivatives/t{str(i+1)}_normalize.table.dat', index=False)\n",
    "        else:\n",
    "            df_var = cbpd_t.loc[:, ['fsid', var, 'age_scan', 'male', 't1_rating_avg']].dropna(how='any')\n",
    "            df_var.to_csv(f'../derivatives/t{str(i+1)}_{var}_nonormalize.table.dat', index=False)\n",
    "            for v in ['age_scan', 't1_rating_avg', var]:\n",
    "                df_var[v] = (df_var[v] - df_var[v].mean())/df_var[v].std()\n",
    "            df_var.to_csv(f'../derivatives/t{str(i+1)}_{var}_normalize.table.dat', index=False)"
   ]
  }
 ],
 "metadata": {
  "kernelspec": {
   "display_name": "Python 3",
   "language": "python",
   "name": "python3"
  },
  "language_info": {
   "codemirror_mode": {
    "name": "ipython",
    "version": 3
   },
   "file_extension": ".py",
   "mimetype": "text/x-python",
   "name": "python",
   "nbconvert_exporter": "python",
   "pygments_lexer": "ipython3",
   "version": "3.8.8"
  }
 },
 "nbformat": 4,
 "nbformat_minor": 5
}
