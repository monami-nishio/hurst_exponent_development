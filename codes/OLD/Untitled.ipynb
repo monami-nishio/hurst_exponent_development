{
 "cells": [
  {
   "cell_type": "code",
   "execution_count": 14,
   "id": "fe2ad126",
   "metadata": {},
   "outputs": [],
   "source": [
    "import glob\n",
    "import os\n",
    "import pandas as pd\n",
    "import numpy as np\n",
    "import shutil"
   ]
  },
  {
   "cell_type": "code",
   "execution_count": 9,
   "id": "a5c3e1ca",
   "metadata": {},
   "outputs": [],
   "source": [
    "cbpd = glob.glob('../dataset/FC_CBPD/sub-NWBD*.csv')"
   ]
  },
  {
   "cell_type": "code",
   "execution_count": 10,
   "id": "22d4d945",
   "metadata": {},
   "outputs": [
    {
     "name": "stdout",
     "output_type": "stream",
     "text": [
      "../dataset/FC_CBPD/sub-NWBD1012_run-01_schaefer400MNI_zavgnetwork.csv\n",
      "../dataset/FC_CBPD/sub-NWBD1062_run-01_schaefer400MNI_zavgnetwork.csv\n",
      "../dataset/FC_CBPD/sub-NWBD1049_run-01_schaefer400MNI_zavgnetwork.csv\n",
      "../dataset/FC_CBPD/sub-NWBD1005_run-01_schaefer400MNI_zavgnetwork.csv\n",
      "../dataset/FC_CBPD/sub-NWBD1042_run-01_schaefer400MNI_zavgnetwork.csv\n",
      "../dataset/FC_CBPD/sub-NWBD1030_run-01_schaefer400MNI_zavgnetwork.csv\n",
      "../dataset/FC_CBPD/sub-NWBD1006_run-01_schaefer400MNI_zavgnetwork.csv\n",
      "../dataset/FC_CBPD/sub-NWBD1034_run-01_schaefer400MNI_zavgnetwork.csv\n",
      "../dataset/FC_CBPD/sub-NWBD1021_run-01_schaefer400MNI_zavgnetwork.csv\n",
      "../dataset/FC_CBPD/sub-NWBD1053_run-01_schaefer400MNI_zavgnetwork.csv\n",
      "../dataset/FC_CBPD/sub-NWBD1064_run-01_schaefer400MNI_zavgnetwork.csv\n",
      "../dataset/FC_CBPD/sub-NWBD1004_run-01_schaefer400MNI_zavgnetwork.csv\n",
      "../dataset/FC_CBPD/sub-NWBD1054_run-01_schaefer400MNI_zavgnetwork.csv\n",
      "../dataset/FC_CBPD/sub-NWBD1032_run-01_schaefer400MNI_zavgnetwork.csv\n",
      "../dataset/FC_CBPD/sub-NWBD1041_run-01_schaefer400MNI_zavgnetwork.csv\n",
      "../dataset/FC_CBPD/sub-NWBD1048_run-01_schaefer400MNI_zavgnetwork.csv\n"
     ]
    }
   ],
   "source": [
    "for x in cbpd:\n",
    "    print(x)\n",
    "    df = pd.read_csv(x)\n",
    "    #df.columns = np.arange(400)\n",
    "    df.to_csv(x.replace('schaefer400MNI', 'Schaefer417'), index=False)"
   ]
  },
  {
   "cell_type": "code",
   "execution_count": 20,
   "id": "0ce2e951",
   "metadata": {},
   "outputs": [],
   "source": [
    "timeseries = glob.glob('/Users/monaminishio/Desktop/HOME10/Functional/derivative/xcp_d_brannon/xcp_d/sub-NWBD*/ses-01/func/sub-NWBD*_ses-01_task-rest_run-*_space-MNI152NLin6Asym_atlas-Schaefer417_measure-pearsoncorrelation_conmat.tsv')\n",
    "\n",
    "\n"
   ]
  },
  {
   "cell_type": "code",
   "execution_count": 23,
   "id": "7870228e",
   "metadata": {},
   "outputs": [],
   "source": [
    "a = glob.glob('/Users/monaminishio/Desktop/HOME10/Functional/derivative/xcp_d_brannon/xcp_d/sub-NWBD*/ses-01/func/sub-NWBD*_ses-01_task-rest_run-*_space-MNI152NLin6Asym_atlas-Schaefer417_timeseries.tsv')"
   ]
  },
  {
   "cell_type": "code",
   "execution_count": 22,
   "id": "71502fe8",
   "metadata": {},
   "outputs": [],
   "source": [
    "for x in timeseries:\n",
    "    shutil.copy(x, '/Users/monaminishio/Desktop/HOME10/hurst_exponent_development/dataset/correlation')"
   ]
  },
  {
   "cell_type": "code",
   "execution_count": 25,
   "id": "33692b6d",
   "metadata": {},
   "outputs": [],
   "source": [
    "for x in a:\n",
    "    shutil.copy(x, '/Users/monaminishio/Desktop/HOME10/hurst_exponent_development/dataset/timeseries')"
   ]
  },
  {
   "cell_type": "code",
   "execution_count": 24,
   "id": "1a731937",
   "metadata": {},
   "outputs": [
    {
     "data": {
      "text/plain": [
       "['/Users/monaminishio/Desktop/HOME10/Functional/derivative/xcp_d_brannon/xcp_d/sub-NWBD1064/ses-01/func/sub-NWBD1064_ses-01_task-rest_run-1_space-MNI152NLin6Asym_atlas-Schaefer417_timeseries.tsv',\n",
       " '/Users/monaminishio/Desktop/HOME10/Functional/derivative/xcp_d_brannon/xcp_d/sub-NWBD1004/ses-01/func/sub-NWBD1004_ses-01_task-rest_run-1_space-MNI152NLin6Asym_atlas-Schaefer417_timeseries.tsv',\n",
       " '/Users/monaminishio/Desktop/HOME10/Functional/derivative/xcp_d_brannon/xcp_d/sub-NWBD1006/ses-01/func/sub-NWBD1006_ses-01_task-rest_run-1_space-MNI152NLin6Asym_atlas-Schaefer417_timeseries.tsv',\n",
       " '/Users/monaminishio/Desktop/HOME10/Functional/derivative/xcp_d_brannon/xcp_d/sub-NWBD1054/ses-01/func/sub-NWBD1054_ses-01_task-rest_run-1_space-MNI152NLin6Asym_atlas-Schaefer417_timeseries.tsv',\n",
       " '/Users/monaminishio/Desktop/HOME10/Functional/derivative/xcp_d_brannon/xcp_d/sub-NWBD1034/ses-01/func/sub-NWBD1034_ses-01_task-rest_run-1_space-MNI152NLin6Asym_atlas-Schaefer417_timeseries.tsv',\n",
       " '/Users/monaminishio/Desktop/HOME10/Functional/derivative/xcp_d_brannon/xcp_d/sub-NWBD1021/ses-01/func/sub-NWBD1021_ses-01_task-rest_run-1_space-MNI152NLin6Asym_atlas-Schaefer417_timeseries.tsv',\n",
       " '/Users/monaminishio/Desktop/HOME10/Functional/derivative/xcp_d_brannon/xcp_d/sub-NWBD1032/ses-01/func/sub-NWBD1032_ses-01_task-rest_run-1_space-MNI152NLin6Asym_atlas-Schaefer417_timeseries.tsv',\n",
       " '/Users/monaminishio/Desktop/HOME10/Functional/derivative/xcp_d_brannon/xcp_d/sub-NWBD1041/ses-01/func/sub-NWBD1041_ses-01_task-rest_run-1_space-MNI152NLin6Asym_atlas-Schaefer417_timeseries.tsv',\n",
       " '/Users/monaminishio/Desktop/HOME10/Functional/derivative/xcp_d_brannon/xcp_d/sub-NWBD1012/ses-01/func/sub-NWBD1012_ses-01_task-rest_run-1_space-MNI152NLin6Asym_atlas-Schaefer417_timeseries.tsv',\n",
       " '/Users/monaminishio/Desktop/HOME10/Functional/derivative/xcp_d_brannon/xcp_d/sub-NWBD1030/ses-01/func/sub-NWBD1030_ses-01_task-rest_run-1_space-MNI152NLin6Asym_atlas-Schaefer417_timeseries.tsv',\n",
       " '/Users/monaminishio/Desktop/HOME10/Functional/derivative/xcp_d_brannon/xcp_d/sub-NWBD1062/ses-01/func/sub-NWBD1062_ses-01_task-rest_run-1_space-MNI152NLin6Asym_atlas-Schaefer417_timeseries.tsv',\n",
       " '/Users/monaminishio/Desktop/HOME10/Functional/derivative/xcp_d_brannon/xcp_d/sub-NWBD1005/ses-01/func/sub-NWBD1005_ses-01_task-rest_run-1_space-MNI152NLin6Asym_atlas-Schaefer417_timeseries.tsv',\n",
       " '/Users/monaminishio/Desktop/HOME10/Functional/derivative/xcp_d_brannon/xcp_d/sub-NWBD1053/ses-01/func/sub-NWBD1053_ses-01_task-rest_run-1_space-MNI152NLin6Asym_atlas-Schaefer417_timeseries.tsv',\n",
       " '/Users/monaminishio/Desktop/HOME10/Functional/derivative/xcp_d_brannon/xcp_d/sub-NWBD1048/ses-01/func/sub-NWBD1048_ses-01_task-rest_run-1_space-MNI152NLin6Asym_atlas-Schaefer417_timeseries.tsv',\n",
       " '/Users/monaminishio/Desktop/HOME10/Functional/derivative/xcp_d_brannon/xcp_d/sub-NWBD1049/ses-01/func/sub-NWBD1049_ses-01_task-rest_run-1_space-MNI152NLin6Asym_atlas-Schaefer417_timeseries.tsv',\n",
       " '/Users/monaminishio/Desktop/HOME10/Functional/derivative/xcp_d_brannon/xcp_d/sub-NWBD1042/ses-01/func/sub-NWBD1042_ses-01_task-rest_run-1_space-MNI152NLin6Asym_atlas-Schaefer417_timeseries.tsv']"
      ]
     },
     "execution_count": 24,
     "metadata": {},
     "output_type": "execute_result"
    }
   ],
   "source": [
    "a"
   ]
  },
  {
   "cell_type": "code",
   "execution_count": null,
   "id": "ca1c4a9e",
   "metadata": {},
   "outputs": [],
   "source": []
  }
 ],
 "metadata": {
  "kernelspec": {
   "display_name": "Python 3",
   "language": "python",
   "name": "python3"
  },
  "language_info": {
   "codemirror_mode": {
    "name": "ipython",
    "version": 3
   },
   "file_extension": ".py",
   "mimetype": "text/x-python",
   "name": "python",
   "nbconvert_exporter": "python",
   "pygments_lexer": "ipython3",
   "version": "3.8.8"
  }
 },
 "nbformat": 4,
 "nbformat_minor": 5
}
