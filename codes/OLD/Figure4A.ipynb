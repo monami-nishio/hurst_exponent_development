{
 "cells": [
  {
   "cell_type": "code",
   "execution_count": 1,
   "id": "a31f172b",
   "metadata": {},
   "outputs": [],
   "source": [
    "import numpy as np\n",
    "import pandas as pd\n",
    "import glob\n",
    "import os\n",
    "import statsmodels.api as sm\n",
    "from scipy.stats import ttest_1samp\n",
    "from statsmodels.stats.multitest  import fdrcorrection\n",
    "import seaborn as sns\n",
    "import matplotlib.pyplot as plt\n",
    "from sklearn.linear_model import LinearRegression\n",
    "import statsmodels.api as sm\n",
    "from scipy import stats"
   ]
  },
  {
   "cell_type": "code",
   "execution_count": 2,
   "id": "f9c88d03",
   "metadata": {},
   "outputs": [],
   "source": [
    "SAaxis = pd.read_csv('/Users/monaminishio/Desktop/HOME8/Functional/modules/Sensorimotor-Association_axis/Sensorimotor_Association_Axis_AverageRanks.csv')"
   ]
  },
  {
   "cell_type": "code",
   "execution_count": 3,
   "id": "7fec4cc8",
   "metadata": {},
   "outputs": [],
   "source": [
    "concat = pd.read_csv('/Users/monaminishio/Desktop/HOME8/SurfaceArea/scripts/pvalues/concat_original.csv')\n",
    "concat_glm = pd.read_csv('/Users/monaminishio/Desktop/HOME8/SurfaceArea/scripts/pvalues/concat_glm.csv')\n",
    "concat_p_glm = pd.read_csv('/Users/monaminishio/Desktop/HOME8/SurfaceArea/scripts/pvalues/concat_p_glm.csv')\n",
    "concat_padj_glm = pd.read_csv('/Users/monaminishio/Desktop/HOME8/SurfaceArea/scripts/pvalues/concat_padj_glm.csv')"
   ]
  },
  {
   "cell_type": "code",
   "execution_count": 33,
   "id": "8b88642f",
   "metadata": {},
   "outputs": [],
   "source": []
  },
  {
   "cell_type": "code",
   "execution_count": 34,
   "id": "341a4e55",
   "metadata": {},
   "outputs": [],
   "source": []
  },
  {
   "cell_type": "code",
   "execution_count": 35,
   "id": "83d360f7",
   "metadata": {},
   "outputs": [],
   "source": []
  },
  {
   "cell_type": "code",
   "execution_count": 43,
   "id": "49cc852a",
   "metadata": {},
   "outputs": [
    {
     "data": {
      "text/html": [
       "<div>\n",
       "<style scoped>\n",
       "    .dataframe tbody tr th:only-of-type {\n",
       "        vertical-align: middle;\n",
       "    }\n",
       "\n",
       "    .dataframe tbody tr th {\n",
       "        vertical-align: top;\n",
       "    }\n",
       "\n",
       "    .dataframe thead th {\n",
       "        text-align: right;\n",
       "    }\n",
       "</style>\n",
       "<table border=\"1\" class=\"dataframe\">\n",
       "  <thead>\n",
       "    <tr style=\"text-align: right;\">\n",
       "      <th></th>\n",
       "      <th>mean</th>\n",
       "      <th>mean</th>\n",
       "    </tr>\n",
       "  </thead>\n",
       "  <tbody>\n",
       "    <tr>\n",
       "      <th>0</th>\n",
       "      <td>1.105022</td>\n",
       "      <td>0.761185</td>\n",
       "    </tr>\n",
       "    <tr>\n",
       "      <th>1</th>\n",
       "      <td>1.082828</td>\n",
       "      <td>0.832171</td>\n",
       "    </tr>\n",
       "    <tr>\n",
       "      <th>2</th>\n",
       "      <td>1.202142</td>\n",
       "      <td>0.809679</td>\n",
       "    </tr>\n",
       "    <tr>\n",
       "      <th>3</th>\n",
       "      <td>1.071798</td>\n",
       "      <td>0.799615</td>\n",
       "    </tr>\n",
       "    <tr>\n",
       "      <th>4</th>\n",
       "      <td>1.226889</td>\n",
       "      <td>0.759421</td>\n",
       "    </tr>\n",
       "    <tr>\n",
       "      <th>...</th>\n",
       "      <td>...</td>\n",
       "      <td>...</td>\n",
       "    </tr>\n",
       "    <tr>\n",
       "      <th>133</th>\n",
       "      <td>1.180525</td>\n",
       "      <td>0.812498</td>\n",
       "    </tr>\n",
       "    <tr>\n",
       "      <th>134</th>\n",
       "      <td>1.229430</td>\n",
       "      <td>0.772043</td>\n",
       "    </tr>\n",
       "    <tr>\n",
       "      <th>135</th>\n",
       "      <td>1.217040</td>\n",
       "      <td>0.829681</td>\n",
       "    </tr>\n",
       "    <tr>\n",
       "      <th>136</th>\n",
       "      <td>1.230940</td>\n",
       "      <td>0.784349</td>\n",
       "    </tr>\n",
       "    <tr>\n",
       "      <th>137</th>\n",
       "      <td>1.285009</td>\n",
       "      <td>0.786942</td>\n",
       "    </tr>\n",
       "  </tbody>\n",
       "</table>\n",
       "<p>137 rows × 2 columns</p>\n",
       "</div>"
      ],
      "text/plain": [
       "         mean      mean\n",
       "0    1.105022  0.761185\n",
       "1    1.082828  0.832171\n",
       "2    1.202142  0.809679\n",
       "3    1.071798  0.799615\n",
       "4    1.226889  0.759421\n",
       "..        ...       ...\n",
       "133  1.180525  0.812498\n",
       "134  1.229430  0.772043\n",
       "135  1.217040  0.829681\n",
       "136  1.230940  0.784349\n",
       "137  1.285009  0.786942\n",
       "\n",
       "[137 rows x 2 columns]"
      ]
     },
     "execution_count": 43,
     "metadata": {},
     "output_type": "execute_result"
    }
   ],
   "source": []
  },
  {
   "cell_type": "code",
   "execution_count": null,
   "id": "5ee53b36",
   "metadata": {},
   "outputs": [],
   "source": []
  }
 ],
 "metadata": {
  "kernelspec": {
   "display_name": "Python 3",
   "language": "python",
   "name": "python3"
  },
  "language_info": {
   "codemirror_mode": {
    "name": "ipython",
    "version": 3
   },
   "file_extension": ".py",
   "mimetype": "text/x-python",
   "name": "python",
   "nbconvert_exporter": "python",
   "pygments_lexer": "ipython3",
   "version": "3.8.8"
  }
 },
 "nbformat": 4,
 "nbformat_minor": 5
}
