{
 "cells": [
  {
   "cell_type": "code",
   "execution_count": 48,
   "id": "a31f172b",
   "metadata": {},
   "outputs": [],
   "source": [
    "import numpy as np\n",
    "import pandas as pd\n",
    "import glob\n",
    "import os\n",
    "import seaborn as sns\n",
    "import matplotlib.pyplot as plt\n",
    "from sklearn.linear_model import LinearRegression\n",
    "import statsmodels.api as sm"
   ]
  },
  {
   "cell_type": "code",
   "execution_count": 51,
   "id": "d4180c28",
   "metadata": {},
   "outputs": [],
   "source": [
    "SAaxis = pd.read_csv('../modules/Sensorimotor_Association_Axis_AverageRanks.csv')"
   ]
  },
  {
   "cell_type": "code",
   "execution_count": 71,
   "id": "9b60d01d",
   "metadata": {},
   "outputs": [],
   "source": [
    "H_child = pd.read_csv('../derivatives/childhood/H.csv', header=0)\n",
    "part_child = pd.read_csv('../derivatives/childhood/n125_long_inc_part_coef_avg_nodewise_avgrunsschaefer400.csv')\n",
    "H_adult = pd.read_csv('../derivatives/adult/H.csv', header=0)\n",
    "part_adult = pd.read_csv('../derivatives/adult/n125_long_inc_part_coef_avg_nodewise_avgrunsschaefer400.csv')"
   ]
  },
  {
   "cell_type": "code",
   "execution_count": 72,
   "id": "ece566ce",
   "metadata": {},
   "outputs": [],
   "source": [
    "normalize = pd.read_csv('../dataset/childhood/dat/normalize.csv')"
   ]
  },
  {
   "cell_type": "code",
   "execution_count": 77,
   "id": "658c0cc2",
   "metadata": {},
   "outputs": [],
   "source": [
    "H_child['record_id'] = [x.replace('sub-', '') for x in H_child['H_all401']]"
   ]
  },
  {
   "cell_type": "code",
   "execution_count": 78,
   "id": "c8c241ce",
   "metadata": {},
   "outputs": [],
   "source": [
    "H_child = pd.merge(H_child, normalize, on='record_id')\n",
    "part_child = pd.merge(part_child, normalize, left_on='Var1', right_on='record_id')\n",
    "part_child = part_child.iloc[:, 1:]"
   ]
  },
  {
   "cell_type": "code",
   "execution_count": 80,
   "id": "3e5c265c",
   "metadata": {},
   "outputs": [
    {
     "data": {
      "text/html": [
       "<div>\n",
       "<style scoped>\n",
       "    .dataframe tbody tr th:only-of-type {\n",
       "        vertical-align: middle;\n",
       "    }\n",
       "\n",
       "    .dataframe tbody tr th {\n",
       "        vertical-align: top;\n",
       "    }\n",
       "\n",
       "    .dataframe thead th {\n",
       "        text-align: right;\n",
       "    }\n",
       "</style>\n",
       "<table border=\"1\" class=\"dataframe\">\n",
       "  <thead>\n",
       "    <tr style=\"text-align: right;\">\n",
       "      <th></th>\n",
       "      <th>finalrank.wholebrain</th>\n",
       "      <th>Unnamed 0</th>\n",
       "      <th>Unnamed 1</th>\n",
       "    </tr>\n",
       "  </thead>\n",
       "  <tbody>\n",
       "    <tr>\n",
       "      <th>0</th>\n",
       "      <td>109.5</td>\n",
       "      <td>0.765212</td>\n",
       "      <td>1.130838</td>\n",
       "    </tr>\n",
       "    <tr>\n",
       "      <th>1</th>\n",
       "      <td>53.5</td>\n",
       "      <td>0.785298</td>\n",
       "      <td>1.161070</td>\n",
       "    </tr>\n",
       "    <tr>\n",
       "      <th>2</th>\n",
       "      <td>64.0</td>\n",
       "      <td>0.779305</td>\n",
       "      <td>1.136478</td>\n",
       "    </tr>\n",
       "    <tr>\n",
       "      <th>3</th>\n",
       "      <td>24.0</td>\n",
       "      <td>0.802764</td>\n",
       "      <td>1.149441</td>\n",
       "    </tr>\n",
       "    <tr>\n",
       "      <th>4</th>\n",
       "      <td>60.0</td>\n",
       "      <td>0.791995</td>\n",
       "      <td>1.103076</td>\n",
       "    </tr>\n",
       "    <tr>\n",
       "      <th>...</th>\n",
       "      <td>...</td>\n",
       "      <td>...</td>\n",
       "      <td>...</td>\n",
       "    </tr>\n",
       "    <tr>\n",
       "      <th>395</th>\n",
       "      <td>231.0</td>\n",
       "      <td>0.799145</td>\n",
       "      <td>1.138184</td>\n",
       "    </tr>\n",
       "    <tr>\n",
       "      <th>396</th>\n",
       "      <td>204.0</td>\n",
       "      <td>0.804108</td>\n",
       "      <td>1.137325</td>\n",
       "    </tr>\n",
       "    <tr>\n",
       "      <th>397</th>\n",
       "      <td>187.0</td>\n",
       "      <td>0.794054</td>\n",
       "      <td>1.122477</td>\n",
       "    </tr>\n",
       "    <tr>\n",
       "      <th>398</th>\n",
       "      <td>294.0</td>\n",
       "      <td>0.806473</td>\n",
       "      <td>1.134465</td>\n",
       "    </tr>\n",
       "    <tr>\n",
       "      <th>399</th>\n",
       "      <td>238.0</td>\n",
       "      <td>0.000000</td>\n",
       "      <td>1.133204</td>\n",
       "    </tr>\n",
       "  </tbody>\n",
       "</table>\n",
       "<p>400 rows × 3 columns</p>\n",
       "</div>"
      ],
      "text/plain": [
       "     finalrank.wholebrain  Unnamed 0  Unnamed 1\n",
       "0                   109.5   0.765212   1.130838\n",
       "1                    53.5   0.785298   1.161070\n",
       "2                    64.0   0.779305   1.136478\n",
       "3                    24.0   0.802764   1.149441\n",
       "4                    60.0   0.791995   1.103076\n",
       "..                    ...        ...        ...\n",
       "395                 231.0   0.799145   1.138184\n",
       "396                 204.0   0.804108   1.137325\n",
       "397                 187.0   0.794054   1.122477\n",
       "398                 294.0   0.806473   1.134465\n",
       "399                 238.0   0.000000   1.133204\n",
       "\n",
       "[400 rows x 3 columns]"
      ]
     },
     "execution_count": 80,
     "metadata": {},
     "output_type": "execute_result"
    }
   ],
   "source": [
    "concat_original = pd.DataFrame([SAaxis['finalrank.wholebrain'].reset_index(drop=True), part_child.iloc[:, :400].mean().values, H_child.iloc[:, :400].mean().values]).T\n",
    "concat_original.columns"
   ]
  },
  {
   "cell_type": "code",
   "execution_count": 16,
   "id": "47f8df74",
   "metadata": {},
   "outputs": [],
   "source": [
    "partl = pd.read_csv('/Users/monaminishio/Desktop/HOME8/Functional/derivative/imageData_t1/test/n125_long_inc_part_coef_avg_nodewise_avgrunsschaefer400lh_age.csv')\n",
    "partr = pd.read_csv('/Users/monaminishio/Desktop/HOME8/Functional/derivative/imageData_t1/test/n125_long_inc_part_coef_avg_nodewise_avgrunsschaefer400rh_age.csv')\n",
    "H = pd.read_csv('/Users/monaminishio/Desktop/HOME8/Functional/derivative/hurst_exponent/hurst_age.csv')\n",
    "concat_original = pd.concat([SAaxis['finalrank.wholebrain'].reset_index(drop=True), pd.concat([partl.iloc[:, :200].mean(), partr.iloc[:, :200].mean()]).reset_index(drop=True)], axis=1)\n",
    "concat_original  = pd.concat([concat_original, pd.concat([clustl.iloc[:, :200].mean(), clustr.iloc[:, :200].mean()]).reset_index(drop=True)], axis=1)\n",
    "concat_original  = pd.concat([concat_original, pd.concat([thickl.iloc[:, 1:201].mean(), thickr.iloc[:, 1:201].mean()]).reset_index(drop=True)], axis=1)\n",
    "concat_original  = pd.concat([concat_original, t1t2.iloc[:,1:401].mean().reset_index(drop=True)], axis=1)\n",
    "concat_original  = pd.concat([concat_original, H.iloc[:,1:401].mean().reset_index(drop=True)], axis=1)\n",
    "concat_original  = pd.concat([concat_original, INT.iloc[:,1:401].mean().reset_index(drop=True)], axis=1)"
   ]
  },
  {
   "cell_type": "code",
   "execution_count": 12,
   "id": "453d96e3",
   "metadata": {},
   "outputs": [],
   "source": [
    "bpd_H = pd.read_csv('/Users/monaminishio/Desktop/HOME8/Functional/derivative/hurst_exponent/BPD_H_before.csv')\n",
    "bpd = pd.DataFrame(bpd_H.mean().values)\n",
    "bpd = pd.concat([SAaxis['finalrank.wholebrain'].reset_index(drop=True), bpd], axis=1)\n",
    "bpd_l = bpd.iloc[:200, :]\n",
    "bpd_r = bpd.iloc[200:, :]\n",
    "bpd.to_csv('/Users/monaminishio/Desktop/HOME8/SurfaceArea/scripts/pvalues/bpd_concat.csv', index=False)\n",
    "bpd_l.to_csv('/Users/monaminishio/Desktop/HOME8/SurfaceArea/scripts/pvalues/bpd_l_concat.csv', index=False)\n",
    "bpd_r.to_csv('/Users/monaminishio/Desktop/HOME8/SurfaceArea/scripts/pvalues/bpd_r_concat.csv', index=False)"
   ]
  },
  {
   "cell_type": "code",
   "execution_count": 13,
   "id": "56e3e9eb",
   "metadata": {},
   "outputs": [],
   "source": [
    "part = pd.read_csv('/Users/monaminishio/Desktop/HOME8/Functional/derivative/imageData_bpd/test/n125_long_inc_part_coef_avg_nodewise_avgrunsschaefer400.csv')\n",
    "bpd_part = pd.DataFrame(part.iloc[:, 1:].mean().values)\n",
    "bpd_part = pd.concat([SAaxis['finalrank.wholebrain'].reset_index(drop=True), bpd_part], axis=1)\n",
    "bpd_part_l = bpd_part.iloc[:200, :]\n",
    "bpd_part_r = bpd_part.iloc[200:, :]\n",
    "bpd_part.to_csv('/Users/monaminishio/Desktop/HOME8/SurfaceArea/scripts/pvalues/bpd_part.csv', index=False)\n",
    "bpd_part_l.to_csv('/Users/monaminishio/Desktop/HOME8/SurfaceArea/scripts/pvalues/bpd_l_part.csv', index=False)\n",
    "bpd_part_r.to_csv('/Users/monaminishio/Desktop/HOME8/SurfaceArea/scripts/pvalues/bpd_r_part.csv', index=False)"
   ]
  },
  {
   "cell_type": "code",
   "execution_count": 14,
   "id": "62c72089",
   "metadata": {},
   "outputs": [],
   "source": [
    "concat_original.columns=['HArank','part','clust','thick','t1t2','H','INT']\n",
    "concat_original.to_csv('/Users/monaminishio/Desktop/HOME8/SurfaceArea/scripts/pvalues/concat_original.csv', index=False)"
   ]
  },
  {
   "cell_type": "code",
   "execution_count": 17,
   "id": "ebb1e8de",
   "metadata": {},
   "outputs": [],
   "source": [
    "realage = pd.read_csv('/Users/monaminishio/Desktop/HOME8/SurfaceArea/dat/t1.csv')\n",
    "ages = []\n",
    "for fsid in H.fsid:\n",
    "    ages.append(realage[realage.record_id==fsid.split('-')[1]].age_scan.values[0])\n",
    "H['age_scan'] = ages\n",
    "part['age_scan'] = ages"
   ]
  },
  {
   "cell_type": "code",
   "execution_count": 18,
   "id": "b40fae3f",
   "metadata": {},
   "outputs": [],
   "source": [
    "sa = SAaxis.sort_values('finalrank.wholebrain').index.values\n",
    "H_sort = H['fsid']\n",
    "for x in sa:\n",
    "    H_sort = pd.concat([H_sort, H.loc[:, str(x)]], axis=1)\n",
    "H_sort['age_scan'] = H['age_scan']\n",
    "H_sort['age_square_scan'] = H['age_square_scan']\n",
    "H_sort['male'] = H['male']\n",
    "H_sort['t1_rating_avg'] = H['t1_rating_avg']\n",
    "H_sort.to_csv('/Users/monaminishio/Desktop/HOME8/Functional/derivative/hurst_exponent/hurst_age_sorted.csv', index=False)"
   ]
  },
  {
   "cell_type": "code",
   "execution_count": 24,
   "id": "ea9f3040",
   "metadata": {},
   "outputs": [],
   "source": [
    "sa = SAaxis.sort_values('finalrank.wholebrain').index.values\n",
    "H_sort = H['fsid']\n",
    "for x in sa:\n",
    "    H_sort = pd.concat([H_sort, H.loc[:, str(x)]], axis=1)\n",
    "H_sort['age_scan'] = H['age_scan']\n",
    "H_sort['age_square_scan'] = H['age_square_scan']\n",
    "H_sort['male'] = H['male']\n",
    "H_sort['t1_rating_avg'] = H['t1_rating_avg']\n",
    "H_sort = H_sort[H_sort.age_scan<9]\n",
    "H_sort.to_csv('/Users/monaminishio/Desktop/HOME8/Functional/derivative/hurst_exponent/hurst_age_sorted_sensitivity.csv', index=False)"
   ]
  },
  {
   "cell_type": "code",
   "execution_count": 26,
   "id": "812c82af",
   "metadata": {},
   "outputs": [
    {
     "data": {
      "text/plain": [
       "(132, 405)"
      ]
     },
     "execution_count": 26,
     "metadata": {},
     "output_type": "execute_result"
    }
   ],
   "source": [
    "H_sort.shape"
   ]
  },
  {
   "cell_type": "code",
   "execution_count": 21,
   "id": "6c17ffe3",
   "metadata": {},
   "outputs": [],
   "source": [
    "part = pd.concat([partl.iloc[:, :200], partr], axis=1)\n",
    "ages = []\n",
    "for fsid in part.fsid:\n",
    "    ages.append(realage[realage.record_id==fsid.split('-')[1]].age_scan.values[0])\n",
    "part['age_scan'] = ages\n",
    "part_sort = part['fsid']\n",
    "for x in sa:\n",
    "    part_sort = pd.concat([part_sort, part.iloc[:, x]], axis=1)\n",
    "part_sort['age_scan'] = part['age_scan']\n",
    "part_sort['age_square_scan'] = part['age_square_scan']\n",
    "part_sort['male'] = part['male']\n",
    "part_sort['t1_rating_avg'] = part['t1_rating_avg']\n",
    "part_sort.to_csv('/Users/monaminishio/Desktop/HOME8/Functional/derivative/imageData_t1/test/n125_long_inc_part_coef_avg_nodewise_avgrunsschaefer400_age.csv', index=False)"
   ]
  },
  {
   "cell_type": "code",
   "execution_count": 22,
   "id": "c86fa6c8",
   "metadata": {},
   "outputs": [],
   "source": [
    "part = pd.concat([partl.iloc[:, :200], partr], axis=1)\n",
    "ages = []\n",
    "for fsid in part.fsid:\n",
    "    ages.append(realage[realage.record_id==fsid.split('-')[1]].age_scan.values[0])\n",
    "part['age_scan'] = ages\n",
    "part_sort = part['fsid']\n",
    "for x in sa:\n",
    "    part_sort = pd.concat([part_sort, part.iloc[:, x]], axis=1)\n",
    "part_sort['age_scan'] = part['age_scan']\n",
    "part_sort['age_square_scan'] = part['age_square_scan']\n",
    "part_sort['male'] = part['male']\n",
    "part_sort['t1_rating_avg'] = part['t1_rating_avg']\n",
    "part_sort = part_sort[part_sort.age_scan<10]\n",
    "part_sort.to_csv('/Users/monaminishio/Desktop/HOME8/Functional/derivative/imageData_t1/test/n125_long_inc_part_coef_avg_nodewise_avgrunsschaefer400_age_sensitivity.csv', index=False)"
   ]
  },
  {
   "cell_type": "code",
   "execution_count": 31,
   "id": "103fb513",
   "metadata": {},
   "outputs": [],
   "source": [
    "partl = pd.read_csv('/Users/monaminishio/Desktop/HOME8/Functional/derivative/imageData_t1/test/n125_long_inc_part_coef_avg_nodewise_avgrunsschaefer400lh_median_income.csv')\n",
    "partr = pd.read_csv('/Users/monaminishio/Desktop/HOME8/Functional/derivative/imageData_t1/test/n125_long_inc_part_coef_avg_nodewise_avgrunsschaefer400rh_median_income.csv')\n",
    "H = pd.read_csv('/Users/monaminishio/Desktop/HOME8/Functional/derivative/hurst_exponent/hurst_income.csv')"
   ]
  },
  {
   "cell_type": "code",
   "execution_count": 47,
   "id": "9e3a6846",
   "metadata": {},
   "outputs": [],
   "source": [
    "part = pd.concat([partl.iloc[:, :200], partr], axis=1)\n",
    "ages = []\n",
    "for fsid in part.fsid:\n",
    "    ages.append(realage[realage.record_id==fsid.split('-')[1]].age_scan.values[0])\n",
    "part['age_scan'] = ages\n",
    "part_sort = part['fsid']\n",
    "for x in sa:\n",
    "    part_sort = pd.concat([part_sort, part.iloc[:, x]], axis=1)\n",
    "part_sort['age_scan'] = part['age_scan']\n",
    "part_sort['income_median'] = part['income_median']\n",
    "part_sort['male'] = part['male']\n",
    "part_sort['t1_rating_avg'] = part['t1_rating_avg']\n",
    "part_sort = part_sort.sort_values('income_median')\n",
    "part_sort.iloc[:int(H_sort.shape[0]/2), :].to_csv('/Users/monaminishio/Desktop/HOME8/Functional/derivative/imageData_t1/test/n125_long_inc_part_coef_avg_nodewise_avgrunsschaefer400_income_low.csv', index=False)\n",
    "part_sort.iloc[int(H_sort.shape[0]/2):, :].to_csv('/Users/monaminishio/Desktop/HOME8/Functional/derivative/imageData_t1/test/n125_long_inc_part_coef_avg_nodewise_avgrunsschaefer400_income_high.csv', index=False)"
   ]
  },
  {
   "cell_type": "code",
   "execution_count": 44,
   "id": "d4ce20e6",
   "metadata": {},
   "outputs": [],
   "source": [
    "sa = SAaxis.sort_values('finalrank.wholebrain').index.values\n",
    "H_sort = H['fsid']\n",
    "for x in sa:\n",
    "    H_sort = pd.concat([H_sort, H.loc[:, str(x)]], axis=1)\n",
    "ages = []\n",
    "for fsid in H_sort.fsid:\n",
    "    ages.append(realage[realage.record_id==fsid.split('-')[1]].age_scan.values[0])\n",
    "H_sort['age_scan'] = ages\n",
    "H_sort['income_median'] = H['income_median']\n",
    "H_sort['male'] = H['male']\n",
    "H_sort['t1_rating_avg'] = H['t1_rating_avg']\n",
    "H_sort = H_sort.sort_values('income_median')\n",
    "H_sort.iloc[:int(H_sort.shape[0]/2), :].to_csv('/Users/monaminishio/Desktop/HOME8/Functional/derivative/hurst_exponent/hurst_income_sorted_low.csv', index=False)\n",
    "H_sort.iloc[int(H_sort.shape[0]/2):, :].to_csv('/Users/monaminishio/Desktop/HOME8/Functional/derivative/hurst_exponent/hurst_income_sorted_high.csv', index=False)"
   ]
  },
  {
   "cell_type": "code",
   "execution_count": 5,
   "id": "118e4c39",
   "metadata": {},
   "outputs": [],
   "source": [
    "rh_p = pd.read_csv('/Users/monaminishio/Desktop/HOME8/SurfaceArea/scripts/pvalues/rh_p_gam.csv')\n",
    "lh_p = pd.read_csv('/Users/monaminishio/Desktop/HOME8/SurfaceArea/scripts/pvalues/lh_p_gam.csv')\n",
    "t1t2_lh_p = pd.read_csv('/Users/monaminishio/Desktop/HOME8/SurfaceArea/scripts/pvalues/t1t2_lh_p_gam.csv')\n",
    "t1t2_rh_p = pd.read_csv('/Users/monaminishio/Desktop/HOME8/SurfaceArea/scripts/pvalues/t1t2_rh_p_gam.csv')\n",
    "H_lh_p = pd.read_csv('/Users/monaminishio/Desktop/HOME8/SurfaceArea/scripts/pvalues/H_lh_p_gam.csv')\n",
    "H_rh_p = pd.read_csv('/Users/monaminishio/Desktop/HOME8/SurfaceArea/scripts/pvalues/H_rh_p_gam.csv')\n",
    "int_lh_p = pd.read_csv('/Users/monaminishio/Desktop/HOME8/SurfaceArea/scripts/pvalues/int_lh_p_gam.csv')\n",
    "int_rh_p = pd.read_csv('/Users/monaminishio/Desktop/HOME8/SurfaceArea/scripts/pvalues/int_rh_p_gam.csv')\n",
    "t1t2_lh_p.columns = ['age_t1t2', 'income_t1t2', 'parent_t1t2', 'region']\n",
    "t1t2_rh_p.columns = ['age_t1t2', 'income_t1t2', 'parent_t1t2', 'region']\n",
    "H_lh_p.columns = ['age_H', 'income_H', 'parent_H', 'region']\n",
    "H_rh_p.columns = ['age_H', 'income_H', 'parent_H', 'region']\n",
    "int_lh_p.columns = ['age_int', 'income_int', 'parent_int', 'region']\n",
    "int_rh_p.columns = ['age_int', 'income_int', 'parent_int', 'region']"
   ]
  },
  {
   "cell_type": "code",
   "execution_count": 6,
   "id": "a350daa3",
   "metadata": {},
   "outputs": [],
   "source": [
    "rh_padj = pd.read_csv('/Users/monaminishio/Desktop/HOME8/SurfaceArea/scripts/pvalues/rh_padj_gam.csv')\n",
    "lh_padj = pd.read_csv('/Users/monaminishio/Desktop/HOME8/SurfaceArea/scripts/pvalues/lh_padj_gam.csv')\n",
    "t1t2_lh_padj = pd.read_csv('/Users/monaminishio/Desktop/HOME8/SurfaceArea/scripts/pvalues/t1t2_lh_padj_gam.csv')\n",
    "t1t2_rh_padj = pd.read_csv('/Users/monaminishio/Desktop/HOME8/SurfaceArea/scripts/pvalues/t1t2_rh_padj_gam.csv')\n",
    "int_lh_padj = pd.read_csv('/Users/monaminishio/Desktop/HOME8/SurfaceArea/scripts/pvalues/int_lh_padj_gam.csv')\n",
    "int_rh_padj = pd.read_csv('/Users/monaminishio/Desktop/HOME8/SurfaceArea/scripts/pvalues/int_rh_padj_gam.csv')\n",
    "H_lh_padj = pd.read_csv('/Users/monaminishio/Desktop/HOME8/SurfaceArea/scripts/pvalues/H_lh_padj_gam.csv')\n",
    "H_rh_padj = pd.read_csv('/Users/monaminishio/Desktop/HOME8/SurfaceArea/scripts/pvalues/H_rh_padj_gam.csv')\n",
    "t1t2_lh_padj.columns = ['age_t1t2', 'income_t1t2', 'parent_t1t2', 'region']\n",
    "t1t2_rh_padj.columns = ['age_t1t2', 'income_t1t2', 'parent_t1t2', 'region']\n",
    "H_lh_padj.columns = ['age_H', 'income_H', 'parent_H', 'region']\n",
    "H_rh_padj.columns = ['age_H', 'income_H', 'parent_H', 'region']\n",
    "int_lh_padj.columns = ['age_int', 'income_int', 'parent_int', 'region']\n",
    "int_rh_padj.columns = ['age_int', 'income_int', 'parent_int', 'region']"
   ]
  },
  {
   "cell_type": "code",
   "execution_count": 7,
   "id": "17603ce3",
   "metadata": {},
   "outputs": [],
   "source": [
    "rh_p = pd.concat([rh_p, t1t2_rh_p],axis=1)\n",
    "rh_p = pd.concat([rh_p, H_rh_p], axis=1)\n",
    "rh_p = pd.concat([rh_p, int_rh_p], axis=1)\n",
    "lh_p = pd.concat([lh_p, t1t2_lh_p],axis=1)\n",
    "lh_p = pd.concat([lh_p, H_lh_p], axis=1)\n",
    "lh_p = pd.concat([lh_p, int_lh_p], axis=1)\n",
    "rh_padj = pd.concat([rh_padj, t1t2_rh_padj],axis=1)\n",
    "rh_padj = pd.concat([rh_padj, H_rh_padj], axis=1)\n",
    "rh_padj = pd.concat([rh_padj, int_rh_padj], axis=1)\n",
    "lh_padj = pd.concat([lh_padj, t1t2_lh_padj],axis=1)\n",
    "lh_padj = pd.concat([lh_padj, H_lh_padj], axis=1)\n",
    "lh_padj = pd.concat([lh_padj, int_lh_padj], axis=1)"
   ]
  },
  {
   "cell_type": "code",
   "execution_count": 8,
   "id": "57c6cbfd",
   "metadata": {},
   "outputs": [],
   "source": [
    "concat_p = pd.concat([lh_p, rh_p]).reset_index(drop=True)\n",
    "concat_p = concat_p.loc[:, [x for x in concat_p.columns if x!='region']]\n",
    "concat_padj = pd.concat([lh_padj, rh_padj]).reset_index(drop=True)\n",
    "concat_padj = concat_padj.loc[:, [x for x in concat_padj.columns if x!='region']]"
   ]
  },
  {
   "cell_type": "code",
   "execution_count": 9,
   "id": "0ffdc489",
   "metadata": {},
   "outputs": [],
   "source": [
    "concat_p['HArank'] =  SAaxis['finalrank.wholebrain']\n",
    "concat_padj['HArank'] =  SAaxis['finalrank.wholebrain']\n",
    "concat_p.to_csv('/Users/monaminishio/Desktop/HOME8/SurfaceArea/scripts/pvalues/concat_p_gam.csv', index=False)\n",
    "concat_padj.to_csv('/Users/monaminishio/Desktop/HOME8/SurfaceArea/scripts/pvalues/concat_padj_gam.csv', index=False)"
   ]
  },
  {
   "cell_type": "code",
   "execution_count": 11,
   "id": "de63f1f4",
   "metadata": {},
   "outputs": [],
   "source": [
    "lh = pd.read_csv('/Users/monaminishio/Desktop/HOME8/SurfaceArea/scripts/pvalues/lh_gam.csv')\n",
    "rh = pd.read_csv('/Users/monaminishio/Desktop/HOME8/SurfaceArea/scripts/pvalues/rh_gam.csv')\n",
    "concat = pd.concat([lh, rh]).reset_index(drop=True)\n",
    "t1t2 = pd.read_csv('/Users/monaminishio/Desktop/HOME8/SurfaceArea/scripts/pvalues/t1t2_gam.csv')\n",
    "t1t2 = t1t2.reset_index(drop=True)\n",
    "t1t2 = t1t2.loc[:, ['age','income','parent']]\n",
    "t1t2.columns = ['age_t1t2', 'income_t1t2', 'parent_t1t2']\n",
    "H = pd.read_csv('/Users/monaminishio/Desktop/HOME8/SurfaceArea/scripts/pvalues/H_gam.csv')\n",
    "H = H.reset_index(drop=True)\n",
    "H = H.loc[:, ['age','income','parent']]\n",
    "H.columns = ['age_H', 'income_H', 'parent_H']\n",
    "INT = pd.read_csv('/Users/monaminishio/Desktop/HOME8/SurfaceArea/scripts/pvalues/int_gam.csv')\n",
    "INT = INT.reset_index(drop=True)\n",
    "INT = INT.loc[:, ['age','income','parent']]\n",
    "INT.columns = ['age_int', 'income_int', 'parent_int']\n",
    "concat = pd.concat([concat, t1t2], axis=1)\n",
    "concat = pd.concat([concat, H], axis=1)\n",
    "concat = pd.concat([concat, INT], axis=1)\n",
    "concat['HArank'] =  SAaxis['averagerank.hemisphere']\n",
    "concat.to_csv('/Users/monaminishio/Desktop/HOME8/SurfaceArea/scripts/pvalues/concat_gam.csv', index=False)"
   ]
  },
  {
   "cell_type": "code",
   "execution_count": 6,
   "id": "c83aaf2b",
   "metadata": {},
   "outputs": [],
   "source": [
    "# Figure4C\n",
    "partl = pd.read_csv('/Users/monaminishio/Desktop/HOME8/Functional/derivative/imageData_t1/test/n125_long_inc_part_coef_avg_nodewise_avgrunsschaefer400lh_age.csv')\n",
    "partr = pd.read_csv('/Users/monaminishio/Desktop/HOME8/Functional/derivative/imageData_t1/test/n125_long_inc_part_coef_avg_nodewise_avgrunsschaefer400rh_age.csv')\n",
    "part = pd.concat([partl.iloc[:, :-5],partr.iloc[:, :]], axis=1)\n",
    "H = pd.read_csv('/Users/monaminishio/Desktop/HOME8/Functional/derivative/hurst_exponent/hurst_age.csv')\n",
    "part = part.sort_values('fsid').reset_index(drop=True)\n",
    "H = H.sort_values('fsid').reset_index(drop=True)\n",
    "part['mean'] = part.iloc[:, 0:400].mean(axis=1)\n",
    "H['mean'] = H.iloc[:, 1:401].mean(axis=1)\n",
    "part = part[H['mean']<1.6]\n",
    "H = H[H['mean']<1.6]\n",
    "df = pd.concat([H['mean'], part['mean'], H['age_scan']], axis=1).dropna()\n",
    "df.columns = ['H', 'part', 'age_scan']\n",
    "df = df.sort_values('age_scan').reset_index(drop=True)\n",
    "df.to_csv('/Users/monaminishio/Desktop/HOME8/SurfaceArea/scripts/pvalues/indv_H_part.csv', index=False)"
   ]
  },
  {
   "cell_type": "code",
   "execution_count": null,
   "id": "e4619f46",
   "metadata": {},
   "outputs": [],
   "source": []
  }
 ],
 "metadata": {
  "kernelspec": {
   "display_name": "Python 3",
   "language": "python",
   "name": "python3"
  },
  "language_info": {
   "codemirror_mode": {
    "name": "ipython",
    "version": 3
   },
   "file_extension": ".py",
   "mimetype": "text/x-python",
   "name": "python",
   "nbconvert_exporter": "python",
   "pygments_lexer": "ipython3",
   "version": "3.8.8"
  }
 },
 "nbformat": 4,
 "nbformat_minor": 5
}
