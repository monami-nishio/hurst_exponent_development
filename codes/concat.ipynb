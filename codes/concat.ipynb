{
 "cells": [
  {
   "cell_type": "code",
   "execution_count": 37,
   "id": "a31f172b",
   "metadata": {},
   "outputs": [],
   "source": [
    "import numpy as np\n",
    "import pandas as pd\n",
    "import glob\n",
    "import os\n",
    "import seaborn as sns\n",
    "import matplotlib.pyplot as plt\n",
    "from sklearn.linear_model import LinearRegression\n",
    "import statsmodels.api as sm\n",
    "import cv2"
   ]
  },
  {
   "cell_type": "code",
   "execution_count": 38,
   "id": "d4180c28",
   "metadata": {},
   "outputs": [],
   "source": [
    "SAaxis = pd.read_csv('../modules/Sensorimotor_Association_Axis_AverageRanks.csv')"
   ]
  },
  {
   "cell_type": "code",
   "execution_count": 39,
   "id": "9b60d01d",
   "metadata": {},
   "outputs": [],
   "source": [
    "H_child = pd.read_csv('../derivatives/childhood/H.csv', header=0)\n",
    "part_child = pd.read_csv('../derivatives/childhood/n125_long_inc_part_coef_avg_nodewise_avgrunsschaefer400.csv')\n",
    "H_adult = pd.read_csv('../derivatives/adult/H.csv', header=0)\n",
    "part_adult = pd.read_csv('../derivatives/adult/n125_long_inc_part_coef_avg_nodewise_avgrunsschaefer400.csv')"
   ]
  },
  {
   "cell_type": "code",
   "execution_count": 40,
   "id": "99997496",
   "metadata": {},
   "outputs": [],
   "source": [
    "normalize = pd.read_csv('../dataset/childhood/dat/normalize.csv')"
   ]
  },
  {
   "cell_type": "code",
   "execution_count": 41,
   "id": "bca9bb8c",
   "metadata": {},
   "outputs": [],
   "source": [
    "H_child['record_id'] = [x.replace('sub-', '') for x in H_child['H_all401']]"
   ]
  },
  {
   "cell_type": "code",
   "execution_count": 42,
   "id": "a9155570",
   "metadata": {},
   "outputs": [],
   "source": [
    "H_child = pd.merge(H_child, normalize, on='record_id')\n",
    "part_child = pd.merge(part_child, normalize, left_on='Var1', right_on='record_id')\n",
    "part_child = part_child.iloc[:, 1:]\n",
    "part_adult = part_adult.iloc[:, 1:]"
   ]
  },
  {
   "cell_type": "code",
   "execution_count": 44,
   "id": "3483c25b",
   "metadata": {},
   "outputs": [],
   "source": [
    "concat_child = pd.DataFrame([SAaxis['finalrank.wholebrain'].reset_index(drop=True), part_child.iloc[:, :400].mean().values, H_child.iloc[:, :400].mean().values]).T\n",
    "concat_child.columns = ['SArank', 'part', 'H']\n",
    "concat_child.to_csv('../derivatives/childhood/original.csv', index=False)"
   ]
  },
  {
   "cell_type": "code",
   "execution_count": 45,
   "id": "017281ef",
   "metadata": {},
   "outputs": [],
   "source": [
    "concat_adult = pd.DataFrame([SAaxis['finalrank.wholebrain'].reset_index(drop=True), part_adult.iloc[:, :400].mean().values, H_adult.iloc[:, :400].mean().values]).T\n",
    "concat_adult.columns = ['SArank', 'part', 'H']\n",
    "concat_adult.to_csv('../derivatives/adult/original.csv', index=False)"
   ]
  },
  {
   "cell_type": "code",
   "execution_count": 46,
   "id": "558aeae2",
   "metadata": {},
   "outputs": [],
   "source": [
    "H_child.to_csv('../derivatives/childhood/hurst.csv', index=False)\n",
    "part_child.to_csv('../derivatives/childhood/part.csv', index=False)"
   ]
  },
  {
   "cell_type": "code",
   "execution_count": 47,
   "id": "36412ead",
   "metadata": {},
   "outputs": [],
   "source": [
    "sa = SAaxis.sort_values('finalrank.wholebrain').index.values\n",
    "H_sort = pd.DataFrame()\n",
    "for x in sa:\n",
    "    H_sort = pd.concat([H_sort, H_child.iloc[:, x]], axis=1)\n",
    "H_sort['fsid'] = H_child['fsid']\n",
    "H_sort['age_scan'] = H_child['age_scan']\n",
    "H_sort['age_square_scan'] = H_child['age_square_scan']\n",
    "H_sort['male'] = H_child['male']\n",
    "H_sort['t1_rating_avg'] = H_child['t1_rating_avg']\n",
    "H_sort.to_csv('../derivatives/childhood/hurst_sorted.csv', index=False)"
   ]
  },
  {
   "cell_type": "code",
   "execution_count": 48,
   "id": "46f83fdb",
   "metadata": {},
   "outputs": [],
   "source": [
    "part_sort = pd.DataFrame()\n",
    "for x in sa:\n",
    "    part_sort = pd.concat([part_sort, part_child.iloc[:, x]], axis=1)\n",
    "part_sort['fsid'] = part_child['fsid']\n",
    "part_sort['age_scan'] = part_child['age_scan']\n",
    "part_sort['age_square_scan'] = part_child['age_square_scan']\n",
    "part_sort['male'] = part_child['male']\n",
    "part_sort['t1_rating_avg'] = part_child['t1_rating_avg']\n",
    "part_sort.to_csv('../derivatives/childhood/part_sorted.csv', index=False)"
   ]
  },
  {
   "cell_type": "code",
   "execution_count": 52,
   "id": "e947bd48",
   "metadata": {},
   "outputs": [],
   "source": [
    "concat_child = pd.DataFrame([part_child.iloc[:, :400].mean(axis=1).values, H_child.iloc[:, :400].mean(axis=1).values]).T\n",
    "concat_child.columns = ['part', 'H']\n",
    "concat_child.to_csv('../derivatives/childhood/indv.csv', index=False)"
   ]
  },
  {
   "cell_type": "code",
   "execution_count": 56,
   "id": "361cc935",
   "metadata": {},
   "outputs": [],
   "source": [
    "H_income = H_child.dropna(subset=['income_median']).sort_values('income_median').reset_index(drop=True)\n",
    "H_income.iloc[:int(H_income.shape[0]/2), :].to_csv('../derivatives/childhood/H_income_low.csv', index=False)\n",
    "H_income.iloc[int(H_income.shape[0]/2):, :].to_csv('../derivatives/childhood/H_income_high.csv', index=False)\n",
    "part_income = part_child.dropna(subset=['income_median']).sort_values('income_median').reset_index(drop=True)\n",
    "part_income.iloc[:int(H_income.shape[0]/2), :].to_csv('../derivatives/childhood/part_income_low.csv', index=False)\n",
    "part_income.iloc[int(H_income.shape[0]/2):, :].to_csv('../derivatives/childhood/part_income_high.csv', index=False)"
   ]
  },
  {
   "cell_type": "code",
   "execution_count": null,
   "id": "e29c278b",
   "metadata": {},
   "outputs": [],
   "source": []
  }
 ],
 "metadata": {
  "kernelspec": {
   "display_name": "Python 3",
   "language": "python",
   "name": "python3"
  },
  "language_info": {
   "codemirror_mode": {
    "name": "ipython",
    "version": 3
   },
   "file_extension": ".py",
   "mimetype": "text/x-python",
   "name": "python",
   "nbconvert_exporter": "python",
   "pygments_lexer": "ipython3",
   "version": "3.8.8"
  }
 },
 "nbformat": 4,
 "nbformat_minor": 5
}
