{
 "cells": [
  {
   "cell_type": "code",
   "execution_count": 1,
   "id": "a31f172b",
   "metadata": {},
   "outputs": [],
   "source": [
    "import numpy as np\n",
    "import pandas as pd\n",
    "import glob\n",
    "from scipy import stats\n",
    "import os\n",
    "import seaborn as sns\n",
    "import matplotlib.pyplot as plt\n",
    "from sklearn.linear_model import LinearRegression\n",
    "import statsmodels.api as sm\n",
    "import cv2"
   ]
  },
  {
   "cell_type": "code",
   "execution_count": 4,
   "id": "8d4be6d8",
   "metadata": {},
   "outputs": [],
   "source": [
    "brodmann = pd.read_csv('../../Dataset/rna/brodmann_schaefer_0.5.csv')"
   ]
  },
  {
   "cell_type": "code",
   "execution_count": 6,
   "id": "d4180c28",
   "metadata": {},
   "outputs": [],
   "source": [
    "SAaxis = pd.read_csv('../../Modules/human/Sensorimotor_Association_Axis_AverageRanks.csv')"
   ]
  },
  {
   "cell_type": "code",
   "execution_count": null,
   "id": "c89c358f",
   "metadata": {},
   "outputs": [],
   "source": [
    "allf = glob.glob('../../Functional/derivative/xcp_d_bpd_allf_2/xcp_d/sub-BPD*/ses-01/func/sub-BPD*_ses-01_task-rest_run-*_space-MNI152NLin6Asym_atlas-Schaefer417_alff.tsv')\n",
    "df_allf = pd.DataFrame()\n",
    "sub = []\n",
    "run = []\n",
    "for x in allf:\n",
    "    df = pd.read_csv(x, sep='\\t')\n",
    "    df_allf = pd.concat([df_allf, df])\n",
    "    sub.append(os.path.basename(x).split('_')[0].replace('sub-', ''))\n",
    "    run.append(int(os.path.basename(x).split('_')[3].replace('run-', '')))\n",
    "df_allf['fsid'] = sub\n",
    "df_allf['run'] = run\n",
    "df_allf.to_csv('../derivatives/adult/allf.csv', index=False)"
   ]
  },
  {
   "cell_type": "code",
   "execution_count": null,
   "id": "75054094",
   "metadata": {},
   "outputs": [],
   "source": [
    "allf = glob.glob('../../Functional/derivative/xcp_d_t1_allf_2/xcp_d/sub-CBPD*/ses-01/func/sub-CBPD*_ses-01_task-rest_run-*_space-MNI152NLin6Asym_atlas-Schaefer417_alff.tsv')\n",
    "qc = pd.read_csv('../../Functional/derivative/xcp_d_t1_original/QA_revision.csv')\n",
    "df_allf = pd.DataFrame()\n",
    "sub = []\n",
    "runs = []\n",
    "for x in allf:\n",
    "    sbj = os.path.basename(x).split('_')[0].replace('sub-', '')\n",
    "    run = int(os.path.basename(x).split('_')[3].replace('run-', ''))\n",
    "    if qc[qc['sub']==sbj][qc['run']==run].shape[0]>0:\n",
    "        df = pd.read_csv(x, sep='\\t')\n",
    "        df_allf = pd.concat([df_allf, df])\n",
    "        sub.append(sbj)\n",
    "        runs.append(run)\n",
    "df_allf['fsid'] = sub\n",
    "df_allf['run'] = runs\n",
    "df_allf = df_allf.groupby('fsid').mean().reset_index()"
   ]
  },
  {
   "cell_type": "code",
   "execution_count": null,
   "id": "dd0e5ef6",
   "metadata": {},
   "outputs": [],
   "source": [
    "fsid = df_allf.fsid\n",
    "df_allf = df_allf.iloc[:, 1:]\n",
    "df_allf['fsid'] = fsid\n",
    "df_allf.to_csv('../derivatives/childhood/allf.csv', index=False)"
   ]
  },
  {
   "cell_type": "code",
   "execution_count": null,
   "id": "9b60d01d",
   "metadata": {},
   "outputs": [],
   "source": [
    "H_child = pd.read_csv('../derivatives/childhood/H_cbpd.csv', header=0)\n",
    "part_child = pd.read_csv('../derivatives/childhood/n125_long_inc_part_coef_avg_nodewise_avgrunsschaefer400_cbpd.csv')\n",
    "allf_child = pd.read_csv('../derivatives/childhood/allf.csv')\n",
    "H_adult = pd.read_csv('../derivatives/adult/H.csv', header=0)\n",
    "part_adult = pd.read_csv('../derivatives/adult/n125_long_inc_part_coef_avg_nodewise_avgrunsschaefer400.csv')\n",
    "allf_adult = pd.read_csv('../derivatives/adult/allf.csv')"
   ]
  },
  {
   "cell_type": "code",
   "execution_count": null,
   "id": "14c9a2a3",
   "metadata": {},
   "outputs": [],
   "source": [
    "H_child = H_child.groupby('H_all401').mean().reset_index()\n",
    "H_child['record_id'] = [x.replace('sub-', '') for x in H_child['H_all401']]"
   ]
  },
  {
   "cell_type": "code",
   "execution_count": null,
   "id": "99997496",
   "metadata": {},
   "outputs": [],
   "source": [
    "normalize = pd.read_csv('../dataset/childhood/dat/normalize.csv')\n",
    "unnormalize = pd.read_csv('../dataset/childhood/dat/nonormalize.csv')\n",
    "H_child = pd.merge(H_child, normalize, on='record_id')\n",
    "H_child = H_child.iloc[:, 1:].sort_values(['record_id']).reset_index(drop=True)"
   ]
  },
  {
   "cell_type": "code",
   "execution_count": 10,
   "id": "a9155570",
   "metadata": {},
   "outputs": [],
   "source": [
    "part_child = pd.merge(part_child, normalize, left_on='Var1', right_on='record_id')\n",
    "part_child = part_child.iloc[:, 1:].sort_values(['record_id']).reset_index(drop=True)\n",
    "part_adult = part_adult.iloc[:, 1:]"
   ]
  },
  {
   "cell_type": "code",
   "execution_count": 11,
   "id": "b1b3fccd",
   "metadata": {},
   "outputs": [],
   "source": [
    "allf_child = allf_child.groupby('fsid').mean().reset_index()\n",
    "allf_child = pd.merge(allf_child, normalize, left_on='fsid', right_on='record_id')\n",
    "allf_child = allf_child.iloc[:, 1:].sort_values(['record_id']).reset_index(drop=True)"
   ]
  },
  {
   "cell_type": "code",
   "execution_count": 12,
   "id": "70f40329",
   "metadata": {},
   "outputs": [],
   "source": [
    "mean = H_child.iloc[:, :400].mean(axis=1)\n",
    "H_child['mean'] = mean\n",
    "part_child = part_child[H_child['mean']<1.6].reset_index(drop=True)\n",
    "allf_child = allf_child[H_child['mean']<1.6].reset_index(drop=True)\n",
    "H_child = H_child[H_child['mean']<1.6].reset_index(drop=True)"
   ]
  },
  {
   "cell_type": "code",
   "execution_count": 13,
   "id": "3483c25b",
   "metadata": {},
   "outputs": [],
   "source": [
    "concat_child = pd.DataFrame([SAaxis['finalrank.wholebrain'].reset_index(drop=True), part_child.iloc[:, :400].mean().values, H_child.iloc[:, :400].mean().values, allf_child.iloc[:, :400].mean().values]).T\n",
    "concat_child.columns = ['SArank', 'part', 'H', 'allf']\n",
    "concat_child.to_csv('../derivatives/childhood/original.csv', index=False)"
   ]
  },
  {
   "cell_type": "code",
   "execution_count": 14,
   "id": "017281ef",
   "metadata": {},
   "outputs": [],
   "source": [
    "concat_adult = pd.DataFrame([SAaxis['finalrank.wholebrain'].reset_index(drop=True), part_adult.iloc[:, :400].mean().values, H_adult.iloc[:, :400].mean().values, allf_adult.iloc[:, :400].mean().values]).T\n",
    "concat_adult.columns = ['SArank', 'part', 'H', 'allf']\n",
    "concat_adult.to_csv('../derivatives/adult/original.csv', index=False)"
   ]
  },
  {
   "cell_type": "code",
   "execution_count": 15,
   "id": "f8dc9b54",
   "metadata": {},
   "outputs": [],
   "source": [
    "ages = []\n",
    "for fsid in H_child.record_id:\n",
    "    ages.append(unnormalize[unnormalize.record_id==fsid].age_scan.values[0])\n",
    "H_child['age_scan'] = ages\n",
    "part_child['age_scan'] = ages"
   ]
  },
  {
   "cell_type": "code",
   "execution_count": 16,
   "id": "a706e248",
   "metadata": {},
   "outputs": [],
   "source": [
    "ages = []\n",
    "for fsid in allf_child.record_id:\n",
    "    ages.append(unnormalize[unnormalize.record_id==fsid].age_scan.values[0])\n",
    "allf_child['age_scan'] = ages"
   ]
  },
  {
   "cell_type": "code",
   "execution_count": 17,
   "id": "558aeae2",
   "metadata": {},
   "outputs": [],
   "source": [
    "H_child.to_csv('../derivatives/childhood/hurst.csv', index=False)\n",
    "part_child.to_csv('../derivatives/childhood/part.csv', index=False)\n",
    "allf_child.to_csv('../derivatives/childhood/allf.csv', index=False)"
   ]
  },
  {
   "cell_type": "code",
   "execution_count": 18,
   "id": "b142a376",
   "metadata": {},
   "outputs": [],
   "source": [
    "df = pd.read_csv('../dataset/rna/brodmann_schaefer_0.5.csv')\n",
    "Visual = [x for x in df.columns if 'BA17' in x]\n",
    "Auditory = [x for x in df.columns if 'BA41' in x]\n",
    "Sensory =  [x for x in df.columns if 'BA1_3' in x] + [x for x in df.columns if 'BA2' in x]\n",
    "Motor = [x for x in df.columns if 'BA4' in x]\n",
    "vPFC = [x for x in df.columns if 'BA44' in x] +  [x for x in df.columns if 'BA45' in x]\n",
    "dPFC = [x for x in df.columns if 'BA8' in x] + [x for x in df.columns if 'BA9' in x] + [x for x in df.columns if 'BA46' in x]\n",
    "OFC = [x for x in df.columns if 'BA11' in x] + [x for x in df.columns if 'BA12' in x]+ [x for x in df.columns if 'BA13' in x]  + [x for x in df.columns if 'BA14_' in x]\n",
    "TEv = [x for x in df.columns if 'BA20' in x]\n",
    "ACC = [x for x in df.columns if 'BA24' in x] + [x for x in df.columns if 'BA25' in x] + [x for x in df.columns if 'BA32' in x]\n",
    "STC = [x for x in df.columns if 'BA22' in x]\n",
    "IPC = [x for x in df.columns if 'BA39' in x] +  [x for x in df.columns if 'BA40' in x]\n",
    "H_child_brodmann = pd.DataFrame()\n",
    "H_child_brodmann_mean = pd.DataFrame()\n",
    "sas = []\n",
    "for i, x in enumerate([Visual, Auditory, Sensory, Motor, vPFC, dPFC, OFC, TEv, ACC, STC, IPC]):\n",
    "    included = df.loc[:, x].sum(axis=1)>0\n",
    "    H_child_brodmann = pd.concat([H_child_brodmann, H_child.iloc[:, df[included==True].index]], axis=1)\n",
    "    H_child_brodmann_mean = pd.concat([H_child_brodmann_mean, H_child.iloc[:, df[included==True].index].mean(axis=1)], axis=1)\n",
    "    sas += list(np.repeat(i, len(df[included==True].index)))"
   ]
  },
  {
   "cell_type": "code",
   "execution_count": 19,
   "id": "b796294d",
   "metadata": {},
   "outputs": [
    {
     "name": "stdout",
     "output_type": "stream",
     "text": [
      "Int64Index([205, 206], dtype='int64')\n",
      "Int64Index([44], dtype='int64')\n",
      "Int64Index([52, 53, 72, 73, 85, 108, 116, 133, 134, 168, 171, 189, 316, 335,\n",
      "            362],\n",
      "           dtype='int64')\n",
      "Int64Index([44, 86, 103, 105, 109, 173, 182, 247, 309, 313], dtype='int64')\n",
      "Int64Index([86, 172, 173, 187], dtype='int64')\n",
      "Int64Index([171], dtype='int64')\n",
      "Int64Index([105, 309], dtype='int64')\n",
      "Int64Index([349], dtype='int64')\n",
      "Int64Index([88, 314], dtype='int64')\n",
      "Int64Index([116], dtype='int64')\n",
      "Int64Index([108, 316], dtype='int64')\n"
     ]
    }
   ],
   "source": [
    "shcaferbrod = pd.DataFrame(df.region)\n",
    "shcaferbrod['group'] = np.zeros(400)\n",
    "for i, x in enumerate([Visual, Auditory, Sensory, Motor, IPC, STC, vPFC, dPFC, OFC, TEv, ACC]):\n",
    "    included = df.loc[:, x].sum(axis=1)>0\n",
    "    shcaferbrod['included'] = included\n",
    "    shcaferbrod.loc[shcaferbrod.included==True, 'group']=i+1\n",
    "    print(shcaferbrod[shcaferbrod.included==True].index)\n",
    "shcaferbrod.iloc[:, :-1].to_csv('../dataset/rna/brodmann_schafer_clustering.csv', index=False)"
   ]
  },
  {
   "cell_type": "code",
   "execution_count": 20,
   "id": "07cec2c2",
   "metadata": {},
   "outputs": [
    {
     "data": {
      "text/plain": [
       "(32, 3)"
      ]
     },
     "execution_count": 20,
     "metadata": {},
     "output_type": "execute_result"
    }
   ],
   "source": [
    "shcaferbrod[shcaferbrod.group>0].shape"
   ]
  },
  {
   "cell_type": "code",
   "execution_count": 21,
   "id": "ed98734c",
   "metadata": {},
   "outputs": [],
   "source": [
    "sa = pd.DataFrame(sas)\n",
    "sa.columns = ['SArank']\n",
    "sa.to_csv('../derivatives/childhood/brodmann_sa.csv', index=False)"
   ]
  },
  {
   "cell_type": "code",
   "execution_count": 22,
   "id": "fe10b02b",
   "metadata": {},
   "outputs": [],
   "source": [
    "H_child_brodmann['age_scan'] = H_child.age_scan\n",
    "H_child_brodmann['male'] = H_child.male\n",
    "H_child_brodmann['t1_rating_avg'] = H_child.t1_rating_avg\n",
    "H_child_brodmann_mean['age_scan'] = H_child.age_scan\n",
    "H_child_brodmann_mean['male'] = H_child.male\n",
    "H_child_brodmann_mean['t1_rating_avg'] = H_child.t1_rating_avg"
   ]
  },
  {
   "cell_type": "code",
   "execution_count": 23,
   "id": "dbea6298",
   "metadata": {},
   "outputs": [],
   "source": [
    "H_child_brodmann.to_csv('../derivatives/childhood/hurst_brodmann.csv', index=False)\n",
    "H_child_brodmann_mean.to_csv('../derivatives/childhood/hurst_brodmann_mean.csv', index=False)"
   ]
  },
  {
   "cell_type": "code",
   "execution_count": 24,
   "id": "6b2b5d94",
   "metadata": {},
   "outputs": [],
   "source": [
    "part_child[part_child['age_scan']<9].reset_index(drop=True).to_csv('../derivatives/childhood/part_sensitivity.csv', index=False)\n",
    "H_child[H_child['age_scan']<9].reset_index(drop=True).to_csv('../derivatives/childhood/hurst_sensitivity.csv', index=False)\n",
    "allf_child[allf_child['age_scan']<9].reset_index(drop=True).to_csv('../derivatives/childhood/allf_sensitivity.csv', index=False)"
   ]
  },
  {
   "cell_type": "markdown",
   "id": "f8cd3710",
   "metadata": {},
   "source": [
    "sa = SAaxis.sort_values('finalrank.wholebrain').index.values\n",
    "H_sort = pd.DataFrame()\n",
    "for x in sa:\n",
    "    H_sort = pd.concat([H_sort, H_child.iloc[:, x]], axis=1)\n",
    "#H_all = H_sort.to_numpy().flatten()\n",
    "#H_sort_zscore = pd.DataFrame(stats.zscore(H_all).reshape(H_sort.shape))\n",
    "H_sort_zscore = stats.zscore(H_sort)\n",
    "H_sort_zscore.columns = H_sort.columns\n",
    "H_sort_zscore['fsid'] = H_child['fsid']\n",
    "H_sort_zscore['age_scan'] = H_child['age_scan']\n",
    "H_sort_zscore['age_square_scan'] = H_child['age_square_scan']\n",
    "H_sort_zscore['male'] = H_child['male']\n",
    "H_sort_zscore['t1_rating_avg'] = H_child['t1_rating_avg']\n",
    "H_sort_zscore.to_csv('../derivatives/childhood/hurst_sorted.csv', index=False)"
   ]
  },
  {
   "cell_type": "markdown",
   "id": "a6f92257",
   "metadata": {},
   "source": [
    "a = pd.DataFrame([H_sort_zscore.iloc[:, :133].mean(axis=1), H_sort_zscore.iloc[:,:133:266].mean(axis=1), H_sort_zscore.iloc[:, 266:400].mean(axis=1)]).T\n",
    "a['age_scan'] =  H_child['age_scan']"
   ]
  },
  {
   "cell_type": "code",
   "execution_count": 25,
   "id": "630e10ef",
   "metadata": {},
   "outputs": [],
   "source": [
    "sa = SAaxis.sort_values('finalrank.wholebrain').index.values\n",
    "H_sort = pd.DataFrame()\n",
    "for x in sa:\n",
    "    H_sort = pd.concat([H_sort, H_child.iloc[:, x]], axis=1)\n",
    "H_all = H_sort.to_numpy().flatten()\n",
    "H_sort_zscore = pd.DataFrame(stats.zscore(H_all).reshape(H_sort.shape))\n",
    "H_sort_zscore = stats.zscore(H_sort)\n",
    "H_sort_zscore.columns = H_sort.columns\n",
    "H_sort_zscore['fsid'] = H_child['fsid']\n",
    "H_sort_zscore['age_scan'] = H_child['age_scan']\n",
    "H_sort_zscore['age_square_scan'] = H_child['age_square_scan']\n",
    "H_sort_zscore['male'] = H_child['male']\n",
    "H_sort_zscore['t1_rating_avg'] = H_child['t1_rating_avg']\n",
    "H_sort_zscore.to_csv('../derivatives/childhood/hurst_sorted.csv', index=False)"
   ]
  },
  {
   "cell_type": "markdown",
   "id": "484dbeb3",
   "metadata": {},
   "source": [
    "a = pd.DataFrame([H_sort_zscore.iloc[:, :133].mean(axis=1), H_sort_zscore.iloc[:,:133:266].mean(axis=1), H_sort_zscore.iloc[:, 266:400].mean(axis=1)]).T\n",
    "a['age_scan'] =  H_child['age_scan']"
   ]
  },
  {
   "cell_type": "markdown",
   "id": "c731eddf",
   "metadata": {},
   "source": [
    "sa = SAaxis.sort_values('finalrank.wholebrain').index.values\n",
    "part_sort = pd.DataFrame()\n",
    "for x in sa:\n",
    "    part_sort = pd.concat([part_sort, part_child.iloc[:, x]], axis=1)\n",
    "part_sort = stats.zscore(part_sort)\n",
    "part_sort['fsid'] = part_child['fsid']\n",
    "part_sort['age_scan'] = part_child['age_scan']\n",
    "part_sort['age_square_scan'] = part_child['age_square_scan']\n",
    "part_sort['male'] = part_child['male']\n",
    "part_sort['t1_rating_avg'] = part_child['t1_rating_avg']\n",
    "part_sort.to_csv('../derivatives/childhood/part_sorted.csv', index=False)"
   ]
  },
  {
   "cell_type": "code",
   "execution_count": 26,
   "id": "25ba34f4",
   "metadata": {},
   "outputs": [],
   "source": [
    "sa = SAaxis.sort_values('finalrank.wholebrain').index.values\n",
    "part_sort = pd.DataFrame()\n",
    "for x in sa:\n",
    "    part_sort = pd.concat([part_sort, part_child.iloc[:, x]], axis=1)\n",
    "H_all = part_sort.to_numpy().flatten()\n",
    "part_sort_zscore = pd.DataFrame(stats.zscore(H_all).reshape(part_sort.shape))\n",
    "part_sort_zscore = stats.zscore(part_sort)\n",
    "part_sort_zscore.columns = part_sort.columns\n",
    "part_sort_zscore['fsid'] = H_child['fsid']\n",
    "part_sort_zscore['age_scan'] = H_child['age_scan']\n",
    "part_sort_zscore['age_square_scan'] = H_child['age_square_scan']\n",
    "part_sort_zscore['male'] = H_child['male']\n",
    "part_sort_zscore['t1_rating_avg'] = H_child['t1_rating_avg']\n",
    "part_sort_zscore.to_csv('../derivatives/childhood/part_sorted.csv', index=False)"
   ]
  },
  {
   "cell_type": "code",
   "execution_count": 27,
   "id": "a3b74f97",
   "metadata": {},
   "outputs": [],
   "source": [
    "sa = SAaxis.sort_values('finalrank.wholebrain').index.values\n",
    "allf_sort = pd.DataFrame()\n",
    "for x in sa:\n",
    "    allf_sort = pd.concat([allf_sort, allf_child.iloc[:, x]], axis=1)\n",
    "H_all = allf_sort.to_numpy().flatten()\n",
    "allf_sort_zscore = pd.DataFrame(stats.zscore(H_all).reshape(allf_sort.shape))\n",
    "allf_sort_zscore = stats.zscore(allf_sort)\n",
    "allf_sort_zscore.columns = allf_sort.columns\n",
    "allf_sort_zscore['fsid'] = allf_child['fsid_y']\n",
    "allf_sort_zscore['age_scan'] = allf_child['age_scan']\n",
    "allf_sort_zscore['age_square_scan'] = allf_child['age_square_scan']\n",
    "allf_sort_zscore['male'] = allf_child['male']\n",
    "allf_sort_zscore['t1_rating_avg'] = allf_child['t1_rating_avg']\n",
    "allf_sort_zscore.to_csv('../derivatives/childhood/allf_sorted.csv', index=False)"
   ]
  },
  {
   "cell_type": "markdown",
   "id": "d353c5bf",
   "metadata": {},
   "source": [
    "allf_sort = pd.DataFrame()\n",
    "for x in sa:\n",
    "    allf_sort = pd.concat([allf_sort, allf_child.iloc[:, x]], axis=1)\n",
    "#allf_sort = stats.zscore(part_sort)\n",
    "allf_sort['fsid'] = allf_child['fsid_y']\n",
    "allf_sort['age_scan'] = allf_child['age_scan']\n",
    "allf_sort['age_square_scan'] = allf_child['age_square_scan']\n",
    "allf_sort['male'] = allf_child['male']\n",
    "allf_sort['t1_rating_avg'] = allf_child['t1_rating_avg']\n",
    "allf_sort.to_csv('../derivatives/childhood/allf_sorted.csv', index=False)"
   ]
  },
  {
   "cell_type": "code",
   "execution_count": 28,
   "id": "04dff845",
   "metadata": {},
   "outputs": [],
   "source": [
    "H_sort_zscore[H_sort_zscore['age_scan']<8].reset_index(drop=True).to_csv('../derivatives/childhood/hurst_sorted_sensitivity.csv')\n",
    "part_sort_zscore[part_sort_zscore['age_scan']<8].reset_index(drop=True).to_csv('../derivatives/childhood/part_sorted_sensitivity.csv')\n",
    "allf_sort_zscore[allf_sort_zscore['age_scan']<8].reset_index(drop=True).to_csv('../derivatives/childhood/allf_sorted_sensitivity.csv')"
   ]
  },
  {
   "cell_type": "code",
   "execution_count": 30,
   "id": "e947bd48",
   "metadata": {},
   "outputs": [],
   "source": [
    "concat_child = pd.DataFrame([part_child.iloc[:, :400].mean(axis=1).values, allf_child.iloc[:, :400].mean(axis=1).values, H_child.iloc[:, :400].mean(axis=1).values, part_child.age_scan.values]).T\n",
    "concat_child.columns = ['part', 'allf',  'H', 'age']\n",
    "concat_child.sort_values('age').reset_index(drop=True).to_csv('../derivatives/childhood/indv.csv', index=False)"
   ]
  },
  {
   "cell_type": "code",
   "execution_count": 31,
   "id": "361cc935",
   "metadata": {},
   "outputs": [],
   "source": [
    "H_income = H_child.dropna(subset=['income_median']).sort_values('income_median').reset_index(drop=True)\n",
    "H_income.iloc[:int(H_income.shape[0]/2), :].to_csv('../derivatives/childhood/H_income_low.csv', index=False)\n",
    "H_income.iloc[int(H_income.shape[0]/2):, :].to_csv('../derivatives/childhood/H_income_high.csv', index=False)\n",
    "part_income = part_child.dropna(subset=['income_median']).sort_values('income_median').reset_index(drop=True)\n",
    "part_income.iloc[:int(H_income.shape[0]/2), :].to_csv('../derivatives/childhood/part_income_low.csv', index=False)\n",
    "part_income.iloc[int(H_income.shape[0]/2):, :].to_csv('../derivatives/childhood/part_income_high.csv', index=False)"
   ]
  },
  {
   "cell_type": "code",
   "execution_count": 32,
   "id": "ffb274fd",
   "metadata": {},
   "outputs": [],
   "source": [
    "H_income_sensitivity = H_income[H_income.age_scan<9]\n",
    "H_income_sensitivity.iloc[:int(H_income_sensitivity.shape[0]/2), :].to_csv('../derivatives/childhood/H_income_sensitivity_low.csv', index=False)\n",
    "H_income_sensitivity.iloc[int(H_income_sensitivity.shape[0]/2):, :].to_csv('../derivatives/childhood/H_income_sensitivity_high.csv', index=False)\n",
    "part_income_sensitivity = part_income[part_income.age_scan<9]\n",
    "part_income_sensitivity.iloc[:int(H_income_sensitivity.shape[0]/2), :].to_csv('../derivatives/childhood/part_income_sensitivity_low.csv', index=False)\n",
    "part_income_sensitivity.iloc[int(H_income_sensitivity.shape[0]/2):, :].to_csv('../derivatives/childhood/part_income_sensitivity_high.csv', index=False)"
   ]
  },
  {
   "cell_type": "code",
   "execution_count": 33,
   "id": "fb976b4e",
   "metadata": {},
   "outputs": [],
   "source": [
    "brainmap = pd.DataFrame([np.zeros(400), np.zeros(400), np.zeros(400), np.zeros(400)]).T"
   ]
  },
  {
   "cell_type": "code",
   "execution_count": 34,
   "id": "b8c49aed",
   "metadata": {},
   "outputs": [],
   "source": [
    "brainmap.loc[SAaxis.sort_values('finalrank.wholebrain').index[:133], 0]=1\n",
    "brainmap.loc[SAaxis.sort_values('finalrank.wholebrain').index[133:266], 1]=1\n",
    "brainmap.loc[SAaxis.sort_values('finalrank.wholebrain').index[266:], 2]=1\n",
    "brainmap.loc[SAaxis.sort_values('finalrank.wholebrain').index[266:], 2]=1\n",
    "brainmap['X3'] = SAaxis['finalrank.wholebrain']"
   ]
  },
  {
   "cell_type": "code",
   "execution_count": 35,
   "id": "26219fd3",
   "metadata": {},
   "outputs": [],
   "source": [
    "brainmap.to_csv('../derivatives/childhood/brainmap.csv', index=False)"
   ]
  }
 ],
 "metadata": {
  "kernelspec": {
   "display_name": "Python 3",
   "language": "python",
   "name": "python3"
  },
  "language_info": {
   "codemirror_mode": {
    "name": "ipython",
    "version": 3
   },
   "file_extension": ".py",
   "mimetype": "text/x-python",
   "name": "python",
   "nbconvert_exporter": "python",
   "pygments_lexer": "ipython3",
   "version": "3.8.8"
  }
 },
 "nbformat": 4,
 "nbformat_minor": 5
}
