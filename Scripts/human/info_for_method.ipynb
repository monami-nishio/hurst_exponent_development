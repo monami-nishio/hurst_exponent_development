{
 "cells": [
  {
   "cell_type": "code",
   "execution_count": 1,
   "id": "6ce8a23e",
   "metadata": {},
   "outputs": [],
   "source": [
    "import pandas as pd\n",
    "import numpy as np"
   ]
  },
  {
   "cell_type": "code",
   "execution_count": 3,
   "id": "4c45bfbd",
   "metadata": {},
   "outputs": [],
   "source": [
    "info = pd.read_csv('../Dataset/childhood/dat/nonormalize.csv')"
   ]
  },
  {
   "cell_type": "code",
   "execution_count": 4,
   "id": "7ee8ccc5",
   "metadata": {},
   "outputs": [],
   "source": [
    "H_income = pd.read_csv('../Derivatives/childhood/H_income.csv')"
   ]
  },
  {
   "cell_type": "code",
   "execution_count": 5,
   "id": "ee0b1976",
   "metadata": {},
   "outputs": [
    {
     "name": "stdout",
     "output_type": "stream",
     "text": [
      "42500.0\n",
      "69302.35575405444\n",
      "128\n"
     ]
    }
   ],
   "source": [
    "# income median\n",
    "merge = pd.merge(H_income, info, how='left', on='fsid').income_median_y\n",
    "print(np.median(merge))\n",
    "print(np.std(merge))\n",
    "print(len(merge))"
   ]
  },
  {
   "cell_type": "code",
   "execution_count": 8,
   "id": "284de2a9",
   "metadata": {},
   "outputs": [],
   "source": [
    "H_child = pd.read_csv('../Derivatives/childhood/hurst.csv')"
   ]
  },
  {
   "cell_type": "code",
   "execution_count": 9,
   "id": "1eacbaa6",
   "metadata": {},
   "outputs": [
    {
     "name": "stdout",
     "output_type": "stream",
     "text": [
      "4.011034\n",
      "10.59011\n",
      "6.551587507352939\n",
      "1.3572760627845324\n",
      "0.4632352941176471\n"
     ]
    }
   ],
   "source": [
    "# age mean, std\n",
    "print(H_child.age_scan.min())\n",
    "print(H_child.age_scan.max())\n",
    "print(H_child.age_scan.mean())\n",
    "print(H_child.age_scan.std())\n",
    "print(H_child.male.sum()/H_child.shape[0])"
   ]
  },
  {
   "cell_type": "code",
   "execution_count": 31,
   "id": "03a03075",
   "metadata": {},
   "outputs": [
    {
     "name": "stdout",
     "output_type": "stream",
     "text": [
      "0.5294117647058824\n",
      "0.4264705882352941\n",
      "0.125\n",
      "0.051470588235294115\n"
     ]
    }
   ],
   "source": [
    "# ethnicity\n",
    "ethnicity = pd.read_csv('../Dataset/childhood/dat/CBPD_data_DMD_2023.11.14.csv')\n",
    "ethnicity['fsid'] = ['sub-'+x for x in ethnicity.record_id]\n",
    "ethnicity = pd.merge(H_child, ethnicity, how='left', on='fsid')\n",
    "for x in ['race_black', 'race_white', 'race_asian', 'race_other']:\n",
    "    print(ethnicity[x].sum()/ethnicity.shape[0])"
   ]
  },
  {
   "cell_type": "code",
   "execution_count": null,
   "id": "4f218aa1",
   "metadata": {},
   "outputs": [],
   "source": []
  }
 ],
 "metadata": {
  "kernelspec": {
   "display_name": "Python 3",
   "language": "python",
   "name": "python3"
  },
  "language_info": {
   "codemirror_mode": {
    "name": "ipython",
    "version": 3
   },
   "file_extension": ".py",
   "mimetype": "text/x-python",
   "name": "python",
   "nbconvert_exporter": "python",
   "pygments_lexer": "ipython3",
   "version": "3.8.8"
  }
 },
 "nbformat": 4,
 "nbformat_minor": 5
}
