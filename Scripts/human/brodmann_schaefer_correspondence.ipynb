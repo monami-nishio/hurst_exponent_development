{
 "cells": [
  {
   "cell_type": "code",
   "execution_count": 1,
   "id": "a31f172b",
   "metadata": {},
   "outputs": [],
   "source": [
    "import numpy as np\n",
    "import pandas as pd\n",
    "import glob\n",
    "from scipy import stats\n",
    "import os\n",
    "import seaborn as sns\n",
    "import matplotlib.pyplot as plt\n",
    "from sklearn.linear_model import LinearRegression\n",
    "import statsmodels.api as sm\n",
    "import cv2"
   ]
  },
  {
   "cell_type": "code",
   "execution_count": 8,
   "id": "b142a376",
   "metadata": {},
   "outputs": [
    {
     "name": "stdout",
     "output_type": "stream",
     "text": [
      "Index([205, 206], dtype='int64')\n",
      "Index([44], dtype='int64')\n",
      "Index([52, 53, 72, 73, 85, 108, 116, 133, 134, 168, 171, 189, 316, 335, 362], dtype='int64')\n",
      "Index([44, 86, 103, 105, 109, 173, 182, 247, 309, 313], dtype='int64')\n",
      "Index([86, 172, 173, 187], dtype='int64')\n",
      "Index([171], dtype='int64')\n",
      "Index([105, 309], dtype='int64')\n",
      "Index([349], dtype='int64')\n",
      "Index([88, 314], dtype='int64')\n",
      "Index([116], dtype='int64')\n",
      "Index([108, 316], dtype='int64')\n"
     ]
    }
   ],
   "source": [
    "df = pd.read_csv('../../Dataset/rna/brodmann_schaefer_0.5.csv')\n",
    "SAaxis = pd.read_csv('../../Modules/human/Sensorimotor_Association_Axis_AverageRanks.csv')\n",
    "Visual = [x for x in df.columns if 'BA17' in x]\n",
    "Auditory = [x for x in df.columns if 'BA41' in x]\n",
    "Sensory =  [x for x in df.columns if 'BA1_3' in x] + [x for x in df.columns if 'BA2' in x]\n",
    "Motor = [x for x in df.columns if 'BA4' in x]\n",
    "vPFC = [x for x in df.columns if 'BA44' in x] +  [x for x in df.columns if 'BA45' in x]\n",
    "dPFC = [x for x in df.columns if 'BA8' in x] + [x for x in df.columns if 'BA9' in x] + [x for x in df.columns if 'BA46' in x]\n",
    "OFC = [x for x in df.columns if 'BA11' in x] + [x for x in df.columns if 'BA12' in x]+ [x for x in df.columns if 'BA13' in x]  + [x for x in df.columns if 'BA14_' in x]\n",
    "TEv = [x for x in df.columns if 'BA20' in x]\n",
    "ACC = [x for x in df.columns if 'BA24' in x] + [x for x in df.columns if 'BA25' in x] + [x for x in df.columns if 'BA32' in x]\n",
    "STC = [x for x in df.columns if 'BA22' in x]\n",
    "IPC = [x for x in df.columns if 'BA39' in x] +  [x for x in df.columns if 'BA40' in x]\n",
    "shcaferbrod = pd.DataFrame(df.region)\n",
    "shcaferbrod['group'] = np.zeros(400)\n",
    "for i, x in enumerate([Visual, Auditory, Sensory, Motor, IPC, STC, vPFC, dPFC, OFC, TEv, ACC]):\n",
    "    included = df.loc[:, x].sum(axis=1)>0\n",
    "    shcaferbrod['included'] = included\n",
    "    shcaferbrod.loc[shcaferbrod.included==True, 'group']=i+1\n",
    "    print(shcaferbrod[shcaferbrod.included==True].index)\n",
    "shcaferbrod.iloc[:, :-1].to_csv('../../Dataset/rna/brodmann_schafer_clustering.csv', index=False)"
   ]
  }
 ],
 "metadata": {
  "kernelspec": {
   "display_name": "Python 3",
   "language": "python",
   "name": "python3"
  },
  "language_info": {
   "codemirror_mode": {
    "name": "ipython",
    "version": 3
   },
   "file_extension": ".py",
   "mimetype": "text/x-python",
   "name": "python",
   "nbconvert_exporter": "python",
   "pygments_lexer": "ipython3",
   "version": "3.8.8"
  }
 },
 "nbformat": 4,
 "nbformat_minor": 5
}
